{
  "nbformat": 4,
  "nbformat_minor": 0,
  "metadata": {
    "colab": {
      "provenance": [],
      "gpuType": "T4"
    },
    "kernelspec": {
      "name": "python3",
      "display_name": "Python 3"
    },
    "language_info": {
      "name": "python"
    },
    "accelerator": "GPU"
  },
  "cells": [
    {
      "cell_type": "code",
      "execution_count": 1,
      "metadata": {
        "id": "IP6hrDZ2JJEl"
      },
      "outputs": [],
      "source": [
        "import tensorflow as tf"
      ]
    },
    {
      "cell_type": "code",
      "source": [
        "from tensorflow.keras.datasets import imdb"
      ],
      "metadata": {
        "id": "TPsqkOs7Ma2B"
      },
      "execution_count": 2,
      "outputs": []
    },
    {
      "cell_type": "code",
      "source": [
        "(x_train,y_train),(x_test,y_test) = imdb.load_data(num_words=300)"
      ],
      "metadata": {
        "id": "1f8Eu1bQMhUa"
      },
      "execution_count": 3,
      "outputs": []
    },
    {
      "cell_type": "code",
      "source": [
        "x_train.shape, y_train.shape"
      ],
      "metadata": {
        "colab": {
          "base_uri": "https://localhost:8080/"
        },
        "id": "qh6lfg3QMpmx",
        "outputId": "b68b356f-b99e-4e9f-d506-ce36b5446580"
      },
      "execution_count": 4,
      "outputs": [
        {
          "output_type": "execute_result",
          "data": {
            "text/plain": [
              "((25000,), (25000,))"
            ]
          },
          "metadata": {},
          "execution_count": 4
        }
      ]
    },
    {
      "cell_type": "code",
      "source": [
        "len(x_train[0])"
      ],
      "metadata": {
        "colab": {
          "base_uri": "https://localhost:8080/"
        },
        "id": "C7mcyAHlM1no",
        "outputId": "097ca6dc-af66-4400-c48e-969d02e1d871"
      },
      "execution_count": 5,
      "outputs": [
        {
          "output_type": "execute_result",
          "data": {
            "text/plain": [
              "218"
            ]
          },
          "metadata": {},
          "execution_count": 5
        }
      ]
    },
    {
      "cell_type": "code",
      "source": [
        "from sklearn.model_selection import train_test_split\n",
        "x_input,x_val,y_input,y_val = train_test_split(x_train,y_train,test_size=0.2,random_state=42)"
      ],
      "metadata": {
        "id": "_QlRmyJUNDcM"
      },
      "execution_count": 6,
      "outputs": []
    },
    {
      "cell_type": "code",
      "source": [
        "lengths = [len(x) for x in x_input]"
      ],
      "metadata": {
        "id": "nAURk9e1NV4c"
      },
      "execution_count": 7,
      "outputs": []
    },
    {
      "cell_type": "code",
      "source": [
        "import matplotlib.pyplot as plt\n",
        "plt.hist(lengths)\n",
        "plt.show()"
      ],
      "metadata": {
        "colab": {
          "base_uri": "https://localhost:8080/",
          "height": 430
        },
        "id": "3ECCCFlXNkLB",
        "outputId": "7dfd8768-fd3b-4724-a788-83bc0382afa4"
      },
      "execution_count": 8,
      "outputs": [
        {
          "output_type": "display_data",
          "data": {
            "text/plain": [
              "<Figure size 640x480 with 1 Axes>"
            ],
            "image/png": "[encoded data removed]"
          },
          "metadata": {}
        }
      ]
    },
    {
      "cell_type": "code",
      "source": [
        "# 문장의 길이가 다르므로 학습을 위해 길이를 맞춘다\n",
        "temp = [\n",
        "    [1,2,3,4],\n",
        "    [1,2,3],\n",
        "    [1,2,3,4,5,6,7,8,9],\n",
        "    [1,2,3,4,5,6]\n",
        "]\n",
        "from tensorflow.keras.preprocessing.sequence import pad_sequences"
      ],
      "metadata": {
        "id": "6nzlYXn0OBUh"
      },
      "execution_count": 9,
      "outputs": []
    },
    {
      "cell_type": "code",
      "source": [
        "temp2 = pad_sequences(temp,maxlen=10)\n",
        "temp2"
      ],
      "metadata": {
        "colab": {
          "base_uri": "https://localhost:8080/"
        },
        "id": "AiPMZG1oOnbx",
        "outputId": "a62b937a-2bee-47bc-d079-42d092a88b7f"
      },
      "execution_count": 10,
      "outputs": [
        {
          "output_type": "execute_result",
          "data": {
            "text/plain": [
              "array([[0, 0, 0, 0, 0, 0, 1, 2, 3, 4],\n",
              "       [0, 0, 0, 0, 0, 0, 0, 1, 2, 3],\n",
              "       [0, 1, 2, 3, 4, 5, 6, 7, 8, 9],\n",
              "       [0, 0, 0, 0, 1, 2, 3, 4, 5, 6]], dtype=int32)"
            ]
          },
          "metadata": {},
          "execution_count": 10
        }
      ]
    },
    {
      "cell_type": "code",
      "source": [
        "train_seq =  pad_sequences(x_input, maxlen = 100)\n",
        "val_seq =  pad_sequences(x_val, maxlen = 100)\n",
        "\n",
        "train_seq.shape, val_seq.shape"
      ],
      "metadata": {
        "colab": {
          "base_uri": "https://localhost:8080/"
        },
        "id": "DDGjBU38zQqN",
        "outputId": "af93d547-9f86-4fbe-ae4c-f010b3088d59"
      },
      "execution_count": 11,
      "outputs": [
        {
          "output_type": "execute_result",
          "data": {
            "text/plain": [
              "((20000, 100), (5000, 100))"
            ]
          },
          "metadata": {},
          "execution_count": 11
        }
      ]
    },
    {
      "cell_type": "code",
      "source": [
        "train_seq[0]"
      ],
      "metadata": {
        "colab": {
          "base_uri": "https://localhost:8080/"
        },
        "id": "ooUEbtCQzdR-",
        "outputId": "c40e73a1-f70c-4eef-8f05-897a5f41281f"
      },
      "execution_count": 12,
      "outputs": [
        {
          "output_type": "execute_result",
          "data": {
            "text/plain": [
              "array([ 10,   4,  20,   9,   2,   2,   2,   5,  45,   6,   2,   2,  33,\n",
              "       269,   8,   2, 142,   2,   5,   2,  17,  73,  17, 204,   5,   2,\n",
              "        19,  55,   2,   2,  92,  66, 104,  14,  20,  93,  76,   2, 151,\n",
              "        33,   4,  58,  12, 188,   2, 151,  12, 215,  69, 224, 142,  73,\n",
              "       237,   6,   2,   7,   2,   2, 188,   2, 103,  14,  31,  10,  10,\n",
              "         2,   7,   2,   5,   2,  80,  91,   2,  30,   2,  34,  14,  20,\n",
              "       151,  50,  26, 131,  49,   2,  84,  46,  50,  37,  80,  79,   6,\n",
              "         2,  46,   7,  14,  20,  10,  10,   2, 158], dtype=int32)"
            ]
          },
          "metadata": {},
          "execution_count": 12
        }
      ]
    },
    {
      "cell_type": "code",
      "source": [
        "from tensorflow import keras\n",
        "train_oh = keras.utils.to_categorical(train_seq)  # one-hot encoding\n",
        "val_oh = keras.utils.to_categorical(val_seq)  # one-hot encoding\n",
        "train_oh.shape, val_oh.shape"
      ],
      "metadata": {
        "colab": {
          "base_uri": "https://localhost:8080/"
        },
        "id": "WbaK-LiB0Xzu",
        "outputId": "d3bd430f-0f9d-4057-af67-684634623654"
      },
      "execution_count": 13,
      "outputs": [
        {
          "output_type": "execute_result",
          "data": {
            "text/plain": [
              "((20000, 100, 300), (5000, 100, 300))"
            ]
          },
          "metadata": {},
          "execution_count": 13
        }
      ]
    },
    {
      "cell_type": "markdown",
      "source": [
        "순환신경망"
      ],
      "metadata": {
        "id": "JXnHFkKzzvs0"
      }
    },
    {
      "cell_type": "code",
      "source": [
        "model = keras.Sequential()\n",
        "model.add(keras.layers.SimpleRNN(8, input_shape = (100,300)))\n",
        "model.add(keras.layers.Dense(1,activation='sigmoid'))"
      ],
      "metadata": {
        "id": "vjnuHc3bzhVT"
      },
      "execution_count": 14,
      "outputs": []
    },
    {
      "cell_type": "code",
      "source": [
        "model.compile(optimizer='adam', loss = 'binary_crossentropy',metrics='accuracy')\n",
        "checkpoint_cb = keras.callbacks.ModelCheckpoint('best-simplernn-model.h5',save_best_only=True)\n",
        "early_stopping_cb = keras.callbacks.EarlyStopping(patience=3, restore_best_weights=True)\n",
        "history = model.fit(train_oh, y_input,epochs=100,validation_data=(val_oh, y_val),\n",
        "                    batch_size=64,callbacks=[checkpoint_cb,early_stopping_cb])"
      ],
      "metadata": {
        "id": "3LfeSci91Dp-"
      },
      "execution_count": null,
      "outputs": []
    },
    {
      "cell_type": "code",
      "source": [],
      "metadata": {
        "id": "AnDLpFq628_b"
      },
      "execution_count": null,
      "outputs": []
    }
  ]
}