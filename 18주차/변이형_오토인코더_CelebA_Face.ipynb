{
  "nbformat": 4,
  "nbformat_minor": 0,
  "metadata": {
    "colab": {
      "provenance": []
    },
    "kernelspec": {
      "name": "python3",
      "display_name": "Python 3"
    },
    "language_info": {
      "name": "python"
    }
  },
  "cells": [
    {
      "cell_type": "code",
      "source": [
        "# https://github.com/leekyuyoung202306/PYTHON/tree/main/18주차\n",
        "# 에서 utils.py  vae_utils.py를 import 하기위해 파일을 가져온다"
      ],
      "metadata": {
        "id": "4M9eBl2AxiTR"
      },
      "execution_count": 5,
      "outputs": []
    },
    {
      "cell_type": "code",
      "source": [
        "!unzip '/content/drive/MyDrive/celeba_face/img_align_celeba.zip' -d celeba_face"
      ],
      "metadata": {
        "id": "0pUSGzgStT-r"
      },
      "execution_count": null,
      "outputs": []
    },
    {
      "cell_type": "code",
      "source": [
        "import numpy as np\n",
        "import matplotlib.pyplot as plt\n",
        "import tensorflow as tf\n",
        "import tensorflow.keras.backend as k\n",
        "from tensorflow.keras import layers,models,callbacks,utils,metrics,losses,optimizers\n",
        "from scipy.stats import norm\n",
        "import pandas as pd\n",
        "from utils import sample_batch,display\n",
        "from vae_utils import get_vector_from_label,add_vector_to_images,morph_faces"
      ],
      "metadata": {
        "id": "HD_D9ieMvwyM"
      },
      "execution_count": 3,
      "outputs": []
    },
    {
      "cell_type": "code",
      "source": [
        "IMAGE_SIZE = 64\n",
        "CHANNELS = 3\n",
        "BATCH_SIZE = 128\n",
        "NUM_FEATURES = 64\n",
        "Z_DIM = 200\n",
        "LEARNING_RATE = 0.0005\n",
        "EPOCHS = 10\n",
        "BETA = 2000\n",
        "LOAD_MODEL = False"
      ],
      "metadata": {
        "id": "9OS-MN6AxTpi"
      },
      "execution_count": 4,
      "outputs": []
    },
    {
      "cell_type": "code",
      "source": [
        "# 데이터 로드\n",
        "trian_data = utils.image_dataset_from_directory(\n",
        "    \"/content/celeba_face/img_align_celeba\",\n",
        "    labels = None,\n",
        "    color_mode = 'rgb',\n",
        "    image_size = (IMAGE_SIZE,IMAGE_SIZE),\n",
        "    batch_size = BATCH_SIZE,\n",
        "    shuffle=True,\n",
        "    seed=42,\n",
        "    interpolation = 'bilinear'\n",
        ")"
      ],
      "metadata": {
        "colab": {
          "base_uri": "https://localhost:8080/"
        },
        "id": "nrZ60UWHxcI5",
        "outputId": "a5e7214c-c75b-4cdf-847a-76b5b11b2c69"
      },
      "execution_count": 6,
      "outputs": [
        {
          "output_type": "stream",
          "name": "stdout",
          "text": [
            "Found 202599 files belonging to 1 classes.\n"
          ]
        }
      ]
    }
  ]
}