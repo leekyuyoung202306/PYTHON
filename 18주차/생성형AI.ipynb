{
  "nbformat": 4,
  "nbformat_minor": 0,
  "metadata": {
    "colab": {
      "provenance": [],
      "gpuType": "T4"
    },
    "kernelspec": {
      "name": "python3",
      "display_name": "Python 3"
    },
    "language_info": {
      "name": "python"
    },
    "accelerator": "GPU"
  },
  "cells": [
    {
      "cell_type": "code",
      "source": [
        "# mlp : 다층 퍼셉트론\n",
        "# cifar10 데이터셋 처리\n",
        "import numpy as np\n",
        "from tensorflow.keras import datasets, utils"
      ],
      "metadata": {
        "id": "SP5b721lQCCS"
      },
      "execution_count": 1,
      "outputs": []
    },
    {
      "cell_type": "code",
      "source": [
        "(x_train,y_train),(x_test,y_test) = datasets.cifar10.load_data()\n",
        "NUM_CLASSES = 10\n",
        "x_train = x_train.astype('float32')/255.0\n",
        "x_test = x_test.astype('float32')/255.0\n",
        "\n",
        "y_train = utils.to_categorical(y_train,NUM_CLASSES)\n",
        "y_test = utils.to_categorical(y_test,NUM_CLASSES)"
      ],
      "metadata": {
        "colab": {
          "base_uri": "https://localhost:8080/"
        },
        "id": "D1tp0TTtRgaA",
        "outputId": "1549ff85-52bd-4fb4-a185-079055f07a96"
      },
      "execution_count": 2,
      "outputs": [
        {
          "output_type": "stream",
          "name": "stdout",
          "text": [
            "Downloading data from https://www.cs.toronto.edu/~kriz/cifar-10-python.tar.gz\n",
            "170498071/170498071 [==============================] - 3s 0us/step\n"
          ]
        }
      ]
    },
    {
      "cell_type": "code",
      "source": [
        "x_train.shape, x_train[54,12,13,1]  # 54인덱스의 12,13위치에 있는 녹색의 채널 값"
      ],
      "metadata": {
        "colab": {
          "base_uri": "https://localhost:8080/"
        },
        "id": "unaqqSJAR5ot",
        "outputId": "e42477c5-8ecc-47a3-ad57-95b40d4e01bd"
      },
      "execution_count": 3,
      "outputs": [
        {
          "output_type": "execute_result",
          "data": {
            "text/plain": [
              "((50000, 32, 32, 3), 0.36862746)"
            ]
          },
          "metadata": {},
          "execution_count": 3
        }
      ]
    },
    {
      "cell_type": "code",
      "source": [
        "# Sequential 한 모델\n",
        "from tensorflow.keras import layers,models\n",
        "model = models.Sequential([\n",
        "    layers.Flatten(input_shape = x_train[0].shape ),  # 32 32 3\n",
        "    layers.Dense(200,activation='relu'),\n",
        "    layers.Dense(150,activation='relu'),\n",
        "    layers.Dense(NUM_CLASSES,activation='softmax'),\n",
        "])"
      ],
      "metadata": {
        "id": "bJWr7enoSOT9"
      },
      "execution_count": 4,
      "outputs": []
    },
    {
      "cell_type": "code",
      "source": [
        "# 함수형 API를 이용한 MLP\n",
        "input_layer = layers.Input(shape = x_train[0].shape)\n",
        "x = layers.Flatten()(input_layer)\n",
        "x = layers.Dense(200,activation='relu')(x)\n",
        "x = layers.Dense(150,activation='relu')(x)\n",
        "output_layer = layers.Dense(10,activation='softmax')(x)\n",
        "model = models.Model(input_layer,output_layer)"
      ],
      "metadata": {
        "id": "-fzswuggS4OC"
      },
      "execution_count": 5,
      "outputs": []
    },
    {
      "cell_type": "code",
      "source": [
        "model.summary()"
      ],
      "metadata": {
        "colab": {
          "base_uri": "https://localhost:8080/"
        },
        "id": "lr2m9AkYT24m",
        "outputId": "89288d95-11eb-44c4-cdc3-5061bdb0ed00"
      },
      "execution_count": 6,
      "outputs": [
        {
          "output_type": "stream",
          "name": "stdout",
          "text": [
            "Model: \"model\"\n",
            "_________________________________________________________________\n",
            " Layer (type)                Output Shape              Param #   \n",
            "=================================================================\n",
            " input_1 (InputLayer)        [(None, 32, 32, 3)]       0         \n",
            "                                                                 \n",
            " flatten_1 (Flatten)         (None, 3072)              0         \n",
            "                                                                 \n",
            " dense_3 (Dense)             (None, 200)               614600    \n",
            "                                                                 \n",
            " dense_4 (Dense)             (None, 150)               30150     \n",
            "                                                                 \n",
            " dense_5 (Dense)             (None, 10)                1510      \n",
            "                                                                 \n",
            "=================================================================\n",
            "Total params: 646260 (2.47 MB)\n",
            "Trainable params: 646260 (2.47 MB)\n",
            "Non-trainable params: 0 (0.00 Byte)\n",
            "_________________________________________________________________\n"
          ]
        }
      ]
    },
    {
      "cell_type": "code",
      "source": [
        "# 모델 컴파일\n",
        "import tensorflow as tf\n",
        "from tensorflow.keras import optimizers\n",
        "opt = optimizers.Adam(learning_rate = 0.0005)\n",
        "model.compile(loss=tf.keras.losses.categorical_crossentropy, optimizer=opt, metrics=['accuracy'])"
      ],
      "metadata": {
        "id": "si1zbgq6UY0L"
      },
      "execution_count": 7,
      "outputs": []
    },
    {
      "cell_type": "code",
      "source": [
        "# 모델 훈련\n",
        "model.fit(x_train,y_train,batch_size=32,epochs=10,shuffle = True)"
      ],
      "metadata": {
        "colab": {
          "base_uri": "https://localhost:8080/"
        },
        "id": "_i8ROKs7VKJM",
        "outputId": "4fcc4929-8e51-4e82-d4bb-04e1f987b070"
      },
      "execution_count": 8,
      "outputs": [
        {
          "output_type": "stream",
          "name": "stdout",
          "text": [
            "Epoch 1/10\n",
            "1563/1563 [==============================] - 11s 4ms/step - loss: 1.8415 - accuracy: 0.3357\n",
            "Epoch 2/10\n",
            "1563/1563 [==============================] - 5s 3ms/step - loss: 1.6719 - accuracy: 0.4042\n",
            "Epoch 3/10\n",
            "1563/1563 [==============================] - 6s 4ms/step - loss: 1.5936 - accuracy: 0.4324\n",
            "Epoch 4/10\n",
            "1563/1563 [==============================] - 5s 3ms/step - loss: 1.5465 - accuracy: 0.4467\n",
            "Epoch 5/10\n",
            "1563/1563 [==============================] - 6s 4ms/step - loss: 1.5013 - accuracy: 0.4661\n",
            "Epoch 6/10\n",
            "1563/1563 [==============================] - 5s 3ms/step - loss: 1.4695 - accuracy: 0.4766\n",
            "Epoch 7/10\n",
            "1563/1563 [==============================] - 5s 3ms/step - loss: 1.4440 - accuracy: 0.4847\n",
            "Epoch 8/10\n",
            "1563/1563 [==============================] - 5s 3ms/step - loss: 1.4108 - accuracy: 0.4984\n",
            "Epoch 9/10\n",
            "1563/1563 [==============================] - 5s 3ms/step - loss: 1.3889 - accuracy: 0.5051\n",
            "Epoch 10/10\n",
            "1563/1563 [==============================] - 6s 4ms/step - loss: 1.3685 - accuracy: 0.5146\n"
          ]
        },
        {
          "output_type": "execute_result",
          "data": {
            "text/plain": [
              "<keras.src.callbacks.History at 0x7a8d5fdd6050>"
            ]
          },
          "metadata": {},
          "execution_count": 8
        }
      ]
    },
    {
      "cell_type": "code",
      "source": [
        "preds = model.predict(x_test)\n",
        "preds"
      ],
      "metadata": {
        "id": "_FR4KbXBVXIR"
      },
      "execution_count": null,
      "outputs": []
    },
    {
      "cell_type": "code",
      "source": [
        "preds_index =  np.argmax( preds, axis = -1)\n",
        "actual_index = np.argmax( y_test, axis = -1)\n",
        "preds_index,actual_index"
      ],
      "metadata": {
        "colab": {
          "base_uri": "https://localhost:8080/"
        },
        "id": "933t08fZWGoj",
        "outputId": "165301b4-2ea0-42ec-ffff-7901ae2e2451"
      },
      "execution_count": 15,
      "outputs": [
        {
          "output_type": "execute_result",
          "data": {
            "text/plain": [
              "(array([5, 9, 0, ..., 3, 4, 7]), array([3, 8, 8, ..., 5, 1, 7]))"
            ]
          },
          "metadata": {},
          "execution_count": 15
        }
      ]
    },
    {
      "cell_type": "code",
      "source": [
        "sum(preds_index == actual_index)/len(actual_index)"
      ],
      "metadata": {
        "colab": {
          "base_uri": "https://localhost:8080/"
        },
        "id": "OoHmN4FpWLAz",
        "outputId": "37974ae9-548f-4ad3-a266-efee4e60659c"
      },
      "execution_count": 18,
      "outputs": [
        {
          "output_type": "execute_result",
          "data": {
            "text/plain": [
              "0.4826"
            ]
          },
          "metadata": {},
          "execution_count": 18
        }
      ]
    },
    {
      "cell_type": "code",
      "source": [
        "# cnn 모델을 생성\n",
        "# padding을 same이라고 하면 층을 통과한 텐서의 크기를 파악하기 쉬움\n",
        "# (입력높이 / 스트라이드, 입력너비/스트라이드, 필터개수)\n",
        "\n",
        "input_layer = layers.Input(shape = x_train[0].shape)  # 32 32 3\n",
        "con1 = layers.Conv2D(10,kernel_size=(4,4),strides=2,padding='same')(input_layer)  # (none, 16,16,10)\n",
        "con2 = layers.Conv2D(20,kernel_size=(3,3),strides=2,padding='same')(con1)  # (none, 8,8,20)\n",
        "flatten_layer = layers.Flatten()(con2) # 8*8*20   1280\n",
        "x = layers.Dense(200,activation='relu')(flatten_layer)\n",
        "x = layers.Dense(150,activation='relu')(x)\n",
        "output_layer = layers.Dense(NUM_CLASSES,activation='softmax')(x)\n",
        "model = models.Model(input_layer, output_layer)"
      ],
      "metadata": {
        "id": "i8vio5ggW8X8"
      },
      "execution_count": 25,
      "outputs": []
    },
    {
      "cell_type": "code",
      "source": [
        "model.summary()"
      ],
      "metadata": {
        "colab": {
          "base_uri": "https://localhost:8080/"
        },
        "id": "caReIr1LZGG0",
        "outputId": "8ddfac4c-1de8-4b8c-f1c0-2e1510a342c1"
      },
      "execution_count": 26,
      "outputs": [
        {
          "output_type": "stream",
          "name": "stdout",
          "text": [
            "Model: \"model_2\"\n",
            "_________________________________________________________________\n",
            " Layer (type)                Output Shape              Param #   \n",
            "=================================================================\n",
            " input_4 (InputLayer)        [(None, 32, 32, 3)]       0         \n",
            "                                                                 \n",
            " conv2d_2 (Conv2D)           (None, 16, 16, 10)        490       \n",
            "                                                                 \n",
            " conv2d_3 (Conv2D)           (None, 8, 8, 20)          1820      \n",
            "                                                                 \n",
            " flatten_3 (Flatten)         (None, 1280)              0         \n",
            "                                                                 \n",
            " dense_7 (Dense)             (None, 200)               256200    \n",
            "                                                                 \n",
            " dense_8 (Dense)             (None, 150)               30150     \n",
            "                                                                 \n",
            " dense_9 (Dense)             (None, 10)                1510      \n",
            "                                                                 \n",
            "=================================================================\n",
            "Total params: 290170 (1.11 MB)\n",
            "Trainable params: 290170 (1.11 MB)\n",
            "Non-trainable params: 0 (0.00 Byte)\n",
            "_________________________________________________________________\n"
          ]
        }
      ]
    },
    {
      "cell_type": "code",
      "source": [
        "opt = optimizers.Adam(learning_rate = 0.0005)  # 옵티마이져는 한번 학습되면 재 사용 안됨\n",
        "model.compile(loss=tf.keras.losses.categorical_crossentropy, optimizer=opt, metrics=['accuracy'])\n",
        "model.fit(x_train,y_train,batch_size=32,epochs=10,shuffle = True)"
      ],
      "metadata": {
        "colab": {
          "base_uri": "https://localhost:8080/"
        },
        "id": "7oH1W6FZZP2z",
        "outputId": "003d0975-aa4a-4592-d7fe-680fb4ed2be7"
      },
      "execution_count": 27,
      "outputs": [
        {
          "output_type": "stream",
          "name": "stdout",
          "text": [
            "Epoch 1/10\n",
            "1563/1563 [==============================] - 8s 4ms/step - loss: 1.6670 - accuracy: 0.4042\n",
            "Epoch 2/10\n",
            "1563/1563 [==============================] - 7s 4ms/step - loss: 1.3833 - accuracy: 0.5109\n",
            "Epoch 3/10\n",
            "1563/1563 [==============================] - 6s 4ms/step - loss: 1.2501 - accuracy: 0.5574\n",
            "Epoch 4/10\n",
            "1563/1563 [==============================] - 7s 4ms/step - loss: 1.1548 - accuracy: 0.5909\n",
            "Epoch 5/10\n",
            "1563/1563 [==============================] - 6s 4ms/step - loss: 1.0675 - accuracy: 0.6210\n",
            "Epoch 6/10\n",
            "1563/1563 [==============================] - 7s 5ms/step - loss: 0.9828 - accuracy: 0.6527\n",
            "Epoch 7/10\n",
            "1563/1563 [==============================] - 7s 4ms/step - loss: 0.8994 - accuracy: 0.6818\n",
            "Epoch 8/10\n",
            "1563/1563 [==============================] - 7s 4ms/step - loss: 0.8132 - accuracy: 0.7128\n",
            "Epoch 9/10\n",
            "1563/1563 [==============================] - 7s 4ms/step - loss: 0.7348 - accuracy: 0.7411\n",
            "Epoch 10/10\n",
            "1563/1563 [==============================] - 6s 4ms/step - loss: 0.6525 - accuracy: 0.7699\n"
          ]
        },
        {
          "output_type": "execute_result",
          "data": {
            "text/plain": [
              "<keras.src.callbacks.History at 0x7a8d202f14b0>"
            ]
          },
          "metadata": {},
          "execution_count": 27
        }
      ]
    },
    {
      "cell_type": "code",
      "source": [
        "# 학습을 원할하게 하고 과적합을 회피하는 방법\n",
        "# 배치정규화, 드랍아웃\n",
        "# 컨볼류션, 배치정규화, 드랍아웃 CNN\n",
        "input_layer = layers.Input(shape = x_train[0].shape)  # 32 32 3\n",
        "x = layers.Conv2D(32,kernel_size=(4,4),strides=1,padding='same')(input_layer)\n",
        "x = layers.BatchNormalization()(x)\n",
        "x = layers.LeakyReLU()(x)\n",
        "\n",
        "x = layers.Conv2D(32,kernel_size=(4,4),strides=2,padding='same')(x)\n",
        "x = layers.BatchNormalization()(x)\n",
        "x = layers.LeakyReLU()(x)\n",
        "\n",
        "x = layers.Conv2D(64,kernel_size=(4,4),strides=1,padding='same')(x)\n",
        "x = layers.BatchNormalization()(x)\n",
        "x = layers.LeakyReLU()(x)\n",
        "\n",
        "x = layers.Conv2D(64,kernel_size=(4,4),strides=2,padding='same')(x)\n",
        "x = layers.BatchNormalization()(x)\n",
        "x = layers.LeakyReLU()(x)\n",
        "\n",
        "x = layers.Flatten()(x)\n",
        "\n",
        "x = layers.Dense(200,activation='relu')(x)\n",
        "x = layers.BatchNormalization()(x)\n",
        "x = layers.LeakyReLU()(x)\n",
        "x = layers.Dropout(rate=0.5)(x)\n",
        "\n",
        "output_layer = layers.Dense(NUM_CLASSES,activation='softmax')(x)\n",
        "\n",
        "model = models.Model(input_layer, output_layer)"
      ],
      "metadata": {
        "id": "a5nr4CLPZinL"
      },
      "execution_count": 29,
      "outputs": []
    },
    {
      "cell_type": "code",
      "source": [
        "opt = optimizers.Adam(learning_rate = 0.0005)  # 옵티마이져는 한번 학습되면 재 사용 안됨\n",
        "model.compile(loss=tf.keras.losses.categorical_crossentropy, optimizer=opt, metrics=['accuracy'])\n",
        "model.fit(x_train,y_train,batch_size=32,epochs=10,shuffle = True)"
      ],
      "metadata": {
        "colab": {
          "base_uri": "https://localhost:8080/"
        },
        "id": "LhjZ7TqZeG30",
        "outputId": "682e71aa-da25-4feb-da77-7dce3de4d368"
      },
      "execution_count": null,
      "outputs": [
        {
          "output_type": "stream",
          "name": "stdout",
          "text": [
            "Epoch 1/10\n"
          ]
        }
      ]
    },
    {
      "cell_type": "code",
      "source": [],
      "metadata": {
        "id": "GfMCFaoWebG3"
      },
      "execution_count": null,
      "outputs": []
    }
  ]
}