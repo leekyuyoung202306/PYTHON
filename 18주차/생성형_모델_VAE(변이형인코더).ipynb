{
  "nbformat": 4,
  "nbformat_minor": 0,
  "metadata": {
    "colab": {
      "provenance": [],
      "gpuType": "T4"
    },
    "kernelspec": {
      "name": "python3",
      "display_name": "Python 3"
    },
    "language_info": {
      "name": "python"
    },
    "accelerator": "GPU"
  },
  "cells": [
    {
      "cell_type": "code",
      "execution_count": 22,
      "metadata": {
        "id": "Ez-1j6_8fvQ5"
      },
      "outputs": [],
      "source": [
        "# 표준 오토인코더\n",
        "# 확장을 해서 변이형 오토인코더"
      ]
    },
    {
      "cell_type": "code",
      "source": [
        "import tensorflow as tf\n",
        "from tensorflow.keras import datasets\n",
        "(x_train,y_train),(x_test,y_test) = datasets.fashion_mnist.load_data()"
      ],
      "metadata": {
        "id": "LapQfJXjgF7j"
      },
      "execution_count": 23,
      "outputs": []
    },
    {
      "cell_type": "code",
      "source": [
        "x_train.shape"
      ],
      "metadata": {
        "colab": {
          "base_uri": "https://localhost:8080/"
        },
        "id": "YnmHtf5ch3GN",
        "outputId": "02bab989-e062-433c-f2aa-b3aac1c8ae82"
      },
      "execution_count": 24,
      "outputs": [
        {
          "output_type": "execute_result",
          "data": {
            "text/plain": [
              "(60000, 28, 28)"
            ]
          },
          "metadata": {},
          "execution_count": 24
        }
      ]
    },
    {
      "cell_type": "code",
      "source": [
        "import numpy as np"
      ],
      "metadata": {
        "id": "Sv-hgwghiX5D"
      },
      "execution_count": 25,
      "outputs": []
    },
    {
      "cell_type": "code",
      "source": [
        "# 첫번째 차원은 가장 바깥쪽 차원을 0개 추가 그래서 변하지 않음\n",
        "# 두번째 차원은 좌,우 각각 2개의 값으로 추가, 좌우 각각2열이 0으로 패딩이 추가\n",
        "# 세번째 차원은 위,아래 각각 2개의 값으로 추가, 좌우 각각2열이 0으로 패딩이 추가\n",
        "temp = np.pad(x_train,((0,0),(2,2),(2,2)),constant_values=0.0)\n",
        "print(temp.shape)\n",
        "np.expand_dims(temp,-1).shape"
      ],
      "metadata": {
        "colab": {
          "base_uri": "https://localhost:8080/"
        },
        "id": "3kWWfMgJiIPP",
        "outputId": "b48989eb-2ca4-4258-cd7f-9b9ccfe15473"
      },
      "execution_count": 26,
      "outputs": [
        {
          "output_type": "stream",
          "name": "stdout",
          "text": [
            "(60000, 32, 32)\n"
          ]
        },
        {
          "output_type": "execute_result",
          "data": {
            "text/plain": [
              "(60000, 32, 32, 1)"
            ]
          },
          "metadata": {},
          "execution_count": 26
        }
      ]
    },
    {
      "cell_type": "code",
      "source": [
        "# 전처리 : float32, /255.0\n",
        "# 각 이미지에 패딩을 적용해서 32 x 32 : 신경망 통과시 텐서의 크기를 쉽게 조작할수 있도록\n",
        "def preprocess(imgs):\n",
        "  imgs = imgs.astype('float32') / 255.0\n",
        "  imgs = np.pad(imgs,((0,0),(2,2),(2,2)),constant_values=0.0)\n",
        "  imgs = np.expand_dims(imgs,-1)\n",
        "  return imgs\n",
        "x_train = preprocess(x_train)\n",
        "x_test = preprocess(x_test)"
      ],
      "metadata": {
        "id": "bRZceEfEhK3K"
      },
      "execution_count": 27,
      "outputs": []
    },
    {
      "cell_type": "code",
      "source": [
        "# 인코더 : 고차원 입력데이터를 저차원 임베딩 벡터로 압축\n",
        "# 디코더 : 임베딩 벡터를 원본 도메인으로 압축 해제(이미지로 되돌린다)\n",
        "# 인코더를 수행하면...특징들을 모은 임베딩(잠재공간).. 임베딩을 샘플링해서 디코더에 넣으면 새로운 이미지생성"
      ],
      "metadata": {
        "id": "xRZsSwAPibOU"
      },
      "execution_count": 28,
      "outputs": []
    },
    {
      "cell_type": "code",
      "source": [
        "from tensorflow.keras import layers,models\n",
        "import tensorflow.keras.backend as k"
      ],
      "metadata": {
        "id": "WNgY3rp3kgVr"
      },
      "execution_count": 29,
      "outputs": []
    },
    {
      "cell_type": "code",
      "source": [
        "k.int_shape(x_train)"
      ],
      "metadata": {
        "colab": {
          "base_uri": "https://localhost:8080/"
        },
        "id": "u0PALcgDlnhz",
        "outputId": "24d4ca93-2dc7-4701-f647-437adcd6a5f9"
      },
      "execution_count": 30,
      "outputs": [
        {
          "output_type": "execute_result",
          "data": {
            "text/plain": [
              "(60000, 32, 32, 1)"
            ]
          },
          "metadata": {},
          "execution_count": 30
        }
      ]
    },
    {
      "cell_type": "code",
      "source": [
        "#인코더\n",
        "encorder_input = layers.Input(shape=(32, 32, 1))\n",
        "x = layers.Conv2D(32,(3,3),strides=2,activation='relu',padding='same')(encorder_input)\n",
        "x = layers.Conv2D(64,(3,3),strides=2,activation='relu',padding='same')(x)\n",
        "x = layers.Conv2D(128,(3,3),strides=2,activation='relu',padding='same')(x)\n",
        "shape_before_flatten = k.int_shape(x)[1:]  # 디코더에서 사용\n",
        "x = layers.Flatten()(x)\n",
        "encorder_output = layers.Dense(2)(x)\n",
        "encorder = models.Model(encorder_input,encorder_output)"
      ],
      "metadata": {
        "id": "PD1nRZOykbbV"
      },
      "execution_count": 31,
      "outputs": []
    },
    {
      "cell_type": "code",
      "source": [
        "encorder.summary()"
      ],
      "metadata": {
        "colab": {
          "base_uri": "https://localhost:8080/"
        },
        "id": "AcKb8Vexsngh",
        "outputId": "9adb6c2f-4e51-4efb-95c0-90db892361a2"
      },
      "execution_count": 32,
      "outputs": [
        {
          "output_type": "stream",
          "name": "stdout",
          "text": [
            "Model: \"model_3\"\n",
            "_________________________________________________________________\n",
            " Layer (type)                Output Shape              Param #   \n",
            "=================================================================\n",
            " input_3 (InputLayer)        [(None, 32, 32, 1)]       0         \n",
            "                                                                 \n",
            " conv2d_4 (Conv2D)           (None, 16, 16, 32)        320       \n",
            "                                                                 \n",
            " conv2d_5 (Conv2D)           (None, 8, 8, 64)          18496     \n",
            "                                                                 \n",
            " conv2d_6 (Conv2D)           (None, 4, 4, 128)         73856     \n",
            "                                                                 \n",
            " flatten_1 (Flatten)         (None, 2048)              0         \n",
            "                                                                 \n",
            " dense_2 (Dense)             (None, 2)                 4098      \n",
            "                                                                 \n",
            "=================================================================\n",
            "Total params: 96770 (378.01 KB)\n",
            "Trainable params: 96770 (378.01 KB)\n",
            "Non-trainable params: 0 (0.00 Byte)\n",
            "_________________________________________________________________\n"
          ]
        }
      ]
    },
    {
      "cell_type": "code",
      "source": [
        "# np.prod(shape_before_flatten), shape_before_flatten"
      ],
      "metadata": {
        "id": "ATzuOXvkms49"
      },
      "execution_count": 33,
      "outputs": []
    },
    {
      "cell_type": "code",
      "source": [
        "# 디코더\n",
        "decorder_input = layers.Input(shape=(2,))\n",
        "x = layers.Dense(np.prod(shape_before_flatten))(decorder_input) # 2048\n",
        "x = layers.Reshape(shape_before_flatten)(x)\n",
        "x = layers.Conv2DTranspose(128,(3,3),strides=2,activation='relu',padding='same')(x)\n",
        "x = layers.Conv2DTranspose(64,(3,3),strides=2,activation='relu',padding='same')(x)\n",
        "x = layers.Conv2DTranspose(32,(3,3),strides=2,activation='relu',padding='same')(x)\n",
        "decoder_output = layers.Conv2D(1,(3,3),strides=1,activation='sigmoid',padding='same')(x) # 이미지 그려야..\n",
        "decorder = models.Model(decorder_input,decoder_output)"
      ],
      "metadata": {
        "id": "O7EVsmOlmT9V"
      },
      "execution_count": 34,
      "outputs": []
    },
    {
      "cell_type": "code",
      "source": [
        "decorder.summary()"
      ],
      "metadata": {
        "colab": {
          "base_uri": "https://localhost:8080/"
        },
        "id": "KiFivcUGssQu",
        "outputId": "ba2b9b1c-66fc-45ad-b986-b290defc9b94"
      },
      "execution_count": 35,
      "outputs": [
        {
          "output_type": "stream",
          "name": "stdout",
          "text": [
            "Model: \"model_4\"\n",
            "_________________________________________________________________\n",
            " Layer (type)                Output Shape              Param #   \n",
            "=================================================================\n",
            " input_4 (InputLayer)        [(None, 2)]               0         \n",
            "                                                                 \n",
            " dense_3 (Dense)             (None, 2048)              6144      \n",
            "                                                                 \n",
            " reshape_1 (Reshape)         (None, 4, 4, 128)         0         \n",
            "                                                                 \n",
            " conv2d_transpose_3 (Conv2D  (None, 8, 8, 128)         147584    \n",
            " Transpose)                                                      \n",
            "                                                                 \n",
            " conv2d_transpose_4 (Conv2D  (None, 16, 16, 64)        73792     \n",
            " Transpose)                                                      \n",
            "                                                                 \n",
            " conv2d_transpose_5 (Conv2D  (None, 32, 32, 32)        18464     \n",
            " Transpose)                                                      \n",
            "                                                                 \n",
            " conv2d_7 (Conv2D)           (None, 32, 32, 1)         289       \n",
            "                                                                 \n",
            "=================================================================\n",
            "Total params: 246273 (962.00 KB)\n",
            "Trainable params: 246273 (962.00 KB)\n",
            "Non-trainable params: 0 (0.00 Byte)\n",
            "_________________________________________________________________\n"
          ]
        }
      ]
    },
    {
      "cell_type": "code",
      "source": [
        "#오토인코더 : 인코더+디코더\n",
        "autoencorder = models.Model(encorder_input, decorder(encorder_output))  # 이미지를 입력으로 받아서 인코더와 디코더를 통과"
      ],
      "metadata": {
        "id": "PdEg2noInz9Y"
      },
      "execution_count": 36,
      "outputs": []
    },
    {
      "cell_type": "code",
      "source": [
        "autoencorder.summary()"
      ],
      "metadata": {
        "colab": {
          "base_uri": "https://localhost:8080/"
        },
        "id": "3FOCeB9_s0D-",
        "outputId": "d209d75d-0092-4d54-daf1-67866e730c15"
      },
      "execution_count": 37,
      "outputs": [
        {
          "output_type": "stream",
          "name": "stdout",
          "text": [
            "Model: \"model_5\"\n",
            "_________________________________________________________________\n",
            " Layer (type)                Output Shape              Param #   \n",
            "=================================================================\n",
            " input_3 (InputLayer)        [(None, 32, 32, 1)]       0         \n",
            "                                                                 \n",
            " conv2d_4 (Conv2D)           (None, 16, 16, 32)        320       \n",
            "                                                                 \n",
            " conv2d_5 (Conv2D)           (None, 8, 8, 64)          18496     \n",
            "                                                                 \n",
            " conv2d_6 (Conv2D)           (None, 4, 4, 128)         73856     \n",
            "                                                                 \n",
            " flatten_1 (Flatten)         (None, 2048)              0         \n",
            "                                                                 \n",
            " dense_2 (Dense)             (None, 2)                 4098      \n",
            "                                                                 \n",
            " model_4 (Functional)        (None, 32, 32, 1)         246273    \n",
            "                                                                 \n",
            "=================================================================\n",
            "Total params: 343043 (1.31 MB)\n",
            "Trainable params: 343043 (1.31 MB)\n",
            "Non-trainable params: 0 (0.00 Byte)\n",
            "_________________________________________________________________\n"
          ]
        }
      ]
    },
    {
      "cell_type": "code",
      "source": [
        "autoencorder.compile(optimizer='adam', loss='binary_crossentropy')"
      ],
      "metadata": {
        "id": "FHxezDL8oUIn"
      },
      "execution_count": 38,
      "outputs": []
    },
    {
      "cell_type": "code",
      "source": [
        "x_train.shape, y_train.shape"
      ],
      "metadata": {
        "colab": {
          "base_uri": "https://localhost:8080/"
        },
        "id": "slxAk1GUtJIz",
        "outputId": "8b33d5be-76a5-4ed3-c9f2-aa51f08675ad"
      },
      "execution_count": 39,
      "outputs": [
        {
          "output_type": "execute_result",
          "data": {
            "text/plain": [
              "((60000, 32, 32, 1), (60000,))"
            ]
          },
          "metadata": {},
          "execution_count": 39
        }
      ]
    },
    {
      "cell_type": "code",
      "source": [
        "autoencorder.fit(x_train,x_train,epochs=5,batch_size=100,\n",
        "                 shuffle=True,validation_data=(x_test,x_test))"
      ],
      "metadata": {
        "colab": {
          "base_uri": "https://localhost:8080/"
        },
        "id": "hg0Z5I_TrDAW",
        "outputId": "cdbb6675-1fcf-4ee5-a7df-9625b309a840"
      },
      "execution_count": 40,
      "outputs": [
        {
          "output_type": "stream",
          "name": "stdout",
          "text": [
            "Epoch 1/5\n",
            "600/600 [==============================] - 10s 10ms/step - loss: 0.2983 - val_loss: 0.2671\n",
            "Epoch 2/5\n",
            "600/600 [==============================] - 6s 10ms/step - loss: 0.2618 - val_loss: 0.2604\n",
            "Epoch 3/5\n",
            "600/600 [==============================] - 6s 10ms/step - loss: 0.2569 - val_loss: 0.2564\n",
            "Epoch 4/5\n",
            "600/600 [==============================] - 7s 11ms/step - loss: 0.2544 - val_loss: 0.2547\n",
            "Epoch 5/5\n",
            "600/600 [==============================] - 7s 11ms/step - loss: 0.2526 - val_loss: 0.2535\n"
          ]
        },
        {
          "output_type": "execute_result",
          "data": {
            "text/plain": [
              "<keras.src.callbacks.History at 0x7b266ed25fc0>"
            ]
          },
          "metadata": {},
          "execution_count": 40
        }
      ]
    },
    {
      "cell_type": "code",
      "source": [
        "import utils"
      ],
      "metadata": {
        "id": "KNKDVENirRWl"
      },
      "execution_count": 41,
      "outputs": []
    },
    {
      "cell_type": "code",
      "source": [
        "predictions = autoencorder.predict( x_test[:5000])"
      ],
      "metadata": {
        "colab": {
          "base_uri": "https://localhost:8080/"
        },
        "id": "PzpjJewAwRDn",
        "outputId": "6f45faf7-1161-4ecf-e6d0-a7c2cad4b9c8"
      },
      "execution_count": 42,
      "outputs": [
        {
          "output_type": "stream",
          "name": "stdout",
          "text": [
            "157/157 [==============================] - 1s 4ms/step\n"
          ]
        }
      ]
    },
    {
      "cell_type": "code",
      "source": [
        "utils.display(x_test[:5000])"
      ],
      "metadata": {
        "colab": {
          "base_uri": "https://localhost:8080/",
          "height": 81
        },
        "id": "EwUSJmtDwobq",
        "outputId": "b5dfd63b-a8d5-4833-94c6-fc8fa6ef2423"
      },
      "execution_count": 44,
      "outputs": [
        {
          "output_type": "display_data",
          "data": {
            "text/plain": [
              "<Figure size 2000x300 with 10 Axes>"
            ],
            "image/png": "[encoded data removed]"
          },
          "metadata": {}
        }
      ]
    },
    {
      "cell_type": "code",
      "source": [
        "utils.display(predictions)"
      ],
      "metadata": {
        "colab": {
          "base_uri": "https://localhost:8080/",
          "height": 81
        },
        "id": "ZTiPYij5wa77",
        "outputId": "8a2c6413-f1c2-499a-acf4-33ef41456bd2"
      },
      "execution_count": 43,
      "outputs": [
        {
          "output_type": "display_data",
          "data": {
            "text/plain": [
              "<Figure size 2000x300 with 10 Axes>"
            ],
            "image/png": "[encoded data removed]"
          },
          "metadata": {}
        }
      ]
    },
    {
      "cell_type": "code",
      "source": [
        "# 인코더.. 이미지 임베딩\n",
        "embedding = encorder.predict(x_test[:5000])"
      ],
      "metadata": {
        "colab": {
          "base_uri": "https://localhost:8080/"
        },
        "id": "bzEa54ozwm9c",
        "outputId": "52d0b9fd-c365-4e17-9256-446c84df0ea9"
      },
      "execution_count": 45,
      "outputs": [
        {
          "output_type": "stream",
          "name": "stdout",
          "text": [
            "157/157 [==============================] - 1s 3ms/step\n"
          ]
        }
      ]
    },
    {
      "cell_type": "code",
      "source": [
        "mins,maxs = np.min(embedding,axis=0), np.max(embedding,axis=0)\n",
        "sample = np.random.uniform(mins,maxs,size=(18,2))\n",
        "sample.shape\n",
        "new_images =  decorder.predict(sample)"
      ],
      "metadata": {
        "colab": {
          "base_uri": "https://localhost:8080/"
        },
        "id": "gjTvVvSZxLNV",
        "outputId": "f116ba9b-dc2d-49c8-a588-837dfdbbfaa7"
      },
      "execution_count": 47,
      "outputs": [
        {
          "output_type": "stream",
          "name": "stdout",
          "text": [
            "1/1 [==============================] - 0s 186ms/step\n"
          ]
        }
      ]
    },
    {
      "cell_type": "code",
      "source": [
        "utils.display(new_images)"
      ],
      "metadata": {
        "colab": {
          "base_uri": "https://localhost:8080/",
          "height": 81
        },
        "id": "49cDj_HcxgSj",
        "outputId": "8eef76b0-279d-4e40-f203-a0d8d2dbdce8"
      },
      "execution_count": 49,
      "outputs": [
        {
          "output_type": "display_data",
          "data": {
            "text/plain": [
              "<Figure size 2000x300 with 10 Axes>"
            ],
            "image/png": "[encoded data removed]"
          },
          "metadata": {}
        }
      ]
    },
    {
      "cell_type": "code",
      "source": [],
      "metadata": {
        "id": "eE6nYzH0x2Q1"
      },
      "execution_count": null,
      "outputs": []
    }
  ]
}