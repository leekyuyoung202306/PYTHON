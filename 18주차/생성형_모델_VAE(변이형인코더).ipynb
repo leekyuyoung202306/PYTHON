{
  "nbformat": 4,
  "nbformat_minor": 0,
  "metadata": {
    "colab": {
      "provenance": []
    },
    "kernelspec": {
      "name": "python3",
      "display_name": "Python 3"
    },
    "language_info": {
      "name": "python"
    }
  },
  "cells": [
    {
      "cell_type": "code",
      "execution_count": 41,
      "metadata": {
        "id": "Ez-1j6_8fvQ5"
      },
      "outputs": [],
      "source": [
        "# 표준 오토인코더\n",
        "# 확장을 해서 변이형 오토인코더"
      ]
    },
    {
      "cell_type": "code",
      "source": [
        "import tensorflow as tf\n",
        "from tensorflow.keras import datasets\n",
        "(x_train,y_train),(x_test,y_test) = datasets.fashion_mnist.load_data()"
      ],
      "metadata": {
        "id": "LapQfJXjgF7j"
      },
      "execution_count": 42,
      "outputs": []
    },
    {
      "cell_type": "code",
      "source": [
        "x_train.shape"
      ],
      "metadata": {
        "colab": {
          "base_uri": "https://localhost:8080/"
        },
        "id": "YnmHtf5ch3GN",
        "outputId": "7050a6d2-9f54-4776-c486-32c42f321523"
      },
      "execution_count": 43,
      "outputs": [
        {
          "output_type": "execute_result",
          "data": {
            "text/plain": [
              "(60000, 28, 28)"
            ]
          },
          "metadata": {},
          "execution_count": 43
        }
      ]
    },
    {
      "cell_type": "code",
      "source": [
        "import numpy as np"
      ],
      "metadata": {
        "id": "Sv-hgwghiX5D"
      },
      "execution_count": 44,
      "outputs": []
    },
    {
      "cell_type": "code",
      "source": [
        "# 첫번째 차원은 가장 바깥쪽 차원을 0개 추가 그래서 변하지 않음\n",
        "# 두번째 차원은 좌,우 각각 2개의 값으로 추가, 좌우 각각2열이 0으로 패딩이 추가\n",
        "# 세번째 차원은 위,아래 각각 2개의 값으로 추가, 좌우 각각2열이 0으로 패딩이 추가\n",
        "temp = np.pad(x_train,((0,0),(2,2),(2,2)),constant_values=0.0)\n",
        "print(temp.shape)\n",
        "np.expand_dims(temp,-1).shape"
      ],
      "metadata": {
        "colab": {
          "base_uri": "https://localhost:8080/"
        },
        "id": "3kWWfMgJiIPP",
        "outputId": "0713767c-27ac-4a94-f0ad-38794e48dc7e"
      },
      "execution_count": 45,
      "outputs": [
        {
          "output_type": "stream",
          "name": "stdout",
          "text": [
            "(60000, 32, 32)\n"
          ]
        },
        {
          "output_type": "execute_result",
          "data": {
            "text/plain": [
              "(60000, 32, 32, 1)"
            ]
          },
          "metadata": {},
          "execution_count": 45
        }
      ]
    },
    {
      "cell_type": "code",
      "source": [
        "# 전처리 : float32, /255.0\n",
        "# 각 이미지에 패딩을 적용해서 32 x 32 : 신경망 통과시 텐서의 크기를 쉽게 조작할수 있도록\n",
        "def preprocess(imgs):\n",
        "  imgs = imgs.astype('float32') / 255.0\n",
        "  imgs = np.pad(imgs,((0,0),(2,2),(2,2)),constant_values=0.0)\n",
        "  imgs = np.expand_dims(imgs,-1)\n",
        "  return imgs\n",
        "x_train = preprocess(x_train)\n",
        "x_test = preprocess(x_test)"
      ],
      "metadata": {
        "id": "bRZceEfEhK3K"
      },
      "execution_count": 46,
      "outputs": []
    },
    {
      "cell_type": "code",
      "source": [
        "# 인코더 : 고차원 입력데이터를 저차원 임베딩 벡터로 압축\n",
        "# 디코더 : 임베딩 벡터를 원본 도메인으로 압축 해제(이미지로 되돌린다)\n",
        "# 인코더를 수행하면...특징들을 모은 임베딩(잠재공간).. 임베딩을 샘플링해서 디코더에 넣으면 새로운 이미지생성"
      ],
      "metadata": {
        "id": "xRZsSwAPibOU"
      },
      "execution_count": 47,
      "outputs": []
    },
    {
      "cell_type": "code",
      "source": [
        "from tensorflow.keras import layers,models\n",
        "import tensorflow.keras.backend as k"
      ],
      "metadata": {
        "id": "WNgY3rp3kgVr"
      },
      "execution_count": 48,
      "outputs": []
    },
    {
      "cell_type": "code",
      "source": [
        "k.int_shape(x_train)"
      ],
      "metadata": {
        "colab": {
          "base_uri": "https://localhost:8080/"
        },
        "id": "u0PALcgDlnhz",
        "outputId": "9d53d5fd-194c-4f5f-b57f-0355f72bfcf0"
      },
      "execution_count": 49,
      "outputs": [
        {
          "output_type": "execute_result",
          "data": {
            "text/plain": [
              "(60000, 32, 32, 1)"
            ]
          },
          "metadata": {},
          "execution_count": 49
        }
      ]
    },
    {
      "cell_type": "code",
      "source": [
        "#인코더\n",
        "encorder_input = layers.Input(shape=(32, 32, 1))\n",
        "x = layers.Conv2D(32,(3,3),strides=2,activation='relu',padding='same')(encorder_input)\n",
        "x = layers.Conv2D(64,(3,3),strides=2,activation='relu',padding='same')(x)\n",
        "x = layers.Conv2D(128,(3,3),strides=2,activation='relu',padding='same')(x)\n",
        "shape_before_flatten = k.int_shape(x)[1:]  # 디코더에서 사용\n",
        "x = layers.Flatten()(x)\n",
        "encorder_output = layers.Dense(2)(x)\n",
        "encorder = models.Model(encorder_input,encorder_output)"
      ],
      "metadata": {
        "id": "PD1nRZOykbbV"
      },
      "execution_count": 50,
      "outputs": []
    },
    {
      "cell_type": "code",
      "source": [
        "encorder.summary()"
      ],
      "metadata": {
        "colab": {
          "base_uri": "https://localhost:8080/"
        },
        "id": "AcKb8Vexsngh",
        "outputId": "bcce8b80-38f5-4298-9ec2-1d316b93bb05"
      },
      "execution_count": 51,
      "outputs": [
        {
          "output_type": "stream",
          "name": "stdout",
          "text": [
            "Model: \"model_9\"\n",
            "_________________________________________________________________\n",
            " Layer (type)                Output Shape              Param #   \n",
            "=================================================================\n",
            " input_8 (InputLayer)        [(None, 32, 32, 1)]       0         \n",
            "                                                                 \n",
            " conv2d_21 (Conv2D)          (None, 16, 16, 32)        320       \n",
            "                                                                 \n",
            " conv2d_22 (Conv2D)          (None, 8, 8, 64)          18496     \n",
            "                                                                 \n",
            " conv2d_23 (Conv2D)          (None, 4, 4, 128)         73856     \n",
            "                                                                 \n",
            " flatten_4 (Flatten)         (None, 2048)              0         \n",
            "                                                                 \n",
            " dense_7 (Dense)             (None, 2)                 4098      \n",
            "                                                                 \n",
            "=================================================================\n",
            "Total params: 96770 (378.01 KB)\n",
            "Trainable params: 96770 (378.01 KB)\n",
            "Non-trainable params: 0 (0.00 Byte)\n",
            "_________________________________________________________________\n"
          ]
        }
      ]
    },
    {
      "cell_type": "code",
      "source": [
        "# np.prod(shape_before_flatten), shape_before_flatten"
      ],
      "metadata": {
        "id": "ATzuOXvkms49"
      },
      "execution_count": 52,
      "outputs": []
    },
    {
      "cell_type": "code",
      "source": [
        "# 디코더\n",
        "decorder_input = layers.Input(shape=(2,))\n",
        "x = layers.Dense(np.prod(shape_before_flatten))(decorder_input) # 2048\n",
        "x = layers.Reshape(shape_before_flatten)(x)\n",
        "x = layers.Conv2DTranspose(128,(3,3),strides=2,activation='relu',padding='same')(x)\n",
        "x = layers.Conv2DTranspose(64,(3,3),strides=2,activation='relu',padding='same')(x)\n",
        "x = layers.Conv2DTranspose(32,(3,3),strides=2,activation='relu',padding='same')(x)\n",
        "decoder_output = layers.Conv2D(1,(3,3),strides=1,activation='sigmoid',padding='same')(x) # 이미지 그려야..\n",
        "decorder = models.Model(decorder_input,decoder_output)"
      ],
      "metadata": {
        "id": "O7EVsmOlmT9V"
      },
      "execution_count": 53,
      "outputs": []
    },
    {
      "cell_type": "code",
      "source": [
        "decorder.summary()"
      ],
      "metadata": {
        "colab": {
          "base_uri": "https://localhost:8080/"
        },
        "id": "KiFivcUGssQu",
        "outputId": "7c34f359-74da-4fa4-ff74-c6e8f29ed74d"
      },
      "execution_count": 54,
      "outputs": [
        {
          "output_type": "stream",
          "name": "stdout",
          "text": [
            "Model: \"model_10\"\n",
            "_________________________________________________________________\n",
            " Layer (type)                Output Shape              Param #   \n",
            "=================================================================\n",
            " input_9 (InputLayer)        [(None, 2)]               0         \n",
            "                                                                 \n",
            " dense_8 (Dense)             (None, 2048)              6144      \n",
            "                                                                 \n",
            " reshape_3 (Reshape)         (None, 4, 4, 128)         0         \n",
            "                                                                 \n",
            " conv2d_transpose_3 (Conv2D  (None, 8, 8, 128)         147584    \n",
            " Transpose)                                                      \n",
            "                                                                 \n",
            " conv2d_transpose_4 (Conv2D  (None, 16, 16, 64)        73792     \n",
            " Transpose)                                                      \n",
            "                                                                 \n",
            " conv2d_transpose_5 (Conv2D  (None, 32, 32, 32)        18464     \n",
            " Transpose)                                                      \n",
            "                                                                 \n",
            " conv2d_24 (Conv2D)          (None, 32, 32, 1)         289       \n",
            "                                                                 \n",
            "=================================================================\n",
            "Total params: 246273 (962.00 KB)\n",
            "Trainable params: 246273 (962.00 KB)\n",
            "Non-trainable params: 0 (0.00 Byte)\n",
            "_________________________________________________________________\n"
          ]
        }
      ]
    },
    {
      "cell_type": "code",
      "source": [
        "#오토인코더 : 인코더+디코더\n",
        "autoencorder = models.Model(encorder_input, decorder(encorder_output))  # 이미지를 입력으로 받아서 인코더와 디코더를 통과"
      ],
      "metadata": {
        "id": "PdEg2noInz9Y"
      },
      "execution_count": 55,
      "outputs": []
    },
    {
      "cell_type": "code",
      "source": [
        "autoencorder.summary()"
      ],
      "metadata": {
        "colab": {
          "base_uri": "https://localhost:8080/"
        },
        "id": "3FOCeB9_s0D-",
        "outputId": "378e5063-5e93-4b60-a777-591aae177721"
      },
      "execution_count": 56,
      "outputs": [
        {
          "output_type": "stream",
          "name": "stdout",
          "text": [
            "Model: \"model_11\"\n",
            "_________________________________________________________________\n",
            " Layer (type)                Output Shape              Param #   \n",
            "=================================================================\n",
            " input_8 (InputLayer)        [(None, 32, 32, 1)]       0         \n",
            "                                                                 \n",
            " conv2d_21 (Conv2D)          (None, 16, 16, 32)        320       \n",
            "                                                                 \n",
            " conv2d_22 (Conv2D)          (None, 8, 8, 64)          18496     \n",
            "                                                                 \n",
            " conv2d_23 (Conv2D)          (None, 4, 4, 128)         73856     \n",
            "                                                                 \n",
            " flatten_4 (Flatten)         (None, 2048)              0         \n",
            "                                                                 \n",
            " dense_7 (Dense)             (None, 2)                 4098      \n",
            "                                                                 \n",
            " model_10 (Functional)       (None, 32, 32, 1)         246273    \n",
            "                                                                 \n",
            "=================================================================\n",
            "Total params: 343043 (1.31 MB)\n",
            "Trainable params: 343043 (1.31 MB)\n",
            "Non-trainable params: 0 (0.00 Byte)\n",
            "_________________________________________________________________\n"
          ]
        }
      ]
    },
    {
      "cell_type": "code",
      "source": [
        "autoencorder.compile(optimizer='adam', loss='binary_crossentropy')"
      ],
      "metadata": {
        "id": "FHxezDL8oUIn"
      },
      "execution_count": 57,
      "outputs": []
    },
    {
      "cell_type": "code",
      "source": [
        "x_train.shape, y_train.shape"
      ],
      "metadata": {
        "colab": {
          "base_uri": "https://localhost:8080/"
        },
        "id": "slxAk1GUtJIz",
        "outputId": "b269ca5b-1eb2-4cc5-b1a3-0bbd0b990d82"
      },
      "execution_count": 58,
      "outputs": [
        {
          "output_type": "execute_result",
          "data": {
            "text/plain": [
              "((60000, 32, 32, 1), (60000,))"
            ]
          },
          "metadata": {},
          "execution_count": 58
        }
      ]
    },
    {
      "cell_type": "code",
      "source": [
        "autoencorder.fit(x_train,x_train,epochs=5,batch_size=100,\n",
        "                 shuffle=True,validation_data=(x_test,y_test))"
      ],
      "metadata": {
        "colab": {
          "base_uri": "https://localhost:8080/"
        },
        "id": "hg0Z5I_TrDAW",
        "outputId": "a2524950-45de-478f-f3a7-6e572b4eb6e1"
      },
      "execution_count": null,
      "outputs": [
        {
          "output_type": "stream",
          "name": "stdout",
          "text": [
            "Epoch 1/5\n",
            " 21/600 [>.............................] - ETA: 2:46 - loss: 0.5977"
          ]
        }
      ]
    },
    {
      "cell_type": "code",
      "source": [],
      "metadata": {
        "id": "KNKDVENirRWl"
      },
      "execution_count": null,
      "outputs": []
    }
  ]
}