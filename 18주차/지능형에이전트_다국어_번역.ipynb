{
  "nbformat": 4,
  "nbformat_minor": 0,
  "metadata": {
    "colab": {
      "provenance": [],
      "gpuType": "T4"
    },
    "kernelspec": {
      "name": "python3",
      "display_name": "Python 3"
    },
    "language_info": {
      "name": "python"
    },
    "accelerator": "GPU"
  },
  "cells": [
    {
      "cell_type": "code",
      "execution_count": null,
      "metadata": {
        "id": "FLVtvHjd6h65"
      },
      "outputs": [],
      "source": []
    },
    {
      "cell_type": "markdown",
      "source": [
        "- CNN 모델을 이용해서 CIFAR-10 학습\n",
        "  - 데이터가 텐서로 제공\n"
      ],
      "metadata": {
        "id": "8ADVzspr9B1Y"
      }
    },
    {
      "cell_type": "code",
      "source": [
        "import numpy as np\n",
        "import tensorflow as tf\n",
        "from tensorflow.keras.datasets import cifar10\n",
        "from tensorflow.keras.models import Sequential\n",
        "from tensorflow.keras.layers import Conv2D,MaxPooling2D,Flatten,Dense,Dropout\n",
        "from tensorflow.keras.optimizers import Adam"
      ],
      "metadata": {
        "id": "ax9g8j8e9GRn"
      },
      "execution_count": 1,
      "outputs": []
    },
    {
      "cell_type": "code",
      "source": [
        "# cifar10 데이터 로드하고 신경망에 입력형태로 변환\n",
        "(x_train,y_train),(x_test,y_test) = cifar10.load_data()\n",
        "x_train = x_train.astype(np.float32) / 255.0\n",
        "x_test = x_test.astype(np.float32) / 255.0"
      ],
      "metadata": {
        "colab": {
          "base_uri": "https://localhost:8080/"
        },
        "id": "c3AjTAi3-KI2",
        "outputId": "9328db9c-c737-420d-ab3d-4bfa1a9bfc4f"
      },
      "execution_count": 2,
      "outputs": [
        {
          "output_type": "stream",
          "name": "stdout",
          "text": [
            "Downloading data from https://www.cs.toronto.edu/~kriz/cifar-10-python.tar.gz\n",
            "170498071/170498071 [==============================] - 6s 0us/step\n"
          ]
        }
      ]
    },
    {
      "cell_type": "code",
      "source": [
        "# 정답데이터를 데이터 타입을 변경 - one hot\n",
        "y_train = tf.keras.utils.to_categorical(y_train,10)\n",
        "y_test = tf.keras.utils.to_categorical(y_test,10)"
      ],
      "metadata": {
        "id": "FxPRJTbb-tx8"
      },
      "execution_count": 3,
      "outputs": []
    },
    {
      "cell_type": "code",
      "source": [
        "x_train.shape, x_train.shape[1:]"
      ],
      "metadata": {
        "colab": {
          "base_uri": "https://localhost:8080/"
        },
        "id": "B8ugu7QL_kg_",
        "outputId": "c6355213-3e72-495f-f161-b464ce459a89"
      },
      "execution_count": 4,
      "outputs": [
        {
          "output_type": "execute_result",
          "data": {
            "text/plain": [
              "((50000, 32, 32, 3), (32, 32, 3))"
            ]
          },
          "metadata": {},
          "execution_count": 4
        }
      ]
    },
    {
      "cell_type": "code",
      "source": [
        "# 신경망 모델 설계  c-c-p-d\n",
        "cnn = Sequential([\n",
        "    Conv2D(32,3,activation ='relu',input_shape = x_train.shape[1:]),\n",
        "    Conv2D(32,3,activation='relu'),\n",
        "    MaxPooling2D(),\n",
        "    Dropout(0.25),\n",
        "    Conv2D(64,3,activation ='relu'),\n",
        "    Conv2D(64,3,activation='relu'),\n",
        "    MaxPooling2D(),\n",
        "    Dropout(0.25),\n",
        "    Flatten(),\n",
        "    Dense(512,activation='relu'),\n",
        "    Dropout(0.5),\n",
        "    Dense(10,activation='softmax')\n",
        "])"
      ],
      "metadata": {
        "id": "rfVaX2fB_Uud"
      },
      "execution_count": 5,
      "outputs": []
    },
    {
      "cell_type": "code",
      "source": [
        "# 신경망 모델 학습\n",
        "cnn.compile(loss = tf.keras.losses.categorical_crossentropy,optimizer=Adam(),metrics=['accuracy'])\n",
        "hist = cnn.fit(x_train,y_train,batch_size=128, epochs=30,validation_data=(x_test,y_test))"
      ],
      "metadata": {
        "colab": {
          "base_uri": "https://localhost:8080/"
        },
        "id": "N-HkBCl7AmvH",
        "outputId": "d7e1882b-28f4-458f-89bf-e5e97d866824"
      },
      "execution_count": 6,
      "outputs": [
        {
          "output_type": "stream",
          "name": "stdout",
          "text": [
            "Epoch 1/30\n",
            "391/391 [==============================] - 17s 14ms/step - loss: 1.6696 - accuracy: 0.3851 - val_loss: 1.3314 - val_accuracy: 0.5114\n",
            "Epoch 2/30\n",
            "391/391 [==============================] - 4s 11ms/step - loss: 1.2862 - accuracy: 0.5377 - val_loss: 1.1252 - val_accuracy: 0.6001\n",
            "Epoch 3/30\n",
            "391/391 [==============================] - 4s 11ms/step - loss: 1.1197 - accuracy: 0.6013 - val_loss: 0.9793 - val_accuracy: 0.6557\n",
            "Epoch 4/30\n",
            "391/391 [==============================] - 4s 11ms/step - loss: 1.0035 - accuracy: 0.6461 - val_loss: 0.9033 - val_accuracy: 0.6845\n",
            "Epoch 5/30\n",
            "391/391 [==============================] - 4s 11ms/step - loss: 0.9168 - accuracy: 0.6758 - val_loss: 0.8510 - val_accuracy: 0.7012\n",
            "Epoch 6/30\n",
            "391/391 [==============================] - 5s 13ms/step - loss: 0.8463 - accuracy: 0.7009 - val_loss: 0.7897 - val_accuracy: 0.7250\n",
            "Epoch 7/30\n",
            "391/391 [==============================] - 4s 11ms/step - loss: 0.7952 - accuracy: 0.7200 - val_loss: 0.7699 - val_accuracy: 0.7306\n",
            "Epoch 8/30\n",
            "391/391 [==============================] - 4s 11ms/step - loss: 0.7531 - accuracy: 0.7359 - val_loss: 0.7117 - val_accuracy: 0.7486\n",
            "Epoch 9/30\n",
            "391/391 [==============================] - 5s 12ms/step - loss: 0.7214 - accuracy: 0.7473 - val_loss: 0.7127 - val_accuracy: 0.7494\n",
            "Epoch 10/30\n",
            "391/391 [==============================] - 4s 11ms/step - loss: 0.6916 - accuracy: 0.7584 - val_loss: 0.6864 - val_accuracy: 0.7626\n",
            "Epoch 11/30\n",
            "391/391 [==============================] - 4s 11ms/step - loss: 0.6621 - accuracy: 0.7671 - val_loss: 0.6978 - val_accuracy: 0.7581\n",
            "Epoch 12/30\n",
            "391/391 [==============================] - 5s 12ms/step - loss: 0.6441 - accuracy: 0.7730 - val_loss: 0.6671 - val_accuracy: 0.7690\n",
            "Epoch 13/30\n",
            "391/391 [==============================] - 4s 11ms/step - loss: 0.6249 - accuracy: 0.7804 - val_loss: 0.6529 - val_accuracy: 0.7761\n",
            "Epoch 14/30\n",
            "391/391 [==============================] - 5s 12ms/step - loss: 0.5965 - accuracy: 0.7910 - val_loss: 0.6474 - val_accuracy: 0.7772\n",
            "Epoch 15/30\n",
            "391/391 [==============================] - 5s 12ms/step - loss: 0.5762 - accuracy: 0.7958 - val_loss: 0.6609 - val_accuracy: 0.7706\n",
            "Epoch 16/30\n",
            "391/391 [==============================] - 4s 11ms/step - loss: 0.5601 - accuracy: 0.8011 - val_loss: 0.6189 - val_accuracy: 0.7892\n",
            "Epoch 17/30\n",
            "391/391 [==============================] - 5s 12ms/step - loss: 0.5505 - accuracy: 0.8052 - val_loss: 0.6378 - val_accuracy: 0.7802\n",
            "Epoch 18/30\n",
            "391/391 [==============================] - 4s 11ms/step - loss: 0.5286 - accuracy: 0.8126 - val_loss: 0.6306 - val_accuracy: 0.7904\n",
            "Epoch 19/30\n",
            "391/391 [==============================] - 4s 11ms/step - loss: 0.5185 - accuracy: 0.8160 - val_loss: 0.6364 - val_accuracy: 0.7843\n",
            "Epoch 20/30\n",
            "391/391 [==============================] - 5s 12ms/step - loss: 0.4975 - accuracy: 0.8236 - val_loss: 0.6205 - val_accuracy: 0.7903\n",
            "Epoch 21/30\n",
            "391/391 [==============================] - 4s 11ms/step - loss: 0.4916 - accuracy: 0.8247 - val_loss: 0.6275 - val_accuracy: 0.7850\n",
            "Epoch 22/30\n",
            "391/391 [==============================] - 4s 11ms/step - loss: 0.4840 - accuracy: 0.8293 - val_loss: 0.6240 - val_accuracy: 0.7924\n",
            "Epoch 23/30\n",
            "391/391 [==============================] - 5s 12ms/step - loss: 0.4721 - accuracy: 0.8331 - val_loss: 0.6037 - val_accuracy: 0.7962\n",
            "Epoch 24/30\n",
            "391/391 [==============================] - 4s 11ms/step - loss: 0.4567 - accuracy: 0.8368 - val_loss: 0.6013 - val_accuracy: 0.8002\n",
            "Epoch 25/30\n",
            "391/391 [==============================] - 5s 12ms/step - loss: 0.4460 - accuracy: 0.8422 - val_loss: 0.6220 - val_accuracy: 0.7924\n",
            "Epoch 26/30\n",
            "391/391 [==============================] - 5s 12ms/step - loss: 0.4488 - accuracy: 0.8427 - val_loss: 0.6349 - val_accuracy: 0.7942\n",
            "Epoch 27/30\n",
            "391/391 [==============================] - 4s 11ms/step - loss: 0.4412 - accuracy: 0.8429 - val_loss: 0.6247 - val_accuracy: 0.7927\n",
            "Epoch 28/30\n",
            "391/391 [==============================] - 4s 11ms/step - loss: 0.4304 - accuracy: 0.8449 - val_loss: 0.6475 - val_accuracy: 0.7863\n",
            "Epoch 29/30\n",
            "391/391 [==============================] - 4s 11ms/step - loss: 0.4273 - accuracy: 0.8471 - val_loss: 0.6217 - val_accuracy: 0.7903\n",
            "Epoch 30/30\n",
            "391/391 [==============================] - 4s 11ms/step - loss: 0.4125 - accuracy: 0.8530 - val_loss: 0.6506 - val_accuracy: 0.7945\n"
          ]
        }
      ]
    },
    {
      "cell_type": "code",
      "source": [
        "# 신경망의 구조 정보와 가중치를 저장\n",
        "cnn.save('/content/drive/MyDrive/CIFAR10_CNN/cifar10_cnn.h5')"
      ],
      "metadata": {
        "colab": {
          "base_uri": "https://localhost:8080/"
        },
        "id": "uJ0vHeb1CSMH",
        "outputId": "54955d7e-36ce-483b-dd63-488deeb2d74a"
      },
      "execution_count": 7,
      "outputs": [
        {
          "output_type": "stream",
          "name": "stderr",
          "text": [
            "/usr/local/lib/python3.10/dist-packages/keras/src/engine/training.py:3000: UserWarning: You are saving your model as an HDF5 file via `model.save()`. This file format is considered legacy. We recommend using instead the native Keras format, e.g. `model.save('my_model.keras')`.\n",
            "  saving_api.save_model(\n"
          ]
        }
      ]
    },
    {
      "cell_type": "code",
      "source": [],
      "metadata": {
        "id": "-t7FjWHXCsux"
      },
      "execution_count": null,
      "outputs": []
    }
  ]
}