{
 "cells": [
  {
   "cell_type": "code",
   "execution_count": 2,
   "metadata": {
    "collapsed": true,
    "id": "FLVtvHjd6h65",
    "jupyter": {
     "outputs_hidden": true
    }
   },
   "outputs": [
    {
     "name": "stdout",
     "output_type": "stream",
     "text": [
      "Collecting tensorflow\n",
      "  Downloading tensorflow-2.14.0-cp310-cp310-win_amd64.whl (2.1 kB)\n",
      "Collecting tensorflow-intel==2.14.0\n",
      "  Downloading tensorflow_intel-2.14.0-cp310-cp310-win_amd64.whl (284.1 MB)\n",
      "     -------------------------------------- 284.1/284.1 MB 3.0 MB/s eta 0:00:00\n",
      "Collecting protobuf!=4.21.0,!=4.21.1,!=4.21.2,!=4.21.3,!=4.21.4,!=4.21.5,<5.0.0dev,>=3.20.3\n",
      "  Downloading protobuf-4.24.4-cp310-abi3-win_amd64.whl (430 kB)\n",
      "     ------------------------------------- 430.5/430.5 kB 13.6 MB/s eta 0:00:00\n",
      "Collecting tensorboard<2.15,>=2.14\n",
      "  Downloading tensorboard-2.14.1-py3-none-any.whl (5.5 MB)\n",
      "     ---------------------------------------- 5.5/5.5 MB 10.4 MB/s eta 0:00:00\n",
      "Collecting tensorflow-estimator<2.15,>=2.14.0\n",
      "  Downloading tensorflow_estimator-2.14.0-py2.py3-none-any.whl (440 kB)\n",
      "     ------------------------------------- 440.7/440.7 kB 13.9 MB/s eta 0:00:00\n",
      "Requirement already satisfied: setuptools in c:\\users\\user\\miniconda3\\lib\\site-packages (from tensorflow-intel==2.14.0->tensorflow) (65.5.0)\n",
      "Collecting astunparse>=1.6.0\n",
      "  Using cached astunparse-1.6.3-py2.py3-none-any.whl (12 kB)\n",
      "Collecting flatbuffers>=23.5.26\n",
      "  Downloading flatbuffers-23.5.26-py2.py3-none-any.whl (26 kB)\n",
      "Requirement already satisfied: packaging in c:\\users\\user\\miniconda3\\lib\\site-packages (from tensorflow-intel==2.14.0->tensorflow) (23.0)\n",
      "Collecting gast!=0.5.0,!=0.5.1,!=0.5.2,>=0.2.1\n",
      "  Downloading gast-0.5.4-py3-none-any.whl (19 kB)\n",
      "Requirement already satisfied: six>=1.12.0 in c:\\users\\user\\miniconda3\\lib\\site-packages (from tensorflow-intel==2.14.0->tensorflow) (1.16.0)\n",
      "Requirement already satisfied: numpy>=1.23.5 in c:\\users\\user\\miniconda3\\lib\\site-packages (from tensorflow-intel==2.14.0->tensorflow) (1.26.0)\n",
      "Collecting ml-dtypes==0.2.0\n",
      "  Downloading ml_dtypes-0.2.0-cp310-cp310-win_amd64.whl (938 kB)\n",
      "     ------------------------------------- 938.6/938.6 kB 19.8 MB/s eta 0:00:00\n",
      "Collecting absl-py>=1.0.0\n",
      "  Downloading absl_py-2.0.0-py3-none-any.whl (130 kB)\n",
      "     ---------------------------------------- 130.2/130.2 kB ? eta 0:00:00\n",
      "Collecting opt-einsum>=2.3.2\n",
      "  Using cached opt_einsum-3.3.0-py3-none-any.whl (65 kB)\n",
      "Collecting termcolor>=1.1.0\n",
      "  Downloading termcolor-2.3.0-py3-none-any.whl (6.9 kB)\n",
      "Requirement already satisfied: typing-extensions>=3.6.6 in c:\\users\\user\\miniconda3\\lib\\site-packages (from tensorflow-intel==2.14.0->tensorflow) (4.8.0)\n",
      "Collecting keras<2.15,>=2.14.0\n",
      "  Downloading keras-2.14.0-py3-none-any.whl (1.7 MB)\n",
      "     ---------------------------------------- 1.7/1.7 MB 21.8 MB/s eta 0:00:00\n",
      "Collecting libclang>=13.0.0\n",
      "  Downloading libclang-16.0.6-py2.py3-none-win_amd64.whl (24.4 MB)\n",
      "     ---------------------------------------- 24.4/24.4 MB 3.5 MB/s eta 0:00:00\n",
      "Collecting google-pasta>=0.1.1\n",
      "  Using cached google_pasta-0.2.0-py3-none-any.whl (57 kB)\n",
      "Collecting tensorflow-io-gcs-filesystem>=0.23.1\n",
      "  Using cached tensorflow_io_gcs_filesystem-0.31.0-cp310-cp310-win_amd64.whl (1.5 MB)\n",
      "Collecting grpcio<2.0,>=1.24.3\n",
      "  Downloading grpcio-1.59.0-cp310-cp310-win_amd64.whl (3.7 MB)\n",
      "     ---------------------------------------- 3.7/3.7 MB 15.5 MB/s eta 0:00:00\n",
      "Collecting h5py>=2.9.0\n",
      "  Downloading h5py-3.10.0-cp310-cp310-win_amd64.whl (2.7 MB)\n",
      "     ---------------------------------------- 2.7/2.7 MB 19.2 MB/s eta 0:00:00\n",
      "Collecting wrapt<1.15,>=1.11.0\n",
      "  Downloading wrapt-1.14.1-cp310-cp310-win_amd64.whl (35 kB)\n",
      "Requirement already satisfied: wheel<1.0,>=0.23.0 in c:\\users\\user\\miniconda3\\lib\\site-packages (from astunparse>=1.6.0->tensorflow-intel==2.14.0->tensorflow) (0.37.1)\n",
      "Collecting werkzeug>=1.0.1\n",
      "  Downloading werkzeug-3.0.0-py3-none-any.whl (226 kB)\n",
      "     ------------------------------------- 226.6/226.6 kB 13.5 MB/s eta 0:00:00\n",
      "Collecting google-auth<3,>=1.6.3\n",
      "  Downloading google_auth-2.23.3-py2.py3-none-any.whl (182 kB)\n",
      "     ------------------------------------- 182.3/182.3 kB 11.5 MB/s eta 0:00:00\n",
      "Requirement already satisfied: requests<3,>=2.21.0 in c:\\users\\user\\miniconda3\\lib\\site-packages (from tensorboard<2.15,>=2.14->tensorflow-intel==2.14.0->tensorflow) (2.31.0)\n",
      "Collecting markdown>=2.6.8\n",
      "  Downloading Markdown-3.5-py3-none-any.whl (101 kB)\n",
      "     -------------------------------------- 101.7/101.7 kB 5.7 MB/s eta 0:00:00\n",
      "Collecting google-auth-oauthlib<1.1,>=0.5\n",
      "  Downloading google_auth_oauthlib-1.0.0-py2.py3-none-any.whl (18 kB)\n",
      "Collecting tensorboard-data-server<0.8.0,>=0.7.0\n",
      "  Downloading tensorboard_data_server-0.7.1-py3-none-any.whl (2.4 kB)\n",
      "Collecting rsa<5,>=3.1.4\n",
      "  Using cached rsa-4.9-py3-none-any.whl (34 kB)\n",
      "Collecting cachetools<6.0,>=2.0.0\n",
      "  Downloading cachetools-5.3.1-py3-none-any.whl (9.3 kB)\n",
      "Collecting pyasn1-modules>=0.2.1\n",
      "  Downloading pyasn1_modules-0.3.0-py2.py3-none-any.whl (181 kB)\n",
      "     ------------------------------------- 181.3/181.3 kB 11.4 MB/s eta 0:00:00\n",
      "Collecting requests-oauthlib>=0.7.0\n",
      "  Using cached requests_oauthlib-1.3.1-py2.py3-none-any.whl (23 kB)\n",
      "Requirement already satisfied: certifi>=2017.4.17 in c:\\users\\user\\miniconda3\\lib\\site-packages (from requests<3,>=2.21.0->tensorboard<2.15,>=2.14->tensorflow-intel==2.14.0->tensorflow) (2022.12.7)\n",
      "Requirement already satisfied: urllib3<3,>=1.21.1 in c:\\users\\user\\miniconda3\\lib\\site-packages (from requests<3,>=2.21.0->tensorboard<2.15,>=2.14->tensorflow-intel==2.14.0->tensorflow) (1.26.13)\n",
      "Requirement already satisfied: idna<4,>=2.5 in c:\\users\\user\\miniconda3\\lib\\site-packages (from requests<3,>=2.21.0->tensorboard<2.15,>=2.14->tensorflow-intel==2.14.0->tensorflow) (3.4)\n",
      "Requirement already satisfied: charset-normalizer<4,>=2 in c:\\users\\user\\miniconda3\\lib\\site-packages (from requests<3,>=2.21.0->tensorboard<2.15,>=2.14->tensorflow-intel==2.14.0->tensorflow) (2.0.4)\n",
      "Requirement already satisfied: MarkupSafe>=2.1.1 in c:\\users\\user\\miniconda3\\lib\\site-packages (from werkzeug>=1.0.1->tensorboard<2.15,>=2.14->tensorflow-intel==2.14.0->tensorflow) (2.1.1)\n",
      "Collecting pyasn1<0.6.0,>=0.4.6\n",
      "  Downloading pyasn1-0.5.0-py2.py3-none-any.whl (83 kB)\n",
      "     ---------------------------------------- 83.9/83.9 kB 4.6 MB/s eta 0:00:00\n",
      "Collecting oauthlib>=3.0.0\n",
      "  Using cached oauthlib-3.2.2-py3-none-any.whl (151 kB)\n",
      "Installing collected packages: libclang, flatbuffers, wrapt, werkzeug, termcolor, tensorflow-io-gcs-filesystem, tensorflow-estimator, tensorboard-data-server, pyasn1, protobuf, opt-einsum, oauthlib, ml-dtypes, markdown, keras, h5py, grpcio, google-pasta, gast, cachetools, astunparse, absl-py, rsa, requests-oauthlib, pyasn1-modules, google-auth, google-auth-oauthlib, tensorboard, tensorflow-intel, tensorflow\n",
      "Successfully installed absl-py-2.0.0 astunparse-1.6.3 cachetools-5.3.1 flatbuffers-23.5.26 gast-0.5.4 google-auth-2.23.3 google-auth-oauthlib-1.0.0 google-pasta-0.2.0 grpcio-1.59.0 h5py-3.10.0 keras-2.14.0 libclang-16.0.6 markdown-3.5 ml-dtypes-0.2.0 oauthlib-3.2.2 opt-einsum-3.3.0 protobuf-4.24.4 pyasn1-0.5.0 pyasn1-modules-0.3.0 requests-oauthlib-1.3.1 rsa-4.9 tensorboard-2.14.1 tensorboard-data-server-0.7.1 tensorflow-2.14.0 tensorflow-estimator-2.14.0 tensorflow-intel-2.14.0 tensorflow-io-gcs-filesystem-0.31.0 termcolor-2.3.0 werkzeug-3.0.0 wrapt-1.14.1\n"
     ]
    }
   ],
   "source": [
    "!pip install tensorflow"
   ]
  },
  {
   "cell_type": "markdown",
   "metadata": {
    "id": "8ADVzspr9B1Y"
   },
   "source": [
    "- CNN 모델을 이용해서 CIFAR-10 학습\n",
    "  - 데이터가 텐서로 제공\n"
   ]
  },
  {
   "cell_type": "code",
   "execution_count": 1,
   "metadata": {
    "id": "ax9g8j8e9GRn",
    "scrolled": true
   },
   "outputs": [],
   "source": [
    "import numpy as np\n",
    "import tensorflow as tf\n",
    "from tensorflow.keras.datasets import cifar10\n",
    "from tensorflow.keras.models import Sequential\n",
    "from tensorflow.keras.layers import Conv2D,MaxPooling2D,Flatten,Dense,Dropout\n",
    "from tensorflow.keras.optimizers import Adam"
   ]
  },
  {
   "cell_type": "code",
   "execution_count": 2,
   "metadata": {
    "colab": {
     "base_uri": "https://localhost:8080/"
    },
    "id": "c3AjTAi3-KI2",
    "outputId": "9328db9c-c737-420d-ab3d-4bfa1a9bfc4f"
   },
   "outputs": [
    {
     "name": "stdout",
     "output_type": "stream",
     "text": [
      "Downloading data from https://www.cs.toronto.edu/~kriz/cifar-10-python.tar.gz\n",
      "170498071/170498071 [==============================] - 6s 0us/step\n"
     ]
    }
   ],
   "source": [
    "# cifar10 데이터 로드하고 신경망에 입력형태로 변환\n",
    "(x_train,y_train),(x_test,y_test) = cifar10.load_data()\n",
    "x_train = x_train.astype(np.float32) / 255.0\n",
    "x_test = x_test.astype(np.float32) / 255.0"
   ]
  },
  {
   "cell_type": "code",
   "execution_count": 3,
   "metadata": {
    "id": "FxPRJTbb-tx8"
   },
   "outputs": [],
   "source": [
    "# 정답데이터를 데이터 타입을 변경 - one hot\n",
    "y_train = tf.keras.utils.to_categorical(y_train,10)\n",
    "y_test = tf.keras.utils.to_categorical(y_test,10)"
   ]
  },
  {
   "cell_type": "code",
   "execution_count": 4,
   "metadata": {
    "colab": {
     "base_uri": "https://localhost:8080/"
    },
    "id": "B8ugu7QL_kg_",
    "outputId": "c6355213-3e72-495f-f161-b464ce459a89"
   },
   "outputs": [
    {
     "data": {
      "text/plain": [
       "((50000, 32, 32, 3), (32, 32, 3))"
      ]
     },
     "execution_count": 4,
     "metadata": {},
     "output_type": "execute_result"
    }
   ],
   "source": [
    "x_train.shape, x_train.shape[1:]"
   ]
  },
  {
   "cell_type": "code",
   "execution_count": 2,
   "metadata": {
    "id": "rfVaX2fB_Uud"
   },
   "outputs": [],
   "source": [
    "# 신경망 모델 설계  c-c-p-d\n",
    "cnn = Sequential([\n",
    "    Conv2D(32,3,activation ='relu',input_shape = (32,32,3)),\n",
    "    Conv2D(32,3,activation='relu'),\n",
    "    MaxPooling2D(),\n",
    "    Dropout(0.25),\n",
    "    Conv2D(64,3,activation ='relu'),\n",
    "    Conv2D(64,3,activation='relu'),\n",
    "    MaxPooling2D(),\n",
    "    Dropout(0.25),\n",
    "    Flatten(),\n",
    "    Dense(512,activation='relu'),\n",
    "    Dropout(0.5),\n",
    "    Dense(10,activation='softmax')\n",
    "])"
   ]
  },
  {
   "cell_type": "code",
   "execution_count": 6,
   "metadata": {
    "colab": {
     "base_uri": "https://localhost:8080/"
    },
    "collapsed": true,
    "id": "N-HkBCl7AmvH",
    "jupyter": {
     "outputs_hidden": true
    },
    "outputId": "d7e1882b-28f4-458f-89bf-e5e97d866824"
   },
   "outputs": [
    {
     "name": "stdout",
     "output_type": "stream",
     "text": [
      "Epoch 1/30\n",
      "391/391 [==============================] - 17s 14ms/step - loss: 1.6696 - accuracy: 0.3851 - val_loss: 1.3314 - val_accuracy: 0.5114\n",
      "Epoch 2/30\n",
      "391/391 [==============================] - 4s 11ms/step - loss: 1.2862 - accuracy: 0.5377 - val_loss: 1.1252 - val_accuracy: 0.6001\n",
      "Epoch 3/30\n",
      "391/391 [==============================] - 4s 11ms/step - loss: 1.1197 - accuracy: 0.6013 - val_loss: 0.9793 - val_accuracy: 0.6557\n",
      "Epoch 4/30\n",
      "391/391 [==============================] - 4s 11ms/step - loss: 1.0035 - accuracy: 0.6461 - val_loss: 0.9033 - val_accuracy: 0.6845\n",
      "Epoch 5/30\n",
      "391/391 [==============================] - 4s 11ms/step - loss: 0.9168 - accuracy: 0.6758 - val_loss: 0.8510 - val_accuracy: 0.7012\n",
      "Epoch 6/30\n",
      "391/391 [==============================] - 5s 13ms/step - loss: 0.8463 - accuracy: 0.7009 - val_loss: 0.7897 - val_accuracy: 0.7250\n",
      "Epoch 7/30\n",
      "391/391 [==============================] - 4s 11ms/step - loss: 0.7952 - accuracy: 0.7200 - val_loss: 0.7699 - val_accuracy: 0.7306\n",
      "Epoch 8/30\n",
      "391/391 [==============================] - 4s 11ms/step - loss: 0.7531 - accuracy: 0.7359 - val_loss: 0.7117 - val_accuracy: 0.7486\n",
      "Epoch 9/30\n",
      "391/391 [==============================] - 5s 12ms/step - loss: 0.7214 - accuracy: 0.7473 - val_loss: 0.7127 - val_accuracy: 0.7494\n",
      "Epoch 10/30\n",
      "391/391 [==============================] - 4s 11ms/step - loss: 0.6916 - accuracy: 0.7584 - val_loss: 0.6864 - val_accuracy: 0.7626\n",
      "Epoch 11/30\n",
      "391/391 [==============================] - 4s 11ms/step - loss: 0.6621 - accuracy: 0.7671 - val_loss: 0.6978 - val_accuracy: 0.7581\n",
      "Epoch 12/30\n",
      "391/391 [==============================] - 5s 12ms/step - loss: 0.6441 - accuracy: 0.7730 - val_loss: 0.6671 - val_accuracy: 0.7690\n",
      "Epoch 13/30\n",
      "391/391 [==============================] - 4s 11ms/step - loss: 0.6249 - accuracy: 0.7804 - val_loss: 0.6529 - val_accuracy: 0.7761\n",
      "Epoch 14/30\n",
      "391/391 [==============================] - 5s 12ms/step - loss: 0.5965 - accuracy: 0.7910 - val_loss: 0.6474 - val_accuracy: 0.7772\n",
      "Epoch 15/30\n",
      "391/391 [==============================] - 5s 12ms/step - loss: 0.5762 - accuracy: 0.7958 - val_loss: 0.6609 - val_accuracy: 0.7706\n",
      "Epoch 16/30\n",
      "391/391 [==============================] - 4s 11ms/step - loss: 0.5601 - accuracy: 0.8011 - val_loss: 0.6189 - val_accuracy: 0.7892\n",
      "Epoch 17/30\n",
      "391/391 [==============================] - 5s 12ms/step - loss: 0.5505 - accuracy: 0.8052 - val_loss: 0.6378 - val_accuracy: 0.7802\n",
      "Epoch 18/30\n",
      "391/391 [==============================] - 4s 11ms/step - loss: 0.5286 - accuracy: 0.8126 - val_loss: 0.6306 - val_accuracy: 0.7904\n",
      "Epoch 19/30\n",
      "391/391 [==============================] - 4s 11ms/step - loss: 0.5185 - accuracy: 0.8160 - val_loss: 0.6364 - val_accuracy: 0.7843\n",
      "Epoch 20/30\n",
      "391/391 [==============================] - 5s 12ms/step - loss: 0.4975 - accuracy: 0.8236 - val_loss: 0.6205 - val_accuracy: 0.7903\n",
      "Epoch 21/30\n",
      "391/391 [==============================] - 4s 11ms/step - loss: 0.4916 - accuracy: 0.8247 - val_loss: 0.6275 - val_accuracy: 0.7850\n",
      "Epoch 22/30\n",
      "391/391 [==============================] - 4s 11ms/step - loss: 0.4840 - accuracy: 0.8293 - val_loss: 0.6240 - val_accuracy: 0.7924\n",
      "Epoch 23/30\n",
      "391/391 [==============================] - 5s 12ms/step - loss: 0.4721 - accuracy: 0.8331 - val_loss: 0.6037 - val_accuracy: 0.7962\n",
      "Epoch 24/30\n",
      "391/391 [==============================] - 4s 11ms/step - loss: 0.4567 - accuracy: 0.8368 - val_loss: 0.6013 - val_accuracy: 0.8002\n",
      "Epoch 25/30\n",
      "391/391 [==============================] - 5s 12ms/step - loss: 0.4460 - accuracy: 0.8422 - val_loss: 0.6220 - val_accuracy: 0.7924\n",
      "Epoch 26/30\n",
      "391/391 [==============================] - 5s 12ms/step - loss: 0.4488 - accuracy: 0.8427 - val_loss: 0.6349 - val_accuracy: 0.7942\n",
      "Epoch 27/30\n",
      "391/391 [==============================] - 4s 11ms/step - loss: 0.4412 - accuracy: 0.8429 - val_loss: 0.6247 - val_accuracy: 0.7927\n",
      "Epoch 28/30\n",
      "391/391 [==============================] - 4s 11ms/step - loss: 0.4304 - accuracy: 0.8449 - val_loss: 0.6475 - val_accuracy: 0.7863\n",
      "Epoch 29/30\n",
      "391/391 [==============================] - 4s 11ms/step - loss: 0.4273 - accuracy: 0.8471 - val_loss: 0.6217 - val_accuracy: 0.7903\n",
      "Epoch 30/30\n",
      "391/391 [==============================] - 4s 11ms/step - loss: 0.4125 - accuracy: 0.8530 - val_loss: 0.6506 - val_accuracy: 0.7945\n"
     ]
    }
   ],
   "source": [
    "# 신경망 모델 학습\n",
    "cnn.compile(loss = tf.keras.losses.categorical_crossentropy,optimizer=Adam(),metrics=['accuracy'])\n",
    "hist = cnn.fit(x_train,y_train,batch_size=128, epochs=30,validation_data=(x_test,y_test))"
   ]
  },
  {
   "cell_type": "code",
   "execution_count": 7,
   "metadata": {
    "colab": {
     "base_uri": "https://localhost:8080/"
    },
    "id": "uJ0vHeb1CSMH",
    "outputId": "54955d7e-36ce-483b-dd63-488deeb2d74a"
   },
   "outputs": [
    {
     "name": "stdout",
     "output_type": "stream",
     "text": [
      "WARNING:tensorflow:Compiled the loaded model, but the compiled metrics have yet to be built. `model.compile_metrics` will be empty until you train or evaluate the model.\n"
     ]
    },
    {
     "name": "stderr",
     "output_type": "stream",
     "text": [
      "C:\\Users\\user\\miniconda3\\lib\\site-packages\\keras\\src\\engine\\training.py:3079: UserWarning: You are saving your model as an HDF5 file via `model.save()`. This file format is considered legacy. We recommend using instead the native Keras format, e.g. `model.save('my_model.keras')`.\n",
      "  saving_api.save_model(\n"
     ]
    }
   ],
   "source": [
    "# 신경망의 구조 정보와 가중치를 저장\n",
    "cnn.save('cifar10_cnn.h5')"
   ]
  },
  {
   "cell_type": "code",
   "execution_count": 3,
   "metadata": {
    "id": "-t7FjWHXCsux"
   },
   "outputs": [],
   "source": [
    "model = tf.keras.models.load_model('cifar10_cnn.h5')"
   ]
  },
  {
   "cell_type": "code",
   "execution_count": 12,
   "metadata": {
    "collapsed": true,
    "jupyter": {
     "outputs_hidden": true
    },
    "scrolled": true
   },
   "outputs": [
    {
     "name": "stdout",
     "output_type": "stream",
     "text": [
      "Collecting gtts\n",
      "  Downloading gTTS-2.4.0-py3-none-any.whl (29 kB)\n",
      "Requirement already satisfied: requests<3,>=2.27 in c:\\users\\user\\miniconda3\\lib\\site-packages (from gtts) (2.31.0)\n",
      "Collecting click<8.2,>=7.1\n",
      "  Downloading click-8.1.7-py3-none-any.whl (97 kB)\n",
      "     ---------------------------------------- 97.9/97.9 kB 5.5 MB/s eta 0:00:00\n",
      "Requirement already satisfied: colorama in c:\\users\\user\\miniconda3\\lib\\site-packages (from click<8.2,>=7.1->gtts) (0.4.5)\n",
      "Requirement already satisfied: certifi>=2017.4.17 in c:\\users\\user\\miniconda3\\lib\\site-packages (from requests<3,>=2.27->gtts) (2022.12.7)\n",
      "Requirement already satisfied: charset-normalizer<4,>=2 in c:\\users\\user\\miniconda3\\lib\\site-packages (from requests<3,>=2.27->gtts) (2.0.4)\n",
      "Requirement already satisfied: idna<4,>=2.5 in c:\\users\\user\\miniconda3\\lib\\site-packages (from requests<3,>=2.27->gtts) (3.4)\n",
      "Requirement already satisfied: urllib3<3,>=1.21.1 in c:\\users\\user\\miniconda3\\lib\\site-packages (from requests<3,>=2.27->gtts) (1.26.13)\n",
      "Installing collected packages: click, gtts\n",
      "Successfully installed click-8.1.7 gtts-2.4.0\n"
     ]
    }
   ],
   "source": [
    "!pip install gtts"
   ]
  },
  {
   "cell_type": "code",
   "execution_count": 14,
   "metadata": {
    "collapsed": true,
    "jupyter": {
     "outputs_hidden": true
    }
   },
   "outputs": [
    {
     "name": "stdout",
     "output_type": "stream",
     "text": [
      "Collecting playsound\n",
      "  Downloading playsound-1.3.0.tar.gz (7.7 kB)\n",
      "  Preparing metadata (setup.py): started\n",
      "  Preparing metadata (setup.py): finished with status 'done'\n",
      "Building wheels for collected packages: playsound\n",
      "  Building wheel for playsound (setup.py): started\n",
      "  Building wheel for playsound (setup.py): finished with status 'done'\n",
      "  Created wheel for playsound: filename=playsound-1.3.0-py3-none-any.whl size=7020 sha256=3459eb236d145a00f0ea63cefd05459123396246bece44353ee878efd5d5ab12\n",
      "  Stored in directory: c:\\users\\user\\appdata\\local\\pip\\cache\\wheels\\24\\f9\\b3\\2ed63b5d2a91bbf7da060acdc294c1335db338ec81f0c76e1b\n",
      "Successfully built playsound\n",
      "Installing collected packages: playsound\n",
      "Successfully installed playsound-1.3.0\n"
     ]
    }
   ],
   "source": [
    "!pip install playsound"
   ]
  },
  {
   "cell_type": "code",
   "execution_count": 4,
   "metadata": {},
   "outputs": [],
   "source": [
    "from tkinter import filedialog\n",
    "from PIL import Image, ImageTk\n",
    "import winsound\n",
    "from gtts import gTTS\n",
    "import playsound"
   ]
  },
  {
   "cell_type": "code",
   "execution_count": 12,
   "metadata": {},
   "outputs": [],
   "source": [
    "# 압축 해제\n",
    "import zipfile\n",
    "with zipfile.ZipFile('영상자동분류용_test_images.zip','r') as zip_file:\n",
    "    zip_file.extractall(\"./images/\")"
   ]
  },
  {
   "cell_type": "code",
   "execution_count": 57,
   "metadata": {},
   "outputs": [],
   "source": [
    "# 클래스명 \n",
    "class_names_en = ['airplane','automobile','bird','cat','deer','dog','frog','horse','ship','truck']\n",
    "class_names_fr=['avion','voiture','oiseau','chatte','biche','chienne','grenouille','jument','navire','un camion']\n",
    "class_names_de=['Flugzeug','Automobil','Vogel','Katze','Hirsch','Hund','Frosch','Pferd','Schiff','LKW']\n",
    "class_names_ko=['비행기','자동차','새','고양이','사슴','개','개구리','말','배','트럭']\n",
    "class_names_ja = ['비행기']"
   ]
  },
  {
   "cell_type": "code",
   "execution_count": 13,
   "metadata": {
    "collapsed": true,
    "jupyter": {
     "outputs_hidden": true
    }
   },
   "outputs": [
    {
     "name": "stdout",
     "output_type": "stream",
     "text": [
      "Collecting canvas\n",
      "  Downloading canvas-0.3.tar.gz (3.4 kB)\n",
      "  Preparing metadata (setup.py): started\n",
      "  Preparing metadata (setup.py): finished with status 'done'\n",
      "Building wheels for collected packages: canvas\n",
      "  Building wheel for canvas (setup.py): started\n",
      "  Building wheel for canvas (setup.py): finished with status 'done'\n",
      "  Created wheel for canvas: filename=canvas-0.3-py3-none-any.whl size=2230 sha256=e8003a294d5cb6fea9a6564c25720d8521a4fd810126aebc853faef09145d40a\n",
      "  Stored in directory: c:\\users\\user\\appdata\\local\\pip\\cache\\wheels\\23\\50\\98\\60e94a80e4d0602e89dfad674e0d9ee6fcf070516aa2355e03\n",
      "Successfully built canvas\n",
      "Installing collected packages: canvas\n",
      "Successfully installed canvas-0.3\n"
     ]
    }
   ],
   "source": [
    "!pip install canvas"
   ]
  },
  {
   "cell_type": "code",
   "execution_count": 61,
   "metadata": {},
   "outputs": [],
   "source": [
    "import os\n",
    "class_id = 0;\n",
    "tk_img = ''\n",
    "# 영상버튼을 눌렀을때 실행되는 콜벡함수\n",
    "def process_image():\n",
    "    global class_id,tk_img\n",
    "    fname = filedialog.askopenfilename()\n",
    "    img = Image.open(fname)\n",
    "    tk_img = img.resize([128,128])\n",
    "    tk_img = ImageTk.PhotoImage(tk_img)\n",
    "    canvas.create_image( (canvas.winfo_width()/2, canvas.winfo_height()/2),\n",
    "                        image = tk_img, anchor = 'center')\n",
    "    x_test = []\n",
    "    x = np.asanyarray(img.resize([32,32]))/255.0\n",
    "    x_test.append(x)\n",
    "    x_test = np.asanyarray(x_test)\n",
    "    res = model.predict(x_test)\n",
    "    class_id = np.argmax(res)    \n",
    "    label_en['text'] = '영어'+class_names_en[class_id] # 위젯\n",
    "    label_fr['text'] = '프랑스어'+class_names_fr[class_id] # 위젯\n",
    "    label_de['text'] = '독일어'+class_names_de[class_id] # 위젯\n",
    "    label_ko['text'] = '한국어'+class_names_ko[class_id] # 위젯\n",
    "    label_ja['text'] = '일본어'+class_names_ja[class_id] # 위젯\n",
    "    winsound.Beep(frequency=500,duration=250)\n",
    "def quit_program():\n",
    "    win.destroy()\n",
    "    \n",
    "def tts_english():\n",
    "    tts = gTTS(text=class_names_en[class_id],lang='en')\n",
    "    if os.path.isfile('word.mp3'): os.remove('word.mp3')\n",
    "    tts.save('word.mp3')\n",
    "    playsound.playsound('word.mp3',True)\n",
    "def tts_french():\n",
    "    tts = gTTS(text=class_names_fr[class_id],lang='fr')\n",
    "    if os.path.isfile('word.mp3'): os.remove('word.mp3')\n",
    "    tts.save('word.mp3')\n",
    "    playsound.playsound('word.mp3',True)\n",
    "def tts_deutsch():\n",
    "    tts = gTTS(text=class_names_de[class_id],lang='de')\n",
    "    if os.path.isfile('word.mp3'): os.remove('word.mp3')\n",
    "    tts.save('word.mp3')\n",
    "    playsound.playsound('word.mp3',True)\n",
    "def tts_korean():\n",
    "    tts = gTTS(text=class_names_ko[class_id],lang='ko')\n",
    "    if os.path.isfile('word.mp3'): os.remove('word.mp3')\n",
    "    tts.save('word.mp3')\n",
    "    playsound.playsound('word.mp3',True)\n",
    "def tts_japaness():\n",
    "    tts = gTTS(text=class_names_ja[class_id],lang='ja')\n",
    "    if os.path.isfile('word.mp3'): os.remove('word.mp3')\n",
    "    tts.save('word.mp3')\n",
    "    playsound.playsound('word.mp3',True)    \n",
    "    "
   ]
  },
  {
   "cell_type": "code",
   "execution_count": 18,
   "metadata": {},
   "outputs": [],
   "source": [
    "import tkinter as tk"
   ]
  },
  {
   "cell_type": "code",
   "execution_count": null,
   "metadata": {},
   "outputs": [
    {
     "name": "stdout",
     "output_type": "stream",
     "text": [
      "1/1 [==============================] - 0s 34ms/step\n"
     ]
    },
    {
     "name": "stderr",
     "output_type": "stream",
     "text": [
      "Exception in Tkinter callback\n",
      "Traceback (most recent call last):\n",
      "  File \"C:\\Users\\user\\miniconda3\\lib\\tkinter\\__init__.py\", line 1921, in __call__\n",
      "    return self.func(*args)\n",
      "  File \"C:\\Users\\user\\AppData\\Local\\Temp\\ipykernel_3048\\366555671.py\", line 49, in tts_japaness\n",
      "    tts = gTTS(text=class_names_ja[class_id],lang='jp')\n",
      "  File \"C:\\Users\\user\\miniconda3\\lib\\site-packages\\gtts\\tts.py\", line 145, in __init__\n",
      "    raise ValueError(\"Language not supported: %s\" % lang)\n",
      "ValueError: Language not supported: jp\n"
     ]
    }
   ],
   "source": [
    "win = tk.Tk()\n",
    "win.title(\"다국어 단어\")\n",
    "win.geometry('512x500')\n",
    "\n",
    "process_button = tk.Button(win,text='영상선택',command = process_image) # 위젯 생성\n",
    "quit_button = tk.Button(win,text='끝내기',command = quit_program) # 위젯 생성\n",
    "canvas = tk.Canvas(win,width=256,height=256,bg='cyan',bd=4)\n",
    "label_en = tk.Label(win,width=16,height=1,bg='yellow',bd=4,text='영어',anchor='w')\n",
    "label_fr = tk.Label(win,width=16,height=1,bg='yellow',bd=4,text='프랑스어',anchor='w')\n",
    "label_de = tk.Label(win,width=16,height=1,bg='yellow',bd=4,text='독일어',anchor='w')\n",
    "label_ko = tk.Label(win,width=16,height=1,bg='yellow',bd=4,text='한국어',anchor='w')\n",
    "label_ja = tk.Label(win,width=16,height=1,bg='yellow',bd=4,text='일본어',anchor='w')\n",
    "tts_en = tk.Button(win,text='듣기',command=tts_english)\n",
    "tts_fr = tk.Button(win,text='듣기',command=tts_french)\n",
    "tts_de = tk.Button(win,text='듣기',command=tts_deutsch)\n",
    "tts_ko = tk.Button(win,text='듣기',command=tts_korean)\n",
    "tts_ja = tk.Button(win,text='듣기',command=tts_japaness)\n",
    "\n",
    "\n",
    "process_button.grid(row=0,column=0) # 위젯 배치\n",
    "quit_button.grid(row=1,column=0)\n",
    "canvas.grid(row=0,column=1)\n",
    "label_en.grid(row=1,column=1); tts_en.grid(row=1,column=2)\n",
    "label_fr.grid(row=2,column=1); tts_fr.grid(row=2,column=2)\n",
    "label_de.grid(row=3,column=1); tts_de.grid(row=3,column=2)\n",
    "label_ko.grid(row=4,column=1); tts_ko.grid(row=4,column=2)\n",
    "label_ja.grid(row=5,column=1); tts_ja.grid(row=5,column=2)\n",
    "\n",
    "# 실행은 \n",
    "win.mainloop()"
   ]
  },
  {
   "cell_type": "code",
   "execution_count": null,
   "metadata": {},
   "outputs": [],
   "source": []
  }
 ],
 "metadata": {
  "accelerator": "GPU",
  "colab": {
   "gpuType": "T4",
   "provenance": []
  },
  "kernelspec": {
   "display_name": "Python 3 (ipykernel)",
   "language": "python",
   "name": "python3"
  },
  "language_info": {
   "codemirror_mode": {
    "name": "ipython",
    "version": 3
   },
   "file_extension": ".py",
   "mimetype": "text/x-python",
   "name": "python",
   "nbconvert_exporter": "python",
   "pygments_lexer": "ipython3",
   "version": "3.10.8"
  }
 },
 "nbformat": 4,
 "nbformat_minor": 4
}
