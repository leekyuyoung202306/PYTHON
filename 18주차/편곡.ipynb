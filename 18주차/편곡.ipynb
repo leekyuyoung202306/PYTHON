{
 "cells": [
  {
   "cell_type": "code",
   "execution_count": 1,
   "id": "a498b88b-90a5-4a82-ba39-4ee4a09af015",
   "metadata": {},
   "outputs": [],
   "source": [
    "import music21\n",
    "little_star=\"tinynotation: 4/4 c4 c4 g4 g4 a4 a4 g2 f4 f4 e4 e4 d4 d4 c2 g4 g4 f4 f4 e4 e4 d2 g4 g4 f4 f4 e4 e4 d2 c4 c4 g4 g4 a4 a4 g2 f4 f4 e4 e4 d4 d4 c2\"\n",
    "music21.converter.parse(little_star).show('mid')"
   ]
  },
  {
   "cell_type": "code",
   "execution_count": 2,
   "id": "0df862b5-2f59-4e96-9f83-b9172471f539",
   "metadata": {},
   "outputs": [],
   "source": [
    "# 데이터  sampling\n",
    "# ABC 표기 데이터는 2채널(계이름과 박자), 분류문제\n",
    "# x : [ [1,4],[1,4],[1,4] ... ]\n",
    "# y : [4 4]- 원핫 000000000100000"
   ]
  },
  {
   "cell_type": "code",
   "execution_count": 3,
   "id": "7c4421c0-790b-423d-9c18-27846c86e0f3",
   "metadata": {},
   "outputs": [],
   "source": [
    "import numpy as np"
   ]
  },
  {
   "cell_type": "code",
   "execution_count": 8,
   "id": "58883f94-517c-4f78-b252-0cda223acaab",
   "metadata": {},
   "outputs": [
    {
     "data": {
      "text/plain": [
       "({'c': 1, 'd': 2, 'e': 3, 'f': 4, 'g': 5, 'a': 6, 'b': 7},\n",
       " {1: 'c', 2: 'd', 3: 'e', 4: 'f', 5: 'g', 6: 'a', 7: 'b'})"
      ]
     },
     "execution_count": 8,
     "metadata": {},
     "output_type": "execute_result"
    }
   ],
   "source": [
    "temp = ['c','d','e','f','g','a','b']\n",
    "note2num = dict(zip(temp,np.arange(1,8)))\n",
    "num2note =  { value:key for key,value in note2num.items()  }\n",
    "note2num, num2note"
   ]
  },
  {
   "cell_type": "code",
   "execution_count": 13,
   "id": "eaa9ffdb-c836-4a58-9323-99e30f98b5e0",
   "metadata": {},
   "outputs": [
    {
     "data": {
      "text/plain": [
       "[[1, 4], [1, 4], [5, 4], [5, 4], [6, 4]]"
      ]
     },
     "execution_count": 13,
     "metadata": {},
     "output_type": "execute_result"
    }
   ],
   "source": [
    "# 시계열 데이터 만들기\n",
    "def abc2timeseries(s):\n",
    "    return [ [note2num[i[0]], int(i[1]) ] for i in s.split()[2:] ]\n",
    "temp = abc2timeseries(little_star)\n",
    "temp[:5]"
   ]
  },
  {
   "cell_type": "code",
   "execution_count": 17,
   "id": "4a3cc00d-3ebf-492d-8c07-a8146d80f62f",
   "metadata": {},
   "outputs": [
    {
     "data": {
      "text/plain": [
       "'tinynotation: 4/4 c4 c4 g4 g4 a4 a4 g2 f4 f4 e4 e4 d4 d4 c2 g4 g4 f4 f4 e4 e4 d2 g4 g4 f4 f4 e4 e4 d2 c4 c4 g4 g4 a4 a4 g2 f4 f4 e4 e4 d4 d4 c2'"
      ]
     },
     "execution_count": 17,
     "metadata": {},
     "output_type": "execute_result"
    }
   ],
   "source": [
    "def timeseries2abc(t):\n",
    "    return \"tinynotation: 4/4 \"+\" \".join([num2note[i]+str(j) for i,j in t])\n",
    "timeseries2abc(temp)    "
   ]
  },
  {
   "cell_type": "code",
   "execution_count": 19,
   "id": "12bdf6fd-2fee-41be-b407-7bff34dd4049",
   "metadata": {
    "collapsed": true,
    "jupyter": {
     "outputs_hidden": true
    }
   },
   "outputs": [
    {
     "data": {
      "text/plain": [
       "[[1, 2],\n",
       " [2, 2],\n",
       " [3, 2],\n",
       " [4, 2],\n",
       " [5, 2],\n",
       " [6, 2],\n",
       " [7, 2],\n",
       " [1, 4],\n",
       " [2, 4],\n",
       " [3, 4],\n",
       " [4, 4],\n",
       " [5, 4],\n",
       " [6, 4],\n",
       " [7, 4],\n",
       " [1, 8],\n",
       " [2, 8],\n",
       " [3, 8],\n",
       " [4, 8],\n",
       " [5, 8],\n",
       " [6, 8],\n",
       " [7, 8]]"
      ]
     },
     "execution_count": 19,
     "metadata": {},
     "output_type": "execute_result"
    }
   ],
   "source": [
    "# 원핫 코드로 변환하는 표\n",
    "#[  [1,2],[2,2],..[7,2], ]\n",
    "onehot = [[i,2] for i in range(1,8)] + [[i,4] for i in range(1,8)] + [[i,8] for i in range(1,8)]"
   ]
  },
  {
   "cell_type": "code",
   "execution_count": 21,
   "id": "c3595d85-4d57-4369-aa2b-4d7f668f641b",
   "metadata": {},
   "outputs": [
    {
     "data": {
      "text/plain": [
       "[[1, 4], [1, 4], [5, 4], [5, 4], [6, 4]]"
      ]
     },
     "execution_count": 21,
     "metadata": {},
     "output_type": "execute_result"
    }
   ],
   "source": [
    "seq = abc2timeseries(little_star)\n",
    "seq[:5]"
   ]
  },
  {
   "cell_type": "code",
   "execution_count": 25,
   "id": "af70a12d-6d17-4530-af8d-0b04b5316ea6",
   "metadata": {
    "collapsed": true,
    "jupyter": {
     "outputs_hidden": true
    },
    "scrolled": true
   },
   "outputs": [
    {
     "name": "stdout",
     "output_type": "stream",
     "text": [
      "[[1, 4], [1, 4], [5, 4], [5, 4], [6, 4], [6, 4], [5, 2], [4, 4]] [4, 4]\n",
      "[[1, 4], [5, 4], [5, 4], [6, 4], [6, 4], [5, 2], [4, 4], [4, 4]] [3, 4]\n",
      "[[5, 4], [5, 4], [6, 4], [6, 4], [5, 2], [4, 4], [4, 4], [3, 4]] [3, 4]\n",
      "[[5, 4], [6, 4], [6, 4], [5, 2], [4, 4], [4, 4], [3, 4], [3, 4]] [2, 4]\n",
      "[[6, 4], [6, 4], [5, 2], [4, 4], [4, 4], [3, 4], [3, 4], [2, 4]] [2, 4]\n",
      "[[6, 4], [5, 2], [4, 4], [4, 4], [3, 4], [3, 4], [2, 4], [2, 4]] [1, 2]\n",
      "[[5, 2], [4, 4], [4, 4], [3, 4], [3, 4], [2, 4], [2, 4], [1, 2]] [5, 4]\n",
      "[[4, 4], [4, 4], [3, 4], [3, 4], [2, 4], [2, 4], [1, 2], [5, 4]] [5, 4]\n",
      "[[4, 4], [3, 4], [3, 4], [2, 4], [2, 4], [1, 2], [5, 4], [5, 4]] [4, 4]\n",
      "[[3, 4], [3, 4], [2, 4], [2, 4], [1, 2], [5, 4], [5, 4], [4, 4]] [4, 4]\n",
      "[[3, 4], [2, 4], [2, 4], [1, 2], [5, 4], [5, 4], [4, 4], [4, 4]] [3, 4]\n",
      "[[2, 4], [2, 4], [1, 2], [5, 4], [5, 4], [4, 4], [4, 4], [3, 4]] [3, 4]\n",
      "[[2, 4], [1, 2], [5, 4], [5, 4], [4, 4], [4, 4], [3, 4], [3, 4]] [2, 2]\n",
      "[[1, 2], [5, 4], [5, 4], [4, 4], [4, 4], [3, 4], [3, 4], [2, 2]] [5, 4]\n",
      "[[5, 4], [5, 4], [4, 4], [4, 4], [3, 4], [3, 4], [2, 2], [5, 4]] [5, 4]\n",
      "[[5, 4], [4, 4], [4, 4], [3, 4], [3, 4], [2, 2], [5, 4], [5, 4]] [4, 4]\n",
      "[[4, 4], [4, 4], [3, 4], [3, 4], [2, 2], [5, 4], [5, 4], [4, 4]] [4, 4]\n",
      "[[4, 4], [3, 4], [3, 4], [2, 2], [5, 4], [5, 4], [4, 4], [4, 4]] [3, 4]\n",
      "[[3, 4], [3, 4], [2, 2], [5, 4], [5, 4], [4, 4], [4, 4], [3, 4]] [3, 4]\n",
      "[[3, 4], [2, 2], [5, 4], [5, 4], [4, 4], [4, 4], [3, 4], [3, 4]] [2, 2]\n",
      "[[2, 2], [5, 4], [5, 4], [4, 4], [4, 4], [3, 4], [3, 4], [2, 2]] [1, 4]\n",
      "[[5, 4], [5, 4], [4, 4], [4, 4], [3, 4], [3, 4], [2, 2], [1, 4]] [1, 4]\n",
      "[[5, 4], [4, 4], [4, 4], [3, 4], [3, 4], [2, 2], [1, 4], [1, 4]] [5, 4]\n",
      "[[4, 4], [4, 4], [3, 4], [3, 4], [2, 2], [1, 4], [1, 4], [5, 4]] [5, 4]\n",
      "[[4, 4], [3, 4], [3, 4], [2, 2], [1, 4], [1, 4], [5, 4], [5, 4]] [6, 4]\n",
      "[[3, 4], [3, 4], [2, 2], [1, 4], [1, 4], [5, 4], [5, 4], [6, 4]] [6, 4]\n",
      "[[3, 4], [2, 2], [1, 4], [1, 4], [5, 4], [5, 4], [6, 4], [6, 4]] [5, 2]\n",
      "[[2, 2], [1, 4], [1, 4], [5, 4], [5, 4], [6, 4], [6, 4], [5, 2]] [4, 4]\n",
      "[[1, 4], [1, 4], [5, 4], [5, 4], [6, 4], [6, 4], [5, 2], [4, 4]] [4, 4]\n",
      "[[1, 4], [5, 4], [5, 4], [6, 4], [6, 4], [5, 2], [4, 4], [4, 4]] [3, 4]\n",
      "[[5, 4], [5, 4], [6, 4], [6, 4], [5, 2], [4, 4], [4, 4], [3, 4]] [3, 4]\n",
      "[[5, 4], [6, 4], [6, 4], [5, 2], [4, 4], [4, 4], [3, 4], [3, 4]] [2, 4]\n",
      "[[6, 4], [6, 4], [5, 2], [4, 4], [4, 4], [3, 4], [3, 4], [2, 4]] [2, 4]\n",
      "[[6, 4], [5, 2], [4, 4], [4, 4], [3, 4], [3, 4], [2, 4], [2, 4]] [1, 2]\n"
     ]
    }
   ],
   "source": [
    "# 시계열 데이터 만들기\n",
    "w = 8  # 윈도우 크기\n",
    "h = 1  # 수평 계수\n",
    "def seq2dadtaset(seq,w,h):\n",
    "    \n",
    "    for i in range(len(seq)-(w+h)+1):        \n",
    "        x = seq[i:(i+w)]\n",
    "        y = seq[i+w+h-1]\n",
    "    "
   ]
  },
  {
   "cell_type": "code",
   "execution_count": null,
   "id": "07ef0535-312f-4e79-8ceb-4c554b60a345",
   "metadata": {},
   "outputs": [],
   "source": []
  }
 ],
 "metadata": {
  "kernelspec": {
   "display_name": "Python 3 (ipykernel)",
   "language": "python",
   "name": "python3"
  },
  "language_info": {
   "codemirror_mode": {
    "name": "ipython",
    "version": 3
   },
   "file_extension": ".py",
   "mimetype": "text/x-python",
   "name": "python",
   "nbconvert_exporter": "python",
   "pygments_lexer": "ipython3",
   "version": "3.10.8"
  }
 },
 "nbformat": 4,
 "nbformat_minor": 5
}
