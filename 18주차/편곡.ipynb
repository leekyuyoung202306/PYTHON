{
 "cells": [
  {
   "cell_type": "code",
   "execution_count": 83,
   "id": "a498b88b-90a5-4a82-ba39-4ee4a09af015",
   "metadata": {},
   "outputs": [],
   "source": [
    "import music21\n",
    "little_star=\"tinynotation: 4/4 c4 c4 g4 g4 a4 a4 g2 f4 f4 e4 e4 d4 d4 c2 g4 g4 f4 f4 e4 e4 d2 g4 g4 f4 f4 e4 e4 d2 c4 c4 g4 g4 a4 a4 g2 f4 f4 e4 e4 d4 d4 c2\"\n",
    "music21.converter.parse(little_star).show('mid')"
   ]
  },
  {
   "cell_type": "code",
   "execution_count": 84,
   "id": "0df862b5-2f59-4e96-9f83-b9172471f539",
   "metadata": {},
   "outputs": [],
   "source": [
    "# 데이터  sampling\n",
    "# ABC 표기 데이터는 2채널(계이름과 박자), 분류문제\n",
    "# x : [ [1,4],[1,4],[1,4] ... ]\n",
    "# y : [4 4]- 원핫 000000000100000"
   ]
  },
  {
   "cell_type": "code",
   "execution_count": 85,
   "id": "7c4421c0-790b-423d-9c18-27846c86e0f3",
   "metadata": {},
   "outputs": [],
   "source": [
    "import numpy as np"
   ]
  },
  {
   "cell_type": "code",
   "execution_count": 86,
   "id": "58883f94-517c-4f78-b252-0cda223acaab",
   "metadata": {},
   "outputs": [
    {
     "data": {
      "text/plain": [
       "({'c': 1, 'd': 2, 'e': 3, 'f': 4, 'g': 5, 'a': 6, 'b': 7},\n",
       " {1: 'c', 2: 'd', 3: 'e', 4: 'f', 5: 'g', 6: 'a', 7: 'b'})"
      ]
     },
     "execution_count": 86,
     "metadata": {},
     "output_type": "execute_result"
    }
   ],
   "source": [
    "temp = ['c','d','e','f','g','a','b']\n",
    "note2num = dict(zip(temp,np.arange(1,8)))\n",
    "num2note =  { value:key for key,value in note2num.items()  }\n",
    "note2num, num2note"
   ]
  },
  {
   "cell_type": "code",
   "execution_count": 87,
   "id": "eaa9ffdb-c836-4a58-9323-99e30f98b5e0",
   "metadata": {},
   "outputs": [
    {
     "data": {
      "text/plain": [
       "[[1, 4], [1, 4], [5, 4], [5, 4], [6, 4]]"
      ]
     },
     "execution_count": 87,
     "metadata": {},
     "output_type": "execute_result"
    }
   ],
   "source": [
    "# 시계열 데이터 만들기\n",
    "def abc2timeseries(s):\n",
    "    return [ [note2num[i[0]], int(i[1]) ] for i in s.split()[2:] ]\n",
    "temp = abc2timeseries(little_star)\n",
    "temp[:5]"
   ]
  },
  {
   "cell_type": "code",
   "execution_count": 88,
   "id": "4a3cc00d-3ebf-492d-8c07-a8146d80f62f",
   "metadata": {},
   "outputs": [
    {
     "data": {
      "text/plain": [
       "'tinynotation: 4/4 c4 c4 g4 g4 a4 a4 g2 f4 f4 e4 e4 d4 d4 c2 g4 g4 f4 f4 e4 e4 d2 g4 g4 f4 f4 e4 e4 d2 c4 c4 g4 g4 a4 a4 g2 f4 f4 e4 e4 d4 d4 c2'"
      ]
     },
     "execution_count": 88,
     "metadata": {},
     "output_type": "execute_result"
    }
   ],
   "source": [
    "def timeseries2abc(t):\n",
    "    return \"tinynotation: 4/4 \"+\" \".join([num2note[i]+str(j) for i,j in t])\n",
    "timeseries2abc(temp)    "
   ]
  },
  {
   "cell_type": "code",
   "execution_count": 89,
   "id": "12bdf6fd-2fee-41be-b407-7bff34dd4049",
   "metadata": {},
   "outputs": [],
   "source": [
    "# 원핫 코드로 변환하는 표\n",
    "#[  [1,2],[2,2],..[7,2], ]\n",
    "onehot = [[i,2] for i in range(1,8)] + [[i,4] for i in range(1,8)] + [[i,8] for i in range(1,8)]"
   ]
  },
  {
   "cell_type": "code",
   "execution_count": 90,
   "id": "c3595d85-4d57-4369-aa2b-4d7f668f641b",
   "metadata": {},
   "outputs": [
    {
     "data": {
      "text/plain": [
       "[[1, 4], [1, 4], [5, 4], [5, 4], [6, 4]]"
      ]
     },
     "execution_count": 90,
     "metadata": {},
     "output_type": "execute_result"
    }
   ],
   "source": [
    "seq = abc2timeseries(little_star)\n",
    "seq[:5]"
   ]
  },
  {
   "cell_type": "code",
   "execution_count": 91,
   "id": "af70a12d-6d17-4530-af8d-0b04b5316ea6",
   "metadata": {
    "scrolled": true
   },
   "outputs": [],
   "source": [
    "# 시계열 데이터 만들기\n",
    "w = 8  # 윈도우 크기\n",
    "h = 1  # 수평 계수\n",
    "def seq2dadtaset(seq,w,h):\n",
    "    x,y = [],[]\n",
    "    for i in range(len(seq)-(w+h)+1):        \n",
    "        x.append(seq[i:(i+w)])\n",
    "        y.append(seq[i+w+h-1])\n",
    "    return np.array(x), np.array(y)   "
   ]
  },
  {
   "cell_type": "code",
   "execution_count": 92,
   "id": "07ef0535-312f-4e79-8ceb-4c554b60a345",
   "metadata": {},
   "outputs": [
    {
     "name": "stdout",
     "output_type": "stream",
     "text": [
      "(34, 8, 2) (34, 2)\n",
      "[[1 4]\n",
      " [1 4]\n",
      " [5 4]\n",
      " [5 4]\n",
      " [6 4]\n",
      " [6 4]\n",
      " [5 2]\n",
      " [4 4]] [4 4]\n"
     ]
    }
   ],
   "source": [
    "X,Y = seq2dadtaset(seq,w,h)\n",
    "print(X.shape, Y.shape)\n",
    "print(X[0], Y[0])"
   ]
  },
  {
   "cell_type": "code",
   "execution_count": 93,
   "id": "4a6560b8-e6a7-4f75-b124-d5935c70ed5f",
   "metadata": {},
   "outputs": [],
   "source": [
    "from tensorflow.keras.models import Sequential\n",
    "from tensorflow.keras.layers import Dense,LSTM\n",
    "import tensorflow as tf"
   ]
  },
  {
   "cell_type": "code",
   "execution_count": 94,
   "id": "b0e5c6d7-54fc-4db8-859f-7d7a6decd666",
   "metadata": {},
   "outputs": [],
   "source": [
    "# 훈련데이터\n",
    "split = int(len(X)*1.0)  # 100% 훈련집합으로 사용\n",
    "x_train = X[:split]; y_train = Y[:split]"
   ]
  },
  {
   "cell_type": "code",
   "execution_count": 164,
   "id": "dab3ac15-4b08-44fa-9f49-b43513f3e3e0",
   "metadata": {},
   "outputs": [],
   "source": [
    "def to_onehot(y):\n",
    "    t = []\n",
    "    for i in range(len(y)):\n",
    "        a = np.zeros(len(onehot))\n",
    "        a[onehot.index(list(y[i])  )] = 1.0    # 예측이 목적이 아니라 생성이 목적이기 때문에 전체를 훈련집합으로\n",
    "        t.append(a)\n",
    "    return np.array(t)"
   ]
  },
  {
   "cell_type": "code",
   "execution_count": 96,
   "id": "6740fed1-602e-4e0d-ae54-d540dd715b12",
   "metadata": {},
   "outputs": [],
   "source": [
    "y_train = to_onehot(y_train)"
   ]
  },
  {
   "cell_type": "code",
   "execution_count": 97,
   "id": "6422b728-1b6d-4da5-a29f-ead7e5f8fed4",
   "metadata": {
    "collapsed": true,
    "jupyter": {
     "outputs_hidden": true
    }
   },
   "outputs": [
    {
     "data": {
      "text/plain": [
       "array([[0., 0., 0., 0., 0., 0., 0., 0., 0., 0., 1., 0., 0., 0., 0., 0.,\n",
       "        0., 0., 0., 0., 0.],\n",
       "       [0., 0., 0., 0., 0., 0., 0., 0., 0., 1., 0., 0., 0., 0., 0., 0.,\n",
       "        0., 0., 0., 0., 0.],\n",
       "       [0., 0., 0., 0., 0., 0., 0., 0., 0., 1., 0., 0., 0., 0., 0., 0.,\n",
       "        0., 0., 0., 0., 0.],\n",
       "       [0., 0., 0., 0., 0., 0., 0., 0., 1., 0., 0., 0., 0., 0., 0., 0.,\n",
       "        0., 0., 0., 0., 0.],\n",
       "       [0., 0., 0., 0., 0., 0., 0., 0., 1., 0., 0., 0., 0., 0., 0., 0.,\n",
       "        0., 0., 0., 0., 0.],\n",
       "       [1., 0., 0., 0., 0., 0., 0., 0., 0., 0., 0., 0., 0., 0., 0., 0.,\n",
       "        0., 0., 0., 0., 0.],\n",
       "       [0., 0., 0., 0., 0., 0., 0., 0., 0., 0., 0., 1., 0., 0., 0., 0.,\n",
       "        0., 0., 0., 0., 0.],\n",
       "       [0., 0., 0., 0., 0., 0., 0., 0., 0., 0., 0., 1., 0., 0., 0., 0.,\n",
       "        0., 0., 0., 0., 0.],\n",
       "       [0., 0., 0., 0., 0., 0., 0., 0., 0., 0., 1., 0., 0., 0., 0., 0.,\n",
       "        0., 0., 0., 0., 0.],\n",
       "       [0., 0., 0., 0., 0., 0., 0., 0., 0., 0., 1., 0., 0., 0., 0., 0.,\n",
       "        0., 0., 0., 0., 0.],\n",
       "       [0., 0., 0., 0., 0., 0., 0., 0., 0., 1., 0., 0., 0., 0., 0., 0.,\n",
       "        0., 0., 0., 0., 0.],\n",
       "       [0., 0., 0., 0., 0., 0., 0., 0., 0., 1., 0., 0., 0., 0., 0., 0.,\n",
       "        0., 0., 0., 0., 0.],\n",
       "       [0., 1., 0., 0., 0., 0., 0., 0., 0., 0., 0., 0., 0., 0., 0., 0.,\n",
       "        0., 0., 0., 0., 0.],\n",
       "       [0., 0., 0., 0., 0., 0., 0., 0., 0., 0., 0., 1., 0., 0., 0., 0.,\n",
       "        0., 0., 0., 0., 0.],\n",
       "       [0., 0., 0., 0., 0., 0., 0., 0., 0., 0., 0., 1., 0., 0., 0., 0.,\n",
       "        0., 0., 0., 0., 0.],\n",
       "       [0., 0., 0., 0., 0., 0., 0., 0., 0., 0., 1., 0., 0., 0., 0., 0.,\n",
       "        0., 0., 0., 0., 0.],\n",
       "       [0., 0., 0., 0., 0., 0., 0., 0., 0., 0., 1., 0., 0., 0., 0., 0.,\n",
       "        0., 0., 0., 0., 0.],\n",
       "       [0., 0., 0., 0., 0., 0., 0., 0., 0., 1., 0., 0., 0., 0., 0., 0.,\n",
       "        0., 0., 0., 0., 0.],\n",
       "       [0., 0., 0., 0., 0., 0., 0., 0., 0., 1., 0., 0., 0., 0., 0., 0.,\n",
       "        0., 0., 0., 0., 0.],\n",
       "       [0., 1., 0., 0., 0., 0., 0., 0., 0., 0., 0., 0., 0., 0., 0., 0.,\n",
       "        0., 0., 0., 0., 0.],\n",
       "       [0., 0., 0., 0., 0., 0., 0., 1., 0., 0., 0., 0., 0., 0., 0., 0.,\n",
       "        0., 0., 0., 0., 0.],\n",
       "       [0., 0., 0., 0., 0., 0., 0., 1., 0., 0., 0., 0., 0., 0., 0., 0.,\n",
       "        0., 0., 0., 0., 0.],\n",
       "       [0., 0., 0., 0., 0., 0., 0., 0., 0., 0., 0., 1., 0., 0., 0., 0.,\n",
       "        0., 0., 0., 0., 0.],\n",
       "       [0., 0., 0., 0., 0., 0., 0., 0., 0., 0., 0., 1., 0., 0., 0., 0.,\n",
       "        0., 0., 0., 0., 0.],\n",
       "       [0., 0., 0., 0., 0., 0., 0., 0., 0., 0., 0., 0., 1., 0., 0., 0.,\n",
       "        0., 0., 0., 0., 0.],\n",
       "       [0., 0., 0., 0., 0., 0., 0., 0., 0., 0., 0., 0., 1., 0., 0., 0.,\n",
       "        0., 0., 0., 0., 0.],\n",
       "       [0., 0., 0., 0., 1., 0., 0., 0., 0., 0., 0., 0., 0., 0., 0., 0.,\n",
       "        0., 0., 0., 0., 0.],\n",
       "       [0., 0., 0., 0., 0., 0., 0., 0., 0., 0., 1., 0., 0., 0., 0., 0.,\n",
       "        0., 0., 0., 0., 0.],\n",
       "       [0., 0., 0., 0., 0., 0., 0., 0., 0., 0., 1., 0., 0., 0., 0., 0.,\n",
       "        0., 0., 0., 0., 0.],\n",
       "       [0., 0., 0., 0., 0., 0., 0., 0., 0., 1., 0., 0., 0., 0., 0., 0.,\n",
       "        0., 0., 0., 0., 0.],\n",
       "       [0., 0., 0., 0., 0., 0., 0., 0., 0., 1., 0., 0., 0., 0., 0., 0.,\n",
       "        0., 0., 0., 0., 0.],\n",
       "       [0., 0., 0., 0., 0., 0., 0., 0., 1., 0., 0., 0., 0., 0., 0., 0.,\n",
       "        0., 0., 0., 0., 0.],\n",
       "       [0., 0., 0., 0., 0., 0., 0., 0., 1., 0., 0., 0., 0., 0., 0., 0.,\n",
       "        0., 0., 0., 0., 0.],\n",
       "       [1., 0., 0., 0., 0., 0., 0., 0., 0., 0., 0., 0., 0., 0., 0., 0.,\n",
       "        0., 0., 0., 0., 0.]])"
      ]
     },
     "execution_count": 97,
     "metadata": {},
     "output_type": "execute_result"
    }
   ],
   "source": [
    "y_train"
   ]
  },
  {
   "cell_type": "code",
   "execution_count": 98,
   "id": "53859f2e-373c-447a-b72f-74ae3f04a9fe",
   "metadata": {},
   "outputs": [
    {
     "data": {
      "text/plain": [
       "((34, 8, 2), (34, 21), (8, 2))"
      ]
     },
     "execution_count": 98,
     "metadata": {},
     "output_type": "execute_result"
    }
   ],
   "source": [
    "x_train.shape,y_train.shape,x_train[0].shape"
   ]
  },
  {
   "cell_type": "code",
   "execution_count": 125,
   "id": "6eaeee6f-d9d9-450d-a9a5-dfc516cea77c",
   "metadata": {},
   "outputs": [],
   "source": [
    "# 모델 학습\n",
    "model = Sequential([\n",
    "    LSTM(units=128,activation='relu',input_shape = x_train[0].shape),  # (8,2)\n",
    "    Dense(y_train.shape[1],activation='softmax'),  # 출력은 y의 원핫코드의 길이 21    \n",
    "])"
   ]
  },
  {
   "cell_type": "code",
   "execution_count": 126,
   "id": "3d8094ac-d33c-431f-9d34-4abf8181020f",
   "metadata": {},
   "outputs": [],
   "source": [
    "model.compile(loss = tf.keras.losses.categorical_crossentropy,optimizer='Adam',metrics=['acc'])"
   ]
  },
  {
   "cell_type": "code",
   "execution_count": 127,
   "id": "d107e3ea-9443-4bf8-9a30-f936b889e215",
   "metadata": {
    "collapsed": true,
    "jupyter": {
     "outputs_hidden": true
    }
   },
   "outputs": [
    {
     "name": "stdout",
     "output_type": "stream",
     "text": [
      "Epoch 1/10\n",
      "34/34 [==============================] - 1s 5ms/step - loss: 2.9850 - acc: 0.0882\n",
      "Epoch 2/10\n",
      "34/34 [==============================] - 0s 5ms/step - loss: 2.2537 - acc: 0.1765\n",
      "Epoch 3/10\n",
      "34/34 [==============================] - 0s 5ms/step - loss: 2.0441 - acc: 0.1765\n",
      "Epoch 4/10\n",
      "34/34 [==============================] - 0s 4ms/step - loss: 1.9864 - acc: 0.2353\n",
      "Epoch 5/10\n",
      "34/34 [==============================] - 0s 4ms/step - loss: 1.9063 - acc: 0.3824\n",
      "Epoch 6/10\n",
      "34/34 [==============================] - 0s 5ms/step - loss: 1.7304 - acc: 0.4412\n",
      "Epoch 7/10\n",
      "34/34 [==============================] - 0s 4ms/step - loss: 1.7893 - acc: 0.2353\n",
      "Epoch 8/10\n",
      "34/34 [==============================] - 0s 4ms/step - loss: 1.4925 - acc: 0.5000\n",
      "Epoch 9/10\n",
      "34/34 [==============================] - 0s 4ms/step - loss: 1.5351 - acc: 0.3824\n",
      "Epoch 10/10\n",
      "34/34 [==============================] - 0s 5ms/step - loss: 1.4702 - acc: 0.4412\n"
     ]
    },
    {
     "data": {
      "text/plain": [
       "<keras.src.callbacks.History at 0x1dedad1f610>"
      ]
     },
     "execution_count": 127,
     "metadata": {},
     "output_type": "execute_result"
    }
   ],
   "source": [
    "model.fit(x_train,y_train,epochs=10,batch_size=1)"
   ]
  },
  {
   "cell_type": "code",
   "execution_count": 142,
   "id": "2d7af2fc-3f42-4bb0-b0eb-dd8412b065d6",
   "metadata": {
    "scrolled": true
   },
   "outputs": [],
   "source": [
    "new_song = []\n",
    "for i in range(50):\n",
    "    idx = np.random.randint( len(x_train))  # 랜덤하게 x_train범위에서 인덱스 설정\n",
    "    p = model.predict(np.expand_dims(x_train[idx],axis=0),verbose=0)\n",
    "    new_song.append( onehot[np.argmax(p)])\n",
    "timeseries2abc(new_song)\n",
    "music21.converter.parse(timeseries2abc(new_song)).show('mid')"
   ]
  },
  {
   "cell_type": "code",
   "execution_count": 144,
   "id": "77d1db8a-5c37-4b7e-9ee9-e973576c7758",
   "metadata": {},
   "outputs": [
    {
     "data": {
      "text/plain": [
       "'tinynotation: 4/4 e4 e4 e4 g4 e4 f4 e4 d4 g4 e4 e4 f4 d4 g4 g4 f4 f4 g4 g4 d4 f4 e4 e4 e4 e4 f4 d4 e4 e4 e4 g4 f4 g4 e4 e4 e4 f4 e4 g4 d4 f4 d4 e4 f4 f4 e4 f4 g4 g4 g4'"
      ]
     },
     "execution_count": 144,
     "metadata": {},
     "output_type": "execute_result"
    }
   ],
   "source": [
    "timeseries2abc(new_song)"
   ]
  },
  {
   "cell_type": "code",
   "execution_count": 146,
   "id": "8b2762df-a868-4032-be8b-b568c4ec0e00",
   "metadata": {},
   "outputs": [],
   "source": [
    "# 악보그리기\n",
    "# https://musescore.org/en/download  다운로드 및 설치\n",
    "from music21 import converter,environment\n",
    "score = converter.parse(timeseries2abc(new_song))\n",
    "environment.set('musescoreDirectPNGPath','C:/Program Files/MuseScore 3/bin/MuseScore3.exe')\n",
    "score.show('musicxml.png')"
   ]
  },
  {
   "cell_type": "code",
   "execution_count": 147,
   "id": "a800fbf8-7fc3-4459-bb1a-f866a892e08c",
   "metadata": {},
   "outputs": [],
   "source": [
    "# 여러곡 편곡\n",
    "\n",
    "# 봄나들이\n",
    "spring_picnic=\"tinynotation: 4/8 g8 e8 g8 e8 g8 a8 g4 e8 g8 e8 c8 d8 e8 c4 g8 e8 g8 e8 g8 a8 g4 b8 a8 g8 e8 d8 e8 c4\"\n",
    "# 나비야 나비야\n",
    "butterfly=\"tinynotation: 2/4 g8 e8 e4 f8 d8 d4 c8 d8 e8 f8 g8 g8 g4 g8 e8 e8 e8 f8 d8 d4 c8 e8 g8 g8 e8 e8 e4 d8 d8 d8 d8 d8 e8 f4 e8 e8 e8 e8 e8 f8 g4 g8 e8 e4 f8 d8 d4 c8 e8 g8 g8 e8 e8 e4\""
   ]
  },
  {
   "cell_type": "code",
   "execution_count": 150,
   "id": "e09badfa-dc5b-4e79-bfc3-a00438ada4ca",
   "metadata": {},
   "outputs": [],
   "source": [
    "music21.converter.parse(butterfly).show('mid')"
   ]
  },
  {
   "cell_type": "code",
   "execution_count": 157,
   "id": "8767634a-aab2-47ab-b718-fa8ff7f0d388",
   "metadata": {},
   "outputs": [
    {
     "data": {
      "text/plain": [
       "([[1, 4], [1, 4], [5, 4], [5, 4], [6, 4]], (124, 2))"
      ]
     },
     "execution_count": 157,
     "metadata": {},
     "output_type": "execute_result"
    }
   ],
   "source": [
    "# 세 곡을 시계열로 변환하고 결합\n",
    "list_data = []\n",
    "for i in [little_star,spring_picnic,butterfly]:\n",
    "    list_data += abc2timeseries(i)\n",
    "list_data[:5], np.array(list_data).shape    "
   ]
  },
  {
   "cell_type": "code",
   "execution_count": 166,
   "id": "99d6efa3-602f-4056-ade8-0034e493e944",
   "metadata": {
    "collapsed": true,
    "jupyter": {
     "outputs_hidden": true
    }
   },
   "outputs": [
    {
     "name": "stdout",
     "output_type": "stream",
     "text": [
      "(116, 8, 2) (116, 2)\n",
      "116\n",
      "(116, 8, 2) (116, 2)\n",
      "(116, 8, 2) (116, 21)\n",
      "Epoch 1/10\n",
      "116/116 [==============================] - 2s 4ms/step - loss: 2.6758 - acc: 0.1897\n",
      "Epoch 2/10\n",
      "116/116 [==============================] - 0s 4ms/step - loss: 2.3621 - acc: 0.2414\n",
      "Epoch 3/10\n",
      "116/116 [==============================] - 1s 5ms/step - loss: 2.2472 - acc: 0.2500\n",
      "Epoch 4/10\n",
      "116/116 [==============================] - 1s 4ms/step - loss: 2.1770 - acc: 0.2845\n",
      "Epoch 5/10\n",
      "116/116 [==============================] - 0s 4ms/step - loss: 2.2092 - acc: 0.3276\n",
      "Epoch 6/10\n",
      "116/116 [==============================] - 1s 4ms/step - loss: 2.1138 - acc: 0.3190\n",
      "Epoch 7/10\n",
      "116/116 [==============================] - 0s 4ms/step - loss: 2.0745 - acc: 0.3103\n",
      "Epoch 8/10\n",
      "116/116 [==============================] - 1s 5ms/step - loss: 2.0214 - acc: 0.3190\n",
      "Epoch 9/10\n",
      "116/116 [==============================] - 1s 5ms/step - loss: 2.0817 - acc: 0.3190\n",
      "Epoch 10/10\n",
      "116/116 [==============================] - 1s 4ms/step - loss: 1.9765 - acc: 0.3448\n"
     ]
    },
    {
     "data": {
      "text/plain": [
       "<keras.src.callbacks.History at 0x1ded4b06da0>"
      ]
     },
     "execution_count": 166,
     "metadata": {},
     "output_type": "execute_result"
    }
   ],
   "source": [
    "X,Y = seq2dadtaset(list_data,w,h)\n",
    "print(X.shape, Y.shape)\n",
    "# 훈련데이터\n",
    "split = int(len(X)*1.0)  # 100% 훈련집합으로 사용\n",
    "print(split)\n",
    "x_train = X[:split]; y_train = Y[:split]\n",
    "print(x_train.shape, y_train.shape)\n",
    "y_train = to_onehot(y_train)\n",
    "print(x_train.shape, y_train.shape)\n",
    "# 모델 설계는 이전형태 그대로 사용하고 학습만 새로운 데이터로 학습\n",
    "# 모델 학습\n",
    "model = Sequential([\n",
    "    LSTM(units=128,activation='relu',input_shape = x_train[0].shape),  # (8,2)\n",
    "    Dense(y_train.shape[1],activation='softmax'),  # 출력은 y의 원핫코드의 길이 21    \n",
    "])\n",
    "model.compile(loss = tf.keras.losses.categorical_crossentropy,optimizer='Adam',metrics=['acc'])\n",
    "model.fit(x_train,y_train,epochs=10,batch_size=1)"
   ]
  },
  {
   "cell_type": "code",
   "execution_count": 169,
   "id": "5b88553c-d0f1-4967-831d-9086f6721ca7",
   "metadata": {},
   "outputs": [],
   "source": [
    "new_song = []\n",
    "for i in range(50):\n",
    "    idx = np.random.randint( len(x_train))  # 랜덤하게 x_train범위에서 인덱스 설정\n",
    "    p = model.predict(np.expand_dims(x_train[idx],axis=0),verbose=0)\n",
    "    new_song.append( onehot[np.argmax(p)])\n",
    "print(timeseries2abc(new_song))\n",
    "music21.converter.parse(timeseries2abc(new_song)).show('mid')"
   ]
  },
  {
   "cell_type": "code",
   "execution_count": 168,
   "id": "3a65a34f-29db-4d8b-b949-13e5fea04e47",
   "metadata": {},
   "outputs": [],
   "source": [
    "# 악보그리기\n",
    "# https://musescore.org/en/download  다운로드 및 설치\n",
    "from music21 import converter,environment\n",
    "score = converter.parse(timeseries2abc(new_song))\n",
    "environment.set('musescoreDirectPNGPath','C:/Program Files/MuseScore 3/bin/MuseScore3.exe')\n",
    "score.show('musicxml.png')"
   ]
  },
  {
   "cell_type": "code",
   "execution_count": 171,
   "id": "7899d38b-8de0-44b4-8614-ab2403dcd886",
   "metadata": {
    "scrolled": true
   },
   "outputs": [
    {
     "name": "stdout",
     "output_type": "stream",
     "text": [
      "tinynotation: 4/4 e8 e4 e8 e8 e8 f4 e8 e8 e8 e8 e8 e8 e8 e8 e8 g4 e8 e8 g4 e8 e8 f4 e8 f4 e8 e8 e8 e8 f4 e8 e8 e8 g4 e4 e8 e8 e8 d4 e8 e8 e8 e8 f4 e8 e8 g4 e8 e8 e8 c2\n"
     ]
    }
   ],
   "source": [
    "print(timeseries2abc(new_song))"
   ]
  },
  {
   "cell_type": "code",
   "execution_count": 172,
   "id": "b5031ff2-dac3-46be-ae82-9f48be060d6d",
   "metadata": {},
   "outputs": [],
   "source": [
    "# 기타 악보\n",
    "from music21 import instrument"
   ]
  },
  {
   "cell_type": "code",
   "execution_count": 174,
   "id": "28a23e49-1281-4f32-bd7a-92bf07b3135a",
   "metadata": {},
   "outputs": [
    {
     "data": {
      "text/plain": [
       "'guitar_score.mid'"
      ]
     },
     "execution_count": 174,
     "metadata": {},
     "output_type": "execute_result"
    }
   ],
   "source": [
    "guitar = instrument.Guitar()\n",
    "score.insert(0,guitar)\n",
    "score.write('midi','guitar_score.mid')"
   ]
  },
  {
   "cell_type": "code",
   "execution_count": 175,
   "id": "7f19e8ce-4eda-4c32-b741-6fc209bbbdf6",
   "metadata": {},
   "outputs": [
    {
     "data": {
      "image/png": "[encoded data removed]",
      "text/plain": [
       "<IPython.core.display.Image object>"
      ]
     },
     "metadata": {
      "image/png": {
       "height": 186,
       "width": 708
      }
     },
     "output_type": "display_data"
    }
   ],
   "source": [
    "score.show()"
   ]
  }
 ],
 "metadata": {
  "kernelspec": {
   "display_name": "Python 3 (ipykernel)",
   "language": "python",
   "name": "python3"
  },
  "language_info": {
   "codemirror_mode": {
    "name": "ipython",
    "version": 3
   },
   "file_extension": ".py",
   "mimetype": "text/x-python",
   "name": "python",
   "nbconvert_exporter": "python",
   "pygments_lexer": "ipython3",
   "version": "3.10.8"
  }
 },
 "nbformat": 4,
 "nbformat_minor": 5
}
