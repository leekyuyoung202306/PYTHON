{
  "nbformat": 4,
  "nbformat_minor": 0,
  "metadata": {
    "colab": {
      "provenance": [],
      "gpuType": "T4"
    },
    "kernelspec": {
      "name": "python3",
      "display_name": "Python 3"
    },
    "language_info": {
      "name": "python"
    },
    "accelerator": "GPU"
  },
  "cells": [
    {
      "cell_type": "code",
      "execution_count": null,
      "metadata": {
        "id": "NjzltidmbRLH"
      },
      "outputs": [],
      "source": []
    },
    {
      "cell_type": "markdown",
      "source": [
        " - 모델경량화 : 교사모델(가중치가 많음), 학생모델(가중치가 적음)\n",
        " - 지식증류 알고리즘 : 교사모델을 이용해서 학생모델을 학습"
      ],
      "metadata": {
        "id": "neZA9wIyc-vB"
      }
    },
    {
      "cell_type": "code",
      "source": [
        "# 경량화 기법은 큰 모델을 가볍게 만드는 기법"
      ],
      "metadata": {
        "id": "FhebIL4AddkG"
      },
      "execution_count": 1,
      "outputs": []
    },
    {
      "cell_type": "markdown",
      "source": [
        "![image.png](data:image/png;base64,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)"
      ],
      "metadata": {
        "id": "D-sD7bBwd0j_"
      }
    },
    {
      "cell_type": "code",
      "source": [
        "# 학생모델이 교사모델을 흉내내서 교사모델 수준으로 학습이 되는 과정\n",
        "# 용량이 작은 학생모델이 용량이 큰 교사모델처럼 되므로 결국 경량화"
      ],
      "metadata": {
        "id": "j4nEiaKdd4BF"
      },
      "execution_count": 2,
      "outputs": []
    },
    {
      "cell_type": "code",
      "source": [
        "# GAN을 이용해서 교사 모델과 학생모델의 차이가 나도록 학습 -> 학생모델에 더 어려운 학습용 데이터를 만들어 주기"
      ],
      "metadata": {
        "id": "n5rxBxffetcH"
      },
      "execution_count": 3,
      "outputs": []
    },
    {
      "cell_type": "code",
      "source": [
        "# CIFAR10, resnet34()\n",
        "import torch\n",
        "import torch.nn as nn\n",
        "import tqdm\n",
        "\n",
        "from torchvision.datasets.cifar import CIFAR10\n",
        "from torchvision.transforms import Compose,ToTensor, RandomHorizontalFlip,RandomCrop, Normalize\n",
        "from torch.utils.data.dataloader import DataLoader\n",
        "from torchvision.models.resnet import resnet34, resnet18\n",
        "\n",
        "from torch.optim.adam import Adam"
      ],
      "metadata": {
        "id": "6pCRVrfBfY-Q"
      },
      "execution_count": 13,
      "outputs": []
    },
    {
      "cell_type": "code",
      "source": [
        "# 데이터 전처리\n",
        "transforms = Compose([\n",
        "    RandomCrop((32,32), padding=4),\n",
        "    RandomHorizontalFlip(p=0.5),\n",
        "    ToTensor(),\n",
        "    Normalize(mean=(0.5,0.5,0.5),std=(0.2,0.2,0.2))\n",
        "])"
      ],
      "metadata": {
        "id": "boOQ3L8dgaKm"
      },
      "execution_count": 14,
      "outputs": []
    },
    {
      "cell_type": "code",
      "source": [
        "from torch.utils.data import DataLoader\n",
        "# 학습용데이터\n",
        "train_data = CIFAR10(root='./',train = True,download=True,transform=transforms)\n",
        "test_data = CIFAR10(root='./',train = False,download=True,transform=transforms)\n",
        "\n",
        "# 검증용데이터\n",
        "train_loader = DataLoader(train_data, batch_size=32,shuffle=True)\n",
        "torch._tensor_str_loader = DataLoader(test_data, batch_size=32,shuffle=False)\n",
        "\n",
        "device = 'cuda' if torch.cuda.is_available() else 'cpu'"
      ],
      "metadata": {
        "colab": {
          "base_uri": "https://localhost:8080/"
        },
        "id": "SkhvrJwNhLlO",
        "outputId": "f8466969-4471-45c6-c820-589f9a044d17"
      },
      "execution_count": 15,
      "outputs": [
        {
          "output_type": "stream",
          "name": "stdout",
          "text": [
            "Files already downloaded and verified\n",
            "Files already downloaded and verified\n"
          ]
        }
      ]
    },
    {
      "cell_type": "code",
      "source": [
        "# 교사모델\n",
        "teacher = resnet34(pretrained=False,num_classes=10)\n",
        "teacher.to(device)\n",
        "optim = Adam(teacher.parameters())\n",
        "for epoch in range(2):\n",
        "  iter = tqdm.tqdm(train_loader)\n",
        "  for data,label in iter:\n",
        "    optim.zero_grad()\n",
        "    preds = teacher(data.to(device))\n",
        "    loss = nn.CrossEntropyLoss()(preds, label.to(device))\n",
        "    loss.backward()\n",
        "    optim.step()\n",
        "    iter.set_description(f\"epoch:{epoch} loss:{loss.item()}\")\n",
        "torch.save(teacher.state_dict(),\"teacher.pth\")\n"
      ],
      "metadata": {
        "colab": {
          "base_uri": "https://localhost:8080/"
        },
        "id": "iXZ-_wooiFRO",
        "outputId": "d5bc5821-c2d3-4b03-d53d-9eec422756ce"
      },
      "execution_count": null,
      "outputs": [
        {
          "output_type": "stream",
          "name": "stderr",
          "text": [
            "/usr/local/lib/python3.10/dist-packages/torchvision/models/_utils.py:208: UserWarning: The parameter 'pretrained' is deprecated since 0.13 and may be removed in the future, please use 'weights' instead.\n",
            "  warnings.warn(\n",
            "/usr/local/lib/python3.10/dist-packages/torchvision/models/_utils.py:223: UserWarning: Arguments other than a weight enum or `None` for 'weights' are deprecated since 0.13 and may be removed in the future. The current behavior is equivalent to passing `weights=None`.\n",
            "  warnings.warn(msg)\n",
            "epoch:0 loss:1.4608879089355469: 100%|██████████| 1563/1563 [01:08<00:00, 22.80it/s]\n",
            "epoch:1 loss:1.0879002809524536:  93%|█████████▎| 1458/1563 [01:04<00:04, 21.97it/s]"
          ]
        }
      ]
    },
    {
      "cell_type": "code",
      "source": [
        "# gan생성자 정의  : 학생모델을 학습할때 사용할 이미지를 생성\n",
        "# 입력은 256 랜덤 벡터"
      ],
      "metadata": {
        "id": "wyLGB5V2kNz1"
      },
      "execution_count": 9,
      "outputs": []
    },
    {
      "cell_type": "code",
      "source": [
        "import torch.nn.functional as F"
      ],
      "metadata": {
        "id": "haGC62rukqjO"
      },
      "execution_count": 10,
      "outputs": []
    },
    {
      "cell_type": "code",
      "source": [
        "class Generator(nn.Module):\n",
        "  def __init__(self, dims=256,channel=3) -> None:\n",
        "    super(Generator,self).__init__()\n",
        "    # 256->128*8*8 이미지생성\n",
        "    self.l1 = nn.Sequential(nn.Linear(dims,128*8*8))\n",
        "    self.conv_blocks0 = nn.Sequential(\n",
        "        nn.BatchNorm2d(128)\n",
        "    )\n",
        "    self.conv_blocks1 = nn.Sequential(\n",
        "        nn.Conv2d(128,128,3,stride=1,padding=1),\n",
        "        nn.BatchNorm2d(128),\n",
        "        nn.LeakyReLU()\n",
        "    )\n",
        "    self.conv_blocks2 = nn.Sequential(\n",
        "        nn.Conv2d(128,64,3,stride=1,padding=1),\n",
        "        nn.BatchNorm2d(128),\n",
        "        nn.LeakyReLU(),\n",
        "        nn.Conv2d(64,channel,3,stride=1,padding=1),\n",
        "        nn.Tanh(),\n",
        "        nn.BatchNorm2d(channel)\n",
        "    )\n",
        "  def forward(self, x):\n",
        "    x = self.l1(x.view(x.shape[0],-1))\n",
        "    x = x.view(x.shape[0],-1,8,8)\n",
        "    x = self.conv_blocks0(x)\n",
        "    # 이미지를 두배로 늘려줌\n",
        "    x = nn.functional.interpolate(x,scale_factor=2)\n",
        "    x = self.conv_blocks1(x)\n",
        "    x = nn.functional.interpolate(x,scale_factor=2)\n",
        "    x = self.conv_blocks2(x)\n",
        "    return x"
      ],
      "metadata": {
        "id": "-_EjVEmdkvTR"
      },
      "execution_count": 11,
      "outputs": []
    },
    {
      "cell_type": "markdown",
      "source": [
        "# 학생모델과 생성자 학습\n",
        "\n",
        "![image.png](data:image/png;base64,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)"
      ],
      "metadata": {
        "id": "bAy_tUx6oT4-"
      }
    },
    {
      "cell_type": "code",
      "source": [
        "# 교사모델\n",
        "teacher = resnet34(pretrained=False,num_classes=10)\n",
        "teacher.load_state_dict(torch.load('teacher.pth',map_location=device))\n",
        "teacher.to(device)\n",
        "teacher.eval()\n",
        "\n",
        "# 학생\n",
        "student = resnet18(pretrained=False,num_classes=10)\n",
        "student.to(device)\n",
        "\n",
        "#생성자\n",
        "generator = Generator().to(device)\n",
        "\n",
        "from torch.optim.sgd import SGD\n",
        "# 생성자는 Adam으로, 학생은 SGD를 이용해서 학습\n",
        "# Adam은 학습속도가 빠르고 SGD는 과적합을 피하는데유리\n",
        "G_optim = Adam(generator.parameters())\n",
        "S_optim = SGD(student.parameters())"
      ],
      "metadata": {
        "id": "rEyN6CP0oTW7"
      },
      "execution_count": null,
      "outputs": []
    },
    {
      "cell_type": "code",
      "source": [
        "for epoch in range(2):\n",
        "  # 확인 : 학생은 5번 생성자는 5번 가중치 학습 -> 생성자가 너무 빨리학습되면 학생이 학습못함\n",
        "  for _ in range(5):\n",
        "    noise = torch.randn(256,256,1,1,device=device)\n",
        "    S_optim.zero_grad()\n",
        "    #이미지  생성\n",
        "    fake = generator(noise).detach()\n",
        "    # 교사예측\n",
        "    teacher_output  = teacher(fake)\n",
        "    # 학생예측\n",
        "    student_output = student(fake)\n",
        "    # 교사와 학생간의 오차\n",
        "    S_loss = nn.L1Loss()(student_output,teacher_output)\n",
        "    #오차 역전파\n",
        "    S_loss.backward()\n",
        "    S_optim.step()\n",
        "    print(f\"epoch:{epoch} S_loss:{S_loss.item()}\")\n",
        "\n",
        "\n",
        "\n",
        "    # 생성자 학습\n",
        "    noise = torch.randn(256,256,1,1,device=device)\n",
        "    G_optim.zero_grad()\n",
        "    fake = generator(noise).detach()\n",
        "    teacher_output  = teacher(fake)\n",
        "    student_output = student(fake)\n",
        "    # 생성자의 오차\n",
        "    G_loss = -1*nn.L1Loss()(student_output,teacher_output)\n",
        "    G_loss.backward()\n",
        "    G_optim.step()\n",
        "    print(f\"epoch:{epoch} S_loss:{G_loss.item()}\")\n"
      ],
      "metadata": {
        "id": "Wjns_AkqqO2R"
      },
      "execution_count": null,
      "outputs": []
    }
  ]
}