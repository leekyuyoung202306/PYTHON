{
 "cells": [
  {
   "cell_type": "code",
   "execution_count": 2,
   "id": "c62fc4d7-982a-413e-ad41-1f7ef0456193",
   "metadata": {},
   "outputs": [
    {
     "name": "stdout",
     "output_type": "stream",
     "text": [
      "Collecting opencv-python\n",
      "  Downloading opencv_python-4.8.1.78-cp37-abi3-win_amd64.whl (38.1 MB)\n",
      "     --------------------------------------- 38.1/38.1 MB 10.7 MB/s eta 0:00:00\n",
      "Collecting numpy>=1.19.3\n",
      "  Downloading numpy-1.26.0-cp310-cp310-win_amd64.whl (15.8 MB)\n",
      "     --------------------------------------- 15.8/15.8 MB 14.5 MB/s eta 0:00:00\n",
      "Installing collected packages: numpy, opencv-python\n",
      "Successfully installed numpy-1.26.0 opencv-python-4.8.1.78\n"
     ]
    }
   ],
   "source": [
    "!pip install opencv-python"
   ]
  },
  {
   "cell_type": "code",
   "execution_count": 2,
   "id": "3decdb4a-ebaf-434b-99b4-0e5a8fa42990",
   "metadata": {},
   "outputs": [],
   "source": [
    "import cv2"
   ]
  },
  {
   "cell_type": "code",
   "execution_count": 11,
   "id": "b5383d26-7b0f-463b-8586-85d6d89720bf",
   "metadata": {},
   "outputs": [],
   "source": [
    "video = cv2.VideoCapture(0)\n",
    "while video.isOpened():\n",
    "    success, frame =  video.read()\n",
    "    if success:\n",
    "        cv2.imshow('Camera',frame)\n",
    "        key = cv2.waitKey(1)&0xFF\n",
    "        if key == 27:  # ESC키(ascii 27) 눌렀을때 \n",
    "            break\n",
    "video.release()\n",
    "cv2.destroyAllWindows()"
   ]
  },
  {
   "cell_type": "code",
   "execution_count": 5,
   "id": "b0056850-f19c-4669-8692-2385c91df2a5",
   "metadata": {
    "collapsed": true,
    "jupyter": {
     "outputs_hidden": true
    },
    "scrolled": true
   },
   "outputs": [
    {
     "name": "stdout",
     "output_type": "stream",
     "text": [
      "Collecting matplotlib\n",
      "  Downloading matplotlib-3.8.0-cp310-cp310-win_amd64.whl (7.6 MB)\n",
      "     ---------------------------------------- 7.6/7.6 MB 35.0 MB/s eta 0:00:00\n",
      "Collecting contourpy>=1.0.1\n",
      "  Downloading contourpy-1.1.1-cp310-cp310-win_amd64.whl (477 kB)\n",
      "     ------------------------------------- 478.0/478.0 kB 31.2 MB/s eta 0:00:00\n",
      "Collecting kiwisolver>=1.0.1\n",
      "  Downloading kiwisolver-1.4.5-cp310-cp310-win_amd64.whl (56 kB)\n",
      "     ---------------------------------------- 56.1/56.1 kB ? eta 0:00:00\n",
      "Requirement already satisfied: packaging>=20.0 in c:\\users\\user\\miniconda3\\lib\\site-packages (from matplotlib) (23.0)\n",
      "Collecting pyparsing>=2.3.1\n",
      "  Downloading pyparsing-3.1.1-py3-none-any.whl (103 kB)\n",
      "     -------------------------------------- 103.1/103.1 kB 6.2 MB/s eta 0:00:00\n",
      "Requirement already satisfied: python-dateutil>=2.7 in c:\\users\\user\\miniconda3\\lib\\site-packages (from matplotlib) (2.8.2)\n",
      "Collecting pillow>=6.2.0\n",
      "  Downloading Pillow-10.0.1-cp310-cp310-win_amd64.whl (2.5 MB)\n",
      "     ---------------------------------------- 2.5/2.5 MB 32.1 MB/s eta 0:00:00\n",
      "Requirement already satisfied: numpy<2,>=1.21 in c:\\users\\user\\miniconda3\\lib\\site-packages (from matplotlib) (1.26.0)\n",
      "Collecting cycler>=0.10\n",
      "  Downloading cycler-0.12.1-py3-none-any.whl (8.3 kB)\n",
      "Collecting fonttools>=4.22.0\n",
      "  Downloading fonttools-4.43.1-cp310-cp310-win_amd64.whl (2.1 MB)\n",
      "     ---------------------------------------- 2.1/2.1 MB 27.3 MB/s eta 0:00:00\n",
      "Requirement already satisfied: six>=1.5 in c:\\users\\user\\miniconda3\\lib\\site-packages (from python-dateutil>=2.7->matplotlib) (1.16.0)\n",
      "Installing collected packages: pyparsing, pillow, kiwisolver, fonttools, cycler, contourpy, matplotlib\n",
      "Successfully installed contourpy-1.1.1 cycler-0.12.1 fonttools-4.43.1 kiwisolver-1.4.5 matplotlib-3.8.0 pillow-10.0.1 pyparsing-3.1.1\n"
     ]
    }
   ],
   "source": [
    "!pip install matplotlib"
   ]
  },
  {
   "cell_type": "code",
   "execution_count": 6,
   "id": "55341894-4b53-4cc1-bea8-daf0fcc6d36f",
   "metadata": {},
   "outputs": [],
   "source": [
    "import matplotlib.pyplot as plt"
   ]
  },
  {
   "cell_type": "code",
   "execution_count": 11,
   "id": "a1ceb172-3fa9-4db0-b177-c5cc3639f7e8",
   "metadata": {},
   "outputs": [],
   "source": [
    "import numpy as np\n",
    "import cv2\n",
    "import winsound\n",
    "classes = []\n",
    "with open('coco.names.txt','r') as f:\n",
    "  classes =  [line.strip() for line in f.readlines()]\n",
    "    \n",
    "colors = np.random.uniform(0,255,size=(len(classes),3))\n",
    "# 모델 불러오기\n",
    "yolo_model = cv2.dnn.readNet('yolov3.weights','yolov3.cfg')\n",
    "layer_names = yolo_model.getLayerNames()\n",
    "# [200 227 254]\n",
    "out_layers =  [layer_names[i-1] for i in yolo_model.getUnconnectedOutLayers() ]\n",
    "\n",
    "def detectVideo(img):    \n",
    "    height,width,channels = img.shape\n",
    "    # 입력형식을 yolo형태로 변경 (배치,채널,가로,세로) -> (1, 3, 448, 448)\n",
    "    blob = cv2.dnn.blobFromImage(img,1.0/256,(448,448),(0,0,0),swapRB=True,crop=False)\n",
    "    \n",
    "  # 테스트 영상을 신경망에 입력\n",
    "    yolo_model.setInput(blob)\n",
    "  # 출력\n",
    "    output3 = yolo_model.forward(out_layers)\n",
    "    class_ids, confidences, boxes = [],[],[]\n",
    "    # numpy 벡터연산... 파이썬 병렬처리하는 라이브러리...\n",
    "    for output in output3:  # 3 개\n",
    "        for vec in output:\n",
    "            scores =  vec[5:]  # 확률 점수만 획득\n",
    "            class_id = np.argmax(scores)\n",
    "            confidence = scores[class_id]\n",
    "            if confidence > 0.5:  # 확률이 0.5를 넘는 바운딩 박스를 모음\n",
    "                # 취합한 박스들의 정보중에 중심좌표를 획득\n",
    "                centerx, centery = int(vec[0]*width),int(vec[1]*height)\n",
    "                w,h = int(vec[2]*width),int(vec[3]*height)\n",
    "                x,y = int(centerx-w/2), int(centery-h/2)\n",
    "                boxes.append([x,y,w,h])\n",
    "                confidences.append(float(confidence))\n",
    "                class_ids.append(class_id)\n",
    "\n",
    "    if 0 in class_ids:\n",
    "        winsound.Beep(frequency=2000,duration=500)\n",
    "        print('사람 발견')\n",
    "\n",
    "    # 박스주위에 잔상이나 그런형태의 박스를 배제하기위해서 가장 적합한 확률의 박스만 남긴다\n",
    "    indexes = cv2.dnn.NMSBoxes(boxes,confidences,0.5,0.4)\n",
    "    # 살아남은 박스를 영상에 표시\n",
    "    for i in indexes:\n",
    "        x,y,w,h = boxes[i]\n",
    "        text = str(classes[class_ids[i]]) +'%0.3f'%confidences[i]\n",
    "        cv2.rectangle(img,(x,y),(x+w,y+h),colors[class_ids[i]],2)\n",
    "        cv2.putText(img,text,(x,y+30),cv2.FONT_HERSHEY_PLAIN,2,colors[class_ids[i]],2)\n",
    "    return img         \n",
    "\n"
   ]
  },
  {
   "cell_type": "code",
   "execution_count": 12,
   "id": "60dfa8f3-d592-43ad-a8c5-cbe4ac364837",
   "metadata": {},
   "outputs": [
    {
     "name": "stdout",
     "output_type": "stream",
     "text": [
      "사람 발견\n",
      "사람 발견\n",
      "사람 발견\n",
      "사람 발견\n",
      "사람 발견\n",
      "사람 발견\n",
      "사람 발견\n",
      "사람 발견\n",
      "사람 발견\n"
     ]
    }
   ],
   "source": [
    "video = cv2.VideoCapture(0)\n",
    "while video.isOpened():\n",
    "    success, frame =  video.read()\n",
    "    if success:\n",
    "        frame = detectVideo(frame)\n",
    "        cv2.imshow('Camera',frame)        \n",
    "        key = cv2.waitKey(1)&0xFF\n",
    "        if key == 27:  # ESC키(ascii 27) 눌렀을때 \n",
    "            break\n",
    "video.release()\n",
    "cv2.destroyAllWindows()"
   ]
  },
  {
   "cell_type": "code",
   "execution_count": null,
   "id": "02584186-32bb-4067-b5af-878bd10c424a",
   "metadata": {},
   "outputs": [],
   "source": [
    "\n",
    "  # 구글 코렙에서 사용할때는\n",
    "  # from google.colab.patches import cv2_imshow\n",
    "  # cv2_imshow(img)\n",
    "\n",
    "  # 로컬에서 사용할때\n",
    "  cv2.imshow(\"Object detection\",img)\n",
    "  cv2.waitKey(0)\n",
    "  cv2.destroyAllWindows()"
   ]
  },
  {
   "cell_type": "code",
   "execution_count": 8,
   "id": "10c12d5b-9eb2-4d63-9aa7-79dca93d95a1",
   "metadata": {},
   "outputs": [],
   "source": [
    "import winsound\n",
    "winsound.Beep(frequency=2000,duration=500)"
   ]
  },
  {
   "cell_type": "code",
   "execution_count": null,
   "id": "7b46537f-402f-49ef-a1d2-e14d2be69464",
   "metadata": {},
   "outputs": [],
   "source": []
  }
 ],
 "metadata": {
  "kernelspec": {
   "display_name": "Python 3 (ipykernel)",
   "language": "python",
   "name": "python3"
  },
  "language_info": {
   "codemirror_mode": {
    "name": "ipython",
    "version": 3
   },
   "file_extension": ".py",
   "mimetype": "text/x-python",
   "name": "python",
   "nbconvert_exporter": "python",
   "pygments_lexer": "ipython3",
   "version": "3.10.8"
  }
 },
 "nbformat": 4,
 "nbformat_minor": 5
}
