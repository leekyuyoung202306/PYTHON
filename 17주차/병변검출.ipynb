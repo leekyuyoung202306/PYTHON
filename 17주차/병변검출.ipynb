{
  "nbformat": 4,
  "nbformat_minor": 0,
  "metadata": {
    "colab": {
      "provenance": []
    },
    "kernelspec": {
      "name": "python3",
      "display_name": "Python 3"
    },
    "language_info": {
      "name": "python"
    }
  },
  "cells": [
    {
      "cell_type": "code",
      "execution_count": 1,
      "metadata": {
        "id": "QF20O4ofsS9k"
      },
      "outputs": [],
      "source": [
        "# 데이터 https://drive.google.com/drive/folders/1OXFAL5XhJPHWqJPVQrE_x4jXd66Z0VCa?usp=sharing"
      ]
    },
    {
      "cell_type": "code",
      "source": [
        "import pandas as pd\n",
        "import numpy as np\n",
        "import json\n",
        "import matplotlib.pyplot as plt\n",
        "import cv2\n",
        "import base64\n",
        "import time\n",
        "import math\n",
        "import datetime\n",
        "import os\n",
        "from PIL import Image\n",
        "from io import BytesIO\n",
        "from tqdm import tqdm\n",
        "from glob import glob\n",
        "\n",
        "import torch\n",
        "import torchvision\n",
        "import torch.distributed as dist\n",
        "from torch.utils.data import Dataset\n",
        "from torchvision import transforms\n",
        "from torchvision.models.detection.faster_rcnn import FastRCNNPredictor\n",
        "from torchvision.models.detection.mask_rcnn import MaskRCNNPredictor\n",
        "from collections import defaultdict, deque"
      ],
      "metadata": {
        "id": "DUBJNPMJsV8f"
      },
      "execution_count": 4,
      "outputs": []
    },
    {
      "cell_type": "code",
      "source": [
        "!unzip '/content/drive/MyDrive/병변검출_yolo/병변 검출_data.zip'"
      ],
      "metadata": {
        "id": "MF8gV6g2sioQ"
      },
      "execution_count": null,
      "outputs": []
    },
    {
      "cell_type": "code",
      "source": [
        "train_files = glob('./train/*')\n",
        "test_files = glob('./test/*')"
      ],
      "metadata": {
        "id": "PMfyBUGBs-Th"
      },
      "execution_count": 5,
      "outputs": []
    },
    {
      "cell_type": "code",
      "source": [
        "train_json_list = []\n",
        "for file in tqdm(train_files):\n",
        "  with open(file,\"r\") as f:\n",
        "    train_json_list.append(json.load(f))\n",
        "\n",
        "test_json_list = []\n",
        "for file in tqdm(test_files):\n",
        "  with open(file,\"r\") as f:\n",
        "    test_json_list.append(json.load(f))"
      ],
      "metadata": {
        "colab": {
          "base_uri": "https://localhost:8080/"
        },
        "id": "L0ekagDytn8a",
        "outputId": "cd42feb8-37a2-4118-e13c-8373daf0089b"
      },
      "execution_count": 7,
      "outputs": [
        {
          "output_type": "stream",
          "name": "stderr",
          "text": [
            "100%|██████████| 62622/62622 [00:33<00:00, 1870.82it/s]\n",
            "100%|██████████| 20874/20874 [00:22<00:00, 917.90it/s] \n"
          ]
        }
      ]
    },
    {
      "cell_type": "code",
      "source": [
        "label_count = {}"
      ],
      "metadata": {
        "id": "hxrIlK9quNCJ"
      },
      "execution_count": 8,
      "outputs": []
    }
  ]
}