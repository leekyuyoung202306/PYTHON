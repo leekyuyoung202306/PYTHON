{
  "nbformat": 4,
  "nbformat_minor": 0,
  "metadata": {
    "colab": {
      "provenance": [],
      "gpuType": "T4"
    },
    "kernelspec": {
      "name": "python3",
      "display_name": "Python 3"
    },
    "language_info": {
      "name": "python"
    },
    "accelerator": "GPU"
  },
  "cells": [
    {
      "cell_type": "code",
      "execution_count": 1,
      "metadata": {
        "id": "t29MiE5vTVDd"
      },
      "outputs": [],
      "source": [
        "from tensorflow import keras"
      ]
    },
    {
      "cell_type": "code",
      "source": [
        "# fasion mnist\n",
        "# CNN 모델 만들고 학습해서\n",
        "# 레이어 추출"
      ],
      "metadata": {
        "id": "c6KsNfcLTgRy"
      },
      "execution_count": 2,
      "outputs": []
    },
    {
      "cell_type": "code",
      "source": [
        "(x_train,y_train),(x_test,y_test) = keras.datasets.fashion_mnist.load_data()"
      ],
      "metadata": {
        "colab": {
          "base_uri": "https://localhost:8080/"
        },
        "id": "Zi_jHr-2Trsb",
        "outputId": "c33077da-61c2-4819-81f0-0fb5525151b1"
      },
      "execution_count": 3,
      "outputs": [
        {
          "output_type": "stream",
          "name": "stdout",
          "text": [
            "Downloading data from https://storage.googleapis.com/tensorflow/tf-keras-datasets/train-labels-idx1-ubyte.gz\n",
            "29515/29515 [==============================] - 0s 0us/step\n",
            "Downloading data from https://storage.googleapis.com/tensorflow/tf-keras-datasets/train-images-idx3-ubyte.gz\n",
            "26421880/26421880 [==============================] - 0s 0us/step\n",
            "Downloading data from https://storage.googleapis.com/tensorflow/tf-keras-datasets/t10k-labels-idx1-ubyte.gz\n",
            "5148/5148 [==============================] - 0s 0us/step\n",
            "Downloading data from https://storage.googleapis.com/tensorflow/tf-keras-datasets/t10k-images-idx3-ubyte.gz\n",
            "4422102/4422102 [==============================] - 0s 0us/step\n"
          ]
        }
      ]
    },
    {
      "cell_type": "code",
      "source": [
        "x_train = x_train / 255.0\n",
        "x_test = x_test / 255.0"
      ],
      "metadata": {
        "id": "3Fsuo-72UEgA"
      },
      "execution_count": 4,
      "outputs": []
    },
    {
      "cell_type": "code",
      "source": [
        "# CNN모델 만들기\n",
        "# C - P - D - F - D - D"
      ],
      "metadata": {
        "id": "g4XC7i4DUMba"
      },
      "execution_count": 5,
      "outputs": []
    },
    {
      "cell_type": "code",
      "source": [
        "x_train.shape"
      ],
      "metadata": {
        "colab": {
          "base_uri": "https://localhost:8080/"
        },
        "id": "glxyxf-TU0ru",
        "outputId": "f6d0de63-7959-4ed0-d8ae-832830e17fd5"
      },
      "execution_count": 6,
      "outputs": [
        {
          "output_type": "execute_result",
          "data": {
            "text/plain": [
              "(60000, 28, 28)"
            ]
          },
          "metadata": {},
          "execution_count": 6
        }
      ]
    },
    {
      "cell_type": "code",
      "source": [
        "model = keras.Sequential([\n",
        "    keras.layers.Conv2D(32,kernel_size=3,activation='relu', input_shape=(28,28,1)),\n",
        "    keras.layers.MaxPool2D(),\n",
        "    keras.layers.Dropout(0.3),\n",
        "    keras.layers.Flatten(),\n",
        "    keras.layers.Dense(64,activation='relu'),\n",
        "    keras.layers.Dense(10,activation='softmax')\n",
        "])"
      ],
      "metadata": {
        "id": "uW3bjV_RUZ8J"
      },
      "execution_count": 7,
      "outputs": []
    },
    {
      "cell_type": "code",
      "source": [
        "model.summary()"
      ],
      "metadata": {
        "colab": {
          "base_uri": "https://localhost:8080/"
        },
        "id": "DFNz_aG9VY2y",
        "outputId": "0a3dd273-6ec0-45ea-d834-3b3f133ce160"
      },
      "execution_count": 8,
      "outputs": [
        {
          "output_type": "stream",
          "name": "stdout",
          "text": [
            "Model: \"sequential\"\n",
            "_________________________________________________________________\n",
            " Layer (type)                Output Shape              Param #   \n",
            "=================================================================\n",
            " conv2d (Conv2D)             (None, 26, 26, 32)        320       \n",
            "                                                                 \n",
            " max_pooling2d (MaxPooling2D  (None, 13, 13, 32)       0         \n",
            " )                                                               \n",
            "                                                                 \n",
            " dropout (Dropout)           (None, 13, 13, 32)        0         \n",
            "                                                                 \n",
            " flatten (Flatten)           (None, 5408)              0         \n",
            "                                                                 \n",
            " dense (Dense)               (None, 64)                346176    \n",
            "                                                                 \n",
            " dense_1 (Dense)             (None, 10)                650       \n",
            "                                                                 \n",
            "=================================================================\n",
            "Total params: 347,146\n",
            "Trainable params: 347,146\n",
            "Non-trainable params: 0\n",
            "_________________________________________________________________\n"
          ]
        }
      ]
    },
    {
      "cell_type": "code",
      "source": [
        "# 모델 컴파일\n",
        "model.compile(optimizer='adam',loss=keras.losses.SparseCategoricalCrossentropy(), metrics='accuracy')\n",
        "history = model.fit(x_train,y_train,epochs=10,validation_data=(x_test,y_test))"
      ],
      "metadata": {
        "colab": {
          "base_uri": "https://localhost:8080/"
        },
        "id": "LLxamkeMVeUx",
        "outputId": "8661b34d-1d61-4241-e14f-28c1dea21b56"
      },
      "execution_count": 9,
      "outputs": [
        {
          "output_type": "stream",
          "name": "stdout",
          "text": [
            "Epoch 1/10\n",
            "1875/1875 [==============================] - 17s 3ms/step - loss: 0.4171 - accuracy: 0.8523 - val_loss: 0.3378 - val_accuracy: 0.8765\n",
            "Epoch 2/10\n",
            "1875/1875 [==============================] - 7s 4ms/step - loss: 0.2968 - accuracy: 0.8927 - val_loss: 0.2898 - val_accuracy: 0.8932\n",
            "Epoch 3/10\n",
            "1875/1875 [==============================] - 6s 3ms/step - loss: 0.2607 - accuracy: 0.9043 - val_loss: 0.2692 - val_accuracy: 0.9020\n",
            "Epoch 4/10\n",
            "1875/1875 [==============================] - 7s 4ms/step - loss: 0.2358 - accuracy: 0.9132 - val_loss: 0.2547 - val_accuracy: 0.9053\n",
            "Epoch 5/10\n",
            "1875/1875 [==============================] - 6s 3ms/step - loss: 0.2142 - accuracy: 0.9206 - val_loss: 0.2476 - val_accuracy: 0.9095\n",
            "Epoch 6/10\n",
            "1875/1875 [==============================] - 7s 4ms/step - loss: 0.1996 - accuracy: 0.9245 - val_loss: 0.2516 - val_accuracy: 0.9077\n",
            "Epoch 7/10\n",
            "1875/1875 [==============================] - 6s 3ms/step - loss: 0.1836 - accuracy: 0.9315 - val_loss: 0.2394 - val_accuracy: 0.9154\n",
            "Epoch 8/10\n",
            "1875/1875 [==============================] - 7s 4ms/step - loss: 0.1729 - accuracy: 0.9345 - val_loss: 0.2584 - val_accuracy: 0.9116\n",
            "Epoch 9/10\n",
            "1875/1875 [==============================] - 6s 3ms/step - loss: 0.1578 - accuracy: 0.9409 - val_loss: 0.2543 - val_accuracy: 0.9109\n",
            "Epoch 10/10\n",
            "1875/1875 [==============================] - 7s 3ms/step - loss: 0.1487 - accuracy: 0.9442 - val_loss: 0.2567 - val_accuracy: 0.9148\n"
          ]
        }
      ]
    },
    {
      "cell_type": "code",
      "source": [
        "model.layers"
      ],
      "metadata": {
        "colab": {
          "base_uri": "https://localhost:8080/"
        },
        "id": "qhnRpvH-V_lU",
        "outputId": "5d58b67f-2a49-46ba-937f-579efe3ead8a"
      },
      "execution_count": 10,
      "outputs": [
        {
          "output_type": "execute_result",
          "data": {
            "text/plain": [
              "[<keras.layers.convolutional.conv2d.Conv2D at 0x78ae476fb4c0>,\n",
              " <keras.layers.pooling.max_pooling2d.MaxPooling2D at 0x78ae476fae60>,\n",
              " <keras.layers.regularization.dropout.Dropout at 0x78ae476fb190>,\n",
              " <keras.layers.reshaping.flatten.Flatten at 0x78ae29d88700>,\n",
              " <keras.layers.core.dense.Dense at 0x78ae29d88940>,\n",
              " <keras.layers.core.dense.Dense at 0x78ae29d88d30>]"
            ]
          },
          "metadata": {},
          "execution_count": 10
        }
      ]
    },
    {
      "cell_type": "code",
      "source": [
        "conv = model.layers[0]\n",
        "conv.weights[0].shape, conv.weights[1].shape"
      ],
      "metadata": {
        "colab": {
          "base_uri": "https://localhost:8080/"
        },
        "id": "kedsK0J-W1MA",
        "outputId": "e0c4978f-3e4d-45ea-9a83-81a2e99cd262"
      },
      "execution_count": 15,
      "outputs": [
        {
          "output_type": "execute_result",
          "data": {
            "text/plain": [
              "(TensorShape([3, 3, 1, 32]), TensorShape([32]))"
            ]
          },
          "metadata": {},
          "execution_count": 15
        }
      ]
    },
    {
      "cell_type": "code",
      "source": [],
      "metadata": {
        "id": "ge99U9siXaCp"
      },
      "execution_count": null,
      "outputs": []
    }
  ]
}