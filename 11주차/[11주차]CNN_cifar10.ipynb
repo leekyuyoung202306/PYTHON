{
  "nbformat": 4,
  "nbformat_minor": 0,
  "metadata": {
    "colab": {
      "provenance": []
    },
    "kernelspec": {
      "name": "python3",
      "display_name": "Python 3"
    },
    "language_info": {
      "name": "python"
    }
  },
  "cells": [
    {
      "cell_type": "code",
      "execution_count": 1,
      "metadata": {
        "id": "e_oJbUnJbtoT"
      },
      "outputs": [],
      "source": [
        "# 데이터확보\n",
        "# 전처리\n",
        "# 모델정의  CNN\n",
        "# 콜백(2개 다)\n",
        "# 학습결과 시각화\n",
        "# 저장된 모델 불러와서\n",
        "# 평가하기"
      ]
    },
    {
      "cell_type": "code",
      "source": [
        "from tensorflow import keras"
      ],
      "metadata": {
        "id": "vPcib1qZcDlI"
      },
      "execution_count": 2,
      "outputs": []
    },
    {
      "cell_type": "code",
      "source": [
        "(x,y),(x_test,y_test) = keras.datasets.cifar10.load_data()\n",
        "x = x / 255.0\n",
        "x_test = x_test / 255.0"
      ],
      "metadata": {
        "colab": {
          "base_uri": "https://localhost:8080/"
        },
        "id": "pTNLo8LqcM3P",
        "outputId": "105e9778-7573-4093-eb63-2458b9ff3899"
      },
      "execution_count": 3,
      "outputs": [
        {
          "output_type": "stream",
          "name": "stdout",
          "text": [
            "Downloading data from https://www.cs.toronto.edu/~kriz/cifar-10-python.tar.gz\n",
            "170498071/170498071 [==============================] - 2s 0us/step\n"
          ]
        }
      ]
    },
    {
      "cell_type": "code",
      "source": [
        "from sklearn.model_selection import train_test_split"
      ],
      "metadata": {
        "id": "zPfdV0ZPcbeu"
      },
      "execution_count": 4,
      "outputs": []
    },
    {
      "cell_type": "code",
      "source": [
        "x_train,x_val,y_train,y_val = train_test_split(x,y,random_state=42)"
      ],
      "metadata": {
        "id": "N3Sv8SWFcjPO"
      },
      "execution_count": 5,
      "outputs": []
    },
    {
      "cell_type": "code",
      "source": [
        "x_train.shape"
      ],
      "metadata": {
        "colab": {
          "base_uri": "https://localhost:8080/"
        },
        "id": "4Jh6HnCsetNw",
        "outputId": "d6b752c7-ab1d-43d0-80d6-1c2fc2be3fde"
      },
      "execution_count": 6,
      "outputs": [
        {
          "output_type": "execute_result",
          "data": {
            "text/plain": [
              "(37500, 32, 32, 3)"
            ]
          },
          "metadata": {},
          "execution_count": 6
        }
      ]
    },
    {
      "cell_type": "code",
      "source": [
        "model = keras.Sequential([\n",
        "  keras.layers.Conv2D(32,kernel_size=3,activation='relu',input_shape=(32, 32, 3)),\n",
        "  keras.layers.MaxPool2D(),\n",
        "  keras.layers.Dropout(0.2),\n",
        "  keras.layers.Flatten(),\n",
        "  keras.layers.Dense(100,activation='relu'),\n",
        "  keras.layers.Dense(10,activation='softmax')\n",
        "])"
      ],
      "metadata": {
        "id": "ZkczQAtqcskg"
      },
      "execution_count": 7,
      "outputs": []
    },
    {
      "cell_type": "code",
      "source": [
        "model.compile(optimizer='adam',loss=keras.losses.sparse_categorical_crossentropy,metrics='accuracy' )"
      ],
      "metadata": {
        "id": "RVZPLADofRhE"
      },
      "execution_count": 8,
      "outputs": []
    },
    {
      "cell_type": "code",
      "source": [
        "from keras.api._v2.keras import callbacks\n",
        "modelCheckPoint = keras.callbacks.ModelCheckpoint('cifar10.h5',save_best_only=True)\n",
        "earlyStopPoing = keras.callbacks.EarlyStopping(patience=3,restore_best_weights=True)\n",
        "history = model.fit(x_train,y_train,validation_data=(x_val,y_val),epochs=200,\n",
        "          callbacks=[modelCheckPoint,earlyStopPoing])"
      ],
      "metadata": {
        "id": "vpTYOUpsfkut"
      },
      "execution_count": null,
      "outputs": []
    }
  ]
}