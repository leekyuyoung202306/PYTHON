{
  "nbformat": 4,
  "nbformat_minor": 0,
  "metadata": {
    "colab": {
      "provenance": []
    },
    "kernelspec": {
      "name": "python3",
      "display_name": "Python 3"
    },
    "language_info": {
      "name": "python"
    }
  },
  "cells": [
    {
      "cell_type": "code",
      "execution_count": 1,
      "metadata": {
        "id": "e_oJbUnJbtoT"
      },
      "outputs": [],
      "source": [
        "# 데이터확보\n",
        "# 전처리\n",
        "# 모델정의  CNN\n",
        "# 콜백(2개 다)\n",
        "# 학습결과 시각화\n",
        "# 저장된 모델 불러와서\n",
        "# 평가하기"
      ]
    },
    {
      "cell_type": "code",
      "source": [
        "from tensorflow import keras"
      ],
      "metadata": {
        "id": "vPcib1qZcDlI"
      },
      "execution_count": 2,
      "outputs": []
    },
    {
      "cell_type": "code",
      "source": [
        "(x,y),(x_test,y_test) = keras.datasets.cifar10.load_data()\n",
        "x = x / 255.0\n",
        "x_test = x_test / 255.0"
      ],
      "metadata": {
        "colab": {
          "base_uri": "https://localhost:8080/"
        },
        "id": "pTNLo8LqcM3P",
        "outputId": "105e9778-7573-4093-eb63-2458b9ff3899"
      },
      "execution_count": 3,
      "outputs": [
        {
          "output_type": "stream",
          "name": "stdout",
          "text": [
            "Downloading data from https://www.cs.toronto.edu/~kriz/cifar-10-python.tar.gz\n",
            "170498071/170498071 [==============================] - 2s 0us/step\n"
          ]
        }
      ]
    },
    {
      "cell_type": "code",
      "source": [
        "from sklearn.model_selection import train_test_split"
      ],
      "metadata": {
        "id": "zPfdV0ZPcbeu"
      },
      "execution_count": 4,
      "outputs": []
    },
    {
      "cell_type": "code",
      "source": [
        "x_train,x_val,y_train,y_val = train_test_split(x,y,random_state=42)"
      ],
      "metadata": {
        "id": "N3Sv8SWFcjPO"
      },
      "execution_count": 5,
      "outputs": []
    },
    {
      "cell_type": "code",
      "source": [],
      "metadata": {
        "id": "ZkczQAtqcskg"
      },
      "execution_count": null,
      "outputs": []
    }
  ]
}