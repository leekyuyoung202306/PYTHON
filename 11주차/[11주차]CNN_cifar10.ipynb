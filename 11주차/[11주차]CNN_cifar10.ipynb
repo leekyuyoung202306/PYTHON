{
  "nbformat": 4,
  "nbformat_minor": 0,
  "metadata": {
    "colab": {
      "provenance": [],
      "gpuType": "T4"
    },
    "kernelspec": {
      "name": "python3",
      "display_name": "Python 3"
    },
    "language_info": {
      "name": "python"
    },
    "accelerator": "GPU"
  },
  "cells": [
    {
      "cell_type": "code",
      "execution_count": 1,
      "metadata": {
        "id": "e_oJbUnJbtoT"
      },
      "outputs": [],
      "source": [
        "# 데이터확보\n",
        "# 전처리\n",
        "# 모델정의  CNN\n",
        "# 콜백(2개 다)\n",
        "# 학습결과 시각화\n",
        "# 저장된 모델 불러와서\n",
        "# 평가하기"
      ]
    },
    {
      "cell_type": "code",
      "source": [
        "from tensorflow import keras"
      ],
      "metadata": {
        "id": "vPcib1qZcDlI"
      },
      "execution_count": 2,
      "outputs": []
    },
    {
      "cell_type": "code",
      "source": [
        "(x,y),(x_test,y_test) = keras.datasets.cifar10.load_data()\n",
        "x = x / 255.0\n",
        "x_test = x_test / 255.0"
      ],
      "metadata": {
        "colab": {
          "base_uri": "https://localhost:8080/"
        },
        "id": "pTNLo8LqcM3P",
        "outputId": "ee027bd7-57a1-41a9-8de5-457604854912"
      },
      "execution_count": 3,
      "outputs": [
        {
          "output_type": "stream",
          "name": "stdout",
          "text": [
            "Downloading data from https://www.cs.toronto.edu/~kriz/cifar-10-python.tar.gz\n",
            "170498071/170498071 [==============================] - 14s 0us/step\n"
          ]
        }
      ]
    },
    {
      "cell_type": "code",
      "source": [
        "from sklearn.model_selection import train_test_split"
      ],
      "metadata": {
        "id": "zPfdV0ZPcbeu"
      },
      "execution_count": 4,
      "outputs": []
    },
    {
      "cell_type": "code",
      "source": [
        "x_train,x_val,y_train,y_val = train_test_split(x,y,random_state=42)"
      ],
      "metadata": {
        "id": "N3Sv8SWFcjPO"
      },
      "execution_count": 5,
      "outputs": []
    },
    {
      "cell_type": "code",
      "source": [
        "x_train.shape"
      ],
      "metadata": {
        "colab": {
          "base_uri": "https://localhost:8080/"
        },
        "id": "4Jh6HnCsetNw",
        "outputId": "9c79c632-b023-4f38-85eb-81e0407158a7"
      },
      "execution_count": 6,
      "outputs": [
        {
          "output_type": "execute_result",
          "data": {
            "text/plain": [
              "(37500, 32, 32, 3)"
            ]
          },
          "metadata": {},
          "execution_count": 6
        }
      ]
    },
    {
      "cell_type": "code",
      "source": [
        "model = keras.Sequential([\n",
        "  keras.layers.Conv2D(32,kernel_size=3,activation='relu',input_shape=(32, 32, 3)),\n",
        "  keras.layers.MaxPool2D(),\n",
        "  keras.layers.Dropout(0.2),\n",
        "  keras.layers.Flatten(),\n",
        "  keras.layers.Dense(100,activation='relu'),\n",
        "  keras.layers.Dense(10,activation='softmax')\n",
        "])"
      ],
      "metadata": {
        "id": "ZkczQAtqcskg"
      },
      "execution_count": 10,
      "outputs": []
    },
    {
      "cell_type": "code",
      "source": [
        "model.compile(optimizer='adam',loss=keras.losses.sparse_categorical_crossentropy,metrics='accuracy' )"
      ],
      "metadata": {
        "id": "RVZPLADofRhE"
      },
      "execution_count": 11,
      "outputs": []
    },
    {
      "cell_type": "code",
      "source": [
        "modelCheckPoint = keras.callbacks.ModelCheckpoint('cifar10.h5',save_best_only=True)\n",
        "earlyStopPoing = keras.callbacks.EarlyStopping(patience=10,restore_best_weights=True)\n",
        "history = model.fit(x_train,y_train,validation_data=(x_val,y_val),epochs=200,\n",
        "          callbacks=[modelCheckPoint,earlyStopPoing])"
      ],
      "metadata": {
        "colab": {
          "base_uri": "https://localhost:8080/"
        },
        "id": "vpTYOUpsfkut",
        "outputId": "952e7d4e-787f-4c30-fb3c-5d0cdad309d7"
      },
      "execution_count": 12,
      "outputs": [
        {
          "output_type": "stream",
          "name": "stdout",
          "text": [
            "Epoch 1/200\n",
            "1172/1172 [==============================] - 7s 5ms/step - loss: 1.5596 - accuracy: 0.4412 - val_loss: 1.2894 - val_accuracy: 0.5460\n",
            "Epoch 2/200\n",
            "1172/1172 [==============================] - 6s 5ms/step - loss: 1.2581 - accuracy: 0.5578 - val_loss: 1.2401 - val_accuracy: 0.5702\n",
            "Epoch 3/200\n",
            "1172/1172 [==============================] - 6s 5ms/step - loss: 1.1489 - accuracy: 0.5997 - val_loss: 1.1720 - val_accuracy: 0.5873\n",
            "Epoch 4/200\n",
            "1172/1172 [==============================] - 6s 5ms/step - loss: 1.0740 - accuracy: 0.6231 - val_loss: 1.1196 - val_accuracy: 0.6059\n",
            "Epoch 5/200\n",
            "1172/1172 [==============================] - 5s 4ms/step - loss: 1.0163 - accuracy: 0.6441 - val_loss: 1.0860 - val_accuracy: 0.6246\n",
            "Epoch 6/200\n",
            "1172/1172 [==============================] - 6s 5ms/step - loss: 0.9695 - accuracy: 0.6612 - val_loss: 1.0755 - val_accuracy: 0.6314\n",
            "Epoch 7/200\n",
            "1172/1172 [==============================] - 5s 4ms/step - loss: 0.9244 - accuracy: 0.6783 - val_loss: 1.0685 - val_accuracy: 0.6350\n",
            "Epoch 8/200\n",
            "1172/1172 [==============================] - 6s 5ms/step - loss: 0.8877 - accuracy: 0.6916 - val_loss: 1.0711 - val_accuracy: 0.6310\n",
            "Epoch 9/200\n",
            "1172/1172 [==============================] - 5s 5ms/step - loss: 0.8520 - accuracy: 0.7029 - val_loss: 1.1067 - val_accuracy: 0.6218\n",
            "Epoch 10/200\n",
            "1172/1172 [==============================] - 5s 4ms/step - loss: 0.8231 - accuracy: 0.7147 - val_loss: 1.0711 - val_accuracy: 0.6352\n",
            "Epoch 11/200\n",
            "1172/1172 [==============================] - 6s 5ms/step - loss: 0.7961 - accuracy: 0.7219 - val_loss: 1.0791 - val_accuracy: 0.6338\n",
            "Epoch 12/200\n",
            "1172/1172 [==============================] - 6s 5ms/step - loss: 0.7723 - accuracy: 0.7308 - val_loss: 1.1143 - val_accuracy: 0.6358\n",
            "Epoch 13/200\n",
            "1172/1172 [==============================] - 6s 5ms/step - loss: 0.7431 - accuracy: 0.7388 - val_loss: 1.0814 - val_accuracy: 0.6430\n",
            "Epoch 14/200\n",
            "1172/1172 [==============================] - 5s 4ms/step - loss: 0.7212 - accuracy: 0.7447 - val_loss: 1.1213 - val_accuracy: 0.6353\n",
            "Epoch 15/200\n",
            "1172/1172 [==============================] - 6s 5ms/step - loss: 0.6983 - accuracy: 0.7553 - val_loss: 1.1558 - val_accuracy: 0.6302\n",
            "Epoch 16/200\n",
            "1172/1172 [==============================] - 5s 5ms/step - loss: 0.6811 - accuracy: 0.7594 - val_loss: 1.1579 - val_accuracy: 0.6329\n",
            "Epoch 17/200\n",
            "1172/1172 [==============================] - 6s 5ms/step - loss: 0.6540 - accuracy: 0.7681 - val_loss: 1.1506 - val_accuracy: 0.6392\n"
          ]
        }
      ]
    },
    {
      "cell_type": "code",
      "source": [
        "model = keras.Sequential([\n",
        "  keras.layers.Conv2D(64,kernel_size=3,activation='relu',input_shape=(32, 32, 3)),\n",
        "  keras.layers.Conv2D(32,kernel_size=3,activation='relu'),\n",
        "  keras.layers.MaxPool2D(),\n",
        "  keras.layers.Dropout(0.25),\n",
        "  keras.layers.Flatten(),\n",
        "  keras.layers.Dense(100,activation='relu'),\n",
        "  keras.layers.Dense(10,activation='softmax')\n",
        "])\n",
        "model.compile(optimizer='adam',loss=keras.losses.sparse_categorical_crossentropy,metrics='accuracy' )\n",
        "modelCheckPoint = keras.callbacks.ModelCheckpoint('cifar10_2.h5',save_best_only=True)\n",
        "earlyStopPoing = keras.callbacks.EarlyStopping(patience=10,restore_best_weights=True)\n",
        "history2 = model.fit(x_train,y_train,validation_data=(x_val,y_val),epochs=200,\n",
        "          callbacks=[modelCheckPoint,earlyStopPoing])"
      ],
      "metadata": {
        "colab": {
          "base_uri": "https://localhost:8080/"
        },
        "id": "76SPDQn8hXT7",
        "outputId": "257bb6ff-4534-46fe-e7b1-469bc0660991"
      },
      "execution_count": 13,
      "outputs": [
        {
          "output_type": "stream",
          "name": "stdout",
          "text": [
            "Epoch 1/200\n",
            "1172/1172 [==============================] - 10s 7ms/step - loss: 1.4958 - accuracy: 0.4585 - val_loss: 1.3093 - val_accuracy: 0.5315\n",
            "Epoch 2/200\n",
            "1172/1172 [==============================] - 7s 6ms/step - loss: 1.1558 - accuracy: 0.5922 - val_loss: 1.2032 - val_accuracy: 0.5827\n",
            "Epoch 3/200\n",
            "1172/1172 [==============================] - 7s 6ms/step - loss: 0.9955 - accuracy: 0.6485 - val_loss: 1.0406 - val_accuracy: 0.6347\n",
            "Epoch 4/200\n",
            "1172/1172 [==============================] - 7s 6ms/step - loss: 0.8876 - accuracy: 0.6865 - val_loss: 1.0064 - val_accuracy: 0.6442\n",
            "Epoch 5/200\n",
            "1172/1172 [==============================] - 7s 6ms/step - loss: 0.7954 - accuracy: 0.7175 - val_loss: 0.9974 - val_accuracy: 0.6585\n",
            "Epoch 6/200\n",
            "1172/1172 [==============================] - 7s 6ms/step - loss: 0.7179 - accuracy: 0.7442 - val_loss: 0.9868 - val_accuracy: 0.6616\n",
            "Epoch 7/200\n",
            "1172/1172 [==============================] - 6s 5ms/step - loss: 0.6397 - accuracy: 0.7723 - val_loss: 1.0315 - val_accuracy: 0.6590\n",
            "Epoch 8/200\n",
            "1172/1172 [==============================] - 7s 6ms/step - loss: 0.5810 - accuracy: 0.7913 - val_loss: 1.0009 - val_accuracy: 0.6732\n",
            "Epoch 9/200\n",
            "1172/1172 [==============================] - 7s 6ms/step - loss: 0.5274 - accuracy: 0.8111 - val_loss: 1.0876 - val_accuracy: 0.6566\n",
            "Epoch 10/200\n",
            "1172/1172 [==============================] - 7s 6ms/step - loss: 0.4794 - accuracy: 0.8297 - val_loss: 1.0876 - val_accuracy: 0.6678\n",
            "Epoch 11/200\n",
            "1172/1172 [==============================] - 7s 6ms/step - loss: 0.4379 - accuracy: 0.8429 - val_loss: 1.1248 - val_accuracy: 0.6597\n",
            "Epoch 12/200\n",
            "1172/1172 [==============================] - 7s 6ms/step - loss: 0.4105 - accuracy: 0.8551 - val_loss: 1.1911 - val_accuracy: 0.6619\n",
            "Epoch 13/200\n",
            "1172/1172 [==============================] - 7s 6ms/step - loss: 0.3715 - accuracy: 0.8670 - val_loss: 1.2734 - val_accuracy: 0.6593\n",
            "Epoch 14/200\n",
            "1172/1172 [==============================] - 7s 6ms/step - loss: 0.3559 - accuracy: 0.8710 - val_loss: 1.2565 - val_accuracy: 0.6621\n",
            "Epoch 15/200\n",
            "1172/1172 [==============================] - 7s 6ms/step - loss: 0.3259 - accuracy: 0.8848 - val_loss: 1.3211 - val_accuracy: 0.6534\n",
            "Epoch 16/200\n",
            "1172/1172 [==============================] - 7s 6ms/step - loss: 0.3112 - accuracy: 0.8883 - val_loss: 1.3753 - val_accuracy: 0.6573\n"
          ]
        }
      ]
    },
    {
      "cell_type": "code",
      "source": [
        "import matplotlib.pyplot as plt"
      ],
      "metadata": {
        "id": "ncovTpR8iwU9"
      },
      "execution_count": 14,
      "outputs": []
    },
    {
      "cell_type": "code",
      "source": [
        "plt.plot(history2.history['loss'],label='train loss')\n",
        "plt.plot(history2.history['val_loss'],label='val loss')\n",
        "plt.legend()\n",
        "plt.show()"
      ],
      "metadata": {
        "colab": {
          "base_uri": "https://localhost:8080/",
          "height": 430
        },
        "id": "bPBeMBvni46j",
        "outputId": "a7aa31fc-fde2-4929-b5d4-d40e2f04ed1d"
      },
      "execution_count": 15,
      "outputs": [
        {
          "output_type": "display_data",
          "data": {
            "text/plain": [
              "<Figure size 640x480 with 1 Axes>"
            ],
            "image/png": "[encoded data removed]"
          },
          "metadata": {}
        }
      ]
    },
    {
      "cell_type": "code",
      "source": [
        "m = keras.models.load_model('/content/cifar10_2.h5')"
      ],
      "metadata": {
        "id": "62CcIY5UjL-k"
      },
      "execution_count": 16,
      "outputs": []
    },
    {
      "cell_type": "code",
      "source": [
        "m.evaluate(x_test,y_test)"
      ],
      "metadata": {
        "colab": {
          "base_uri": "https://localhost:8080/"
        },
        "id": "lHdhpW0Yjblc",
        "outputId": "a9b7acaa-92be-4d12-e46a-f106bd3651d1"
      },
      "execution_count": 17,
      "outputs": [
        {
          "output_type": "stream",
          "name": "stdout",
          "text": [
            "313/313 [==============================] - 1s 3ms/step - loss: 1.0127 - accuracy: 0.6562\n"
          ]
        },
        {
          "output_type": "execute_result",
          "data": {
            "text/plain": [
              "[1.012742280960083, 0.6561999917030334]"
            ]
          },
          "metadata": {},
          "execution_count": 17
        }
      ]
    }
  ]
}