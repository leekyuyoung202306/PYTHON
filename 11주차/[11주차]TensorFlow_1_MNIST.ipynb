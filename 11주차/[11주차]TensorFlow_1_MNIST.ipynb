{
  "nbformat": 4,
  "nbformat_minor": 0,
  "metadata": {
    "colab": {
      "provenance": []
    },
    "kernelspec": {
      "name": "python3",
      "display_name": "Python 3"
    },
    "language_info": {
      "name": "python"
    }
  },
  "cells": [
    {
      "cell_type": "code",
      "execution_count": 3,
      "metadata": {
        "id": "AFzxdUtk0UzA"
      },
      "outputs": [],
      "source": [
        "from tensorflow import keras\n",
        "from tensorflow.keras.datasets import fashion_mnist"
      ]
    },
    {
      "cell_type": "code",
      "source": [
        "(x_train,y_train),(x_test,y_test) =  fashion_mnist.load_data()"
      ],
      "metadata": {
        "id": "XCL8I9HN2CtZ"
      },
      "execution_count": 5,
      "outputs": []
    },
    {
      "cell_type": "code",
      "source": [
        "x_train.shape,y_train.shape"
      ],
      "metadata": {
        "colab": {
          "base_uri": "https://localhost:8080/"
        },
        "id": "rj2QHwp-2YLu",
        "outputId": "2e0bb3bf-8f81-44a4-b00d-146568e17ad9"
      },
      "execution_count": 7,
      "outputs": [
        {
          "output_type": "execute_result",
          "data": {
            "text/plain": [
              "((60000, 28, 28), (60000,))"
            ]
          },
          "metadata": {},
          "execution_count": 7
        }
      ]
    },
    {
      "cell_type": "code",
      "source": [
        "import numpy as np\n",
        "\n",
        "np.unique(y_train,return_counts=True)"
      ],
      "metadata": {
        "colab": {
          "base_uri": "https://localhost:8080/"
        },
        "id": "59dE6XD02oOC",
        "outputId": "bad110b7-8126-4a4a-f831-53b77e7beeb6"
      },
      "execution_count": 9,
      "outputs": [
        {
          "output_type": "execute_result",
          "data": {
            "text/plain": [
              "(array([0, 1, 2, 3, 4, 5, 6, 7, 8, 9], dtype=uint8),\n",
              " array([6000, 6000, 6000, 6000, 6000, 6000, 6000, 6000, 6000, 6000]))"
            ]
          },
          "metadata": {},
          "execution_count": 9
        }
      ]
    },
    {
      "cell_type": "code",
      "source": [
        "import matplotlib.pyplot as plt"
      ],
      "metadata": {
        "id": "e_JuFb3R2vWO"
      },
      "execution_count": 10,
      "outputs": []
    },
    {
      "cell_type": "code",
      "source": [
        "index = np.where(y_train == 0)[0][0]"
      ],
      "metadata": {
        "colab": {
          "base_uri": "https://localhost:8080/"
        },
        "id": "UvHkn-oS4McI",
        "outputId": "79834358-2f6a-4992-d0ab-296c259a1dcb"
      },
      "execution_count": 21,
      "outputs": [
        {
          "output_type": "execute_result",
          "data": {
            "text/plain": [
              "1"
            ]
          },
          "metadata": {},
          "execution_count": 21
        }
      ]
    },
    {
      "cell_type": "code",
      "source": [
        "# 각 클래스별 1개씩 10개 그리기\n",
        "for i in range(10):\n",
        "  plt.subplot(1,10,i+1)\n",
        "  index = np.where(y_train == i)[0][0]\n",
        "  plt.imshow(x_train[index],cmap='gray_r')\n",
        "  plt.title(y_train[index])\n",
        "  plt.axis('off')\n",
        "plt.show()"
      ],
      "metadata": {
        "colab": {
          "base_uri": "https://localhost:8080/",
          "height": 101
        },
        "id": "1NQD-hEz3Az9",
        "outputId": "ed3791b4-d74e-45db-ae36-55ce5b121b19"
      },
      "execution_count": 23,
      "outputs": [
        {
          "output_type": "display_data",
          "data": {
            "text/plain": [
              "<Figure size 640x480 with 10 Axes>"
            ],
            "image/png": "[encoded data removed]"
          },
          "metadata": {}
        }
      ]
    },
    {
      "cell_type": "markdown",
      "source": [
        "데이터의 규격을 맞춘다\n",
        "  - 이미지는 255범위 안에서만 각 픽셀이 표현  / 255"
      ],
      "metadata": {
        "id": "hrQ1Trco41UY"
      }
    },
    {
      "cell_type": "code",
      "source": [
        "x_train_scaled = x_train / 255.0\n",
        "x_test_scaled = x_test / 255.0"
      ],
      "metadata": {
        "id": "R8ZqLudh30OX"
      },
      "execution_count": 24,
      "outputs": []
    },
    {
      "cell_type": "markdown",
      "source": [
        "로지스틱 회귀로 패션 아이템을 분류\n",
        "  - 로지스틱함수(시그모이드)를 적용한 알고리즘\n",
        "  - LogisticRegression, SGDClassifier"
      ],
      "metadata": {
        "id": "U9Cdjdc25VAH"
      }
    },
    {
      "cell_type": "code",
      "source": [
        "# 교차검증을 통해 두개 모델을 빠르게 성능확인"
      ],
      "metadata": {
        "id": "O8EEcvzH5TxG"
      },
      "execution_count": 25,
      "outputs": []
    },
    {
      "cell_type": "code",
      "source": [
        "from sklearn.linear_model import LogisticRegression, SGDClassifier"
      ],
      "metadata": {
        "id": "BKzuWAVD5qVO"
      },
      "execution_count": 26,
      "outputs": []
    },
    {
      "cell_type": "code",
      "source": [
        "lr,sgdc = LogisticRegression(), SGDClassifier()"
      ],
      "metadata": {
        "id": "2M5K3PH16XrL"
      },
      "execution_count": 27,
      "outputs": []
    },
    {
      "cell_type": "code",
      "source": [
        "from sklearn.model_selection import cross_validate\n"
      ],
      "metadata": {
        "id": "u473THoj6b38"
      },
      "execution_count": null,
      "outputs": []
    }
  ]
}