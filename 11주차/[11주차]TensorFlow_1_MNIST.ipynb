{
  "nbformat": 4,
  "nbformat_minor": 0,
  "metadata": {
    "colab": {
      "provenance": []
    },
    "kernelspec": {
      "name": "python3",
      "display_name": "Python 3"
    },
    "language_info": {
      "name": "python"
    }
  },
  "cells": [
    {
      "cell_type": "code",
      "execution_count": 3,
      "metadata": {
        "id": "AFzxdUtk0UzA"
      },
      "outputs": [],
      "source": [
        "from tensorflow import keras\n",
        "from tensorflow.keras.datasets import fashion_mnist"
      ]
    },
    {
      "cell_type": "code",
      "source": [
        "(x_train,y_train),(x_test,y_test) =  fashion_mnist.load_data()"
      ],
      "metadata": {
        "id": "XCL8I9HN2CtZ"
      },
      "execution_count": 5,
      "outputs": []
    },
    {
      "cell_type": "code",
      "source": [
        "x_train.shape,y_train.shape"
      ],
      "metadata": {
        "colab": {
          "base_uri": "https://localhost:8080/"
        },
        "id": "rj2QHwp-2YLu",
        "outputId": "2e0bb3bf-8f81-44a4-b00d-146568e17ad9"
      },
      "execution_count": 7,
      "outputs": [
        {
          "output_type": "execute_result",
          "data": {
            "text/plain": [
              "((60000, 28, 28), (60000,))"
            ]
          },
          "metadata": {},
          "execution_count": 7
        }
      ]
    },
    {
      "cell_type": "code",
      "source": [
        "import numpy as np\n",
        "\n",
        "np.unique(y_train,return_counts=True)"
      ],
      "metadata": {
        "colab": {
          "base_uri": "https://localhost:8080/"
        },
        "id": "59dE6XD02oOC",
        "outputId": "bad110b7-8126-4a4a-f831-53b77e7beeb6"
      },
      "execution_count": 9,
      "outputs": [
        {
          "output_type": "execute_result",
          "data": {
            "text/plain": [
              "(array([0, 1, 2, 3, 4, 5, 6, 7, 8, 9], dtype=uint8),\n",
              " array([6000, 6000, 6000, 6000, 6000, 6000, 6000, 6000, 6000, 6000]))"
            ]
          },
          "metadata": {},
          "execution_count": 9
        }
      ]
    },
    {
      "cell_type": "code",
      "source": [
        "import matplotlib.pyplot as plt"
      ],
      "metadata": {
        "id": "e_JuFb3R2vWO"
      },
      "execution_count": 10,
      "outputs": []
    },
    {
      "cell_type": "code",
      "source": [
        "index = np.where(y_train == 0)[0][0]"
      ],
      "metadata": {
        "colab": {
          "base_uri": "https://localhost:8080/"
        },
        "id": "UvHkn-oS4McI",
        "outputId": "79834358-2f6a-4992-d0ab-296c259a1dcb"
      },
      "execution_count": 21,
      "outputs": [
        {
          "output_type": "execute_result",
          "data": {
            "text/plain": [
              "1"
            ]
          },
          "metadata": {},
          "execution_count": 21
        }
      ]
    },
    {
      "cell_type": "code",
      "source": [
        "# 각 클래스별 1개씩 10개 그리기\n",
        "for i in range(10):\n",
        "  plt.subplot(1,10,i+1)\n",
        "  index = np.where(y_train == i)[0][0]\n",
        "  plt.imshow(x_train[index],cmap='gray_r')\n",
        "  plt.title(y_train[index])\n",
        "  plt.axis('off')\n",
        "plt.show()"
      ],
      "metadata": {
        "colab": {
          "base_uri": "https://localhost:8080/",
          "height": 101
        },
        "id": "1NQD-hEz3Az9",
        "outputId": "ed3791b4-d74e-45db-ae36-55ce5b121b19"
      },
      "execution_count": 23,
      "outputs": [
        {
          "output_type": "display_data",
          "data": {
            "text/plain": [
              "<Figure size 640x480 with 10 Axes>"
            ],
            "image/png": "[encoded data removed]"
          },
          "metadata": {}
        }
      ]
    },
    {
      "cell_type": "markdown",
      "source": [
        "데이터의 규격을 맞춘다\n",
        "  - 이미지는 255범위 안에서만 각 픽셀이 표현  / 255"
      ],
      "metadata": {
        "id": "hrQ1Trco41UY"
      }
    },
    {
      "cell_type": "code",
      "source": [
        "x_train_scaled = x_train / 255.0\n",
        "x_test_scaled = x_test / 255.0"
      ],
      "metadata": {
        "id": "R8ZqLudh30OX"
      },
      "execution_count": 24,
      "outputs": []
    },
    {
      "cell_type": "markdown",
      "source": [
        "로지스틱 회귀로 패션 아이템을 분류\n",
        "  - 로지스틱함수(시그모이드)를 적용한 알고리즘\n",
        "  - LogisticRegression, SGDClassifier"
      ],
      "metadata": {
        "id": "U9Cdjdc25VAH"
      }
    },
    {
      "cell_type": "code",
      "source": [
        "# 교차검증을 통해 두개 모델을 빠르게 성능확인"
      ],
      "metadata": {
        "id": "O8EEcvzH5TxG"
      },
      "execution_count": 25,
      "outputs": []
    },
    {
      "cell_type": "code",
      "source": [
        "from sklearn.linear_model import LogisticRegression, SGDClassifier"
      ],
      "metadata": {
        "id": "BKzuWAVD5qVO"
      },
      "execution_count": 26,
      "outputs": []
    },
    {
      "cell_type": "code",
      "source": [
        "lr,sgdc = LogisticRegression(), SGDClassifier()"
      ],
      "metadata": {
        "id": "2M5K3PH16XrL"
      },
      "execution_count": 27,
      "outputs": []
    },
    {
      "cell_type": "code",
      "source": [
        "from sklearn.model_selection import cross_validate"
      ],
      "metadata": {
        "id": "u473THoj6b38"
      },
      "execution_count": 28,
      "outputs": []
    },
    {
      "cell_type": "code",
      "source": [
        "def evalML(estimator,x,y):\n",
        "  scores = cross_validate(estimator,x,y, return_train_score=True)\n",
        "  print(scores['train_score'].mean(), scores['test_score'].mean())"
      ],
      "metadata": {
        "id": "jHJUB-dF8-n7"
      },
      "execution_count": 29,
      "outputs": []
    },
    {
      "cell_type": "code",
      "source": [
        "evalML(lr,x_train_scaled.reshape(60000,-1),y_train)\n",
        "evalML(sgdc,x_train_scaled.reshape(60000,-1),y_train)"
      ],
      "metadata": {
        "colab": {
          "base_uri": "https://localhost:8080/"
        },
        "id": "_s6g9h2g9aIc",
        "outputId": "645695fa-50f5-4c35-bbe9-130d8d3ebcc3"
      },
      "execution_count": 30,
      "outputs": [
        {
          "output_type": "stream",
          "name": "stderr",
          "text": [
            "/usr/local/lib/python3.10/dist-packages/sklearn/linear_model/_logistic.py:458: ConvergenceWarning: lbfgs failed to converge (status=1):\n",
            "STOP: TOTAL NO. of ITERATIONS REACHED LIMIT.\n",
            "\n",
            "Increase the number of iterations (max_iter) or scale the data as shown in:\n",
            "    https://scikit-learn.org/stable/modules/preprocessing.html\n",
            "Please also refer to the documentation for alternative solver options:\n",
            "    https://scikit-learn.org/stable/modules/linear_model.html#logistic-regression\n",
            "  n_iter_i = _check_optimize_result(\n",
            "/usr/local/lib/python3.10/dist-packages/sklearn/linear_model/_logistic.py:458: ConvergenceWarning: lbfgs failed to converge (status=1):\n",
            "STOP: TOTAL NO. of ITERATIONS REACHED LIMIT.\n",
            "\n",
            "Increase the number of iterations (max_iter) or scale the data as shown in:\n",
            "    https://scikit-learn.org/stable/modules/preprocessing.html\n",
            "Please also refer to the documentation for alternative solver options:\n",
            "    https://scikit-learn.org/stable/modules/linear_model.html#logistic-regression\n",
            "  n_iter_i = _check_optimize_result(\n",
            "/usr/local/lib/python3.10/dist-packages/sklearn/linear_model/_logistic.py:458: ConvergenceWarning: lbfgs failed to converge (status=1):\n",
            "STOP: TOTAL NO. of ITERATIONS REACHED LIMIT.\n",
            "\n",
            "Increase the number of iterations (max_iter) or scale the data as shown in:\n",
            "    https://scikit-learn.org/stable/modules/preprocessing.html\n",
            "Please also refer to the documentation for alternative solver options:\n",
            "    https://scikit-learn.org/stable/modules/linear_model.html#logistic-regression\n",
            "  n_iter_i = _check_optimize_result(\n",
            "/usr/local/lib/python3.10/dist-packages/sklearn/linear_model/_logistic.py:458: ConvergenceWarning: lbfgs failed to converge (status=1):\n",
            "STOP: TOTAL NO. of ITERATIONS REACHED LIMIT.\n",
            "\n",
            "Increase the number of iterations (max_iter) or scale the data as shown in:\n",
            "    https://scikit-learn.org/stable/modules/preprocessing.html\n",
            "Please also refer to the documentation for alternative solver options:\n",
            "    https://scikit-learn.org/stable/modules/linear_model.html#logistic-regression\n",
            "  n_iter_i = _check_optimize_result(\n",
            "/usr/local/lib/python3.10/dist-packages/sklearn/linear_model/_logistic.py:458: ConvergenceWarning: lbfgs failed to converge (status=1):\n",
            "STOP: TOTAL NO. of ITERATIONS REACHED LIMIT.\n",
            "\n",
            "Increase the number of iterations (max_iter) or scale the data as shown in:\n",
            "    https://scikit-learn.org/stable/modules/preprocessing.html\n",
            "Please also refer to the documentation for alternative solver options:\n",
            "    https://scikit-learn.org/stable/modules/linear_model.html#logistic-regression\n",
            "  n_iter_i = _check_optimize_result(\n"
          ]
        },
        {
          "output_type": "stream",
          "name": "stdout",
          "text": [
            "0.8680833333333334 0.8563000000000001\n",
            "0.8628916666666667 0.8454\n"
          ]
        }
      ]
    },
    {
      "cell_type": "markdown",
      "source": [
        "![image.png](data:image/png;base64,iVBORw0KGgoAAAANSUhEUgAAAh0AAAGjCAYAAACISKd/AAAgAElEQVR4AexdBZgU9RsGuwNQEVHxbyAqJopKlyAgrZQoSCndIA3SII2EkpKCgBJygDQoCNICIl2SUrdxuzvv/3l/xxx7y3bO3n3f8+zt3MQv3pmd+eaL98sAEUFAEBAEBAFBQBAQBKKAQIYo9CFdCAKCgCAgCAgCgoAgAFE65CIQBAQBQUAQEAQEgaggIEpHVGCWTgQBQUAQEAQEAUFAlA65BgQBQUAQEAQEAUEgKgiI0hEVmKUTQUAQEAQEAUFAEBClQ64BQUAQEAQEAUFAEIgKAqJ0RAVm6UQQEAQEAUFAEBAEROmQa0AQEAQEAUFAEBAEooKAKB1RgVk6EQQEAUFAEBAEBAFROuQaEAQEAUFAEBAEBIGoICBKR1Rglk4EAUFAEBAEBAFBQJQOuQYEAUFAEBAEBAFBICoIiNIRFZilE0FAEBAEBAFBQBAQpUOuAUFAEBAEBAFBQBCICgKidEQFZulEEBAEBAFBQBAQBETpkGtAEBAEBAFBQBAQBKKCgCgdUYFZOhEEBAFBQBAQBAQBUTrkGhAEBAFBQBAQBASBqCAgSkdUYJZOBAFBQBAQBAQBQUCUDrkGBAFBQBAQBAQBQSAqCIjSERWYpRNBQBAQBAQBQUAQEKVDrgFBQBAQBAQBQUAQiAoConREBWbpRBAQBAQBQUAQEARE6ZBrQBAQBAQBQUAQEASigoAoHVGBWToRBAQBQUAQEAQEAVE65BoQBAQBQUAQEAQEgaggIEpHVGCWTgQBQUAQEAQEAUFAlA65BgQBQUAQEAQEAUEgKgiI0hEVmKUTQUAQEAQEAUFAEBClQ64BQUAQEAQEAUFAEIgKAqJ0RAVm6UQQEAQEAUFAEBAEROmQa0AQEAQEAUFAEBAEooKAKB1RgVk6EQQEAUFAEBAEBAFROuQaEAQEAUFAEBAEBIGoICBKR1Rglk4EAUFAEBAEBAFBQJQOuQYEAUFAEBAEBAFBICoIiNIRFZilE0FAEBAEBAFBQBAQpUOuAUFAEBAEBAFBQBCICgKidEQFZulEEBAEBAFBQBAQBETpkGtAEBAEDI/Azp07sXTZUsOPUwYoCAgC3hEQpcM7PrJVEBAEDIBAmzZt8GCmB3Hu3DkDjEaGIAgIAsEiIEpHsMjJcYKAIBA1BPr3748MGTJg69atUetTOhIEBIHwIyBKR/gxlRYFAUEgzAhMnTpVKR0bNmwIc8vSnCAgCEQTAVE6oom29CUICAJBITBlyhRROoJCTg4SBIyFgCgdxjofMhpBQBBwg4CudGzevNnNVlklCAgC8YKAKB3xcqZknIJAOkZg/PjxuOmmm7Bv3750jIJMXRCIfwRE6Yj/cygzEATSPAIDBw7EHXfcgX9Pn07zc5UJCgJpGQFROtLy2ZW5CQJpBIF27drhnnvuwaXLl9PIjGQagkD6RECUjvR53mXWgkBcIVC3bl2ldFy9ejVl3OfPnxfejhQ0ZEEQiA8EROmIj/MkoxQE0jUCFSpUwHPPPacwWLZ8GerVq4tXX30VuXPnRosWLXD27Nl0jY9MXhCIFwRE6YiXMyXjFATSMQIFCxZE4cKF0alTJ9x7770pyz169MAjjzwCWkI0TUvHCMnUBYH4QECUjvg4TzJKQSBdI5AvXz7cd999iqvjq6++QlJSUgoeM2fOxLPPPosDBw6krJMFQUAQMCYConQY87zIqAQBQcAJgddff10pHHSzuAqVjVy5cmHOnDmum+R/QUAQMBgConQY7ITIcAQBQSA1Ag6HQ1kyWHvFnWJx6tQpPP744xgzZkzqA+U/QUAQMBwConQY7pTIgAQBQcAZASodOXLkUDwdx44dc96klr/55hsV17Fjx46UbSdOnMD8n+bDbrenrJMFQUAQiD0ConTE/hzICAQBQcALAja7TVkyGLdhtVpT7bl69WrcfffdaNCgQar19erXU5ktzim2qXaQfwQBQSAmCIjSERPYpVNBQBDwFwFaKx544AHkzZs3leVi6dKlyJQpE95++21cuHAhpblLly7hhRdeQP369VPWyYIgIAgYAwFROoxxHmQUgoAg4AWBOnXqoFWrVmoPpsaOGDECt9xyC1555RUcP3481ZF0rTDGg/wdIoKAIGAsBETpMNb5kNEIAoKAEwLWJCuGDRuGyZMn4/Dhw1iyZAnKlSunMllKlSoFBpG6CuM+MmfOjE8++cR1k/wvCAgCMUZAlI4YnwDpXhAQBDwjcOXKFeTJk0dZNchIygyW2267Db1794KneA0qHQ8//DBq1arluWHZIggIAjFBQJSOmMAunQoCgoC/CKxbv04pEKXLlEa3bt2wfft2r4devnxZUaS/9tpr2Pf3Pq/7ykZBQBCILgKidEQXb+lNEBAEgkSAqbP+Su/evZVVpHnz5v4eIvsJAoJAFBAQpSMKIEsXgoAgEF0ELl68iFGjRmHnzp3R7Vh6EwQEAa8IiNLhFR7ZKAgIAoKAICAICALhQkCUjnAhKe0IAoKAICAICAKCgFcEROnwCo9sFAQEAUFAEBAEBIFwISBKR7iQlHYEAUFAEBAEBAFBwCsConR4hUc2CgKCgJERaNOmDWbNmmXkIcrYBAFBwAkBUTqcwJBFQUAQiC8EKlasiGeeeQaJpsT4GriMVhBIpwiI0pFOT7xMWxBICwhs3LQRGTNmxA8//JAWpiNzEATSPAKidKT5UywTFATSNgJVq1ZF4cKFbyh7n7ZnLbMTBOITAVE64vO8yagFAUHgGgIrV67Egw8+gISEBMFEEBAEDI6AKB0GP0EyPEFAEPCOAEvdv1fyPeTNmxc2m837zrJVEBAEYoqAKB0xhV86FwQEgXAgsGzZMlVrZcaMGeFoTtoQBASBCCEgSkeEgJVmBQFBILoIMJPl5ZdfxtVEyWSJLvLSmyDgPwKidPiPlewpCAgCBkZg8+bNuOuuuzBgwAADj1KGJgikbwRE6Ujf519mLwikKQQ6deqEW2+9FevXr09T85LJCAJpBQFROtLKmZR5CAKCACwWC0qUKIEnn3wShw4dEkQEAUHAYAiI0mGwEyLDEQQEgdAQOHbsGF544QW89tprOH78eGiNydGCgCAQVgRE6QgrnNKYICAIGAGBv/76C4888gjefvtt/Pfff0YYkoxBEBAEAIjSIZeBICAIpEkENm7ciIceeki5Wy5dupgm5yiTEgTiDQFROuLtjMl4BQFBwG8E1qxZg3vuuQelS5fG1atX/T5OdhQEBIHIICBKR2RwlVYFAUHAIAiQHv3mm2/Bp59+CrvDbpBRyTAEgfSJgCgd6fO8y6wFgXSFwNy5cxVjaZu2bdLVvGWygoDREBClw2hnRMYjCAgCEUFgwsQJyJgxIyZOnBiR9qVRQUAQ8I2AKB2+MZI9BAFBII0g0KZNG9xxxx3YunVrGpmRTEMQiC8EROmIr/MloxUEBIEQEEhMTESBggWQO3dunD17NoSW5FBBQBAIBgFROoJBTY4RBASBuEXgwMEDyJQpExo1auRxDklJSbDZbB63ywZBQBAIDgFROoLDTY4SBASBOEZg2rRpqkbL9BnT3c5i2LBhqFmzJq5cueJ2u6wUBASB4BAQpSM43OQoQUAQiHMEmrdogaxZH8HevXtvmEnHjh1Vtsvu3btv2CYrBAFBIHgEROkIHjs5UhAQBOIYgUuXLuGNN95A3rx5YTKZUs2EGS4ZMmTAzp07U62XfwQBQSA0BETpCA0/OVoQEATiGIE///wTd999N+rVq5dqFus3rFdKx5w5c1Ktl38EAUEgNARE6QgNPzlaEBAE4hyBn376Cbfedit6ftUzZSanTp3CQ1myoEGD+inrZEEQEARCR0CUjtAxlBYEAUEgzhEYNWqU4u+oWLEivvrqK9D18t577+Htd96GpmlxPjsZviBgHARE6TDOuZCRCAKGQ+DgwYNYt25dunjwrlm7BhUrVsBnn30Gu92O2rVr47HHHsPly5cNd15kQIJAvCIgSke8njkZtyAQBQQGDx6MN998E+fOnQuot+MnjmPvvhuzQgJqJAI7nzhxAiNGjsCgQYMwcNDA5M/A5G+up5WjU6dOisPj/vvvR5EiRWA2myMwEmlSEEifCIjSkT7Pu8xaEPALgSFDhuDpp58GH9bOwv979OiBHTt2OK9OWW7dujVyvZDLcKyfTZo0UQGizExx97n11ltBZYMWjg8//NBtOm3KJGVBEBAEAkZAlI6AITP2ATQFHzt6DEePHsWxY8nfR44cSfn/+PHjaj2/xVdt7HNphNHNnDkTuXLlAq8hZxk6dKh6aFO5cCcsI//QQw/dcJy7faO5bt68eWjYsCFmzZqFxYsXY+nSpVi1ahU2bNiALVu2YNeuXer3YbFYojks6UsQSDcIiNIRx6eaZl++ac6ePRskM+Ln7bffxp133qmC4ljY6vbbb1cfLnM9P/fee6+igR4wYEAcz16GHg0Eli9friwdTC3VhfTglSpVUkpHocKFcDXxqr4p5fvjjz/Gc889ZzhLR8oAZUEQEARigoAoHTGBPfROqXA0b95cKRCuZuIcOXLgtddeU774fPnyoWDBgkoZeenFF5EzZ07cd9996oHRu0/v0AcSYgtWq1W9YX733Xf44ovPUaFCBZQoUUJlDlSpUgU0h0+aNEmRNDk0R4i9yeGBIrBp0yblaiBtuC7/nv4XWbNmRfbs2XHPPffgnwP/6JvUt81uQ/HixdU1xxomIoKAICAI6AiI0qEjEWfff//9t7JaPPPMM+jXrx+WLFmCqVOnguZwulbOnDmDCxcuqMh71o/477//QO4Bfrp06aKUDpqUYyWnT5/GqG9GoUCBAmosuuLE+AGyRL788svKGqOv53epUqUwZcoUqYcRxZNGNxyVWAZY6nL48GGl7LJg2l133YVffvlF36S+z50/pxSSSpUrpVov/wgCgoAgIEpHnF4D27ZtQ8aMGb1WyvQ0tZEjR6oH/cqVKz3tErH1jCMZO3asMr1TkXj11VdVQOKKFSvA9Mzz58/j6tWriifh5KmTyn00fvx40FzPBxyPoaJCQieRyCNAq8Wbb72JNm3apHS2fv163HLLLZg8ebJSDjt37pyyjQsHDhxQ56l9+/ap1ss/goAgIAiI0hGn18CYMWPUjb1BgwZeZ7B///5U9SNYY6J3797qWD48oim0vlStWlX1/e6772Lu3LkBWS327NmDZs2aqeOpfHTv3l3Kj0fhBJYtWxYlS5YEFRAK3V3M8Ni5aycqV66stjkPg8GZPD8M1hQRBAQBQcAZAVE6nNGIo+Uvv/xS3dhp4vYm5cqVQ926dVN2adu2LTJnyayOZczEjBkzopLFsv+f/cqqwYBWBrC6FthKGaAfC2vXrsVbb72l5kAip8TERD+Okl2CRaBVq1bIkiVLCklWl65d8Pzzzyv+iq+//hqPPPIIDh06lNI819EKt+mPTSnr7A57ynJ6WiDJGK9PWu+YWUY3J7/5P38DGuKT7dQq4VXp6TIO61xF6QgrnNFrrF27duqhywBMb8K4DVo7dNm8ebNiWuSbKIMB+RbLmyJ5F/799199t7B+s23GaDBrhrEn4RDSVNPKw3k0btw4HE1KGx4QGDdunFIiGCtEqV69OhigTDlw8IAKJnVWfqkIUimhq0yXOp/VUfFG+v/O33wI//DDDzdwgTjvEy/LnAszfYhZ927dUKF8eYUFM3meffZZMAaL3/z/hRdeQI0aNdC/f39Mnz4djNNiZpCRhSrSzM1AgRHAgOWATZQPI58uQ45NlA5Dnhbfg9IfuAkJCb53dtmDNzg+rJs0aZxi5WCVzZo1a6r/HY7w3UnId1CmTBkVj7FyVXhjSHiDZgYP58LaGSKRQYCKKzFmLA4x5wOzadOmKZ316tVLbae7a9++fXjqqaeUGy1lBwCPPvqoco05r9OXyZfBLJhwKaR6u9H6pjXj999/B62P+fLnV5Yf4hXoh7jxJWDYsGEqLiZa4w+kHyodlb8DMnym4Z4vNew5E8jRsq8gAIjSEadXAQMreVNjAGagsmzZMnUslQFdxowdo4I1SZBEYicGA7rKX3/9pd7iXNd7+5+uFI6TcQCREKZkMq7g5ptvBscnEn4EqGiQnZNxHHwoZs6cGUyl1YUP3T59+qhsKrpVGGTqqkDw7Z6kXO5k+vRpePDBB/Hbb7+522zYdXSPkCOndOnSigvHnZLx8MMPI0+ePCru5YMPPgDdnUwnZoYWcXR3DNfRZUWFeuvWrYab/8LdwOv9NdzUElh/3atmuHHKgIyJgCgdxjwvPkf10UcfqRtWMBkoe/fuxT333I133nknxZzLBwcf4HyYvPTSSyprZOfOnWD8hC41atZQN1B/TcD//POPeoOlBSWSwvRbPtTq1KkTyW7SddsMAia+dJvwTdydMDCZBHVM23Zlu+VbvKfzM2vWTHU9BnMtuxtHNNYtXLhQ8ck4Kw033XSTciPS/USMfv31V+zZu0e5mZyth/z90PW0e/dukHyNdWA+qvqRYn51bo/LVEzoSnWloY/GHL31sXwPkKE58Ivxyut4G7ZsMwAConQY4CQEMwQGgfKmtCoIl8XJkyeRLVs2PPHEE+Cys1DxYOoqhdwMjz/+uFI8qJQsWLBAmcn5YHF9qDi3oS+3bNkSrGURqgWCffsSuow4H97IRSKHAGNpghHGL/B60IWBlEz75sOYD3Bey/HAkMu4FmZQUcHQFQSmcjM2Y86cOSCvSbBC/hOSsFWsWDFV++yHyh55eIwi248DGVoCE/8wyohkHPGCgCgd8XKmXMbpS+kgCdj27dvVjZ0Baoya14VmYd7ESJHuqWAX97148SLIkZE7d27QasG6FOTVoJmdb18kHfMkrPtCkzljRbwJLSvMqCHXw4mTqYuK8Ti+MRYpUlixlnprh8pS/vz5wfgCEeMhwAeqXqmWb/l0M/C64jVESxWX6dbzR5mN1eyYCvzKK6+kUjYYNMt4jnAKMaDblOnlzsoNlQ8GTQer+IVzjLtOAxk7An2Wx2f2TTixkLYCQ0CUjsDwMsze9LHzJkQTrrOsW7dOvSk9+eSTqv4KFQs+/Mn0yRLlHTp0UEWuWKOFx/sTE0JfO2nXaQouWqyo8s3zWG8EXYzh4D4bN250Hl6qZSox9HnffY30i75uZ0WGgYtsg64kV4tMqoau/dOrdy+88vIr8Mcy4u54WRd5BBhY/P7776vz+v3336coGXQfhGIliPTIqXzr5QN4TdI1mbA08CDuQMZJKxCzepj5xT71D2ND+FIRSzlwAXigB9Du51iOQvqORwRE6YjHswYocy5vQgsXLUyZwcCBA5UVgutZ4ZM3K9ZgYYwGYx4eeOABdeNi2W4Gt3G/BT8vSDne1wIfCjQj0+XCgl+6G8bdcXwjI5eGNw6NL774QrlraBWZPmOGGo8ecMpYEipMVET8rfjJzAlaO/TUTnfjknWxReDylcsq84XVXuNFunXrptyE/L2QZ4aWOed04EjPg787WgwZLM0x8MPrnL+bWMmx/4DsvYCW8XMaYwWV9OuCgCgdLoDEy7806yqlYcECRTZEllFmDtAc26lTJ5V9Qs4AWg74TVcJH8p8uyQTaNVqycyg5BPwJQx8ozLAtEdaTPjW582aQH89rSrMsPEmNB9TIaLQPfLMs8+o42jVYHQ/feWBxGiweBz5I/h2KCIIhAOBHj16pDzoSZDmXPguHO0H0gZ/u7QM6opHoUKFUrlNA2kr1H1p6bhfLB2hwpgujxelI05PO6uv8ubzySefoFixYik3Ij50nSPlPU2vcZPG6hjeVH0JA/7Io0Arhz9uDu5DawiVH2+yfcd2LFh43dLyVa+v1Jho3eDcGNUfiFA5os+dgX4igkCoCEycOFGl//JaZEVdxnTEWlavXq0qReuKBy0g3l4AIjXenaeADO01DF4dqR6k3bSKgCgdcXpmGZuh33j0bz7oyTjqj/Tp20cd7w+bJ/3HrKPBuA5/5MiRI4p5cfTo0f7snrLPtu3bUirLFilSJFV8B9N3fblNqGyxEm2tWrVS2uQCA/MYMEtyMqZ1kouEFhQytZKF1d8U4FSNyj9pGgHGSmXKlEn9Rpjp5Ro7FcvJk7uDzKb6755u1WjLop1AhqYaEiRlNtrQx31/onTE6SlktgdvOkxJZWAZ3SurVq3yezY6KyktJeEWXen49rtvA2qafvKcOXPi7rvvThXgejXxKgoWLJiqhoy7hqlcVKhQQdF0O2+n64bBqEypZZn2//3vf4o1k7EtjHUpWrSosuLQQjJ06FAsSVgCZluIxAcCfAh7C1gOdBa01PE65O+LMRzz588PtImI70+qdV7PHCOVI/4fTWm/CLi9I7D/XDR7lb7SAgKidMTpWdSVDhIu+Rto6TzVNWvWqBsWH9L+uGOcj/W1TIsEH+4s/BWI0B3DmyjfLBl/oguJqRhLUqZsGa9jpZmZAbJ1P7te4E5vg2nDtHIwu4cm6p9//hkjRowAi5nVr19fpXCS3ltPUaTvnIpOixYt8Msvv4CEaowZETEWAkeOHlGuPCrfffv2DYurwbmScc+ePY01YafRMHuGmWn8zZQoUSKo+4BTcwEtlhijIe9gwJwU0GGysyAgNOjxeg106dJF3Wzat28f1BT4Jk+6aqbOhjvvn3wMNP86FwHzNUjW9+BbJcfEgFgSkenC6H0qMWU/KOv1oUKlgPTRJC8LVKh4Ubkh/TvHwjoijJWhVYRKENstXLiwCo5lrAnffhnrcuHChUC7kv3DiABdf7pVgg9fxjiEcj3TjcJrkG2RS8ToiiYtcxwrP4xBiYacTwSe7aOhpnG4yqIxbekjTAiIpSNMQEa7Gd3SwYBSX8KbcNeuXVVmCEuQM5tFD0SlBSHc/Ah8gFesWEHdtH2Njdvp/mAsBm+ctCxkypxJjVc/9vCRw+rBz324ryehNYLEZZMmu6/zoh08CPvy5dACYNWkIvLHpk3K7cJaGEwDZhYP6an5lvnwQw8rBYtka8y4YR2OSpUqokaN6vi41sf49NNPFP03H4a0qLD+iKcPi/hx2xeNvkCTpk0UFiwixmDfwYMHqwwisl4y3ZSWGvKmMD6FVhzGpjBriHE3tHylpzgVYsJqyy1btVTXEAORz5496+ky8bie2OlBzHRZ/PGH8ek2ad1jPRz+dnj98bcdadn/L5C1q4Z24SkYHenhSvsGQ0CUDoOdEH+HQ1MybzSff/65z0P49k5CJj7UeDNm7ATjQPhGxzd4uhmGDx8OMpWGS1gAjA9mxnf4EmYFcC7MjiE7JX3Vn312vY4Kx0/eEVoavLmShgwZgnvvvddjPIZ1yBAk5skDS8uWsHshLfM2XmJEReTPrX9i/PjvFJMqFaXatWuromjElVjT3E1LSdEiRcCgWKY30l1ToEAB9SHPApfdfTMDieRTefPmxeuvv674Vp7P+bxSbljDJNtj2ZA5S2aVPklLDK1KzNp59913VR/si3Eq5FKhotOlaxelNE2aNBmsb8JzQgXFZjd2GXVv58HdNsb00ArFa4nYBqp4LFq0MKVwG5W9eBEqnlS26WL68ccfIz7sLQeBR74Epnjm/Yv4GKSD+EVAlI44PXfk1+DNlQ8Vf8T1zZduAZKH6QWl+OAi2RCp0/kJVUhvzvHxDdSX0ArAffVA2IULF6QaA5UOskGS08Mb2VixYkXVQ9dTf469e2Fp3w6mQgVhKvkekiZMgGaxeNo9pPW09vAtlLjzQwsNPzTX699c9vShcsU3byoH5FohzwrPGZUyWjb4Fk5LB6ucTpgwAcwUouLYt19ftG3XTgXdUvkhXwrjXFj7hBYa4nzbbbcpKw1da598+olyRzH+hqZ60s7zw7b4oULq/Bk5ciT0D9dz2Xk7l/Vj2Q7b5IcKYb9+/UC3IF2CJNhq3bq1+jATi5Y7urQYEO08FrY1ZswYVURu8eLFKiZnz549KnWbbjzi4ypkyuUcA6HEp8LCqsvEh2y+Riuw5jpH1/9Z14Zjp6Ut0jJ/O5ClPbBmT6R7kvbTIgKidMTpWWUlT95kWK8iGLEmWZUpmZkifNgzsJQPQ9Kr8w07VOFDl+6QXLlyebVOsB9WoaV1gw9Wd8IHC60FFStVVGN0tw+zF+68805Mnebd0ayZzbD9MBumSpWQWLAgrMOGQrOlrTd+HR8+SKnwULHhW/+2bVtV6vO3336rHvKs30PGWiojVOoYU8O3ZTJfMq6G11eoH73UPc8NuV7IiktFl5YrBuvyQ9ItujO4jePgNUmlQQ/q5Rg4Nm6nZY7xPYzjYOYRlSr+BlickHFAVEQYl8HjA+FrYfYHx8i+fPHL6Pga6ZuuRWJJlx+XIynjNgD3dtTwR3JdyEh2JW2nQQRE6YjTk8q3Pt4gaULnAz4YqVatmmrDuWDVuG/HoWTJkmGJCUi45jbhm7g34Zs767t4E8adMG7Bk1SuXFlZbvz1adu3bYO5dm2YChVC0vDh0NJxiqzNbldWFGYd8VyQw4S8JgyU5cOY5ntaVmi9onLHc8VgW37zw+vH+cN9uC85Y2g140OQsURMRWXhQSqRiaZEmC1m9aH1iueN26gc8VzTusVxsH9mHS1btkwpFXQfMN2blpPmLVqgYqVKKF++vHIvUUkhiRcVHbpXAqEJ79EzmXmUCpG/XDeersVYrddZikeNGhXRIQxYAdzbRcO22LGwR3R+0nhkERClI7L4Rqz1tevWqjdBBr55cjnwJk7/PUmweONnGiqXWWqeDxQGoPEGvWz5spRx8u2YN35+h0M+/OhDZM2a1SexVyh9UamhAhYo/bljzx6Ya9ZEYoECMFeqCNvC63VsQhmPHBtdBJjBQsp93SLCeAznwoG+RkMLn16EjnE4rq5IX8cbZbseG8U0+EhKjwQgczcNe2Jbcy6SU5S2I4iAKB0RBDeSTVNpYEE0+uVpPqfQ1826KnU+q4NS75dSMRBM96RZmqZtBlky4IzLNKMzkJRmaLpJI2AAACAASURBVGcqctcxU6EJRQFhUTiafZnuGomb+dZtW5U5vmLFikFZfOx//AFz/fowVawA84dVYN+61RUC+d+gCDC+hVk9zMCiwkElmhaYQIXVjqkYs41w83LYHclWJF35p+IfqWJxzFKjpYfxWQx2jpR0WQw83EPD/sh1EamhS7sGQECUDgOchGCG8M8//yhlggGCDLQj46buk+bNU3/ry5w5kwqMI/EV9+U3/elk46SfnP57TxYC3iD5BkllJhThG9hdd96lfO/+Uqn70x8tNvTvv/rqqwFnKji3r/33HxxHj8LSozvM9eoFlFLr3I4sRwcBul6YRpzjqafUdc64IRZDCzYbh+Rv/L1QiV+xckXIk6AricoQ2X4Z1/RW3rdU7AwzjBhD886772DY8GEhKfOeBsmAUr5QRDLdt/MiIGtPDQeEjdTTaZD1XhAQpcMLOEbexDcnWjF0IiPeNB/N+igY28AsgTk/zgHf4EgCRvMzXSbMfuA319HfXbduXXWznTx5stupzpgxQ1lFwhGYRj88XTkcnz9F49wOyGklffxUnnK/nNuvtFynQz0uaidOwFS+HKwjRnjcRzbEDgFa3Hit6lk4DCRl9gzdiKHIV716qd8BFfJQ2+I49MwyBsgyU4fp48ziYqYRr1sqTFT6I0G1Tw4Xvnw4k+uFgo27YzsvBh7poeEfUTrcwSPrfCAgSocPgIy6mUF/vHFR2WChN6YlHjt6zCtjp+tc6Pvm8bSUuBMqG1QW+GFwWihuFrbPVEYG6j333LPKuhJMdUymMjK7gC4i8lEcPRbeaDbb3B9hKlUK9q3b3EEi62KIAB/avF75UGVqcLjSWsmtwnbJjRJsULYzLAyU/X7qVCQkJDivTlmm9ZBcLO7SfVN2CnKBWW18EWFGTzC/L3+67Z4APMCYDs9x3f40I/ukUwRE6YjTE09LBdMHGbEfbAVMciXwZvv1YO81UkhERuKpcNwkmRVBxk72ywwDUjfTEuNNoWHMCq02nTp3Skm3JJ+DpwDaUE6pRu6MLp1hrlkDDj+IzULpS44NDAEGDPM6JMFZOIVEarweWccokkIlgCRyTAtmRlAkhOnQnAvZSc9fOB+JLjByLXBPRw1bDkWkeWk0jSMgSkecnmCmFdK9QP8tfcjBCE2/vEHR3OtNTp85naoAm7d9/dnGt8nZc2arIFj60cnRwbRHKhIkuZo6daoyo9N6wzFSOeFc+YZLIjGmUkZStDNnYP6sNswf14TjoJARRBLrQNrWOUecj2FQJgNKGTjpiefFeX/XZSqu5Prg74BcH5EUUtzTCsEYp0gJrSvsgy4oxr5EQlbuATK3B37YHInWpc20joAoHXF6hmlaZlYIbzDBBnrq7hU+2H0J+RuCyQzw1i6VD3IwkKWSbJCsa0Ka70eyPqJumiSAIvV59erVMXbMmKCVK29j8LRNO3kKlmZNYfroI9gj9FbqqW9Z7xsBWscYqEkaeLoZGd/ELBbGKQWSucF9GWBNpYMMqpEQWvFYgoCkZ4sWLYpEFyltkjeFWWq8L4SDWTilYaeFI+eA7F01NJ0XnrR6p6ZlMR0gIEpHnJ5kEmUxc4PZJ8EqHXopedJR+xI++Fl105sbxFcbvrYziI9xJDQ9b926VQXaeau14qu9ULdrFy8m06azuu2K0LMaQh1PLI6nJeDLjl+qIMhY9O+pz0FfJ9dYqVGzBhp+3hD8poJK5SEQciz+jhhAyuNoZQu30KVCRYhWuoVR4IH5feNGlRbP+UTKhWPXgAIjgHeGANa0SeYb7stA2nNCQJQOJzDiaZFZKMzcoNIRrLuhW7du6mbbqlUrn1PnW2UwJeN9NmzwHVibJal/f5hKFEPS3LkGH234h6enZpMy3UiycdNG/DgndXGzpcuW4q677lLcM/4+4Pk7evHFF9XvgGmu4RZaExl3NX/+fK9N04XJFPBQA1lXr16tFBy6LXfu3Om1z1A2dl0C3NIW2C1cHaHAmC6PFaUjTk87fdkMFmMaKq0CwQippPlGxNx+X8I010iRGvnqO+bbWaht2DAkkq1yxoyYDyeaA6Bbje4LZlxE0soVypzoRqCLMPtj2dX1zDo9pE/3R1g1mLWG+Dugmy+coqfOjh8/3mezrBPD33MgTKruGp0zZ46aC4vWRSIlV+9zzQEgQ3MNkySuQ4dEvv1EQJQOP4Ey2m50RTCSnzdL1rkIRiZNmqSO/+KLL4I5PN0dkzRlChKLFYX1m1FAkPVu4g00Zg2xGJsRrVxUNpgaevsdt6vrmL+FKh9W8VgU0BP2pD5Xx1apEjbFirEVtLqweq47YUaWsxLHeCa6efytHeSuTa4jbwnnkj9//rBwjnjq5/QVIEdv4POZnvaQ9YKAewRE6XCPi+HXkvJY92GvW7cuqPGSMp03KL7F+iPzf/oJbdq0iQiduT/9G2GfpFkzkVikMKxDBoMVa+NBaLKn0uCJedbbHKjQkio/3PTg3vr0to1zWbt2rbpmGZjJWAmmupIojMssDxCosLIyfwdktg0XtwV/U1TWGCjNmCsWxGOxOjKnUhFhRpY+VioftHJwDsFk4DjPt9c1ojPOKdLy0UTGdWgwSVxHpKFOU+2L0hGnp5OcGawGy5vlCpcgRyok6zesx8hRI8GAu65du6qHDmM4+D8fIDVq1FA3Ph7PSrXOb12eIKnfoD5IpBSuG7Onfoy+3rZsGUzlysLSpjW048eNPlz15k8Xgjv3Ad0Ldet+hk4dO7qNJ1izZo1y4X39tXcuF1cQqBzMnTc3aCuca3uXLl8CLXN0nTBNnBw1dEkwLZTkdryOgy1JP3z4cHU8U7dJuheqcO5ULOjiYGbMSy+9pOjP8+TJowjIqHBwu+6u5G+P54durFD6Z7+lS5dWc2ncuHGo0/B5fLcE4IkeGo6d9bmr7CAIpCAgSkcKFPG1wBomzCbhzXbV6lXqwcI3KZqb+cbElDlu8+fD+hD+ZIkwsySUm2J8Iex9tPYtm2GuXg0mFon7dbn3nWO8leeW7K18C3YVponyGqHV4PiJGxWoWbNmqRTM+fPnuR7q9X/W7aGFxJ/MKG8NMaWVsUdMjeU4yb7bv3//lHgFxjOxhhAf7vpD3Ft77rZRaWewJ+OjON9wiNliVrFWS5YsQcLSBNDdQm4dWjLc1R+iQkIumlDiMJhGzHRZ4kRm0kjLkh1A9s4aVuyNdE/SflpCQJSOOD2bLMfNIm+8WfKtiRU2nRWM3Llzg5VXyQ/ACHoSgPGhw31p5eDDgLEczH5hpdorV6/4hQT7Zd0XvlWld9FOnoS1e3eYSpaEdcgQsHCcEYVpr/TxswaIsxw+cljxW5QoUUJxXLir10GrGPlg9AwpWhbGjh2rUpud23JdZltUOhhjEIywThCVDaaF87qm0jRh4gRVP0hvj5knLKLG7e7Gru/n6/vY8WMpXB0tWrTwtXtEttPSQcXDnULib4csM0AsHnzwwRTXjb/HBrPfnlMasnbR8PWqYI6WY9IrAqJ0xOmZp0mWlMp8O9OVDZJpsdgb/chMwfOlGPABwjejXLmexwU/KZMXL16sbo6RYjuMx9Nhnz8fptKlVYVaexAxBZGeM5UO1vpwVTrI7koLwsGDB1VQMq8dV2GqNGMTyPpJYawClQmyePLN3ZMwY4PXJRWUQISBlKTyZuVYHk9lgwoF2Uidhdc/rXrcp127ds6bAl7WoKHWJ5+otlgFNtRgzoAHAIDlAXTFLpjjecznn3+egpk/lstg+9GPM9uA1/tr+Gyavka+BQHfCIjS4Rsjw+5Rv359dZOhlYOWjEALYNFd8sADD+CJJx5XSoo/E6WPnz71ZcuX+bN7utnH/tdfMDduBFPZsrAZjM+DD6CCBQumovlmcCNdKoxnoNDa4S6guGrVqqkCHFetWqUKAPJhz5LwnkSPs2DaqD/C2BK6NhhQybZZfI0uAk+KM+sBcT/OKxxKAqn32R75LahYx5uwFpPugoo0nbszNnVnAg/1BP6Lj5hq56HLcowQEKUjRsCHo9tGjRqpGyULYQUjVDroR6a1gzctf4SpuvSp08UikhoB7fLlZD6PggVhHdAf2kVjuFsY+Fu8ePFU8RWduyQHOuqU4R06dFDBjs5F/WjqZ9Cjc/AwrQJ0QZBynDEEupDYimXVmQpKWZKwRF2bvojnaC1h0T9d2aClgcpGoilRbzrVN5UQXn9UEBh4GS6qb7pqsmdP5vmoVatWqj7j4R89GJZWKVpNoiUztwEZmgGL/4pWj9JPvCMgSkccn0He/HnzZWG0YITET/qNlsyTIuFBIGnhQpgqlIf5889h3xXZ4nT+jJiuCGZ9MLOBQgIqstk6KwSMB8iaNWuqbJODhw4qS5hOHkflpVq1auqa41s16b1p+WJwJIOXmaWhKy1nzp5R8Ra0xrkKgyWZicLYIgaGks+CnDNUnvXjXY/R/6fVhnV6yGnhmrWl7xPsN62F/D3dc889KsU12HaifRwDaHUqd5YriKaQr+OJr4Cqk6QOSzRxj+e+ROmI47Onl6anqTkYoS9fD9SjAhKI8M2Q/CCuvvZA2kjL+zp27YL5szoq1sMWhZobvrBkQDEfTBS6RWjdcuZ3YQ0SViZlGqouVCj4ENYtaVQ6GFjKAGVmTpUpWwak3WapebolvvnmG/1Q9U2rGF0fvEYYr0CLBo/L8lAW1S7TXpnauWzZsoAIvThWfsIttN7pvwfOkcpaPMiAAQMUnjyn5DCJtnRaBNzTXsO20LONoz106S8GCIjSEQPQw9WlXiW2W/duQTXJ9Ff9DWn//v0BtTF58mQwQyYSN/+ABmLgnbWzZ2Ht2xeJ75WAtU8faBF4UPo7fVoymEbNKqcMDv3f0/+7IU1av570tFESirkrKGiz28CPQ0vOYGKgKt0rzmK3JysavXv3Vi4amv1J3kVrSIOGDZQrJtgUV+d+wr2sF5Jj3NK0acaPkOTLAvlAqBySECwWihKrzmbrClSfFh9KWrivGWkvMARE6QgML0PtzYcCbzZt2rYNalysp8KHANv4a0/qh4avBmf98ANIpmTEB4evsUd1u6bBtuBnmMt9APNHH8GWkADY7VEdAjuj1YEKJl0oVD569+l9wxhIwFW8RAl1PTAT4r777wMDST0Fc97QAKBiLAYNGoS8ed9Kyawi0+dXvb4Cg1BJXGdkOX/hPF5//XWFAbPB/I11isWcaEGiq4m/X/4WXRW/aI6p2xLWYgFWBmYwjeYQpS+DICBKh0FORDDD0EvTN23WNJjDQReJfoP9448/Amrj3PnzmP/TfFWum/75WLxhBTTgGO/s2L8flrZtYX6vBCydO8MRoDsrHMNft34dcj6fU7Ffesp0YmBpw4YN8dRTT+G9994DSb58yYmTJ1SMBoNV77vvPqXUsJYIlWLSfweitPjqKxrbSebFOBM+zMnWS24aI4qewcNxBhvXFa55nbsKPNELKDgcMBsTrnBNVdoJEQFROkIEMJaHk9aaNxwG9AUj9LeTNIpt/Prrr8E0gc8++0yRi+lZC0E1kk4O0mw22ObPh7liBZjKlIZtymRoFy9GdfZUNnTODW8d023mjeuB5F3kz2CsyIOZMqlriNwadNFs+G0DmAIbz6LHS/G3wQBTo8ns2bOVu4rjK1+hgiHwnvj7tcqzG42GlozHSAiI0mGksxHgWFhTJRSlg29w5GdgG/Pnzw+w9+TdyQlAxcVX1kFQjafRg7Rjx2Ht1w+mkiVgbtgQ9tWr42KmVEKonDLrhbTjJAljyjULrpGC3+iuk0BAptKkuy7I+stgTaMIA2/JOsrf7dPPPKPqzxhhbCYLUGiYhlx9gbPuM56NMEwZQ4wREKUjxicglO5ZwC0UpYN9V6hQQbVBcqRghG/EfLMVCRwB+/r1MDeoj8RCBWAdOhgMPDWaMG5g659bFbEYXSa83vhhFgqzWkKpFWK0ubqOhzFPpCbnfBkHE2jRO9f2wvG/ntrMMVHh27DBWL+9hD1AhibAgJXhmK20kRYREKUjjs9q9+7d1Q3RmQuBgZ20WrBuBZUSWiK4PHnKFCxavCgVoROnXrNmTdXGqFGjgkbCZDYplkp/zPZBd5JGDyShWNKE8TC9XwrmT2vDsWWLIWbKrIgBAwegSOHkqq5MxySVOmMHYhmwGG1wSKD38ssvq98IH/TNmzdXQbnRHgf7Gz16dEqsSebMmVWqcSzG4a1Phwa8NxZ4speGc/6Vc/LWnGxLgwiI0hHHJ1VXOliDgtU2ybGg16zgDdLdhxkMrGdBpslixYrh8cefUPu51uUIBBbyG5BzwQhvgoGM20j72v/YDPPHH8NU8j3YFi6IydDoHmFKLTNW9EBKpkUzYPHPP/80bEBlpMFinSHSreu/J7okAw28DmWMTG1ncUa9fxbgCzYGK5Rx+Htswl/ALa00DFkpKbT+Ypae9hOlI47Pts6gyAe+/pDgjSnPm3lUMTgG9XXp2gUMOGVRLJ1qWr95OX9zn1Bk5KiRmDNnjscmmHrI8t7xlsngcUIR2KCdPAHrlx1gKloESZMmAi5FziLQpWqSxF28lpjaymuCJGFktlxIZtU4DwgNF2Z0tbCqs/6beSxbNkWUFkmeGsbQkA/nxRdfTOmXys/GjcaO1LTagPe/0ZC9pwYylooIAs4IiNLhjEacLetKB2+EfPtp07aNYof0FNBHkzldLizGReIjRsDr7hVnSuxQYOAboDs/P60wHKPQrftA12yGdfDXMBUsAOvAAUCEHvok9FqyZIlKCSURFq8hUqWn9TgNH+h73UyFedjwYarqrq585HohF4YNGxbWWkR0kf7www+prCsszseyB+Eobud1kmHauOSv5NiOnglhalCaSTMIiNIRx6dST5nNmzdv0A/z77//Xj1wqHyEaoVgNgxdNr169UqFKpUg+sUZcS+F4lJB4/4fu11ZOkxFCsPapQu0Cxfc7xfE2pOnTiqlkwGSN990syqaxsKBsaDPDmL4hjiEribWoGH2jq58sBZNo8aNVBpxMLFNVCbWr18Pukz14FW9bfKlhLvOTKSBZGxH6fEaHumi4cj5SPeWftrffAxY9JeGOGHod3tiROlwC0t8rNQtHWSPDFZYxps3t6JFi6pCYMG2w+NIEEbfc8dOHVM1M33GdNVH+/btU62Xf7wjYJs7F6ZiRWFp3gwOp4qu3o+6cStrpmzatEm9KZOOnOebiuqY0WPAeAGRwBHgtc7fDivwZsyYMUX5ILaPP55dceewTs3sObOxbfs29VLA2BB+aO1jMC4tTYMHD1bBqa+88kqqNthO4cKFMWPGDNAqFY+y5ShwZzvg4+nxOHrjjfnEf8BLfYGb2gLbrhd4Nt5AfYxIlA4fABl5MzNTeHMiQVewsnHTRtUGA1D1MufBtsXj2AbfpnXhzblQ4UKqwNiBgwf01fLtJwL2X5crIjFznTpw7Nrp51HJuzGOhkXYaH1izA+rpzIugbEaLFsvEh4EWBiPWS2MvXC2fvC3yc8DDzygXIuMvSINPb+p/DENV99H/3766afBwPCFi9JGPE2PX4AMjYHvfpeg0lCvtql/ABmba6gyETgXx9x7onSEeiXE8HgW0+LNKhSlY/OWzaoN0l57osYOZYp79uxRN1fSSYsEh4B982aYqlWDufT7sP30EzRHcqE1d62xxsrSpUtRo2aNFAKpN/K8gX79+iHQSsLu2pd1nhFgUCmtFwzgJv8NeTT0eBldqXD+ZjE9KoO0MlJpoVXkyOEjnjuIwy0mK1BkBHBXW2BtBN85/jMBdOmEQy6bgSU7gPX7AZvnn1o4ugqojQFU4Fpq2MDKBBpw9ipw5jLg8FLK6egFYMRqYNom4MLVgLqL2M6idEQM2sg3HA6lY8/ePbjjzjuVbz/UeAvedM+dO6cmTrM9YwUYK0JGRzJWehPWgVmSsARM3WUV1PLlyyvTNb8//vhjlSlAc3Yw/nJv/cbLNsfBg7C0bInEokWR1LUrHLt3q6HzPnvx6lUsW7YUzZs1U7EzfJjxbbpylcpKAUk0xad5Pl7OjbtxsiwAA6p37dql3DDjx49XAafkzBk3bpyqsss0d7pbrlxN2yke+88AL/TRkL0r8Pthd2iFtu63Q0CBYcDuMLkclu9LDoLN0BKoOgk4EUKNwg2HgAbTgc9/AHZcNwAHNeEBLKrXVMN7w4GPxgBv99fwRh8NH4wGdv3rvsn6P/AY4J7WQMGRwNH/3O8XzbWidEQT7TD3xQd0qJYOpgIyCO7+++/Hjh07QhohS2uzLfqrGRRHZeOOO+5QCo0nZWHLli1o0qSJMjtzLozS183QTN1kxgvfGPU3xGzZsoFkaNHkSQgJlHAezOq0ixYBtT8FKlcGhgzBvJ498e4bbyDDvfciS9as+LjWxyoziec1vQiDMFnBduTIkUpp5cNcxFgIbD8OPN5Tw90dNSwKrKC1z4nUnQXc3F7DoTAFrJ65CvRbBvRYBNzVDqg0EdCNizY7UGsm0GfF9WFN/xP4cCJw1kV3XLoXeKgzcEcb4KYWQM6+wOEQxrjzBFBglIbHOwGP9QBeHgK8OBh4qr+GTR5Cs+Zt0/DDH8BPO4AMbTR0+eX6uJ2XLlwBmv8ElJikIdHqvCX8y6J0hB/TqLWoV5kMxb2iQcO7774Lvh2HGiG/avUq5b9mUNwvv/yCl3PnVsoCLRcMZnQWWlUaN26sYj0Ya8CAPJKLbdu2TVlL6Cbgh4XFaEFhvQkGoupVcanQtGzZ0tClx53nG47lqxYLVmzYgE41a+Lb53PiTOHCOJc/P3589lkMr14DR//5JxzdhN5GUhJs8+bCHkE+CWZE8RrjNcRrgnETTz75JG6//XYVW+FJyQ19ctJCsAhsPwm82k/DnW01MD4hHGKxaXi6j4ZiY5XHIRxNpmpj2AogS0dgzzUrypp/gNtbaxi4PHm3K2bg9YEaMnfVcPZyqkPRaRFwd1uSpAG9lwI3t9Qw8/fU+wT631ULcPoCcOYScNEM/MePn4bMx3oBDWcn92iyARuPAJM3AO3na8g/VFP09Qz6NdsCHVVg+4vSERhehtpbVzpYilwXBm6SVIgF2Hhj5kObef/80PXBbz7M+SBnQOHYsWOhR86TtyNUIb8ArRJM+6terZpaZjyBs9DvTYsF/d1UHLZv3+682esyyapI805WVfbDANiVK9NuoQdmLqxevVrFCdDywzk//szTqNewITbNmweNNXM+bwiULQOtcSM4WLjvv9jaUB379sJUuBCsEchWWrtuLVgB9rHHHlNYMPCydu3aiteCvwda2ojRzJkzvV5HsjE2CBy7AJQdDWRopqFXQugxE/vOAg920NDKu/cWlyxAh0XJro75O65bLnyhsOkI8GBnDTP/TN6z11LgnnYa9p5I/n/TIeDW1ho+m8rsvdSt0dKRrbuGl/oDRcYCWTtq+H5t6n3+PAIMXw0kRvhBP3xlstXm+y1AvxXA8wOBe9onu2syNNGQoYWGF/ppOO+iOKUebXj+E6UjPDjGpBU+zHmDLVmyJCZOnIgOHTqgVq1aympAmnNyY7z00kuqIijpz5955hnwJs0HNf/nsc6fUaO+Ccs8WMeFb5xsmxYJPih0mTJlilI2XnjxRfUw1dcH+k3lg5U/2QeD8cKhMAU6hkjtT76U33//HV27dsFrr72mrEF0MZEbguRdzEpxFu3cOWVZsNSvr9hMzXVqwzZ/HmCNsJ3UeRBOy7aff1bjsHRoz3i3sMjOnTtRtmxZ5X7L8tBDKu6H55wKNKV9h/Z4/PHHFcEZr7n+/fuHpV9pJPwI0DpQZzqzWjTUmwFcsQTfx5q/gZtbaBj4q/c2BvwKZGikqc/NLYH+Tu4Rb0fO25H8cF6cHEKFxrOAhzpqmLsDmPibho8nAre21DDaTf+fzwRubqOh/ETgjaEMptWwgkGg1yTJARQeoSFTV+BCiMlkFluy5eP0VeDUldTKHK0z97bX0HUh0OlnIEMDDQ+01fBKX+DDycnuo5taaKj5fbh+rfoM3X+L0uEel7hYqz90nRUHT8v33XcfsmfPrpQNLnM/WhoYP6Efw2Je4ZL169ep2Atyieg8AzNmzlBuHCpJx48fD0tXrEHBt1sqOfTrx7Mwe4gKG7MZeE6YVsk4GVJh+xPkq129CltCAixffAFTwfywtGwBx65dYYdEO3MG1s6dYfOAd9LwYVDEZp07h6VvKpg5c+ZU1jGy6TpjQcseLR3cTosQ45KodJB5V8S4CNgdQJfFmrJ4lB2n4VSQwZoLNkO9pY/c6PmBue4gkKWzhts7aqg/G8qV8PpAwJzkHR/GcRQbDTz1FXDxWopq9SnAza2Au9slj/2O1hoe7qhhjpswov7LuK+Gu1trKtW12lQNJtv1ce48mawMfMyH/fXVKYP69yKw+QCwah9ApeeHrcC434Fea4AOCXSLAI1mAdUmA0VHAy8PBp7tq+HR7sAnMwCrHWD20MsDgVcGAczwGbsOaDYbWLkPYOwKZexaIMMXGrpHqeSTKB0ppzj+FgYOHJiiMNCKUaNGDRUXMX36dBUDsW7dOvDDWg0M7mQ0/alTp8A0VnILMIiTaZSlSpVS7TCyPlJCxkvGjbBYliea9mD7Zu0QPnSIgasVINg2o3UcsViwYIEik6ICSKsNYxT4cA2WMl67chW2mTNgKl8O5rJlkDRpEljNNlyS9P0UmEqVhGPPnhua1C5dgqVZU2XpsPbofsP2YFYwu4MZTK5Fzq5cuaKK09EatG9f8iskS71TYSOHjYjxEZi0Cbi1lYaK3wFWH0qAu9kM/VXD7W00zPOkW2tA2bFA9l7AjtPJLVSeqOGNAYDFR39UJGiN6XyNyp3ukyqTkt0pxcYB3ZcCufpqeKSDhi2pjY+qI8ZG8OE+ag2UUnLFxfC4dh9wa3MNLee6mxnQ7AfgjubALW2ADK2pXNEtBWRonuwOoaLAbJaMLTTc2kJDpnYasnXWkKWTP0ICcwAAIABJREFUBs7RrgHEN0NzYNE1S427ntouSJ7nt1HyUovS4e4sxMm6QYMGqRvsnXfeiT82Bx+ZRY4A3qhd6cvDBQMfGm+99RaeffbZiHCBcJzMZiEOTNE1uvDtnIpSp06dlKJEZSzn8znRqnUrbNz4u2J2DcccmGZr7dJZWT3M9erBEcI14jwea9++sLZs6bzq+vKFC7A0bw5TsSLgfpESKtC0mLEAmrPlgwo3r2VmsogYH4GTF4GsXYH/9fA/INJ5Vi3mA3e3BzZ44ABJsgOv9wUe6aEpi8G8P4Fb22lo5iMGhFwdeb4GnumdOiul4QzgvnYajiQzA+D5fkCOLsCpi86j8m95LavxNvGsdKw+AHT+BWi3AGg2F/hiDtBiXnL6bfHRGvosB8p+mxysOm4NsOUQsP0EsPc0YLqmUNWcCOTofd2M8udR4J+zqcf3yczkGJvv16VeH6n/ROmIFLJRaJfZHrzBvv322ypwNNgudb6P5i2aB9uE1+O6de+mxhlqdozXTgDFvkk8mOliNKGLiWnEtE6VLl0amTJnRpYsWVT8DTlMGPAbEbHZYJs/H+YPq8D8/vuqmJzjSGgEVNZevWBp0zZluI6//4Z25Xq+oP2PP2AqURzWESPUPtrZs4DFveNe++8/OGilCKCi7vLly5VLjeyq5HdxlqZNm6prjZktIsZGgLEc5b8lJ4aGr1e69TD4nMCnM4D7vwR2e/DW8nH73Xog85cabmlJywLw7jDgwLnrD2J3nSzbTQuDhsEub/+DViSzgi7aDhy9CGTpBuTuD5wPgHhr5mbgy8XAtHXAnV4sHe7GRTcMFZC3hySTfX06EXi4E8A4GVchaViZYVCZNcNWacqtcmtroP3C1HsWG588p6lRKl4sSkdq/OPqP9Zt4EOWtMmhyOjRo1U7kbASkC+CMSR8QAQrzMahgsUaM74ezqT8ZsBhrIU043Rf8c2bbi9m6zDWgLwjfENn7Eaw7pNg5uY4dhzWgYOUMmAqXx5JEydC+/eavTnABq09e8LSoYM6yrZyBUwlSihlRm/GsW2rqhljmzMbmtkMS/t2IJ27qzh27oS51sdQ45kyxa+UghEjRqjMFRY7dE3DZpwQ02YZu8QsLRFjI9CBZv3PNdScCjDGIxip/D3wYCcNh3xcyluPaRi3AZi6ObXlwlOfrRdBuSx2uOjnGw8luyvqTAV2nAAe6AjkHQqVHaO3RTcM9zt0BrBZAYsJOH4BWLALqDgxOWMkS1dg6BLgnpaeLR16e87fm48kWyU4F+rp+QcA2ftooGXGVTiObouBTB2Sx3xHa6DBDOCkntymQRXje5PZRC00JNzoLXVtMiz/i9IRFhhj04iudPChForoaa58GNoCeOP0p89vRn+j3B7+uH9YpdZVmOZLhYXKFRlOfZX2pt+fGTu6j9+1vUj9TyWDHCOs2luvXj28+eabKuuE42bmCWMSqGgwhobulViJfcsWWFq1Uimt5urVkTRpMrQAg3qtPXrA2rULtIsXYa77GUwVK8D0wQcpMR72RYtgKpAftHgw6NRc9SPYfv7phinb16+HdfBgWHv1hvnTT6Bd9h5NSDcga5fwenUVYkrciTdTZ0WMjcDKv4HbW2l4sa8GFjILVspPBjJ10nDimrsj2HZcj0v4G+j2C254mFttQMv5wKTfgK3HkzNb8g1PnYHDoNMX+gGPdgLeGQzkGQA83oMPfnJhaMg1EFh9EFi+K9m90maea++e/5/IGI3GAFlYydGRq5eGxwekVnqcjyaN+8bDwPd/Ar8dvL6FQbJtFgK5vtIwbA0wdet1l8z1vSKzJEpHZHCNSqvMNuFNlqmUoQjdEWyHqbR6pkko7enHUoEpU6YMWJrbnULB/ZiZMHnKZFSuXFmlhzIjR1d8GGTJYzk2ZnD4I7SKMPvD3/39adPdPhwbmS/Jc0JlSOeHYFxJ7ty5FY37sGHDFIeI4d66bTbYV6yAuXUrmIoXg7liBViHD4fjgAfHuAsA1t69YGnfHtZRo2Cq9pGiZLc0bgRLixZwnDwJa78+MFepopQSWjNMFcrD/ttvLq1c/zdpxAiYyTXiQiCn78EUYlrzaCViALQnIXkc90vrtOKe5h8v6xlnUeW75MDIUNlJGZvBbJIle6M/+23MPukIvDEIuORkaaDVZux64M2hGl7oQ8UAeHUgUHWyhkkbrmeN/LoLyNhIQ8ef/R/716uZ+gss/kvD8YvAk9015BgEXHbvvfTYMDNnbmkFvDk4OcPF444R2CBKRwRAjVaTw4cPVw9kplWGIiTX4oOdMQbhzCw5dOgQMmfJ7DFA1WwxK5cJ+2bWBh8qXNY5N8i0yv8D5VxguiRdMeEUkqkxloAxGdWqVVUBoJkzZ1bjY2ora8Qw44QPxXBiGM45uLalWa2w/7YBli87ILFIYZXtYh06FA4fzKZJEyfBVLw4TCxAd82C4dixE+YaNWCqUhmm0qWQNHGC6s6+/FeYChWE7VqMhX3fPtidyNxoeTF9UBaWlq3AfR2HDt3AstS6dWuVPuyL+l5zaKCCImJsBLYdBe5oD5QfH/o4NxzQcH97DU/10vD9RkScwtt5xP9eBp7uDTze2T29OQ23iVcBhjuZTDfGrCwnNXk9DZ1dYiyc+3BdHsr01kbA6PXA4QtA9m4a/heE0rFsT7Jrq6mHzBnXfsP5vygd4UQzym3Rv82HMq0EoQhjD1gjhQ/9cD4wmb7IB3NCwrWcM5dB7t+/HxkzZlSl1+l2YLwG3RL58uVLIf6qWrUqbPbA6PoWLVqkgjWt1gDVf6fx0TrBh1z37t1VSnG2bI8qdwlrw+TL9y6qV68O4k+FzVeciVOzxlzUNDjodunZE4mlSipXSdLob6D9676KlOPoMVjatgX3cSYgY7ZM0oQJiqgMicnczAwytTRpgiTWjAGQNGqk+l8HwrZyJcw1qsP84YdKkbG0awvNyc3GjCq6p9Iy66yORXr5HvBrMm/F7C3hmfGP2+nC0JClqwZyckRTSo1PLqj2vWdDnsfhHDgNkPfjFyfCMI87X9vASr1MnS03TsMfR4AcPYNTOuZuS+bmaOwji8fXeILZLkpHMKgZ5BjGCFDpqFixYkAjov+bVoitW//En3/+iTlzZqtgT1o6XLMBAmrYZedJkyYp64mnQnL/nv4XOZ7KoajQ9UNJcc5aLJwXAwJZhVMXjpv01qROJ2OnJyEnyJNPPoFt29ww9ng46MzpM/jt999UJdC6deuq9F4WwSOBGmNE6jeon1IZlC6hNCmaBvvWrbB07qzIvcw1a4Dsom4zS5wUA19YaFcTAVbKIkV/65aw9neixXc4oB07Bsdfe5Ti49h73U5O9loqHHPnxuB1zNekZHtQCFgdQKFRGh7rcj3tNKiGXA5i9ghriQTqZnBpJuB/ZzAFtxnQOYC4jIA7cTqAhry604FnegILdwDP9taQY6DnmA6nQ1MtTiep2ucamjuN+3wisGY/8FeEa0WK0pHqVMTXP3rWCYuluRPGUdCawDd2pmUy4p9WEdYtIWU0rRu33XabeoNnZgWVjoMHw/eq0POrnsp64i1LY9HiRYrATB8/aa2feeZppXR8+923+mr1TaWDCgEVEhKBUXFyJ+TAoLKw+JfF7janrDtx8gRat2mtCt4xQJFKBhUe0sczToNxIawL45olkdJAWl2g8rF+PSxNm8CUPz+sXbuqWI2Qp6tpys1i96Oa8bx589S1w5LwImkHga0nSA3ON3Uo8qp4nxkDS3/ZDRxInbkd0WldMgG7TgBbWLm3m4anBmpwJR7zNYDZf2qK+KzIN8DIdcDHM4EXB2iKmbTYcN9srb7a97ZdlA5v6Bh823fffacewOR90GXXrl2YMWMGmjVrhnLlyqWiOefD2vlD18cTTzyRkmXBhy5rXIRLSH5Fl40n5cBdPwxqZXwHxznqm1E37HLx4kWMHTdWbWdMizuhq4bH/+QmY8J5f1pLXnv1NcWSWr9+fUyZOhW7du+Of3eJ8yRDWGZ2StJ336r0V3PtT5UVJITm/D6UacZkZxVWUb8hi5sdB6+gWR8Ycb0cU9yM3WgDPXIByNlTw2M9tBSadn/HuP048EgXLTmjhiynTTXc30nD+98AE36/IazK32b92k+UDr9gMuZOzPrgwzVv3rzqrZyZHizx7axYsCbJU089hfz584Mph127dgULxbFOxZGjRxQtOh++zL4gMybjMMIl5Nag9YS06/4IgwDJsUErBS0OpDZnPRJXOXr0qIoFYV0Xd8L53HvvvVi5yoXZx2VnWk58peC6HJIu/6XVQ8VdlCkN24IAQu2DQItEdVQ46DoUSVsIsNZJ2dEa7u8A7HIfLpS2Jhzh2Tg04LNpyUpcvWmBB9Gu/AcYsFzDqLVAwl4NB88DbDPSIkpHpBGOYPvkK7jllluUsuCsaDyY6UFVBIspm1QuWG+FdSo8CWMU3njjDaWsLF261NNuAa9nfAaVDl9ZB3rD5Nigu4eKB/kuOKd27dvpm9U302lZ4IvKlad2eWyOHDmw72//I7S0nTuR1L+/Yu90sIqrCjePwi8w1eyM+w8xUfTm+d5F0qhR0K4FioZzxIzVobI4Z86ccDYrbRkEgcNngCe7aCj2jV88cAYZtbGHceQ/oMw44PUBwJnwlVeK6KRF6YgovJFtnPEQ5IXgw5msnw0bNsRPP/2EU/+eCqhji9Wi4hrYDn3p4RIGkNJl4y9nBsfPMdBtRHnzrTeVMqSnQR49dlQV+OI+dA0xs4UxHnSnOAtTLKlEkbPDX7GOHInEPG+oDArzRx/BUr8eLF07wzZjBhyHDkbW3ujvIGO8n3bpMpKGDIGpWDGYmzYBOTjCIVarVbG20hXnWtQtHO1LG8ZAYNFfGliVtWn4bjHGmFiMR8EYbb0KboyH4lf3onT4BZMxd1q3dp0q6U5XRKhvh0WKFlEP/KlTp4ZtsgwKZeaHP5wZZB6lVYRKCt0nlF27d2HtuuvOX1bB1RUsPqD4VkyLh3NNF1pCGCj7ySefBDQPx4kTsC1dCvJUWOrXh7l6NZhKlYIpfz6YKlWEtXt32ObNg4PWkwCUmYAGESc725cuhalSJZjef1+lwDpOeCh84cd8qPCScZZZKps2bfLjCNklXhEYs551VoBJUSosFq84pfVxi9IRx2eYtNu33nYrHn30UZw5cyakmbDkPB/oZNgMp7Rp00bFi/hKxSXxFvsnXbgnYW0N7rd582aVlcNMG7qOGJuhy46dOxRVNrN1ghamcZ4/D/u27bBNngRLoy9geu89mAoVgqlsWVhbtYJt7tzwZHQEPcjYHkglzfr11zCXfh+mypUUGRgpzwORq1evKlcar18GQKdVYdwQaxAxoJqKFa05CUsTsGr1KpUdRSWb5HM6E29axaHn4uTAxSU7r/9e0+pcZV6eERClwzM2ht/C1NA777oTmTNnCjnVlZkufOgPH+E+IyRYMBh3wTgNX4GBtLCw/1AtNkx1ZTptOKnHmcVB5kwSX1maNIWJBFoF8iuqb+vAgbDzDd0DhXewuMXLcY5t22Dt0gmJhQvBVKM6bD/8AO2S9xoqnBsfxIzdyfZoNlWzJl7m6884GSNFxZgxVa1atVJkd3QHPvjggyC5HIO7+ZtgyjqtdWS0ZRYZmYWZ1s7fQCAZX/6MyQj7VPueTKQaNrjPdDfCEGUMUUBAlI4ogBypLpgVwpsW4znIxxGKsMIsH/qDvh4USjNuj61UqZLiBTl/wXPlz8OHD2PGzBm4St7gIIWWH86BNOgRk6QkVWskafx4WD7/HKaiRWB6rwSsHdrDOnIEbNOnw3HUpTRlxAbjvWH7ls2w9u8P7eB1gjXvRwS5lbweGzcqOnVTsSIw168H++rVHhtj2jOLCzLY96+//vK4X7xt4G+QlP1k1aWCwWsxmA+zyKiEVKlSRcVosZhgvEuSA3h5GPBMdw2HPN8G4n2aMn4/EBClww+QjLoLb3KMgyCvhSfWT3/H3rhx44g9sGk659tcu3apM1H8HZs/+zEYsUiRIopJlLEk0RDtv4uwr10LS4/uqn6IqUgRmAoWUPVHkpiBEYEMD86LsSVWH24wzeFIrqnyZh5YWrbwy/oQMmZJSSouhuXqE4sUgnX4MGjnUpf/pOJZvERxlcadVhQO/vboRsyWLZtbJeOJJ59QnDmMbWLaOjl09E+DBg3wXokSKpbJk4JSrFgxxcTLazxe5aqFlN1Avv7Rq2Yar1il9XGL0hHHZ/jIkSN47LHHFK8Fqb9Dkc6dO6sbZrPmzUNpxuOxtKDwpkriskgI2U/5hvjLtcJikejDW5u2nxeo4FP7ht9g7dY9OQum0RewLVsGLZyBp1QmWrWCpXVrb8NRfVoaNkiOQyldGvZff/W6fzg3ahcuwDpqJEwl34OlTh3Y1yZHDp4+dw6FChfGCy++6Dd3SzjHFe62GIfRsWNH9Rt0VhhowalVqxZGjhyp0roZz+GtfpDFYsbhw4ewatUq9OnTBxUqVFBxSc5tkjGY7qjFi72z7IZ7juFqb+9p4N4vgbLjJBEsXJjGazuidMTrmQNU8Nmzzz4L3pBCfdgOGpSsFLCyaySElOw1atRQKb5M9Q2nDB06VCk0nEPMxGSCY981XhCbHbaEBJg+/QSJ+fLD0rIl7MzCCUPcB/kxzLVqwTZ5svepknJ87lxYBwyEqXRpJIUxK8l7x9e32n//DZbanwKlSuLE8OEoUKwYXstfAIcDDDi93qJxln7++We88sorqSwbr7/+uopdCrWUAGn3aR0k+R0VGGflg8R5JPiLljUvXIgv/AvI0BxoIumy4YI0btsRpSNuTx0UXXfu3LnVTUkvBx/sdL799lvVDrkvIlVrhARlLAHPQDrWjQlVyMPRpWsXNe5Ium6CHad2/gKSpk5LTr8tURzW9u1g/yO0tFAGaTJd1TZrpl/Dsu/dk1yCPkIWJp+DuHgJlwYNQv6bMuK5DBlw5Msvge07gMueyep8thnDHVi5uHuPHsq6qCsDrNVDbplLl30H0AY6dGa2dO/R/QZrCl0uoSo3gY4llP3HsCR7Qw0jw0d4HMpw5NgYIiBKRwzBD7VrPsR1JlGycIYirN7KmyiLxwVCqhVon2ybdU7YF8vD79OtAwE2tG7dOhQvXly5VEi3bmRxnDqJpO++g7lsWTDuw9K9u8qGYdXVQIWZNOYKFWCbMd2vQ+1/bkHi+yVhW7DAr/3DvZNV01D+ww+RNWdO7OjbF6hWLbmWS80aUJk/S5aoKrPh7jcS7dG6QGudrmww++TLL78MOV3dn7HS8kE+E71vfvOFg8HT8SBN5gA3tQSWpObxi4ehyxjDjIAoHWEGNJrNMar9nXfeUTcincUz2P5Jqc4bGR/kiREKgHQeGy0rrHRLUiimuTK11peywzRLchzw5ktCNJq3Fy0Kr6vGeYzhXtYOH0bS11/DVKaMSru19u4Fx+7AsjeUpaNyZSRN9U/JtK1cqSwdrJ8SbdGggVlRmTJnxo5rPBzaqVNKAbJ276bquZCAzfzhh7D06Q375s3RHqLf/ZFnhtYF/aH//PPPq8wSvxsIw47k8Rg4cGCqzBi6V43OcWKzAaVGAo91A45HJ8Y7DGhLE5FCQJSOSCEbhXbpBiH7Jm+E33zzTUg9Lly4ULXDwnAkbYqG0HRMXgIWpOMcaLVhVD+LftFyQ5fRxIkTVQosI/95g+V+9J2TxIypl/Eojt27Ye3bF6biRWF6vxSsQ4YkU637MRntymWYq1dH0rhrJG56ufh17mkebdOmwVSuLByHkskRtBPHwUDPSAsJ2+rUqaOyljZu3Oi2O+30aRVkSouHqUJ5mAoXgrVHdzgOH3a7f6xWXrp0CaVKlVLXHq+/ggULxvRBz4BTFkPkWPh58cUXDc3rQUXjpa+AN4YADnuszqL0axQEROkwypkIchw6k6g78i0+1Fk1dtq0aejVq5ciKmJ9k3r16oEBo/qHEfPfffetclWQY8Bbcbggh+n1MGYBTJ02VRVyY8VcMlQy/ZCWEC5nz55d3eiZbrhg4QKQfCktCN/sLZ06KneDqUolVUZeO3Pa+9SsVliaNYOlSxe1n33bNphKFIe5YoXrgaxOLVC5Ia27ZjbD9stimMuXUym0qqid036ui2QcJStrsNKkSRNFgPXrCv+yZrRjx5H07bcwlfsApqofwrZqVbBdh/U4WhdIqa8/4Eu9X0qxi4a1kyAa++eff8Cq0vq4eB8wqhK+aj9wZ3sNn0YmcS0I9OSQWCIgSkcs0Q9D3++//7668dC3zDLwm/7YpKwHJOTKmjVryk1Jvzl5+i5Rorgqovbaa6/FtNw7uQjIxkjug61bt2Lnzp04xqqvaVXs9mSuj0aNkPhOXpg/rgn7L4sBL5wMtlGjYKpSBYqKvH8/mBvWh7lBA5Ul48wNol2+DPNndVSRNsJnm/8TLE2bwlSmNJKmTPGIqG3xYlV3xtKkserD444eNpAgi8HCwbi+7Lt2wVyvHhKLFUPSdP/iVjwMIyyr+/Xrl/IbKlq0KFgjyChy+vRplC5dOmV85AoxoszdDGRoBgxdZsTRyZiijYAoHdFGPMz9MaefigQLpT2f63kV66ArFiQOo8uicpUqaNyokSIwojuDlg0GX44YMQJMMx389ddgTAfboKn23Hnj3FjDDJdxm7tyFbYf56g4h8TChWFp3x6OrVvdjpfuGSodfDibKlaAbdVKOP7+Wy1bvuyQ7J6w22GbO0+xpdp/u54yQNeKuUYNWIcMdts2V9p+/jm5jH3ZMkgKMECZbjoy5DJmJ1hxnD4Na9euMBUpjKThw6El+rZsaVeuwL59O5hSHC5Zs2aNoi3n7+m55567oZpxuPoJpR3WI3r33XfVPYAU6wkJCaE0F5FjBy9LTpedGlriVkTGJo1GHwFROqKPeVh7JFWyrmTwO2PGjGjRogVmzZqlMkN8FVrTB7P/n/1K6WDdkuMhVA3V25Pv4BDQTp6EddhQ5TIhvXrSyJFwXKu669xi0k8/wVyhPJKGDgEYqQcoKnLGe5g++ADmjz9WJejpXtG3cx9W0mUgq22NZ5py7kc3j7lGdViH+1+Lh7WAyDzbtGlTNZ5Q/pBQjXNPfPcdWDt18unqsf2SgMS33oL1q57QwhCTxDgOxjfxN0UlasmSJaFMJ6LHMoOFrkiOlYHlRnOz1JsDZGwNLNodURik8ThBQJSOODlRnoZJXg3ebBhZTyrz+fPne9rV6/oDBw8odwxvXqHWcfHakWz0CwEV79G8uWIUNVeriqTp0+A4nbqKK9/u4XCkao+047Z582EdOhS2n38CnOp22H//HeZKlUCacvvu3amPdSEuS5o9GyZaOmbMgEZaeR/pvcykKlCgAOiCCCddNy0trG9DFlZmvngSjtE6eDBM+fMr64in/fxdr5Pl8bfFeCijC18yWESO4yVZnpGkxCQN97UDfjdWfLCRIEpXYxGlI85Pd7Xq1dSNhn70UITWjSeffBIPP/wQWB5exAAImEzK1WFWzKbvwly1KpLGjoFj505ogQbT2mwwU4lhhdxKFZXyYd+5U02SdWIsnTsD1+jabYsWJ1eNfa84TO+XhLn2p9D+/dcrILSuPfLII9i7d6/X/YLZaFu0CKb3isNS9zM4DngpXpeUBEv3bjDlzwfbTz8H05U6hi4LPaPqpZdeMlQch6dJMVvo008/VfcC8ncYibG04Gjg0Q4a9nq/hDxNTdanMQRE6YjzE0qCLb7ddO/ePaSZ0A1DvzXjOsiZIWIcBLSzZ2GbPkNVbzUVK6Zozc3NmyFp4iQoxSEpya/BkifEsX077Fu3quBVVYJec8D8+ecqDVcPQrWvXAlr3z5IGjVKuVeSWK7eS6wEa4zwGpw7d65f4whmJ9uKFUgsWwaWTz+BY88ej01oZ86oWBdadLR/gqu8zHgnzocfZn7FizCjhVWn6WKdNm2qYYZdcJiG/3XScDLymdqGmbMMxDMConR4xiYutuhKB+sxhCKkcOZbHbMO1q+LPpFUKGNPL8eSjZQl463MWKlWVbkSTCVKqBRa28yZcLCEvYu7xRc2rJTLdFtLhw5B1Yb58ccfQWbOUC1tvsbJ7Y7Nm2GqXEnFsti9xKTYN2+BqWRJFRvjT7vO+1y4cAHP5XxOKRzk44i3svKs10JlqVy5cmC6b6yFvBxvD9KQs6uGs+FniY/19KT/IBAQpSMI0Ix0iK50MCslFCEbKDNd+JZE1k8RYyOgnT4D+/LlsPbunayAFC0CU/nysHbsqFwyJN7yS8xmRTRm90Dg5a0NpsQyY6J9+/bedgvrNmbuMGvHXKIYrD17JFtsjh6DdjH1E83Stg3MjRoBZktA/VOJ0q0cEyZMCOhYI+zM9HLGZVERZNp5rMVkAV4dALzQU8O51Kco1kOT/mOEgCgdMQI+XN3qtSBYmj4UoU84X7586oa7IEZ1OkIZf3o+VjtxEraEJaqmi/mDskjM966iFk8aNgz2HduDsmD4wnPt2rUqq4MU9qQ7j6YwWDZp9BiYy32AxAL5Fe+I+ZNPYO3cGdrhI2ooXDbXrw8EEPvicDgUiyqVDrLfMrYjHoUB5ZzD4MGe06KjNa//EoEX+gC5ewPno0N0HK2pST9BIiBKR5DAGeWwcCkdnI9OqT5nzhyjTE/GESACDLQk8ZelQX0k0vpRujSsXTrDvmwZVAxHgO25250pmg8//LAq2BdLE77jyBHY5s+DddAgWJo2QeLbecGgU8a5KAK0kSPdDd/jujNnziieGj6wydobr7J48WKldJClNNZy9gqQszfwcl8NF0TpiPXpMET/onQY4jQEPwh/lQ6aWocPH+717U1XOkgUJhLfCGiXL8G+dg0sPXvCXLY0TAXyw1y7NpKmTPa7zos7BPbu24scOXKATLhGinfQbDZl7UmaMB4mUr03aQy/XUzXJkpiLcY0UemY9cMsd9OPi3XMXGFQOEu1xAvSAAAgAElEQVQJnPKSZhyNyZy5AjzXC3iln4YL4eNti8bQpY8IISBKR4SAjVazutLRqVMnj13yDU6vRjvFC/114cKF1Q2XZe5F0g4CZCtNGjNaMZGS5dNUuSKs/fvDvmkT4GfmC9EgzT6rq7I+zvkQ6rJEAlmymDLbxlyqJCwtmnvl9PDUP4sIUuHInDkzdu3e5Wm3uFhPt9ctt9yCPV4yfaIxkdNXgGd6Aa/110BXi4ggIEpHnF8DeiBpx44dPc5ED44jLfoBLzwHutIxY4ZUZvIIZhxvcJw5A9uihbC0bqUItxTpVovmsC1Z4rPyLBk6SbfNWIcjR5LjJowABYvSJc2aCfOHlWEqWlSxmLLmTDCix0KESnDG6s8k6WMtFFZHZvE71kYi4diwYcNApZ7srZEsrDh7zmzcddddqlJzMFiE65hTl4H/fQW8LkpHuCCN+3ZE6YjzU1i7dm31dtaBKY8eZMuWzYopcvz48R72SF6tKx3TDVBoy+tAZWNoCFgscGzapDJfWLvFVLiwKgxnnTrVbYE3VvUtXry4yorwprSGNqjAjiZ3CflDzHXqqPEzpsO+8ffAGnHam4rCq6+9qn5LLJYYirBqcq4XXsCLL72EAgXyI0+ePCBhF1Nxn3jiCeX6yJUrl1q/bt26ULryeKxutaElNCkAa5bHBoPccOISkKMn8MZADf/5LqETZC9yWDwhIEpHPJ0tN2OlGZUm4bZt27rZGtiqIkWKqLZE6QgMt3jeWwWeTpioqNGZCUJSraRx48AgTYrN4cBHVauqwNHt27fHdqpWKxz79yNpwgSYqleDKf+7Kk7FtmBB4AytLjMhdTvrDvG31KpVK5etgf1rsVpArK461YBhdpg1yaqsGytXrlSZP+xr+fLlgTXu597jxo1Tc3nzzTwg90is5NhF4PEeQJ5BGi6K0hGr02CofkXpMNTpCHwwrVu1DsuNkj1XrlxZtTV1qnHYDANHRI4IBgG6KVSV27p1YSpUELZqHwETJqBtkyZ4IFs2rGX8RwxFO3EClo4dVT0YU8ECSklKmjHdp1vI3yHzwcwyAFQEhgwZ4u9hAe9HKwgLyT3wwAOIZGo6C9RxLnSpxjL198gFIFt34K3BGi6ZA4ZLDkiDCIjSEecnlW4V3lzoNw5V9NoNEydODLUpOT5OESDrqYMVVTt+ib7PPoObMmTAzDLvA6tWwnHiZMxmxWBY80cfwdygvlKOtLOpi9+FOrCjR4+qgof8LY37dlyozbk9/uTJk4qAj7EWK1ascLtPuFauWbMGN910k1JuSBgWK9lzGri/E1BwhIZEa6xGIf0aCQFROox0NoIYS9duXZXS0bBhwyCOTn1I3f+zdxXwUVxfN5QCbaFOnf7bUuq0/UpdgVKgtLgVtwLFIUCw4O7u7lLctVhxd5dgxZ2sZfed73feZpJN2E3WLe/xC7s7M8/O7M6cue/ec//8U7ZF06wqaRuBmWPHIl3GjOhatChQoTwMefNAX7EijN27g8sZlmPHIIz+vYuI//6DuHXbJycmJiZGJqwj6fCFEinDWOmgyvZ9maNGA4fibenTp5e5lEioAlW2nAfSNQcKjxUwJ02IHKghqX4DjIAiHQE+AZ5237VbV3khq1atqqdNoW7durKtIUOGeNyWaiB0EVi1ahUyZs6M1pTWpxPimTPgUoYhsgn0v1Pz40fofiskrQ6mAQNg/mcNBKOidKFrP+eyR7Zs2eT3nxEm3iwUUNNC20eOHOnNph22pQmEPffccwFdXll8DIioK1AjdGVPHGKsdriHgCId7uEWNLV69+4tL5S8qNED35PSqFEj2RazbKqSNhGgWZ6ZShk+mrwIg146csbNng1jh/bQVygPXYH80gdEX6IEDMx8O2yYVD+Vjqgefh+1/sX1G1ZdkW3uR6dobTl61el1CY6kKWneOKqf0nbmRaKFI7WkjJcu/SdDbXd4wX9mzJgxss8PP/wQ1OkJVBm7HYioJdB6eaBGoPoNNgQU6Qi2M+LieKgyygta6dKlPQ6No9c+2+rRo4eLo1CHhwMCjLh46qmnULZsWacylIqbN2DeugWmKVNgaN0augoVZPiqLk9uSBIS2QSmMaNhXvsPLKdOgf4i0LtuDbHEnIOu0K8yrFdccTKRnYsnhNYICp9pvyUXqzs8nCkF2Cb1dFJ6KGDCxXz58sljmUTP0wgyRrOx3xIlSgRUObbNMiCiPjB0q0OI1I40hoAiHSF+wmmu5cWlSJEiDi8uV69elSJFU6ZMSXG2LVq0kG117tw5xePUzvBDgE6On3zyibzx3bvvhrhWXJxUATVv2gTT2DHS6qEvVVJaQXR588p09PoqlaGPjISxV09Qrlz6hhw5AmETWmoXWYsFpkEDofv2GxhbtbaSF7sHur+RIa0kW/wt/frrr+BnT0vMuRi5ZJMrV65UFVxjY2NRpkwZ8DdI+XKOwZNSvXp1ORcKlAWyVJ0EpI8E/jkRyFGovoMJAUU6gulsuDGW8RPGy4tLgQIFwAuXvbJ9+3Z5DJ+kUrqYUtWUF11PM9baG4PaFrwIPIiNBZOD5cyZE/Rt8EoRAuL8eZg3/QvTpEkwduwIQ6MG0FeuLHOjUA2VCqK6X3+VviHG8eNhOXHcoSy7iI2VTqy6H36AkZa4uDivDNO2kYEDB8rvP1PDnzlzxnaXy+/5O6tVq5Zs759//kmobxEWUGyNMvJ8TV4Y1ZIhQwY0atwo+S6nP9NplWJk/C1z+TVQxWgGCg0CnmkFxNwI1ChUv8GGgCIdwXZGXBzPtGnT5MUld57cuOdA/pkXIaospuYgp609p6Ru6uLw1OFBjgCXFSj+xXwjBw8e9N1oLRZAr5PWEMux4zLvS9ycOTB06gR9uXLgkoyuyO8wtGgB0/gJMK9bB8vRo5K4UENEkgyTCcbu3cD8MXFLFnt9rAsXLpQ3fN6sly5b6lH7/C0yMR7bogWlSpUq+OOPP+RyB6NYuJTTsWPHJH2Q6GTPnl2Sv8tXLifZ58qHbdu2yX6ZvM6W8LjShjeOPXsLyNFF4K1eAjd1nluOvDEm1UbgEVCkI/DnwKMRzJ49W15gvvnmG9zhmrkHpWOnjrKtps08U2T0YAiqqp8RoMMob05btwZu0V0wJ8zatTD26Q19pUrQFSgAXf780OX/BfqiReU2/V9/wdimNQxRzaEvUhj6ShVh5phJZrxUuMTE7KwkCo0bN/aoVYvFAi5n0tpBv4pixYqhXLlyqFK5CmrUqAEqCS9ZsiShD1opCxcpLPsePHgQOJZjx45h165ddi0iCRXtvOnTp49sh5LrTNIXqLL7LPBoFFBhMmBWnCNQpyHo+lWkI+hOiWsDWrRokbzAcD2eFg1PSrdu3WRb9Rs8HLngSbuqbnAiQCdkZiL1pTKmqzNnThXL/v2ImzcPpsGDZJSMoWkk9LX+hL5saeiLFYW+VCnoC+SH/s8acDe5m71xkSjQIkHSweWJGze8sybApRb+S6lQNVSzjDz77LN44YUXpMYGx7Jz586UqibZxzwrXGplPU9zyCRp2I0Pc3cDEY2AzsvcqKyqhC0CinSE+KlduXKlvMDQLOvpRVJ7QqJImCrhjQDzfzBKYtBg72pS+AQ1s1k6m4obN6zOqnv2SMdUY7NmXrV0cOya5ZDCWrNm+U9cgoRny5Yt6NWrF7i82bBhQ2kl4flxJRstLVYMeSbpCHS26ChGrjQSGB04I5pPvo6qUc8QUKTDM/wCXps3D15gmDfC03h8LfyWZmBVwhcBOjHSp4AZikOuCAHTuLHSCTVumvdzBNFaSG0L/qYYEZZSmGswYle7dm05dp5fTx9CPJ1f5alApkiBNUc9bUnVDycEFOkI8bO5efNmp0jHiZMncO1qyhoHWvht4cKFQxwVNfyUEIhsEom33nrLe5EqKXXmxX2WmBgY2rQGs+EygsWbSyu2w6TDNUkHl55oSQyVsnfvXjCvC8ce6LB3Sp4XGg681ELg6MVQQVCN0x8IKNLhD5R92AfXe3mRodMY9TjslVOnTkmv+Hr169nbnbCNid7YFp1SVQlPBBjNQPP7ggULQmeCQiBuyVLoypaVUS6mESMgDAafjf/y5Sv44IMP5G8hT+7cYNr7YC9cnqlYsaIcc44cOQIqfU6srt0HPugFvN1R4FzgBFGD/bSlyfEp0hHip33fvn3yQkNtAUcaCzyGT0DfUlzJ5PgCqoXffvnllyGOihq+PQT+u3wZ7733nvQXsLc/GLeJW7dgHDjQqnRasiTilq/wyzBHjBghf1fM1Mr3wV6ofPrYY4/JMdM3K9Dl6HUgS3vgiz4CV9zQmgv0+FX/vkNAkQ7fYeuXlm1Jx+XL9mP7Gf//yiuv4M0330jRKY2Oc7R0KNLhl1Pn107ojJg7d2589NFHAV/rd3bilrNnYYiMlEqk+rr1YDlwwNmqHh9H4a5ChQrJ3wOTpu3Zs8fjNn3VALPI0qeLv12e47t37/qqK6fb3XkJiGguUHCYwH3HzzlOt6cODB8EFOkI8XOpkQ5myHREOngR+vzzz/HFF1+kGPOvee4r0hHiX4pkw6cAGP10GJJ57ty5ZHuD86O4eUuGxOq++wbGbt0gBcL8PNTdu3cnhK3+8MMPuHX7lp9HkHp3pjiTFB0j4ciSJQvoWB4MZfs5IKKBQOlxAt5TUgmGmakxeIqAIh2eIhjg+kzSxQsOSQcFhRyVw4cP49jxY452y+1aciqSk5Tk0lNsRO0MKgQYfcGcHszncfz48aAaW0qDYXI4Y88eME2fBjjyqTAYELd4EUyjRsE0erT1deQoxK39x2uhtEOGDpG/L/7Gqlar6lQivJTm5e19kZGRCeNjuG2wlLUnmOhNoNqUlPVJgmW8ahz+Q0CRDv9h7ZOeNNLB5RNPn2IV6fDJKQpoo0wg9uKLLwZUcdRXAJCYGFq1gq5sGeirV4OhZs14tdJKXrOMkHxXrVo14cZO/YyU/KJ8NVd77VJGnWSIfxUqVAgqh9clh62ko/Z0RTrsnbu0vE2RjhA/+wcOHJAXHSoYnjx50qPZKNLhEXxBV5kKs/xeMIlYuBY6moqLFyFu34blwgXoa9WEoUEDh4nj3MFBywCr3eCr16ieom+UO324UoeRKsweq43np59+wq1bwbX0M3e/lXTUn+nKzNSxaQEBRTpC/CwzSRcvPnR2O3T4kMPZrFixApUqVQKdzhyVuXPnyrbU8oojhEJn+7Bhw/DMM89g7rx5oTNoT0bKLLR9+yC2YH6YFsz3pCW7dSm0Vbx48YQbfcGCBQOyXEW5dIr3aYTjxx9/DHh4rD3AZuy1ko4G/hN1tTcMtS0IEVCkIwhPiitDOnToEBjW9/TTT4PiQI5K0aJF5YUqJX0GRTocoRda22fOnImMGTOCYm9podDSYWjdGro8P8FQrRrEZce+TZ7gwcyxtjf81157TSZ185f/0+Ili8EcSxrh+P3334M2Emkq867UF2g81xPEVd1wRECRjhA/q0ePHpXx+RR8YkZKR6VJkyYyXJKZKx2VefPmyQuasnQ4Qij4t69fv15GMfTo0SP4B+uFEZo3/Qt9zT+h+60QdLRyjB7thVYdN2EwGNC1W9cETQwSfmaQ3bhxo+NKHu7h75o+G8wGTMLBvDDRbaPBZZ9gLRN2WKNXmnrf6BSsU1bjchIBRTqcBCpYDyOJYOIuhstt377d4TD5lJaao6kiHQ7hC4kdVKTNkeNtmSgsJAbswSAtp0/D2KsndCWKQ1+yhHQg1f3xByiV7o+ybNkyGYKuWR0omV69enVQ8dUbZIBhzkxx0KBBA/n71vr59NNPMX9+8N/Jx2yzWjqiFvnjbKg+QgkBRTpC6WzZGeuJEyfAVNhUHGWGSU8KL2a8uClLhycoBqYuw6WZyjxXrlxeuekFZhap98qIFdPIkdCXLQtDy5YwjhkjU93rcv8E09ChqTfgxSPu3LmDrl27gmrAGingstbPP/8MRpZs2LABV65ecbrHm7duykyzPXv2BJdO+CChtcuQ5+jo6KBdTkk+yZFbrZaOVkuS71Gf0zoCinSE+DeA2gv053j88cflk5Gj6VBh8ciRI6Dnu6OiSIcjZCDz2phMJscHBHAPzysTuNHixeWVsCwWC8z//AN9lSrQly0j34uLF2Bo3UqKiBmqV4fFw+gtd3E7c+Y0GCmk5WvRiAJfua18+fLSYjF06FDMnTcXq1atwqrVq6TFYtSoUWjatKl08iZhtK3L98yj0qFDB48j09ydm7v1hm+xko7ope62oOqFKwKKdIT4mZWWjueeS5V0jB8/XkYzrF692uGM6WTKC11atXRw7Zy6J8kLIwb+7//+D3379k2+K+CfSTopgU0VWXtjD/gAvTAAy+7dMLSIgq54MRj79IFgYkOzGYaoKBgH9IO4c9truhyeDJfLW/ydlS5dGm+//fZDBCI5oXD0mcqx9BMhIfnPR06xnszTmbrDNltJR7vlzhytjklLCCjSEeJnmzcdhkYy2dO/m/51OBuagXmR69evn8NjNNJByfSULCIOGwjhHZSK//jjj+UTZ/Jp3Lx5U0YNMFmaXq9Pvjtgn8+ePYt3330X3377La5fvx6wcfiqY8v+/TC0awfdr7/CEN0G5n37EroyTZwoBcGEXpewLZjenD59GtOnT5cWkGLFi0li+PLLL0urJJdC+UcL5UsvvSQzRBcuUlimo582fRpOnjoZ8orAQyTpADqtDKazosYSDAgo0hEMZ8GDMdDSQY0OSTr+dUw6Jk2aJElHShkzNdJBMy8d2dJS2bFjB7JmzYoJEybYnfbw4cOlsuft27ft7vf3Rt7Ucn6cU5KhS5cu+bt7n/ZnOXoExq5doStRAoZGjWHevPmh/ixcKgzQcspDg0llQ5w5TiZhIzHkQwJzuvCPTuDXrl2T+8Lt9zZ4Ey0dQJdVqYCjdqc5BBTpCPFTrlk6GE5HxzVHhTfLhYsWyouco2MWLlwoiclnn30WVJLKjsbrze1LlixBlietCbOod5J8qWLcuHHyiVTL4EkfmeQJ9rhWv23bNjksZnXVyAAtJfZuKgx3pqaGq9YT9kOlUS6DpRaR5E2MfNqW0Qjznj0wdO0CXaFfoW/YAGYqqQapH41PsQiDxhNIh+PV3DCYpZqCOwgo0uEOakFUh9Lnzz//vBSDWrfeswyTGulgWB71CNJSoZXn+azPS8nw7777TkYg2DqO0p8jZ86c4DYSiD/++EM6b1I6noWWEprMmQOHRLBevXqoV78eli9fLsmBPSVYhkOSPNBnxNnCdmiS51iuXHE+MsLZ9v19nLh+HXHz51tT2JctA0OjBohbtQoIg++fadbfMC9d5m9Ig6K/IfGWjq6KdATF+QimQSjSEUxnw42xcHmFpCNDhgxYu86zHBsa6aDqoatP324MPaiqcO70jWGoI5dZ6P9iGwny559/yjBGDnrixIl4MksWefNnBlcWDTvWY7TBRx99hAEDBuDDDz9EgQIFHrIcPYh9gK+++gpff/21NK87AwZDNJlng2GZJDkhW3Q6mHfsgLF3b+iLFrU6iPbuDTPF7czmkJ2W7cDNW7YgNk8e6CtXhmnIEMSl4MBtWy9c3lujV4AuinSEyyn12jwU6fAalIFpiJYOZhGlOBGFiTwpixYtkjdbOlR6Q+DIk7H4uy7DTrNle02qPpIIkCj88MMPCQ61//vf/xAVFSUtHbRmVKlSBUwlTnJBrKZOnSqxy5Ytm9TLYPQCc93Q+mFPzCnmXAwee/wx/Pb7b7LN1ObLZR1Nyp7OhqFYREwMTOPGwVCvHnTl/oC+Xl3ETZ8OceFCKE7H4Zgt589DX6kiDL17wThsGHS5c0NfoSJEGFimHE462Q4pDtZAOZImg0V9BKBIR4h/DUg6aKKnNHJK4bDOTJO+AnxSp+n+wYMHzlQJq2Patm0rSQejDujkR2n5ho0aYsaMGVKoifhweYWRQLQw0aKRPXt2uZTCKJJ06dJJoaj69euDkQrEkn+0TmjLMBpgjFDgvt9+++0hK4h2jPZ64cIF5M2bVx7PMMpQKiIuDuadO2Ho2AG6IoWhr1oFplEjYd63F9wXboXhvPq/asNQ5y8InTWyxtCgPnQ/54W+enWYN20KtynbnY+WZbaFUiS1i09a3qhIR4if/VOnTskbHEkHBYfcKfQpoAPkwIED5Y2NpIOOkGmtGI1GMCrEHG/ip3MpNRO4nFG7du0kzqC0PBAn+nbkyZNH6qRQNZI4cmmK0S4kFVmzPg865o4dOxb79u2TYZQkLrfv3JaOqdTYcOSbwXPQvXt3WZ/LZ7SmhEyhYyjFvJpFQleqhHQMjVu2DOL+vZCZgqsDFZf+g6FBA+irVIY4d05WF7fvyCUWY5++cjlJ9/tvMHbrBnH5sqvNh9Txm89aZdBrTRMhNW41WN8joEiH7zH2aQ8a6eBTNtPXp1aov8FIlh07tsvICZrsqWbJGyv/eKOkT0daJB32sKPFgxEmt27dSrJ74MABEqtNmzaBOWvoD/LNN98kLJUwwyux7NChvbRkTJkyRfrdfPrpJxJ/NkaFysjISLtLWXQYZfp0tsFzS0fXUChCF4u4NathqF0b8gbbuRPMzAlkCj+rRpLzQbGyyEjomf/FJpTXcu6clGmPW7BQHh63dh2YI8bYqlWS6uH24eA14NFWQKERAobwcNMJt1MUsPko0hEw6L3T8ZkzZ0A/At6cli61rzlMkkF/jz59+khJZqprpktnNf2zHv8oo07fEL6nT4cWGuqdUYZfK6NHj0adOnUSrCJMtkcriVbGjBkDRgHRusFCSwdzcqSUlE+rSyJDB1RG0TAKZtiwYdquoH3lUoJ5yRLoG9SHvmRJGDt2hOXQwaAdr9cHJgToPGo5cyZJ05bDh6AvXRrmlYkqWeL8eSsRS3JkeH24eh/I0QP4uJfAlfA1boXXSfPTbBTp8BPQvuomJiZGLgGQLCxZmphd6fDhw/JGV6NGDenzoZELvjJHB2Wz+ccbW+fOnfHvv/9i8uTJknTwhqdIh2dnjBYlWwyFEEmWZxy1PnfuXCn0xlTmya0rjuoEcrt48ADmZcugr1YVuqJFYOzVC5bDhwM5pKDq27xtG3TMFcPInDRU4sxAgWHA/9oKxFxLQxNXU00VAUU6UoUouA+gGf6dd96RZGH8hPEgCaHUuWa1IMmgWimJxF9//YVJkyfjwMGD8gZILQ5bPQ4uz/B4JqlieKYq/kOAfiRMGsZol5YtWzpFUPw3uod7omUjbsECGOrWgb5USZh69kiyrPBwjbS5haGy+grlE3w80hIKFSYLPNtc4IDVvSUtTV3NNQUEFOlIAZxQ2MWU5vTB4Lo/RaP4qhENhnXSrE9zvTMkYvHixYp0BOCk05E0X758Um+F5yuYi7h9W5IN6k/oShaHadBARTZSOGFxM2bILLgimU9QClXCZlet+cCjTQWWKcNX2JxTb0xEkQ5voBjANpjZkroSJBr8y5Ili/QlGDvO9ZsXozXYxvvvv5/g7BjAqaWJrpmPg8tc1AHZunVr0M5Z3LwJ08wZ0NeoAX2JEjD27QPL2bNBO95gGZhpyFAYmkYCQZQo0F/YdP9HIKKpwLjt/upR9RMKCCjSEQpnKYUx0kmUOhAkC4UKFZKJpJgXxJ2ikQ5mUw0FfwJ35hhMdZh7hRl9uTzGZbFgLJZr18CMrroypaGrUAGmMaMhFNlw+lQZOnaCsUsXp48PpwNn7AAimgB9PMvOEE6QqLkocbDQ/w5QxIvqmSQdffv19WhCinR4BJ/TlanTwVBZksRWrVvh0OFDTtf114HUkTCNHw995UrQly0rlUQtV6/6q/vw6Of+fegbNYIpxATdvAX++sNARGOg63JvtajaCQcElKUjxM8ib2CaPHaPHj08mo1GOqiueePGDY/aUpXtI0DH36LFrNooK23CKO0f7f+tlhs3EDdpkgx71VetCtPUqWBSNlVcR8ByLgb6smUQtzxt3nV3nQYimgKt57uOnaoRvggo0hHi51ZAoEzZMtLSQfVKTwp1PmgxoblfkQ5PkLRfl1opJHSUPqe+SjAVce8eTHR6rFoFuj/KwjRpEujHoYr7CMhw2YIF0qyj7d7zQPqWArWmu4+hqhl+CCjSEQbntHLlypIsdPFw7diWdNDBURXvITB40CA8++yziGzaNKjCYYXBYBX1qlRR6klwSYX5Q1TxHAHTuPEy8Zu467w6FiX0p8+YLgXh1qxZY1et1vOR+aeFw5eBp9sKlBwPxFn806fqJfgRUKQj+M9RqiNkaCwtFG3atEn12JQOWLZsmWwnR44cYFSMKp4jQP2NBg0ayPw4EydO9LxBb7VgscC8cSMMTRrLRGzGPn1guRhe2V6dgUrExkLE+ia5IWXRjS2iABfSj+zfv1/+Bvl7ZtLA48ePOzONoDzm5HXg1Y4CP48AdKagHKIaVAAQUKQjAKB7u8uqVavKC1WTJk08anr58uWyHaZld5SEzKMO0lhlEjc6+TKpWzCFw1Idk2Gc+uLFZPIx87FjaezMJE7XOGQwjIMHJ27w0jvqmTC9vclF3RXq6ZCkMolgr169koj3eWlofmsm5hbwdheBr4YA9wx+61Z1FOQIKNIR5CfImeFVr15dkgUqjnpSNNLBdO2XwzwLpic4OVOXifi++uorqXkSFE+rZrPM92Hs1EnKlRuaNIF5925nphLWxzCclVjA5N1HccuRI9CVKC7zsbgDIKPSQr1cugt81E0g5wDgtj7UZ6PG7y0EFOnwFpIBbKdmzZqSdFSrVs2jUTCagmZdZp1VpMN9KJnH5q233kTJkiUDr3ei18G8ejUMDRtYE7FFR1tvhMIFm7/7UAR9TSqq6v/8E3Sk9WaJYz6a8uUhLpz3ZrMh1dble8BnPYB3+wncck86KKTmqwbrHAKKdDiHU1AfVbt2bUkWypUrl+I4jUajvAlSUMxo58mON0uSjjfffBOUV1fFdQCuM28AACAASURBVASYsI1p7ml1It6BKuLuXcQtXAh9wwbQFSsGI1PM7z8QqOEEbb+m4cNlWKu3I3XYrqFpU8CQdh/xSTr+ryeQo5/ATUU6gvY34O+BKdLhb8R90B/Tn5MslChRAsxmalsOHDiAoUOHonDhwjIUlv4FlNxm6Gbu3LnldjqiDhgwAJ06dUqwdFy6dMm2GfXeCQQmTJggM/i2b9/eiaN9cwif2ONmz4a+SmWrT8HQIbCcOe21zphB1nIwfFLWm0aPga5IUe9qkZhMMLZpDdOAAV7DPRQbusjlle7AB2p5JRRPn8/GrEiHz6D1X8PNmjWTZIEKlxrpoE9BnTp18NRTT8l9JCX8e+SRR5AhQ4Yk27R92isdSS9evOi/CYRBT8OHD0f69OkxcODAgMxG3L+PuAXzoa9VC/pSpWAaPRrCGeJoscA4cqS0iqQ6cLMZhsaNoStZEiJMLGGmseOgL1jQq2HClus3oK9YAXGLFqUKaTgfcO42kKOrwGcDgbvKkTScT7VLc1OkwyW4gvPg6OhoSSLy588vB7h3717kzJlTbmNa+2LFioE3Rcb9Hzt2TC6d7Ny5Ezy+YsWKIGmhX0jevHllHfp0KNLh/LkmtiRsw0cMd76Sl44U9+4jbv4C6KtXkz4ElNwWl11YGtPpZF3d77+BVowUixAwTZmM2J/zwrxmdYqHhspO05gx0P9aEOLOHa8N2bJvr9WJNIwsQu6Ac+Ia8HJHgbwqZNYd+MK2jiIdYXBqO3fuLG96jJZg2Ozzzz8vP3MpZcOGDaBUur1ioDCU2Zywa/Xq1bIel18uXEh7mg0JQLjwZty4cSCxGzZsmAu1PD9U5kahgigtG8WLwzRsKCzunDNaL+rXg750KVj27091YOadu6Ar8jvipkxJ9dhQOED6dBQtgri5c0ECErd0KRBn//fi7HxMkydBX76cV4mMs30H03EHLwGZowVKTwDMShwsmE5NQMeiSEdA4fdO54zn55P2o48+Kl+1ZRLG+7tS1q9fL+u//vrrYI4QVVJGgISDWA/2gc6Do54tx4/D1KcP9H/8AX3t2jIDrMXDpTB93bowdOyQtEuz2e5N03LsGPSlS8M0YULC8VQ1hSXxrmI5cwbmXTsh7GQ7FsePw7xuLYQN2U1oCADFupDML8l2v7ffG/v2ha5AfugrlIchqoV1bp4QKiFgaN0KBoqCpfGyOwZ4pIVAvZlpHAg1/SQIKNKRBI7Q/EA/At78XnjhBZm5dMiQIYhuG+1y9lLmBmE72bJlU6Qjla/ClClTkC4iHXr36Z3KkV7YbTTCvHUrDB07ykgUWjf4RO6tJQFDixYwNGsKxMUlDNZEZ9Tq1WA5ejRhG9/ws46kY6b1TiKuXYehZcsE/wXLgQPQl68AXf780nIAkpfTpyUpERcuQF+mDAyNG0ISFZuWLZcugaqohnr1YBo5AiCR8XURQjp86osWAfOkcP6mkSOhr/mnlfy40b+4cUPmrombO8eN2olVaIVklFkol+0ngIhIoP3CUJ6FGru3EVCkw9uIBqA9zaeAido8CdMk6UiXLh1ee+01nDt3LgAzCY0uFy9ejCeeeAJdunbx6YDFjesw/f039HXqQFe+PIzt2sK8cQPg5VBcY/fu0NeokXCjpeVEV+4PxP74I4ydOiaZo2XffuhKlYR51Uq5PW7WLOi+/gqGKMp9C8RNnCh1L4xU02zcWGqEMIkcrR/G4SMQm/sn6w0+SatA3Jo10DPMuGsXSBKwb1+yI3zw8f59GP6qDaNN+oC4+fNgqFYV4tathA5psZH5aGysOQk7k73h+dFxqSoZWUt2WIofuRxatVpVGVlGhdJQLSsOABFNgG7Wr0qoTkON28sIKNLhZUAD0dzo0aOlhYK+GJ5cpNauXZtAOmJiYgIxlaDvc/r06dKHo0OHZMsRXhw5rQWmIUOgK19O3vylv4YPpcqNdKYs/DsQf6M19u8HfZVKiFu4CLrff4dl8+aE2Zk3bbI6Se7ZIxVNdcWLS50LQ7268pi4mTOgL1cO+jp/wdi7Nwzt20FfuRLMO3dIPwepXZHQms0bvR60isRNnQJd4d/BZRxfF3HlihyrqX8/a1cGIwzNm8MQ2QTCZLX6kGwYoprL5RfT4MEQsSkLThj79YWhcSPAztKSs/PRljk/+OCDkLZ2TNxqJR191js7c3VcWkBAkY4wOMvUh+CyyCuvvIKbHqQjX7dunQypffXVV6FIx8NfDFqU6DTqE8IhLGBOFGN0NHTlykkrQdycOUmeuB8ekXe2UD1TlzcPREwMLOfOQVesKOLmzJaNG7t1hYGKnfHfKzpc6sqUlk6rxu7d5A3Z0L07DE2bWJcnRo+G7qefYKjzF8TpMyAZoWaIsV8/6Ar9CmPr1jCvXgUuQyQpJqNcoiHhMHTrZpUld8KykKQNFz9YYs5JAhVH/xQutQwbCl3BAjBvWJfQEq0+xlat5LKQrkhhWE6dStiX/A2tI/rKlcEIIk8KLWkUmPPJ98yTgblYt/sagYhIgbHbXayoDg9rBBTpCIPTS/8Cko6sWbPCk5T0GukgeTlz5kwYIOO9KXTs2FHqm3g9SoU5UbZshqFVS2lV4BKKZedO//g0xMNjOXECumJFpA8Gc7MYatcC4mXBpTWgenWZn8T8779STp1P/rCYYTl/HhZaAqKjpT9G3IIFYOitvmxZWPZal0fiJk+W89L99hv0JYpD92tB6Mv9AcvJk0lOjnn9eui++Qa6fD9DX6M6DNWrwdi1K4SDyKskld38wGgfjsXYrRvoUBr7w3fWBG3JHFnNO3dCX7EiDNFtUkwYG7dyJXSFCsJy6JCbI7JWY3r7LVu3emS19GgAXqpcd5HAI5ECC/YnFSz0UvOqmRBFQJGOED1xtsOeMWOGJB18OvKEdNCsywgYRToS0aXYWlRUFJ588knMnm19+k/c6/47oddLvwhDw4ZSX8PYoyfMB1IPWXW/xxRqUiBs0CDofvoRXC4x70j6aGo5dRp0NmUYqL5mzSTj5NO9rmoVMExUJpMjaahbJ0nkivnfjdAX/g2MkjEfPQoKmUmnzZkzERfvG0JyEzdzpgz9pY8Jb/CmqVPkcSmM3KNd5nXroC9aFLo8eaQfiWnadAhL0hskRdBoqdHlyQ1DmzaImzcP4pY9B08BQ8sWkpTZRvJ4NMAQr1xlpsATzQQ2J+WXIT4rNXxPEVCkw1MEg6D+nDlzJOngjZHp1N0tGul4+eWXcZoRB0FaLBYL7t27J9e7+aqpsHp7uNQwady4sXQapcnbG4XOoXELF8jlBy5j8AnbH/4LqY2dkTBxixaDT/V2i8EIQQn0y1eS7CahoEKpefsOGDt0QOzXX8GYTP6bfiCxX30pSYVW2RITg9i8uUH/kUAVU99+0JcsAdPQobAcsi/tLv67DH2D+jBUqgB9saLQc2np+PGHhsz50JoTN3feQ/vS6oaKE4DnmwscUZI/afUrYHfeinTYhSW0Ni5YuECSjsyZM3tEOigkRon0l156CZRRD5YiIMD08CNHjkSFChXwzTff4L333gPl2uls9+OPP6JGjRqYNGkSzp4965Vh37hxA6VLl5ZYLFmyxOM2aS2gQ6j+zxow1KwplzK4PBHqhSqmJupaUGhu82YZciquX08yLcvu3dIKIm7dTNhOy4ahXTvEbd2asM3fb0i0bKNUHPUvjEZ5nLh0EeLaNbs6IqYZM6TTbzicU0c4uLRdAMVGCbzaCjhz2aWa6uAwR0CRjjA4wcuWLfM66TiZbM09EDDR0sCsrb/99puMqqHfSqZMmfD555/jl19+QYECBfDTTz+Bsu3cxz86elauXBnMmOtuYbhwrly5ZLuUi3e3cBnBvHEjjNTXYJRHvXqg0yZCOAzSLSzoI5HMT0K240AgzK0+AlnJaJQ+L8a20UlE0gI5pED3bYwD8g4G3mgvEJOUgwZ6aKr/ACOgSEeAT4A3ul+xYrm84VI7wpOU9Fu2bJE39RdffBGBJh3btm2TOWNIJN566000bNgQCxYswIkTJx7SIqEfC8fev39/5MmTR2LB5Gt169Z1eZmIeWsYekxrirsRPJazZ2EaMxqGBg2gr1UTxi5dYN6xw6f+Cd74Hqk23EOA1h59kSIJAmnutRJete7pga/6Azm6CFxIlDwJr0mq2biFgCIdbsEWXJVWrFghb7SPP/74Q0qizKHCnCpdunQBU9jz788//5Tp7nfs2CFvynya58181apV0n+BUTBczghUGTRokBwHRcoGDBiAazRpO1nMFjM2bdqEggULSkyyvZ4N69YnhkCm1AyXl9hnvnz5cMtGHCqlOto+mt0ZvWBoGy2tGoYmTWTmVqcyvWqNqNeQRMA0YoT05xBXnf+ehuREXRj0tfvA+z2Bj3oKXL7rQkV1aNgjoEhHGJzilSutpINLD1fiHf2WLluKqlWrJll60JYgtNenn34aVDElWaE2x/vvvy91OuhIymy0gShaxtxSpUrh1Gn3/Uq4NEMfkCxZssjIk9QcQRmZ8tRTT6F8+fJgyKJTxWSSFgxjj+4yqkNfry6MgwfBfOCAMrM7BWB4HBS3ZjXiFiitb9uzeeku8EZX4LM+AiQgqigENAQU6dCQCOFXzdLB6JVdu3ahUaNG8ilfIxd0umT2WeZo0f74WdvP10ceeQRckuB7ko4jR474HZEOHTvI/pmozhM5d9uB0+rB5RIuPW3avMl2V8J75qrJmDEjqlWr5hThkJEeCxZI4Std2bIwdO0K6kwwMkUVhYBCADh3G3ipE5dYBG6lLOKq4EpjCCjSEQYnfOXKldLRkhaLzz77TN64qdlRq1YtMJ/Kfeoi2CmzZs2SIaHU+eDNefz48ciQMQOef/55v5OOyZMny3HTD8PbIbAHDx7Em2++iezZs+Py5aSu9P369ZP9tqZSZiqOjdRsME2aKHOh6Bs0hGnaVDBRmSoKAW8jwO+it4i3t8fmTHtnbwFZOwLfDxS466Th0Jl21TGhj4AiHaF/DqUvRvK09lQpdbXs3r1bWgSee+45v5KO8+fPy+Ud+lIwu6YvCi1AXGqhFUUrmqhaq1attE0PvYoHsVZ58n59oa9QAfrGjRC3fBnEgwcPHas2KAS8gQATvvGBIXfu3Lh48aI3mvR7GydvAk+1B/INFYg1+b171WEQI6BIRxCfHGeHtmbNGqkkyqWRDz/8EDWpA+GGfDTDTBlySkdSf/p0VKpUSfqVHHUyM+f2HTuwY+cOZ+FJOI65U5hFd/t2q+LmwoUL0axZs6RPlCaTzAti3rFTplg3REZas5927w4z66ViDUnoTL1RCLiJAImGtvQZiGVON4edpNqh60CmaIEiIwXiLEl2qQ9pHAFFOsLgC8DssPTJ4N+/m9zXp9Byr/hTkZTkgRdYZ5NbMcsrrTokRwyTdaXExcXhiy++kDoejuqZxo2TCcv0pUrC0KwZ4ubOAZdVVFEI+AsBquzW+LMGaIEL1SWW3ZeBiCiBChOSysr7C0PVT/AioEhH8J4bp0e2cePGBEsHw2DdLQyZJQF4/fXXQYEsfxTmNaEPCUN7UytcImHEDVVIu3fv7lZYL6NYPvroI4fKpeZDB8FoBHH2jIpASe2EqP0KAQcI7LwARDQUqD1NkQ4HEKXZzYp0hMGp37x5sxT1ImGgtcLdQrlvtkGFT09Expztn090VBetXLlSQhU6kVLWvUyZMmjdpnWCRsfdu3elYBetOXSOdbfQqZa+I3///be7Tah6CgGFQCoIbD4tEFFPoPHcVA5Uu9McAop0hMEpp48CQ0JJGGitcLcsWrRItkHtDuYe8XVhVAmjbBi5ohWSAYav0umT89GcS6k2ys9MwOZp4VIOU9WrohBQCPgGgcWHgYj6Am2W+qZ91WroIqBIR+ieu4SRM+qEGh28KS9d6v6vnDLjbIPOqLQs+LqQYLzwwgs4QDGt+NKyVUu88sorOHDgIKZOnSrHw1wqFC/LkSMHLnkhRHXcuHEoXrw46OOhikJAIeB9BKbsAiIaAD3Wer9t1WJoI6BIR2ifPzl6WgyeffZZeYOeP3++2zOaN2+ebOPjjz+GTud7RZ82bdpI2XFbIjF69Gi5TcsWW7FiRTkmkqGJEyemOjcuz+j0iWNn2/v27UtSj2SGgmn+8ltJ0rn6oBBIAwgM/pc+HcBI13y90wAyaoqKdITBd4B5U2gx4I155syZbs+IGV3ZBgXG/GEFKFeunBTsom+HVpi8jdYabduoUaPkmOg8aopLGvDP/DAjRozAufNWp1eOmTocb+fIIbPTss3atWvL+dy5cwcMkaUzKpegiNfefXu1btWrQkAh4EUEuq62ko5Z6ifmRVTDoylFOsLgPFJci4nKSBhs/SNcndqcOXNkGwwr9bYqqL2xlC5TGm+//bZDxdTY2Fj8nO9nOSaqrS5ZuiShGS7/5Ps5n9yXO09u3Lx5U0qYU/Kcx/7666+4evUq/u///g8lS5YEk7nRV4Qkho63jJjhspQqCgGFgPcRoC9HRCNg2WHvt61aDG0EFOkI7fMnR88srIw4Iemgv4KjYrFYpAw4ly62btuK8RPGY8PGDTL0lJYFWhjYhr9Ix191/pLhuY6yyGrS6F9+8aWcX5bMWdCjRw/pb0ILB30/mIX2pZdewtixY+W0GYKbIUMGfPvtt9By0lDdkYncuJ26IPPmz5P5WI4dD0xSO0fnR21XCIQLAk3nk3QI/Ot+zsZwgULNIxkCinQkAyQUP5IwvPvuu5Iw0CfCtlD/4u/Zf6NFixYoXbq09GWgzLmtbDojX7766ispmkXS8eWXX/rF0jFq9Ci8+OKL4PJQ8sJMr999952cE5dD9u7dK60WHN+06dOQv0B+FChQQCqvfvrpp2jXrp0M82WoLY+hX8rCxYuQOXNmKSTGUFtup9Wja9eu+Prrr8ElF1UUAgoB7yNQb4aVdOw77/22VYuhjYAiHaF9/uTo6cuQM2fOJKRjz549qFKlCv73xv/kdt5w+cdMsm+88YZcfuANukKFCihWrFiCoimP4Q3Zm4VLIfaiYRjqy3Ty9iJuTp48KZdJvvnmmwRVRvp7rPlnjcxH8Ue5P9CqtTVnyg8//IC2bdtKawZDbelUy7wqRpMR1B755Zdf5Nw5LxIY4sLlF1UUAgoB3yDw12QgfRPgsBLz9Q3AIdyqIh0hfPJsh06RLRKGH3/8ETVq1Ejw8eA23rjr1asnnSvpfMlMq7QkcLmFhaSFfg5RzaNkG7R6eLO0iW4jx0CfES0qhe3T0kBNkObNmz/UHcfJsZMY2Ss3bt7AgwcPJAGh4ysz5JYqVUqSqp9//jmJFYPtsy2N3NAKQsuIKgqBQCPA3yCTHMbFmQM9FK/2X20CkK4ZcOiKV5tVjYUBAop0hMFJ5BQ00sGbq/bH6BAmg6NDpjNlwMABsi59OrxZli9fji+++FxaWKi3QR0QLo1069ZNEgUuj2jRKlq//MzcE5MmT9I22X1l28wVw2RxDB1u3749kkvBU8G0U6dOsj6Xmng8SZYqCgF/IXDl6lWsX79eOnpT4C5PnjxyGZOE+ZNPPpFLh1zW/P7771G/fn1Jovnb9YcysC8wKD9WIF0LgUNXfdG6ajOUEVCkI5TPns3YucRAssELFx0s6Stha1WwOdTh29atW8k28ub92eEx7u6g7gd1QBjCyr/vf/gBmbNkQXR0tPS5GDNmjFtNcxmpSZMmTimonjp1ShIOWoPcycLr1gBVpTSLQExMDCZMmCCXMBlFpfkVaQ8FzrzSKkcnaFryzpw5ExJYxgmgxEiB9K0FjlwPiSGrQfoRAUU6/Ai2L7sqWrSoJAyRkZFgJlbKhrt6Y/3jjz9kG/R58HbhEg6f6Biq2qdPH2zYuFH6XtCvg2PPnj07bt265e1uk7RHawcv9CrvShJY1AcvI0CLW6PGjSTxt0cs6FfFUPHPP/9CWjb4wMAlTWrRaPL/9urRATyySST2H9jv5RF7t7lYE/DrMIFMbQWO+T6bgncHr1rzOQKKdPgcYv90UKFiBY8JQ+7cuWUbTZs29fqgzWYzhgwZIiNoKLdOAkB/Dvp1HDt2TGpoNGvWzOv9ag3evHVTZpclwdF8WbR96lUh4A0ETp0+Ja1umlCfRhyYooDfdf6u+ECwevVq0OrG7z79OZi+nv5JjDT7999/MWvWLLn0yOgtknStHe01a9aschnRVsnXG+P3Vht3DUCeQQJPdwBO+fY5wltDVu34EQFFOvwIti+74pIFL0qMRKFVwZ2SN29e2Qblyb1RKDC2bds2eSG1bY8+JpQhp8OrVqi/wfHPnOG+oqrWVvJXEp6yf5QFL9ZHjhxJvlt9Vgh4hIDZYsbgwYOltU4jBnylAzfDs2nNI7lwp/D7OnLkSBQsWFA6Sdu2/9FHH0kS4067vqxzUwd821/gpc7AORWV7kuoQ7JtRTpC8rQ9PGguq/CCRH8Fdy9wGunQQlEf7sW1LRwHQ1OpEWJb/p49W4518eLFCZtJUBi+yzlQjt1bhUtMTBiXLl060MKiikLAmwjQOqF9bzVCQD+MSZMmPeQc7Um/tIasXLkSjMyy1dhhn5T+T+6I7Ulfnta99gDI1Vfg1a7ARd/njfR0uKq+nxFQpMPPgPuqu7bt2sobNpU43U3WppEOeyGsroybuVCYPp5PaYwquXEjcWGXVgf2QwVVhu3aFl44mf1VypWPHmW7y6339PwvW7asxIWOeKooBLyJwLbt2xL0cXjzZ2TWwIEDpSS/N/uxbYskmvmVGPWikRy+0hISLMst/90FcvYUeLsHcOW+7ejVe4UAoEhHmHwLtOUJCmA5GyKbfOoM4+MFjCF97hYSjPc/eF9eFOm9n7wwfJV9OIpW4dgbNmwoj+FS0c6dO5M3kepnWlj4pEnHPIbHUiBMFYWANxGgXwZJhnbjpwWCqrn+KhcvXkTVqlUT+uc4uJzDPEyBLuduAm93Ffi0D3ArMeFzoIel+g8SBBTpCJIT4ekwBg8ZLC9ADJm9f9+9x4vff/9dtlGnTh2Xh0PBMVpYrt+4jp49e0qnuOSN0MpRokQJKVF+527Ki71UFKW0+2OPPSb9MbgUk1p0C53zmJOFUTKsV7FiRWlpST4O9Vkh4AkCJM4MSeeNnst2tAwmt9p50r4rdWnBe/rppxPIB3U+rlwJrCLXmStAtnYC+YYCBvfcy1yBQB0bYggo0hFiJ8zRcMeNHycvPBT2coV08Mlo7dq1MoyUSzO8kDJ01pWyadMmadnga0pl69atSJ/+EXTv3j2lwxL2MRFc3759pcWCGgckE4ULFwYdXYcPHw7mmek/oL9UW82XL59MHsfxFylSRMqdJzSk3igEvIQAhedsLRwM/w502bhxY8J3n99/LikGigQRi31ngaebCVScGGhkVP/BiIAiHcF4VtwY06yZsyRhyJUrVxIJcEdNcW2YJmJGkWR6LFPCkxIvWlxmcaXwya9e/Xqp9nvu3DkMGjTQZRPw/Qf3QeVRConRjE1NAyqwUnCJlh1+JlFiSO7+/cGtYeAKrurY4EKABJ3El78Ram2QEAdL2bdvX8LYOD5GzQSqTNghZIbZZotFoIag+g1iBBTpCOKT48rQuPzAiw3D6JgYTSt8zwsS1UBpGRg0aBCiWkRJYvHMM8/IOrQiUEOAkSZsw5ncK/Td4BOWv5+ouERDTQMutVy9dlUmknPXcVbDSL0qBFJDgN87RkHx98E/b4WVp9avK/v5O6caMceXKVOmgFn7Gs8DIhoLzPefi4srMKljA4yAIh0BPgHJu7/xAIi5AZy9BsRcA64/SH6E/c8rVqyQFxtaLkg0Dhw4IHUw3n/vfZnJVbtY2r5S/ZBJ0hYuXCgbJTHhfnrGp6b10atXL3A55vad2/YHpLYqBMIIAcqZa78d/mb8TbadhXLDhg0JgmK0BN68edPZql457rYOeKcnkK2DwJnEZx+vtK0aCQ8EFOkIovOoNwHfDhd4piXwcmsgW1vgoz5A/3WAMRWHLI10UCq5evXq+N//ElPaZ86cWVpA8ufPL8XDGM66YuUKHD58GNTH0ArJBy+sDGd1lGhq9+7dYKQMrRx8slJFIRDuCFCLg07N2m/j5MmTQT1lRoZpBGngoEF+HevCA0BEQ4EKE4DEK4tfh6A6C3IEFOkIohPE+/+CI8CYLUDff4C8wwTSRwpkbCYwOxVTpUY6tIsNX3/66SeZ1ZJWD2eeeFatWiXXqmkBIbmwV+rVqycJDJc4VFEIpAUEGJ2i/a5o8Qj2wgcJLY8Scxr5K5qF169qUwQi6glM2a0oR7B/TwI1PkU6AoW8g35PXAZ6/wPkHwY8FQ0831bg8ZYCXVc5qBC/mYSBF0YSBiaToqXjyNGjKVdKtpee+bSUsJ2ly5Ym7GUUCeXMaVKm8BfDY1VRCKQFBE6cOJGwXFG8RHGXkygGCiNmpKXFkr9lJn/0Rzl2GXitrcA73YHr7kXt+2OYqo8AI6BIR4BPgNb9xrNAuQlAliiBp1oLFB8rMH47MGgDkLkFMHG7dqT9VxIGJpaimue06dPcIganT59OuFBNmzYtoSPqXdC8bKssmrDTj28sFuByyvIefhyN6iotINC+fXt54378icfxz9p/QmrKvXr3kmOnj5YrYfTuTrLfP0BEfYG2SovPXQjTRD1FOgJ8ms/cAGrNEHikKZCpJVB/rsA+G1HBtqsEHm8usO9CygM9eepkQsKp2bNnp3ywg71cq9bWrkuXLp0gxsX2Fi1a5KCWfzafug6Unwh83AnolorVxz8jUr2EOwKMkGJoNq0F+X75JVXn6mDDg8sqr732mlwypQ+WLwsd4D/sCWRtJbA/lWuVL8eh2g5+BBTpCOA5OvQf8G43IFNzIGoecOxq0sGYLMBXg4B3ewjcSyVJJa0QFAbjBXLy5MlJG4r/xKcdmlpn/T1LbrGNUFm2bJlUCmWoHdtgmnt/rQXbHazNRuL0YU9rXYawegAAIABJREFU7H+W5gJPtQQ2nLA5QL1VCPgAAYahU4+Dv4fRY0b7oAffN8nkjRw/LTa+LO2WAxF1BBp7L1ejL4er2g4gAop0BAj8Ww+AL/oLZGwpsNyB68XRq8AjzYGyiSsdDkdLAvHLL7/IC4wj0SL6YuTMmRMFfy2ILl26SKEtTVqcolp169bFs88+K9ugwmkwlCP/Ae/1EIhoDPReA/w0Ukjv+HITgThLMIxQjSFcEWA6AN6w6R915Upo+jExHwxTAtBiw0y1vijrTwBPRwm82wU4ryLofQFxWLWpSEeATmfrxbyRCky3HyQiRzVgPddIgXkHUh8kPdYLFSokL5JMc++oaMJalBHv1KlTkoy0zPKqKS5OmBh4L/2Y28Bn/a0heP3XA7AA3w8BIpoI+dcqsCs+jiBW28MAAf4WqO5L0kHyYaFDUQgWiprlL1BAavXQZ8vbZfsF4M2uwONNBeYrMWBvwxuW7SnSEYDTuvsC8GhTgE/rKZWFh4HoFYApFY0OrY2iRYvKiyRzL7hT7t69K6XFeaEdNdLz1PLujEGrYzABJSdYCUf0MutWkxH4rAfwZkcRv9wC9Fit1VCvCgHvIbBr9y48+uijMqGbo4zI3uvNty0NGDhAXheYRNGb5fwt4O3uAhENBPr51mXEm8NWbQUYAUU6AnACakwTSN8MIPnwZqlZs6a8uDDFtTuFT3ea4xzzmASyTNkGZGoqkKmFwIrj1pHcuQ+801mg+Ahg0wkge0eBjE0FFh8M5EhV3+GIwMSJE+VviRlcd+3aFdJT3L59O5jqwNuhswyLjZwLjN+pNDlC+gvi58Er0uFnwOnZnaWlwF9/e7/jtm3bygslpdDdKXQ01ZxRA5kwimPvsMQafpc1Gph30HpRu3nXSjQKDrZ+nrobMrHUz4MF7undmbGqoxCwjwBzq9Di9+abb4KKpKkViu8dPHgQvMEzUoRJECnYx8zKtg7bqbXji/0kTbTafPfdd34JnfXFHFSb4YOAIh1+Ppe1ZwOZWwL7L3q/Y1oneKF8+eWXERMT43IHdDTT0ts3a9bM5frerHDpLjBrN3DwUmKr1+4Cb3UC8g8ChAWwCOCnYcBjUQL7XZ9uYsPqnUIgGQINGjSQvyVa/mgBTKnQ36NipUrImCmTFNd7/fXXpUAfnbbfeecdTJo0KaXqPt9HApQuXTrQanPkyBGf96c6UAikhIAiHSmh4+V9R64CmaIESo73csPxzU2ZMkVeKEk8Pnj/gyQhr3wKs80+azsCOpsZDAbcvn0bP/74o2yjWrVqtocExfvr8ZaOXwYImEzWIdWcY7WIbI5fggmKgapBhDQCJBEVKlSQv4MCBQokyU/kaGILFixAt27dQFG9NWvWyDQCFy9elBFhJDCBLIxgYf4l/jEhnCoKgUAioEiHH9FvtRQyL8FcJ6JR3BnWnDlzEkgHicdff/2Frt264s8//5QiQQULFpQXxcGDB8u4fV4MqTZauHBh5MuXDz/88AO0dPe//fabO0PwaR1JOjoJ/NJfQIv+I5ZVpwNXlVKpT7FPS43rdDr5m+BviNLn7hbq3HCpc/x4Hz1lODkwiv49//zzUnNk6dLE9AZOVleHKQS8ioAiHV6F03FjUrGvG/B+L4EHqQh9OW4l5T3MDMvIFeZf4QXTk7+mzZqm3FkA9t6mI2kngXx9BQw+wjAA01JdBhkCDCsnQefvp0yZMm6NjiHs1M0hkfeVPoazA2MelqxZs0pnUgqeqaIQCCQCinT4Cf0lTPncBGjvhweNlStXSm0Bin0xjf2gQYNQrlw5vPTSS1Lo6Msvv5SWjZIlS6Jy5crSlEzZ8xIlSqB8+fLo1auXU1lp/QRdQjexOuDDrsAPvYBY5TiagIt6410Eklg6irtn6ejevbu80e/Zs8e7g3OjtePHj0tfE6qrKkuHGwCqKl5FQJEOr8LpuLEq04CnogR2nnV8jC/3cJ360KFDOHbsGO7euwv6cYRa0emBnD2Bz1UWy1A7dSE1Xv5WSL5p6cifP7/LY6ceBuvSxyoYCpNBUpWUFlDl0xEMZyRtj0GRDj+c/3O3gZfbAb8META6KfTlh2GFXBd6I/DJIIF3OwkwUZ4qCgFfIVC/fn1JHJyJXrEdA0k9/ScaNmxouznF94w0u3TJJkwLwNGjR7FlyxaYNI/pFFtIeSctnyRBtHTywUMVhUAgEVCkww/oT91DB1Klnukp1HFmIP9Y4Llogd0+CDn2dHyqfvgg0Lp1a3mjfuONN3D+vE3a5xSmqNPrpGWEehhconGmMGqMEWN0+tYKHcK1HEi1atVCbGystsutV0bUkHTQqTW18F+3OlCVFAIuIKBIhwtguXtow7lW2fMd59xtQdXTEGjCENnmAutPalvUq0LA+wgw4oQ36qeeekoKfjnTwz9r/5F1evfu7czh8hhGlrzw4osyiowbGGZLQTLNMsHXTZs2Od2evQOjoqJke1wqooOrKgqBQCKgSIcf0K80GXgySuDqXT90FuZdDGcSvEbA/BQS5YU5BGp6fkBgz949yJgxo7xZMzmiM4UEgikIcuTIgffff186Zo8bN06SBiqWxupiH7rp09GUol2apWPu3LmyTyoCaxYK6n64W+ifUqRIEdlmdHS0u82oegoBryGgSIfXoHTcUNvl1sRlW844PkbtcQ6B5Ucg8600Xejc8eoohYA7CHBJ4+uvv5Y3ay5xOOt4zWWVzZs3o2OnTjIqjD4hVCYlGWH4bKtWrZIMhzLpmTJlStjO/Ci0buzfvx+awvCJEyeS1HHlAxVIX3zxRdnmrL9nuVJVHasQ8AkCinT4BNakjW45BzwTLcBcIap4hsB/d4A32wvkGeZZO6q2QiA1BJo1byZv1q+88opc9kjteHv76UNBAsEEcgMGDMC8efOSHMZoEpIM5k1iGTVqlPxMcT6ShUKFCkm14CSVXPgwZKg1NcJrr732kLOqC82oQxUCXkNAkQ6vQZlyQzsvATec8y1LuaE0vtdsAfIMF8jeGbin8Ezj3wbfTp++FAw1JSmg1o0vytq1a2X7TzzxhIxWYaqCYsWKSfXQDz/8EDt37nS7W0a+0KmV46fysCoKgWBAQJGOYDgLagwuIdB9rZDRQEtU7iqXcFMHu4YAl1iYHoA3bV8pi1JFuEqVKlJ2XSMYXKJhuKyzUTOOZkVCkyFDBplhdv78+Y4OU9sVAn5FQJEOv8KtOvMGAlfvAb+MFvjbRzlsvDFG1UZ4IDB69GhJOuh3EUoS4hZzYtK6jz/+WCZzDI8zomYR6ggo0hHqZ1CNXyGgEPAZArdu3cIHH3wgiQetHoHOo+LsRGnloOy5L5eGnB2LOk4hYItAyJGOjaeB0mOAuXttp6Heu4rAbR3QaQVQdpxA/b+BHTGutqCOVwikDQQmTpqIdPEJFEeOHBn0k75//76MliHh+PTTT0HipIpCIFgQCDnScegykGcokCESaDIP0JuCBcrQGseCg0BEpECB4cD7PYHXOgJbA5QXJtiQO3xF4OiVYBuVGk+gENDr9QlZZxkFcvjw4UANxal+27dvLy0c6dKleyhaxqkG1EEKAR8iEHKkg1hQDnvARuC5DsDOC0nR2XEeOPxf0m22nyjIF2ex3RKa72/FAi0XC+xLNn9Hs7mrB1YfA+7Hp4Q/fxtYdNx69OB1QEQDITF1VD8Yt9+MBTacAkxezF0XawTyjBB4vg3QZSlw8U4wzlyNyd8IbNm6FY8//ri8mTOc1VNpcl+Nf8WKFcicObMcZ9myZREXp5I9+Qpr1a57CIQk6dCmev4uoLP5TcncHMMEqk5LlPrdfQ7ovwG4F3+zHbEJqDAZ0H6L5sRDtWZdemUSMkt8Gw8MAGW65+x3qQm3Dj51BXgmChj5b2J1cil70+FNudYsIHNLYJ9NXqlYA9BqCZCuqcBX/YAz1xPbCoV3yw4CT7YTOOLF5G8Mye25GjKpXEQjgf91BkZvAkw237NQwEaN0fsIUN6cSxb8a968ufc78LBFJonLnj27HN9bb72FM2eVGqGHkKrqPkAgpElHcjyo2/Bxd6D0ROutl///MRbI3g2gDwNLnRkCH3UGLHHAyavAH5MFTl1L3pJzn2k1KD8F+DueZGw/R+VRoOZM5+onP4o3vA5LgWXJEkFevQ9siwEu3AH4JM5y8LyVdPT8B9h1Dqg3Ayg8Cig5BpiwNWnLe84DmaMEfh4B6ONvniuOAB/2EkgXCUnS7gep5sWhS0DP5cB+G7KkzW7BfiCiCbAn2b47eu0Ix6/EdOEh4K6DeesNwIy9QI4uAq+3E7h023Fbak/aQMBsMcvwVo14dOjQIWgmfv7CeXz//feScFBWffny5UEzNjUQhYAtAiFBOq7fB45dAtYcBUZsAVquBuovBabaOJMevQyUnsC8HAJV4i0dJAWf9QYa2JCAatMEcvWwmgR2nLXm8Ri20QrJxpPAvH3AxWR+V7xBxdrxHSEJeLID0H6Ftf7cI0BEY6DhbFuInX9vNAFPtwPKTEqsQ7JUcpzAY82BF9oC3w8E9l8GDl0AnmwJ1JstUHIU8GYHoNQYq39GlmjgoM0S08p9QLoGAo3mWNvl8tKPQ4CI2gKvdRCoNxfosIKEDKg0FTgZJBaPxYcgRcAi6gt81he48SARF76bvc+Kt60vysxdwAfdgaLjgb02GCStCbRbCrzcRoCkxraQqJ6/AWw6BRw4Dxy8BGw6Ex5LcrbzVO/dQ+Dy5csyK6xGPLp06eJeQ16sdebMGeTJm0cSDob2jh031outq6YUAt5FIOhJh8UC1JwGZGtlvQG92wPI2Rf4ZADwWEug/RKg+lQgazuB1zsDz0cLlJlsBenaA+DtHgL1bUhHmUkCX/S07h++ib4MQLMFgNkMFB8NvNACyNEVWEX/B711ueSdHkDh0cCJq0nBP3cbeKYz0C7+oWI6nTPrW6NBkh758CcuxTBi5ILNE7QxDsjWSyDP8MQlmz0xQKYWAiXGAGM2WzOs1p4jcPIS8ERLoNpUgV1ngbPxRKEfE6I1FFhm4+s2ewcQUU+gxQLrOLgcNHob8G434IXWAhkbCaSrL5CukcDn/YGjV+wt0jw8B19uoRUqR2crni+0EcgQ9bCM/LTdVtL4j01qiiHrgCciBSIigS/7A5RN14ox3veDOH83CPi8t4Ah2bJJzzXWZagMTYEnmwuUtyGAWjvqNW0jcOrUKeTKlUve5Ek+mjZtGrCU8RQR++KLL+RYGCLbr1+/tH1y1OyDHoGgJx1EcM85YPURqz/CpfhMrYsOWElHluYC3/cHBm0ATl8BcvcXyDPaetO8cg94o5tA3WmJ56HkBIHv+gKbTgCvdxbSMtI4Pg/Sf/eA7THAD4OAD3oB644DBUdYn/4fbW418ye2BJy6KfB4e4E2iwFhBoZssd7c66SSV4mja7ZA4LEmAp/0By7es7bKG+BbfYXsn/4pLCsPABmaCcyIz9uSvS/wwzDgzH/AU62AcjYPNXoz8ONQgQxNBebZ+JWMJ1mxIR3Wlq1+LocvWa0mtJwEi4WD44teBDwaJdB+KTBll8DrnYBOS7SRW1/Hb7eSjmU2yqS0bnHpadp2IGtLgfVHgFM3uIwGfNYDmL0bIM/I3gvIN+RhcjV2E1B1MtBjjXW5Kn0zoMUiYNBGYP3JRDKYdCTqU1pD4OzZs8ibN28C8fjqq6+wY8cOv8HAFPUM382aNascAzPiMkGcKgqBYEcgJEhHchDvxALf9RPyib7wSEDzRxBcNhgg8Mkg683k8l3gf10F/oy3fNBptPBYgedaA9k7Ai+3E8jYMikpYV99VgMRdQRWHoJMRX3mFvBKJ+CbPgLHbawdp28KPN1BIGc34HeGnnYTyBApkBrpuP4AeKUL8FhzgfSRAtviQ1VJOrL3Fvi2f6Lj4tQddPQEJsVfz34aBeToLnD8MvBSJ+DnQQCtJiyTtwNPNBdI10QgR3dgS3y74zZTNlyguY0SMpeMdp4H9l6w+oRsPw1sOgos3AuM2AA0nge0XJroC2PtwT//39EBH/URyDPAeh7po/FyB6BjMtIxhJaqRsCKow+Pa8cp4LU2AmsPA1ELgUciBT7uCaw4BBy7DjzeCig0TNh1vNVaqzGVodkCGZsD6ZsA6ZoJtFqceG6049Rr2kTgypUrSXw8mKCtT58+4HZfFpKbMmXKJBCebNmyYdbff/uyS9W2QsBrCIQk6Wi+CHi7I/BFXyDfMGsILRGhdSDvUIF88ZaOa/eBD3oKFBwOTNwBfD0UeLKVkH9VJgPzdwNPtgGqJDOhd2Uq+toCS/dZcT5yTeCZ9laS83oXK0mgI+rBi8DT0ZDLNe0XAiXHAukbCdSc+fATtO0Z49LB860FsncHaKnZGu9kLklHL4Fv+iTe2MZutTpLMkMtw32/GQy80kFIQpFrgEC2LgKX71lDYXP1A55uJVB9MvB4lJA36un7rCQqXUOBxnMTR9FgntX68UhjAe6jz0dEXSHJFglKRH3gza7AaS9GhiT2nvK7SzeBZ1sBNeLPy5SdVt+NmXuT4tpjrZV0rD35cHvVZgBvdLQ6gFLbpc9aq6Xs4m3rd4RLUIVHCIfh0yP+tS5TFRltPT/rTgDFRwmkbw5sVEEBDwOeRrdYLBYM6N8fL7zwQgIJeOONNzBw4EBcu+amh7oDLHfu2olatWrhySefTOiL4bt799o4tzmoqzYrBIIFgZAjHXsvAulbAN3XAlzLz9BcoMkc683o3zNA1rYC03dZ4b1vBIoMF3iyhUC6FsBb3a37v+oD0Cpy+SbwWAug3PiksaZ/zrTqVpQaDczeApBQPBYFfD8IeK4N8GIHgdzDBH4dCTzSFGgU7zMyg46NdQSqTQVSCsVlNMnTLSEJw+MtBPbEa21olo6veyaSjlm7rKSj4RygwRzrjTBbO4Ft54BqE63jP3cdmEd/knoCjedYlwDo/8Exp4sCvhkAPBop0MDGwXXDaaDrCqDrUqD9YutyBi0J3VcAPdYBE3Y97MPiry/ttbvA6x3pOCtQerLAE60Evh4A3EsWldKW5LChAKOGbMuu80BEU6DpQuvWXRdJ1KxLKm90EXi0ucDTbQTyDhIJodS29befBZ5qSR8hkUC6qHOSb6jAqx2AYzbWLtt66n3aReDgoYMoUqRIAhmgr8dHH32E1m1ag+nrqRLqTjl37py0YlBzw5ZsvPrqq+jbty+YHE4VhUAoIRBypKPraj7FAzHxESazdgNTtwJ0OM09HMjZC6B5XivtFkI+wZefJhCrA3LRCbW/de+Zq0DmVkCJ0YkCU/eMkJESmVsIkBBENBZyyeKZ1gJ8ol58AHizk/Um1n458F4PoHO8I+kkhnA2FCg7FqCzoqNy6Q7wWgcrScjaEeDyDQv1NN4bKPB/3RJDY09fA3J0sx7LsVScIOR8GYHSdi6QrgnA8Nfe/wCPNBHYaXMD5vLKuC1Au8VWCwzJVCgUWnQmbLdGHr3cFvhluMARO5EoVKQlJnuTRaAwSidrNHDmpnW2h68AX/YFXm8P/DBYgKG2Pw3hko3A5WT3gnM3gVx9gCwtIc+3htfZmwJVpwusjRdU07arV4WAhgCtHgsWLEDRokXxaIZHEwgIRcU++eQT1KtXDyNGjsCaNWtw6vQp3LlzRzqg3rt3T77euHED+/btw+zZs9GrVy8UL14cr7/+ekI7JDLU32jdujVOnLDxntYGoF4VAiGAQMiRDgpvZYoC1p1Oiu78A7zpApPjHS61vbsvAllaCOQZJjBnj3X54c8Z1r0x14Gn2gIFhwEP4vUvtsYAT0QJ5B5ptaRM3gk83x54pydAywlLzI1EIa2T1wCqg7KsPGm1LBQcCMQmeyq3HpH4/9RdwMe9gM6rE50Taa8pOQl4KTqp7wiJRO8VkBYcanlohYSC1o2ac4WM0lh1NLEt7Ri+LtgNuYRSNtky0qZTAj0XA50XAq3mAp0WBpcU+p0HwJlrAEOJ7ZXa04B0zQUO2lgeaC36boBAnsHWGrRQ0JF22xng3A3AEN/WttPA7L0Ph8J2ofWknkDH5cC1O9aQ2SWHgQnbgMH/AC3mAWXGAwcu2huR2qYQAEwmE9atW4eaNWvilVdeSUIaSBweffRRUE6dieQ+/PDDhL933nkHzz333EPHZ8yQUZKWwYMH42yMylWgvmOhjUDIkQ5aEBYeBP6Lj2Ih/DoT8OswgSdbCxywIwtedzZDL61Pxa+3F9gZvyZ/5DKQuY1AgaGJpGM6fShqCekDoJ3aMduBmU4sm566DrzaEfi0K8An5tQKn+iTF+lL0EBgdLx2SPL9tp8v3ALe7iKQqTlwLIUw1yUkHQ0Efh6V9CbbcSkQ0UwgIsoaYkqrwac9kxIe2/6C4T21OjQZ+zJjBTK1Bk7a6KqQlFWaZs0rk38kw2YFIpoI/J3K+eO56L8eyNYBeLSpwAfdBd5sJ/BscyE/U4SMGix0XH27M0DSoopCIDUEGOUybdo0aeXIkycPnn322YdIBYlI8j8SklKlSqFbt27YsH4DmP9FFYVAOCAQcqTDHujrTwBZWllvDrwhDFiXVEjq6l2g3nyg6BSBjfFWSYZWlqGYWD2BShOtrd58AJQeD3zZDzhw2V5PKW+jimWungL0udjn5pMwicT7PYA6c+0wEjvd06mx8wrganzYrZ1DsO0k8EQzq36Jra8Jo2joG7L5LLDlJPDtQIGMzQRWHLPXSuC3LTkEfNwbOBHvn9drrUD6KGBmvMOvNsLj14HSk626Lu91FWixJDHCRzsm+St1Wug381l34Iv+wP/1AX4aJPD7KKDUdIHIxVaLybpjwFkbkpO8HfVZIeAIAfp10OmTPh5///231NRo174d2kS3AUXGRo8eDeZO2bx5M+jLweUaVRQC4YZAWJCOWrMEXm0nMGELIxOsglLv9xCoNAuYttv+zZtPvumbCXzT16p0yhNbfSaQoaXAWSesFPa+CBb6ZPQAXmglHhISs3e8o21nbgBXbCw5jo5zdjstA/Tv0Pxg7NXbdM7qPMkwUl7rbscCTJ53Nz4c114df28rOR74tF9iZmGG/b7aFYiMdxhNPh6quSZ3PmWMLB15u68Bfh0l8NcsgCHYWmHWYi6XURhOFYWAQkAhoBDwLgIhTzoo6PViB6B8fL4VOpH2XwtQuZRLKhQDs1e6LgIiWgjsjLdIUD6b6qQ1PQx3b7EUUm5c8x2w13ewbaP1o+Q4IGMTgdFbADrn5upL4TRg5LbgGC1VVBk9VNVG6I3n+tPeQL3pqY+R9Sn2VmQsQKE3nmsuJzFXDoXmHJWNp4Fa04GlR6why46OU9sVAgoBhYBCIHUEQp50yFDRhlY/D9vp3tIBh64AN20iWWz3d5pvza5K2fCWi4FHmwm83w2IcdPKYdt2qL0/cR3I0VHgmVYCObtbw4UztxaoOlnYTbQWiPnRV4Nhs6Xil8K0Mfw0GPhxIMClopTK0SvAJz0FXussUGc6MG0X0HGlNRx5oE2mXts2NpxkThursNrTLQWKjEJCeLPtceq9QkAhoBBQCDiHQMiTjjqzrdElFAJzpTAiQYbE1hGI+Av4pDfAyJW0WGgt+nYQ8HhTgafbClSbLrD7fHAhQUdP5qT5JD4qhUsrlCzP3sUa1jzEAXHQZkEfHib4+88m180YOg03AgbYqcswW0YX0Rrydm/gnT7W98UmCNhGEGntq1eFgEJAIaAQSB2BkCcdlDivm0quE0cwzN8PRC8QGPkv4CppcdRmqG4/dwsgEaPVI1jLX3OAZ9oBPVYD71C7JFIgc5TAl32FW+NmXheSjunJwqw5//4brRafun8D1G6hf8szbQQqTBbgUo0qCgGFgEJAIeA6AiFPOnizZI4VVcIfgUl7rESDIbBfDRTouw7I2h6onmzJxRkk6FxbbgyQsRmw306k0crDQMamwLANAPVcCo6iyqkAt6uiEPA1AnFxwBWbDMm+7k+1rxDwFwIhTzr8BZTqJ/AIcGnkTaa7ryMQtcCaCTaikcDoza6PjTovzKNTaGRiNIxtK8f+A17pKPB4M4FnW5DsAN1WIcUEcbb11XuFgLsIrD4O1J4FfNnLvhKvu+2qegqBYEBAkY5gOAtqDE4jMH4H8N0gqwOoprGiZdl1uhEABjOwaD9wKJmEum0b648DFWcIFB4nnBKHs62r3isE3EFg/n6BJ6KAl0h4W1JJOVEJ2Z32VB2FgKsIGI1GmS151KhRrlZ16nhFOpyCSR0UTAjojMD8Q8DCw1Y12mAamxqLQsBdBOhX9mFva7TUT0OBVgzrbwA0m6+ciNzFVNVzHQGDwYDKVSqjWbNmrld2ooYiHU6ApA5RCCgEFAK+RqA5SUZT4LlogY/6WMP3K06y5k0avdXXvav2FQKJCDAJ4YPYVHQIEg936Z0iHS7BpQ5WCCgEFALeR2DtMUj/oZKTBGrNAJ5pD1y6B5nI8aMeQPqmAJNPqqIQCHUEFOlw8QwGWqMhzgwcvwbo41wceLLDGfVjmzQv2W71USGgEPATAtSc+aI38FwLa/qETsuA9C2BfVesA9h6Fngl2urM3G8tYPLwt++naaluFAJ2EUizpIMy5ZduAYcvQ6pu7r4AbDoDzD8I9FgP7E3mYMiU6dFLgLITEzPSUkCq/QqrGqq9jLF2EXdxY481wNAtiZXWnGBCOCElvRO3uvbu4m1IbYvWS1yrp45WCCgEvI9AFJdV6gr0XG313Wi3mNmfga02odz/ngY+6CkQUZs6NcrHw/tnQbXoLwTSJOlg2nlKar/QEnitA/B0a+AR5uOItP7YIxoIDF6f9BSsPARENBQoMQ4wma37GEnBiwCPb7gQMMZvt615/T6w/az9fbbHHb8KrDqBJMJTTD72fnegyOTEi0zfNVZlzPUnrbWZkG1zzMPtbzkDTP7/9u4EOqvyzuN4REFZVEYUHFEc62ir5WjndErL2NFS9UjVOVXb6SljF1rqCANCSEKmJxNRAAAREklEQVSABAiQsMseQHZkkYIkhF0QkR1FDGErOyK7QNgRlPL/znnem/S+CeHlTbiBaH73nJj73vvc597382Lyz7P918CUHEhfDoOXwCd5q4yG6ogFtziaNglI4PoJ5J6FBzoZD/SAU3nJFVPd8vxvGEt2FXyuz45A3DR4V//fFoTRq2+UQLkMOvYdg6ZT4fmRcFOc8e99IGEWdJoP/5luNM8AN0PC/arfdxJcQrTeC6BCrDF9ox8AfPk1ZG2Cuj295HLZYX+Z5P8r6DrfQnlNduQ1leYfL/y9aSZ8tzucCBu7c/gM3J8Gf8n0S8dmGNUSjZy8lpicfVBvkLEvbCGhKWugdkejUhujYoJ5wVRz456uXgZVl7/kodSC1/h30J4EJHCtBNwfKq4Fddxq/+dK/yXerJWsjdfqKXQfCVw7gXIZdOTzNs2Au7rC9sP5R6BBOrz6juH+AvnDJLjJJfoaC8+PgjuTYVWhvz7clat3w+8nGQdO+T843HE37uKng+HujsbOsHv4d/P3XpkMdZLhwDH/mAt47uoMr4UFHa9OhNvaG5/lJaZLec9rrclPW7/tsLfolcsZ4vKSjFgKyzbB6BXQIgs+2Q33djPq99bS77609iRQdgSmrHUtHdBrUdl5Jj2JBIISKLdBh5sTX6MDxM/yKc+cgcd6wJ+nwIItbt/4zWio149QdtI6XWDrAb/8iXOw4nPY8oV/LHxvRy5U62DU62u4wWKRtqQ5cGsiLN/pl3KBRLWO0CQs6Pj121Al0ZiyDoavhNvbGXVSjF1HvesGLPa6X25tYzzaGwavhA0HvXMf74YnQwtrGQ36KejwpbUngbIjsO6A1837p/Fl55n0JBIISqDcBh2udcJ1l4xa6bdOuF/Od3aEdlle98qeI3DuKxi+DO7oYDzY1TiU98t91Ar4nks6Fg+3d4AP88ZYhH8w2XugQivjl8MttAJm+LnC+5M/dsECjAkbNOpaOiq2g8bhQcd4uKG14Zb/dmNJKrcxHurst6S0nAYV4uCeFKNWB8PlKbm3k/HMYIhJMG5ONG5rZzQcAKfOFX4KvZaABK63wPHz8LDLbJxqfKG8Utf749D9AxYot0GHy6jqfnH3/dAPOjI3WCip14hF0GU2vDIU6r8JVd1A0zjj8Z5wNC81ev9F8PMhxqMutXqsMfzjSz+ZrA3egLAmb/v3uLSUd8SNTndjMGKnea/X7YfkuV6Cs8ZT/ateGgcVE+ClUUaX+YZbufCuRCN/zEjSbO+edyZZKHfIS2PccxsPdDH+ONkYuARuT4JX3oKLF/16tScBCZQdgQ5uBksLC/3BU3aeSk8igasXKLdBx8ZDULmd8WAajF8FO45C/AxCrQCzN8BTb8ETg6DxROjzPnwnFe5NNY6G/eWx8wjcn0poYGfydHhnFUxZBU2mGq3nQu9FXur01nmBRKSP68gZqN/HQknIGo6E2p3hljYWao15bbp/pQs63HEXlLjtv0ZB9Thje14XipvTXyMJYl5z3Tpw4ks4lLfIkCs/0rWoNDXaz/Su138lIIGyJ+ByAtVONmp1hu15ratl7yn1RBIovkC5DToclRsT8c8d4OY4cL/MH+tt3J9q/Gq0UTPJmP83H7TDXGg1s2CLRfwMww3YdLNJquRlInVdJK4F5X/fcTkTvFaHtPf9eiLtvTHVQlPlbog1aqYY7WcbleKNpmEBQuN3vBk3bgVDtzUYCtXjjW1hY01mboDmk7lkLQ+3lsiLw6FiK2PB5khPonMSkMD1FnCzWmJeNxqNhZ1HobTWArre71P3L18C5TrocB/1rE3wiOs/7Q63tTVujvfGSvxpIhw/C24F0q7z4Lt9oOEIb80Nd50bPHp/ioVaHdLeg4VbISMHJn3iLTLmyjSb7CVvGhfl8sVu+usj3aBSnPGjQd7CYzfEQdoH/j/KhEw3PdeYs947lh905Hev+CUv3Tt2Buq6lpl2hltkTJsEJFB2BdwMuqfTvQXBaiVBzt6y+6x6MglEK1Dug44hboxDG+PeFKNumvHcEBj9kb/UsFsIrMU0+PlgLxh4YbRHO9B1nTQ3fvX2pdRuporrWvm3Xl7QsXTHpWUud2TxNm9GyrMDjPpvGhXbGJ987pcesRKqt7fQNF13tOEIo1IrY25Yq4xf2t9zAdSvxxnVEoxb4i3UbaQxHb6P9iRQFgV258LvJkDzd+Fo2Bo+ZfFZ9UwSiEag3Acda/dAxhrI3gvbjvirjRbGc1Ns3WBMN97Cbb3e82abTP60YElX7of94V9SodNco91sCy00VrBU5FeuK8fNNKna3uixoOAqpUfPwvIdcCFvEGin+RZaQrl6W2NKhBYV9wOr7Rz4n/HGzQnGq+PUXBv5U9BZCUhAAhIIWqDcBx3Rgi7eAhVbG73yujrezYabYo1GEwqO8xi30ptxMm2tX7NrLXHdOPM2+8GCf/bSPbsIq/bCurzBoZeW8I+4aa8JWfB4D+PtCEFH/hWDVnh5HtKXekdWfAavT4CZYc+bX1bfJSABCUhAAkEKKOiIUrPdTNftAUu3w8RscAuFuVUDO88tWEHidKieDH876K31MXENPOHWyGhqPNYLjpdSE2nB0KfgM+W/umjwyzFwS4IxLQfcQmI1ko2YJkaLsGm5+eX1XQIS+HYKuOXXD576dr43vauyLaCgI4rP58LX3vLoVRONpwdATCxUjDfSFngDTcOriM2AG+KNV8caT/b3AhNX9hcjYP6Wgl0l4dddi303ffaxblDDTRVO9dYBcANnfzvBGx1/LZ5B95CABAoKHDtLKO1CwaOl+2rrYXi8L8zMKd37qHYJFBZQ0FFYpIjXf78AjSdA1XjjjnbwwojLTzmdvxnuToEbW7tVQaH5VFi2w7zscUXUfS0PuSR2z6R7a4fc4RYIGw1zNoLrztEmAQlcH4HGk6F2exi+4tr9mHDJKl8Y5db8gfc2XZ/3rbuWTwEFHVF+7m4g5qJtsGE/XCgihX14NZsPeuM39uQlZQs/d733N38BQz+GNZ9rIOn1/ix0fwk4Afdz5ce9oVI8/DU7mo7SYNz2noDH+kCVBCNTY7qCQVUtVxRQ0HFFIhWQgAQkULoCJ8/B93saP3mrdO9TuPY9x+BH/aFmEuwtg38kFX5evf7mCyjo+OZ/hnoHEpDAN1Dg7Fdw+mv/wfsuN7p/6L++VnuHz8D4j8CNLdEmgdIWUNBR2sKqXwISkEARAgnz4Pv9YNFWOPllEQXCDn19Ec58FXaghLvnL0DLGcbLw40W02Hsajh0ooSV6TIJlEBAQUcJ0HSJBCQggasVmLUV6vZ1id2gbg8Yu4LLjiQdugzqvQkpM2F/hCDho8+g0ww4dpkgxqV16L/MeCLdeLinl1jy0e4wYTV8ru6Vq/1IdX0UAgo6okBSEQlIQAKlIeAWDvxoFyTNhLs7Gh9sLfouWTnwH/2gQpxRvz8cOF50uefHwINpxqnzRZ8vfLRVhpeg0uWduqcTRJsnqnA9ei2BaAUUdEQrpXISkIAESklgXy7U7mj8oBc0GkWRuZTOfQ3Tc7zElH0Xwb5j0HYGvDwSUubBpoNQvQv8Znx0DzljHVRuA02nwqe74dlh4BJMTlgT3fUqJYGSCCjoKImarpGABCQQkIBbGbT+QOPx3kZSlmvRMG5JgvmXyQT93BCj0TgYv8rrmqmTBjFx8NPBhPI1Ncu48oO5hQrdysQ/GwzH87piTp+D+gOgVmcll7uyoEqUVEBBR0nldJ0EJCCBqxQ4eBJ+Msi4NRlW7/EqO3QKanSC3433ElD2WgBvTIXkGfDfbxuVE4zfjoGTZyFnD+zP9VIaPNLd635xiR0jbftOQJ2uUDsFdh72S7qBqm7cyCN94HSU3TP+1dqTQHQCCjqic1IpCUhAAoEKuKmqzw4zvtPV/hFwuBsMWwHVk4yMdV6CyEZj4L6OcFOcUSXRqN8X5m4iNG7j6XTj0Z6Evu5KMiq0NrovjPyY/d73UiAUThDpgo6e82HjIf/6v1+7tcr8m2rvWy2goONb/fHqzUlAAmVRYN9xeHk0xDQ3XkyH0Qth4DwYthDq9THuSzE6ZHrZn89/BSOWwj8lGVlr4fw57x1duAhjVhovjoaW0yFpDsS0goGLI7/jZpPgx/0LlTFvSu6J894gVZceockk6P1+oXJ6KYGrFFDQcZWAulwCEpBAcQUycyyU96RyslEt2ajQxrgxwbg10fuqmmDEtLZQy4Oru9MceLQzWFgKBhd0hG8fbocbWsGkNZdvnrh4ETKyof0s6L4UWs0y/vwO/GIk/HAAPJRq1Ey0UPByU2voo6AjnFj7AQgo6AgAUVVIQAISKI7AiXOwbCcs2+V9Ld3hJV+s1dl4wi0YthFWfgZn81Ys7TIPboxz3R9GRg78cQK0zoAC3R8G2Z9740CKeha3RkfsDKjR3qjW1suAHdPMiHnDqJho3JkCdXuB67J5PRM+3FKo/qIq1TEJFFNAQUcxwVRcAhKQQGkIrD8IFeMgdcGltbuFu54bblSJg2rxcEcy9F4ILpBwm1sM7NM9sGaX15KRvsyYtdEbE5Jfmyvrxmw0/ysMXQ7T1sIHm2H5Tli7H/YcB5d9VpsESlNAQUdp6qpuCUhAAlEK/F8GVE2ELWEzSsIvdVNaF2+B2ethV6EyY1Z5i3zFtPS6RmJijaptIHN9eA1X3s+9zEqmV75SJSQQnYCCjuicVEoCEpBAqQm8vwXuam/8aw+vBeLw6eLdancuuNkok9bCnC3QLMNwAcigJdHVs3IXPDvEeCTNaJAOrrtHmwRKQ0BBR2moqk4JSEACUQrszIUH0qBigtdt4ma0NJvmX+y6RdzsFdcNEu321FDj9rbGur1XvmL/Sajb24hpYdyZbNyWZDw5AHKVdfbKeCpRbAEFHcUm0wUSkIAEghM4dQ4mfgrvbSHUMuHW2mid5c1AcblZ4jIh5nUYtDy6e07JdlNx4feTLj+LJbwmN2C1ensLfbmum8QMb1XSHUfCS2lfAsEIKOgIxlG1SEACErhqgb9Mgfs6w5FTkHsG/jDRLeQFCTPB5V650uamxL48ykJTZ90U2mg2N3i0wTCo0g76LzK+1814ZrBWJY3GTmWKL6Cgo/hmukICEpBA4AK5p6FGstFwKAxZAQ93c4NCjW7zo7/Vqp1QqY3xs3T46kL012Wth+rJbvos1OxozNkQ/bUqKYHiCCjoKI6WykpAAhIoJQE3O+WpQXnrZ7SEH7wJmeuKdzO3iFjM68bUT6PrWgmvPXsPzM2GdfvCj2pfAsEKKOgI1lO1SUACEiixwN4TMHsjLNwOZ0qQdG3NXhix6vILhJX4wXShBAISUNAREKSqkYAEJCABCUggsoCCjsg+OisBCUhAAhKQQEACCjoCglQ1EpCABCQgAQlEFlDQEdlHZyUgAQlIQAISCEhAQUdAkKpGAhKQgAQkIIHIAgo6IvvorAQkIAEJSEACAQko6AgIUtVIQAISkIAEJBBZQEFHZB+dlYAEJCABCUggIAEFHQFBqhoJSEACEpCABCILKOiI7KOzEpCABCQgAQkEJKCgIyBIVSMBCUhAAhKQQGQBBR2RfXRWAhKQgAQkIIGABBR0BASpaiQgAQlIQAISiCygoCOyj85KQAISkIAEJBCQgIKOgCBVjQQkIAEJSEACkQUUdET20VkJSEACEpCABAISUNAREKSqkYAEJCABCUggsoCCjsg+OisBCUhAAhKQQEACCjoCglQ1EpCABCQgAQlEFlDQEdlHZyUgAQlIQAISCEhAQUdAkKpGAhKQgAQkIIHIAgo6IvvorAQkIAEJSEACAQko6AgIUtVIQAISkIAEJBBZ4P8BHd7sHucLcdwAAAAASUVORK5CYII=)"
      ],
      "metadata": {
        "id": "B4vEMk5G_bqm"
      }
    },
    {
      "cell_type": "markdown",
      "source": [
        "단순신경망:은닉층이 없은 한개의 신경망으로 구성된 모델"
      ],
      "metadata": {
        "id": "T9_R3yZC_xoS"
      }
    },
    {
      "cell_type": "code",
      "source": [
        "from keras.api._v2.keras import activations\n",
        "# 밀집층을 구성하고\n",
        "dense = keras.layers.Dense(10,activation='softmax',input_shape=(28*28,))\n",
        "# 밀집층을 연결해준다.\n",
        "model = keras.Sequential(dense)"
      ],
      "metadata": {
        "id": "LFdrgxC__AiO"
      },
      "execution_count": 32,
      "outputs": []
    },
    {
      "cell_type": "code",
      "source": [
        "# 이진분류 : binary_crossentropy\n",
        "# 다중분류 : categorical_crossentropy(타겟이 one-hot이면)\n",
        "#            타겟이 one-hot으로 인코딩되어 있지 않으면  sparse_categorical_crossentropy\n",
        "model.compile(loss = \"sparse_categorical_crossentropy\", metrics='accuracy')"
      ],
      "metadata": {
        "id": "r6pn_CPhA0kl"
      },
      "execution_count": 39,
      "outputs": []
    },
    {
      "cell_type": "code",
      "source": [
        "model.fit(x_train_scaled.reshape(-1,28*28),y_train,epochs=5)"
      ],
      "metadata": {
        "colab": {
          "base_uri": "https://localhost:8080/"
        },
        "id": "DRZvVcjhCBR7",
        "outputId": "a36330df-a404-4ce1-9773-c84410d5c68e"
      },
      "execution_count": 40,
      "outputs": [
        {
          "output_type": "stream",
          "name": "stdout",
          "text": [
            "Epoch 1/5\n",
            "1875/1875 [==============================] - 4s 2ms/step - loss: 0.5814 - accuracy: 0.8019\n",
            "Epoch 2/5\n",
            "1875/1875 [==============================] - 3s 2ms/step - loss: 0.4658 - accuracy: 0.8423\n",
            "Epoch 3/5\n",
            "1875/1875 [==============================] - 5s 2ms/step - loss: 0.4439 - accuracy: 0.8485\n",
            "Epoch 4/5\n",
            "1875/1875 [==============================] - 3s 2ms/step - loss: 0.4330 - accuracy: 0.8541\n",
            "Epoch 5/5\n",
            "1875/1875 [==============================] - 3s 2ms/step - loss: 0.4256 - accuracy: 0.8550\n"
          ]
        },
        {
          "output_type": "execute_result",
          "data": {
            "text/plain": [
              "<keras.callbacks.History at 0x7bb3c9b1f010>"
            ]
          },
          "metadata": {},
          "execution_count": 40
        }
      ]
    },
    {
      "cell_type": "code",
      "source": [
        "model.fit(x_train_scaled.reshape(-1,28*28),y_train,epochs=5)"
      ],
      "metadata": {
        "colab": {
          "base_uri": "https://localhost:8080/"
        },
        "id": "TOequpmlDik8",
        "outputId": "b2410343-e2cb-439e-ae30-9dd82e35dade"
      },
      "execution_count": 41,
      "outputs": [
        {
          "output_type": "stream",
          "name": "stdout",
          "text": [
            "Epoch 1/5\n",
            "1875/1875 [==============================] - 4s 2ms/step - loss: 0.4213 - accuracy: 0.8582\n",
            "Epoch 2/5\n",
            "1875/1875 [==============================] - 3s 2ms/step - loss: 0.4172 - accuracy: 0.8599\n",
            "Epoch 3/5\n",
            "1875/1875 [==============================] - 3s 2ms/step - loss: 0.4146 - accuracy: 0.8603\n",
            "Epoch 4/5\n",
            "1875/1875 [==============================] - 4s 2ms/step - loss: 0.4121 - accuracy: 0.8611\n",
            "Epoch 5/5\n",
            "1875/1875 [==============================] - 3s 2ms/step - loss: 0.4100 - accuracy: 0.8627\n"
          ]
        },
        {
          "output_type": "execute_result",
          "data": {
            "text/plain": [
              "<keras.callbacks.History at 0x7bb3c9eaea40>"
            ]
          },
          "metadata": {},
          "execution_count": 41
        }
      ]
    },
    {
      "cell_type": "code",
      "source": [
        "model.evaluate(x_test_scaled.reshape(-1,28*28), y_test)"
      ],
      "metadata": {
        "colab": {
          "base_uri": "https://localhost:8080/"
        },
        "id": "Nyevk6e5ClKE",
        "outputId": "79ded065-28fb-4009-a362-fb6fb8c29bca"
      },
      "execution_count": 43,
      "outputs": [
        {
          "output_type": "stream",
          "name": "stdout",
          "text": [
            "313/313 [==============================] - 1s 3ms/step - loss: 0.4613 - accuracy: 0.8453\n"
          ]
        },
        {
          "output_type": "execute_result",
          "data": {
            "text/plain": [
              "[0.4612985849380493, 0.845300018787384]"
            ]
          },
          "metadata": {},
          "execution_count": 43
        }
      ]
    },
    {
      "cell_type": "code",
      "source": [
        "np.argmax(model.predict(x_test_scaled[0].reshape(1,-1) ))\n"
      ],
      "metadata": {
        "colab": {
          "base_uri": "https://localhost:8080/"
        },
        "id": "jEwtv7b1EBKo",
        "outputId": "8471a23f-62c6-4746-c018-f11eb5944c11"
      },
      "execution_count": 50,
      "outputs": [
        {
          "output_type": "stream",
          "name": "stdout",
          "text": [
            "1/1 [==============================] - 0s 22ms/step\n"
          ]
        },
        {
          "output_type": "execute_result",
          "data": {
            "text/plain": [
              "9"
            ]
          },
          "metadata": {},
          "execution_count": 50
        }
      ]
    },
    {
      "cell_type": "code",
      "source": [
        "plt.imshow(x_test_scaled[0],cmap='gray_r')"
      ],
      "metadata": {
        "colab": {
          "base_uri": "https://localhost:8080/",
          "height": 448
        },
        "id": "__uHwQ3yEU1A",
        "outputId": "921404f3-b891-4f95-dc1a-852b44314a2b"
      },
      "execution_count": 51,
      "outputs": [
        {
          "output_type": "execute_result",
          "data": {
            "text/plain": [
              "<matplotlib.image.AxesImage at 0x7bb3c9eac5e0>"
            ]
          },
          "metadata": {},
          "execution_count": 51
        },
        {
          "output_type": "display_data",
          "data": {
            "text/plain": [
              "<Figure size 640x480 with 1 Axes>"
            ],
            "image/png": "[encoded data removed]"
          },
          "metadata": {}
        }
      ]
    },
    {
      "cell_type": "markdown",
      "source": [
        "f.npy 에서 읽은 과일 데이터를 분리하는 신경망 모델 만들기"
      ],
      "metadata": {
        "id": "8bPPJX8rFUXw"
      }
    },
    {
      "cell_type": "code",
      "source": [
        "f_data = np.load('f.npy')"
      ],
      "metadata": {
        "id": "mObQNthuFI2-"
      },
      "execution_count": 52,
      "outputs": []
    },
    {
      "cell_type": "code",
      "source": [
        "f_data.shape"
      ],
      "metadata": {
        "colab": {
          "base_uri": "https://localhost:8080/"
        },
        "id": "FVtWIV3BE6Y3",
        "outputId": "6b5af0a4-78e2-4627-cc44-f208b45bede2"
      },
      "execution_count": 53,
      "outputs": [
        {
          "output_type": "execute_result",
          "data": {
            "text/plain": [
              "(300, 100, 100)"
            ]
          },
          "metadata": {},
          "execution_count": 53
        }
      ]
    },
    {
      "cell_type": "code",
      "source": [
        "# 이미지데이터는 255로 나눠서 스케일링 함\n",
        "# 데이터 나누기(학습,테스트)\n",
        "# 밀집층(Dense)\n",
        "# Sequence로 연결해서 모델\n",
        "# model compile : 학습을 어떻게 할지?(손실함수, 평가방법)\n",
        "# fit : 학습(epoch 수)\n",
        "# evaluate : 평가 - 과적합유무\n",
        "# 예측 : predict"
      ],
      "metadata": {
        "id": "hFthcMWRF5_Z"
      },
      "execution_count": 55,
      "outputs": []
    },
    {
      "cell_type": "code",
      "source": [
        "f_data_scaled = f_data / 255.0"
      ],
      "metadata": {
        "id": "YuUi9MuXGZUa"
      },
      "execution_count": 57,
      "outputs": []
    },
    {
      "cell_type": "code",
      "source": [
        "f_data_scaled.shape"
      ],
      "metadata": {
        "colab": {
          "base_uri": "https://localhost:8080/"
        },
        "id": "ueLktz-rG4oQ",
        "outputId": "e3b6bf2d-2ce7-41b7-a639-af13ed9818f0"
      },
      "execution_count": 58,
      "outputs": [
        {
          "output_type": "execute_result",
          "data": {
            "text/plain": [
              "(300, 100, 100)"
            ]
          },
          "metadata": {},
          "execution_count": 58
        }
      ]
    },
    {
      "cell_type": "code",
      "source": [
        "target = [0]*100 + [1]*100 + [2]*100"
      ],
      "metadata": {
        "id": "rtVIwTxFG_-m"
      },
      "execution_count": 59,
      "outputs": []
    },
    {
      "cell_type": "code",
      "source": [
        "from sklearn.model_selection import train_test_split"
      ],
      "metadata": {
        "id": "VVRHEJagHGyO"
      },
      "execution_count": 60,
      "outputs": []
    },
    {
      "cell_type": "code",
      "source": [
        "x_train,x_test,y_train,y_test =  train_test_split(f_data_scaled,target,random_state=42)\n",
        "x_train.shape"
      ],
      "metadata": {
        "colab": {
          "base_uri": "https://localhost:8080/"
        },
        "id": "YfGo7oUxHRC3",
        "outputId": "56f3056e-ce14-438c-a3cb-dff2376959a9"
      },
      "execution_count": 62,
      "outputs": [
        {
          "output_type": "execute_result",
          "data": {
            "text/plain": [
              "(225, 100, 100)"
            ]
          },
          "metadata": {},
          "execution_count": 62
        }
      ]
    },
    {
      "cell_type": "code",
      "source": [
        "Dense = keras.layers.Dense(3,activation = 'softmax',input_shape=(100*100, ))\n",
        "model = keras.Sequential(Dense)\n",
        "model.compile(loss='sparse_categorical_crossentropy',metrics='accuracy')"
      ],
      "metadata": {
        "id": "_q0l5TLNHZZf"
      },
      "execution_count": 84,
      "outputs": []
    },
    {
      "cell_type": "code",
      "source": [
        "model.fit(x_train.reshape(-1,100*100),np.array(y_train),epochs=5)"
      ],
      "metadata": {
        "colab": {
          "base_uri": "https://localhost:8080/"
        },
        "id": "3tY4_kX6IIWD",
        "outputId": "54d759ad-65a5-4348-9e79-660422000ec9"
      },
      "execution_count": 85,
      "outputs": [
        {
          "output_type": "stream",
          "name": "stdout",
          "text": [
            "Epoch 1/5\n",
            "8/8 [==============================] - 1s 6ms/step - loss: 2.3179 - accuracy: 0.4311\n",
            "Epoch 2/5\n",
            "8/8 [==============================] - 0s 7ms/step - loss: 0.6931 - accuracy: 0.6889\n",
            "Epoch 3/5\n",
            "8/8 [==============================] - 0s 6ms/step - loss: 0.3273 - accuracy: 0.8889\n",
            "Epoch 4/5\n",
            "8/8 [==============================] - 0s 6ms/step - loss: 0.2853 - accuracy: 0.8933\n",
            "Epoch 5/5\n",
            "8/8 [==============================] - 0s 5ms/step - loss: 0.0402 - accuracy: 1.0000\n"
          ]
        },
        {
          "output_type": "execute_result",
          "data": {
            "text/plain": [
              "<keras.callbacks.History at 0x7bb3938c9a20>"
            ]
          },
          "metadata": {},
          "execution_count": 85
        }
      ]
    },
    {
      "cell_type": "code",
      "source": [
        "model.evaluate(x_test.reshape(-1,100*100),np.array(y_test))"
      ],
      "metadata": {
        "colab": {
          "base_uri": "https://localhost:8080/"
        },
        "id": "gr_b8toaIVBJ",
        "outputId": "9cf7ed9a-dd04-487f-83e4-56aef5417849"
      },
      "execution_count": 86,
      "outputs": [
        {
          "output_type": "stream",
          "name": "stdout",
          "text": [
            "3/3 [==============================] - 0s 5ms/step - loss: 0.0404 - accuracy: 1.0000\n"
          ]
        },
        {
          "output_type": "execute_result",
          "data": {
            "text/plain": [
              "[0.04038118198513985, 1.0]"
            ]
          },
          "metadata": {},
          "execution_count": 86
        }
      ]
    },
    {
      "cell_type": "code",
      "source": [],
      "metadata": {
        "id": "rsB3N_WTJoh2"
      },
      "execution_count": null,
      "outputs": []
    }
  ]
}