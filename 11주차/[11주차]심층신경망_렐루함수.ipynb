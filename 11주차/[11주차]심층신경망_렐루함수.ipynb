{
  "nbformat": 4,
  "nbformat_minor": 0,
  "metadata": {
    "colab": {
      "provenance": []
    },
    "kernelspec": {
      "name": "python3",
      "display_name": "Python 3"
    },
    "language_info": {
      "name": "python"
    }
  },
  "cells": [
    {
      "cell_type": "markdown",
      "source": [
        "활성화함수\n",
        "  - 계단함수\n",
        "    - 임계치가 넘어가면 1 그렇지 않으면 0 (비 연속적)\n",
        "  - 시그모이드\n",
        "    - 0 ~ 1사이의 연속적인 값으로 변경(연속적)\n",
        "    - 기울기 소멸문제(미분값이 매우 작아짐)\n",
        "      - 학습이 안됨(뉴런이 비활성화)\n",
        "  - 렐루\n",
        "    - 0보다크면 입력받은 그대로 출력, but 0으로 수렴\n",
        "    - 입력이 음수이면 출력이 0, 그래서 일부 뉴런이 비활성화 됨\n",
        "  - 리키렐루\n",
        "    - 음수인경우 아주작은 값을 더해서 0가 되는것을 방지"
      ],
      "metadata": {
        "id": "Na-95XmR9BFD"
      }
    },
    {
      "cell_type": "markdown",
      "source": [
        "![image.png](data:image/png;base64,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)"
      ],
      "metadata": {
        "id": "JJYawce581Qq"
      }
    },
    {
      "cell_type": "code",
      "execution_count": 1,
      "metadata": {
        "id": "FfCf2wUx8tOd"
      },
      "outputs": [],
      "source": [
        "# 데이터 : 패션 mnist\n",
        "# 신경망 : 심층신경망\n",
        "# 활성화 함수 : relu"
      ]
    },
    {
      "cell_type": "code",
      "source": [
        "from tensorflow import keras"
      ],
      "metadata": {
        "id": "sqi00Lw4-zJj"
      },
      "execution_count": 2,
      "outputs": []
    },
    {
      "cell_type": "code",
      "source": [
        "(x_train,y_train),(x_test,y_test) = keras.datasets.fashion_mnist.load_data()"
      ],
      "metadata": {
        "colab": {
          "base_uri": "https://localhost:8080/"
        },
        "id": "okH81sky_PEv",
        "outputId": "8d5cff81-a882-46d7-df2d-fa4901d0caf6"
      },
      "execution_count": 3,
      "outputs": [
        {
          "output_type": "stream",
          "name": "stdout",
          "text": [
            "Downloading data from https://storage.googleapis.com/tensorflow/tf-keras-datasets/train-labels-idx1-ubyte.gz\n",
            "29515/29515 [==============================] - 0s 0us/step\n",
            "Downloading data from https://storage.googleapis.com/tensorflow/tf-keras-datasets/train-images-idx3-ubyte.gz\n",
            "26421880/26421880 [==============================] - 0s 0us/step\n",
            "Downloading data from https://storage.googleapis.com/tensorflow/tf-keras-datasets/t10k-labels-idx1-ubyte.gz\n",
            "5148/5148 [==============================] - 0s 0us/step\n",
            "Downloading data from https://storage.googleapis.com/tensorflow/tf-keras-datasets/t10k-images-idx3-ubyte.gz\n",
            "4422102/4422102 [==============================] - 0s 0us/step\n"
          ]
        }
      ]
    },
    {
      "cell_type": "code",
      "source": [
        "x_train_scaled = x_train / 255.0\n",
        "x_test_scaled = x_test / 255.0"
      ],
      "metadata": {
        "id": "0WUkFKkZ_gEP"
      },
      "execution_count": 4,
      "outputs": []
    },
    {
      "cell_type": "markdown",
      "source": [
        "활성화 함수로 relu 적용"
      ],
      "metadata": {
        "id": "8sudimnIAf73"
      }
    },
    {
      "cell_type": "code",
      "source": [
        "model = keras.Sequential()\n",
        "model.add(keras.layers.Flatten(input_shape=(28,28)) )\n",
        "model.add(keras.layers.Dense(100,activation='relu'))\n",
        "model.add(keras.layers.Dense(10,activation='softmax'))\n",
        "model.summary()"
      ],
      "metadata": {
        "colab": {
          "base_uri": "https://localhost:8080/"
        },
        "id": "IZNcTPPx_pGu",
        "outputId": "d9e68ae2-b6b5-48cc-8e57-5b8595156713"
      },
      "execution_count": 8,
      "outputs": [
        {
          "output_type": "stream",
          "name": "stdout",
          "text": [
            "Model: \"sequential_3\"\n",
            "_________________________________________________________________\n",
            " Layer (type)                Output Shape              Param #   \n",
            "=================================================================\n",
            " flatten_3 (Flatten)         (None, 784)               0         \n",
            "                                                                 \n",
            " dense_6 (Dense)             (None, 100)               78500     \n",
            "                                                                 \n",
            " dense_7 (Dense)             (None, 10)                1010      \n",
            "                                                                 \n",
            "=================================================================\n",
            "Total params: 79,510\n",
            "Trainable params: 79,510\n",
            "Non-trainable params: 0\n",
            "_________________________________________________________________\n"
          ]
        }
      ]
    },
    {
      "cell_type": "markdown",
      "source": [
        "컴파일 - 어떻게 학습할 것인지"
      ],
      "metadata": {
        "id": "8USEJMD4AiqO"
      }
    },
    {
      "cell_type": "code",
      "source": [
        "model.compile(loss='sparse_categorical_crossentropy',metrics='accuracy')"
      ],
      "metadata": {
        "id": "1p9wpstHAkpD"
      },
      "execution_count": 9,
      "outputs": []
    },
    {
      "cell_type": "markdown",
      "source": [
        "학습"
      ],
      "metadata": {
        "id": "3rjgW-nbA9dP"
      }
    },
    {
      "cell_type": "code",
      "source": [
        "model.fit(x_train_scaled,y_train,epochs=5)"
      ],
      "metadata": {
        "colab": {
          "base_uri": "https://localhost:8080/"
        },
        "id": "4Y2YrNyEA8H5",
        "outputId": "741222d0-883e-4e7b-d449-db2a5714351c"
      },
      "execution_count": 10,
      "outputs": [
        {
          "output_type": "stream",
          "name": "stdout",
          "text": [
            "Epoch 1/5\n",
            "1875/1875 [==============================] - 6s 3ms/step - loss: 0.5055 - accuracy: 0.8204\n",
            "Epoch 2/5\n",
            "1875/1875 [==============================] - 4s 2ms/step - loss: 0.3782 - accuracy: 0.8642\n",
            "Epoch 3/5\n",
            "1875/1875 [==============================] - 4s 2ms/step - loss: 0.3457 - accuracy: 0.8754\n",
            "Epoch 4/5\n",
            "1875/1875 [==============================] - 5s 3ms/step - loss: 0.3259 - accuracy: 0.8821\n",
            "Epoch 5/5\n",
            "1875/1875 [==============================] - 4s 2ms/step - loss: 0.3147 - accuracy: 0.8871\n"
          ]
        },
        {
          "output_type": "execute_result",
          "data": {
            "text/plain": [
              "<keras.callbacks.History at 0x79e75b44eb30>"
            ]
          },
          "metadata": {},
          "execution_count": 10
        }
      ]
    },
    {
      "cell_type": "markdown",
      "source": [
        "옵티마이져\n",
        "  - https://wikidocs.net/152765"
      ],
      "metadata": {
        "id": "tNw5PDf1BefP"
      }
    },
    {
      "cell_type": "code",
      "source": [
        "model = keras.Sequential()\n",
        "model.add(keras.layers.Flatten(input_shape=(28,28)) )\n",
        "model.add(keras.layers.Dense(100,activation='relu'))\n",
        "model.add(keras.layers.Dense(10,activation='softmax'))\n",
        "model.summary()\n",
        "model.compile(optimizer='adam',loss='sparse_categorical_crossentropy',metrics='accuracy')\n",
        "model.fit(x_train_scaled,y_train,epochs=5)"
      ],
      "metadata": {
        "colab": {
          "base_uri": "https://localhost:8080/"
        },
        "id": "tEeJnWAKBEU-",
        "outputId": "19636c73-a48d-4b9e-9fe8-c449146bbcf8"
      },
      "execution_count": 11,
      "outputs": [
        {
          "output_type": "stream",
          "name": "stdout",
          "text": [
            "Model: \"sequential_4\"\n",
            "_________________________________________________________________\n",
            " Layer (type)                Output Shape              Param #   \n",
            "=================================================================\n",
            " flatten_4 (Flatten)         (None, 784)               0         \n",
            "                                                                 \n",
            " dense_8 (Dense)             (None, 100)               78500     \n",
            "                                                                 \n",
            " dense_9 (Dense)             (None, 10)                1010      \n",
            "                                                                 \n",
            "=================================================================\n",
            "Total params: 79,510\n",
            "Trainable params: 79,510\n",
            "Non-trainable params: 0\n",
            "_________________________________________________________________\n",
            "Epoch 1/5\n",
            "1875/1875 [==============================] - 7s 4ms/step - loss: 0.4964 - accuracy: 0.8249\n",
            "Epoch 2/5\n",
            "1875/1875 [==============================] - 6s 3ms/step - loss: 0.3793 - accuracy: 0.8618\n",
            "Epoch 3/5\n",
            "1875/1875 [==============================] - 6s 3ms/step - loss: 0.3406 - accuracy: 0.8757\n",
            "Epoch 4/5\n",
            "1875/1875 [==============================] - 5s 3ms/step - loss: 0.3159 - accuracy: 0.8843\n",
            "Epoch 5/5\n",
            "1875/1875 [==============================] - 7s 4ms/step - loss: 0.2988 - accuracy: 0.8902\n"
          ]
        },
        {
          "output_type": "execute_result",
          "data": {
            "text/plain": [
              "<keras.callbacks.History at 0x79e74b79c7c0>"
            ]
          },
          "metadata": {},
          "execution_count": 11
        }
      ]
    }
  ]
}