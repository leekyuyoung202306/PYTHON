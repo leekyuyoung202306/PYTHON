{
  "nbformat": 4,
  "nbformat_minor": 0,
  "metadata": {
    "colab": {
      "provenance": []
    },
    "kernelspec": {
      "name": "python3",
      "display_name": "Python 3"
    },
    "language_info": {
      "name": "python"
    }
  },
  "cells": [
    {
      "cell_type": "markdown",
      "source": [
        "  - 단일변수 회귀\n",
        "  - 다변수 회귀분석"
      ],
      "metadata": {
        "id": "Upzr4rHQiGV-"
      }
    },
    {
      "cell_type": "markdown",
      "source": [
        "앙상블\n",
        "  - 의사결정 트리\n",
        "  - 랜덤포레스트\n",
        "  - 스태킹\n",
        "  - 베깅\n",
        "  - 부트팅"
      ],
      "metadata": {
        "id": "db12kEgwiV31"
      }
    },
    {
      "cell_type": "code",
      "source": [
        "from sklearn.ensemble import StackingRegressor"
      ],
      "metadata": {
        "id": "EQuvwhrGiPm2"
      },
      "execution_count": null,
      "outputs": []
    },
    {
      "cell_type": "code",
      "source": [
        "'''\n",
        "개별 모델이 예측한 데이터를 기반으로\n",
        "회귀모델을 여러개 만들고 각각 학습\n",
        "필요하면 하이퍼파라메터도 튜닝\n",
        "교차검증을 통해서 각 모델별 성능점수를 추출해서 상위 5개 이런식으로\n",
        "모델을리스트로 만들어서 -- estimators\n",
        "\n",
        "estimators = [\n",
        "  ('randomforest', rf),\n",
        "  ('extrtreegreg', ext),\n",
        "  ('xgboost', xgb)\n",
        "]\n",
        "\n",
        " StackingRegressor(estimators, final_estimator = xgb)\n",
        "\n",
        "'''"
      ],
      "metadata": {
        "id": "H1A4yAwTixk8"
      },
      "execution_count": null,
      "outputs": []
    },
    {
      "cell_type": "markdown",
      "source": [
        "데이콘 데이터 로드"
      ],
      "metadata": {
        "id": "tUUAt852M3Uh"
      }
    },
    {
      "cell_type": "code",
      "source": [
        "pip install rdkit"
      ],
      "metadata": {
        "colab": {
          "base_uri": "https://localhost:8080/"
        },
        "id": "HspkJs7hOn5B",
        "outputId": "91f95b63-e121-4eed-d265-ba3886927779"
      },
      "execution_count": 7,
      "outputs": [
        {
          "output_type": "stream",
          "name": "stdout",
          "text": [
            "Collecting rdkit\n",
            "  Downloading rdkit-2023.3.3-cp310-cp310-manylinux_2_17_x86_64.manylinux2014_x86_64.whl (29.7 MB)\n",
            "\u001b[2K     \u001b[90m━━━━━━━━━━━━━━━━━━━━━━━━━━━━━━━━━━━━━━━━\u001b[0m \u001b[32m29.7/29.7 MB\u001b[0m \u001b[31m28.5 MB/s\u001b[0m eta \u001b[36m0:00:00\u001b[0m\n",
            "\u001b[?25hRequirement already satisfied: numpy in /usr/local/lib/python3.10/dist-packages (from rdkit) (1.23.5)\n",
            "Requirement already satisfied: Pillow in /usr/local/lib/python3.10/dist-packages (from rdkit) (9.4.0)\n",
            "Installing collected packages: rdkit\n",
            "Successfully installed rdkit-2023.3.3\n"
          ]
        }
      ]
    },
    {
      "cell_type": "code",
      "source": [
        "import random\n",
        "import os\n",
        "\n",
        "import numpy as np\n",
        "import pandas as pd\n",
        "\n",
        "from sklearn.feature_selection import VarianceThreshold\n",
        "from sklearn.model_selection import train_test_split\n",
        "from rdkit import DataStructs\n",
        "from rdkit.Chem import PandasTools, AllChem\n",
        "\n",
        "import torch\n",
        "import torch.nn as nn\n",
        "from torch.utils.data import Dataset, DataLoader"
      ],
      "metadata": {
        "id": "_syPEYt8M4mQ"
      },
      "execution_count": 17,
      "outputs": []
    },
    {
      "cell_type": "code",
      "source": [
        "def seed_everything(seed):\n",
        "    random.seed(seed)\n",
        "    np.random.seed(seed)\n",
        "    os.environ[\"PYTHONHASHSEED\"] = str(seed)\n",
        "\n",
        "seed_everything(42) # Seed 고정"
      ],
      "metadata": {
        "id": "CdxQ7DrVNJ-I"
      },
      "execution_count": 9,
      "outputs": []
    },
    {
      "cell_type": "code",
      "source": [
        "!unzip '/content/drive/MyDrive/데이콘_신약개발/데이콘 신약데이터.zip'"
      ],
      "metadata": {
        "colab": {
          "base_uri": "https://localhost:8080/"
        },
        "id": "1Ic8gJscNgvH",
        "outputId": "0521a4b1-c322-4bd0-a5c8-765f0d4bfff9"
      },
      "execution_count": 3,
      "outputs": [
        {
          "output_type": "stream",
          "name": "stdout",
          "text": [
            "Archive:  /content/drive/MyDrive/데이콘_신약개발/데이콘 신약데이터.zip\n",
            "  inflating: sample_submission.csv   \n",
            "  inflating: test.csv                \n",
            "  inflating: train.csv               \n"
          ]
        }
      ]
    },
    {
      "cell_type": "code",
      "source": [
        "train = pd.read_csv('./train.csv')\n",
        "test = pd.read_csv('./test.csv')"
      ],
      "metadata": {
        "id": "bs1yB-RFNQrk"
      },
      "execution_count": 10,
      "outputs": []
    },
    {
      "cell_type": "code",
      "source": [
        "PandasTools.AddMoleculeColumnToFrame(train,'SMILES','Molecule')\n",
        "PandasTools.AddMoleculeColumnToFrame(test,'SMILES','Molecule')"
      ],
      "metadata": {
        "id": "SrCGKLHSNp2G"
      },
      "execution_count": 11,
      "outputs": []
    },
    {
      "cell_type": "code",
      "source": [
        "def mol2fp(mol):\n",
        "    fp = AllChem.GetHashedMorganFingerprint(mol, 6, nBits=4096)\n",
        "    ar = np.zeros((1,), dtype=np.int8)\n",
        "    DataStructs.ConvertToNumpyArray(fp, ar)\n",
        "    return ar"
      ],
      "metadata": {
        "id": "Ki4n0XXhNrwk"
      },
      "execution_count": 13,
      "outputs": []
    },
    {
      "cell_type": "code",
      "source": [
        "# FPs column 추가\n",
        "train[\"FPs\"] = train.Molecule.apply(mol2fp)\n",
        "test[\"FPs\"] = test.Molecule.apply(mol2fp)"
      ],
      "metadata": {
        "id": "D1pc7zvqO2sT"
      },
      "execution_count": 14,
      "outputs": []
    },
    {
      "cell_type": "code",
      "source": [
        "# 사용할 column만 추출\n",
        "train = train[['FPs','MLM', 'HLM']]\n",
        "test = test[['FPs']]"
      ],
      "metadata": {
        "id": "e-bTTrsPPEPs"
      },
      "execution_count": 15,
      "outputs": []
    },
    {
      "cell_type": "code",
      "source": [
        "class CustomDataset(Dataset):\n",
        "    def __init__(self, df, target, transform, is_test=False):\n",
        "        self.df = df\n",
        "        self.target = target # HLM or MLM\n",
        "        self.is_test = is_test # train,valid / test\n",
        "\n",
        "        self.feature_select = transform\n",
        "        if not self.is_test:\n",
        "            self.fp = self.feature_select.fit_transform(np.stack(df['FPs']))\n",
        "        else: # valid or test\n",
        "            self.fp = self.feature_select.transform(np.stack(df['FPs']))\n",
        "\n",
        "    def __getitem__(self, index):\n",
        "        fp = self.fp[index]\n",
        "        if not self.is_test: # test가 아닌 경우(label 존재)\n",
        "            label = self.df[self.target][index]\n",
        "            return torch.tensor(fp).float(), torch.tensor(label).float().unsqueeze(dim=-1) # feature, label\n",
        "\n",
        "        else: # test인 경우\n",
        "            return torch.tensor(fp).float() # feature\n",
        "\n",
        "    def __len__(self):\n",
        "        return len(self.df)"
      ],
      "metadata": {
        "id": "jk1ijrLoPKGN"
      },
      "execution_count": 19,
      "outputs": []
    },
    {
      "cell_type": "code",
      "source": [
        "transform = VarianceThreshold(threshold=0.05)\n",
        "\n",
        "train_MLM = CustomDataset(df=train, target='MLM', transform=transform, is_test=False)\n",
        "train_HLM = CustomDataset(df=train, target='HLM', transform=transform, is_test=False)\n",
        "\n",
        "input_size = train_MLM.fp.shape[1]\n",
        "input_size"
      ],
      "metadata": {
        "colab": {
          "base_uri": "https://localhost:8080/"
        },
        "id": "WFxv6XvhPLeW",
        "outputId": "074dfa6a-d9ba-4f01-ef34-fa4f452e9900"
      },
      "execution_count": 20,
      "outputs": [
        {
          "output_type": "execute_result",
          "data": {
            "text/plain": [
              "251"
            ]
          },
          "metadata": {},
          "execution_count": 20
        }
      ]
    },
    {
      "cell_type": "code",
      "source": [
        "# train,valid split\n",
        "train_MLM_dataset, valid_MLM_dataset = train_test_split(train_MLM, test_size=0.2, random_state=42)\n",
        "train_HLM_dataset, valid_HLM_dataset = train_test_split(train_HLM, test_size=0.2, random_state=42)"
      ],
      "metadata": {
        "id": "gtLTILpsP1Fk"
      },
      "execution_count": 21,
      "outputs": []
    },
    {
      "cell_type": "code",
      "source": [
        "# 예측모델 후보 - 랜덤포레스트 회귀\n",
        "from sklearn.ensemble import RandomForestRegressor\n",
        "rfr = RandomForestRegressor()\n"
      ],
      "metadata": {
        "id": "eihZMR9NQNU2"
      },
      "execution_count": 44,
      "outputs": []
    },
    {
      "cell_type": "code",
      "source": [
        "import tqdm\n",
        "for train_data,target in tqdm.tqdm( train_MLM_dataset):\n",
        "  rfr.fit(train_data.numpy().reshape(1,-1), target.numpy())"
      ],
      "metadata": {
        "colab": {
          "base_uri": "https://localhost:8080/"
        },
        "id": "ChpOQdLbRSmn",
        "outputId": "55c20bff-6392-4864-fc29-50c91de74826"
      },
      "execution_count": null,
      "outputs": [
        {
          "output_type": "stream",
          "name": "stderr",
          "text": [
            " 27%|██▋       | 766/2798 [01:53<04:07,  8.22it/s]"
          ]
        }
      ]
    },
    {
      "cell_type": "code",
      "source": [],
      "metadata": {
        "id": "PBUOH722Qv5j"
      },
      "execution_count": null,
      "outputs": []
    }
  ]
}