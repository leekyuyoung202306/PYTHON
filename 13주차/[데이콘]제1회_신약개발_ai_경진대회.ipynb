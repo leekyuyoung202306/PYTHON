{
  "nbformat": 4,
  "nbformat_minor": 0,
  "metadata": {
    "colab": {
      "provenance": [],
      "gpuType": "T4"
    },
    "kernelspec": {
      "name": "python3",
      "display_name": "Python 3"
    },
    "language_info": {
      "name": "python"
    },
    "accelerator": "GPU"
  },
  "cells": [
    {
      "cell_type": "code",
      "source": [
        "!pip install autogluon"
      ],
      "metadata": {
        "id": "J_t7D7UAwAuf"
      },
      "execution_count": null,
      "outputs": []
    },
    {
      "cell_type": "code",
      "source": [
        "from autogluon.tabular import TabularDataset, TabularPredictor"
      ],
      "metadata": {
        "id": "CkitApBRxI3Z"
      },
      "execution_count": 47,
      "outputs": []
    },
    {
      "cell_type": "code",
      "source": [
        "!pip install rdkit"
      ],
      "metadata": {
        "colab": {
          "base_uri": "https://localhost:8080/"
        },
        "id": "EUeTXMX_vY8J",
        "outputId": "84d21e0a-a1d4-491f-d03c-cd00b720676f"
      },
      "execution_count": 2,
      "outputs": [
        {
          "output_type": "stream",
          "name": "stdout",
          "text": [
            "Collecting rdkit\n",
            "  Downloading rdkit-2023.3.3-cp310-cp310-manylinux_2_17_x86_64.manylinux2014_x86_64.whl (29.7 MB)\n",
            "\u001b[2K     \u001b[90m━━━━━━━━━━━━━━━━━━━━━━━━━━━━━━━━━━━━━━━━\u001b[0m \u001b[32m29.7/29.7 MB\u001b[0m \u001b[31m51.5 MB/s\u001b[0m eta \u001b[36m0:00:00\u001b[0m\n",
            "\u001b[?25hRequirement already satisfied: numpy in /usr/local/lib/python3.10/dist-packages (from rdkit) (1.23.5)\n",
            "Requirement already satisfied: Pillow in /usr/local/lib/python3.10/dist-packages (from rdkit) (9.4.0)\n",
            "Installing collected packages: rdkit\n",
            "Successfully installed rdkit-2023.3.3\n"
          ]
        }
      ]
    },
    {
      "cell_type": "code",
      "execution_count": 7,
      "metadata": {
        "id": "1r26pCy4uvK1"
      },
      "outputs": [],
      "source": [
        "import random\n",
        "import os\n",
        "\n",
        "import numpy as np\n",
        "import pandas as pd\n",
        "\n",
        "from sklearn.feature_selection import VarianceThreshold\n",
        "from sklearn.model_selection import train_test_split\n",
        "from rdkit import DataStructs\n",
        "from rdkit.Chem import PandasTools, AllChem\n",
        "\n",
        "import torch\n",
        "import torch.nn as nn\n",
        "from torch.utils.data import Dataset, DataLoader"
      ]
    },
    {
      "cell_type": "code",
      "source": [
        "def seed_everything(seed):\n",
        "    random.seed(seed)\n",
        "    np.random.seed(seed)\n",
        "    os.environ[\"PYTHONHASHSEED\"] = str(seed)\n",
        "\n",
        "seed_everything(42) # Seed 고정"
      ],
      "metadata": {
        "id": "W2D1lqMwvTWP"
      },
      "execution_count": 8,
      "outputs": []
    },
    {
      "cell_type": "code",
      "source": [
        "!unzip '/content/drive/MyDrive/데이콘_신약개발/데이콘 신약데이터.zip'\n",
        "\n",
        "train = pd.read_csv('./train.csv')\n",
        "test = pd.read_csv('./test.csv')\n",
        "PandasTools.AddMoleculeColumnToFrame(train,'SMILES','Molecule')\n",
        "PandasTools.AddMoleculeColumnToFrame(test,'SMILES','Molecule')\n",
        "def mol2fp(mol):\n",
        "    fp = AllChem.GetHashedMorganFingerprint(mol, 6, nBits=4096)\n",
        "    ar = np.zeros((1,), dtype=np.int8)\n",
        "    DataStructs.ConvertToNumpyArray(fp, ar)\n",
        "    return ar\n",
        "\n",
        "# FPs column 추가\n",
        "train[\"FPs\"] = train.Molecule.apply(mol2fp)\n",
        "test[\"FPs\"] = test.Molecule.apply(mol2fp)\n",
        "\n",
        "# 사용할 column만 추출\n",
        "train = train[['FPs','MLM', 'HLM']]\n",
        "test = test[['FPs']]\n",
        "\n",
        "X = train['FPs']\n",
        "y = train[['MLM', 'HLM']]\n",
        "\n",
        "X_X = pd.concat([pd.DataFrame(i).T for i in X])\n",
        "\n",
        "\n",
        "# 예측모델 후보 - 랜덤포레스트 회귀\n",
        "# from sklearn.ensemble import RandomForestRegressor\n",
        "# rfr = RandomForestRegressor()\n",
        "# rfr.fit(X_X,y)\n",
        "\n",
        "test_X = pd.concat([pd.DataFrame(i).T for i in test['FPs']])\n",
        "# test_X_predict = rfr.predict(test_X)"
      ],
      "metadata": {
        "colab": {
          "base_uri": "https://localhost:8080/"
        },
        "id": "F-mMp24HvWXx",
        "outputId": "b84ba3a4-48e9-414a-e956-9206c890d8f8"
      },
      "execution_count": 49,
      "outputs": [
        {
          "output_type": "stream",
          "name": "stdout",
          "text": [
            "Archive:  /content/drive/MyDrive/데이콘_신약개발/데이콘 신약데이터.zip\n",
            "replace sample_submission.csv? [y]es, [n]o, [A]ll, [N]one, [r]ename: A\n",
            "  inflating: sample_submission.csv   \n",
            "  inflating: test.csv                \n",
            "  inflating: train.csv               \n"
          ]
        }
      ]
    },
    {
      "cell_type": "code",
      "source": [
        "len(X_X), len(y)\n",
        "X2_MLM = pd.concat([X_X.reset_index(drop=True),y['MLM']],axis=1)\n",
        "X2_HLM = pd.concat([X_X.reset_index(drop=True),y['HLM']],axis=1)\n",
        "# X2.columns = list(map(str,X2.columns[:-2])) + ['MLM','HLM']\n",
        "# X2.head(2)"
      ],
      "metadata": {
        "id": "zQLWEkhLy7Un"
      },
      "execution_count": 51,
      "outputs": []
    },
    {
      "cell_type": "code",
      "source": [
        "train_X2_MLM = TabularDataset(X2_MLM)\n",
        "train_X2_HLM = TabularDataset(X2_HLM)\n",
        "save_path = './automl_MLM'\n",
        "predictor_MLM = TabularPredictor(\n",
        "    label='MLM',\n",
        "    path=save_path,\n",
        "    # eval_metric='mae'\n",
        ")\n",
        "\n",
        "save_path = './automl_HLM'\n",
        "predictor_HLM = TabularPredictor(\n",
        "    label='HLM',\n",
        "    path=save_path,\n",
        "    # eval_metric='mae'\n",
        ")\n",
        "\n"
      ],
      "metadata": {
        "colab": {
          "base_uri": "https://localhost:8080/"
        },
        "id": "VJE-QTy2z6NT",
        "outputId": "0e108fc9-6907-4a7b-e7eb-5e6ee4e0ae12"
      },
      "execution_count": 52,
      "outputs": [
        {
          "output_type": "stream",
          "name": "stderr",
          "text": [
            "Warning: path already exists! This predictor may overwrite an existing predictor! path=\"./automl_MLM\"\n",
            "Warning: path already exists! This predictor may overwrite an existing predictor! path=\"./automl_HLM\"\n"
          ]
        }
      ]
    },
    {
      "cell_type": "code",
      "source": [
        "predictor_MLM.fit(\n",
        "    train_data = train_X2_MLM,\n",
        "    time_limit=60*1\n",
        ")\n",
        "predictor_HLM.fit(\n",
        "    train_data = train_X2_HLM,\n",
        "    time_limit=60*1\n",
        ")\n",
        "\n",
        "predict_MLM = predictor_MLM.predict(test_X)\n",
        "predict_HLM = predictor_HLM.predict(test_X)"
      ],
      "metadata": {
        "colab": {
          "base_uri": "https://localhost:8080/"
        },
        "id": "OBEQZvIU0bng",
        "outputId": "1e85cf75-3578-4454-cba9-8036194b0772"
      },
      "execution_count": null,
      "outputs": [
        {
          "output_type": "stream",
          "name": "stderr",
          "text": [
            "Beginning AutoGluon training ... Time limit = 60s\n",
            "AutoGluon will save models to \"./automl_MLM/\"\n",
            "AutoGluon Version:  0.8.2\n",
            "Python Version:     3.10.12\n",
            "Operating System:   Linux\n",
            "Platform Machine:   x86_64\n",
            "Platform Version:   #1 SMP Fri Jun 9 10:57:30 UTC 2023\n",
            "Disk Space Avail:   49.25 GB / 83.96 GB (58.7%)\n",
            "Train Data Rows:    3498\n",
            "Train Data Columns: 4096\n",
            "Label Column: MLM\n",
            "Preprocessing data ...\n",
            "AutoGluon infers your prediction problem is: 'regression' (because dtype of label-column == float and many unique label-values observed).\n",
            "\tLabel info (max, min, mean, stddev): (131.72, 0.0, 37.38474, 35.69599)\n",
            "\tIf 'regression' is not the correct problem_type, please manually specify the problem_type parameter during predictor init (You may specify problem_type as one of: ['binary', 'multiclass', 'regression'])\n",
            "Using Feature Generators to preprocess the data ...\n",
            "Fitting AutoMLPipelineFeatureGenerator...\n",
            "\tAvailable Memory:                    10578.95 MB\n",
            "\tTrain Data (Original)  Memory Usage: 14.33 MB (0.1% of available memory)\n",
            "\tInferring data type of each feature based on column values. Set feature_metadata_in to manually specify special dtypes of the features.\n",
            "\tStage 1 Generators:\n",
            "\t\tFitting AsTypeFeatureGenerator...\n",
            "\t\t\tNote: Converting 1412 features to boolean dtype as they only contain 2 unique values.\n",
            "\tStage 2 Generators:\n",
            "\t\tFitting FillNaFeatureGenerator...\n",
            "\tStage 3 Generators:\n",
            "\t\tFitting IdentityFeatureGenerator...\n",
            "\tStage 4 Generators:\n",
            "\t\tFitting DropUniqueFeatureGenerator...\n",
            "\tStage 5 Generators:\n",
            "\t\tFitting DropDuplicatesFeatureGenerator...\n",
            "\tTypes of features in original data (raw dtype, special dtypes):\n",
            "\t\t('int', []) : 4096 | ['0', '1', '2', '3', '4', ...]\n",
            "\tTypes of features in processed data (raw dtype, special dtypes):\n",
            "\t\t('int', [])       : 2684 | ['0', '1', '2', '3', '5', ...]\n",
            "\t\t('int', ['bool']) : 1412 | ['4', '7', '9', '15', '16', ...]\n",
            "\t23.5s = Fit runtime\n",
            "\t4096 features in original data used to generate 4096 features in processed data.\n",
            "\tTrain Data (Processed) Memory Usage: 14.33 MB (0.1% of available memory)\n",
            "Data preprocessing and feature engineering runtime = 24.21s ...\n",
            "AutoGluon will gauge predictive performance using evaluation metric: 'root_mean_squared_error'\n",
            "\tThis metric's sign has been flipped to adhere to being higher_is_better. The metric score can be multiplied by -1 to get the metric value.\n",
            "\tTo change this, specify the eval_metric parameter of Predictor()\n",
            "Automatically generating train/validation split with holdout_frac=0.1429388221841052, Train Rows: 2998, Val Rows: 500\n",
            "User-specified model hyperparameters to be fit:\n",
            "{\n",
            "\t'NN_TORCH': {},\n",
            "\t'GBM': [{'extra_trees': True, 'ag_args': {'name_suffix': 'XT'}}, {}, 'GBMLarge'],\n",
            "\t'CAT': {},\n",
            "\t'XGB': {},\n",
            "\t'FASTAI': {},\n",
            "\t'RF': [{'criterion': 'gini', 'ag_args': {'name_suffix': 'Gini', 'problem_types': ['binary', 'multiclass']}}, {'criterion': 'entropy', 'ag_args': {'name_suffix': 'Entr', 'problem_types': ['binary', 'multiclass']}}, {'criterion': 'squared_error', 'ag_args': {'name_suffix': 'MSE', 'problem_types': ['regression', 'quantile']}}],\n",
            "\t'XT': [{'criterion': 'gini', 'ag_args': {'name_suffix': 'Gini', 'problem_types': ['binary', 'multiclass']}}, {'criterion': 'entropy', 'ag_args': {'name_suffix': 'Entr', 'problem_types': ['binary', 'multiclass']}}, {'criterion': 'squared_error', 'ag_args': {'name_suffix': 'MSE', 'problem_types': ['regression', 'quantile']}}],\n",
            "\t'KNN': [{'weights': 'uniform', 'ag_args': {'name_suffix': 'Unif'}}, {'weights': 'distance', 'ag_args': {'name_suffix': 'Dist'}}],\n",
            "}\n",
            "Fitting 11 L1 models ...\n",
            "Fitting model: KNeighborsUnif ... Training model for up to 35.79s of the 35.66s of remaining time.\n"
          ]
        }
      ]
    },
    {
      "cell_type": "code",
      "source": [
        "# predict\n",
        "df_submission = pd.read_csv(\"./sample_submission.csv\")\n",
        "df_submission[\"MLM\"] = predict_MLM\n",
        "df_submission[\"HLM\"] = predict_HLM\n",
        "df_submission.to_csv(\"automl_result.csv\", index = False, encoding = \"utf-8-sig\")"
      ],
      "metadata": {
        "id": "ga4NSDpsvxng"
      },
      "execution_count": null,
      "outputs": []
    },
    {
      "cell_type": "code",
      "source": [],
      "metadata": {
        "id": "4pbVkP_4y6pg"
      },
      "execution_count": null,
      "outputs": []
    }
  ]
}