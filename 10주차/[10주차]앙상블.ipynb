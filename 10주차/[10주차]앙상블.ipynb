{
  "nbformat": 4,
  "nbformat_minor": 0,
  "metadata": {
    "colab": {
      "provenance": []
    },
    "kernelspec": {
      "name": "python3",
      "display_name": "Python 3"
    },
    "language_info": {
      "name": "python"
    }
  },
  "cells": [
    {
      "cell_type": "markdown",
      "source": [
        "랜덤포레스트\n",
        "  - 앙상블 기법 : 여러개를 모아서 하나의 성능을 내는 기법\n",
        "  - 부트스트랩 샘플링 : 각 트리를 만들때 데이터를 랜덤하게 다양한 셈플로 학습\n",
        "  - 랜덤한 특성 선택 : 분할할때 랜던하게 선택된 일부 특성만 고려"
      ],
      "metadata": {
        "id": "DSQ-9OXXAqZK"
      }
    },
    {
      "cell_type": "markdown",
      "source": [
        "![image.png](data:image/png;base64,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)"
      ],
      "metadata": {
        "id": "rxmQPTG3Ateh"
      }
    },
    {
      "cell_type": "markdown",
      "source": [
        "  - 과적합 방지 : 각 트리의 과적합을 완화시키는 역활\n",
        "  - 안정성, 다양성 : 다양한데이터 와 특성을 사용"
      ],
      "metadata": {
        "id": "atHjiAcCB3oE"
      }
    },
    {
      "cell_type": "code",
      "source": [
        "from sklearn.ensemble import RandomForestClassifier\n",
        "from sklearn.model_selection import cross_validate\n",
        "import pandas as pd\n",
        "import numpy as np"
      ],
      "metadata": {
        "id": "5mNpQ88eAs6q"
      },
      "execution_count": 4,
      "outputs": []
    },
    {
      "cell_type": "code",
      "source": [
        "from sklearn.datasets import load_wine\n",
        "data = load_wine().data\n",
        "target = load_wine().target\n",
        "cols = load_wine().feature_names\n",
        "wine = pd.DataFrame(data,columns=cols)"
      ],
      "metadata": {
        "id": "mIxbgjIeDDPx"
      },
      "execution_count": 10,
      "outputs": []
    },
    {
      "cell_type": "code",
      "source": [
        "load_wine().feature_names"
      ],
      "metadata": {
        "colab": {
          "base_uri": "https://localhost:8080/"
        },
        "id": "8gykrenuEVkg",
        "outputId": "75f60d76-e169-43a9-e6ca-4b3cc9ba7a20"
      },
      "execution_count": 9,
      "outputs": [
        {
          "output_type": "stream",
          "name": "stdout",
          "text": [
            "['alcohol', 'malic_acid', 'ash', 'alcalinity_of_ash', 'magnesium', 'total_phenols', 'flavanoids', 'nonflavanoid_phenols', 'proanthocyanins', 'color_intensity', 'hue', 'od280/od315_of_diluted_wines', 'proline']\n"
          ]
        }
      ]
    },
    {
      "cell_type": "code",
      "source": [
        "wine.head()"
      ],
      "metadata": {
        "colab": {
          "base_uri": "https://localhost:8080/",
          "height": 226
        },
        "id": "6kCeWKHXEWz3",
        "outputId": "6416d21a-7b53-4cac-ff44-d7ac4e3fa379"
      },
      "execution_count": 11,
      "outputs": [
        {
          "output_type": "execute_result",
          "data": {
            "text/plain": [
              "   alcohol  malic_acid   ash  alcalinity_of_ash  magnesium  total_phenols  \\\n",
              "0    14.23        1.71  2.43               15.6      127.0           2.80   \n",
              "1    13.20        1.78  2.14               11.2      100.0           2.65   \n",
              "2    13.16        2.36  2.67               18.6      101.0           2.80   \n",
              "3    14.37        1.95  2.50               16.8      113.0           3.85   \n",
              "4    13.24        2.59  2.87               21.0      118.0           2.80   \n",
              "\n",
              "   flavanoids  nonflavanoid_phenols  proanthocyanins  color_intensity   hue  \\\n",
              "0        3.06                  0.28             2.29             5.64  1.04   \n",
              "1        2.76                  0.26             1.28             4.38  1.05   \n",
              "2        3.24                  0.30             2.81             5.68  1.03   \n",
              "3        3.49                  0.24             2.18             7.80  0.86   \n",
              "4        2.69                  0.39             1.82             4.32  1.04   \n",
              "\n",
              "   od280/od315_of_diluted_wines  proline  \n",
              "0                          3.92   1065.0  \n",
              "1                          3.40   1050.0  \n",
              "2                          3.17   1185.0  \n",
              "3                          3.45   1480.0  \n",
              "4                          2.93    735.0  "
            ],
            "text/html": [
              "\n",
              "  <div id=\"df-2f824cb4-26ea-44ee-a070-3309f6f93c50\" class=\"colab-df-container\">\n",
              "    <div>\n",
              "<style scoped>\n",
              "    .dataframe tbody tr th:only-of-type {\n",
              "        vertical-align: middle;\n",
              "    }\n",
              "\n",
              "    .dataframe tbody tr th {\n",
              "        vertical-align: top;\n",
              "    }\n",
              "\n",
              "    .dataframe thead th {\n",
              "        text-align: right;\n",
              "    }\n",
              "</style>\n",
              "<table border=\"1\" class=\"dataframe\">\n",
              "  <thead>\n",
              "    <tr style=\"text-align: right;\">\n",
              "      <th></th>\n",
              "      <th>alcohol</th>\n",
              "      <th>malic_acid</th>\n",
              "      <th>ash</th>\n",
              "      <th>alcalinity_of_ash</th>\n",
              "      <th>magnesium</th>\n",
              "      <th>total_phenols</th>\n",
              "      <th>flavanoids</th>\n",
              "      <th>nonflavanoid_phenols</th>\n",
              "      <th>proanthocyanins</th>\n",
              "      <th>color_intensity</th>\n",
              "      <th>hue</th>\n",
              "      <th>od280/od315_of_diluted_wines</th>\n",
              "      <th>proline</th>\n",
              "    </tr>\n",
              "  </thead>\n",
              "  <tbody>\n",
              "    <tr>\n",
              "      <th>0</th>\n",
              "      <td>14.23</td>\n",
              "      <td>1.71</td>\n",
              "      <td>2.43</td>\n",
              "      <td>15.6</td>\n",
              "      <td>127.0</td>\n",
              "      <td>2.80</td>\n",
              "      <td>3.06</td>\n",
              "      <td>0.28</td>\n",
              "      <td>2.29</td>\n",
              "      <td>5.64</td>\n",
              "      <td>1.04</td>\n",
              "      <td>3.92</td>\n",
              "      <td>1065.0</td>\n",
              "    </tr>\n",
              "    <tr>\n",
              "      <th>1</th>\n",
              "      <td>13.20</td>\n",
              "      <td>1.78</td>\n",
              "      <td>2.14</td>\n",
              "      <td>11.2</td>\n",
              "      <td>100.0</td>\n",
              "      <td>2.65</td>\n",
              "      <td>2.76</td>\n",
              "      <td>0.26</td>\n",
              "      <td>1.28</td>\n",
              "      <td>4.38</td>\n",
              "      <td>1.05</td>\n",
              "      <td>3.40</td>\n",
              "      <td>1050.0</td>\n",
              "    </tr>\n",
              "    <tr>\n",
              "      <th>2</th>\n",
              "      <td>13.16</td>\n",
              "      <td>2.36</td>\n",
              "      <td>2.67</td>\n",
              "      <td>18.6</td>\n",
              "      <td>101.0</td>\n",
              "      <td>2.80</td>\n",
              "      <td>3.24</td>\n",
              "      <td>0.30</td>\n",
              "      <td>2.81</td>\n",
              "      <td>5.68</td>\n",
              "      <td>1.03</td>\n",
              "      <td>3.17</td>\n",
              "      <td>1185.0</td>\n",
              "    </tr>\n",
              "    <tr>\n",
              "      <th>3</th>\n",
              "      <td>14.37</td>\n",
              "      <td>1.95</td>\n",
              "      <td>2.50</td>\n",
              "      <td>16.8</td>\n",
              "      <td>113.0</td>\n",
              "      <td>3.85</td>\n",
              "      <td>3.49</td>\n",
              "      <td>0.24</td>\n",
              "      <td>2.18</td>\n",
              "      <td>7.80</td>\n",
              "      <td>0.86</td>\n",
              "      <td>3.45</td>\n",
              "      <td>1480.0</td>\n",
              "    </tr>\n",
              "    <tr>\n",
              "      <th>4</th>\n",
              "      <td>13.24</td>\n",
              "      <td>2.59</td>\n",
              "      <td>2.87</td>\n",
              "      <td>21.0</td>\n",
              "      <td>118.0</td>\n",
              "      <td>2.80</td>\n",
              "      <td>2.69</td>\n",
              "      <td>0.39</td>\n",
              "      <td>1.82</td>\n",
              "      <td>4.32</td>\n",
              "      <td>1.04</td>\n",
              "      <td>2.93</td>\n",
              "      <td>735.0</td>\n",
              "    </tr>\n",
              "  </tbody>\n",
              "</table>\n",
              "</div>\n",
              "    <div class=\"colab-df-buttons\">\n",
              "\n",
              "  <div class=\"colab-df-container\">\n",
              "    <button class=\"colab-df-convert\" onclick=\"convertToInteractive('df-2f824cb4-26ea-44ee-a070-3309f6f93c50')\"\n",
              "            title=\"Convert this dataframe to an interactive table.\"\n",
              "            style=\"display:none;\">\n",
              "\n",
              "  <svg xmlns=\"http://www.w3.org/2000/svg\" height=\"24px\" viewBox=\"0 -960 960 960\">\n",
              "    <path d=\"M120-120v-720h720v720H120Zm60-500h600v-160H180v160Zm220 220h160v-160H400v160Zm0 220h160v-160H400v160ZM180-400h160v-160H180v160Zm440 0h160v-160H620v160ZM180-180h160v-160H180v160Zm440 0h160v-160H620v160Z\"/>\n",
              "  </svg>\n",
              "    </button>\n",
              "\n",
              "  <style>\n",
              "    .colab-df-container {\n",
              "      display:flex;\n",
              "      gap: 12px;\n",
              "    }\n",
              "\n",
              "    .colab-df-convert {\n",
              "      background-color: #E8F0FE;\n",
              "      border: none;\n",
              "      border-radius: 50%;\n",
              "      cursor: pointer;\n",
              "      display: none;\n",
              "      fill: #1967D2;\n",
              "      height: 32px;\n",
              "      padding: 0 0 0 0;\n",
              "      width: 32px;\n",
              "    }\n",
              "\n",
              "    .colab-df-convert:hover {\n",
              "      background-color: #E2EBFA;\n",
              "      box-shadow: 0px 1px 2px rgba(60, 64, 67, 0.3), 0px 1px 3px 1px rgba(60, 64, 67, 0.15);\n",
              "      fill: #174EA6;\n",
              "    }\n",
              "\n",
              "    .colab-df-buttons div {\n",
              "      margin-bottom: 4px;\n",
              "    }\n",
              "\n",
              "    [theme=dark] .colab-df-convert {\n",
              "      background-color: #3B4455;\n",
              "      fill: #D2E3FC;\n",
              "    }\n",
              "\n",
              "    [theme=dark] .colab-df-convert:hover {\n",
              "      background-color: #434B5C;\n",
              "      box-shadow: 0px 1px 3px 1px rgba(0, 0, 0, 0.15);\n",
              "      filter: drop-shadow(0px 1px 2px rgba(0, 0, 0, 0.3));\n",
              "      fill: #FFFFFF;\n",
              "    }\n",
              "  </style>\n",
              "\n",
              "    <script>\n",
              "      const buttonEl =\n",
              "        document.querySelector('#df-2f824cb4-26ea-44ee-a070-3309f6f93c50 button.colab-df-convert');\n",
              "      buttonEl.style.display =\n",
              "        google.colab.kernel.accessAllowed ? 'block' : 'none';\n",
              "\n",
              "      async function convertToInteractive(key) {\n",
              "        const element = document.querySelector('#df-2f824cb4-26ea-44ee-a070-3309f6f93c50');\n",
              "        const dataTable =\n",
              "          await google.colab.kernel.invokeFunction('convertToInteractive',\n",
              "                                                    [key], {});\n",
              "        if (!dataTable) return;\n",
              "\n",
              "        const docLinkHtml = 'Like what you see? Visit the ' +\n",
              "          '<a target=\"_blank\" href=https://colab.research.google.com/notebooks/data_table.ipynb>data table notebook</a>'\n",
              "          + ' to learn more about interactive tables.';\n",
              "        element.innerHTML = '';\n",
              "        dataTable['output_type'] = 'display_data';\n",
              "        await google.colab.output.renderOutput(dataTable, element);\n",
              "        const docLink = document.createElement('div');\n",
              "        docLink.innerHTML = docLinkHtml;\n",
              "        element.appendChild(docLink);\n",
              "      }\n",
              "    </script>\n",
              "  </div>\n",
              "\n",
              "\n",
              "<div id=\"df-aff84f40-f99e-4309-9c16-e8d18f7d623d\">\n",
              "  <button class=\"colab-df-quickchart\" onclick=\"quickchart('df-aff84f40-f99e-4309-9c16-e8d18f7d623d')\"\n",
              "            title=\"Suggest charts.\"\n",
              "            style=\"display:none;\">\n",
              "\n",
              "<svg xmlns=\"http://www.w3.org/2000/svg\" height=\"24px\"viewBox=\"0 0 24 24\"\n",
              "     width=\"24px\">\n",
              "    <g>\n",
              "        <path d=\"M19 3H5c-1.1 0-2 .9-2 2v14c0 1.1.9 2 2 2h14c1.1 0 2-.9 2-2V5c0-1.1-.9-2-2-2zM9 17H7v-7h2v7zm4 0h-2V7h2v10zm4 0h-2v-4h2v4z\"/>\n",
              "    </g>\n",
              "</svg>\n",
              "  </button>\n",
              "\n",
              "<style>\n",
              "  .colab-df-quickchart {\n",
              "    background-color: #E8F0FE;\n",
              "    border: none;\n",
              "    border-radius: 50%;\n",
              "    cursor: pointer;\n",
              "    display: none;\n",
              "    fill: #1967D2;\n",
              "    height: 32px;\n",
              "    padding: 0 0 0 0;\n",
              "    width: 32px;\n",
              "  }\n",
              "\n",
              "  .colab-df-quickchart:hover {\n",
              "    background-color: #E2EBFA;\n",
              "    box-shadow: 0px 1px 2px rgba(60, 64, 67, 0.3), 0px 1px 3px 1px rgba(60, 64, 67, 0.15);\n",
              "    fill: #174EA6;\n",
              "  }\n",
              "\n",
              "  [theme=dark] .colab-df-quickchart {\n",
              "    background-color: #3B4455;\n",
              "    fill: #D2E3FC;\n",
              "  }\n",
              "\n",
              "  [theme=dark] .colab-df-quickchart:hover {\n",
              "    background-color: #434B5C;\n",
              "    box-shadow: 0px 1px 3px 1px rgba(0, 0, 0, 0.15);\n",
              "    filter: drop-shadow(0px 1px 2px rgba(0, 0, 0, 0.3));\n",
              "    fill: #FFFFFF;\n",
              "  }\n",
              "</style>\n",
              "\n",
              "  <script>\n",
              "    async function quickchart(key) {\n",
              "      const charts = await google.colab.kernel.invokeFunction(\n",
              "          'suggestCharts', [key], {});\n",
              "    }\n",
              "    (() => {\n",
              "      let quickchartButtonEl =\n",
              "        document.querySelector('#df-aff84f40-f99e-4309-9c16-e8d18f7d623d button');\n",
              "      quickchartButtonEl.style.display =\n",
              "        google.colab.kernel.accessAllowed ? 'block' : 'none';\n",
              "    })();\n",
              "  </script>\n",
              "</div>\n",
              "    </div>\n",
              "  </div>\n"
            ]
          },
          "metadata": {},
          "execution_count": 11
        }
      ]
    },
    {
      "cell_type": "code",
      "source": [
        "rf = RandomForestClassifier(n_jobs=-1,random_state=42)\n",
        "scores =  cross_validate(rf,data,target,return_train_score=True,n_jobs=-1)\n",
        "scores['train_score'].mean(), scores['test_score'].mean()"
      ],
      "metadata": {
        "colab": {
          "base_uri": "https://localhost:8080/"
        },
        "id": "f0TD9zK0FW3I",
        "outputId": "f2e78ee3-4512-4d54-ca6d-e86223b91725"
      },
      "execution_count": 12,
      "outputs": [
        {
          "output_type": "execute_result",
          "data": {
            "text/plain": [
              "(1.0, 0.9720634920634922)"
            ]
          },
          "metadata": {},
          "execution_count": 12
        }
      ]
    },
    {
      "cell_type": "code",
      "source": [
        "# 결정트리 단독 모델로 비교\n",
        "from sklearn.tree import DecisionTreeClassifier\n",
        "dt = DecisionTreeClassifier(max_depth=3)\n",
        "scores =  cross_validate(dt,data,target,return_train_score=True,n_jobs=-1)\n",
        "scores['train_score'].mean(), scores['test_score'].mean()"
      ],
      "metadata": {
        "colab": {
          "base_uri": "https://localhost:8080/"
        },
        "id": "6CVRktn5F_ao",
        "outputId": "42dfa099-8540-4b83-dfea-80b5f28a8b3c"
      },
      "execution_count": 17,
      "outputs": [
        {
          "output_type": "execute_result",
          "data": {
            "text/plain": [
              "(0.9747562296858071, 0.8987301587301587)"
            ]
          },
          "metadata": {},
          "execution_count": 17
        }
      ]
    },
    {
      "cell_type": "markdown",
      "source": [
        "엑스트라 트리\n",
        "  - 부트스트랩 샘플링 안함 : 전체데이터를 사용해서 각 트리를 구성\n",
        "  - 랜던한 특성 선택의 강화\n",
        "  - 분할기준의 강화 : 랜덤포레스트는 임계값을 기준, 특성들 중에서 가장 작은 분산을 가진 값을 선택 결국 더 강력한 분할을 선택"
      ],
      "metadata": {
        "id": "OUPN0DtIHppW"
      }
    },
    {
      "cell_type": "code",
      "source": [
        "from sklearn.ensemble import ExtraTreesClassifier\n",
        "et = ExtraTreesClassifier(n_jobs=-1,random_state=42)\n",
        "scores =  cross_validate(et,data,target,return_train_score=True,n_jobs=-1)\n",
        "scores['train_score'].mean(), scores['test_score'].mean()"
      ],
      "metadata": {
        "colab": {
          "base_uri": "https://localhost:8080/"
        },
        "id": "zldJy2RqG9iu",
        "outputId": "00d96c3d-f434-4876-8d0a-636eefb9b7cb"
      },
      "execution_count": 18,
      "outputs": [
        {
          "output_type": "execute_result",
          "data": {
            "text/plain": [
              "(1.0, 0.9777777777777779)"
            ]
          },
          "metadata": {},
          "execution_count": 18
        }
      ]
    },
    {
      "cell_type": "markdown",
      "source": [
        "그레이디언트 부스팅(Gradient Boosting)\n",
        "  - 부스팅(Boosting) : 약한학습기(Weak Learner) 를 여러개 여겨해서 강력한 모델을 만듦, 이전학습의 오차를 줄이는 방향으로 개선\n",
        "  - 그레이디언트 디센트(Gradient Descent) : 손실함수의 값이 최소가 되도록 학습\n",
        "  - 약한 학습기 활용: 각각의 트리모델의 깊이를 앝게 만듦\n",
        "  - 학습률(Learning Rate):이전학습의 오차를 얼마나 크게 반영할지 조절하는 하이퍼 파라메터"
      ],
      "metadata": {
        "id": "eyT3YJIxJQpu"
      }
    },
    {
      "cell_type": "code",
      "source": [
        "from sklearn.ensemble import GradientBoostingClassifier\n",
        "gb = GradientBoostingClassifier(random_state=42)\n",
        "scores =  cross_validate(gb,data,target,return_train_score=True,n_jobs=-1)\n",
        "scores['train_score'].mean(), scores['test_score'].mean()"
      ],
      "metadata": {
        "colab": {
          "base_uri": "https://localhost:8080/"
        },
        "id": "JJ6rmDL-I1DF",
        "outputId": "62db548f-f5cd-41d5-eb28-e71bc0ba5f1f"
      },
      "execution_count": 23,
      "outputs": [
        {
          "output_type": "execute_result",
          "data": {
            "text/plain": [
              "(1.0, 0.9385714285714286)"
            ]
          },
          "metadata": {},
          "execution_count": 23
        }
      ]
    },
    {
      "cell_type": "code",
      "source": [
        "gb = GradientBoostingClassifier(n_estimators=1000,learning_rate=0.5, random_state=42)\n",
        "scores =  cross_validate(gb,data,target,return_train_score=True,n_jobs=-1)\n",
        "scores['train_score'].mean(), scores['test_score'].mean()"
      ],
      "metadata": {
        "colab": {
          "base_uri": "https://localhost:8080/"
        },
        "id": "QlCYY8EKOY_A",
        "outputId": "cb7c9cd6-0d6e-42f4-c561-e42d55e48ab9"
      },
      "execution_count": 24,
      "outputs": [
        {
          "output_type": "execute_result",
          "data": {
            "text/plain": [
              "(1.0, 0.9441269841269841)"
            ]
          },
          "metadata": {},
          "execution_count": 24
        }
      ]
    },
    {
      "cell_type": "markdown",
      "source": [
        "히스토그램 기반 부스팅\n",
        "  - 히스토그램 기반 학습(histogram-based Learning): 데이터를 히스토그램으로 변환하여 구간별 데이터의 분포를 학습\n",
        "  - 빠른속도\n",
        "  - 적은 메모리사용\n",
        "  - 병렬처리 : 데이터를 히스토그램으로 나누고 각 구간별 독립적으로 계산하기 때문에 병렬 처리가 가능"
      ],
      "metadata": {
        "id": "huLGCaLqPYVk"
      }
    },
    {
      "cell_type": "code",
      "source": [
        "from sklearn.ensemble import HistGradientBoostingClassifier\n",
        "hgb = HistGradientBoostingClassifier(random_state=42)\n",
        "scores =  cross_validate(hgb,data,target,return_train_score=True,n_jobs=-1)\n",
        "scores['train_score'].mean(), scores['test_score'].mean()"
      ],
      "metadata": {
        "colab": {
          "base_uri": "https://localhost:8080/"
        },
        "id": "YwRd3pKuPFIX",
        "outputId": "babcc3c2-75e3-4b0a-d59c-a4ff4139bf18"
      },
      "execution_count": 25,
      "outputs": [
        {
          "output_type": "execute_result",
          "data": {
            "text/plain": [
              "(1.0, 0.9552380952380952)"
            ]
          },
          "metadata": {},
          "execution_count": 25
        }
      ]
    },
    {
      "cell_type": "markdown",
      "source": [
        "중요 피처 찾기\n",
        "  - 특성의 값을 무작위로 섞어보고 모델의 성능변화를 살펴본다 그리고 영향력을 추정한다."
      ],
      "metadata": {
        "id": "sQq1J3SuRQwI"
      }
    },
    {
      "cell_type": "code",
      "source": [
        "from sklearn.inspection import permutation_importance\n",
        "hgb.fit(data,target)\n",
        "result = permutation_importance(hgb,data,target, n_repeats=10,random_state=42, n_jobs=-1)\n",
        "result.importances_mean"
      ],
      "metadata": {
        "colab": {
          "base_uri": "https://localhost:8080/"
        },
        "id": "V4gc_P5vQheW",
        "outputId": "96bb627b-2daf-43e8-bf40-8f79c1d06e06"
      },
      "execution_count": 28,
      "outputs": [
        {
          "output_type": "execute_result",
          "data": {
            "text/plain": [
              "array([0.        , 0.        , 0.        , 0.        , 0.        ,\n",
              "       0.        , 0.11797753, 0.        , 0.        , 0.17921348,\n",
              "       0.00505618, 0.        , 0.19662921])"
            ]
          },
          "metadata": {},
          "execution_count": 28
        }
      ]
    },
    {
      "cell_type": "markdown",
      "source": [
        "사이킷런이 아닌 다른 패키지에 있는 앙상블\n",
        "  - 현 시점에서 기계학습의 정점에 있는 모델\n",
        "  - XGBoost, LightGBM"
      ],
      "metadata": {
        "id": "4Ja4INs6Sh9e"
      }
    },
    {
      "cell_type": "code",
      "source": [
        "from xgboost import XGBClassifier\n",
        "xgb = XGBClassifier()\n",
        "scores =  cross_validate(xgb,data,target,return_train_score=True,n_jobs=-1)\n",
        "scores['train_score'].mean(), scores['test_score'].mean()"
      ],
      "metadata": {
        "colab": {
          "base_uri": "https://localhost:8080/"
        },
        "id": "9j5zS_UZRBfc",
        "outputId": "87832c41-5ee2-49ef-ab80-05adced871e0"
      },
      "execution_count": 31,
      "outputs": [
        {
          "output_type": "execute_result",
          "data": {
            "text/plain": [
              "(1.0, 0.9498412698412698)"
            ]
          },
          "metadata": {},
          "execution_count": 31
        }
      ]
    },
    {
      "cell_type": "code",
      "source": [
        "from lightgbm import LGBMClassifier\n",
        "lgb = LGBMClassifier()\n",
        "scores =  cross_validate(lgb,data,target,return_train_score=True,n_jobs=-1)\n",
        "scores['train_score'].mean(), scores['test_score'].mean()"
      ],
      "metadata": {
        "colab": {
          "base_uri": "https://localhost:8080/"
        },
        "id": "X5dWL80BR_qB",
        "outputId": "ebc690fa-380f-45df-ccc8-be9f39f0ae31"
      },
      "execution_count": 32,
      "outputs": [
        {
          "output_type": "execute_result",
          "data": {
            "text/plain": [
              "(1.0, 0.9665079365079364)"
            ]
          },
          "metadata": {},
          "execution_count": 32
        }
      ]
    },
    {
      "cell_type": "markdown",
      "source": [
        "앙상블 리포트"
      ],
      "metadata": {
        "id": "a_HyZuqSTvZG"
      }
    },
    {
      "cell_type": "code",
      "source": [
        "d = {'model': [1, 2], 'accuracy_train': [3, 4],'accuracy_test': [3, 4]}\n",
        "pd.DataFrame(data = d)"
      ],
      "metadata": {
        "colab": {
          "base_uri": "https://localhost:8080/",
          "height": 112
        },
        "id": "IfquYv7zTj7L",
        "outputId": "4586de38-04aa-419e-9511-45c4f3c8cff5"
      },
      "execution_count": 38,
      "outputs": [
        {
          "output_type": "execute_result",
          "data": {
            "text/plain": [
              "   model  accuracy_train  accuracy_test\n",
              "0      1               3              3\n",
              "1      2               4              4"
            ],
            "text/html": [
              "\n",
              "  <div id=\"df-e492c87c-5494-443a-ab19-873b7b777f0e\" class=\"colab-df-container\">\n",
              "    <div>\n",
              "<style scoped>\n",
              "    .dataframe tbody tr th:only-of-type {\n",
              "        vertical-align: middle;\n",
              "    }\n",
              "\n",
              "    .dataframe tbody tr th {\n",
              "        vertical-align: top;\n",
              "    }\n",
              "\n",
              "    .dataframe thead th {\n",
              "        text-align: right;\n",
              "    }\n",
              "</style>\n",
              "<table border=\"1\" class=\"dataframe\">\n",
              "  <thead>\n",
              "    <tr style=\"text-align: right;\">\n",
              "      <th></th>\n",
              "      <th>model</th>\n",
              "      <th>accuracy_train</th>\n",
              "      <th>accuracy_test</th>\n",
              "    </tr>\n",
              "  </thead>\n",
              "  <tbody>\n",
              "    <tr>\n",
              "      <th>0</th>\n",
              "      <td>1</td>\n",
              "      <td>3</td>\n",
              "      <td>3</td>\n",
              "    </tr>\n",
              "    <tr>\n",
              "      <th>1</th>\n",
              "      <td>2</td>\n",
              "      <td>4</td>\n",
              "      <td>4</td>\n",
              "    </tr>\n",
              "  </tbody>\n",
              "</table>\n",
              "</div>\n",
              "    <div class=\"colab-df-buttons\">\n",
              "\n",
              "  <div class=\"colab-df-container\">\n",
              "    <button class=\"colab-df-convert\" onclick=\"convertToInteractive('df-e492c87c-5494-443a-ab19-873b7b777f0e')\"\n",
              "            title=\"Convert this dataframe to an interactive table.\"\n",
              "            style=\"display:none;\">\n",
              "\n",
              "  <svg xmlns=\"http://www.w3.org/2000/svg\" height=\"24px\" viewBox=\"0 -960 960 960\">\n",
              "    <path d=\"M120-120v-720h720v720H120Zm60-500h600v-160H180v160Zm220 220h160v-160H400v160Zm0 220h160v-160H400v160ZM180-400h160v-160H180v160Zm440 0h160v-160H620v160ZM180-180h160v-160H180v160Zm440 0h160v-160H620v160Z\"/>\n",
              "  </svg>\n",
              "    </button>\n",
              "\n",
              "  <style>\n",
              "    .colab-df-container {\n",
              "      display:flex;\n",
              "      gap: 12px;\n",
              "    }\n",
              "\n",
              "    .colab-df-convert {\n",
              "      background-color: #E8F0FE;\n",
              "      border: none;\n",
              "      border-radius: 50%;\n",
              "      cursor: pointer;\n",
              "      display: none;\n",
              "      fill: #1967D2;\n",
              "      height: 32px;\n",
              "      padding: 0 0 0 0;\n",
              "      width: 32px;\n",
              "    }\n",
              "\n",
              "    .colab-df-convert:hover {\n",
              "      background-color: #E2EBFA;\n",
              "      box-shadow: 0px 1px 2px rgba(60, 64, 67, 0.3), 0px 1px 3px 1px rgba(60, 64, 67, 0.15);\n",
              "      fill: #174EA6;\n",
              "    }\n",
              "\n",
              "    .colab-df-buttons div {\n",
              "      margin-bottom: 4px;\n",
              "    }\n",
              "\n",
              "    [theme=dark] .colab-df-convert {\n",
              "      background-color: #3B4455;\n",
              "      fill: #D2E3FC;\n",
              "    }\n",
              "\n",
              "    [theme=dark] .colab-df-convert:hover {\n",
              "      background-color: #434B5C;\n",
              "      box-shadow: 0px 1px 3px 1px rgba(0, 0, 0, 0.15);\n",
              "      filter: drop-shadow(0px 1px 2px rgba(0, 0, 0, 0.3));\n",
              "      fill: #FFFFFF;\n",
              "    }\n",
              "  </style>\n",
              "\n",
              "    <script>\n",
              "      const buttonEl =\n",
              "        document.querySelector('#df-e492c87c-5494-443a-ab19-873b7b777f0e button.colab-df-convert');\n",
              "      buttonEl.style.display =\n",
              "        google.colab.kernel.accessAllowed ? 'block' : 'none';\n",
              "\n",
              "      async function convertToInteractive(key) {\n",
              "        const element = document.querySelector('#df-e492c87c-5494-443a-ab19-873b7b777f0e');\n",
              "        const dataTable =\n",
              "          await google.colab.kernel.invokeFunction('convertToInteractive',\n",
              "                                                    [key], {});\n",
              "        if (!dataTable) return;\n",
              "\n",
              "        const docLinkHtml = 'Like what you see? Visit the ' +\n",
              "          '<a target=\"_blank\" href=https://colab.research.google.com/notebooks/data_table.ipynb>data table notebook</a>'\n",
              "          + ' to learn more about interactive tables.';\n",
              "        element.innerHTML = '';\n",
              "        dataTable['output_type'] = 'display_data';\n",
              "        await google.colab.output.renderOutput(dataTable, element);\n",
              "        const docLink = document.createElement('div');\n",
              "        docLink.innerHTML = docLinkHtml;\n",
              "        element.appendChild(docLink);\n",
              "      }\n",
              "    </script>\n",
              "  </div>\n",
              "\n",
              "\n",
              "<div id=\"df-6746c453-119a-4ab7-a5cd-54838057088a\">\n",
              "  <button class=\"colab-df-quickchart\" onclick=\"quickchart('df-6746c453-119a-4ab7-a5cd-54838057088a')\"\n",
              "            title=\"Suggest charts.\"\n",
              "            style=\"display:none;\">\n",
              "\n",
              "<svg xmlns=\"http://www.w3.org/2000/svg\" height=\"24px\"viewBox=\"0 0 24 24\"\n",
              "     width=\"24px\">\n",
              "    <g>\n",
              "        <path d=\"M19 3H5c-1.1 0-2 .9-2 2v14c0 1.1.9 2 2 2h14c1.1 0 2-.9 2-2V5c0-1.1-.9-2-2-2zM9 17H7v-7h2v7zm4 0h-2V7h2v10zm4 0h-2v-4h2v4z\"/>\n",
              "    </g>\n",
              "</svg>\n",
              "  </button>\n",
              "\n",
              "<style>\n",
              "  .colab-df-quickchart {\n",
              "    background-color: #E8F0FE;\n",
              "    border: none;\n",
              "    border-radius: 50%;\n",
              "    cursor: pointer;\n",
              "    display: none;\n",
              "    fill: #1967D2;\n",
              "    height: 32px;\n",
              "    padding: 0 0 0 0;\n",
              "    width: 32px;\n",
              "  }\n",
              "\n",
              "  .colab-df-quickchart:hover {\n",
              "    background-color: #E2EBFA;\n",
              "    box-shadow: 0px 1px 2px rgba(60, 64, 67, 0.3), 0px 1px 3px 1px rgba(60, 64, 67, 0.15);\n",
              "    fill: #174EA6;\n",
              "  }\n",
              "\n",
              "  [theme=dark] .colab-df-quickchart {\n",
              "    background-color: #3B4455;\n",
              "    fill: #D2E3FC;\n",
              "  }\n",
              "\n",
              "  [theme=dark] .colab-df-quickchart:hover {\n",
              "    background-color: #434B5C;\n",
              "    box-shadow: 0px 1px 3px 1px rgba(0, 0, 0, 0.15);\n",
              "    filter: drop-shadow(0px 1px 2px rgba(0, 0, 0, 0.3));\n",
              "    fill: #FFFFFF;\n",
              "  }\n",
              "</style>\n",
              "\n",
              "  <script>\n",
              "    async function quickchart(key) {\n",
              "      const charts = await google.colab.kernel.invokeFunction(\n",
              "          'suggestCharts', [key], {});\n",
              "    }\n",
              "    (() => {\n",
              "      let quickchartButtonEl =\n",
              "        document.querySelector('#df-6746c453-119a-4ab7-a5cd-54838057088a button');\n",
              "      quickchartButtonEl.style.display =\n",
              "        google.colab.kernel.accessAllowed ? 'block' : 'none';\n",
              "    })();\n",
              "  </script>\n",
              "</div>\n",
              "    </div>\n",
              "  </div>\n"
            ]
          },
          "metadata": {},
          "execution_count": 38
        }
      ]
    },
    {
      "cell_type": "code",
      "source": [
        "from sklearn.model_selection import StratifiedKFold\n",
        "from sklearn.model_selection import train_test_split\n",
        "x_train,x_test,y_train,y_test = train_test_split(data,target,test_size=0.2,random_state=42)\n",
        "def makeEn(estimator):\n",
        "  cv = StratifiedKFold(n_splits=10,shuffle=True)\n",
        "  scores =  cross_validate(estimator,x_train,y_train,return_train_score=True,n_jobs=-1,cv=cv)\n",
        "  return scores['train_score'].mean(), scores['test_score'].mean()\n",
        "models = {\n",
        "    'rfc' : RandomForestClassifier(),\n",
        "    'extc' :  ExtraTreesClassifier(),\n",
        "    'gbc' :  GradientBoostingClassifier(),\n",
        "    'histbc' :  HistGradientBoostingClassifier(),\n",
        "    'xgboost' : XGBClassifier(),\n",
        "    'lightgbm' : LGBMClassifier()\n",
        "}\n",
        "result = []\n",
        "for model in models.values():\n",
        "  result.append(makeEn(model))"
      ],
      "metadata": {
        "id": "o8-3nGhYUCiY"
      },
      "execution_count": 50,
      "outputs": []
    },
    {
      "cell_type": "code",
      "source": [
        "pd.DataFrame(result,columns=['train-acc','test-acc'],index = models.keys())"
      ],
      "metadata": {
        "colab": {
          "base_uri": "https://localhost:8080/",
          "height": 237
        },
        "id": "muXflNQ0V40D",
        "outputId": "c2393282-7207-407c-a6c3-3d82c5505172"
      },
      "execution_count": 51,
      "outputs": [
        {
          "output_type": "execute_result",
          "data": {
            "text/plain": [
              "          train-acc  test-acc\n",
              "rfc             1.0  0.978571\n",
              "extc            1.0  0.978571\n",
              "gbc             1.0  0.929524\n",
              "histbc          1.0  0.950000\n",
              "xgboost         1.0  0.958571\n",
              "lightgbm        1.0  0.993333"
            ],
            "text/html": [
              "\n",
              "  <div id=\"df-acba0a90-6599-44d4-bdf5-8e66c7283cf2\" class=\"colab-df-container\">\n",
              "    <div>\n",
              "<style scoped>\n",
              "    .dataframe tbody tr th:only-of-type {\n",
              "        vertical-align: middle;\n",
              "    }\n",
              "\n",
              "    .dataframe tbody tr th {\n",
              "        vertical-align: top;\n",
              "    }\n",
              "\n",
              "    .dataframe thead th {\n",
              "        text-align: right;\n",
              "    }\n",
              "</style>\n",
              "<table border=\"1\" class=\"dataframe\">\n",
              "  <thead>\n",
              "    <tr style=\"text-align: right;\">\n",
              "      <th></th>\n",
              "      <th>train-acc</th>\n",
              "      <th>test-acc</th>\n",
              "    </tr>\n",
              "  </thead>\n",
              "  <tbody>\n",
              "    <tr>\n",
              "      <th>rfc</th>\n",
              "      <td>1.0</td>\n",
              "      <td>0.978571</td>\n",
              "    </tr>\n",
              "    <tr>\n",
              "      <th>extc</th>\n",
              "      <td>1.0</td>\n",
              "      <td>0.978571</td>\n",
              "    </tr>\n",
              "    <tr>\n",
              "      <th>gbc</th>\n",
              "      <td>1.0</td>\n",
              "      <td>0.929524</td>\n",
              "    </tr>\n",
              "    <tr>\n",
              "      <th>histbc</th>\n",
              "      <td>1.0</td>\n",
              "      <td>0.950000</td>\n",
              "    </tr>\n",
              "    <tr>\n",
              "      <th>xgboost</th>\n",
              "      <td>1.0</td>\n",
              "      <td>0.958571</td>\n",
              "    </tr>\n",
              "    <tr>\n",
              "      <th>lightgbm</th>\n",
              "      <td>1.0</td>\n",
              "      <td>0.993333</td>\n",
              "    </tr>\n",
              "  </tbody>\n",
              "</table>\n",
              "</div>\n",
              "    <div class=\"colab-df-buttons\">\n",
              "\n",
              "  <div class=\"colab-df-container\">\n",
              "    <button class=\"colab-df-convert\" onclick=\"convertToInteractive('df-acba0a90-6599-44d4-bdf5-8e66c7283cf2')\"\n",
              "            title=\"Convert this dataframe to an interactive table.\"\n",
              "            style=\"display:none;\">\n",
              "\n",
              "  <svg xmlns=\"http://www.w3.org/2000/svg\" height=\"24px\" viewBox=\"0 -960 960 960\">\n",
              "    <path d=\"M120-120v-720h720v720H120Zm60-500h600v-160H180v160Zm220 220h160v-160H400v160Zm0 220h160v-160H400v160ZM180-400h160v-160H180v160Zm440 0h160v-160H620v160ZM180-180h160v-160H180v160Zm440 0h160v-160H620v160Z\"/>\n",
              "  </svg>\n",
              "    </button>\n",
              "\n",
              "  <style>\n",
              "    .colab-df-container {\n",
              "      display:flex;\n",
              "      gap: 12px;\n",
              "    }\n",
              "\n",
              "    .colab-df-convert {\n",
              "      background-color: #E8F0FE;\n",
              "      border: none;\n",
              "      border-radius: 50%;\n",
              "      cursor: pointer;\n",
              "      display: none;\n",
              "      fill: #1967D2;\n",
              "      height: 32px;\n",
              "      padding: 0 0 0 0;\n",
              "      width: 32px;\n",
              "    }\n",
              "\n",
              "    .colab-df-convert:hover {\n",
              "      background-color: #E2EBFA;\n",
              "      box-shadow: 0px 1px 2px rgba(60, 64, 67, 0.3), 0px 1px 3px 1px rgba(60, 64, 67, 0.15);\n",
              "      fill: #174EA6;\n",
              "    }\n",
              "\n",
              "    .colab-df-buttons div {\n",
              "      margin-bottom: 4px;\n",
              "    }\n",
              "\n",
              "    [theme=dark] .colab-df-convert {\n",
              "      background-color: #3B4455;\n",
              "      fill: #D2E3FC;\n",
              "    }\n",
              "\n",
              "    [theme=dark] .colab-df-convert:hover {\n",
              "      background-color: #434B5C;\n",
              "      box-shadow: 0px 1px 3px 1px rgba(0, 0, 0, 0.15);\n",
              "      filter: drop-shadow(0px 1px 2px rgba(0, 0, 0, 0.3));\n",
              "      fill: #FFFFFF;\n",
              "    }\n",
              "  </style>\n",
              "\n",
              "    <script>\n",
              "      const buttonEl =\n",
              "        document.querySelector('#df-acba0a90-6599-44d4-bdf5-8e66c7283cf2 button.colab-df-convert');\n",
              "      buttonEl.style.display =\n",
              "        google.colab.kernel.accessAllowed ? 'block' : 'none';\n",
              "\n",
              "      async function convertToInteractive(key) {\n",
              "        const element = document.querySelector('#df-acba0a90-6599-44d4-bdf5-8e66c7283cf2');\n",
              "        const dataTable =\n",
              "          await google.colab.kernel.invokeFunction('convertToInteractive',\n",
              "                                                    [key], {});\n",
              "        if (!dataTable) return;\n",
              "\n",
              "        const docLinkHtml = 'Like what you see? Visit the ' +\n",
              "          '<a target=\"_blank\" href=https://colab.research.google.com/notebooks/data_table.ipynb>data table notebook</a>'\n",
              "          + ' to learn more about interactive tables.';\n",
              "        element.innerHTML = '';\n",
              "        dataTable['output_type'] = 'display_data';\n",
              "        await google.colab.output.renderOutput(dataTable, element);\n",
              "        const docLink = document.createElement('div');\n",
              "        docLink.innerHTML = docLinkHtml;\n",
              "        element.appendChild(docLink);\n",
              "      }\n",
              "    </script>\n",
              "  </div>\n",
              "\n",
              "\n",
              "<div id=\"df-1c51b8ed-04f4-419b-aaf3-76f0ee3122e1\">\n",
              "  <button class=\"colab-df-quickchart\" onclick=\"quickchart('df-1c51b8ed-04f4-419b-aaf3-76f0ee3122e1')\"\n",
              "            title=\"Suggest charts.\"\n",
              "            style=\"display:none;\">\n",
              "\n",
              "<svg xmlns=\"http://www.w3.org/2000/svg\" height=\"24px\"viewBox=\"0 0 24 24\"\n",
              "     width=\"24px\">\n",
              "    <g>\n",
              "        <path d=\"M19 3H5c-1.1 0-2 .9-2 2v14c0 1.1.9 2 2 2h14c1.1 0 2-.9 2-2V5c0-1.1-.9-2-2-2zM9 17H7v-7h2v7zm4 0h-2V7h2v10zm4 0h-2v-4h2v4z\"/>\n",
              "    </g>\n",
              "</svg>\n",
              "  </button>\n",
              "\n",
              "<style>\n",
              "  .colab-df-quickchart {\n",
              "    background-color: #E8F0FE;\n",
              "    border: none;\n",
              "    border-radius: 50%;\n",
              "    cursor: pointer;\n",
              "    display: none;\n",
              "    fill: #1967D2;\n",
              "    height: 32px;\n",
              "    padding: 0 0 0 0;\n",
              "    width: 32px;\n",
              "  }\n",
              "\n",
              "  .colab-df-quickchart:hover {\n",
              "    background-color: #E2EBFA;\n",
              "    box-shadow: 0px 1px 2px rgba(60, 64, 67, 0.3), 0px 1px 3px 1px rgba(60, 64, 67, 0.15);\n",
              "    fill: #174EA6;\n",
              "  }\n",
              "\n",
              "  [theme=dark] .colab-df-quickchart {\n",
              "    background-color: #3B4455;\n",
              "    fill: #D2E3FC;\n",
              "  }\n",
              "\n",
              "  [theme=dark] .colab-df-quickchart:hover {\n",
              "    background-color: #434B5C;\n",
              "    box-shadow: 0px 1px 3px 1px rgba(0, 0, 0, 0.15);\n",
              "    filter: drop-shadow(0px 1px 2px rgba(0, 0, 0, 0.3));\n",
              "    fill: #FFFFFF;\n",
              "  }\n",
              "</style>\n",
              "\n",
              "  <script>\n",
              "    async function quickchart(key) {\n",
              "      const charts = await google.colab.kernel.invokeFunction(\n",
              "          'suggestCharts', [key], {});\n",
              "    }\n",
              "    (() => {\n",
              "      let quickchartButtonEl =\n",
              "        document.querySelector('#df-1c51b8ed-04f4-419b-aaf3-76f0ee3122e1 button');\n",
              "      quickchartButtonEl.style.display =\n",
              "        google.colab.kernel.accessAllowed ? 'block' : 'none';\n",
              "    })();\n",
              "  </script>\n",
              "</div>\n",
              "    </div>\n",
              "  </div>\n"
            ]
          },
          "metadata": {},
          "execution_count": 51
        }
      ]
    },
    {
      "cell_type": "code",
      "source": [],
      "metadata": {
        "id": "fLNJHKXUWs_Q"
      },
      "execution_count": null,
      "outputs": []
    }
  ]
}