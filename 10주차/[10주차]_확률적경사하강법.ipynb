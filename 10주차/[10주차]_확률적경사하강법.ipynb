{
  "nbformat": 4,
  "nbformat_minor": 0,
  "metadata": {
    "colab": {
      "provenance": []
    },
    "kernelspec": {
      "name": "python3",
      "display_name": "Python 3"
    },
    "language_info": {
      "name": "python"
    }
  },
  "cells": [
    {
      "cell_type": "markdown",
      "source": [
        "SGDClassifier\n",
        "  - 확률적 경사하강법이 적용된 모델\n",
        "\n",
        "확률적 경사하강법\n",
        "  - 신경망과 복잡한 모델에서 사용, 테이터셋이 크고 복잡할때 유용\n",
        "  - 손실값이 최저가 되는 방향으로 파라메터(가중치)를 조정\n",
        "  - z = ax + bx2 + cx3 + d"
      ],
      "metadata": {
        "id": "2HbQPPSovBv5"
      }
    },
    {
      "cell_type": "code",
      "source": [
        "import pandas as pd"
      ],
      "metadata": {
        "id": "G9XmKtlivDvP"
      },
      "execution_count": 3,
      "outputs": []
    },
    {
      "cell_type": "code",
      "source": [
        "url = 'https://raw.githubusercontent.com/leekyuyoung202306/PYTHON/main/10%EC%A3%BC%EC%B0%A8/data.csv'\n",
        "data = pd.read_csv(url).to_numpy()\n",
        "X = data[:,1:]\n",
        "y = data[:,0]"
      ],
      "metadata": {
        "id": "dZPn-u4HvSdf"
      },
      "execution_count": 7,
      "outputs": []
    },
    {
      "cell_type": "code",
      "source": [
        "from sklearn.model_selection import train_test_split\n",
        "x_train,x_test,y_train,y_test =  train_test_split(X,y,random_state=42,stratify=y)"
      ],
      "metadata": {
        "id": "8B7tN92DxYC2"
      },
      "execution_count": 9,
      "outputs": []
    },
    {
      "cell_type": "code",
      "source": [
        "# 표준화 StandardScaler\n",
        "from sklearn.preprocessing import StandardScaler\n",
        "ss = StandardScaler()\n",
        "ss.fit(x_train)\n",
        "x_train_scaled =  ss.transform(x_train)\n",
        "x_test_scaled =  ss.transform(x_test)"
      ],
      "metadata": {
        "id": "RY5TXb4Fx3l_"
      },
      "execution_count": 10,
      "outputs": []
    },
    {
      "cell_type": "code",
      "source": [
        "# 모델\n",
        "from sklearn.linear_model import SGDClassifier"
      ],
      "metadata": {
        "id": "9vAMigpvyVte"
      },
      "execution_count": 11,
      "outputs": []
    },
    {
      "cell_type": "code",
      "source": [
        "# L2 : Ridge 가중치의 제곱합값의 합을 추가\n",
        "# L1 : Lasso 가중치의 절대값의 합을 추가\n",
        "sgdc =   SGDClassifier()\n",
        "sgdc.fit(x_train_scaled,y_train)\n",
        "# 평가  학습데이터와,테스트데이터 --> 과적합유무를 판단\n",
        "sgdc.score(x_train_scaled,y_train), sgdc.score(x_test_scaled,y_test)\n"
      ],
      "metadata": {
        "colab": {
          "base_uri": "https://localhost:8080/"
        },
        "id": "oPSaUGGVy0J-",
        "outputId": "c4091373-9ed5-452f-cec8-fed309920279"
      },
      "execution_count": 12,
      "outputs": [
        {
          "output_type": "execute_result",
          "data": {
            "text/plain": [
              "(0.907563025210084, 0.85)"
            ]
          },
          "metadata": {},
          "execution_count": 12
        }
      ]
    },
    {
      "cell_type": "code",
      "source": [
        "# 과적합\n",
        "# 테스트성능이 더 좋음\n",
        "# 둘다 나쁨\n",
        "# 학습과 테스트 차이가 큼\n",
        "sgdc.partial_fit(x_train_scaled,y_train)\n",
        "sgdc.score(x_train_scaled,y_train), sgdc.score(x_test_scaled,y_test)"
      ],
      "metadata": {
        "colab": {
          "base_uri": "https://localhost:8080/"
        },
        "id": "YtbT52Ur0hl2",
        "outputId": "7f56a41d-f627-45f1-9f29-9c5a7daacb08"
      },
      "execution_count": 13,
      "outputs": [
        {
          "output_type": "execute_result",
          "data": {
            "text/plain": [
              "(0.8739495798319328, 0.875)"
            ]
          },
          "metadata": {},
          "execution_count": 13
        }
      ]
    },
    {
      "cell_type": "code",
      "source": [
        "# partial_fit 은 1 epoch를 수행한 것임  max_iter와 같은 개념이 epoch"
      ],
      "metadata": {
        "id": "t3L5vfNw1V2A"
      },
      "execution_count": 14,
      "outputs": []
    },
    {
      "cell_type": "code",
      "source": [
        "import numpy as np\n",
        "x_train,x_test,y_train,y_test =  train_test_split(X,y,random_state=42)\n",
        "ss = StandardScaler()\n",
        "ss.fit(x_train)\n",
        "x_train_scaled =  ss.transform(x_train)\n",
        "x_test_scaled =  ss.transform(x_test)\n",
        "# tol 허용오차 : 이전학습과 현재학습의 차이가 tol 값 을 넘어가지 않으면 학습을 종료 - 조기종료(early stopping)\n",
        "sgdc = SGDClassifier(loss='log_loss', random_state=42,penalty='l1', tol=0.1)\n",
        "train_score = []\n",
        "test_score = []\n",
        "classes = np.unique(y)"
      ],
      "metadata": {
        "id": "j4NA1FKA13NN"
      },
      "execution_count": 71,
      "outputs": []
    },
    {
      "cell_type": "code",
      "source": [
        "for _ in range(0,1000):\n",
        "  sgdc.partial_fit(x_train_scaled, y_train, classes=classes)\n",
        "  train_score.append(sgdc.score(x_train_scaled, y_train))\n",
        "  test_score.append(sgdc.score(x_test_scaled, y_test))"
      ],
      "metadata": {
        "id": "_0wjL7n82lAN"
      },
      "execution_count": 72,
      "outputs": []
    },
    {
      "cell_type": "code",
      "source": [
        "import matplotlib.pyplot as plt\n",
        "plt.plot(train_score, label='train')\n",
        "plt.plot(test_score, label='test')\n",
        "plt.xlabel('epoch')\n",
        "plt.ylabel('accuracy')\n",
        "plt.legend()\n",
        "plt.show()"
      ],
      "metadata": {
        "colab": {
          "base_uri": "https://localhost:8080/",
          "height": 449
        },
        "id": "aAElSIqL3E8E",
        "outputId": "2da8f798-4c79-494c-df2d-a5b5be4063ca"
      },
      "execution_count": 73,
      "outputs": [
        {
          "output_type": "display_data",
          "data": {
            "text/plain": [
              "<Figure size 640x480 with 1 Axes>"
            ],
            "image/png": "[encoded data removed]"
          },
          "metadata": {}
        }
      ]
    },
    {
      "cell_type": "code",
      "source": [
        "sgdc = SGDClassifier(loss='log_loss', random_state=42, max_iter=200,tol=None)\n",
        "sgdc.fit(x_train_scaled,y_train)\n",
        "sgdc.score(x_train_scaled,y_train),  sgdc.score(x_test_scaled,y_test)"
      ],
      "metadata": {
        "colab": {
          "base_uri": "https://localhost:8080/"
        },
        "id": "y0iBnKQK6PkF",
        "outputId": "429406b2-6a2f-400b-d6b5-8f6532581933"
      },
      "execution_count": 70,
      "outputs": [
        {
          "output_type": "execute_result",
          "data": {
            "text/plain": [
              "(0.9495798319327731, 0.925)"
            ]
          },
          "metadata": {},
          "execution_count": 70
        }
      ]
    },
    {
      "cell_type": "code",
      "source": [],
      "metadata": {
        "id": "tyRn4F0c7eTb"
      },
      "execution_count": null,
      "outputs": []
    }
  ]
}