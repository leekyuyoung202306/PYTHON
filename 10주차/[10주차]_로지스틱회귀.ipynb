{
  "nbformat": 4,
  "nbformat_minor": 0,
  "metadata": {
    "colab": {
      "provenance": []
    },
    "kernelspec": {
      "name": "python3",
      "display_name": "Python 3"
    },
    "language_info": {
      "name": "python"
    }
  },
  "cells": [
    {
      "cell_type": "code",
      "source": [
        "url =  'https://raw.githubusercontent.com/leekyuyoung202306/PYTHON/main/10%EC%A3%BC%EC%B0%A8/data.csv'"
      ],
      "metadata": {
        "id": "hySJUuKiiarH"
      },
      "execution_count": 3,
      "outputs": []
    },
    {
      "cell_type": "code",
      "source": [
        "import pandas as pd\n",
        "import numpy as np\n",
        "import matplotlib.pyplot as plt\n",
        "import seaborn as sns"
      ],
      "metadata": {
        "id": "LEVyi_1qlkXE"
      },
      "execution_count": 4,
      "outputs": []
    },
    {
      "cell_type": "code",
      "source": [
        "# 1. 데이터 읽기\n",
        "# 2. Species 의 종류는 몇가지 인지?"
      ],
      "metadata": {
        "id": "CzbIVD71l0cl"
      },
      "execution_count": 6,
      "outputs": []
    },
    {
      "cell_type": "code",
      "source": [
        "df = pd.read_csv(url)\n",
        "df.head()"
      ],
      "metadata": {
        "colab": {
          "base_uri": "https://localhost:8080/",
          "height": 206
        },
        "id": "gyzfcxAvmDOy",
        "outputId": "6e27ba19-b703-467c-ca38-37e54c2c523e"
      },
      "execution_count": 8,
      "outputs": [
        {
          "output_type": "execute_result",
          "data": {
            "text/plain": [
              "  Species  Weight  Length  Diagonal   Height   Width\n",
              "0       A   242.0    25.4      30.0  11.5200  4.0200\n",
              "1       A   290.0    26.3      31.2  12.4800  4.3056\n",
              "2       A   340.0    26.5      31.1  12.3778  4.6961\n",
              "3       A   363.0    29.0      33.5  12.7300  4.4555\n",
              "4       A   430.0    29.0      34.0  12.4440  5.1340"
            ],
            "text/html": [
              "\n",
              "  <div id=\"df-9d64bc24-c275-4f55-864d-f7b21cdec5a5\" class=\"colab-df-container\">\n",
              "    <div>\n",
              "<style scoped>\n",
              "    .dataframe tbody tr th:only-of-type {\n",
              "        vertical-align: middle;\n",
              "    }\n",
              "\n",
              "    .dataframe tbody tr th {\n",
              "        vertical-align: top;\n",
              "    }\n",
              "\n",
              "    .dataframe thead th {\n",
              "        text-align: right;\n",
              "    }\n",
              "</style>\n",
              "<table border=\"1\" class=\"dataframe\">\n",
              "  <thead>\n",
              "    <tr style=\"text-align: right;\">\n",
              "      <th></th>\n",
              "      <th>Species</th>\n",
              "      <th>Weight</th>\n",
              "      <th>Length</th>\n",
              "      <th>Diagonal</th>\n",
              "      <th>Height</th>\n",
              "      <th>Width</th>\n",
              "    </tr>\n",
              "  </thead>\n",
              "  <tbody>\n",
              "    <tr>\n",
              "      <th>0</th>\n",
              "      <td>A</td>\n",
              "      <td>242.0</td>\n",
              "      <td>25.4</td>\n",
              "      <td>30.0</td>\n",
              "      <td>11.5200</td>\n",
              "      <td>4.0200</td>\n",
              "    </tr>\n",
              "    <tr>\n",
              "      <th>1</th>\n",
              "      <td>A</td>\n",
              "      <td>290.0</td>\n",
              "      <td>26.3</td>\n",
              "      <td>31.2</td>\n",
              "      <td>12.4800</td>\n",
              "      <td>4.3056</td>\n",
              "    </tr>\n",
              "    <tr>\n",
              "      <th>2</th>\n",
              "      <td>A</td>\n",
              "      <td>340.0</td>\n",
              "      <td>26.5</td>\n",
              "      <td>31.1</td>\n",
              "      <td>12.3778</td>\n",
              "      <td>4.6961</td>\n",
              "    </tr>\n",
              "    <tr>\n",
              "      <th>3</th>\n",
              "      <td>A</td>\n",
              "      <td>363.0</td>\n",
              "      <td>29.0</td>\n",
              "      <td>33.5</td>\n",
              "      <td>12.7300</td>\n",
              "      <td>4.4555</td>\n",
              "    </tr>\n",
              "    <tr>\n",
              "      <th>4</th>\n",
              "      <td>A</td>\n",
              "      <td>430.0</td>\n",
              "      <td>29.0</td>\n",
              "      <td>34.0</td>\n",
              "      <td>12.4440</td>\n",
              "      <td>5.1340</td>\n",
              "    </tr>\n",
              "  </tbody>\n",
              "</table>\n",
              "</div>\n",
              "    <div class=\"colab-df-buttons\">\n",
              "\n",
              "  <div class=\"colab-df-container\">\n",
              "    <button class=\"colab-df-convert\" onclick=\"convertToInteractive('df-9d64bc24-c275-4f55-864d-f7b21cdec5a5')\"\n",
              "            title=\"Convert this dataframe to an interactive table.\"\n",
              "            style=\"display:none;\">\n",
              "\n",
              "  <svg xmlns=\"http://www.w3.org/2000/svg\" height=\"24px\" viewBox=\"0 -960 960 960\">\n",
              "    <path d=\"M120-120v-720h720v720H120Zm60-500h600v-160H180v160Zm220 220h160v-160H400v160Zm0 220h160v-160H400v160ZM180-400h160v-160H180v160Zm440 0h160v-160H620v160ZM180-180h160v-160H180v160Zm440 0h160v-160H620v160Z\"/>\n",
              "  </svg>\n",
              "    </button>\n",
              "\n",
              "  <style>\n",
              "    .colab-df-container {\n",
              "      display:flex;\n",
              "      gap: 12px;\n",
              "    }\n",
              "\n",
              "    .colab-df-convert {\n",
              "      background-color: #E8F0FE;\n",
              "      border: none;\n",
              "      border-radius: 50%;\n",
              "      cursor: pointer;\n",
              "      display: none;\n",
              "      fill: #1967D2;\n",
              "      height: 32px;\n",
              "      padding: 0 0 0 0;\n",
              "      width: 32px;\n",
              "    }\n",
              "\n",
              "    .colab-df-convert:hover {\n",
              "      background-color: #E2EBFA;\n",
              "      box-shadow: 0px 1px 2px rgba(60, 64, 67, 0.3), 0px 1px 3px 1px rgba(60, 64, 67, 0.15);\n",
              "      fill: #174EA6;\n",
              "    }\n",
              "\n",
              "    .colab-df-buttons div {\n",
              "      margin-bottom: 4px;\n",
              "    }\n",
              "\n",
              "    [theme=dark] .colab-df-convert {\n",
              "      background-color: #3B4455;\n",
              "      fill: #D2E3FC;\n",
              "    }\n",
              "\n",
              "    [theme=dark] .colab-df-convert:hover {\n",
              "      background-color: #434B5C;\n",
              "      box-shadow: 0px 1px 3px 1px rgba(0, 0, 0, 0.15);\n",
              "      filter: drop-shadow(0px 1px 2px rgba(0, 0, 0, 0.3));\n",
              "      fill: #FFFFFF;\n",
              "    }\n",
              "  </style>\n",
              "\n",
              "    <script>\n",
              "      const buttonEl =\n",
              "        document.querySelector('#df-9d64bc24-c275-4f55-864d-f7b21cdec5a5 button.colab-df-convert');\n",
              "      buttonEl.style.display =\n",
              "        google.colab.kernel.accessAllowed ? 'block' : 'none';\n",
              "\n",
              "      async function convertToInteractive(key) {\n",
              "        const element = document.querySelector('#df-9d64bc24-c275-4f55-864d-f7b21cdec5a5');\n",
              "        const dataTable =\n",
              "          await google.colab.kernel.invokeFunction('convertToInteractive',\n",
              "                                                    [key], {});\n",
              "        if (!dataTable) return;\n",
              "\n",
              "        const docLinkHtml = 'Like what you see? Visit the ' +\n",
              "          '<a target=\"_blank\" href=https://colab.research.google.com/notebooks/data_table.ipynb>data table notebook</a>'\n",
              "          + ' to learn more about interactive tables.';\n",
              "        element.innerHTML = '';\n",
              "        dataTable['output_type'] = 'display_data';\n",
              "        await google.colab.output.renderOutput(dataTable, element);\n",
              "        const docLink = document.createElement('div');\n",
              "        docLink.innerHTML = docLinkHtml;\n",
              "        element.appendChild(docLink);\n",
              "      }\n",
              "    </script>\n",
              "  </div>\n",
              "\n",
              "\n",
              "<div id=\"df-d4a625d3-416b-41a0-8446-be4fdafdcd82\">\n",
              "  <button class=\"colab-df-quickchart\" onclick=\"quickchart('df-d4a625d3-416b-41a0-8446-be4fdafdcd82')\"\n",
              "            title=\"Suggest charts.\"\n",
              "            style=\"display:none;\">\n",
              "\n",
              "<svg xmlns=\"http://www.w3.org/2000/svg\" height=\"24px\"viewBox=\"0 0 24 24\"\n",
              "     width=\"24px\">\n",
              "    <g>\n",
              "        <path d=\"M19 3H5c-1.1 0-2 .9-2 2v14c0 1.1.9 2 2 2h14c1.1 0 2-.9 2-2V5c0-1.1-.9-2-2-2zM9 17H7v-7h2v7zm4 0h-2V7h2v10zm4 0h-2v-4h2v4z\"/>\n",
              "    </g>\n",
              "</svg>\n",
              "  </button>\n",
              "\n",
              "<style>\n",
              "  .colab-df-quickchart {\n",
              "    background-color: #E8F0FE;\n",
              "    border: none;\n",
              "    border-radius: 50%;\n",
              "    cursor: pointer;\n",
              "    display: none;\n",
              "    fill: #1967D2;\n",
              "    height: 32px;\n",
              "    padding: 0 0 0 0;\n",
              "    width: 32px;\n",
              "  }\n",
              "\n",
              "  .colab-df-quickchart:hover {\n",
              "    background-color: #E2EBFA;\n",
              "    box-shadow: 0px 1px 2px rgba(60, 64, 67, 0.3), 0px 1px 3px 1px rgba(60, 64, 67, 0.15);\n",
              "    fill: #174EA6;\n",
              "  }\n",
              "\n",
              "  [theme=dark] .colab-df-quickchart {\n",
              "    background-color: #3B4455;\n",
              "    fill: #D2E3FC;\n",
              "  }\n",
              "\n",
              "  [theme=dark] .colab-df-quickchart:hover {\n",
              "    background-color: #434B5C;\n",
              "    box-shadow: 0px 1px 3px 1px rgba(0, 0, 0, 0.15);\n",
              "    filter: drop-shadow(0px 1px 2px rgba(0, 0, 0, 0.3));\n",
              "    fill: #FFFFFF;\n",
              "  }\n",
              "</style>\n",
              "\n",
              "  <script>\n",
              "    async function quickchart(key) {\n",
              "      const charts = await google.colab.kernel.invokeFunction(\n",
              "          'suggestCharts', [key], {});\n",
              "    }\n",
              "    (() => {\n",
              "      let quickchartButtonEl =\n",
              "        document.querySelector('#df-d4a625d3-416b-41a0-8446-be4fdafdcd82 button');\n",
              "      quickchartButtonEl.style.display =\n",
              "        google.colab.kernel.accessAllowed ? 'block' : 'none';\n",
              "    })();\n",
              "  </script>\n",
              "</div>\n",
              "    </div>\n",
              "  </div>\n"
            ]
          },
          "metadata": {},
          "execution_count": 8
        }
      ]
    },
    {
      "cell_type": "code",
      "source": [
        "df['Species'].value_counts()"
      ],
      "metadata": {
        "colab": {
          "base_uri": "https://localhost:8080/"
        },
        "id": "gsUhwQ57mXro",
        "outputId": "8e56f315-0c1f-427e-c706-d1506e8e9980"
      },
      "execution_count": 10,
      "outputs": [
        {
          "output_type": "execute_result",
          "data": {
            "text/plain": [
              "E    56\n",
              "A    35\n",
              "B    20\n",
              "F    17\n",
              "G    14\n",
              "D    11\n",
              "C     6\n",
              "Name: Species, dtype: int64"
            ]
          },
          "metadata": {},
          "execution_count": 10
        }
      ]
    },
    {
      "cell_type": "code",
      "source": [
        "sns.countplot(data=df,x='Species')"
      ],
      "metadata": {
        "colab": {
          "base_uri": "https://localhost:8080/",
          "height": 467
        },
        "id": "zpOMHAlOmpqN",
        "outputId": "7b6cbeeb-5f50-4c2d-fe25-868420e6bc95"
      },
      "execution_count": 11,
      "outputs": [
        {
          "output_type": "execute_result",
          "data": {
            "text/plain": [
              "<Axes: xlabel='Species', ylabel='count'>"
            ]
          },
          "metadata": {},
          "execution_count": 11
        },
        {
          "output_type": "display_data",
          "data": {
            "text/plain": [
              "<Figure size 640x480 with 1 Axes>"
            ],
            "image/png": "[encoded data removed]"
          },
          "metadata": {}
        }
      ]
    },
    {
      "cell_type": "code",
      "source": [
        "# 학습데이터, 정답을 분류"
      ],
      "metadata": {
        "id": "IVVyj4X9muab"
      },
      "execution_count": 12,
      "outputs": []
    },
    {
      "cell_type": "code",
      "source": [
        "X = df.iloc[:,1:].to_numpy()\n",
        "y = df['Species'].to_numpy()"
      ],
      "metadata": {
        "id": "-9Q_yGlrnUNc"
      },
      "execution_count": 13,
      "outputs": []
    },
    {
      "cell_type": "code",
      "source": [
        "X[:3]"
      ],
      "metadata": {
        "colab": {
          "base_uri": "https://localhost:8080/"
        },
        "id": "5l5SJFjXnrX2",
        "outputId": "c930a720-ac4f-4601-ca99-afcc975d166c"
      },
      "execution_count": 14,
      "outputs": [
        {
          "output_type": "execute_result",
          "data": {
            "text/plain": [
              "array([[242.    ,  25.4   ,  30.    ,  11.52  ,   4.02  ],\n",
              "       [290.    ,  26.3   ,  31.2   ,  12.48  ,   4.3056],\n",
              "       [340.    ,  26.5   ,  31.1   ,  12.3778,   4.6961]])"
            ]
          },
          "metadata": {},
          "execution_count": 14
        }
      ]
    },
    {
      "cell_type": "code",
      "source": [
        "y[:3]"
      ],
      "metadata": {
        "colab": {
          "base_uri": "https://localhost:8080/"
        },
        "id": "CSqb6qfynxeJ",
        "outputId": "b0cd7a22-8420-4c13-f0ee-335e44f1d145"
      },
      "execution_count": 15,
      "outputs": [
        {
          "output_type": "execute_result",
          "data": {
            "text/plain": [
              "array(['A', 'A', 'A'], dtype=object)"
            ]
          },
          "metadata": {},
          "execution_count": 15
        }
      ]
    },
    {
      "cell_type": "code",
      "source": [
        "# 학습용,테스트용 데이터 분리\n",
        "from sklearn.model_selection import train_test_split\n",
        "x_train,x_test,y_train,y_test = train_test_split(X,y,random_state=42)"
      ],
      "metadata": {
        "id": "nBX6q1czn2fv"
      },
      "execution_count": 16,
      "outputs": []
    },
    {
      "cell_type": "code",
      "source": [
        "# StandardSacler를 이용한 표준화\n",
        "from sklearn.preprocessing import StandardScaler\n",
        "ss = StandardScaler()\n",
        "ss.fit(x_train)\n",
        "x_train_scaled = ss.transform(x_train)\n",
        "x_test_scaled = ss.transform(x_test)"
      ],
      "metadata": {
        "id": "3xk7atCnomCB"
      },
      "execution_count": 17,
      "outputs": []
    },
    {
      "cell_type": "code",
      "source": [
        "# 분류 알고리즘 : k 최근접 이웃 알고리즘\n",
        "from sklearn.neighbors import KNeighborsClassifier\n",
        "knc = KNeighborsClassifier(n_neighbors=3)\n",
        "knc.fit(x_train_scaled,y_train)\n",
        "\n",
        "# 평가 : 성능, 과적합\n",
        "knc.score(x_train_scaled,y_train), knc.score(x_test_scaled, y_test)"
      ],
      "metadata": {
        "colab": {
          "base_uri": "https://localhost:8080/"
        },
        "id": "NGaDKJ2epIDn",
        "outputId": "5514d741-47ab-40c6-95f1-205dd7484533"
      },
      "execution_count": 20,
      "outputs": [
        {
          "output_type": "execute_result",
          "data": {
            "text/plain": [
              "(0.8823529411764706, 0.85)"
            ]
          },
          "metadata": {},
          "execution_count": 20
        }
      ]
    },
    {
      "cell_type": "code",
      "source": [
        "# 예측( 테스트데이터)\n",
        "x_test_scaled[:5]"
      ],
      "metadata": {
        "colab": {
          "base_uri": "https://localhost:8080/"
        },
        "id": "4OO-uZmFp6mM",
        "outputId": "df5f9f4d-8d5d-4fc0-9e82-a3b5519887e3"
      },
      "execution_count": 21,
      "outputs": [
        {
          "output_type": "execute_result",
          "data": {
            "text/plain": [
              "array([[-0.88741352, -0.91804565, -1.03098914, -0.90464451, -0.80762518],\n",
              "       [-1.06924656, -1.50842035, -1.54345461, -1.58849582, -1.93803151],\n",
              "       [-0.54401367,  0.35641402,  0.30663259, -0.8135697 , -0.65388895],\n",
              "       [-0.34698097, -0.23396068, -0.22320459, -0.11905019, -0.12233464],\n",
              "       [-0.68475132, -0.51509149, -0.58801052, -0.8998784 , -0.50124996]])"
            ]
          },
          "metadata": {},
          "execution_count": 21
        }
      ]
    },
    {
      "cell_type": "code",
      "source": [
        "# 예측결과를 바로 알려줌\n",
        "knc.predict(x_test_scaled[-5:]) , y_test[-5:]"
      ],
      "metadata": {
        "colab": {
          "base_uri": "https://localhost:8080/"
        },
        "id": "FNFR5P78q42L",
        "outputId": "2bd825f6-7b70-4683-9482-b70f5478c0a1"
      },
      "execution_count": 24,
      "outputs": [
        {
          "output_type": "execute_result",
          "data": {
            "text/plain": [
              "(array(['E', 'B', 'E', 'D', 'E'], dtype=object),\n",
              " array(['E', 'B', 'B', 'D', 'E'], dtype=object))"
            ]
          },
          "metadata": {},
          "execution_count": 24
        }
      ]
    },
    {
      "cell_type": "code",
      "source": [
        "# 예측을 확률로 표현\n",
        "knc.classes_"
      ],
      "metadata": {
        "colab": {
          "base_uri": "https://localhost:8080/"
        },
        "id": "1k4tefSRq-Nl",
        "outputId": "4aa64edf-e74d-4590-9b5b-ab8c03cb42cc"
      },
      "execution_count": 27,
      "outputs": [
        {
          "output_type": "execute_result",
          "data": {
            "text/plain": [
              "array(['A', 'B', 'C', 'D', 'E', 'F', 'G'], dtype=object)"
            ]
          },
          "metadata": {},
          "execution_count": 27
        }
      ]
    },
    {
      "cell_type": "code",
      "source": [
        "knc.predict_proba(x_test_scaled[-5:])"
      ],
      "metadata": {
        "colab": {
          "base_uri": "https://localhost:8080/"
        },
        "id": "fxzW1Rsyrgsz",
        "outputId": "b918b242-632e-4d7e-eddd-aaaf218eac63"
      },
      "execution_count": 28,
      "outputs": [
        {
          "output_type": "execute_result",
          "data": {
            "text/plain": [
              "array([[0.        , 0.33333333, 0.        , 0.        , 0.66666667,\n",
              "        0.        , 0.        ],\n",
              "       [0.        , 0.66666667, 0.        , 0.        , 0.33333333,\n",
              "        0.        , 0.        ],\n",
              "       [0.        , 0.33333333, 0.        , 0.        , 0.66666667,\n",
              "        0.        , 0.        ],\n",
              "       [0.        , 0.        , 0.        , 1.        , 0.        ,\n",
              "        0.        , 0.        ],\n",
              "       [0.        , 0.        , 0.        , 0.        , 1.        ,\n",
              "        0.        , 0.        ]])"
            ]
          },
          "metadata": {},
          "execution_count": 28
        }
      ]
    },
    {
      "cell_type": "markdown",
      "source": [
        "로지스틱 회귀\n",
        "  - 분류문제에 사용되는 통계적 기법\n",
        "  - 이진분류, 다중분류\n",
        "  - 선형회귀의 값을 로지스틱함수(시그모이드함수) 를 통과한 값\n",
        "  - z = b0 + b1*x1 + b2*x2 ....\n",
        "  - b0,b1 가중치 ,x1,x2는 입력변수\n",
        "  - 0과 1사이의 확률 값으로 변환, 특정 임계값을 기준으로 클래스를 분류"
      ],
      "metadata": {
        "id": "J0z7zuF7sSIb"
      }
    },
    {
      "cell_type": "markdown",
      "source": [
        "![image.png](data:image/png;base64,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)"
      ],
      "metadata": {
        "id": "M2iEGSIIs8En"
      }
    },
    {
      "cell_type": "code",
      "source": [
        "z = np.arange(-5,5,0.1)\n",
        "phi = 1 / (1 + np.exp(-z))\n",
        "plt.plot(z, phi)\n",
        "plt.show()"
      ],
      "metadata": {
        "colab": {
          "base_uri": "https://localhost:8080/",
          "height": 487
        },
        "id": "nUAxU-06ruwb",
        "outputId": "5990eb0c-7cd3-4e07-b66e-082dcda3ff2e"
      },
      "execution_count": 30,
      "outputs": [
        {
          "output_type": "stream",
          "name": "stderr",
          "text": [
            "/usr/local/lib/python3.10/dist-packages/IPython/core/pylabtools.py:151: UserWarning: Glyph 8722 (\\N{MINUS SIGN}) missing from current font.\n",
            "  fig.canvas.print_figure(bytes_io, **kw)\n"
          ]
        },
        {
          "output_type": "display_data",
          "data": {
            "text/plain": [
              "<Figure size 640x480 with 1 Axes>"
            ],
            "image/png": "[encoded data removed]"
          },
          "metadata": {}
        }
      ]
    },
    {
      "cell_type": "markdown",
      "source": [
        "로지스틱 회귀(이진분류)\n",
        "  - B, F"
      ],
      "metadata": {
        "id": "pQBEn_awwcE6"
      }
    },
    {
      "cell_type": "code",
      "source": [
        "two_indexs = (y == 'B') | (y == 'F')\n",
        "B_F_X = X[two_indexs]\n",
        "B_F_y = y[two_indexs]"
      ],
      "metadata": {
        "id": "Wkdu7UJYt1CC"
      },
      "execution_count": 41,
      "outputs": []
    },
    {
      "cell_type": "code",
      "source": [
        "x_train,x_test,y_train,y_test = train_test_split(B_F_X,B_F_y,random_state=42)\n",
        "ss = StandardScaler()\n",
        "ss.fit(x_train)\n",
        "x_train_sacled = ss.transform(x_train)\n",
        "x_test_scaled = ss.transform(x_test)"
      ],
      "metadata": {
        "id": "r-b2lw_FxAXJ"
      },
      "execution_count": 42,
      "outputs": []
    },
    {
      "cell_type": "code",
      "source": [
        "from sklearn.linear_model import LogisticRegression  # 분류"
      ],
      "metadata": {
        "id": "bDp-UUuUyHqN"
      },
      "execution_count": 43,
      "outputs": []
    },
    {
      "cell_type": "code",
      "source": [
        "lr = LogisticRegression()\n",
        "lr.fit(x_train_sacled,y_train)"
      ],
      "metadata": {
        "colab": {
          "base_uri": "https://localhost:8080/",
          "height": 74
        },
        "id": "GUL4QklJzuSs",
        "outputId": "e64a9bb9-e7ef-4abe-cae8-bade4fbd3714"
      },
      "execution_count": 44,
      "outputs": [
        {
          "output_type": "execute_result",
          "data": {
            "text/plain": [
              "LogisticRegression()"
            ],
            "text/html": [
              "<style>#sk-container-id-1 {color: black;background-color: white;}#sk-container-id-1 pre{padding: 0;}#sk-container-id-1 div.sk-toggleable {background-color: white;}#sk-container-id-1 label.sk-toggleable__label {cursor: pointer;display: block;width: 100%;margin-bottom: 0;padding: 0.3em;box-sizing: border-box;text-align: center;}#sk-container-id-1 label.sk-toggleable__label-arrow:before {content: \"▸\";float: left;margin-right: 0.25em;color: #696969;}#sk-container-id-1 label.sk-toggleable__label-arrow:hover:before {color: black;}#sk-container-id-1 div.sk-estimator:hover label.sk-toggleable__label-arrow:before {color: black;}#sk-container-id-1 div.sk-toggleable__content {max-height: 0;max-width: 0;overflow: hidden;text-align: left;background-color: #f0f8ff;}#sk-container-id-1 div.sk-toggleable__content pre {margin: 0.2em;color: black;border-radius: 0.25em;background-color: #f0f8ff;}#sk-container-id-1 input.sk-toggleable__control:checked~div.sk-toggleable__content {max-height: 200px;max-width: 100%;overflow: auto;}#sk-container-id-1 input.sk-toggleable__control:checked~label.sk-toggleable__label-arrow:before {content: \"▾\";}#sk-container-id-1 div.sk-estimator input.sk-toggleable__control:checked~label.sk-toggleable__label {background-color: #d4ebff;}#sk-container-id-1 div.sk-label input.sk-toggleable__control:checked~label.sk-toggleable__label {background-color: #d4ebff;}#sk-container-id-1 input.sk-hidden--visually {border: 0;clip: rect(1px 1px 1px 1px);clip: rect(1px, 1px, 1px, 1px);height: 1px;margin: -1px;overflow: hidden;padding: 0;position: absolute;width: 1px;}#sk-container-id-1 div.sk-estimator {font-family: monospace;background-color: #f0f8ff;border: 1px dotted black;border-radius: 0.25em;box-sizing: border-box;margin-bottom: 0.5em;}#sk-container-id-1 div.sk-estimator:hover {background-color: #d4ebff;}#sk-container-id-1 div.sk-parallel-item::after {content: \"\";width: 100%;border-bottom: 1px solid gray;flex-grow: 1;}#sk-container-id-1 div.sk-label:hover label.sk-toggleable__label {background-color: #d4ebff;}#sk-container-id-1 div.sk-serial::before {content: \"\";position: absolute;border-left: 1px solid gray;box-sizing: border-box;top: 0;bottom: 0;left: 50%;z-index: 0;}#sk-container-id-1 div.sk-serial {display: flex;flex-direction: column;align-items: center;background-color: white;padding-right: 0.2em;padding-left: 0.2em;position: relative;}#sk-container-id-1 div.sk-item {position: relative;z-index: 1;}#sk-container-id-1 div.sk-parallel {display: flex;align-items: stretch;justify-content: center;background-color: white;position: relative;}#sk-container-id-1 div.sk-item::before, #sk-container-id-1 div.sk-parallel-item::before {content: \"\";position: absolute;border-left: 1px solid gray;box-sizing: border-box;top: 0;bottom: 0;left: 50%;z-index: -1;}#sk-container-id-1 div.sk-parallel-item {display: flex;flex-direction: column;z-index: 1;position: relative;background-color: white;}#sk-container-id-1 div.sk-parallel-item:first-child::after {align-self: flex-end;width: 50%;}#sk-container-id-1 div.sk-parallel-item:last-child::after {align-self: flex-start;width: 50%;}#sk-container-id-1 div.sk-parallel-item:only-child::after {width: 0;}#sk-container-id-1 div.sk-dashed-wrapped {border: 1px dashed gray;margin: 0 0.4em 0.5em 0.4em;box-sizing: border-box;padding-bottom: 0.4em;background-color: white;}#sk-container-id-1 div.sk-label label {font-family: monospace;font-weight: bold;display: inline-block;line-height: 1.2em;}#sk-container-id-1 div.sk-label-container {text-align: center;}#sk-container-id-1 div.sk-container {/* jupyter's `normalize.less` sets `[hidden] { display: none; }` but bootstrap.min.css set `[hidden] { display: none !important; }` so we also need the `!important` here to be able to override the default hidden behavior on the sphinx rendered scikit-learn.org. See: https://github.com/scikit-learn/scikit-learn/issues/21755 */display: inline-block !important;position: relative;}#sk-container-id-1 div.sk-text-repr-fallback {display: none;}</style><div id=\"sk-container-id-1\" class=\"sk-top-container\"><div class=\"sk-text-repr-fallback\"><pre>LogisticRegression()</pre><b>In a Jupyter environment, please rerun this cell to show the HTML representation or trust the notebook. <br />On GitHub, the HTML representation is unable to render, please try loading this page with nbviewer.org.</b></div><div class=\"sk-container\" hidden><div class=\"sk-item\"><div class=\"sk-estimator sk-toggleable\"><input class=\"sk-toggleable__control sk-hidden--visually\" id=\"sk-estimator-id-1\" type=\"checkbox\" checked><label for=\"sk-estimator-id-1\" class=\"sk-toggleable__label sk-toggleable__label-arrow\">LogisticRegression</label><div class=\"sk-toggleable__content\"><pre>LogisticRegression()</pre></div></div></div></div></div>"
            ]
          },
          "metadata": {},
          "execution_count": 44
        }
      ]
    },
    {
      "cell_type": "code",
      "source": [
        "lr.score(x_train_sacled,y_train) , lr.score(x_test_scaled,y_test)"
      ],
      "metadata": {
        "colab": {
          "base_uri": "https://localhost:8080/"
        },
        "id": "vZqHUFy2z2hY",
        "outputId": "79de9c0d-166b-441f-924a-2f6c2449e3e6"
      },
      "execution_count": 46,
      "outputs": [
        {
          "output_type": "execute_result",
          "data": {
            "text/plain": [
              "(1.0, 1.0)"
            ]
          },
          "metadata": {},
          "execution_count": 46
        }
      ]
    },
    {
      "cell_type": "code",
      "source": [
        "lr.predict(x_test_scaled[:5]),  y_test[:5]"
      ],
      "metadata": {
        "colab": {
          "base_uri": "https://localhost:8080/"
        },
        "id": "Sjm-CTpu0FIg",
        "outputId": "fc60a940-ea00-47ff-bf18-01321fa21917"
      },
      "execution_count": 47,
      "outputs": [
        {
          "output_type": "execute_result",
          "data": {
            "text/plain": [
              "(array(['B', 'B', 'B', 'F', 'F'], dtype=object),\n",
              " array(['B', 'B', 'B', 'F', 'F'], dtype=object))"
            ]
          },
          "metadata": {},
          "execution_count": 47
        }
      ]
    },
    {
      "cell_type": "code",
      "source": [
        "# 확률값\n",
        "lr.predict_proba(x_test_scaled[:5])"
      ],
      "metadata": {
        "colab": {
          "base_uri": "https://localhost:8080/"
        },
        "id": "toR8oRcG0Tfm",
        "outputId": "5352b6fe-65f5-4515-c939-3c33f8d7bc00"
      },
      "execution_count": 48,
      "outputs": [
        {
          "output_type": "execute_result",
          "data": {
            "text/plain": [
              "array([[0.89902954, 0.10097046],\n",
              "       [0.90163949, 0.09836051],\n",
              "       [0.93007224, 0.06992776],\n",
              "       [0.05563118, 0.94436882],\n",
              "       [0.00219424, 0.99780576]])"
            ]
          },
          "metadata": {},
          "execution_count": 48
        }
      ]
    },
    {
      "cell_type": "code",
      "source": [
        "lr.classes_"
      ],
      "metadata": {
        "colab": {
          "base_uri": "https://localhost:8080/"
        },
        "id": "c57pwiNW0hLP",
        "outputId": "83813aa6-9c41-4b77-a73c-214256ec144a"
      },
      "execution_count": 49,
      "outputs": [
        {
          "output_type": "execute_result",
          "data": {
            "text/plain": [
              "array(['B', 'F'], dtype=object)"
            ]
          },
          "metadata": {},
          "execution_count": 49
        }
      ]
    },
    {
      "cell_type": "code",
      "source": [
        "df.columns[1:]"
      ],
      "metadata": {
        "colab": {
          "base_uri": "https://localhost:8080/"
        },
        "id": "qred3Ktz0lCl",
        "outputId": "1fef81e3-f661-4ba0-e64c-b82db9d9f7a0"
      },
      "execution_count": 51,
      "outputs": [
        {
          "output_type": "execute_result",
          "data": {
            "text/plain": [
              "Index(['Weight', 'Length', 'Diagonal', 'Height', 'Width'], dtype='object')"
            ]
          },
          "metadata": {},
          "execution_count": 51
        }
      ]
    },
    {
      "cell_type": "code",
      "source": [
        "# z = b0*'Weight', b1*'Length', b2*'Diagonal', b3*'Height', b4*'Width' + bias"
      ],
      "metadata": {
        "id": "LDoGQvKE0rZ-"
      },
      "execution_count": 52,
      "outputs": []
    },
    {
      "cell_type": "code",
      "source": [
        "lr.coef_, lr.intercept_"
      ],
      "metadata": {
        "colab": {
          "base_uri": "https://localhost:8080/"
        },
        "id": "VoBmnIjz03CM",
        "outputId": "d7665c68-ec7d-4371-eee8-89ca5a60a945"
      },
      "execution_count": 53,
      "outputs": [
        {
          "output_type": "execute_result",
          "data": {
            "text/plain": [
              "(array([[ 0.51463797,  1.41675741,  1.39308138, -0.78687366,  0.25839289]]),\n",
              " array([0.05576825]))"
            ]
          },
          "metadata": {},
          "execution_count": 53
        }
      ]
    },
    {
      "cell_type": "code",
      "source": [
        "# 로지스틱 결정함수 양성클래스에 대한 예측점수\n",
        "# B F\n",
        "# 0,1\n",
        "decision = lr.decision_function(x_test_scaled[:5])\n",
        "decision"
      ],
      "metadata": {
        "colab": {
          "base_uri": "https://localhost:8080/"
        },
        "id": "ldNZFr121EiF",
        "outputId": "0180e45c-9032-4c70-da8b-a26fa7b6d12d"
      },
      "execution_count": 55,
      "outputs": [
        {
          "output_type": "execute_result",
          "data": {
            "text/plain": [
              "array([-2.18648786, -2.21557532, -2.58779951,  2.83177298,  6.11972514])"
            ]
          },
          "metadata": {},
          "execution_count": 55
        }
      ]
    },
    {
      "cell_type": "code",
      "source": [
        "# 로지스틱함수(시그모이드함수 적용) -- 확률  (0 ~ 1)\n",
        "# 양성클래스일 확률\n",
        "from scipy.special import expit\n",
        "expit(decision)"
      ],
      "metadata": {
        "colab": {
          "base_uri": "https://localhost:8080/"
        },
        "id": "TmvY_-3X2N_d",
        "outputId": "464c9f6b-c74b-433e-e34a-a24397e4460d"
      },
      "execution_count": 56,
      "outputs": [
        {
          "output_type": "execute_result",
          "data": {
            "text/plain": [
              "array([0.10097046, 0.09836051, 0.06992776, 0.94436882, 0.99780576])"
            ]
          },
          "metadata": {},
          "execution_count": 56
        }
      ]
    },
    {
      "cell_type": "markdown",
      "source": [
        "로지스틱 회귀(다중분류)"
      ],
      "metadata": {
        "id": "uBvhu7Eu25Ow"
      }
    },
    {
      "cell_type": "code",
      "source": [
        "# 규제강도와 최대 반복횟수\n",
        "lr = LogisticRegression(C=20, max_iter=1000)"
      ],
      "metadata": {
        "id": "hwrpG5Ya22_A"
      },
      "execution_count": 84,
      "outputs": []
    },
    {
      "cell_type": "code",
      "source": [
        "df = pd.read_csv(url)\n",
        "X = df.iloc[:,1:].to_numpy()\n",
        "y = df['Species'].to_numpy()"
      ],
      "metadata": {
        "id": "PtHGyTOB3XpC"
      },
      "execution_count": 85,
      "outputs": []
    },
    {
      "cell_type": "code",
      "source": [
        "# 분할\n",
        "x_train,x_test,y_train,y_test = train_test_split(X,y,random_state=42)"
      ],
      "metadata": {
        "id": "n-BoSuaK3sXk"
      },
      "execution_count": 86,
      "outputs": []
    },
    {
      "cell_type": "code",
      "source": [
        "# 표준화\n",
        "ss = StandardScaler()\n",
        "ss.fit(x_train)\n",
        "x_train_scaled = ss.transform(x_train)\n",
        "x_test_scaled = ss.transform(x_test)"
      ],
      "metadata": {
        "id": "fJ4ICPRI3wJ-"
      },
      "execution_count": 87,
      "outputs": []
    },
    {
      "cell_type": "code",
      "source": [
        "# 모델적용\n",
        "lr.fit(x_train_scaled,y_train)"
      ],
      "metadata": {
        "colab": {
          "base_uri": "https://localhost:8080/",
          "height": 74
        },
        "id": "aPaQkhi53w6O",
        "outputId": "7bd1f596-48ca-41af-f4d1-dd958a3244d1"
      },
      "execution_count": 88,
      "outputs": [
        {
          "output_type": "execute_result",
          "data": {
            "text/plain": [
              "LogisticRegression(C=20, max_iter=1000)"
            ],
            "text/html": [
              "<style>#sk-container-id-3 {color: black;background-color: white;}#sk-container-id-3 pre{padding: 0;}#sk-container-id-3 div.sk-toggleable {background-color: white;}#sk-container-id-3 label.sk-toggleable__label {cursor: pointer;display: block;width: 100%;margin-bottom: 0;padding: 0.3em;box-sizing: border-box;text-align: center;}#sk-container-id-3 label.sk-toggleable__label-arrow:before {content: \"▸\";float: left;margin-right: 0.25em;color: #696969;}#sk-container-id-3 label.sk-toggleable__label-arrow:hover:before {color: black;}#sk-container-id-3 div.sk-estimator:hover label.sk-toggleable__label-arrow:before {color: black;}#sk-container-id-3 div.sk-toggleable__content {max-height: 0;max-width: 0;overflow: hidden;text-align: left;background-color: #f0f8ff;}#sk-container-id-3 div.sk-toggleable__content pre {margin: 0.2em;color: black;border-radius: 0.25em;background-color: #f0f8ff;}#sk-container-id-3 input.sk-toggleable__control:checked~div.sk-toggleable__content {max-height: 200px;max-width: 100%;overflow: auto;}#sk-container-id-3 input.sk-toggleable__control:checked~label.sk-toggleable__label-arrow:before {content: \"▾\";}#sk-container-id-3 div.sk-estimator input.sk-toggleable__control:checked~label.sk-toggleable__label {background-color: #d4ebff;}#sk-container-id-3 div.sk-label input.sk-toggleable__control:checked~label.sk-toggleable__label {background-color: #d4ebff;}#sk-container-id-3 input.sk-hidden--visually {border: 0;clip: rect(1px 1px 1px 1px);clip: rect(1px, 1px, 1px, 1px);height: 1px;margin: -1px;overflow: hidden;padding: 0;position: absolute;width: 1px;}#sk-container-id-3 div.sk-estimator {font-family: monospace;background-color: #f0f8ff;border: 1px dotted black;border-radius: 0.25em;box-sizing: border-box;margin-bottom: 0.5em;}#sk-container-id-3 div.sk-estimator:hover {background-color: #d4ebff;}#sk-container-id-3 div.sk-parallel-item::after {content: \"\";width: 100%;border-bottom: 1px solid gray;flex-grow: 1;}#sk-container-id-3 div.sk-label:hover label.sk-toggleable__label {background-color: #d4ebff;}#sk-container-id-3 div.sk-serial::before {content: \"\";position: absolute;border-left: 1px solid gray;box-sizing: border-box;top: 0;bottom: 0;left: 50%;z-index: 0;}#sk-container-id-3 div.sk-serial {display: flex;flex-direction: column;align-items: center;background-color: white;padding-right: 0.2em;padding-left: 0.2em;position: relative;}#sk-container-id-3 div.sk-item {position: relative;z-index: 1;}#sk-container-id-3 div.sk-parallel {display: flex;align-items: stretch;justify-content: center;background-color: white;position: relative;}#sk-container-id-3 div.sk-item::before, #sk-container-id-3 div.sk-parallel-item::before {content: \"\";position: absolute;border-left: 1px solid gray;box-sizing: border-box;top: 0;bottom: 0;left: 50%;z-index: -1;}#sk-container-id-3 div.sk-parallel-item {display: flex;flex-direction: column;z-index: 1;position: relative;background-color: white;}#sk-container-id-3 div.sk-parallel-item:first-child::after {align-self: flex-end;width: 50%;}#sk-container-id-3 div.sk-parallel-item:last-child::after {align-self: flex-start;width: 50%;}#sk-container-id-3 div.sk-parallel-item:only-child::after {width: 0;}#sk-container-id-3 div.sk-dashed-wrapped {border: 1px dashed gray;margin: 0 0.4em 0.5em 0.4em;box-sizing: border-box;padding-bottom: 0.4em;background-color: white;}#sk-container-id-3 div.sk-label label {font-family: monospace;font-weight: bold;display: inline-block;line-height: 1.2em;}#sk-container-id-3 div.sk-label-container {text-align: center;}#sk-container-id-3 div.sk-container {/* jupyter's `normalize.less` sets `[hidden] { display: none; }` but bootstrap.min.css set `[hidden] { display: none !important; }` so we also need the `!important` here to be able to override the default hidden behavior on the sphinx rendered scikit-learn.org. See: https://github.com/scikit-learn/scikit-learn/issues/21755 */display: inline-block !important;position: relative;}#sk-container-id-3 div.sk-text-repr-fallback {display: none;}</style><div id=\"sk-container-id-3\" class=\"sk-top-container\"><div class=\"sk-text-repr-fallback\"><pre>LogisticRegression(C=20, max_iter=1000)</pre><b>In a Jupyter environment, please rerun this cell to show the HTML representation or trust the notebook. <br />On GitHub, the HTML representation is unable to render, please try loading this page with nbviewer.org.</b></div><div class=\"sk-container\" hidden><div class=\"sk-item\"><div class=\"sk-estimator sk-toggleable\"><input class=\"sk-toggleable__control sk-hidden--visually\" id=\"sk-estimator-id-3\" type=\"checkbox\" checked><label for=\"sk-estimator-id-3\" class=\"sk-toggleable__label sk-toggleable__label-arrow\">LogisticRegression</label><div class=\"sk-toggleable__content\"><pre>LogisticRegression(C=20, max_iter=1000)</pre></div></div></div></div></div>"
            ]
          },
          "metadata": {},
          "execution_count": 88
        }
      ]
    },
    {
      "cell_type": "code",
      "source": [
        "# 평가\n",
        "lr.score(x_train_scaled,y_train), lr.score(x_test_scaled,y_test)"
      ],
      "metadata": {
        "colab": {
          "base_uri": "https://localhost:8080/"
        },
        "id": "lJlaqCm23xyR",
        "outputId": "8ebb20ae-ff3e-4f6e-d063-021c0d704c63"
      },
      "execution_count": 89,
      "outputs": [
        {
          "output_type": "execute_result",
          "data": {
            "text/plain": [
              "(0.9327731092436975, 0.925)"
            ]
          },
          "metadata": {},
          "execution_count": 89
        }
      ]
    },
    {
      "cell_type": "code",
      "source": [
        "# 예측\n",
        "lr.predict(x_test_scaled[:5])"
      ],
      "metadata": {
        "colab": {
          "base_uri": "https://localhost:8080/"
        },
        "id": "DDBKdPrv3yby",
        "outputId": "e54054a6-11fd-4190-ab45-bdeab6556b40"
      },
      "execution_count": 90,
      "outputs": [
        {
          "output_type": "execute_result",
          "data": {
            "text/plain": [
              "array(['E', 'G', 'F', 'B', 'E'], dtype=object)"
            ]
          },
          "metadata": {},
          "execution_count": 90
        }
      ]
    },
    {
      "cell_type": "code",
      "source": [
        "lr.classes_"
      ],
      "metadata": {
        "colab": {
          "base_uri": "https://localhost:8080/"
        },
        "id": "za7HVqSi5xmk",
        "outputId": "77ea6aa5-20e2-4ff7-bdce-584504dff98a"
      },
      "execution_count": 91,
      "outputs": [
        {
          "output_type": "execute_result",
          "data": {
            "text/plain": [
              "array(['A', 'B', 'C', 'D', 'E', 'F', 'G'], dtype=object)"
            ]
          },
          "metadata": {},
          "execution_count": 91
        }
      ]
    },
    {
      "cell_type": "code",
      "source": [
        "decision = lr.decision_function(x_test_scaled[:5])\n",
        "decision"
      ],
      "metadata": {
        "colab": {
          "base_uri": "https://localhost:8080/"
        },
        "id": "p4ekj67P5Ho1",
        "outputId": "89763beb-d6b9-4356-b4b4-afece01abb16"
      },
      "execution_count": 92,
      "outputs": [
        {
          "output_type": "execute_result",
          "data": {
            "text/plain": [
              "array([[ -6.4981075 ,   3.33887406,  -0.63447906,   1.03222976,\n",
              "          5.16362741,  -2.72866624,   0.32652158],\n",
              "       [-10.8594787 ,   2.97809206,  -4.25966706,   1.92718268,\n",
              "          4.77100483,  -2.39848068,   7.84134687],\n",
              "       [ -4.33529002,   2.35757961,  -3.87154737,  -6.233078  ,\n",
              "          3.17445742,   6.48671188,   2.42116649],\n",
              "       [ -0.68336376,   3.26454113,   1.25851985,   0.45272689,\n",
              "          2.6470026 ,  -1.1866731 ,  -5.7527536 ],\n",
              "       [ -6.39707374,   3.50282892,  -0.70679131,  -1.99274278,\n",
              "          5.81574167,  -0.11034273,  -0.11162003]])"
            ]
          },
          "metadata": {},
          "execution_count": 92
        }
      ]
    },
    {
      "cell_type": "code",
      "source": [
        "from scipy.special import softmax\n",
        "np.round(softmax(decision),2)"
      ],
      "metadata": {
        "colab": {
          "base_uri": "https://localhost:8080/"
        },
        "id": "4dq69m1N54kW",
        "outputId": "816100e8-d69b-4d85-a99f-48239f41e3e2"
      },
      "execution_count": 93,
      "outputs": [
        {
          "output_type": "execute_result",
          "data": {
            "text/plain": [
              "array([[0.  , 0.01, 0.  , 0.  , 0.04, 0.  , 0.  ],\n",
              "       [0.  , 0.  , 0.  , 0.  , 0.03, 0.  , 0.63],\n",
              "       [0.  , 0.  , 0.  , 0.  , 0.01, 0.16, 0.  ],\n",
              "       [0.  , 0.01, 0.  , 0.  , 0.  , 0.  , 0.  ],\n",
              "       [0.  , 0.01, 0.  , 0.  , 0.08, 0.  , 0.  ]])"
            ]
          },
          "metadata": {},
          "execution_count": 93
        }
      ]
    },
    {
      "cell_type": "code",
      "source": [
        "np.round(lr.predict_proba(x_test_scaled[:5]),2)"
      ],
      "metadata": {
        "colab": {
          "base_uri": "https://localhost:8080/"
        },
        "id": "NAISFP685wmc",
        "outputId": "b49263fb-3feb-4210-c58c-1303147df3fb"
      },
      "execution_count": 94,
      "outputs": [
        {
          "output_type": "execute_result",
          "data": {
            "text/plain": [
              "array([[0.  , 0.14, 0.  , 0.01, 0.84, 0.  , 0.01],\n",
              "       [0.  , 0.01, 0.  , 0.  , 0.04, 0.  , 0.95],\n",
              "       [0.  , 0.02, 0.  , 0.  , 0.03, 0.93, 0.02],\n",
              "       [0.01, 0.57, 0.08, 0.03, 0.31, 0.01, 0.  ],\n",
              "       [0.  , 0.09, 0.  , 0.  , 0.9 , 0.  , 0.  ]])"
            ]
          },
          "metadata": {},
          "execution_count": 94
        }
      ]
    },
    {
      "cell_type": "markdown",
      "source": [
        "실습용 데이터로 분류 모델 만들기"
      ],
      "metadata": {
        "id": "wKq5FRx87qc1"
      }
    },
    {
      "cell_type": "code",
      "source": [],
      "metadata": {
        "id": "WICGZV217A3O"
      },
      "execution_count": 94,
      "outputs": []
    }
  ]
}