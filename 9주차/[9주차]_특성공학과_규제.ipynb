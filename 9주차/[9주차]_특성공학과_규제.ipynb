{
  "nbformat": 4,
  "nbformat_minor": 0,
  "metadata": {
    "colab": {
      "provenance": []
    },
    "kernelspec": {
      "name": "python3",
      "display_name": "Python 3"
    },
    "language_info": {
      "name": "python"
    }
  },
  "cells": [
    {
      "cell_type": "markdown",
      "source": [
        "다중회귀"
      ],
      "metadata": {
        "id": "BuA86SnRKhQ2"
      }
    },
    {
      "cell_type": "code",
      "source": [
        "import numpy as np\n",
        "import pandas as pd\n",
        "weight = np.array( [5.9, 32.0, 40.0, 51.5, 70.0, 100.0, 78.0, 80.0, 85.0, 85.0, 110.0, 115.0, 125.0, 130.0, 120.0, 120.0, 130.0, 135.0, 110.0, 130.0, 150.0, 145.0, 150.0, 170.0, 225.0, 145.0, 188.0, 180.0, 197.0, 218.0, 300.0, 260.0, 265.0, 250.0, 250.0, 300.0, 320.0, 514.0, 556.0, 840.0, 685.0, 700.0, 700.0, 690.0, 900.0, 650.0, 820.0, 850.0, 900.0, 1015.0, 820.0, 1100.0, 1000.0, 1100.0, 1000.0, 1000.0] )"
      ],
      "metadata": {
        "id": "Oe1xX3xjKiOS"
      },
      "execution_count": 1,
      "outputs": []
    },
    {
      "cell_type": "code",
      "source": [
        "df = pd.read_csv('https://raw.githubusercontent.com/leekyuyoung202306/PYTHON/main/data/full.csv')\n",
        "df.head()"
      ],
      "metadata": {
        "colab": {
          "base_uri": "https://localhost:8080/",
          "height": 206
        },
        "id": "R8-YBnjnLFgo",
        "outputId": "b92fd4d5-3642-4bff-fe89-2da0882769b4"
      },
      "execution_count": 2,
      "outputs": [
        {
          "output_type": "execute_result",
          "data": {
            "text/plain": [
              "   length   height   width\n",
              "0     8.4     2.11    1.41\n",
              "1    13.7     3.53    2.00\n",
              "2    15.0     3.82    2.43\n",
              "3    16.2     4.59    2.63\n",
              "4    17.4     4.59    2.94"
            ],
            "text/html": [
              "\n",
              "\n",
              "  <div id=\"df-3f610a10-df61-439c-8c2b-dc9a5c58e104\">\n",
              "    <div class=\"colab-df-container\">\n",
              "      <div>\n",
              "<style scoped>\n",
              "    .dataframe tbody tr th:only-of-type {\n",
              "        vertical-align: middle;\n",
              "    }\n",
              "\n",
              "    .dataframe tbody tr th {\n",
              "        vertical-align: top;\n",
              "    }\n",
              "\n",
              "    .dataframe thead th {\n",
              "        text-align: right;\n",
              "    }\n",
              "</style>\n",
              "<table border=\"1\" class=\"dataframe\">\n",
              "  <thead>\n",
              "    <tr style=\"text-align: right;\">\n",
              "      <th></th>\n",
              "      <th>length</th>\n",
              "      <th>height</th>\n",
              "      <th>width</th>\n",
              "    </tr>\n",
              "  </thead>\n",
              "  <tbody>\n",
              "    <tr>\n",
              "      <th>0</th>\n",
              "      <td>8.4</td>\n",
              "      <td>2.11</td>\n",
              "      <td>1.41</td>\n",
              "    </tr>\n",
              "    <tr>\n",
              "      <th>1</th>\n",
              "      <td>13.7</td>\n",
              "      <td>3.53</td>\n",
              "      <td>2.00</td>\n",
              "    </tr>\n",
              "    <tr>\n",
              "      <th>2</th>\n",
              "      <td>15.0</td>\n",
              "      <td>3.82</td>\n",
              "      <td>2.43</td>\n",
              "    </tr>\n",
              "    <tr>\n",
              "      <th>3</th>\n",
              "      <td>16.2</td>\n",
              "      <td>4.59</td>\n",
              "      <td>2.63</td>\n",
              "    </tr>\n",
              "    <tr>\n",
              "      <th>4</th>\n",
              "      <td>17.4</td>\n",
              "      <td>4.59</td>\n",
              "      <td>2.94</td>\n",
              "    </tr>\n",
              "  </tbody>\n",
              "</table>\n",
              "</div>\n",
              "      <button class=\"colab-df-convert\" onclick=\"convertToInteractive('df-3f610a10-df61-439c-8c2b-dc9a5c58e104')\"\n",
              "              title=\"Convert this dataframe to an interactive table.\"\n",
              "              style=\"display:none;\">\n",
              "\n",
              "  <svg xmlns=\"http://www.w3.org/2000/svg\" height=\"24px\"viewBox=\"0 0 24 24\"\n",
              "       width=\"24px\">\n",
              "    <path d=\"M0 0h24v24H0V0z\" fill=\"none\"/>\n",
              "    <path d=\"M18.56 5.44l.94 2.06.94-2.06 2.06-.94-2.06-.94-.94-2.06-.94 2.06-2.06.94zm-11 1L8.5 8.5l.94-2.06 2.06-.94-2.06-.94L8.5 2.5l-.94 2.06-2.06.94zm10 10l.94 2.06.94-2.06 2.06-.94-2.06-.94-.94-2.06-.94 2.06-2.06.94z\"/><path d=\"M17.41 7.96l-1.37-1.37c-.4-.4-.92-.59-1.43-.59-.52 0-1.04.2-1.43.59L10.3 9.45l-7.72 7.72c-.78.78-.78 2.05 0 2.83L4 21.41c.39.39.9.59 1.41.59.51 0 1.02-.2 1.41-.59l7.78-7.78 2.81-2.81c.8-.78.8-2.07 0-2.86zM5.41 20L4 18.59l7.72-7.72 1.47 1.35L5.41 20z\"/>\n",
              "  </svg>\n",
              "      </button>\n",
              "\n",
              "\n",
              "\n",
              "    <div id=\"df-392a8feb-3bdf-4ac5-8eeb-e204773e350e\">\n",
              "      <button class=\"colab-df-quickchart\" onclick=\"quickchart('df-392a8feb-3bdf-4ac5-8eeb-e204773e350e')\"\n",
              "              title=\"Suggest charts.\"\n",
              "              style=\"display:none;\">\n",
              "\n",
              "<svg xmlns=\"http://www.w3.org/2000/svg\" height=\"24px\"viewBox=\"0 0 24 24\"\n",
              "     width=\"24px\">\n",
              "    <g>\n",
              "        <path d=\"M19 3H5c-1.1 0-2 .9-2 2v14c0 1.1.9 2 2 2h14c1.1 0 2-.9 2-2V5c0-1.1-.9-2-2-2zM9 17H7v-7h2v7zm4 0h-2V7h2v10zm4 0h-2v-4h2v4z\"/>\n",
              "    </g>\n",
              "</svg>\n",
              "      </button>\n",
              "    </div>\n",
              "\n",
              "<style>\n",
              "  .colab-df-quickchart {\n",
              "    background-color: #E8F0FE;\n",
              "    border: none;\n",
              "    border-radius: 50%;\n",
              "    cursor: pointer;\n",
              "    display: none;\n",
              "    fill: #1967D2;\n",
              "    height: 32px;\n",
              "    padding: 0 0 0 0;\n",
              "    width: 32px;\n",
              "  }\n",
              "\n",
              "  .colab-df-quickchart:hover {\n",
              "    background-color: #E2EBFA;\n",
              "    box-shadow: 0px 1px 2px rgba(60, 64, 67, 0.3), 0px 1px 3px 1px rgba(60, 64, 67, 0.15);\n",
              "    fill: #174EA6;\n",
              "  }\n",
              "\n",
              "  [theme=dark] .colab-df-quickchart {\n",
              "    background-color: #3B4455;\n",
              "    fill: #D2E3FC;\n",
              "  }\n",
              "\n",
              "  [theme=dark] .colab-df-quickchart:hover {\n",
              "    background-color: #434B5C;\n",
              "    box-shadow: 0px 1px 3px 1px rgba(0, 0, 0, 0.15);\n",
              "    filter: drop-shadow(0px 1px 2px rgba(0, 0, 0, 0.3));\n",
              "    fill: #FFFFFF;\n",
              "  }\n",
              "</style>\n",
              "\n",
              "    <script>\n",
              "      async function quickchart(key) {\n",
              "        const containerElement = document.querySelector('#' + key);\n",
              "        const charts = await google.colab.kernel.invokeFunction(\n",
              "            'suggestCharts', [key], {});\n",
              "      }\n",
              "    </script>\n",
              "\n",
              "\n",
              "      <script>\n",
              "\n",
              "function displayQuickchartButton(domScope) {\n",
              "  let quickchartButtonEl =\n",
              "    domScope.querySelector('#df-392a8feb-3bdf-4ac5-8eeb-e204773e350e button.colab-df-quickchart');\n",
              "  quickchartButtonEl.style.display =\n",
              "    google.colab.kernel.accessAllowed ? 'block' : 'none';\n",
              "}\n",
              "\n",
              "        displayQuickchartButton(document);\n",
              "      </script>\n",
              "      <style>\n",
              "    .colab-df-container {\n",
              "      display:flex;\n",
              "      flex-wrap:wrap;\n",
              "      gap: 12px;\n",
              "    }\n",
              "\n",
              "    .colab-df-convert {\n",
              "      background-color: #E8F0FE;\n",
              "      border: none;\n",
              "      border-radius: 50%;\n",
              "      cursor: pointer;\n",
              "      display: none;\n",
              "      fill: #1967D2;\n",
              "      height: 32px;\n",
              "      padding: 0 0 0 0;\n",
              "      width: 32px;\n",
              "    }\n",
              "\n",
              "    .colab-df-convert:hover {\n",
              "      background-color: #E2EBFA;\n",
              "      box-shadow: 0px 1px 2px rgba(60, 64, 67, 0.3), 0px 1px 3px 1px rgba(60, 64, 67, 0.15);\n",
              "      fill: #174EA6;\n",
              "    }\n",
              "\n",
              "    [theme=dark] .colab-df-convert {\n",
              "      background-color: #3B4455;\n",
              "      fill: #D2E3FC;\n",
              "    }\n",
              "\n",
              "    [theme=dark] .colab-df-convert:hover {\n",
              "      background-color: #434B5C;\n",
              "      box-shadow: 0px 1px 3px 1px rgba(0, 0, 0, 0.15);\n",
              "      filter: drop-shadow(0px 1px 2px rgba(0, 0, 0, 0.3));\n",
              "      fill: #FFFFFF;\n",
              "    }\n",
              "  </style>\n",
              "\n",
              "      <script>\n",
              "        const buttonEl =\n",
              "          document.querySelector('#df-3f610a10-df61-439c-8c2b-dc9a5c58e104 button.colab-df-convert');\n",
              "        buttonEl.style.display =\n",
              "          google.colab.kernel.accessAllowed ? 'block' : 'none';\n",
              "\n",
              "        async function convertToInteractive(key) {\n",
              "          const element = document.querySelector('#df-3f610a10-df61-439c-8c2b-dc9a5c58e104');\n",
              "          const dataTable =\n",
              "            await google.colab.kernel.invokeFunction('convertToInteractive',\n",
              "                                                     [key], {});\n",
              "          if (!dataTable) return;\n",
              "\n",
              "          const docLinkHtml = 'Like what you see? Visit the ' +\n",
              "            '<a target=\"_blank\" href=https://colab.research.google.com/notebooks/data_table.ipynb>data table notebook</a>'\n",
              "            + ' to learn more about interactive tables.';\n",
              "          element.innerHTML = '';\n",
              "          dataTable['output_type'] = 'display_data';\n",
              "          await google.colab.output.renderOutput(dataTable, element);\n",
              "          const docLink = document.createElement('div');\n",
              "          docLink.innerHTML = docLinkHtml;\n",
              "          element.appendChild(docLink);\n",
              "        }\n",
              "      </script>\n",
              "    </div>\n",
              "  </div>\n"
            ]
          },
          "metadata": {},
          "execution_count": 2
        }
      ]
    },
    {
      "cell_type": "code",
      "source": [
        "data = df.to_numpy()\n",
        "data[:5]"
      ],
      "metadata": {
        "colab": {
          "base_uri": "https://localhost:8080/"
        },
        "id": "ux-uoRsBLhdv",
        "outputId": "d5b7cb39-d7ca-4214-8450-33cb55dc4b41"
      },
      "execution_count": 4,
      "outputs": [
        {
          "output_type": "execute_result",
          "data": {
            "text/plain": [
              "array([[ 8.4 ,  2.11,  1.41],\n",
              "       [13.7 ,  3.53,  2.  ],\n",
              "       [15.  ,  3.82,  2.43],\n",
              "       [16.2 ,  4.59,  2.63],\n",
              "       [17.4 ,  4.59,  2.94]])"
            ]
          },
          "metadata": {},
          "execution_count": 4
        }
      ]
    },
    {
      "cell_type": "code",
      "source": [
        "# 1.데이터 확보(학습용, 정답)"
      ],
      "metadata": {
        "id": "oWGgYJ-7L5jM"
      },
      "execution_count": 5,
      "outputs": []
    },
    {
      "cell_type": "code",
      "source": [
        "# 학습을 위해 분할하고 섞기 - 사이킷런 - 분할기\n",
        "from sklearn.model_selection import train_test_split\n",
        "x_train,x_test,y_train,y_test = train_test_split(data,weight,random_state=42)"
      ],
      "metadata": {
        "id": "zY1nB28FMdof"
      },
      "execution_count": 6,
      "outputs": []
    },
    {
      "cell_type": "markdown",
      "source": [
        "다중회귀 모델"
      ],
      "metadata": {
        "id": "SCJlSt5oNSJe"
      }
    },
    {
      "cell_type": "code",
      "source": [
        "from sklearn.preprocessing import PolynomialFeatures"
      ],
      "metadata": {
        "id": "XoZ7Pd9SNICv"
      },
      "execution_count": 7,
      "outputs": []
    },
    {
      "cell_type": "code",
      "source": [
        "poly = PolynomialFeatures()\n",
        "poly.fit(x_train)\n",
        "x_train_poly = poly.transform(x_train)\n",
        "x_test_poly = poly.transform(x_test)"
      ],
      "metadata": {
        "id": "lmoJsPSGNb-k"
      },
      "execution_count": 8,
      "outputs": []
    },
    {
      "cell_type": "code",
      "source": [
        "x_train_poly.shape, x_test_poly.shape"
      ],
      "metadata": {
        "colab": {
          "base_uri": "https://localhost:8080/"
        },
        "id": "kMe0oQIaN11c",
        "outputId": "29d10b70-5519-4972-d406-ad40efc924bb"
      },
      "execution_count": 9,
      "outputs": [
        {
          "output_type": "execute_result",
          "data": {
            "text/plain": [
              "((42, 10), (14, 10))"
            ]
          },
          "metadata": {},
          "execution_count": 9
        }
      ]
    },
    {
      "cell_type": "code",
      "source": [
        "poly.get_feature_names_out()"
      ],
      "metadata": {
        "colab": {
          "base_uri": "https://localhost:8080/"
        },
        "id": "ARjMbtVwN8fB",
        "outputId": "52fd79b1-8bc7-4b77-ab05-2b35b7d9cd6f"
      },
      "execution_count": 10,
      "outputs": [
        {
          "output_type": "execute_result",
          "data": {
            "text/plain": [
              "array(['1', 'x0', 'x1', 'x2', 'x0^2', 'x0 x1', 'x0 x2', 'x1^2', 'x1 x2',\n",
              "       'x2^2'], dtype=object)"
            ]
          },
          "metadata": {},
          "execution_count": 10
        }
      ]
    },
    {
      "cell_type": "code",
      "source": [
        "# 모델\n",
        "from sklearn.linear_model import LinearRegression\n",
        "lr = LinearRegression()\n",
        "lr.fit(x_train_poly,y_train) # 학습\n",
        "# 평가\n",
        "lr.score(x_train_poly,y_train), lr.score(x_test_poly,y_test)"
      ],
      "metadata": {
        "colab": {
          "base_uri": "https://localhost:8080/"
        },
        "id": "LVaTi4LPOMP0",
        "outputId": "3c2950c3-d0df-459e-8162-3a3dc99ca09f"
      },
      "execution_count": 11,
      "outputs": [
        {
          "output_type": "execute_result",
          "data": {
            "text/plain": [
              "(0.9903183436982125, 0.971455991159412)"
            ]
          },
          "metadata": {},
          "execution_count": 11
        }
      ]
    },
    {
      "cell_type": "code",
      "source": [
        "poly = PolynomialFeatures(degree=5)\n",
        "poly.fit(x_train)\n",
        "x_train_poly = poly.transform(x_train)\n",
        "x_test_poly = poly.transform(x_test)\n",
        "x_train_poly.shape, x_test_poly.shape"
      ],
      "metadata": {
        "colab": {
          "base_uri": "https://localhost:8080/"
        },
        "id": "udLYMOwHPpwd",
        "outputId": "965d4cb3-109d-4889-d472-ac84f3d4ddaa"
      },
      "execution_count": 12,
      "outputs": [
        {
          "output_type": "execute_result",
          "data": {
            "text/plain": [
              "((42, 56), (14, 56))"
            ]
          },
          "metadata": {},
          "execution_count": 12
        }
      ]
    },
    {
      "cell_type": "code",
      "source": [
        "lr = LinearRegression()\n",
        "lr.fit(x_train_poly,y_train) # 학습\n",
        "# 평가\n",
        "lr.score(x_train_poly,y_train), lr.score(x_test_poly,y_test)"
      ],
      "metadata": {
        "colab": {
          "base_uri": "https://localhost:8080/"
        },
        "id": "_TJH6ms9Pxm_",
        "outputId": "68faf7c1-d42f-455d-9d26-b64f61ca719f"
      },
      "execution_count": 13,
      "outputs": [
        {
          "output_type": "execute_result",
          "data": {
            "text/plain": [
              "(0.9999999999999998, -144.40488780428055)"
            ]
          },
          "metadata": {},
          "execution_count": 13
        }
      ]
    },
    {
      "cell_type": "markdown",
      "source": [
        "규제\n",
        "  - 릿지 Ridge\n",
        "  - 라쏘 Lasso"
      ],
      "metadata": {
        "id": "5HMRLhpHQWGM"
      }
    },
    {
      "cell_type": "code",
      "source": [
        "from sklearn.linear_model import Ridge\n",
        "ridge = Ridge()\n",
        "ridge.fit(x_train_poly,y_train) # 학습\n",
        "# 평가\n",
        "ridge.score(x_train_poly,y_train), ridge.score(x_test_poly,y_test)"
      ],
      "metadata": {
        "colab": {
          "base_uri": "https://localhost:8080/"
        },
        "id": "uJDpW9ZYQHxF",
        "outputId": "afa15596-1d74-4a45-a817-203faa716b26"
      },
      "execution_count": 14,
      "outputs": [
        {
          "output_type": "stream",
          "name": "stderr",
          "text": [
            "/usr/local/lib/python3.10/dist-packages/sklearn/linear_model/_ridge.py:255: UserWarning: Singular matrix in solving dual problem. Using least-squares solution instead.\n",
            "  warnings.warn(\n"
          ]
        },
        {
          "output_type": "execute_result",
          "data": {
            "text/plain": [
              "(0.997068886326891, 0.9149349567883622)"
            ]
          },
          "metadata": {},
          "execution_count": 14
        }
      ]
    },
    {
      "cell_type": "markdown",
      "source": [
        "규제알고리즘은 데이터를 표준화 했을때 최적의 상태를 보인다."
      ],
      "metadata": {
        "id": "7JpJ1zvFRyTe"
      }
    },
    {
      "cell_type": "code",
      "source": [
        "from sklearn.preprocessing import StandardScaler\n",
        "ss = StandardScaler()\n",
        "ss.fit(x_train_poly)\n",
        "x_train_poly_scaled = ss.transform(x_train_poly)\n",
        "x_test_poly_scaled = ss.transform(x_test_poly)\n",
        "\n",
        "ridge = Ridge()\n",
        "ridge.fit(x_train_poly_scaled,y_train) # 학습\n",
        "# 평가\n",
        "ridge.score(x_train_poly_scaled,y_train), ridge.score(x_test_poly_scaled,y_test)"
      ],
      "metadata": {
        "colab": {
          "base_uri": "https://localhost:8080/"
        },
        "id": "VDbKmfxoRbjm",
        "outputId": "dfaa391f-5512-415f-c8e8-81d6012fc33f"
      },
      "execution_count": 15,
      "outputs": [
        {
          "output_type": "execute_result",
          "data": {
            "text/plain": [
              "(0.9896101671037343, 0.9790693977615387)"
            ]
          },
          "metadata": {},
          "execution_count": 15
        }
      ]
    },
    {
      "cell_type": "markdown",
      "source": [
        "![image.png](data:image/png;base64,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)"
      ],
      "metadata": {
        "id": "0tMDzdPjTD1L"
      }
    },
    {
      "cell_type": "code",
      "source": [
        "# mse : 실제값과 예측값의 오차\n",
        "# 베타는 i번째의 계수값(제약조건의 값)\n",
        "# 알파 : 규제 강도"
      ],
      "metadata": {
        "id": "01xOAJjhTIFy"
      },
      "execution_count": null,
      "outputs": []
    },
    {
      "cell_type": "code",
      "source": [
        "# 규제 알고리즘 : 절적한 규제 강도를 찾아야 한다.\n",
        "# 과적합( 학습, 테스트의 결과가 너무 차이가 날때.. 또는 둘다 너무 낮을때)"
      ],
      "metadata": {
        "id": "wEkJ4CyLTuxG"
      },
      "execution_count": 16,
      "outputs": []
    },
    {
      "cell_type": "code",
      "source": [
        "alpha_list = [0.001,0.01,0.1,1,10,100]\n",
        "train_scores = []\n",
        "test_scores = []\n",
        "for alpha in alpha_list:\n",
        "  ridge = Ridge(alpha=alpha)\n",
        "  ridge.fit(x_train_poly_scaled,y_train)\n",
        "  train_scores.append(ridge.score(x_train_poly_scaled,y_train))\n",
        "  test_scores.append(ridge.score(x_test_poly_scaled,y_test))"
      ],
      "metadata": {
        "id": "84awbjWJT0Yh"
      },
      "execution_count": 17,
      "outputs": []
    },
    {
      "cell_type": "code",
      "source": [],
      "metadata": {
        "id": "HyXWGGhvVEhW"
      },
      "execution_count": null,
      "outputs": []
    }
  ]
}