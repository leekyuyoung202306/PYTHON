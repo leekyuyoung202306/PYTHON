{
  "nbformat": 4,
  "nbformat_minor": 0,
  "metadata": {
    "colab": {
      "provenance": []
    },
    "kernelspec": {
      "name": "python3",
      "display_name": "Python 3"
    },
    "language_info": {
      "name": "python"
    }
  },
  "cells": [
    {
      "cell_type": "markdown",
      "source": [
        "ERROR / EXCEPTION"
      ],
      "metadata": {
        "id": "GK9ks4nhZ20C"
      }
    },
    {
      "cell_type": "code",
      "execution_count": 3,
      "metadata": {
        "colab": {
          "base_uri": "https://localhost:8080/"
        },
        "id": "BRtWEGMFXtGD",
        "outputId": "b1941ee3-daec-427f-c09a-3620dad06af0"
      },
      "outputs": [
        {
          "output_type": "stream",
          "name": "stdout",
          "text": [
            "0\n",
            "10\n"
          ]
        }
      ],
      "source": [
        "num1,num2 = 10,0\n",
        "if num2 != 0:\n",
        "  print(num1/num2)\n",
        "print(num1*num2 )\n",
        "print(num1 + num2)"
      ]
    },
    {
      "cell_type": "markdown",
      "source": [
        "오류(Error)\n",
        "  - 구문 오류(Syntax Error)\n",
        "    - 오타\n",
        "  - 런타임 오류(runtime Error) / 예외(exception)\n",
        "    - 프로그램 실행중에 발생하는 오류"
      ],
      "metadata": {
        "id": "w3vwme8nagJk"
      }
    },
    {
      "cell_type": "code",
      "source": [
        "list_1 = [1,2]\n",
        "print(list_1[2])"
      ],
      "metadata": {
        "colab": {
          "base_uri": "https://localhost:8080/",
          "height": 192
        },
        "id": "mvmKe2x4aNoh",
        "outputId": "4b04ddcc-1336-4a6a-d699-49da32a2f3de"
      },
      "execution_count": 4,
      "outputs": [
        {
          "output_type": "error",
          "ename": "IndexError",
          "evalue": "ignored",
          "traceback": [
            "\u001b[0;31m---------------------------------------------------------------------------\u001b[0m",
            "\u001b[0;31mIndexError\u001b[0m                                Traceback (most recent call last)",
            "\u001b[0;32m<ipython-input-4-7f9e11006386>\u001b[0m in \u001b[0;36m<cell line: 2>\u001b[0;34m()\u001b[0m\n\u001b[1;32m      1\u001b[0m \u001b[0mlist_1\u001b[0m \u001b[0;34m=\u001b[0m \u001b[0;34m[\u001b[0m\u001b[0;36m1\u001b[0m\u001b[0;34m,\u001b[0m\u001b[0;36m2\u001b[0m\u001b[0;34m]\u001b[0m\u001b[0;34m\u001b[0m\u001b[0;34m\u001b[0m\u001b[0m\n\u001b[0;32m----> 2\u001b[0;31m \u001b[0mprint\u001b[0m\u001b[0;34m(\u001b[0m\u001b[0mlist_1\u001b[0m\u001b[0;34m[\u001b[0m\u001b[0;36m2\u001b[0m\u001b[0;34m]\u001b[0m\u001b[0;34m)\u001b[0m\u001b[0;34m\u001b[0m\u001b[0;34m\u001b[0m\u001b[0m\n\u001b[0m",
            "\u001b[0;31mIndexError\u001b[0m: list index out of range"
          ]
        }
      ]
    },
    {
      "cell_type": "code",
      "source": [
        "input_number = input(\"정수를 입력하세요 : \")\n",
        "if input_number.isdigit():\n",
        "  print(int(input_number) + 10)"
      ],
      "metadata": {
        "colab": {
          "base_uri": "https://localhost:8080/"
        },
        "id": "cnUWVyP-bB6g",
        "outputId": "51982a18-4c97-4a73-f956-17b72497ccb5"
      },
      "execution_count": 13,
      "outputs": [
        {
          "output_type": "stream",
          "name": "stdout",
          "text": [
            "정수를 입력하세요 : 234234\n",
            "234244\n"
          ]
        }
      ]
    },
    {
      "cell_type": "markdown",
      "source": [
        "예외 적용\n",
        "  - try:\n",
        "    - 예외 발생이 예상되는 모든 코드\n",
        "  - except:\n",
        "    - 예외가 발생했을때 처리할 코드\n"
      ],
      "metadata": {
        "id": "rlR_rUMZcqLY"
      }
    },
    {
      "cell_type": "code",
      "source": [
        "num1,num2 = 10, 0\n",
        "try:\n",
        "  print(num1 / num2)\n",
        "except:\n",
        "  # print(\"뭔가 잘못되었습니다.\")\n",
        "  pass\n",
        "\n",
        "print(\"종료합니다.\")"
      ],
      "metadata": {
        "colab": {
          "base_uri": "https://localhost:8080/"
        },
        "id": "7JmMBZaMbQGf",
        "outputId": "9bbb1391-c390-4aa8-87e7-393a2d3a8670"
      },
      "execution_count": 17,
      "outputs": [
        {
          "output_type": "stream",
          "name": "stdout",
          "text": [
            "종료합니다.\n"
          ]
        }
      ]
    },
    {
      "cell_type": "markdown",
      "source": [
        "파이썬 리스트에는 어떠한 데이터도 들어갈수 있음\n",
        "\n",
        "그래서 문자형 숫자도 있고 기타 등등도 있는데..\n",
        "\n",
        "해당 리스트에서 문자형 숫자를 정수로 변환해서 새로운\n",
        "\n",
        "리스트에 담는다"
      ],
      "metadata": {
        "id": "jDuuBL93eE9P"
      }
    },
    {
      "cell_type": "code",
      "source": [
        "# 특정 리스트에서 문자열 숫자는 숫자로 변경해서 새로운 리스트에 담는다\n",
        "list_inputs = ['12','10','오백십',123]\n",
        "list_number = []"
      ],
      "metadata": {
        "id": "zp_9LOy5dicJ"
      },
      "execution_count": 27,
      "outputs": []
    },
    {
      "cell_type": "code",
      "source": [
        "from ast import Pass\n",
        "for data in list_inputs:\n",
        "  try:\n",
        "    list_number.append(int(data))\n",
        "  except:\n",
        "    Pass\n"
      ],
      "metadata": {
        "id": "HPpIuSVyegfh"
      },
      "execution_count": 28,
      "outputs": []
    },
    {
      "cell_type": "code",
      "source": [
        "list_number"
      ],
      "metadata": {
        "colab": {
          "base_uri": "https://localhost:8080/"
        },
        "id": "zQxSct-IfVJ-",
        "outputId": "0029c86a-325b-469e-b4e0-f9906755469e"
      },
      "execution_count": 29,
      "outputs": [
        {
          "output_type": "execute_result",
          "data": {
            "text/plain": [
              "[12, 10, 123]"
            ]
          },
          "metadata": {},
          "execution_count": 29
        }
      ]
    },
    {
      "cell_type": "markdown",
      "source": [
        "try:\n",
        "  - 예외가 발생할 가능성이 있는 코드\n",
        "\n",
        "except:\n",
        "  - 예외발생시 처리할 코드\n",
        "\n",
        "else:\n",
        "  - 예외가 발생하지 않았을때 처리할 코드"
      ],
      "metadata": {
        "id": "4hqOs3jbghi-"
      }
    },
    {
      "cell_type": "code",
      "source": [
        "try:\n",
        "  input_number = int(input(\"정수를 입력하세요 : \"))\n",
        "except:\n",
        "  print(\"정수를 입력하세요\")\n",
        "else:\n",
        "  print(f\"입력한 정수는 : {input_number} 입니다.\")"
      ],
      "metadata": {
        "colab": {
          "base_uri": "https://localhost:8080/"
        },
        "id": "EBJ4p6q8fhhv",
        "outputId": "d863a16c-1b85-44ac-955f-3392419b1b15"
      },
      "execution_count": 31,
      "outputs": [
        {
          "output_type": "stream",
          "name": "stdout",
          "text": [
            "정수를 입력하세요 : 12121\n",
            "입력한 정수는 : 12121 입니다.\n"
          ]
        }
      ]
    },
    {
      "cell_type": "markdown",
      "source": [
        "try:\n",
        "  - 예외가 발생할 가능성이 있는 코드\n",
        "\n",
        "except:\n",
        "  - 예외발생시 처리할 코드\n",
        "\n",
        "else:\n",
        "  - 예외가 발생하지 않았을때 처리할 코드\n",
        "  \n",
        "finally:\n",
        "  - 무조건.....  "
      ],
      "metadata": {
        "id": "MKPwR_i6iLqY"
      }
    },
    {
      "cell_type": "code",
      "source": [
        "try:\n",
        "  input_number = int(input(\"정수를 입력하세요 : \"))\n",
        "except:\n",
        "  print(\"정수를 입력하세요\")\n",
        "else:\n",
        "  print(f\"입력한 정수는 : {input_number} 입니다.\")\n",
        "finally:\n",
        "  print(\"무조건 실행되는 구문입니다.\")"
      ],
      "metadata": {
        "colab": {
          "base_uri": "https://localhost:8080/"
        },
        "id": "V8kqOoakfmS-",
        "outputId": "9ca829cb-7b11-431d-fa17-15aee74fa7f1"
      },
      "execution_count": 33,
      "outputs": [
        {
          "output_type": "stream",
          "name": "stdout",
          "text": [
            "정수를 입력하세요 : 1212\n",
            "입력한 정수는 : 1212 입니다.\n",
            "무조건 실행되는 구문입니다.\n"
          ]
        }
      ]
    },
    {
      "cell_type": "markdown",
      "source": [
        "try구문은 독립적으로 사용 불가\n",
        "\n",
        "반드시 except or finally와 함께\n",
        "\n",
        "else구문을 사용하려면 반드시 except 구분 뒤에 사용"
      ],
      "metadata": {
        "id": "Hd43Ojz8i4TW"
      }
    },
    {
      "cell_type": "markdown",
      "source": [
        "- try ~ except\n",
        "- try ~ except ~ else\n",
        "- try ~ except ~ finally\n",
        "- try ~ except ~ else ~ finally"
      ],
      "metadata": {
        "id": "wu3yXAnFjK3F"
      }
    },
    {
      "cell_type": "markdown",
      "source": [
        "중간에 return 문이 있으면 어떻게 될까?"
      ],
      "metadata": {
        "id": "xWLgSahUkSs-"
      }
    },
    {
      "cell_type": "code",
      "source": [
        "def try_function():\n",
        "  try:\n",
        "    print(10/1)\n",
        "    return\n",
        "  except:\n",
        "    print('except')\n",
        "  else:\n",
        "    print(\"예외가 발생하지 않았읍니다.\")\n",
        "\n",
        "try_function()"
      ],
      "metadata": {
        "colab": {
          "base_uri": "https://localhost:8080/"
        },
        "id": "-Es_IznUitcm",
        "outputId": "45ec61df-8d80-4fee-c0df-08f5b0abbcae"
      },
      "execution_count": 47,
      "outputs": [
        {
          "output_type": "stream",
          "name": "stdout",
          "text": [
            "10.0\n"
          ]
        }
      ]
    },
    {
      "cell_type": "code",
      "source": [
        "def try_function():\n",
        "  try:\n",
        "    print(10/1)\n",
        "    return\n",
        "  except:\n",
        "    print('except')\n",
        "  else:\n",
        "    print(\"예외가 발생하지 않았읍니다.\")\n",
        "  finally:\n",
        "    print(\"무조건 실행됩니다.\")\n",
        "\n",
        "try_function()"
      ],
      "metadata": {
        "colab": {
          "base_uri": "https://localhost:8080/"
        },
        "id": "YwmvzhEmkAGm",
        "outputId": "a17f5d7a-f2fa-433e-879a-122c4c639478"
      },
      "execution_count": 50,
      "outputs": [
        {
          "output_type": "stream",
          "name": "stdout",
          "text": [
            "10.0\n",
            "무조건 실행됩니다.\n"
          ]
        }
      ]
    },
    {
      "cell_type": "markdown",
      "source": [
        "try:\n",
        "\n",
        "except 에러종류:\n",
        "\n",
        "except 에러종류:"
      ],
      "metadata": {
        "id": "mir4SQjEovM2"
      }
    },
    {
      "cell_type": "code",
      "source": [
        "try:\n",
        "  # 10 / 0\n",
        "  int('abc')\n",
        "except ZeroDivisionError:\n",
        "  print(\"0으로 나눌수 없읍니다.\")\n",
        "except:\n",
        "  print(\"그밖의 에러\")"
      ],
      "metadata": {
        "colab": {
          "base_uri": "https://localhost:8080/"
        },
        "id": "3MqrLaMeoF0S",
        "outputId": "acb910b2-7ab9-46e5-f08b-9b75d0da4d7b"
      },
      "execution_count": 66,
      "outputs": [
        {
          "output_type": "stream",
          "name": "stdout",
          "text": [
            "그밖의 에러\n"
          ]
        }
      ]
    },
    {
      "cell_type": "code",
      "source": [
        "try:\n",
        "  num1,num2 = map(int, input(\"공백을 기준으로 두개의 정수를 입력하세요\").split(' '))\n",
        "  print(f\"입력하신값은 {num1} {num2} 이고 {num1} / {num2} = {num1/num2}\")\n",
        "except (ZeroDivisionError,ValueError) as e:\n",
        "  print(\"올바른 값을 입력하세요\")\n",
        "  print(\"에러원인은 : \" + str(e))\n",
        "except Exception as e:\n",
        "  print(\"그밖의 에러 : \" + str(e))"
      ],
      "metadata": {
        "colab": {
          "base_uri": "https://localhost:8080/"
        },
        "id": "vIDfn5stohMs",
        "outputId": "bbfcd13b-fe28-4dcd-b6a0-35bcf1e527b4"
      },
      "execution_count": 87,
      "outputs": [
        {
          "output_type": "stream",
          "name": "stdout",
          "text": [
            "공백을 기준으로 두개의 정수를 입력하세요0\n",
            "올바른 값을 입력하세요\n",
            "에러원인은 : empty separator\n"
          ]
        }
      ]
    },
    {
      "cell_type": "markdown",
      "source": [
        "사용자 정의 예외\n",
        "  - 기존 Exception클래스를 상속받아서 만든다"
      ],
      "metadata": {
        "id": "R1PBPDXWt6mr"
      }
    },
    {
      "cell_type": "code",
      "source": [
        "class Over10Times(Exception):\n",
        "  def __str__(self):\n",
        "    return \"10번을 초과했습니다.\"\n",
        "\n",
        "print(Over10Times())"
      ],
      "metadata": {
        "colab": {
          "base_uri": "https://localhost:8080/"
        },
        "id": "3AuF_4SvqqBz",
        "outputId": "42dab48a-992b-4e6d-d88e-fc893226084c"
      },
      "execution_count": 91,
      "outputs": [
        {
          "output_type": "stream",
          "name": "stdout",
          "text": [
            "10번을 초과했습니다.\n"
          ]
        }
      ]
    },
    {
      "cell_type": "code",
      "source": [
        "try:\n",
        "  raise Over10Times()\n",
        "except Over10Times as e:\n",
        "  print(e)\n",
        "except Exception as e:\n",
        "  print(e)\n",
        "\n"
      ],
      "metadata": {
        "colab": {
          "base_uri": "https://localhost:8080/"
        },
        "id": "-YJRIpWjq8xT",
        "outputId": "b3889868-3728-44ed-bf88-975cb5d1498d"
      },
      "execution_count": 100,
      "outputs": [
        {
          "output_type": "stream",
          "name": "stdout",
          "text": [
            "10번을 초과했습니다.\n"
          ]
        }
      ]
    },
    {
      "cell_type": "code",
      "source": [
        "try:\n",
        "  raise Exception(\"에러가 발생\")\n",
        "except Exception as e:\n",
        "  print(e)\n"
      ],
      "metadata": {
        "colab": {
          "base_uri": "https://localhost:8080/"
        },
        "id": "CVpAeUPBu_dR",
        "outputId": "f73d46cb-3c62-402f-f9c5-9f7a2590ac3d"
      },
      "execution_count": 101,
      "outputs": [
        {
          "output_type": "stream",
          "name": "stdout",
          "text": [
            "에러가 발생\n"
          ]
        }
      ]
    },
    {
      "cell_type": "code",
      "source": [
        "class MyException(Exception):\n",
        "  def __init__(self, msg):\n",
        "    super().__init__(msg)\n",
        "\n",
        "class MyException2(Exception):\n",
        "  def __init__(self):\n",
        "    super().__init__(\"내가 만든 에러\")\n",
        "\n",
        "class MyException3(Exception):\n",
        "  def __str__(self):\n",
        "    return \"내가 만든 애러2\""
      ],
      "metadata": {
        "id": "YXE4GkGWwThy"
      },
      "execution_count": 102,
      "outputs": []
    },
    {
      "cell_type": "code",
      "source": [
        "try:\n",
        "  raise MyException(\"사용자 정의에러\")\n",
        "except MyException as e:\n",
        "  print(e)"
      ],
      "metadata": {
        "colab": {
          "base_uri": "https://localhost:8080/"
        },
        "id": "ibwfGe0OwinC",
        "outputId": "de0bc215-7006-425c-d5cc-26f7f056570f"
      },
      "execution_count": 106,
      "outputs": [
        {
          "output_type": "stream",
          "name": "stdout",
          "text": [
            "사용자 정의에러\n"
          ]
        }
      ]
    },
    {
      "cell_type": "code",
      "source": [
        "raise MyException(\"사용자 정의에러\")"
      ],
      "metadata": {
        "colab": {
          "base_uri": "https://localhost:8080/",
          "height": 174
        },
        "id": "_BFRaKDiwkhJ",
        "outputId": "deca2202-1a1d-4593-d693-e5bf31ea573e"
      },
      "execution_count": 107,
      "outputs": [
        {
          "output_type": "error",
          "ename": "MyException",
          "evalue": "ignored",
          "traceback": [
            "\u001b[0;31m---------------------------------------------------------------------------\u001b[0m",
            "\u001b[0;31mMyException\u001b[0m                               Traceback (most recent call last)",
            "\u001b[0;32m<ipython-input-107-fa7bb943929d>\u001b[0m in \u001b[0;36m<cell line: 1>\u001b[0;34m()\u001b[0m\n\u001b[0;32m----> 1\u001b[0;31m \u001b[0;32mraise\u001b[0m \u001b[0mMyException\u001b[0m\u001b[0;34m(\u001b[0m\u001b[0;34m\"사용자 정의에러\"\u001b[0m\u001b[0;34m)\u001b[0m\u001b[0;34m\u001b[0m\u001b[0;34m\u001b[0m\u001b[0m\n\u001b[0m",
            "\u001b[0;31mMyException\u001b[0m: 사용자 정의에러"
          ]
        }
      ]
    },
    {
      "cell_type": "code",
      "source": [
        "class OutOfStockError(Exception):\n",
        "  def __init__(self,item):\n",
        "    super().__init__(f\"{item}은 품절입니다.\")\n",
        "\n",
        "def check_stock(item):\n",
        "  stock = {\n",
        "      '사과': 5,\n",
        "      '바나나': 2,\n",
        "      '딸기': 0\n",
        "  }\n",
        "  if stock.get(item,0) == 0:\n",
        "    raise OutOfStockError(item)\n",
        "  else:\n",
        "    print(f\"{item}의 재고가 {stock.get(item)}개 있습니다.\")"
      ],
      "metadata": {
        "id": "FnuvD7WR1PMK"
      },
      "execution_count": 120,
      "outputs": []
    },
    {
      "cell_type": "code",
      "source": [
        "fruit = ['딸기','바나나','수박','사과','홍삼']\n",
        "for f in fruit:\n",
        "  try:\n",
        "    check_stock(f)\n",
        "  except OutOfStockError as e:\n",
        "    print(e)"
      ],
      "metadata": {
        "colab": {
          "base_uri": "https://localhost:8080/"
        },
        "id": "tFr7RS7fxtxS",
        "outputId": "fc9d9c03-4be4-4a53-eeb0-919e97cb076a"
      },
      "execution_count": 125,
      "outputs": [
        {
          "output_type": "stream",
          "name": "stdout",
          "text": [
            "딸기은 품절입니다.\n",
            "바나나의 재고가 2개 있습니다.\n",
            "수박은 품절입니다.\n",
            "사과의 재고가 5개 있습니다.\n",
            "홍삼은 품절입니다.\n"
          ]
        }
      ]
    },
    {
      "cell_type": "code",
      "source": [],
      "metadata": {
        "id": "2Aycsqcb2QTy"
      },
      "execution_count": null,
      "outputs": []
    }
  ]
}