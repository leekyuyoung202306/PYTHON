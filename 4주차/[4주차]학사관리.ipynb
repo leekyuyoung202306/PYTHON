{
  "nbformat": 4,
  "nbformat_minor": 0,
  "metadata": {
    "colab": {
      "provenance": []
    },
    "kernelspec": {
      "name": "python3",
      "display_name": "Python 3"
    },
    "language_info": {
      "name": "python"
    }
  },
  "cells": [
    {
      "cell_type": "markdown",
      "source": [
        "- 학생\n",
        "  - 아이디 id\n",
        "  - 이름   name\n",
        "  - 전공   major\n",
        "  - 학점   grades\n",
        "- 과목\n",
        "  - 과목코드 code\n",
        "  - 과목명   name\n",
        "  - 학점   credits"
      ],
      "metadata": {
        "id": "K2bI6_cOtUDh"
      }
    },
    {
      "cell_type": "code",
      "execution_count": 50,
      "metadata": {
        "id": "Tu2lXLHWs9hq"
      },
      "outputs": [],
      "source": [
        "class Student:\n",
        "  all_students = []\n",
        "  def __init__(self,student_id, name, major):\n",
        "    self.student_id = Student\n",
        "    self.name = name\n",
        "    self.major = major\n",
        "    self.grades = {}\n",
        "    Student.all_students.append(self)\n",
        "  def add_grade(self,course_code,grad):\n",
        "    if course_code in self.grades.keys():\n",
        "      course_name = Course.all_course[course_code]\n",
        "      yesno = input(f\"{course_name}가 존재합니다.]\\n 변경 하시겠습니까(y/n)\")\n",
        "      if yesno.lower() == 'y':\n",
        "        self.grades[course_code] = grad\n",
        "    else:\n",
        "      self.grades[course_code] = grad\n",
        "\n",
        "class Course:\n",
        "  all_course = []\n",
        "  def __init__(self,code,name,credits):\n",
        "    self.code = code\n",
        "    self.name = name\n",
        "    self.credits = credits\n",
        "    Course.all_course.append(self)\n",
        "  def getName(self,code):\n",
        "    return self.name"
      ]
    },
    {
      "cell_type": "code",
      "source": [
        "# 학생객체 생성\n",
        "s1 = Student(\"s001\",'홍길동','Computer Science')\n",
        "s2 = Student(\"s002\",'김선달','Mathmatics')\n",
        "\n",
        "c1 = Course(\"c001\",'python programming',3)\n",
        "c2 = Course('c002','Data Structure',3)"
      ],
      "metadata": {
        "id": "PVqlGXGrvQjM"
      },
      "execution_count": 51,
      "outputs": []
    },
    {
      "cell_type": "code",
      "source": [
        "Course.all_course,  Student.all_students[0].name0"
      ],
      "metadata": {
        "colab": {
          "base_uri": "https://localhost:8080/"
        },
        "id": "bCAH_cqk2ctf",
        "outputId": "a74ecc01-f909-4d17-af5a-1e74df4cc1f1"
      },
      "execution_count": 54,
      "outputs": [
        {
          "output_type": "execute_result",
          "data": {
            "text/plain": [
              "({'c001': 'python programming', 'c002': 'Data Structure'}, '김선달')"
            ]
          },
          "metadata": {},
          "execution_count": 54
        }
      ]
    },
    {
      "cell_type": "code",
      "source": [
        "s1.add_grade('c001','A')\n",
        "s1.add_grade('c002','B')\n",
        "s1.add_grade('c001','B')  # 학점을 변경하려는건지? 없는줄 알고 새롭게 입력하려는 건지\n",
        "# 동일한 과목이 있습니다. 변경하시겠습니까?\n",
        "# y면 변경하고 n면 취소\n",
        "s1.grades"
      ],
      "metadata": {
        "id": "e5hXcbNuv8nI"
      },
      "execution_count": null,
      "outputs": []
    },
    {
      "cell_type": "code",
      "source": [],
      "metadata": {
        "id": "gRD5Zqn_yniX"
      },
      "execution_count": null,
      "outputs": []
    }
  ]
}