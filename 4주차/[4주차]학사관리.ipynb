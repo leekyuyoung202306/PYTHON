{
  "nbformat": 4,
  "nbformat_minor": 0,
  "metadata": {
    "colab": {
      "provenance": []
    },
    "kernelspec": {
      "name": "python3",
      "display_name": "Python 3"
    },
    "language_info": {
      "name": "python"
    }
  },
  "cells": [
    {
      "cell_type": "markdown",
      "source": [
        "- 학생\n",
        "  - 아이디 id\n",
        "  - 이름   name\n",
        "  - 전공   major\n",
        "  - 학점   grades\n",
        "- 과목\n",
        "  - 과목코드 code\n",
        "  - 과목명   name\n",
        "  - 학점   credits"
      ],
      "metadata": {
        "id": "K2bI6_cOtUDh"
      }
    },
    {
      "cell_type": "code",
      "execution_count": 68,
      "metadata": {
        "id": "Tu2lXLHWs9hq"
      },
      "outputs": [],
      "source": [
        "class Student:\n",
        "  all_students = []\n",
        "  def __init__(self,student_id, name, major):\n",
        "    self.student_id = student_id\n",
        "    self.name = name\n",
        "    self.major = major\n",
        "    self.grades = {}\n",
        "    Student.all_students.append(self)\n",
        "  def add_grade(self,course_code,grad):\n",
        "    if course_code in self.grades.keys():\n",
        "      course = Course.getCourse(course_code)\n",
        "      yesno = input(f\"{course.name} 존재합니다. 계속하시겠습니까?\")\n",
        "      if yesno.lower() == 'y':\n",
        "        self.grades[course_code] = grad\n",
        "    else:\n",
        "      self.grades[course_code] = grad\n",
        "\n",
        "class Course:\n",
        "  all_course = []\n",
        "  def __init__(self,code,name,credits):\n",
        "    self.code = code\n",
        "    self.name = name\n",
        "    self.credits = credits\n",
        "    Course.all_course.append(self)\n",
        "\n",
        "  @staticmethod\n",
        "  def getCourse(code):\n",
        "    for course in Course.all_course:\n",
        "      if course.code == code:\n",
        "        return course\n",
        "\n",
        "# 학생객체 생성\n",
        "s1 = Student(\"s001\",'홍길동','Computer Science')\n",
        "s2 = Student(\"s002\",'김선달','Mathmatics')\n",
        "\n",
        "c1 = Course(\"c001\",'python programming',3)\n",
        "c2 = Course('c002','Data Structure',3)\n",
        "\n",
        "s1.add_grade('c001','A')\n",
        "s1.add_grade('c002','B')\n",
        "s1.add_grade('c001','B')  # 학점을 변경하려는건지? 없는줄 알고 새롭게 입력하려는 건지\n",
        "# 동일한 과목이 있습니다. 변경하시겠습니까?\n",
        "# y면 변경하고 n면 취소\n",
        "s1.grades"
      ]
    },
    {
      "cell_type": "code",
      "source": [
        "class Temp:\n",
        "  t1 = []         # (객체단위로 호출하지 않는다)\n",
        "  def __init__(self,code,name):\n",
        "    self.code = code\n",
        "    self.name = name\n",
        "    Temp.t1.append(self)\n",
        "\n",
        "  @staticmethod  # 클래스이름으로 동작하는 유일한 메소드(객체단위로 호출하지 않는다)\n",
        "  def find_of_code(code):\n",
        "    for temp in Temp.t1:\n",
        "      if temp.code == code:\n",
        "        return temp\n",
        "\n",
        "te = Temp('001','호랑이')  # 객체생성.. 이때 __init__이 실행된다\n",
        "tte = Temp('002','고양이')\n",
        "ttee = Temp('003','사자')\n",
        "\n",
        "print(te.code)  # 객체 te를 통해서 t2변수를 실행\n",
        "print(Temp.t1) # 클래스를 통해서 t1변수를 실행\n",
        "finded = Temp.find_of_code('001')\n",
        "if finded:\n",
        "  print(f\"객체를 찾았습니다. {finded.code} {finded.name}\")"
      ],
      "metadata": {
        "colab": {
          "base_uri": "https://localhost:8080/"
        },
        "id": "I5m8vVm4_di-",
        "outputId": "08105932-1b31-433a-c657-01dd2a6c6e1a"
      },
      "execution_count": 88,
      "outputs": [
        {
          "output_type": "stream",
          "name": "stdout",
          "text": [
            "001\n",
            "[<__main__.Temp object at 0x7e776935f580>, <__main__.Temp object at 0x7e776935c1f0>, <__main__.Temp object at 0x7e776935cf40>]\n",
            "객체를 찾았습니다. 001 호랑이\n"
          ]
        }
      ]
    },
    {
      "cell_type": "markdown",
      "source": [
        "dictionary"
      ],
      "metadata": {
        "id": "gm02XlOg82Z4"
      }
    },
    {
      "cell_type": "code",
      "source": [
        "# self.grades.keys()\n",
        "# self.grades[course_code] = grad\n",
        "\n",
        "grades = {} #empty dictionary 생성\n",
        "\n",
        "# 데이터 추가   key:value ex)  '호랑이':'맹수',   'korean':'한국' , '홍길동':011-000-0000\n",
        "# 데이터 가져오기   키값을 인덱스로해서 value를 가져온다\n",
        "# 데이터 추가 및 변경   키값을 인덱스로해서 value를 셋팅한다. ex) grades['호랑이'] = 10\n",
        "grades['호랑이'] = 10 # -- > 추가 키가 없으니깐\n",
        "print(grades)\n",
        "grades['호랑이'] = 100 # --> 업데이트 키가 있으니까\n",
        "print(grades)\n",
        "grades['사자'] = 0\n",
        "print(grades)\n",
        "grades.keys()\n",
        "'고양이' in grades.keys()"
      ],
      "metadata": {
        "colab": {
          "base_uri": "https://localhost:8080/"
        },
        "id": "gRD5Zqn_yniX",
        "outputId": "aef979c2-2d32-48bd-d8f1-c3a05f8be49b"
      },
      "execution_count": 78,
      "outputs": [
        {
          "output_type": "stream",
          "name": "stdout",
          "text": [
            "{'호랑이': 10}\n",
            "{'호랑이': 100}\n",
            "{'호랑이': 100, '사자': 0}\n"
          ]
        },
        {
          "output_type": "execute_result",
          "data": {
            "text/plain": [
              "False"
            ]
          },
          "metadata": {},
          "execution_count": 78
        }
      ]
    },
    {
      "cell_type": "markdown",
      "source": [
        "static\n",
        "  - 객체와 별개로 모든 클래스가 동일하게 사용하는 공유 메모리 개념\n",
        "    - 붕어빵 만드는 틀\n",
        "  - 객체는 독립적\n",
        "    - 붕어빵"
      ],
      "metadata": {
        "id": "koLGs-xQFgIi"
      }
    },
    {
      "cell_type": "code",
      "source": [
        "class Calculator:\n",
        "  money = 0\n",
        "  def __init__(self,number):\n",
        "    self.number = number\n",
        "    self.money = Calculator.money\n",
        "    Calculator.money += 1\n",
        "\n",
        "  def add(self,x, y):\n",
        "    return x + y\n",
        "\n",
        "  @staticmethod\n",
        "  def minus(x , y):\n",
        "    return x-y\n",
        "\n",
        "# static 은.... 클래스명.메소드    클래스명.변수  밖에 사용 못함"
      ],
      "metadata": {
        "id": "wUOHTIP39HD8"
      },
      "execution_count": 116,
      "outputs": []
    },
    {
      "cell_type": "code",
      "source": [
        "a= Calculator(1); b= Calculator(1); c= Calculator(1)\n",
        "a.money, b.money, c.money"
      ],
      "metadata": {
        "colab": {
          "base_uri": "https://localhost:8080/"
        },
        "id": "KBRolVnAIqW8",
        "outputId": "03638533-09d9-40ce-ee66-ae5ca1ae3635"
      },
      "execution_count": 117,
      "outputs": [
        {
          "output_type": "execute_result",
          "data": {
            "text/plain": [
              "(0, 1, 2)"
            ]
          },
          "metadata": {},
          "execution_count": 117
        }
      ]
    },
    {
      "cell_type": "code",
      "source": [
        "c = Calculator(100)\n",
        "c2 = Calculator(200)\n",
        "print(c.number, c2.number, Calculator.money)\n",
        "Calculator.money = 100\n",
        "print(c.number, c2.number, Calculator.money)\n",
        "print(Calculator.minus(10,20))"
      ],
      "metadata": {
        "colab": {
          "base_uri": "https://localhost:8080/"
        },
        "id": "BHswnwb-GH5y",
        "outputId": "466e1d47-8a05-4874-b55f-b39cee819fc6"
      },
      "execution_count": 118,
      "outputs": [
        {
          "output_type": "stream",
          "name": "stdout",
          "text": [
            "100 200 5\n",
            "100 200 100\n",
            "-10\n"
          ]
        }
      ]
    },
    {
      "cell_type": "markdown",
      "source": [
        "- 메소드\n",
        "  - 인스턴스 메소드\n",
        "  - 스테틱 메소드\n",
        "- 변수\n",
        "  - 인스턴스 변수\n",
        "  - 스테틱 변수"
      ],
      "metadata": {
        "id": "oJHUBlExLrVi"
      }
    },
    {
      "cell_type": "code",
      "source": [
        "class Temp:\n",
        "  static_value = 0\n",
        "  def __init__(self,value):\n",
        "    self.instance_value = value\n",
        "  def instance_method(self):\n",
        "    return f\"instance {self.instance_value}  static : {Temp.static_value}\"\n",
        "  @staticmethod\n",
        "  def static_method():\n",
        "    return f\"static : {Temp.static_value}\""
      ],
      "metadata": {
        "id": "snJz_T_BGKla"
      },
      "execution_count": 126,
      "outputs": []
    },
    {
      "cell_type": "code",
      "source": [
        "Temp.static_value = 123\n",
        "a = Temp(1)\n",
        "b = Temp(2)\n",
        "c = Temp(3)\n",
        "a.instance_method(), b.instance_method(), c.instance_method()"
      ],
      "metadata": {
        "colab": {
          "base_uri": "https://localhost:8080/"
        },
        "id": "4A1NERwCMxb_",
        "outputId": "af0afc47-b8d5-4055-9bb3-5a42c4fd3c2e"
      },
      "execution_count": 129,
      "outputs": [
        {
          "output_type": "execute_result",
          "data": {
            "text/plain": [
              "('instance 1  static : 123',\n",
              " 'instance 2  static : 123',\n",
              " 'instance 3  static : 123')"
            ]
          },
          "metadata": {},
          "execution_count": 129
        }
      ]
    },
    {
      "cell_type": "code",
      "source": [
        "Temp.static_method()"
      ],
      "metadata": {
        "colab": {
          "base_uri": "https://localhost:8080/",
          "height": 35
        },
        "id": "YJNdxfG1M04H",
        "outputId": "376efcf8-b0f6-4c8e-8ae4-558d142227ad"
      },
      "execution_count": 131,
      "outputs": [
        {
          "output_type": "execute_result",
          "data": {
            "text/plain": [
              "'static : 123'"
            ],
            "application/vnd.google.colaboratory.intrinsic+json": {
              "type": "string"
            }
          },
          "metadata": {},
          "execution_count": 131
        }
      ]
    },
    {
      "cell_type": "markdown",
      "source": [
        "- 학생( Student)\n",
        "- 과목( Subject)\n",
        "- 교수(Professor)\n",
        "\n",
        "- 규칙\n",
        "  - 학생은 한개이상의 과목을 수강한다\n",
        "  - 교수는 한개 이상의 과목을 가르친다\n",
        "    - 과목에 교수가 포함된다(이때 한 교수만 해당)\n",
        "  - 학점은 교수가 준다  "
      ],
      "metadata": {
        "id": "JkWblNElOKTq"
      }
    },
    {
      "cell_type": "code",
      "source": [],
      "metadata": {
        "id": "U6rL4eKoNt2X"
      },
      "execution_count": null,
      "outputs": []
    }
  ]
}