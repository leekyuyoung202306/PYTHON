{
  "nbformat": 4,
  "nbformat_minor": 0,
  "metadata": {
    "colab": {
      "provenance": []
    },
    "kernelspec": {
      "name": "python3",
      "display_name": "Python 3"
    },
    "language_info": {
      "name": "python"
    }
  },
  "cells": [
    {
      "cell_type": "markdown",
      "source": [
        "클래스 복습\n",
        "  - 생성자\n",
        "  - 인스턴스 변수  \n",
        "  - _ _ str _ _"
      ],
      "metadata": {
        "id": "nz3668t0Qr-v"
      }
    },
    {
      "cell_type": "code",
      "source": [
        "# 클래스 명  Person\n",
        "# 속성 : 이름, 성별"
      ],
      "metadata": {
        "id": "5HSa5iG8RFd6"
      },
      "execution_count": 3,
      "outputs": []
    },
    {
      "cell_type": "code",
      "source": [
        "class Person:\n",
        "  def __init__(self,name,gender):\n",
        "    self.name = name\n",
        "    self.gender = gender"
      ],
      "metadata": {
        "id": "XAFOpI_8RaGI"
      },
      "execution_count": 4,
      "outputs": []
    },
    {
      "cell_type": "code",
      "source": [
        "p1 = Person(\"leeky\", \"male\")\n",
        "print(p1.name, p1.gender)"
      ],
      "metadata": {
        "colab": {
          "base_uri": "https://localhost:8080/"
        },
        "id": "_910dj0gRktg",
        "outputId": "c29fa6d3-1e69-48d0-9efd-5bf3cbc8234d"
      },
      "execution_count": 6,
      "outputs": [
        {
          "output_type": "stream",
          "name": "stdout",
          "text": [
            "leeky male\n"
          ]
        }
      ]
    },
    {
      "cell_type": "code",
      "source": [
        "class Person:\n",
        "  def setName(self,name):\n",
        "    self.name = name\n",
        "    return self\n",
        "  def setGender(self,gender):\n",
        "    self.gender = gender\n",
        "    return self"
      ],
      "metadata": {
        "id": "hIKXFDfQRrpo"
      },
      "execution_count": 9,
      "outputs": []
    },
    {
      "cell_type": "code",
      "source": [
        "p2 = Person()"
      ],
      "metadata": {
        "id": "jpgw8WFTSNap"
      },
      "execution_count": 10,
      "outputs": []
    },
    {
      "cell_type": "code",
      "source": [
        "# method chaining  메소드 체이닝\n",
        "p2.setName('kim').setGender(\"female\")"
      ],
      "metadata": {
        "colab": {
          "base_uri": "https://localhost:8080/"
        },
        "id": "yUH273t7SYfC",
        "outputId": "66b338be-1b0a-4a5b-b9f4-fe8075d9139d"
      },
      "execution_count": 11,
      "outputs": [
        {
          "output_type": "execute_result",
          "data": {
            "text/plain": [
              "<__main__.Person at 0x7f1e76160f70>"
            ]
          },
          "metadata": {},
          "execution_count": 11
        }
      ]
    },
    {
      "cell_type": "code",
      "source": [
        "p2.gender"
      ],
      "metadata": {
        "colab": {
          "base_uri": "https://localhost:8080/",
          "height": 35
        },
        "id": "FMBMQeVqSeMY",
        "outputId": "e0ed38ca-4b77-4a76-8f1d-43d367312b87"
      },
      "execution_count": 12,
      "outputs": [
        {
          "output_type": "execute_result",
          "data": {
            "text/plain": [
              "'female'"
            ],
            "application/vnd.google.colaboratory.intrinsic+json": {
              "type": "string"
            }
          },
          "metadata": {},
          "execution_count": 12
        }
      ]
    },
    {
      "cell_type": "markdown",
      "source": [
        "상속\n",
        "  - 베이스클래스의 기능,변수 + 새롭게 추가한 기능 및 변수"
      ],
      "metadata": {
        "id": "xLQ4OtOxTAjw"
      }
    },
    {
      "cell_type": "code",
      "source": [
        "class Caluator:\n",
        "  def __init__(self,x,y):\n",
        "    self.x = x\n",
        "    self.y = y\n",
        "    # print(\"Caluator constructor\")\n",
        "  def calc(self):\n",
        "    # print(\"Caluator calc\")\n",
        "    return self.x + self.y"
      ],
      "metadata": {
        "id": "15hcg68_ShIY"
      },
      "execution_count": 61,
      "outputs": []
    },
    {
      "cell_type": "code",
      "source": [
        "c = Caluator(10,20)\n",
        "c.calc()"
      ],
      "metadata": {
        "colab": {
          "base_uri": "https://localhost:8080/"
        },
        "id": "YvWwXS3tTrNg",
        "outputId": "5ec36af1-561b-4112-9773-7f97cfe76846"
      },
      "execution_count": 62,
      "outputs": [
        {
          "output_type": "execute_result",
          "data": {
            "text/plain": [
              "30"
            ]
          },
          "metadata": {},
          "execution_count": 62
        }
      ]
    },
    {
      "cell_type": "code",
      "source": [
        "# super()는 자식클래스에서 사용하는 부모객체\n",
        "\n",
        "class Minus(Caluator):\n",
        "  def __init__(self,x,y):\n",
        "    super().__init__(x,y)  # super(Minus,self).__init__(x,y)\n",
        "    # print(\"Minus constructor\")\n",
        "  def calc(self):\n",
        "    return self.x - self.y\n",
        "\n",
        "class Add(Caluator):\n",
        "  def __init__(self,x,y):\n",
        "    super().__init__(x,y)\n",
        "\n",
        "class Multi(Caluator):\n",
        "  def __init__(self,x,y):\n",
        "    super().__init__(x,y)\n",
        "  def calc(self):\n",
        "    return self.x*self.y\n",
        ""
      ],
      "metadata": {
        "id": "pxzWLc06US7R"
      },
      "execution_count": 71,
      "outputs": []
    },
    {
      "cell_type": "code",
      "source": [
        "m = Minus(1,2)\n",
        "m.calc()"
      ],
      "metadata": {
        "colab": {
          "base_uri": "https://localhost:8080/"
        },
        "id": "hvqyS2FvUdlw",
        "outputId": "d5a87b17-4fe5-484b-db4b-ded6d7d77e3f"
      },
      "execution_count": 70,
      "outputs": [
        {
          "output_type": "execute_result",
          "data": {
            "text/plain": [
              "-1"
            ]
          },
          "metadata": {},
          "execution_count": 70
        }
      ]
    },
    {
      "cell_type": "markdown",
      "source": [
        "오버라이드 override( overwrite)\n",
        "  - 부모의기능을 고스란히 물려받아서 다시 재 정의 한것"
      ],
      "metadata": {
        "id": "noM8oxqYYEM4"
      }
    },
    {
      "cell_type": "code",
      "source": [
        "class Shape:\n",
        "  def __init__(self,color) -> None:\n",
        "    self.color = color\n",
        "  def draw(self,func):  # 람다\n",
        "    return func()\n",
        "\n",
        "class Circle(Shape):\n",
        "  def __init__(self,color,radius) -> None:\n",
        "    super().__init__(color)\n",
        "    # self.color = color\n",
        "    self.radius = radius\n",
        "\n",
        "class Rectangle(Shape):\n",
        "  def __init__(self,color,width,height) -> None:\n",
        "    super().__init__(color)\n",
        "    self.width = width\n",
        "    self.height= height"
      ],
      "metadata": {
        "id": "t0AdYOw_ZjWF"
      },
      "execution_count": 102,
      "outputs": []
    },
    {
      "cell_type": "code",
      "source": [
        "c = Circle(\"red\",10.2)\n",
        "c.draw(lambda  : print(\"Circle Draw\"))\n",
        "print(c.color)"
      ],
      "metadata": {
        "colab": {
          "base_uri": "https://localhost:8080/"
        },
        "id": "-6ORorkvgRMm",
        "outputId": "cf22fc5a-aeda-44aa-ca9f-00cc314aebe5"
      },
      "execution_count": 106,
      "outputs": [
        {
          "output_type": "stream",
          "name": "stdout",
          "text": [
            "Circle Draw\n",
            "red\n"
          ]
        }
      ]
    },
    {
      "cell_type": "code",
      "source": [
        "class Animal:\n",
        "  def __init__(self,name) -> None:\n",
        "    self.name = name\n",
        "\n",
        "class Dog(Animal):\n",
        "  def speak(self):\n",
        "    return \"dog barks\"\n",
        "\n",
        "class Cat(Animal):\n",
        "  def speak(self):\n",
        "    return \"cat meows\"\n"
      ],
      "metadata": {
        "id": "5e50jekYgpUP"
      },
      "execution_count": 93,
      "outputs": []
    },
    {
      "cell_type": "code",
      "source": [
        "d = Dog(\"abc\")\n",
        "print(d.speak())\n",
        "print(d.name)"
      ],
      "metadata": {
        "colab": {
          "base_uri": "https://localhost:8080/"
        },
        "id": "IBtUdvQPjLT7",
        "outputId": "211c1472-ba99-49e9-9b69-d77e812d4265"
      },
      "execution_count": 94,
      "outputs": [
        {
          "output_type": "stream",
          "name": "stdout",
          "text": [
            "dog barks\n",
            "abc\n"
          ]
        }
      ]
    },
    {
      "cell_type": "code",
      "source": [
        "# 전자제품 Electronic\n",
        "# Television\n",
        "# Smartphone"
      ],
      "metadata": {
        "id": "ahkFoMhujXcr"
      },
      "execution_count": 107,
      "outputs": []
    },
    {
      "cell_type": "code",
      "source": [
        "class Electronic:\n",
        "  is_turn_on = False\n",
        "  def __init__(self,brand) -> None:\n",
        "    self.brand = brand\n",
        "    # self.is_turn_on = False\n",
        "\n",
        "  # 토글\n",
        "  def turn_on_off(self):\n",
        "    self.is_turn_on = not self.is_turn_on\n",
        "    if self.is_turn_on:\n",
        "      print(\"turn on\")\n",
        "    else:\n",
        "      print(\"turn off\")\n",
        "\n",
        "class Television(Electronic):\n",
        "  def change_channel(self,chennel):\n",
        "    print(chennel)\n",
        "\n",
        "class Smartphone(Electronic):\n",
        "  def call(self,number):\n",
        "    print(number)\n"
      ],
      "metadata": {
        "id": "ecZOLD43llFL"
      },
      "execution_count": 132,
      "outputs": []
    },
    {
      "cell_type": "code",
      "source": [
        "t = Television(\"samsung\")\n",
        "t.turn_on_off()"
      ],
      "metadata": {
        "colab": {
          "base_uri": "https://localhost:8080/"
        },
        "id": "OYuBp0_JnGas",
        "outputId": "5833145c-776c-4597-d44f-81d83d1a2dcf"
      },
      "execution_count": 133,
      "outputs": [
        {
          "output_type": "stream",
          "name": "stdout",
          "text": [
            "turn on\n"
          ]
        }
      ]
    },
    {
      "cell_type": "code",
      "source": [
        "p = Smartphone(\"samsung\")\n",
        "p.turn_on_off()"
      ],
      "metadata": {
        "colab": {
          "base_uri": "https://localhost:8080/"
        },
        "id": "gY-VJusMozCh",
        "outputId": "8bf112a2-7161-47ac-dec4-440b12f47eec"
      },
      "execution_count": 134,
      "outputs": [
        {
          "output_type": "stream",
          "name": "stdout",
          "text": [
            "turn on\n"
          ]
        }
      ]
    },
    {
      "cell_type": "code",
      "source": [
        "class Test:\n",
        "  abc = 10\n",
        "  def __init__(self) -> None:\n",
        "    self.temp = self.abc"
      ],
      "metadata": {
        "id": "fUzVBCwspXFZ"
      },
      "execution_count": 167,
      "outputs": []
    },
    {
      "cell_type": "code",
      "source": [
        "a= Test()\n",
        "b= Test()\n",
        "a.abc, b.abc"
      ],
      "metadata": {
        "colab": {
          "base_uri": "https://localhost:8080/"
        },
        "id": "7IXJsoRGt8Cg",
        "outputId": "410bdde4-b8c9-45bf-ca6a-181d29f2d8b7"
      },
      "execution_count": 168,
      "outputs": [
        {
          "output_type": "execute_result",
          "data": {
            "text/plain": [
              "(10, 10)"
            ]
          },
          "metadata": {},
          "execution_count": 168
        }
      ]
    },
    {
      "cell_type": "code",
      "source": [
        "Test.abc"
      ],
      "metadata": {
        "colab": {
          "base_uri": "https://localhost:8080/"
        },
        "id": "dbbE1nJnuLfR",
        "outputId": "32b0dd2a-90e0-4a3f-aa05-258d13df6576"
      },
      "execution_count": 169,
      "outputs": [
        {
          "output_type": "execute_result",
          "data": {
            "text/plain": [
              "10"
            ]
          },
          "metadata": {},
          "execution_count": 169
        }
      ]
    },
    {
      "cell_type": "code",
      "source": [
        "Test.abc = 123456"
      ],
      "metadata": {
        "id": "FZsxsbpIuOZY"
      },
      "execution_count": 170,
      "outputs": []
    },
    {
      "cell_type": "code",
      "source": [
        "a.abc, b.abc"
      ],
      "metadata": {
        "colab": {
          "base_uri": "https://localhost:8080/"
        },
        "id": "d0ZfkFt5uQRh",
        "outputId": "d5cc1038-f2f8-404e-a00b-1de226d95d9e"
      },
      "execution_count": 171,
      "outputs": [
        {
          "output_type": "execute_result",
          "data": {
            "text/plain": [
              "(123456, 123456)"
            ]
          },
          "metadata": {},
          "execution_count": 171
        }
      ]
    },
    {
      "cell_type": "code",
      "source": [
        "a.abc = 0; b.abc = 1"
      ],
      "metadata": {
        "id": "x6A7J7o9uZhi"
      },
      "execution_count": 172,
      "outputs": []
    },
    {
      "cell_type": "code",
      "source": [
        "a.abc, b.abc, Test.abc"
      ],
      "metadata": {
        "colab": {
          "base_uri": "https://localhost:8080/"
        },
        "id": "RSRBB2ytubiA",
        "outputId": "0868c796-a6ee-49f7-8abc-ba05fb6498a9"
      },
      "execution_count": 173,
      "outputs": [
        {
          "output_type": "execute_result",
          "data": {
            "text/plain": [
              "(0, 1, 123456)"
            ]
          },
          "metadata": {},
          "execution_count": 173
        }
      ]
    },
    {
      "cell_type": "code",
      "source": [
        "Test.abc = 20\n",
        "a.abc, b.abc, Test.abc"
      ],
      "metadata": {
        "colab": {
          "base_uri": "https://localhost:8080/"
        },
        "id": "MUhevqItucgg",
        "outputId": "d17bf442-5dcd-4a55-83dc-896e9c0066ea"
      },
      "execution_count": 174,
      "outputs": [
        {
          "output_type": "execute_result",
          "data": {
            "text/plain": [
              "(0, 1, 20)"
            ]
          },
          "metadata": {},
          "execution_count": 174
        }
      ]
    },
    {
      "cell_type": "code",
      "source": [
        "a.aaa = 10"
      ],
      "metadata": {
        "id": "lxqmdJmjuyNB"
      },
      "execution_count": 175,
      "outputs": []
    },
    {
      "cell_type": "code",
      "source": [
        "a.aaa"
      ],
      "metadata": {
        "colab": {
          "base_uri": "https://localhost:8080/"
        },
        "id": "RI95GF0DvdTo",
        "outputId": "f3ec7aca-025e-4164-e124-6fbb5f2c5586"
      },
      "execution_count": 176,
      "outputs": [
        {
          "output_type": "execute_result",
          "data": {
            "text/plain": [
              "10"
            ]
          },
          "metadata": {},
          "execution_count": 176
        }
      ]
    },
    {
      "cell_type": "code",
      "source": [
        "class Temp:\n",
        "  temp = 10"
      ],
      "metadata": {
        "id": "UcUFz-G2wFZC"
      },
      "execution_count": 205,
      "outputs": []
    },
    {
      "cell_type": "code",
      "source": [
        "# 이런경우 t.temp와 Temp.temp는 같다 즉.. 클래스변수 지칭\n",
        "t = Temp()\n",
        "print(t.temp, Temp.temp) # 두개가 같은 클래스 변수\n",
        "Temp.temp = 20           # 클래스 변수 값 변경\n",
        "print(t.temp, Temp.temp) # 같게 나옴\n",
        "t.temp = 100             # 이때 t.temp는 객체의 인스턴스 변수로 새롭게 생성되서 클래스 변수와 분리\n",
        "print(t.temp, Temp.temp)"
      ],
      "metadata": {
        "colab": {
          "base_uri": "https://localhost:8080/"
        },
        "id": "rfggZxEKwPCn",
        "outputId": "6f2be69d-2996-4d76-b735-3caa5ed3f870"
      },
      "execution_count": 206,
      "outputs": [
        {
          "output_type": "stream",
          "name": "stdout",
          "text": [
            "10 10\n",
            "20 20\n",
            "100 20\n"
          ]
        }
      ]
    },
    {
      "cell_type": "code",
      "source": [
        "t2= Temp()\n",
        "print(t2.temp, Temp.temp)   # 새로운 객체 t2에 대한 temp 변수는 아직 t2클래스의 temp라는 변수는 클래스 변수만 있어서\n",
        "                          # 둘다 클래스변수고 위에서 변경한 값을 가지고 있다\n",
        "Temp.temp = 123456789"
      ],
      "metadata": {
        "colab": {
          "base_uri": "https://localhost:8080/"
        },
        "id": "Vb32_W_4w7k3",
        "outputId": "0c0c0711-329d-4f14-b131-f0efe7831746"
      },
      "execution_count": 209,
      "outputs": [
        {
          "output_type": "stream",
          "name": "stdout",
          "text": [
            "20 20\n"
          ]
        }
      ]
    },
    {
      "cell_type": "code",
      "source": [
        "t3= Temp()\n",
        "print(t3.temp, Temp.temp)"
      ],
      "metadata": {
        "colab": {
          "base_uri": "https://localhost:8080/"
        },
        "id": "IOG9TPKuxPnZ",
        "outputId": "6aa9a3f4-57c5-401f-879b-d64d6f4db5df"
      },
      "execution_count": 210,
      "outputs": [
        {
          "output_type": "stream",
          "name": "stdout",
          "text": [
            "123456789 123456789\n"
          ]
        }
      ]
    },
    {
      "cell_type": "code",
      "source": [
        "# 제품 Product\n",
        "#     가격,제품명,상태(신품,재생품,반품)\n",
        "#     상태를 반환하는 함수\n",
        "\n",
        "# TV, SmartPhone, Radio\n",
        "#  각 클래스별 독립적인 변수#\n",
        "\n",
        "# self.__변수  --> private\n",
        "# 캡슐화(은닉화) --> 보호\n",
        "\n",
        "class Product:\n",
        "  def __init__(self,price,name,state) -> None:\n",
        "    self.__price = price\n",
        "    self.__name = name\n",
        "    self.__state = state\n",
        "  def get_state(self):\n",
        "    return self.__state\n",
        ""
      ],
      "metadata": {
        "id": "qo-SmXTjyMvH"
      },
      "execution_count": 215,
      "outputs": []
    },
    {
      "cell_type": "code",
      "source": [
        "p = Product(10,'a','new')\n",
        "p.get_state()"
      ],
      "metadata": {
        "colab": {
          "base_uri": "https://localhost:8080/",
          "height": 211
        },
        "id": "hL2cTAuo0aFd",
        "outputId": "70669ee5-5435-422a-97f3-5ac63d7c167b"
      },
      "execution_count": 217,
      "outputs": [
        {
          "output_type": "error",
          "ename": "AttributeError",
          "evalue": "ignored",
          "traceback": [
            "\u001b[0;31m---------------------------------------------------------------------------\u001b[0m",
            "\u001b[0;31mAttributeError\u001b[0m                            Traceback (most recent call last)",
            "\u001b[0;32m<ipython-input-217-b5ab8723b5bf>\u001b[0m in \u001b[0;36m<cell line: 3>\u001b[0;34m()\u001b[0m\n\u001b[1;32m      1\u001b[0m \u001b[0mp\u001b[0m \u001b[0;34m=\u001b[0m \u001b[0mProduct\u001b[0m\u001b[0;34m(\u001b[0m\u001b[0;36m10\u001b[0m\u001b[0;34m,\u001b[0m\u001b[0;34m'a'\u001b[0m\u001b[0;34m,\u001b[0m\u001b[0;34m'new'\u001b[0m\u001b[0;34m)\u001b[0m\u001b[0;34m\u001b[0m\u001b[0;34m\u001b[0m\u001b[0m\n\u001b[1;32m      2\u001b[0m \u001b[0mp\u001b[0m\u001b[0;34m.\u001b[0m\u001b[0mget_state\u001b[0m\u001b[0;34m(\u001b[0m\u001b[0;34m)\u001b[0m\u001b[0;34m\u001b[0m\u001b[0;34m\u001b[0m\u001b[0m\n\u001b[0;32m----> 3\u001b[0;31m \u001b[0mp\u001b[0m\u001b[0;34m.\u001b[0m\u001b[0m__state\u001b[0m\u001b[0;34m\u001b[0m\u001b[0;34m\u001b[0m\u001b[0m\n\u001b[0m",
            "\u001b[0;31mAttributeError\u001b[0m: 'Product' object has no attribute '__state'"
          ]
        }
      ]
    },
    {
      "cell_type": "code",
      "source": [],
      "metadata": {
        "id": "iTf3XZUb1WA3"
      },
      "execution_count": null,
      "outputs": []
    }
  ]
}