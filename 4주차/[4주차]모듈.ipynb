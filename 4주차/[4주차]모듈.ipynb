{
  "nbformat": 4,
  "nbformat_minor": 0,
  "metadata": {
    "colab": {
      "provenance": []
    },
    "kernelspec": {
      "name": "python3",
      "display_name": "Python 3"
    },
    "language_info": {
      "name": "python"
    }
  },
  "cells": [
    {
      "cell_type": "markdown",
      "source": [
        "기본 모듈 키워드\n",
        "  - import\n",
        "  - from\n",
        "  - as 키워드\n",
        "\n",
        "모듈 - import 모듈이름\n",
        "  - 표준 모듈\n",
        "    - 파이썬에 내장된 모듈\n",
        "  - 외부 모듈  \n",
        "    - 공개된 라이브러리(사람이 만들어서 공개한 모듈)\n"
      ],
      "metadata": {
        "id": "TPrADCDb45qK"
      }
    },
    {
      "cell_type": "markdown",
      "source": [
        "math 모듈\n",
        "  - 수학과 과련된 모듈"
      ],
      "metadata": {
        "id": "oaFKT71u5bT6"
      }
    },
    {
      "cell_type": "code",
      "execution_count": 1,
      "metadata": {
        "id": "DaOsCj_k425C"
      },
      "outputs": [],
      "source": [
        "import math"
      ]
    },
    {
      "cell_type": "code",
      "source": [
        "math.sin(1)"
      ],
      "metadata": {
        "colab": {
          "base_uri": "https://localhost:8080/"
        },
        "id": "pJ8zayJQ47Si",
        "outputId": "dc3ce678-6bd4-41fb-b248-7b144ddfbf72"
      },
      "execution_count": 2,
      "outputs": [
        {
          "output_type": "execute_result",
          "data": {
            "text/plain": [
              "0.8414709848078965"
            ]
          },
          "metadata": {},
          "execution_count": 2
        }
      ]
    },
    {
      "cell_type": "code",
      "source": [
        "math.floor(2.8) # 내림"
      ],
      "metadata": {
        "colab": {
          "base_uri": "https://localhost:8080/"
        },
        "id": "TOsy4pKh5xh3",
        "outputId": "ca055a0c-28ea-4566-d45c-e16154d7145d"
      },
      "execution_count": 3,
      "outputs": [
        {
          "output_type": "execute_result",
          "data": {
            "text/plain": [
              "2"
            ]
          },
          "metadata": {},
          "execution_count": 3
        }
      ]
    },
    {
      "cell_type": "code",
      "source": [
        "math.ceil(2.15) # 올림"
      ],
      "metadata": {
        "colab": {
          "base_uri": "https://localhost:8080/"
        },
        "id": "qYdWyTJO53r6",
        "outputId": "566426b5-d175-42c0-bd3c-162798e6f1e4"
      },
      "execution_count": 10,
      "outputs": [
        {
          "output_type": "execute_result",
          "data": {
            "text/plain": [
              "3"
            ]
          },
          "metadata": {},
          "execution_count": 10
        }
      ]
    },
    {
      "cell_type": "code",
      "source": [
        "round(5.6257,3) #반올림 소스자리 지정 가능"
      ],
      "metadata": {
        "colab": {
          "base_uri": "https://localhost:8080/"
        },
        "id": "yEp8XQ9H57jn",
        "outputId": "14adfc76-9c7e-40da-c48f-3ad8a4a99b71"
      },
      "execution_count": 8,
      "outputs": [
        {
          "output_type": "execute_result",
          "data": {
            "text/plain": [
              "5.626"
            ]
          },
          "metadata": {},
          "execution_count": 8
        }
      ]
    },
    {
      "cell_type": "markdown",
      "source": [
        "from 모듈이름 import 가지고 오고 싶은 변수나 함수"
      ],
      "metadata": {
        "id": "r3vmPZNz6cd9"
      }
    },
    {
      "cell_type": "code",
      "source": [
        "# math.ceil\n",
        "from math import ceil"
      ],
      "metadata": {
        "id": "KiA_oJ_g6GY4"
      },
      "execution_count": 11,
      "outputs": []
    },
    {
      "cell_type": "code",
      "source": [
        "ceil(2.56)"
      ],
      "metadata": {
        "colab": {
          "base_uri": "https://localhost:8080/"
        },
        "id": "_aoUplWe6z8_",
        "outputId": "8a6454f8-f6a2-4e66-8990-7a5eb1ae7cd3"
      },
      "execution_count": 12,
      "outputs": [
        {
          "output_type": "execute_result",
          "data": {
            "text/plain": [
              "3"
            ]
          },
          "metadata": {},
          "execution_count": 12
        }
      ]
    },
    {
      "cell_type": "code",
      "source": [
        "from math import ceil,floor,cos"
      ],
      "metadata": {
        "id": "4J3KPO3a62oR"
      },
      "execution_count": 13,
      "outputs": []
    },
    {
      "cell_type": "markdown",
      "source": [
        "as 구문"
      ],
      "metadata": {
        "id": "uPrpETIO7Hfo"
      }
    },
    {
      "cell_type": "code",
      "source": [
        "import math as m"
      ],
      "metadata": {
        "id": "eCrU3KSc69kG"
      },
      "execution_count": 14,
      "outputs": []
    },
    {
      "cell_type": "code",
      "source": [
        "m.ceil(5.1)"
      ],
      "metadata": {
        "colab": {
          "base_uri": "https://localhost:8080/"
        },
        "id": "bPmtzXn97QQF",
        "outputId": "9a621cbe-c8b2-4304-d5de-fb7078c69653"
      },
      "execution_count": 15,
      "outputs": [
        {
          "output_type": "execute_result",
          "data": {
            "text/plain": [
              "6"
            ]
          },
          "metadata": {},
          "execution_count": 15
        }
      ]
    },
    {
      "cell_type": "code",
      "source": [
        "from math import floor as mf"
      ],
      "metadata": {
        "id": "H2K95evP7S8-"
      },
      "execution_count": 20,
      "outputs": []
    },
    {
      "cell_type": "code",
      "source": [
        "import random as rd\n",
        "rd.random()  # 0<= x < 1.0"
      ],
      "metadata": {
        "colab": {
          "base_uri": "https://localhost:8080/"
        },
        "id": "EM6wkwc_7Zw3",
        "outputId": "783e4bc8-7fc9-4162-c74d-d518ecd58cb0"
      },
      "execution_count": 26,
      "outputs": [
        {
          "output_type": "execute_result",
          "data": {
            "text/plain": [
              "0.2440270998138645"
            ]
          },
          "metadata": {},
          "execution_count": 26
        }
      ]
    },
    {
      "cell_type": "code",
      "source": [
        "# from random import random,choice,shuffle"
      ],
      "metadata": {
        "id": "BSHPE0Fk8fkG"
      },
      "execution_count": 27,
      "outputs": []
    },
    {
      "cell_type": "code",
      "source": [
        "import random\n",
        "print(f\"random.random() 0<=x<1.0 값을 랜덤하게 생성 : {random.random()}\")\n",
        "print(f\"random.uniform(10,20) 10<=x<20 값을 랜덤하게 생성 : {random.uniform(10,20)}\")\n",
        "print(f\"random.randrange(10) 0<=x<10 값을 랜덤하게 생성 : {random.randrange(10)}\")"
      ],
      "metadata": {
        "colab": {
          "base_uri": "https://localhost:8080/"
        },
        "id": "vshCqRaV8jtm",
        "outputId": "68d69cdf-a2a9-4ccd-c247-8a308e4c1c45"
      },
      "execution_count": 31,
      "outputs": [
        {
          "output_type": "stream",
          "name": "stdout",
          "text": [
            "random.random() 0<=x<1.0 값을 랜덤하게 생성 : 0.25825010960109474\n",
            "random.uniform(10,20) 10<=x<20 값을 랜덤하게 생성 : 13.81514884252832\n",
            "random.randrange(10) 0<=x<10 값을 랜덤하게 생성 : 5\n"
          ]
        }
      ]
    },
    {
      "cell_type": "code",
      "source": [
        "print(f\"random.choice([1,2,'사과',4,'강아지']) 리스트의 요소중에 랜덤하게 하나 선택 : {random.choice([1,2,'사과',4,'강아지'])}\")"
      ],
      "metadata": {
        "colab": {
          "base_uri": "https://localhost:8080/"
        },
        "id": "RJhX8zBc8lOP",
        "outputId": "428dd8e4-b6de-474b-a32c-85bb1776e653"
      },
      "execution_count": 42,
      "outputs": [
        {
          "output_type": "stream",
          "name": "stdout",
          "text": [
            "random.choice([1,2,'사과',4,'강아지']) 리스트의 요소중에 랜덤하게 하나 선택 : 1\n"
          ]
        }
      ]
    },
    {
      "cell_type": "code",
      "source": [
        "list_1 = list(range(1,11))\n",
        "random.shuffle(list_1)\n",
        "print(f\"random.shuffle(리스트) 섞는다 :{list_1}\")"
      ],
      "metadata": {
        "colab": {
          "base_uri": "https://localhost:8080/"
        },
        "id": "mYJUhYVS-LsN",
        "outputId": "81d54cd6-0666-4ecf-a2c6-a92d2924979c"
      },
      "execution_count": 49,
      "outputs": [
        {
          "output_type": "stream",
          "name": "stdout",
          "text": [
            "random.shuffle(리스트) 섞는다 :[9, 7, 1, 2, 3, 4, 5, 6, 8, 10]\n"
          ]
        }
      ]
    },
    {
      "cell_type": "code",
      "source": [
        "print(f\"random.sample(리스트,k=n) 리스트중에서 랜덤하게 n개를 뽑느다 :{random.sample(list_1,k=4)}\")"
      ],
      "metadata": {
        "colab": {
          "base_uri": "https://localhost:8080/"
        },
        "id": "QxLTifWH_B3O",
        "outputId": "af14e1d3-3e7c-4ac9-8bac-ee1ef498b52f"
      },
      "execution_count": 53,
      "outputs": [
        {
          "output_type": "stream",
          "name": "stdout",
          "text": [
            "random.sample(리스트,k=n) 리스트중에서 랜덤하게 n개를 뽑느다 :[5, 3, 7, 8]\n"
          ]
        }
      ]
    },
    {
      "cell_type": "code",
      "source": [],
      "metadata": {
        "id": "QZUptOY-_C6N"
      },
      "execution_count": null,
      "outputs": []
    }
  ]
}