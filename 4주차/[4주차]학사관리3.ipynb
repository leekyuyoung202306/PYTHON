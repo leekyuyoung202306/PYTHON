{
  "nbformat": 4,
  "nbformat_minor": 0,
  "metadata": {
    "colab": {
      "provenance": []
    },
    "kernelspec": {
      "name": "python3",
      "display_name": "Python 3"
    },
    "language_info": {
      "name": "python"
    }
  },
  "cells": [
    {
      "cell_type": "code",
      "execution_count": 33,
      "metadata": {
        "id": "ukRtV7WHK7mD"
      },
      "outputs": [],
      "source": [
        "class Student:\n",
        "  def __init__(self,id, name):\n",
        "    self.id = id\n",
        "    self.name = name\n",
        "    Student_Score.student_lists.append(self)\n",
        "  def enrole(self,score_code):\n",
        "    if self.id not in Student_Score.student_score:\n",
        "      Student_Score.student_score[self.id] = [score_code]\n",
        "    else:\n",
        "      Student_Score.student_score[self.id].append(score_code)\n",
        "\n",
        "class Score:\n",
        "  def __init__(self,code,name):\n",
        "    self.name = name\n",
        "    self.code = code\n",
        "    Student_Score.score_lists.append(self)\n",
        "\n",
        "\n",
        "# 임이의 메소드중에 내부로직에서 클래스의 인스턴스 변수를 사용하지 않는다.\n",
        "class Student_Score:\n",
        "  student_score = {}  # 학생 : [ ]    's001' : ['score001','score0002']\n",
        "  student_lists=[]\n",
        "  score_lists=[]\n",
        "  @staticmethod\n",
        "  def findByStudentId(student_id):\n",
        "    result = \"\"\n",
        "    for student in Student_Score.student_lists:\n",
        "      if student_id == student.id:\n",
        "        return student.name\n",
        "  @staticmethod\n",
        "  def findByScoureCode(score_code):\n",
        "    result = ''\n",
        "    for score in Student_Score.score_lists:\n",
        "      if score.code == score_code:\n",
        "        return score.name\n",
        "  @staticmethod\n",
        "  def dispaly_all_students():\n",
        "    for student_id, score_id_lists in Student_Score.student_score.items():\n",
        "      result = ''\n",
        "      result += Student_Score.findByStudentId(student_id) + \" : \"\n",
        "      for score_id in score_id_lists:\n",
        "        result += Student_Score.findByScoureCode(score_id) + \", \"\n",
        "      print(result)"
      ]
    },
    {
      "cell_type": "code",
      "source": [
        "s1 = Student('s001','홍길동') # 학생객체생성\n",
        "s2 = Student('s002','이순신') # 학생객체생성\n",
        "score1 = Score('score001','pythone') # 과목 객체 생성\n",
        "score2 = Score('score002','java') # 과목 객체 생성\n",
        "score3 = Score('score003','spring') # 과목 객체 생성\n",
        "s1.enrole('score001') # 학생과 과목관계 설정\n",
        "s1.enrole('score002') # 학생과 과목관계 설정\n",
        "s1.enrole('score003') # 학생과 과목관계 설정\n",
        "s2.enrole('score001') # 학생과 과목관계 설정\n",
        "s2.enrole('score002') # 학생과 과목관계 설정"
      ],
      "metadata": {
        "id": "5SoJRjBnMvJ3"
      },
      "execution_count": 34,
      "outputs": []
    },
    {
      "cell_type": "code",
      "source": [
        "Student_Score.student_score"
      ],
      "metadata": {
        "colab": {
          "base_uri": "https://localhost:8080/"
        },
        "id": "bw97WusvNPQO",
        "outputId": "ae9c184c-5fe3-4e92-d693-559d7e5e07fe"
      },
      "execution_count": 35,
      "outputs": [
        {
          "output_type": "execute_result",
          "data": {
            "text/plain": [
              "{'s001': ['score001', 'score002', 'score003'],\n",
              " 's002': ['score001', 'score002']}"
            ]
          },
          "metadata": {},
          "execution_count": 35
        }
      ]
    },
    {
      "cell_type": "code",
      "source": [
        "Student_Score.dispaly_all_students()"
      ],
      "metadata": {
        "colab": {
          "base_uri": "https://localhost:8080/"
        },
        "id": "VG9-Y8EFNSOu",
        "outputId": "283acb93-9a54-4f28-bca0-9041cf1c0157"
      },
      "execution_count": 36,
      "outputs": [
        {
          "output_type": "stream",
          "name": "stdout",
          "text": [
            "홍길동 : pythone, java, spring, \n",
            "이순신 : pythone, java, \n"
          ]
        }
      ]
    },
    {
      "cell_type": "code",
      "source": [
        "# 패킹 언패킹"
      ],
      "metadata": {
        "id": "hTpS2zyrZsn7"
      },
      "execution_count": 37,
      "outputs": []
    },
    {
      "cell_type": "code",
      "source": [
        "def test1(*args):  # 파라메터는 전달받은 값을 패킹한다\n",
        "  print(args)\n",
        "\n",
        "test1(1,2,3,4)"
      ],
      "metadata": {
        "colab": {
          "base_uri": "https://localhost:8080/"
        },
        "id": "c6J-6orXNxI0",
        "outputId": "ed7c7966-835c-4b8f-bc93-c902aa1112fe"
      },
      "execution_count": 42,
      "outputs": [
        {
          "output_type": "stream",
          "name": "stdout",
          "text": [
            "(1, 2, 3, 4)\n"
          ]
        }
      ]
    },
    {
      "cell_type": "code",
      "source": [
        "def test2(a,b,c,d):\n",
        "  print(f\"a:{a},b:{b},c:{c},d:{d}\")\n",
        "\n",
        "param = [10,20,30,40]\n",
        "test2(*param)  # 파라메터로 리스트를 언패킹해서 전달한다"
      ],
      "metadata": {
        "colab": {
          "base_uri": "https://localhost:8080/"
        },
        "id": "nYMyTETmZ-4S",
        "outputId": "cd93f7e2-6f61-4512-869e-dedb23f059e2"
      },
      "execution_count": 44,
      "outputs": [
        {
          "output_type": "stream",
          "name": "stdout",
          "text": [
            "a:10,b:20,c:30,d:40\n"
          ]
        }
      ]
    },
    {
      "cell_type": "code",
      "source": [
        "def test3(a,b,c,d):\n",
        "  print(f\"a:{a},b:{b},c:{c},d:{d}\")\n",
        "\n",
        "param = {\n",
        "    'a':1, 'c':100,'d':1000, 'b':10\n",
        "}\n",
        "test3(**param)"
      ],
      "metadata": {
        "colab": {
          "base_uri": "https://localhost:8080/"
        },
        "id": "EkkMkUXbaGox",
        "outputId": "c26ce81d-3b40-4c3e-f7d7-58279ccb85b0"
      },
      "execution_count": 45,
      "outputs": [
        {
          "output_type": "stream",
          "name": "stdout",
          "text": [
            "a:1,b:10,c:100,d:1000\n"
          ]
        }
      ]
    },
    {
      "cell_type": "code",
      "source": [
        "import torch.nn as nn"
      ],
      "metadata": {
        "id": "4AvSbxiybUta"
      },
      "execution_count": 48,
      "outputs": []
    },
    {
      "cell_type": "code",
      "source": [
        "params = {\n",
        "    'in_features': 10, 'out_features': 100, 'bias': True,\n",
        "}\n",
        "\n",
        "nn.Linear(in_features=10, out_features=100,bias=True)\n",
        "nn.Linear(**params)"
      ],
      "metadata": {
        "colab": {
          "base_uri": "https://localhost:8080/"
        },
        "id": "2hGeMa-8brIx",
        "outputId": "2bdbf248-4e5a-4d7c-d6cc-ccea8c9e0623"
      },
      "execution_count": 55,
      "outputs": [
        {
          "output_type": "execute_result",
          "data": {
            "text/plain": [
              "Linear(in_features=10, out_features=100, bias=True)"
            ]
          },
          "metadata": {},
          "execution_count": 55
        }
      ]
    },
    {
      "cell_type": "code",
      "source": [],
      "metadata": {
        "id": "UzvsDVnYcG95"
      },
      "execution_count": null,
      "outputs": []
    }
  ]
}