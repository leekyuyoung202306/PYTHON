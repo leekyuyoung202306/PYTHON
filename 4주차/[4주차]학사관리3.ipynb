{
  "nbformat": 4,
  "nbformat_minor": 0,
  "metadata": {
    "colab": {
      "provenance": []
    },
    "kernelspec": {
      "name": "python3",
      "display_name": "Python 3"
    },
    "language_info": {
      "name": "python"
    }
  },
  "cells": [
    {
      "cell_type": "code",
      "execution_count": 20,
      "metadata": {
        "id": "ukRtV7WHK7mD"
      },
      "outputs": [],
      "source": [
        "class Student:\n",
        "  def __init__(self,id, name):\n",
        "    self.id = id\n",
        "    self.name = name\n",
        "    Student_Score.student_lists.append(self)\n",
        "  def enrole(self,score_code):\n",
        "    if self.id not in Student_Score.student_score:\n",
        "      Student_Score.student_score[self.id] = [score_code]\n",
        "    else:\n",
        "      Student_Score.student_score[self.id].append(score_code)\n",
        "\n",
        "class Score:\n",
        "  def __init__(self,code,name):\n",
        "    self.name = name\n",
        "    self.code = code\n",
        "    Student_Score.score_lists.append(self)\n",
        "\n",
        "class Student_Score:\n",
        "  student_score = {}  # 학생 : [ ]    's001' : ['score001','score0002']\n",
        "  student_lists=[]\n",
        "  score_lists=[]\n",
        "  @staticmethod\n",
        "  def findByStudentId(student_id):\n",
        "    result = \"\"\n",
        "    for student in Student_Score.student_lists:\n",
        "      if student_id == student.id:\n",
        "        return student.name"
      ]
    },
    {
      "cell_type": "code",
      "source": [
        "s1 = Student('s001','홍길동') # 학생객체생성\n",
        "score1 = Score('score001','pythone') # 과목 객체 생성\n",
        "score2 = Score('score002','java') # 과목 객체 생성\n",
        "s1.enrole('score001') # 학생과 과목관계 설정"
      ],
      "metadata": {
        "id": "5SoJRjBnMvJ3"
      },
      "execution_count": 21,
      "outputs": []
    },
    {
      "cell_type": "code",
      "source": [
        "Student_Score.student_score"
      ],
      "metadata": {
        "colab": {
          "base_uri": "https://localhost:8080/"
        },
        "id": "bw97WusvNPQO",
        "outputId": "4bbed103-7041-45eb-f057-69fdbea400a8"
      },
      "execution_count": 22,
      "outputs": [
        {
          "output_type": "execute_result",
          "data": {
            "text/plain": [
              "{'s001': ['score001']}"
            ]
          },
          "metadata": {},
          "execution_count": 22
        }
      ]
    },
    {
      "cell_type": "code",
      "source": [
        "Student_Score.findByStudentId('s001')"
      ],
      "metadata": {
        "colab": {
          "base_uri": "https://localhost:8080/",
          "height": 35
        },
        "id": "VG9-Y8EFNSOu",
        "outputId": "4799a9e0-682d-4bda-d473-190b8862cb82"
      },
      "execution_count": 23,
      "outputs": [
        {
          "output_type": "execute_result",
          "data": {
            "text/plain": [
              "'홍길동'"
            ],
            "application/vnd.google.colaboratory.intrinsic+json": {
              "type": "string"
            }
          },
          "metadata": {},
          "execution_count": 23
        }
      ]
    },
    {
      "cell_type": "code",
      "source": [],
      "metadata": {
        "id": "c6J-6orXNxI0"
      },
      "execution_count": null,
      "outputs": []
    }
  ]
}