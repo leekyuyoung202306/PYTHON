{
  "nbformat": 4,
  "nbformat_minor": 0,
  "metadata": {
    "colab": {
      "provenance": []
    },
    "kernelspec": {
      "name": "python3",
      "display_name": "Python 3"
    },
    "language_info": {
      "name": "python"
    }
  },
  "cells": [
    {
      "cell_type": "code",
      "execution_count": 90,
      "metadata": {
        "id": "ewHuHmq_2QBI"
      },
      "outputs": [],
      "source": [
        "# 학생이 등록될때마다 student_lists는 증가한다\n",
        "# 학생은 수강을 한다\n",
        "class Student:\n",
        "  student_lists = []\n",
        "  def __init__(self,name):\n",
        "    self.name = name\n",
        "    self.subjects = {}\n",
        "    Student.student_lists.append(self)\n",
        "  def enroll(self,subject):\n",
        "    if isinstance(subject, Subject) and (subject not in self.subjects):\n",
        "        self.subjects[subject] = 0;\n",
        "        subject.students.append(self)\n",
        "    else:\n",
        "        print(\"잘못 입력했습니다.\")\n",
        "\n",
        "# 과목은 교수를 포함한다\n",
        "# 등록될때마다 해당교수의 과목정보에 추가된다\n",
        "# 과목리스트에도 추가된다\n",
        "class Subject:\n",
        "  subject_lists = []\n",
        "  def __init__(self,name,professor):\n",
        "    self.students = []\n",
        "    self.name = name\n",
        "    self.professor = professor\n",
        "    Subject.subject_lists.append(self)\n",
        "    professor.subject.append(self)\n",
        "  def getProfessor(self):\n",
        "    return self.professor\n",
        "\n",
        "class Professor:\n",
        "  def __init__(self,name):\n",
        "    self.name = name\n",
        "    self.subject = []\n",
        "  def setScore(self,jumsu):\n",
        "    for subject in pro1.subject:\n",
        "      for student in subject.students:\n",
        "        for key in student.subjects:\n",
        "          if subject == key:\n",
        "            student.subjects[key] = jumsu\n",
        "\n",
        "# 교수가 담당하는 과목의 수강생들을 알아야  함 그래서 그 수강생에게 학점을 부여함\n",
        "\n"
      ]
    },
    {
      "cell_type": "code",
      "source": [
        "# 교수등록\n",
        "pro1=  Professor(\"교수1\")\n",
        "pro2=  Professor(\"교수2\")\n",
        "\n",
        "sb1 =  Subject(\"python\",pro1)\n",
        "sb2 =  Subject(\"java\",pro2)\n",
        "\n",
        "# 학생등록\n",
        "s1 = Student(\"동해\")\n",
        "s1.enroll(sb1); s1.enroll(sb2)\n"
      ],
      "metadata": {
        "id": "A4QGU_9u4Isd"
      },
      "execution_count": 91,
      "outputs": []
    },
    {
      "cell_type": "code",
      "source": [
        "# 교수의 과목을 듣는 학생을 찾아라\n",
        "for subject in pro1.subject:\n",
        "  for student in subject.students:\n",
        "    for key in student.subjects:\n",
        "      if subject == key:\n",
        "        print(key.name)\n",
        "        student.subjects[key] = 80\n",
        ""
      ],
      "metadata": {
        "colab": {
          "base_uri": "https://localhost:8080/"
        },
        "id": "NqPzGXPX5mpi",
        "outputId": "93107fd5-ef97-4827-bbd9-794df426e0c6"
      },
      "execution_count": 92,
      "outputs": [
        {
          "output_type": "stream",
          "name": "stdout",
          "text": [
            "python\n"
          ]
        }
      ]
    },
    {
      "cell_type": "code",
      "source": [
        "s1.subjects"
      ],
      "metadata": {
        "colab": {
          "base_uri": "https://localhost:8080/"
        },
        "id": "OovmjWtoHB0H",
        "outputId": "38e0fbd9-3223-4e43-8004-acb4cb04466c"
      },
      "execution_count": 93,
      "outputs": [
        {
          "output_type": "execute_result",
          "data": {
            "text/plain": [
              "{<__main__.Subject at 0x7aec3f6a4eb0>: 80,\n",
              " <__main__.Subject at 0x7aec3f6a6440>: 0}"
            ]
          },
          "metadata": {},
          "execution_count": 93
        }
      ]
    },
    {
      "cell_type": "code",
      "source": [],
      "metadata": {
        "id": "sfPcy7YCIdcm"
      },
      "execution_count": null,
      "outputs": []
    }
  ]
}