{
  "nbformat": 4,
  "nbformat_minor": 0,
  "metadata": {
    "colab": {
      "provenance": []
    },
    "kernelspec": {
      "name": "python3",
      "display_name": "Python 3"
    },
    "language_info": {
      "name": "python"
    }
  },
  "cells": [
    {
      "cell_type": "code",
      "execution_count": null,
      "metadata": {
        "id": "qZbVw8n0A_oB"
      },
      "outputs": [],
      "source": []
    },
    {
      "cell_type": "markdown",
      "source": [
        "- 노트북은 노트를 가지고 있다\n",
        "- 노트\n",
        "  - 제목과 내용(title, contents)\n",
        "- 노트북\n",
        "  - 노트 추가\n",
        "  - 노트 삭제\n",
        "  - 노트 찾기"
      ],
      "metadata": {
        "id": "EMitD8FtBEu_"
      }
    },
    {
      "cell_type": "code",
      "source": [
        "class Note():\n",
        "  def __init__(self,title,contents):\n",
        "    self.title = title\n",
        "    self.contents = contents\n",
        "  def __str__(self):\n",
        "    return f\"title:{self.title}, contents:{self.contents}\"\n",
        "\n",
        "class NoteBook():\n",
        "  def __init__(self):\n",
        "    self.notes = []\n",
        "  def display_note(self):\n",
        "    pass\n",
        "\n",
        "  def add_note(self,note):\n",
        "    self.notes.append(note)\n",
        "  def remove_note(self,title):\n",
        "    target = self.find_note(title)\n",
        "    if target:\n",
        "      self.notes.remove(target)\n",
        "    else:\n",
        "      print(\"노트를 삭제하는데 실패했습니다.\")\n",
        "\n",
        "  def find_note(self,title):\n",
        "    for note in self.notes:\n",
        "      if note.title == title:\n",
        "        return note\n",
        "    return None\n",
        ""
      ],
      "metadata": {
        "id": "kyjBtLN-BSOV"
      },
      "execution_count": 1,
      "outputs": []
    },
    {
      "cell_type": "code",
      "source": [
        "temp = [1,2,3,4,5]\n",
        "del temp[0]"
      ],
      "metadata": {
        "id": "HemFAh5tBkEm"
      },
      "execution_count": 6,
      "outputs": []
    },
    {
      "cell_type": "code",
      "source": [
        "temp"
      ],
      "metadata": {
        "colab": {
          "base_uri": "https://localhost:8080/"
        },
        "id": "lcfIuOr6Eew9",
        "outputId": "5d20077b-cef7-4925-899c-a96cd4fedc61"
      },
      "execution_count": 7,
      "outputs": [
        {
          "output_type": "execute_result",
          "data": {
            "text/plain": [
              "[2, 3, 4, 5]"
            ]
          },
          "metadata": {},
          "execution_count": 7
        }
      ]
    },
    {
      "cell_type": "code",
      "source": [],
      "metadata": {
        "id": "s9FMpNJUEfBE"
      },
      "execution_count": null,
      "outputs": []
    }
  ]
}