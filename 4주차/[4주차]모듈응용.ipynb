{
  "nbformat": 4,
  "nbformat_minor": 0,
  "metadata": {
    "colab": {
      "provenance": []
    },
    "kernelspec": {
      "name": "python3",
      "display_name": "Python 3"
    },
    "language_info": {
      "name": "python"
    }
  },
  "cells": [
    {
      "cell_type": "markdown",
      "source": [
        "- 사칙연산 모듈 : arithmetic.py\n",
        "  - 변수 두개 받아서 4칙연산 메소드 만들기\n",
        "- 문자열 처리 모듈 : string_util.py\n",
        "  - 입력받은 문자열을 꺼꾸로 출력 reverse_string\n",
        "  - 공백을 기준으로 단어의 개수를 세는 함수 :  count_words"
      ],
      "metadata": {
        "id": "AQKAYMjx6HBW"
      }
    },
    {
      "cell_type": "code",
      "source": [
        "import arithmetic\n",
        "import string_util"
      ],
      "metadata": {
        "id": "Xsj4BHhp6f_m"
      },
      "execution_count": 1,
      "outputs": []
    },
    {
      "cell_type": "code",
      "source": [
        "arithmetic.add(10,20)"
      ],
      "metadata": {
        "colab": {
          "base_uri": "https://localhost:8080/"
        },
        "id": "wbT8Q_kkAYLf",
        "outputId": "5fd8765c-9438-4e10-c4df-a69606dade58"
      },
      "execution_count": 2,
      "outputs": [
        {
          "output_type": "execute_result",
          "data": {
            "text/plain": [
              "30"
            ]
          },
          "metadata": {},
          "execution_count": 2
        }
      ]
    },
    {
      "cell_type": "code",
      "source": [
        "string_util.reverse_string(\"abcdefg\")"
      ],
      "metadata": {
        "colab": {
          "base_uri": "https://localhost:8080/",
          "height": 35
        },
        "id": "s0ia2fGGAbz2",
        "outputId": "44a4c6a0-4d24-41b0-f2c4-ffb805d51a86"
      },
      "execution_count": 3,
      "outputs": [
        {
          "output_type": "execute_result",
          "data": {
            "text/plain": [
              "'gfedcba'"
            ],
            "application/vnd.google.colaboratory.intrinsic+json": {
              "type": "string"
            }
          },
          "metadata": {},
          "execution_count": 3
        }
      ]
    },
    {
      "cell_type": "code",
      "source": [
        "string_util.count_word(\"free download item\")"
      ],
      "metadata": {
        "colab": {
          "base_uri": "https://localhost:8080/"
        },
        "id": "Y3RsBMQlAhMk",
        "outputId": "92ea8068-0b0b-4b87-ff49-8ea57760855d"
      },
      "execution_count": 4,
      "outputs": [
        {
          "output_type": "execute_result",
          "data": {
            "text/plain": [
              "3"
            ]
          },
          "metadata": {},
          "execution_count": 4
        }
      ]
    },
    {
      "cell_type": "code",
      "source": [],
      "metadata": {
        "id": "MPFQCMT7An2s"
      },
      "execution_count": null,
      "outputs": []
    }
  ]
}