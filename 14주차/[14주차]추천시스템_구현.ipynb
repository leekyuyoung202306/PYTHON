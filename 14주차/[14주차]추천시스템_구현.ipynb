{
  "nbformat": 4,
  "nbformat_minor": 0,
  "metadata": {
    "colab": {
      "provenance": []
    },
    "kernelspec": {
      "name": "python3",
      "display_name": "Python 3"
    },
    "language_info": {
      "name": "python"
    }
  },
  "cells": [
    {
      "cell_type": "code",
      "execution_count": 2,
      "metadata": {
        "id": "Z_lIVi7p55yM"
      },
      "outputs": [],
      "source": [
        "import argparse\n",
        "import json\n",
        "import numpy as np"
      ]
    },
    {
      "cell_type": "markdown",
      "source": [
        "- 데이터가 사람과 영화선호도 구성되어 있다면\n",
        "- 두 사람을 서로 비교하는 방법을 알아야한다. - 유사성 점수\n",
        "- 유사성 점수 : 두 포인트가 얼마나 유사한지\n",
        "- 유클리드점수, 피어슨 점수\n",
        "- 유클리드점수가 0과 1사이가 되도록 , 두 개체간의 유클리드 거리가 크면 유클리드 점수는 낮다\n",
        "- 피어슨 점수 : -1 ~ 1 사이의 값을 갖는다"
      ],
      "metadata": {
        "id": "hPwbQrs06x6T"
      }
    },
    {
      "cell_type": "code",
      "source": [
        "# 입력 인수를 처리할 파서 - 사용자 두명과, 유사성 점수를 계산하는데 사용할 점수 유형을 얻음\n",
        "def build_arg_parser():\n",
        "  parser = argparse.ArgumentParser(description='Compute similarity score')\n",
        "  parser.add_argument('--user1',dest='user1',required=True, help='First user')\n",
        "  parser.add_argument('--user2',dest='user2',required=True, help='Second user')\n",
        "  parser.add_argument('--score-type',dest='score_type',required=True,\n",
        "                      choices=['Euclidean','Pearson'], help='Similarity metric to be used')\n",
        "  return parser"
      ],
      "metadata": {
        "id": "SCHqfz026riw"
      },
      "execution_count": null,
      "outputs": []
    },
    {
      "cell_type": "code",
      "source": [
        "# 콘솔에서 python script.py --user1 ABC --user2 BBB --score-type Euclidean"
      ],
      "metadata": {
        "id": "jySe83LB9HbF"
      },
      "execution_count": null,
      "outputs": []
    },
    {
      "cell_type": "code",
      "source": [
        "# 입력한 사용자간의 유클리드 점수를 계산하는 함수\n",
        "# 사용자가 데이터셋에 없으면 에러\n",
        "def euclidean_score(dataset, user1,user2):\n",
        "  if user1 not in dataset:\n",
        "    raise TypeError(f\"Cannot find {user1} in the dataset\")\n",
        "  if user2 not in dataset:\n",
        "    raise TypeError(f\"Cannot find {user2} in the dataset\")\n",
        "  # 두 사용자가 평가한 영화를 추적하는 변수를 정의\n",
        "  # 사용자1과 사용자2가 평가한 영화\n",
        "  common_movies = {}\n",
        "  # 두 사용자가 평가한 영화를 추출\n",
        "  for item in dataset[user1]:\n",
        "    if item in dataset[user2]:\n",
        "      common_movies[item] = 1\n",
        "  # 두 사용자간의 공통된 영화가 없으면 유사성 점수는 0\n",
        "  if len(common_movies) ==0:\n",
        "    return 0\n",
        "  # 두 평점간의 제곱차이를 계사니하고, 이를 사용해 유클리드 점수를 계산\n",
        "  squared_diff = []\n",
        "  for item in dataset[user1]:\n",
        "    if item in dataset[user2]:\n",
        "      squared_diff.append(np.square(dataset[user1][item] - dataset[user2][item]))\n",
        "  return 1 / (1+ np.sqrt(np.sum(squared_diff)))  # 1 / (1+sqrt(평점  차이 제곱의 합))\n",
        "\n",
        "# 피어슨 상관관계 점수 계산\n",
        "def pearson_score(dataset,user1,user2):\n",
        "  if user1 not in dataset:\n",
        "    raise TypeError(f\"Cannot find {user1} in the dataset\")\n",
        "  if user2 not in dataset:\n",
        "    raise TypeError(f\"Cannot find {user2} in the dataset\")\n",
        "  # 사용자1과 사용자2가 평가한 영화\n",
        "  common_movies = {}\n",
        "  # 두 사용자가 평가한 영화를 추출\n",
        "  for item in dataset[user1]:\n",
        "    if item in dataset[user2]:\n",
        "      common_movies[item] = 1\n",
        "  # 두 사용자간의 공통된 영화가 없으면 상관관계를 못구함\n",
        "  if len(common_movies) ==0:\n",
        "    return 0\n",
        "\n",
        "  # 두 사용자가 모두 평가한 모든 영화의 평점의 합을 계산\n",
        "  user1_sum = np.sum(  dataset[user1][item] for item in common_movies  )\n",
        "  user2_sum = np.sum(  dataset[user2][item] for item in common_movies  )\n",
        "\n",
        "  # 두 사용자가 모두 평가한 모든 영화의 평점제곱의 합을 계산\n",
        "  user1_squared_sum = np.sum(  np.square( dataset[user1][item]) for item in common_movies  )\n",
        "  user2_squared_sum = np.sum(  np.square( dataset[user2][item]) for item in common_movies  )\n",
        "\n",
        "  # 두 사용자가 모두 평가한 모든 영화의 평점의 곱의 합\n",
        "  sum_of_products = np.sum( np.sum( dataset[user1][item]*dataset[user2][item] ) for item in common_movies  )\n",
        "\n",
        "  num_rations = len(common_movies)\n",
        "\n",
        "  #피어슨 상관관계 점수 계산\n",
        "  Sxy =  sum_of_products - (user1_sum*user2_sum / num_rations)  # 공분산\n",
        "  Sxx = user1_squared_sum - np.square(user1_sum) / num_rations  # user1의 분산\n",
        "  Syy = user2_squared_sum - np.square(user2_sum) / num_rations  # user2의 분산\n",
        "\n",
        "  # 편차가 없으면 점수는 0\n",
        "  if Sxx * Syy == 0:\n",
        "    return 0\n",
        "\n",
        "  return Sxy / np.sqrt(Sxx * Syy)"
      ],
      "metadata": {
        "id": "4xdA9WPJ9iRV"
      },
      "execution_count": 5,
      "outputs": []
    },
    {
      "cell_type": "code",
      "source": [
        "with open('ratings.json', 'r') as f:\n",
        "  data = json.loads(f.read())"
      ],
      "metadata": {
        "id": "O7xG_rRnCwop"
      },
      "execution_count": 9,
      "outputs": []
    },
    {
      "cell_type": "code",
      "source": [
        "# 유사성 점수를 계산\n",
        "score_type = 'Euclidean'\n",
        "if score_type == 'Euclidean':\n",
        "  print(\"Euclidean score\")\n",
        "  print(euclidean_score(data,'David Smith','Bill Duffy'))\n",
        "else:\n",
        "  print(\"Pearson score\")\n",
        "  print(pearson_score(data,'David Smith','Bill Duffy'))"
      ],
      "metadata": {
        "colab": {
          "base_uri": "https://localhost:8080/"
        },
        "id": "7A_pPtk6Gbhj",
        "outputId": "9455d203-6c31-4233-d443-4f12b37666a9"
      },
      "execution_count": 12,
      "outputs": [
        {
          "output_type": "stream",
          "name": "stdout",
          "text": [
            "Euclidean score\n",
            "0.585786437626905\n"
          ]
        }
      ]
    },
    {
      "cell_type": "code",
      "source": [
        "print(\"Pearson score\")\n",
        "print(pearson_score(data,'David Smith','Bill Duffy'))"
      ],
      "metadata": {
        "colab": {
          "base_uri": "https://localhost:8080/"
        },
        "id": "nka1En-rGtZv",
        "outputId": "a86860c5-0692-43d8-9380-b708f8a9d9cd"
      },
      "execution_count": 13,
      "outputs": [
        {
          "output_type": "stream",
          "name": "stdout",
          "text": [
            "Pearson score\n",
            "0.9909924304103233\n"
          ]
        },
        {
          "output_type": "stream",
          "name": "stderr",
          "text": [
            "<ipython-input-5-b83b92821c50>:42: DeprecationWarning: Calling np.sum(generator) is deprecated, and in the future will give a different result. Use np.sum(np.fromiter(generator)) or the python sum builtin instead.\n",
            "  user1_sum = np.sum(  dataset[user1][item] for item in common_movies  )\n",
            "<ipython-input-5-b83b92821c50>:43: DeprecationWarning: Calling np.sum(generator) is deprecated, and in the future will give a different result. Use np.sum(np.fromiter(generator)) or the python sum builtin instead.\n",
            "  user2_sum = np.sum(  dataset[user2][item] for item in common_movies  )\n",
            "<ipython-input-5-b83b92821c50>:46: DeprecationWarning: Calling np.sum(generator) is deprecated, and in the future will give a different result. Use np.sum(np.fromiter(generator)) or the python sum builtin instead.\n",
            "  user1_squared_sum = np.sum(  np.square( dataset[user1][item]) for item in common_movies  )\n",
            "<ipython-input-5-b83b92821c50>:47: DeprecationWarning: Calling np.sum(generator) is deprecated, and in the future will give a different result. Use np.sum(np.fromiter(generator)) or the python sum builtin instead.\n",
            "  user2_squared_sum = np.sum(  np.square( dataset[user2][item]) for item in common_movies  )\n",
            "<ipython-input-5-b83b92821c50>:50: DeprecationWarning: Calling np.sum(generator) is deprecated, and in the future will give a different result. Use np.sum(np.fromiter(generator)) or the python sum builtin instead.\n",
            "  sum_of_products = np.sum( np.sum( dataset[user1][item]*dataset[user2][item] ) for item in common_movies  )\n"
          ]
        }
      ]
    },
    {
      "cell_type": "markdown",
      "source": [
        "협업필터링을 사용해서 유사한 사용자 찾기\n",
        "  - 협업필터링 : 새로운 객체를 찾아내기 위해 데이터 세트 내 객체 간에 패턴을 찾는 프로세스\n",
        "  - 데이터  세트에서 유사한 사용자를 살펴봄으로써 추천을 제공"
      ],
      "metadata": {
        "id": "IA_6mXWTIRXn"
      }
    },
    {
      "cell_type": "code",
      "source": [
        "# compute_scores.py 파일을 로드한다(git 14주차에 있음)\n",
        "from compute_scores import pearson_score\n",
        "# import sys\n",
        "# print(sys.modules.get(\"compute_scores\") )\n",
        "# importlib.reload(\"compute_scores\")"
      ],
      "metadata": {
        "id": "LfwaPEMeHZo4"
      },
      "execution_count": 42,
      "outputs": []
    },
    {
      "cell_type": "code",
      "source": [
        "# 데이터세트에서 입력한 사용자와 유사한 사용자를 찾는 함수 - 데이터세트에 사용자 없으면 오류\n",
        "def find_similar_users(dataset, user,num_users):\n",
        "  if user not in dataset:\n",
        "    raise TypeError(f'Cannot find {user} in the dataset')\n",
        "  #입력한 사용자와 테이터 세트내의 모든 사용간의 피어슨 점수 계산\n",
        "  scores = np.array(    [  [x, pearson_score(dataset,user,x)]    for x in dataset if x != user   ]        )\n",
        "  # 점수를 내림차순으로 정렬\n",
        "\n",
        "  scores_sorted =  np.argsort(scores[:,1])[::-1]\n",
        "  # 상위 num_users개의 점수 추출\n",
        "  top_users = scores_sorted[:num_users]\n",
        "  return scores[top_users]"
      ],
      "metadata": {
        "id": "dpySMSBBJkHc"
      },
      "execution_count": 47,
      "outputs": []
    },
    {
      "cell_type": "code",
      "source": [
        "# 평점데이터를 로드\n",
        "with open('ratings.json', 'r') as f:\n",
        "  data = json.loads(f.read())\n",
        "# 기존 평점에 있는 유저중에 이 유저와 비슷한 유저를 찾을수 있다.\n",
        "user = \"Bill Duffy\"\n",
        "similar_user =  find_similar_users(data,'Brenda Peterson',5)\n",
        "similar_user"
      ],
      "metadata": {
        "colab": {
          "base_uri": "https://localhost:8080/"
        },
        "id": "SG9tYhJbLec7",
        "outputId": "edc32b1b-44b5-4ace-9fd8-0f5fa21654ea"
      },
      "execution_count": 51,
      "outputs": [
        {
          "output_type": "execute_result",
          "data": {
            "text/plain": [
              "array([['Julie Hammel', '0.9962709627734359'],\n",
              "       ['Chris Duncan', '-1.0'],\n",
              "       ['Bill Duffy', '-0.9466130952336697'],\n",
              "       ['Samuel Miller', '-0.9299279982188647'],\n",
              "       ['Clarissa Jackson', '-0.7335065881732874']], dtype='<U32')"
            ]
          },
          "metadata": {},
          "execution_count": 51
        }
      ]
    },
    {
      "cell_type": "markdown",
      "source": [
        "영화 추천 시스템 구축"
      ],
      "metadata": {
        "id": "9_Z43BAaQc07"
      }
    },
    {
      "cell_type": "code",
      "source": [
        "# 입력 사용자를 위한 영화 추천\n",
        "def get_recommendations(dataset,input_user):\n",
        "  if input_user not in dataset:\n",
        "    raise TypeError(f'Cannot not {input_user} in the dataset')\n",
        "  # 점수를 추적할 변수\n",
        "  overall_scores = {}\n",
        "  similarity_scores = {}\n",
        "  # 유사성 점수 계산\n",
        "  for user in   [x for x in dataset if x != input_user]:\n",
        "    similarity_score = pearson_score(dataset,input_user,user)\n",
        "    if similarity_score <=0:  # 유사성 점수가 0보다 큰 대상만\n",
        "      continue\n",
        "    # 현재  사용자가 평가했지만 입력한 유저가 평가하지 않은 영화 목록\n",
        "    filtered_list = [x for x in dataset[user] if x not in dataset[input_user] or dataset[input_user][x] == 0]\n",
        "    # 필터링한 영화 목록 내 각 항목에 대해, 유사성 점수를 기반으로 가중치가 부여된 평점을 추적, 유사성 점수도 추적\n",
        "    for item in filtered_list:\n",
        "      overall_scores.update({item:dataset[user][item]*similarity_score})\n",
        "      similarity_scores.update({item:similarity_score})\n",
        "    if len(overall_scores) == 0:\n",
        "      return \"no recommendations possible\"\n",
        "    # 가중치 점수에 기반한 점수를 정규화 한다\n",
        "    movie_scores =  np.array( [  [score/similarity_scores[item], item ]  for item,score in  overall_scores.items()]    )\n",
        "    # 점수를 정렬하고 추천 영화를 추출한다\n",
        "    #내림차순\n",
        "    movie_scores =  movie_scores[np.argsort(movie_scores[:,0])[::-1]]\n",
        "    # 영화 추천 추출\n",
        "    movie_recommendations =  [ movie for _, movie in movie_scores ]\n",
        "    return movie_recommendations\n",
        "\n",
        ""
      ],
      "metadata": {
        "id": "7G0X3cSrQgPv"
      },
      "execution_count": 64,
      "outputs": []
    },
    {
      "cell_type": "code",
      "source": [
        "# 영화평점 데이터 로드\n",
        "# 평점데이터를 로드\n",
        "with open('ratings.json', 'r') as f:\n",
        "  data = json.loads(f.read())\n",
        "movie = get_recommendations(data,'Chris Duncan')"
      ],
      "metadata": {
        "id": "FgcX0Qr5XHe7"
      },
      "execution_count": 65,
      "outputs": []
    },
    {
      "cell_type": "code",
      "source": [
        "for idx, data in enumerate(movie):\n",
        "  print(f\"{idx+1}. {data}\")"
      ],
      "metadata": {
        "colab": {
          "base_uri": "https://localhost:8080/"
        },
        "id": "p-pkZ_2XXzwy",
        "outputId": "0b91aa6a-9210-403e-c0c5-2842aad35a98"
      },
      "execution_count": 67,
      "outputs": [
        {
          "output_type": "stream",
          "name": "stdout",
          "text": [
            "1. Goodfellas\n",
            "2. Scarface\n",
            "3. Vertigo\n"
          ]
        }
      ]
    },
    {
      "cell_type": "code",
      "source": [],
      "metadata": {
        "id": "SK2ZU-1FY7h5"
      },
      "execution_count": null,
      "outputs": []
    },
    {
      "cell_type": "code",
      "source": [],
      "metadata": {
        "id": "U48SiiipaLZB"
      },
      "execution_count": null,
      "outputs": []
    }
  ]
}