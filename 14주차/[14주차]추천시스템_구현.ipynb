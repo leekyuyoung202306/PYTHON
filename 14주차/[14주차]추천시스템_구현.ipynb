{
  "nbformat": 4,
  "nbformat_minor": 0,
  "metadata": {
    "colab": {
      "provenance": []
    },
    "kernelspec": {
      "name": "python3",
      "display_name": "Python 3"
    },
    "language_info": {
      "name": "python"
    }
  },
  "cells": [
    {
      "cell_type": "code",
      "execution_count": 2,
      "metadata": {
        "id": "Z_lIVi7p55yM"
      },
      "outputs": [],
      "source": [
        "import argparse\n",
        "import json\n",
        "import numpy as np"
      ]
    },
    {
      "cell_type": "markdown",
      "source": [
        "- 데이터가 사람과 영화선호도 구성되어 있다면\n",
        "- 두 사람을 서로 비교하는 방법을 알아야한다. - 유사성 점수\n",
        "- 유사성 점수 : 두 포인트가 얼마나 유사한지\n",
        "- 유클리드점수, 피어슨 점수\n",
        "- 유클리드점수가 0과 1사이가 되도록 , 두 개체간의 유클리드 거리가 크면 유클리드 점수는 낮다\n",
        "- 피어슨 점수 : -1 ~ 1 사이의 값을 갖는다"
      ],
      "metadata": {
        "id": "hPwbQrs06x6T"
      }
    },
    {
      "cell_type": "code",
      "source": [
        "# 입력 인수를 처리할 파서 - 사용자 두명과, 유사성 점수를 계산하는데 사용할 점수 유형을 얻음\n",
        "def build_arg_parser():\n",
        "  parser = argparse.ArgumentParser(description='Compute similarity score')\n",
        "  parser.add_argument('--user1',dest='user1',required=True, help='First user')\n",
        "  parser.add_argument('--user2',dest='user2',required=True, help='Second user')\n",
        "  parser.add_argument('--score-type',dest='score_type',required=True,\n",
        "                      choices=['Euclidean','Pearson'], help='Similarity metric to be used')\n",
        "  return parser"
      ],
      "metadata": {
        "id": "SCHqfz026riw"
      },
      "execution_count": null,
      "outputs": []
    },
    {
      "cell_type": "code",
      "source": [
        "# 콘솔에서 python script.py --user1 ABC --user2 BBB --score-type Euclidean"
      ],
      "metadata": {
        "id": "jySe83LB9HbF"
      },
      "execution_count": null,
      "outputs": []
    },
    {
      "cell_type": "code",
      "source": [
        "# 입력한 사용자간의 유클리드 점수를 계산하는 함수\n",
        "# 사용자가 데이터셋에 없으면 에러\n",
        "def euclidean_score(dataset, user1,user2):\n",
        "  if user1 not in dataset:\n",
        "    raise TypeError(f\"Cannot find {user1} in the dataset\")\n",
        "  if user2 not in dataset:\n",
        "    raise TypeError(f\"Cannot find {user2} in the dataset\")\n",
        "  # 두 사용자가 평가한 영화를 추적하는 변수를 정의\n",
        "  # 사용자1과 사용자2가 평가한 영화\n",
        "  common_movies = {}\n",
        "  # 두 사용자가 평가한 영화를 추출\n",
        "  for item in dataset[user1]:\n",
        "    if item in dataset[user2]:\n",
        "      common_movies[item] = 1\n",
        "  # 두 사용자간의 공통된 영화가 없으면 유사성 점수는 0\n",
        "  if len(common_movies) ==0:\n",
        "    return 0\n",
        "  # 두 평점간의 제곱차이를 계사니하고, 이를 사용해 유클리드 점수를 계산\n",
        "  squared_diff = []\n",
        "  for item in dataset[user1]:\n",
        "    if item in dataset[user2]:\n",
        "      squared_diff.append(np.square(dataset[user1][item] - dataset[user2][item]))\n",
        "  return 1 / (1+ np.sqrt(np.sum(squared_diff)))  # 1 / (1+sqrt(평점  차이 제곱의 합))\n",
        "\n",
        "# 피어슨 상관관계 점수 계산\n",
        "def pearson_score(dataset,user1,user2):\n",
        "  if user1 not in dataset:\n",
        "    raise TypeError(f\"Cannot find {user1} in the dataset\")\n",
        "  if user2 not in dataset:\n",
        "    raise TypeError(f\"Cannot find {user2} in the dataset\")\n",
        "  # 사용자1과 사용자2가 평가한 영화\n",
        "  common_movies = {}\n",
        "  # 두 사용자가 평가한 영화를 추출\n",
        "  for item in dataset[user1]:\n",
        "    if item in dataset[user2]:\n",
        "      common_movies[item] = 1\n",
        "  # 두 사용자간의 공통된 영화가 없으면 상관관계를 못구함\n",
        "  if len(common_movies) ==0:\n",
        "    return 0\n",
        "\n",
        "  # 두 사용자가 모두 평가한 모든 영화의 평점의 합을 계산\n",
        "  user1_sum = np.sum(  dataset[user1][item] for item in common_movies  )\n",
        "  user2_sum = np.sum(  dataset[user2][item] for item in common_movies  )\n",
        "\n",
        "  # 두 사용자가 모두 평가한 모든 영화의 평점제곱의 합을 계산\n",
        "  user1_squared_sum = np.sum(  np.square( dataset[user1][item]) for item in common_movies  )\n",
        "  user2_squared_sum = np.sum(  np.square( dataset[user2][item]) for item in common_movies  )\n",
        "\n",
        "  # 두 사용자가 모두 평가한 모든 영화의 평점의 곱의 합\n",
        "  sum_of_products = np.sum( np.sum( dataset[user1][item]*dataset[user2][item] ) for item in common_movies  )\n",
        "\n",
        "  num_rations = len(common_movies)\n",
        "\n",
        "  #피어슨 상관관계 점수 계산\n",
        "  Sxy =  sum_of_products - (user1_sum*user2_sum / num_rations)  # 공분산\n",
        "  Sxx = user1_squared_sum - np.square(user1_sum) / num_rations  # user1의 분산\n",
        "  Syy = user2_squared_sum - np.square(user2_sum) / num_rations  # user2의 분산\n",
        "\n",
        "  # 편차가 없으면 점수는 0\n",
        "  if Sxx * Syy == 0:\n",
        "    return 0\n",
        "\n",
        "  return Sxy / np.sqrt(Sxx * Syy)"
      ],
      "metadata": {
        "id": "4xdA9WPJ9iRV"
      },
      "execution_count": 5,
      "outputs": []
    },
    {
      "cell_type": "code",
      "source": [
        "filepath = 'https://raw.githubusercontent.com/leekyuyoung202306/PYTHON/main/14%EC%A3%BC%EC%B0%A8/ratings.json'"
      ],
      "metadata": {
        "id": "4_vwyx_oCD0Q"
      },
      "execution_count": 6,
      "outputs": []
    },
    {
      "cell_type": "code",
      "source": [],
      "metadata": {
        "id": "O7xG_rRnCwop"
      },
      "execution_count": null,
      "outputs": []
    }
  ]
}