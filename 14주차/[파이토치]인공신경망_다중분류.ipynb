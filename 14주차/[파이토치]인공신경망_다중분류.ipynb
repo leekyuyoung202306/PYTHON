{
  "nbformat": 4,
  "nbformat_minor": 0,
  "metadata": {
    "colab": {
      "provenance": [],
      "gpuType": "T4"
    },
    "kernelspec": {
      "name": "python3",
      "display_name": "Python 3"
    },
    "language_info": {
      "name": "python"
    },
    "accelerator": "GPU"
  },
  "cells": [
    {
      "cell_type": "markdown",
      "source": [
        "\n",
        "\n",
        "1.   회귀\n",
        "  - 값을 직접 예측\n",
        "  - 신경망의 출력을 그대로 사용\n",
        "2.   분류\n",
        "  - 어떤 범주에 들어가는지\n",
        "  - 신경망의 출력을 확률 분포로 바꾸면\n",
        "  - 시그모이드(이진), 소프트맥스(다중)\n",
        "\n",
        "\n",
        "\n",
        "\n"
      ],
      "metadata": {
        "id": "UDC_TmS7vc20"
      }
    },
    {
      "cell_type": "code",
      "execution_count": 1,
      "metadata": {
        "id": "ew-r_gbSvIN_"
      },
      "outputs": [],
      "source": [
        "import matplotlib.pyplot as plt\n",
        "from torchvision.datasets.mnist import MNIST\n",
        "from torchvision.transforms import ToTensor"
      ]
    },
    {
      "cell_type": "code",
      "source": [
        "# 데이터 가져오기\n",
        "training_data = MNIST(root='./', train=True, download=True, transform=ToTensor() )\n",
        "test_data = MNIST(root='./', train=False, download=True, transform=ToTensor() )"
      ],
      "metadata": {
        "id": "-tA5bBCtwUwq",
        "colab": {
          "base_uri": "https://localhost:8080/"
        },
        "outputId": "ea4d4b2e-9cdc-443f-d216-3970d33ae21c"
      },
      "execution_count": 2,
      "outputs": [
        {
          "output_type": "stream",
          "name": "stdout",
          "text": [
            "Downloading http://yann.lecun.com/exdb/mnist/train-images-idx3-ubyte.gz\n",
            "Downloading http://yann.lecun.com/exdb/mnist/train-images-idx3-ubyte.gz to ./MNIST/raw/train-images-idx3-ubyte.gz\n"
          ]
        },
        {
          "output_type": "stream",
          "name": "stderr",
          "text": [
            "100%|██████████| 9912422/9912422 [00:00<00:00, 122874917.23it/s]"
          ]
        },
        {
          "output_type": "stream",
          "name": "stdout",
          "text": [
            "Extracting ./MNIST/raw/train-images-idx3-ubyte.gz to ./MNIST/raw\n"
          ]
        },
        {
          "output_type": "stream",
          "name": "stderr",
          "text": [
            "\n"
          ]
        },
        {
          "output_type": "stream",
          "name": "stdout",
          "text": [
            "\n",
            "Downloading http://yann.lecun.com/exdb/mnist/train-labels-idx1-ubyte.gz\n",
            "Downloading http://yann.lecun.com/exdb/mnist/train-labels-idx1-ubyte.gz to ./MNIST/raw/train-labels-idx1-ubyte.gz\n"
          ]
        },
        {
          "output_type": "stream",
          "name": "stderr",
          "text": [
            "100%|██████████| 28881/28881 [00:00<00:00, 50494245.03it/s]\n"
          ]
        },
        {
          "output_type": "stream",
          "name": "stdout",
          "text": [
            "Extracting ./MNIST/raw/train-labels-idx1-ubyte.gz to ./MNIST/raw\n",
            "\n",
            "Downloading http://yann.lecun.com/exdb/mnist/t10k-images-idx3-ubyte.gz\n",
            "Downloading http://yann.lecun.com/exdb/mnist/t10k-images-idx3-ubyte.gz to ./MNIST/raw/t10k-images-idx3-ubyte.gz\n"
          ]
        },
        {
          "output_type": "stream",
          "name": "stderr",
          "text": [
            "100%|██████████| 1648877/1648877 [00:00<00:00, 43074636.87it/s]"
          ]
        },
        {
          "output_type": "stream",
          "name": "stdout",
          "text": [
            "Extracting ./MNIST/raw/t10k-images-idx3-ubyte.gz to ./MNIST/raw\n"
          ]
        },
        {
          "output_type": "stream",
          "name": "stderr",
          "text": [
            "\n"
          ]
        },
        {
          "output_type": "stream",
          "name": "stdout",
          "text": [
            "\n",
            "Downloading http://yann.lecun.com/exdb/mnist/t10k-labels-idx1-ubyte.gz\n",
            "Downloading http://yann.lecun.com/exdb/mnist/t10k-labels-idx1-ubyte.gz to ./MNIST/raw/t10k-labels-idx1-ubyte.gz\n"
          ]
        },
        {
          "output_type": "stream",
          "name": "stderr",
          "text": [
            "100%|██████████| 4542/4542 [00:00<00:00, 3958140.20it/s]\n"
          ]
        },
        {
          "output_type": "stream",
          "name": "stdout",
          "text": [
            "Extracting ./MNIST/raw/t10k-labels-idx1-ubyte.gz to ./MNIST/raw\n",
            "\n"
          ]
        }
      ]
    },
    {
      "cell_type": "code",
      "source": [
        "len(training_data),training_data.data.shape"
      ],
      "metadata": {
        "colab": {
          "base_uri": "https://localhost:8080/"
        },
        "id": "8ImCruVRwp1q",
        "outputId": "8e7e7452-f949-4bd2-9d0e-d31dcbd63da5"
      },
      "execution_count": 3,
      "outputs": [
        {
          "output_type": "execute_result",
          "data": {
            "text/plain": [
              "(60000, torch.Size([60000, 28, 28]))"
            ]
          },
          "metadata": {},
          "execution_count": 3
        }
      ]
    },
    {
      "cell_type": "code",
      "source": [
        "plt.imshow(training_data.data[0],cmap='gray')"
      ],
      "metadata": {
        "colab": {
          "base_uri": "https://localhost:8080/",
          "height": 448
        },
        "id": "HFtmh6PjxJFL",
        "outputId": "a1d99fac-b36d-4d86-ca18-9a4b2840d5c8"
      },
      "execution_count": 4,
      "outputs": [
        {
          "output_type": "execute_result",
          "data": {
            "text/plain": [
              "<matplotlib.image.AxesImage at 0x78fef60ed5a0>"
            ]
          },
          "metadata": {},
          "execution_count": 4
        },
        {
          "output_type": "display_data",
          "data": {
            "text/plain": [
              "<Figure size 640x480 with 1 Axes>"
            ],
            "image/png": "[encoded data removed]"
          },
          "metadata": {}
        }
      ]
    },
    {
      "cell_type": "code",
      "source": [
        "# 데이터 로더 정의\n",
        "from torch.utils.data.dataloader import DataLoader\n",
        "train_loader = DataLoader(training_data,batch_size=32,shuffle=True)\n",
        "# 평가용은 데이터를 섞을 필요가 없음\n",
        "test_loader = DataLoader(training_data,batch_size=32,shuffle=False)"
      ],
      "metadata": {
        "id": "fhxejNSvWoqX"
      },
      "execution_count": 5,
      "outputs": []
    },
    {
      "cell_type": "code",
      "source": [
        "next(iter(train_loader))[0].shape, next(iter(train_loader))[1].shape"
      ],
      "metadata": {
        "colab": {
          "base_uri": "https://localhost:8080/"
        },
        "id": "xHgU3tjLYBgm",
        "outputId": "cfb4fe1b-8826-4e11-ec2c-6f80deaa0ffb"
      },
      "execution_count": 6,
      "outputs": [
        {
          "output_type": "execute_result",
          "data": {
            "text/plain": [
              "(torch.Size([32, 1, 28, 28]), torch.Size([32]))"
            ]
          },
          "metadata": {},
          "execution_count": 6
        }
      ]
    },
    {
      "cell_type": "code",
      "source": [
        "\n",
        "for i in train_loader:\n",
        "  print(i[0].shape, i[1].shape)\n",
        "  break\n"
      ],
      "metadata": {
        "colab": {
          "base_uri": "https://localhost:8080/"
        },
        "id": "P2FFzbAIXEPU",
        "outputId": "b1a86032-b2ed-400e-a50f-9ace894451ca"
      },
      "execution_count": 7,
      "outputs": [
        {
          "output_type": "stream",
          "name": "stdout",
          "text": [
            "torch.Size([32, 1, 28, 28]) torch.Size([32])\n"
          ]
        }
      ]
    },
    {
      "cell_type": "code",
      "source": [
        "# 학습모델 만들고 학습하기\n",
        "# 모델정의 ->학습 ->손실계산 ->오차역전파 및 최적화(적용) ->반복 ->종료\n",
        "import torch\n",
        "import torch.nn as nn\n",
        "from torch.optim.adam import Adam"
      ],
      "metadata": {
        "id": "xZKXn9s5YDmn"
      },
      "execution_count": 8,
      "outputs": []
    },
    {
      "cell_type": "code",
      "source": [
        "28*28"
      ],
      "metadata": {
        "colab": {
          "base_uri": "https://localhost:8080/"
        },
        "id": "WtxCocz_ZGCP",
        "outputId": "2bca3765-1784-4050-c061-d4ff1db57f73"
      },
      "execution_count": 9,
      "outputs": [
        {
          "output_type": "execute_result",
          "data": {
            "text/plain": [
              "784"
            ]
          },
          "metadata": {},
          "execution_count": 9
        }
      ]
    },
    {
      "cell_type": "code",
      "source": [
        "# cpu / gpu를 결정\n",
        "device = \"cuda\" if torch.cuda.is_available() else \"cpu\"\n",
        "model = nn.Sequential(\n",
        "    nn.Linear( 784 , 64 ),\n",
        "    nn.ReLU(),\n",
        "    nn.Linear( 64 , 64 ),\n",
        "    nn.ReLU(),\n",
        "    nn.Linear( 64 , 10 ),\n",
        "    nn.Softmax()\n",
        ")\n",
        "model.to(device)  # 런타임 유형이 gpu이면 gpu이다\n",
        "\n",
        "lr = 1e-3\n",
        "optim = Adam(model.parameters(), lr=lr)\n",
        "\n",
        "# 에포크만큼 학습\n",
        "for epoch in range(20):\n",
        "  # 배치만큼 --> loader\n",
        "  for data,label in train_loader:\n",
        "    optim.zero_grad()\n",
        "    # 입력데이터를 설계대로 변경  입력 : 784\n",
        "    data = torch.reshape(data, (-1,784)).to(device)\n",
        "    # 학습 및 예측\n",
        "    preds = model(data)\n",
        "    # 오차(손실함수)\n",
        "    loss = nn.CrossEntropyLoss()(preds, label.to(device)) # 해당 클래스의 __call__ 호출\n",
        "    loss.backward()\n",
        "    optim.step()\n",
        "  print(f\"epoch{epoch} loss:{loss.item()}\")  # item() 실수형태로..\n",
        "\n",
        "# 저장 : 확장자는 pth\n",
        "torch.save(model.state_dict(),\"MNIST.pth\")"
      ],
      "metadata": {
        "colab": {
          "base_uri": "https://localhost:8080/"
        },
        "id": "laqVUqIqYqCz",
        "outputId": "de44a9fa-0c8f-496d-c961-bf5f09004a50"
      },
      "execution_count": null,
      "outputs": [
        {
          "output_type": "stream",
          "name": "stderr",
          "text": [
            "/usr/local/lib/python3.10/dist-packages/torch/nn/modules/container.py:217: UserWarning: Implicit dimension choice for softmax has been deprecated. Change the call to include dim=X as an argument.\n",
            "  input = module(input)\n"
          ]
        },
        {
          "output_type": "stream",
          "name": "stdout",
          "text": [
            "epoch0 loss:1.5317959785461426\n"
          ]
        }
      ]
    }
  ]
}