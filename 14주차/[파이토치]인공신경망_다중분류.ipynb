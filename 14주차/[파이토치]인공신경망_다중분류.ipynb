{
  "nbformat": 4,
  "nbformat_minor": 0,
  "metadata": {
    "colab": {
      "provenance": [],
      "gpuType": "T4"
    },
    "kernelspec": {
      "name": "python3",
      "display_name": "Python 3"
    },
    "language_info": {
      "name": "python"
    },
    "accelerator": "GPU"
  },
  "cells": [
    {
      "cell_type": "markdown",
      "source": [
        "\n",
        "\n",
        "1.   회귀\n",
        "  - 값을 직접 예측\n",
        "  - 신경망의 출력을 그대로 사용\n",
        "2.   분류\n",
        "  - 어떤 범주에 들어가는지\n",
        "  - 신경망의 출력을 확률 분포로 바꾸면\n",
        "  - 시그모이드(이진), 소프트맥스(다중)\n",
        "\n",
        "\n",
        "\n",
        "\n"
      ],
      "metadata": {
        "id": "UDC_TmS7vc20"
      }
    },
    {
      "cell_type": "code",
      "execution_count": 30,
      "metadata": {
        "id": "ew-r_gbSvIN_"
      },
      "outputs": [],
      "source": [
        "import matplotlib.pyplot as plt\n",
        "from torchvision.datasets.mnist import MNIST\n",
        "from torchvision.transforms import ToTensor"
      ]
    },
    {
      "cell_type": "code",
      "source": [
        "# 데이터 가져오기\n",
        "training_data = MNIST(root='./', train=True, download=True, transform=ToTensor() )\n",
        "test_data = MNIST(root='./', train=False, download=True, transform=ToTensor() )"
      ],
      "metadata": {
        "id": "-tA5bBCtwUwq"
      },
      "execution_count": 31,
      "outputs": []
    },
    {
      "cell_type": "code",
      "source": [
        "len(training_data),training_data.data.shape"
      ],
      "metadata": {
        "colab": {
          "base_uri": "https://localhost:8080/"
        },
        "id": "8ImCruVRwp1q",
        "outputId": "cd7e505c-1013-4251-fa2d-5b3d7fece4e2"
      },
      "execution_count": 32,
      "outputs": [
        {
          "output_type": "execute_result",
          "data": {
            "text/plain": [
              "(60000, torch.Size([60000, 28, 28]))"
            ]
          },
          "metadata": {},
          "execution_count": 32
        }
      ]
    },
    {
      "cell_type": "code",
      "source": [
        "plt.imshow(training_data.data[0],cmap='gray')"
      ],
      "metadata": {
        "colab": {
          "base_uri": "https://localhost:8080/",
          "height": 448
        },
        "id": "HFtmh6PjxJFL",
        "outputId": "9904588a-8e94-4800-89d0-d7be7d5e496c"
      },
      "execution_count": 33,
      "outputs": [
        {
          "output_type": "execute_result",
          "data": {
            "text/plain": [
              "<matplotlib.image.AxesImage at 0x78fe856aa020>"
            ]
          },
          "metadata": {},
          "execution_count": 33
        },
        {
          "output_type": "display_data",
          "data": {
            "text/plain": [
              "<Figure size 640x480 with 1 Axes>"
            ],
            "image/png": "[encoded data removed]"
          },
          "metadata": {}
        }
      ]
    },
    {
      "cell_type": "code",
      "source": [
        "# 데이터 로더 정의\n",
        "from torch.utils.data.dataloader import DataLoader\n",
        "train_loader = DataLoader(training_data,batch_size=32,shuffle=True)\n",
        "# 평가용은 데이터를 섞을 필요가 없음\n",
        "test_loader = DataLoader(test_data,batch_size=32,shuffle=False)"
      ],
      "metadata": {
        "id": "fhxejNSvWoqX"
      },
      "execution_count": 34,
      "outputs": []
    },
    {
      "cell_type": "code",
      "source": [
        "next(iter(train_loader))[0].shape, next(iter(train_loader))[1].shape"
      ],
      "metadata": {
        "colab": {
          "base_uri": "https://localhost:8080/"
        },
        "id": "xHgU3tjLYBgm",
        "outputId": "bae1e391-b3eb-4db0-e97b-6e315de576c0"
      },
      "execution_count": 35,
      "outputs": [
        {
          "output_type": "execute_result",
          "data": {
            "text/plain": [
              "(torch.Size([32, 1, 28, 28]), torch.Size([32]))"
            ]
          },
          "metadata": {},
          "execution_count": 35
        }
      ]
    },
    {
      "cell_type": "code",
      "source": [
        "\n",
        "for i in train_loader:\n",
        "  print(i[0].shape, i[1].shape)\n",
        "  break\n"
      ],
      "metadata": {
        "colab": {
          "base_uri": "https://localhost:8080/"
        },
        "id": "P2FFzbAIXEPU",
        "outputId": "eb754d9b-1a04-4b84-c435-7f859ac0ce41"
      },
      "execution_count": 36,
      "outputs": [
        {
          "output_type": "stream",
          "name": "stdout",
          "text": [
            "torch.Size([32, 1, 28, 28]) torch.Size([32])\n"
          ]
        }
      ]
    },
    {
      "cell_type": "code",
      "source": [
        "# 학습모델 만들고 학습하기\n",
        "# 모델정의 ->학습 ->손실계산 ->오차역전파 및 최적화(적용) ->반복 ->종료\n",
        "import torch\n",
        "import torch.nn as nn\n",
        "from torch.optim.adam import Adam"
      ],
      "metadata": {
        "id": "xZKXn9s5YDmn"
      },
      "execution_count": 37,
      "outputs": []
    },
    {
      "cell_type": "code",
      "source": [
        "28*28"
      ],
      "metadata": {
        "colab": {
          "base_uri": "https://localhost:8080/"
        },
        "id": "WtxCocz_ZGCP",
        "outputId": "bcb13bad-8bae-4b05-e22b-0b168440f3b9"
      },
      "execution_count": 38,
      "outputs": [
        {
          "output_type": "execute_result",
          "data": {
            "text/plain": [
              "784"
            ]
          },
          "metadata": {},
          "execution_count": 38
        }
      ]
    },
    {
      "cell_type": "code",
      "source": [
        "# cpu / gpu를 결정\n",
        "device = \"cuda\" if torch.cuda.is_available() else \"cpu\"\n",
        "model = nn.Sequential(\n",
        "    nn.Linear( 784 , 64 ),\n",
        "    nn.ReLU(),\n",
        "    nn.Linear( 64 , 64 ),\n",
        "    nn.ReLU(),\n",
        "    nn.Linear( 64 , 10 ),\n",
        ")\n",
        "model.to(device)  # 런타임 유형이 gpu이면 gpu이다\n",
        "\n",
        "lr = 1e-3\n",
        "optim = Adam(model.parameters(), lr=lr)\n",
        "\n",
        "# 에포크만큼 학습\n",
        "for epoch in range(20):\n",
        "  # 배치만큼 --> loader\n",
        "  for data,label in train_loader:\n",
        "    optim.zero_grad()\n",
        "    # 입력데이터를 설계대로 변경  입력 : 784\n",
        "    data = torch.reshape(data, (-1,784)).to(device)\n",
        "    # 학습 및 예측\n",
        "    preds = model(data)\n",
        "    # 오차(손실함수)\n",
        "    # 소프트맥스 함수를 포함하고 있다.  그래서 모델 출력에서 따로 적용할 필요가 없다\n",
        "    # 소프트맥스 함수를 직접사용하면 수치적 안정성에 문제가 있고. 그래서 내부적인 처리가 필요\n",
        "    loss = nn.CrossEntropyLoss()(preds, label.to(device)) # 해당 클래스의 __call__ 호출\n",
        "    loss.backward()\n",
        "    optim.step()\n",
        "  print(f\"epoch{epoch} loss:{loss.item()}\")  # item() 실수형태로..\n",
        "\n",
        "# 저장 : 확장자는 pth 가중치 저장\n",
        "torch.save(model.state_dict(),\"MNIST.pth\")"
      ],
      "metadata": {
        "colab": {
          "base_uri": "https://localhost:8080/"
        },
        "id": "laqVUqIqYqCz",
        "outputId": "05bc7852-6bae-4006-9132-472202b0699f"
      },
      "execution_count": null,
      "outputs": [
        {
          "output_type": "stream",
          "name": "stdout",
          "text": [
            "epoch0 loss:0.23266595602035522\n",
            "epoch1 loss:0.049659062176942825\n"
          ]
        }
      ]
    },
    {
      "cell_type": "code",
      "source": [
        "# 평가하기\n",
        "# 저장된 모델의 가중치를 불러오기\n",
        "model.load_state_dict(torch.load('MNIST.pth',map_location=device))"
      ],
      "metadata": {
        "id": "m_yPxrkHdOZs"
      },
      "execution_count": null,
      "outputs": []
    },
    {
      "cell_type": "code",
      "source": [
        "# 분류에 성공한 전체 개수\n",
        "num_corr = 0\n",
        "model.to(device)\n",
        "\n",
        "with torch.no_grad(): # 평가는 기울기를 계산하지 않는다\n",
        "  for data,label in test_loader:\n",
        "    data = torch.reshape(data, (-1,784)).to(device)\n",
        "    output = model(data)\n",
        "    # 모든 텐서의 차원은 배치, 클래스 순서\n",
        "    preds = output.data.max(1)[1]  # max(1) 클래스차원에서 가장 높은 값을 반환\n",
        "    # 올바르게 분류한 개수\n",
        "    corr = preds.eq(label.to(device).data).sum().item()\n",
        "    num_corr += corr\n",
        "  print(f\"Accuracy:{num_corr / len(test_data) }\")"
      ],
      "metadata": {
        "id": "uzy314IeddnE"
      },
      "execution_count": null,
      "outputs": []
    },
    {
      "cell_type": "code",
      "source": [
        "num_corr"
      ],
      "metadata": {
        "id": "Z0DevgMYgKmb"
      },
      "execution_count": null,
      "outputs": []
    },
    {
      "cell_type": "code",
      "source": [],
      "metadata": {
        "id": "Ifhd63qmhOSn"
      },
      "execution_count": null,
      "outputs": []
    }
  ]
}