{
  "nbformat": 4,
  "nbformat_minor": 0,
  "metadata": {
    "colab": {
      "provenance": []
    },
    "kernelspec": {
      "name": "python3",
      "display_name": "Python 3"
    },
    "language_info": {
      "name": "python"
    }
  },
  "cells": [
    {
      "cell_type": "markdown",
      "source": [
        "지리정보 분석후 맵생성\n",
        "  - 위도 경도 정보가 필요\n",
        "    - GPS정보는 지오데이터 네이버지도 api에서 구할수 있음\n",
        "    - 주소정보입력 - gps정보취득\n",
        "    - 시각화 라이브러사용(포리움)"
      ],
      "metadata": {
        "id": "aziNSp85jY5n"
      }
    },
    {
      "cell_type": "code",
      "source": [
        "# 주소데이터"
      ],
      "metadata": {
        "id": "TCuSzfovjcaf"
      },
      "execution_count": 1,
      "outputs": []
    },
    {
      "cell_type": "code",
      "source": [
        "import pandas as pd"
      ],
      "metadata": {
        "id": "EqY7jMv-kNwv"
      },
      "execution_count": 2,
      "outputs": []
    },
    {
      "cell_type": "code",
      "source": [
        "coffe_store = pd.read_csv('./CoffeeBean.csv',encoding='cp949',index_col=0)\n",
        "coffe_store.head()"
      ],
      "metadata": {
        "colab": {
          "base_uri": "https://localhost:8080/",
          "height": 206
        },
        "id": "EUu-PjrUkmq-",
        "outputId": "191c6c5f-b7e9-40ea-8dff-d5e3d4ebe69b"
      },
      "execution_count": 6,
      "outputs": [
        {
          "output_type": "execute_result",
          "data": {
            "text/plain": [
              "     store                     address         phone\n",
              "0  학동역 DT점        서울시 강남구 학동로 211 1층    02-3444-9973\n",
              "1      수서점  서울시 강남구 광평로 280 수서동 724호    02-3412-2326\n",
              "2     차병원점   서울시 강남구 논현로 566 강남차병원1층     02-538-7615\n",
              "3    강남대로점       서울시 서초구 강남대로 369 1층     02-588-5778\n",
              "4    메가박스점  서울 강남구 삼성동 159 코엑스몰 지하2층    02-6002-3320"
            ],
            "text/html": [
              "\n",
              "\n",
              "  <div id=\"df-28987afb-a270-40f3-abb8-ace8ffb7a2ba\">\n",
              "    <div class=\"colab-df-container\">\n",
              "      <div>\n",
              "<style scoped>\n",
              "    .dataframe tbody tr th:only-of-type {\n",
              "        vertical-align: middle;\n",
              "    }\n",
              "\n",
              "    .dataframe tbody tr th {\n",
              "        vertical-align: top;\n",
              "    }\n",
              "\n",
              "    .dataframe thead th {\n",
              "        text-align: right;\n",
              "    }\n",
              "</style>\n",
              "<table border=\"1\" class=\"dataframe\">\n",
              "  <thead>\n",
              "    <tr style=\"text-align: right;\">\n",
              "      <th></th>\n",
              "      <th>store</th>\n",
              "      <th>address</th>\n",
              "      <th>phone</th>\n",
              "    </tr>\n",
              "  </thead>\n",
              "  <tbody>\n",
              "    <tr>\n",
              "      <th>0</th>\n",
              "      <td>학동역 DT점</td>\n",
              "      <td>서울시 강남구 학동로 211 1층</td>\n",
              "      <td>02-3444-9973</td>\n",
              "    </tr>\n",
              "    <tr>\n",
              "      <th>1</th>\n",
              "      <td>수서점</td>\n",
              "      <td>서울시 강남구 광평로 280 수서동 724호</td>\n",
              "      <td>02-3412-2326</td>\n",
              "    </tr>\n",
              "    <tr>\n",
              "      <th>2</th>\n",
              "      <td>차병원점</td>\n",
              "      <td>서울시 강남구 논현로 566 강남차병원1층</td>\n",
              "      <td>02-538-7615</td>\n",
              "    </tr>\n",
              "    <tr>\n",
              "      <th>3</th>\n",
              "      <td>강남대로점</td>\n",
              "      <td>서울시 서초구 강남대로 369 1층</td>\n",
              "      <td>02-588-5778</td>\n",
              "    </tr>\n",
              "    <tr>\n",
              "      <th>4</th>\n",
              "      <td>메가박스점</td>\n",
              "      <td>서울 강남구 삼성동 159 코엑스몰 지하2층</td>\n",
              "      <td>02-6002-3320</td>\n",
              "    </tr>\n",
              "  </tbody>\n",
              "</table>\n",
              "</div>\n",
              "      <button class=\"colab-df-convert\" onclick=\"convertToInteractive('df-28987afb-a270-40f3-abb8-ace8ffb7a2ba')\"\n",
              "              title=\"Convert this dataframe to an interactive table.\"\n",
              "              style=\"display:none;\">\n",
              "\n",
              "  <svg xmlns=\"http://www.w3.org/2000/svg\" height=\"24px\"viewBox=\"0 0 24 24\"\n",
              "       width=\"24px\">\n",
              "    <path d=\"M0 0h24v24H0V0z\" fill=\"none\"/>\n",
              "    <path d=\"M18.56 5.44l.94 2.06.94-2.06 2.06-.94-2.06-.94-.94-2.06-.94 2.06-2.06.94zm-11 1L8.5 8.5l.94-2.06 2.06-.94-2.06-.94L8.5 2.5l-.94 2.06-2.06.94zm10 10l.94 2.06.94-2.06 2.06-.94-2.06-.94-.94-2.06-.94 2.06-2.06.94z\"/><path d=\"M17.41 7.96l-1.37-1.37c-.4-.4-.92-.59-1.43-.59-.52 0-1.04.2-1.43.59L10.3 9.45l-7.72 7.72c-.78.78-.78 2.05 0 2.83L4 21.41c.39.39.9.59 1.41.59.51 0 1.02-.2 1.41-.59l7.78-7.78 2.81-2.81c.8-.78.8-2.07 0-2.86zM5.41 20L4 18.59l7.72-7.72 1.47 1.35L5.41 20z\"/>\n",
              "  </svg>\n",
              "      </button>\n",
              "\n",
              "\n",
              "\n",
              "    <div id=\"df-944d9b42-6e0c-4885-8079-4f811969fd4a\">\n",
              "      <button class=\"colab-df-quickchart\" onclick=\"quickchart('df-944d9b42-6e0c-4885-8079-4f811969fd4a')\"\n",
              "              title=\"Suggest charts.\"\n",
              "              style=\"display:none;\">\n",
              "\n",
              "<svg xmlns=\"http://www.w3.org/2000/svg\" height=\"24px\"viewBox=\"0 0 24 24\"\n",
              "     width=\"24px\">\n",
              "    <g>\n",
              "        <path d=\"M19 3H5c-1.1 0-2 .9-2 2v14c0 1.1.9 2 2 2h14c1.1 0 2-.9 2-2V5c0-1.1-.9-2-2-2zM9 17H7v-7h2v7zm4 0h-2V7h2v10zm4 0h-2v-4h2v4z\"/>\n",
              "    </g>\n",
              "</svg>\n",
              "      </button>\n",
              "    </div>\n",
              "\n",
              "<style>\n",
              "  .colab-df-quickchart {\n",
              "    background-color: #E8F0FE;\n",
              "    border: none;\n",
              "    border-radius: 50%;\n",
              "    cursor: pointer;\n",
              "    display: none;\n",
              "    fill: #1967D2;\n",
              "    height: 32px;\n",
              "    padding: 0 0 0 0;\n",
              "    width: 32px;\n",
              "  }\n",
              "\n",
              "  .colab-df-quickchart:hover {\n",
              "    background-color: #E2EBFA;\n",
              "    box-shadow: 0px 1px 2px rgba(60, 64, 67, 0.3), 0px 1px 3px 1px rgba(60, 64, 67, 0.15);\n",
              "    fill: #174EA6;\n",
              "  }\n",
              "\n",
              "  [theme=dark] .colab-df-quickchart {\n",
              "    background-color: #3B4455;\n",
              "    fill: #D2E3FC;\n",
              "  }\n",
              "\n",
              "  [theme=dark] .colab-df-quickchart:hover {\n",
              "    background-color: #434B5C;\n",
              "    box-shadow: 0px 1px 3px 1px rgba(0, 0, 0, 0.15);\n",
              "    filter: drop-shadow(0px 1px 2px rgba(0, 0, 0, 0.3));\n",
              "    fill: #FFFFFF;\n",
              "  }\n",
              "</style>\n",
              "\n",
              "    <script>\n",
              "      async function quickchart(key) {\n",
              "        const containerElement = document.querySelector('#' + key);\n",
              "        const charts = await google.colab.kernel.invokeFunction(\n",
              "            'suggestCharts', [key], {});\n",
              "      }\n",
              "    </script>\n",
              "\n",
              "      <script>\n",
              "\n",
              "function displayQuickchartButton(domScope) {\n",
              "  let quickchartButtonEl =\n",
              "    domScope.querySelector('#df-944d9b42-6e0c-4885-8079-4f811969fd4a button.colab-df-quickchart');\n",
              "  quickchartButtonEl.style.display =\n",
              "    google.colab.kernel.accessAllowed ? 'block' : 'none';\n",
              "}\n",
              "\n",
              "        displayQuickchartButton(document);\n",
              "      </script>\n",
              "      <style>\n",
              "    .colab-df-container {\n",
              "      display:flex;\n",
              "      flex-wrap:wrap;\n",
              "      gap: 12px;\n",
              "    }\n",
              "\n",
              "    .colab-df-convert {\n",
              "      background-color: #E8F0FE;\n",
              "      border: none;\n",
              "      border-radius: 50%;\n",
              "      cursor: pointer;\n",
              "      display: none;\n",
              "      fill: #1967D2;\n",
              "      height: 32px;\n",
              "      padding: 0 0 0 0;\n",
              "      width: 32px;\n",
              "    }\n",
              "\n",
              "    .colab-df-convert:hover {\n",
              "      background-color: #E2EBFA;\n",
              "      box-shadow: 0px 1px 2px rgba(60, 64, 67, 0.3), 0px 1px 3px 1px rgba(60, 64, 67, 0.15);\n",
              "      fill: #174EA6;\n",
              "    }\n",
              "\n",
              "    [theme=dark] .colab-df-convert {\n",
              "      background-color: #3B4455;\n",
              "      fill: #D2E3FC;\n",
              "    }\n",
              "\n",
              "    [theme=dark] .colab-df-convert:hover {\n",
              "      background-color: #434B5C;\n",
              "      box-shadow: 0px 1px 3px 1px rgba(0, 0, 0, 0.15);\n",
              "      filter: drop-shadow(0px 1px 2px rgba(0, 0, 0, 0.3));\n",
              "      fill: #FFFFFF;\n",
              "    }\n",
              "  </style>\n",
              "\n",
              "      <script>\n",
              "        const buttonEl =\n",
              "          document.querySelector('#df-28987afb-a270-40f3-abb8-ace8ffb7a2ba button.colab-df-convert');\n",
              "        buttonEl.style.display =\n",
              "          google.colab.kernel.accessAllowed ? 'block' : 'none';\n",
              "\n",
              "        async function convertToInteractive(key) {\n",
              "          const element = document.querySelector('#df-28987afb-a270-40f3-abb8-ace8ffb7a2ba');\n",
              "          const dataTable =\n",
              "            await google.colab.kernel.invokeFunction('convertToInteractive',\n",
              "                                                     [key], {});\n",
              "          if (!dataTable) return;\n",
              "\n",
              "          const docLinkHtml = 'Like what you see? Visit the ' +\n",
              "            '<a target=\"_blank\" href=https://colab.research.google.com/notebooks/data_table.ipynb>data table notebook</a>'\n",
              "            + ' to learn more about interactive tables.';\n",
              "          element.innerHTML = '';\n",
              "          dataTable['output_type'] = 'display_data';\n",
              "          await google.colab.output.renderOutput(dataTable, element);\n",
              "          const docLink = document.createElement('div');\n",
              "          docLink.innerHTML = docLinkHtml;\n",
              "          element.appendChild(docLink);\n",
              "        }\n",
              "      </script>\n",
              "    </div>\n",
              "  </div>\n"
            ]
          },
          "metadata": {},
          "execution_count": 6
        }
      ]
    },
    {
      "cell_type": "code",
      "source": [
        "# https://kosis.kr/statHtml/statHtml.do?orgId=101&tblId=DT_1B040A3&vw_cd=MT_ZTITLE&list_id=A_7&scrId=&seqNo=&lang_mode=ko&obj_var_id=&itm_id=&conn_path=MT_ZTITLE&path=%252FstatisticsList%252FstatisticsListIndex.do"
      ],
      "metadata": {
        "id": "WIzSiZTElCoN"
      },
      "execution_count": 7,
      "outputs": []
    },
    {
      "cell_type": "code",
      "source": [
        "addrs = [addr.split() for addr in coffe_store.address]\n",
        "for addr in addrs:\n",
        "  if  '서울' in addr[0]:\n",
        "    addr[0] = '서울특별시'\n",
        "  elif '부산' in addr[0]:\n",
        "    addr[0] = '부산광역시'\n",
        "  elif '인천' in addr[0]:\n",
        "    addr[0] = '인천광역시'\n",
        "  elif '광주' in addr[0]:\n",
        "    addr[0] = '광주광역시'\n",
        "  elif '대전' in addr[0]:\n",
        "    addr[0] = '대전광역시'\n",
        "  elif '울산' in addr[0]:\n",
        "    addr[0] = '울산광역시'\n",
        "  elif '세종' in addr[0]:\n",
        "    addr[0] = '세종특별자치시'\n",
        "  elif '경기' in addr[0]:\n",
        "    addr[0] = '경기도'\n",
        "  elif '충북' in addr[0]:\n",
        "    addr[0] = '충청북도'\n",
        "  elif '충남' in addr[0]:\n",
        "    addr[0] = '충청남도'\n",
        "  elif '전북' in addr[0]:\n",
        "    addr[0] = '전라북도'\n",
        "  elif '전남' in addr[0]:\n",
        "    addr[0] = '전라남도'\n",
        "  elif '경북' in addr[0]:\n",
        "    addr[0] = '경상북도'\n",
        "  elif '경남' in addr[0]:\n",
        "    addr[0] = '경상남도'\n",
        "  elif '제주' in addr[0]:\n",
        "    addr[0] = '제주특별자치도'\n",
        "  elif '대구' in addr[0]:\n",
        "    addr[0] = '대구광역시'"
      ],
      "metadata": {
        "id": "qoNzcC6Wl4Ad"
      },
      "execution_count": 17,
      "outputs": []
    },
    {
      "cell_type": "code",
      "source": [
        "coffe_store['address2'] = [' '.join(add) for add in addrs]\n",
        "coffe_store.head()"
      ],
      "metadata": {
        "colab": {
          "base_uri": "https://localhost:8080/",
          "height": 337
        },
        "id": "lSZ6hV5IrCYj",
        "outputId": "46e7086d-4923-437f-fafe-877445b5457b"
      },
      "execution_count": 23,
      "outputs": [
        {
          "output_type": "execute_result",
          "data": {
            "text/plain": [
              "     store                     address         phone  \\\n",
              "0  학동역 DT점        서울시 강남구 학동로 211 1층    02-3444-9973   \n",
              "1      수서점  서울시 강남구 광평로 280 수서동 724호    02-3412-2326   \n",
              "2     차병원점   서울시 강남구 논현로 566 강남차병원1층     02-538-7615   \n",
              "3    강남대로점       서울시 서초구 강남대로 369 1층     02-588-5778   \n",
              "4    메가박스점  서울 강남구 삼성동 159 코엑스몰 지하2층    02-6002-3320   \n",
              "\n",
              "                      address2  \n",
              "0         서울특별시 강남구 학동로 211 1층  \n",
              "1   서울특별시 강남구 광평로 280 수서동 724호  \n",
              "2    서울특별시 강남구 논현로 566 강남차병원1층  \n",
              "3        서울특별시 서초구 강남대로 369 1층  \n",
              "4  서울특별시 강남구 삼성동 159 코엑스몰 지하2층  "
            ],
            "text/html": [
              "\n",
              "\n",
              "  <div id=\"df-e2cb84b7-9e01-4570-a362-3d00f2fe06a7\">\n",
              "    <div class=\"colab-df-container\">\n",
              "      <div>\n",
              "<style scoped>\n",
              "    .dataframe tbody tr th:only-of-type {\n",
              "        vertical-align: middle;\n",
              "    }\n",
              "\n",
              "    .dataframe tbody tr th {\n",
              "        vertical-align: top;\n",
              "    }\n",
              "\n",
              "    .dataframe thead th {\n",
              "        text-align: right;\n",
              "    }\n",
              "</style>\n",
              "<table border=\"1\" class=\"dataframe\">\n",
              "  <thead>\n",
              "    <tr style=\"text-align: right;\">\n",
              "      <th></th>\n",
              "      <th>store</th>\n",
              "      <th>address</th>\n",
              "      <th>phone</th>\n",
              "      <th>address2</th>\n",
              "    </tr>\n",
              "  </thead>\n",
              "  <tbody>\n",
              "    <tr>\n",
              "      <th>0</th>\n",
              "      <td>학동역 DT점</td>\n",
              "      <td>서울시 강남구 학동로 211 1층</td>\n",
              "      <td>02-3444-9973</td>\n",
              "      <td>서울특별시 강남구 학동로 211 1층</td>\n",
              "    </tr>\n",
              "    <tr>\n",
              "      <th>1</th>\n",
              "      <td>수서점</td>\n",
              "      <td>서울시 강남구 광평로 280 수서동 724호</td>\n",
              "      <td>02-3412-2326</td>\n",
              "      <td>서울특별시 강남구 광평로 280 수서동 724호</td>\n",
              "    </tr>\n",
              "    <tr>\n",
              "      <th>2</th>\n",
              "      <td>차병원점</td>\n",
              "      <td>서울시 강남구 논현로 566 강남차병원1층</td>\n",
              "      <td>02-538-7615</td>\n",
              "      <td>서울특별시 강남구 논현로 566 강남차병원1층</td>\n",
              "    </tr>\n",
              "    <tr>\n",
              "      <th>3</th>\n",
              "      <td>강남대로점</td>\n",
              "      <td>서울시 서초구 강남대로 369 1층</td>\n",
              "      <td>02-588-5778</td>\n",
              "      <td>서울특별시 서초구 강남대로 369 1층</td>\n",
              "    </tr>\n",
              "    <tr>\n",
              "      <th>4</th>\n",
              "      <td>메가박스점</td>\n",
              "      <td>서울 강남구 삼성동 159 코엑스몰 지하2층</td>\n",
              "      <td>02-6002-3320</td>\n",
              "      <td>서울특별시 강남구 삼성동 159 코엑스몰 지하2층</td>\n",
              "    </tr>\n",
              "  </tbody>\n",
              "</table>\n",
              "</div>\n",
              "      <button class=\"colab-df-convert\" onclick=\"convertToInteractive('df-e2cb84b7-9e01-4570-a362-3d00f2fe06a7')\"\n",
              "              title=\"Convert this dataframe to an interactive table.\"\n",
              "              style=\"display:none;\">\n",
              "\n",
              "  <svg xmlns=\"http://www.w3.org/2000/svg\" height=\"24px\"viewBox=\"0 0 24 24\"\n",
              "       width=\"24px\">\n",
              "    <path d=\"M0 0h24v24H0V0z\" fill=\"none\"/>\n",
              "    <path d=\"M18.56 5.44l.94 2.06.94-2.06 2.06-.94-2.06-.94-.94-2.06-.94 2.06-2.06.94zm-11 1L8.5 8.5l.94-2.06 2.06-.94-2.06-.94L8.5 2.5l-.94 2.06-2.06.94zm10 10l.94 2.06.94-2.06 2.06-.94-2.06-.94-.94-2.06-.94 2.06-2.06.94z\"/><path d=\"M17.41 7.96l-1.37-1.37c-.4-.4-.92-.59-1.43-.59-.52 0-1.04.2-1.43.59L10.3 9.45l-7.72 7.72c-.78.78-.78 2.05 0 2.83L4 21.41c.39.39.9.59 1.41.59.51 0 1.02-.2 1.41-.59l7.78-7.78 2.81-2.81c.8-.78.8-2.07 0-2.86zM5.41 20L4 18.59l7.72-7.72 1.47 1.35L5.41 20z\"/>\n",
              "  </svg>\n",
              "      </button>\n",
              "\n",
              "\n",
              "\n",
              "    <div id=\"df-14052f44-1af2-496a-9b06-825a2fafdc21\">\n",
              "      <button class=\"colab-df-quickchart\" onclick=\"quickchart('df-14052f44-1af2-496a-9b06-825a2fafdc21')\"\n",
              "              title=\"Suggest charts.\"\n",
              "              style=\"display:none;\">\n",
              "\n",
              "<svg xmlns=\"http://www.w3.org/2000/svg\" height=\"24px\"viewBox=\"0 0 24 24\"\n",
              "     width=\"24px\">\n",
              "    <g>\n",
              "        <path d=\"M19 3H5c-1.1 0-2 .9-2 2v14c0 1.1.9 2 2 2h14c1.1 0 2-.9 2-2V5c0-1.1-.9-2-2-2zM9 17H7v-7h2v7zm4 0h-2V7h2v10zm4 0h-2v-4h2v4z\"/>\n",
              "    </g>\n",
              "</svg>\n",
              "      </button>\n",
              "    </div>\n",
              "\n",
              "<style>\n",
              "  .colab-df-quickchart {\n",
              "    background-color: #E8F0FE;\n",
              "    border: none;\n",
              "    border-radius: 50%;\n",
              "    cursor: pointer;\n",
              "    display: none;\n",
              "    fill: #1967D2;\n",
              "    height: 32px;\n",
              "    padding: 0 0 0 0;\n",
              "    width: 32px;\n",
              "  }\n",
              "\n",
              "  .colab-df-quickchart:hover {\n",
              "    background-color: #E2EBFA;\n",
              "    box-shadow: 0px 1px 2px rgba(60, 64, 67, 0.3), 0px 1px 3px 1px rgba(60, 64, 67, 0.15);\n",
              "    fill: #174EA6;\n",
              "  }\n",
              "\n",
              "  [theme=dark] .colab-df-quickchart {\n",
              "    background-color: #3B4455;\n",
              "    fill: #D2E3FC;\n",
              "  }\n",
              "\n",
              "  [theme=dark] .colab-df-quickchart:hover {\n",
              "    background-color: #434B5C;\n",
              "    box-shadow: 0px 1px 3px 1px rgba(0, 0, 0, 0.15);\n",
              "    filter: drop-shadow(0px 1px 2px rgba(0, 0, 0, 0.3));\n",
              "    fill: #FFFFFF;\n",
              "  }\n",
              "</style>\n",
              "\n",
              "    <script>\n",
              "      async function quickchart(key) {\n",
              "        const containerElement = document.querySelector('#' + key);\n",
              "        const charts = await google.colab.kernel.invokeFunction(\n",
              "            'suggestCharts', [key], {});\n",
              "      }\n",
              "    </script>\n",
              "\n",
              "      <script>\n",
              "\n",
              "function displayQuickchartButton(domScope) {\n",
              "  let quickchartButtonEl =\n",
              "    domScope.querySelector('#df-14052f44-1af2-496a-9b06-825a2fafdc21 button.colab-df-quickchart');\n",
              "  quickchartButtonEl.style.display =\n",
              "    google.colab.kernel.accessAllowed ? 'block' : 'none';\n",
              "}\n",
              "\n",
              "        displayQuickchartButton(document);\n",
              "      </script>\n",
              "      <style>\n",
              "    .colab-df-container {\n",
              "      display:flex;\n",
              "      flex-wrap:wrap;\n",
              "      gap: 12px;\n",
              "    }\n",
              "\n",
              "    .colab-df-convert {\n",
              "      background-color: #E8F0FE;\n",
              "      border: none;\n",
              "      border-radius: 50%;\n",
              "      cursor: pointer;\n",
              "      display: none;\n",
              "      fill: #1967D2;\n",
              "      height: 32px;\n",
              "      padding: 0 0 0 0;\n",
              "      width: 32px;\n",
              "    }\n",
              "\n",
              "    .colab-df-convert:hover {\n",
              "      background-color: #E2EBFA;\n",
              "      box-shadow: 0px 1px 2px rgba(60, 64, 67, 0.3), 0px 1px 3px 1px rgba(60, 64, 67, 0.15);\n",
              "      fill: #174EA6;\n",
              "    }\n",
              "\n",
              "    [theme=dark] .colab-df-convert {\n",
              "      background-color: #3B4455;\n",
              "      fill: #D2E3FC;\n",
              "    }\n",
              "\n",
              "    [theme=dark] .colab-df-convert:hover {\n",
              "      background-color: #434B5C;\n",
              "      box-shadow: 0px 1px 3px 1px rgba(0, 0, 0, 0.15);\n",
              "      filter: drop-shadow(0px 1px 2px rgba(0, 0, 0, 0.3));\n",
              "      fill: #FFFFFF;\n",
              "    }\n",
              "  </style>\n",
              "\n",
              "      <script>\n",
              "        const buttonEl =\n",
              "          document.querySelector('#df-e2cb84b7-9e01-4570-a362-3d00f2fe06a7 button.colab-df-convert');\n",
              "        buttonEl.style.display =\n",
              "          google.colab.kernel.accessAllowed ? 'block' : 'none';\n",
              "\n",
              "        async function convertToInteractive(key) {\n",
              "          const element = document.querySelector('#df-e2cb84b7-9e01-4570-a362-3d00f2fe06a7');\n",
              "          const dataTable =\n",
              "            await google.colab.kernel.invokeFunction('convertToInteractive',\n",
              "                                                     [key], {});\n",
              "          if (!dataTable) return;\n",
              "\n",
              "          const docLinkHtml = 'Like what you see? Visit the ' +\n",
              "            '<a target=\"_blank\" href=https://colab.research.google.com/notebooks/data_table.ipynb>data table notebook</a>'\n",
              "            + ' to learn more about interactive tables.';\n",
              "          element.innerHTML = '';\n",
              "          dataTable['output_type'] = 'display_data';\n",
              "          await google.colab.output.renderOutput(dataTable, element);\n",
              "          const docLink = document.createElement('div');\n",
              "          docLink.innerHTML = docLinkHtml;\n",
              "          element.appendChild(docLink);\n",
              "        }\n",
              "      </script>\n",
              "    </div>\n",
              "  </div>\n"
            ]
          },
          "metadata": {},
          "execution_count": 23
        }
      ]
    },
    {
      "cell_type": "code",
      "source": [
        "coffe_store.to_csv('new_address.csv',encoding='utf-8')"
      ],
      "metadata": {
        "id": "IWA2dJGnyQfY"
      },
      "execution_count": 30,
      "outputs": []
    },
    {
      "cell_type": "code",
      "source": [
        "!pip install folium"
      ],
      "metadata": {
        "id": "q6deJ-fWttRQ"
      },
      "execution_count": null,
      "outputs": []
    },
    {
      "cell_type": "code",
      "source": [
        "import folium\n",
        "map_osm = folium.Map(location=[37.512472,127.102527],zoom_start=16)\n",
        "map_osm"
      ],
      "metadata": {
        "id": "a4yxwRmOtwDr"
      },
      "execution_count": null,
      "outputs": []
    },
    {
      "cell_type": "code",
      "source": [
        "map_osm.save('temp.html')"
      ],
      "metadata": {
        "id": "ous24fyRw1vI"
      },
      "execution_count": 27,
      "outputs": []
    },
    {
      "cell_type": "code",
      "source": [
        "import requests\n",
        "import numpy as np\n",
        "address = '서울특별시 강남구 삼성동 159'\n",
        "def find_lat_lon(address):\n",
        "  try:\n",
        "    base_url = 'https://nominatim.openstreetmap.org/search'\n",
        "    params = {\n",
        "        \"q\" : address,\n",
        "        'format':\"json\"\n",
        "    }\n",
        "    response = requests.get(base_url,params=params)\n",
        "    data = response.json()\n",
        "    return data[0]['lat'], data[0]['lon']\n",
        "  except Exception:\n",
        "    return np.nan"
      ],
      "metadata": {
        "id": "2ASCQJk0trjA"
      },
      "execution_count": 42,
      "outputs": []
    },
    {
      "cell_type": "code",
      "source": [
        "result = [find_lat_lon(address.split()[:3]) for address in coffe_store['address2'] ]\n",
        "result"
      ],
      "metadata": {
        "id": "n8BuMhLL1KTb"
      },
      "execution_count": null,
      "outputs": []
    },
    {
      "cell_type": "code",
      "source": [
        "coffe_store = pd.concat( [coffe_store,pd.DataFrame(result,columns=['lat','lon'])], axis=1 )\n",
        "coffe_store.head()"
      ],
      "metadata": {
        "id": "ZhHcBHYh4xBW"
      },
      "execution_count": null,
      "outputs": []
    },
    {
      "cell_type": "code",
      "source": [
        "coffe_store[coffe_store.isnull().any(axis=1)]"
      ],
      "metadata": {
        "id": "Bes1WL9Z5RoI"
      },
      "execution_count": null,
      "outputs": []
    },
    {
      "cell_type": "code",
      "source": [
        "coffe_store = coffe_store.dropna()\n",
        "coffe_store.isnull().sum()"
      ],
      "metadata": {
        "id": "865JRFCD53lF"
      },
      "execution_count": null,
      "outputs": []
    },
    {
      "cell_type": "code",
      "source": [
        "# 메인지도\n",
        "map_cb = folium.Map(location=[37.512472,127.102527],zoom_start=15)\n",
        "# 좌표설정\n",
        "for i, data in coffe_store.iterrows():\n",
        "  folium.Marker(location=[data['lat'] ,data['lon'] ],\n",
        "                icon=folium.Icon(color='red',icon='star'),\n",
        "                popup=data['address2'],\n",
        "                ).add_to(map_cb)"
      ],
      "metadata": {
        "id": "gMUyqBDT5_FV"
      },
      "execution_count": 67,
      "outputs": []
    },
    {
      "cell_type": "code",
      "source": [
        "map_cb.save('coffe_store.html')"
      ],
      "metadata": {
        "id": "78ql1ZE97G_c"
      },
      "execution_count": 68,
      "outputs": []
    },
    {
      "cell_type": "code",
      "source": [
        "# 코렙에서는 안되고 로컬pc의 가상환경에서는 실제 물리적인 드라이브에 저장되므로 가능\n",
        "# 코렙은 구글클라우드에서 제공하는 가상환경 이라서 안됨\n",
        "import webbrowser\n",
        "webbrowser.open('./coffe_store.html')"
      ],
      "metadata": {
        "colab": {
          "base_uri": "https://localhost:8080/"
        },
        "id": "8kq2GE2-7n-t",
        "outputId": "77419b42-6321-4790-e1a5-690740400dea"
      },
      "execution_count": 70,
      "outputs": [
        {
          "output_type": "execute_result",
          "data": {
            "text/plain": [
              "False"
            ]
          },
          "metadata": {},
          "execution_count": 70
        }
      ]
    },
    {
      "cell_type": "code",
      "source": [],
      "metadata": {
        "id": "zLYdoPnl7uS1"
      },
      "execution_count": null,
      "outputs": []
    }
  ]
}