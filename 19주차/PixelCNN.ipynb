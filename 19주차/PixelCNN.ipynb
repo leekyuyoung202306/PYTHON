{
  "nbformat": 4,
  "nbformat_minor": 0,
  "metadata": {
    "colab": {
      "provenance": []
    },
    "kernelspec": {
      "name": "python3",
      "display_name": "Python 3"
    },
    "language_info": {
      "name": "python"
    }
  },
  "cells": [
    {
      "cell_type": "code",
      "execution_count": null,
      "metadata": {
        "id": "fD4qfaAelMdx"
      },
      "outputs": [],
      "source": []
    },
    {
      "cell_type": "markdown",
      "source": [
        "- 잠재공간을 이용하는 두가지  생성 모델\n",
        "  - 변이형 오토인코더(VAE)\n",
        "  - 생성적 적대 신경망(GAN)\n",
        "\n",
        "- 자기회귀모델(autoregressive model)\n",
        "  - 잠재 확률변수가 아니라 시퀀스에 있는 이전값을 바탕으로 예측을 만듦\n",
        "  "
      ],
      "metadata": {
        "id": "sHYuB_eFlRmx"
      }
    },
    {
      "cell_type": "code",
      "source": [
        "# 자기회귀모델 LSTM(텍스트 데이터),  PixelCNN(이미지 데이터)"
      ],
      "metadata": {
        "id": "QAEIhj7zlcGJ"
      },
      "execution_count": 1,
      "outputs": []
    },
    {
      "cell_type": "code",
      "source": [
        "# https://drive.google.com/file/d/1CPCu895GkGPrvChspl7iPBkoqpBzKCOO/view?usp=sharing"
      ],
      "metadata": {
        "id": "PQx1dX1Ol-Xq"
      },
      "execution_count": 2,
      "outputs": []
    },
    {
      "cell_type": "code",
      "source": [
        "!unzip '/content/drive/MyDrive/레시피데이터셋/Epicurious - Recipes with Rating and Nutrition.zip'"
      ],
      "metadata": {
        "colab": {
          "base_uri": "https://localhost:8080/"
        },
        "id": "G2-SStV5nf34",
        "outputId": "32826dee-888e-44d0-d7b6-0b2abbe22f76"
      },
      "execution_count": 3,
      "outputs": [
        {
          "output_type": "stream",
          "name": "stdout",
          "text": [
            "Archive:  /content/drive/MyDrive/레시피데이터셋/Epicurious - Recipes with Rating and Nutrition.zip\n",
            "  inflating: epi_r.csv               \n",
            "  inflating: full_format_recipes.json  \n",
            "  inflating: recipe.py               \n",
            "  inflating: utils.py                \n"
          ]
        }
      ]
    },
    {
      "cell_type": "code",
      "source": [
        "import pandas as pd\n",
        "import numpy as np\n",
        "import json"
      ],
      "metadata": {
        "id": "NR_1ghyenpdn"
      },
      "execution_count": 5,
      "outputs": []
    },
    {
      "cell_type": "code",
      "source": [
        "with open('/content/full_format_recipes.json')as json_data:\n",
        "  recipe_data =  json.load(json_data)\n",
        "recipe_data[0].keys()\n"
      ],
      "metadata": {
        "colab": {
          "base_uri": "https://localhost:8080/"
        },
        "id": "IrPzOcEQny0i",
        "outputId": "3b082179-4bac-4671-9e5f-647fcbf8a874"
      },
      "execution_count": 9,
      "outputs": [
        {
          "output_type": "execute_result",
          "data": {
            "text/plain": [
              "dict_keys(['directions', 'fat', 'date', 'categories', 'calories', 'desc', 'protein', 'rating', 'title', 'ingredients', 'sodium'])"
            ]
          },
          "metadata": {},
          "execution_count": 9
        }
      ]
    },
    {
      "cell_type": "code",
      "source": [
        "recipe_data[0]['title'],recipe_data[0]['directions']"
      ],
      "metadata": {
        "colab": {
          "base_uri": "https://localhost:8080/"
        },
        "id": "xuoFjT-toE84",
        "outputId": "0361f2aa-579d-40cf-bed9-52d7d0d1f5c2"
      },
      "execution_count": 14,
      "outputs": [
        {
          "output_type": "execute_result",
          "data": {
            "text/plain": [
              "('Lentil, Apple, and Turkey Wrap ',\n",
              " ['1. Place the stock, lentils, celery, carrot, thyme, and salt in a medium saucepan and bring to a boil. Reduce heat to low and simmer until the lentils are tender, about 30 minutes, depending on the lentils. (If they begin to dry out, add water as needed.) Remove and discard the thyme. Drain and transfer the mixture to a bowl; let cool.',\n",
              "  '2. Fold in the tomato, apple, lemon juice, and olive oil. Season with the pepper.',\n",
              "  '3. To assemble a wrap, place 1 lavash sheet on a clean work surface. Spread some of the lentil mixture on the end nearest you, leaving a 1-inch border. Top with several slices of turkey, then some of the lettuce. Roll up the lavash, slice crosswise, and serve. If using tortillas, spread the lentils in the center, top with the turkey and lettuce, and fold up the bottom, left side, and right side before rolling away from you.'])"
            ]
          },
          "metadata": {},
          "execution_count": 14
        }
      ]
    },
    {
      "cell_type": "code",
      "source": [
        "temp = recipe_data[0]\n",
        "temp['title']+\" : \" + ' '.join(temp['directions'])"
      ],
      "metadata": {
        "colab": {
          "base_uri": "https://localhost:8080/",
          "height": 178
        },
        "id": "OwMyt8xqoxYn",
        "outputId": "ab756660-00cc-4055-d069-e4624ec8efff"
      },
      "execution_count": 15,
      "outputs": [
        {
          "output_type": "execute_result",
          "data": {
            "text/plain": [
              "'Lentil, Apple, and Turkey Wrap  : 1. Place the stock, lentils, celery, carrot, thyme, and salt in a medium saucepan and bring to a boil. Reduce heat to low and simmer until the lentils are tender, about 30 minutes, depending on the lentils. (If they begin to dry out, add water as needed.) Remove and discard the thyme. Drain and transfer the mixture to a bowl; let cool. 2. Fold in the tomato, apple, lemon juice, and olive oil. Season with the pepper. 3. To assemble a wrap, place 1 lavash sheet on a clean work surface. Spread some of the lentil mixture on the end nearest you, leaving a 1-inch border. Top with several slices of turkey, then some of the lettuce. Roll up the lavash, slice crosswise, and serve. If using tortillas, spread the lentils in the center, top with the turkey and lettuce, and fold up the bottom, left side, and right side before rolling away from you.'"
            ],
            "application/vnd.google.colaboratory.intrinsic+json": {
              "type": "string"
            }
          },
          "metadata": {},
          "execution_count": 15
        }
      ]
    },
    {
      "cell_type": "code",
      "source": [
        "filtered_data = []\n",
        "for rd in recipe_data:\n",
        "  if ('title' in rd) and (rd['title'] is not None) and (rd['directions'] is not None):\n",
        "    filtered_data.append( rd['title']+\" : \" + ' '.join(rd['directions']) )"
      ],
      "metadata": {
        "id": "D2pUVUpNpV8g"
      },
      "execution_count": 17,
      "outputs": []
    },
    {
      "cell_type": "code",
      "source": [
        "filtered_data[:3]"
      ],
      "metadata": {
        "colab": {
          "base_uri": "https://localhost:8080/"
        },
        "id": "EaGjfFK_qANG",
        "outputId": "b30c41db-25fd-4c06-c215-b2f8939e5692"
      },
      "execution_count": 19,
      "outputs": [
        {
          "output_type": "execute_result",
          "data": {
            "text/plain": [
              "['Lentil, Apple, and Turkey Wrap  : 1. Place the stock, lentils, celery, carrot, thyme, and salt in a medium saucepan and bring to a boil. Reduce heat to low and simmer until the lentils are tender, about 30 minutes, depending on the lentils. (If they begin to dry out, add water as needed.) Remove and discard the thyme. Drain and transfer the mixture to a bowl; let cool. 2. Fold in the tomato, apple, lemon juice, and olive oil. Season with the pepper. 3. To assemble a wrap, place 1 lavash sheet on a clean work surface. Spread some of the lentil mixture on the end nearest you, leaving a 1-inch border. Top with several slices of turkey, then some of the lettuce. Roll up the lavash, slice crosswise, and serve. If using tortillas, spread the lentils in the center, top with the turkey and lettuce, and fold up the bottom, left side, and right side before rolling away from you.',\n",
              " 'Boudin Blanc Terrine with Red Onion Confit  : Combine first 9 ingredients in heavy medium saucepan. Add 3 shallots. Bring to simmer. Remove from heat, cover and let stand 30 minutes. Chill overnight. Preheat oven to 325°F. Line 7-cup pâté or bread pan with plastic wrap. Melt butter in heavy small skillet over low heat. Add remaining 5 shallots. Cover and cook until very soft, stirring occasionally, about 15 minutes. Transfer to processor. Add pork, eggs, flour and Port and puree. Strain cream mixture, pressing on solids to extract as much liquid as possible. With processor running, add cream through feed tube and process just until combined with pork. Transfer to large bowl. Mix in currants. Spoon mixture into prepared pan. Cover with foil. Place pan in large pan. Add boiling water to larger pan to within 1/2 inch of top of terrine. Bake until terrine begins to shrink from sides of pan and knife inserted into center comes out clean, about 1 1/2 hours. Uncover and cool on rack. Chill until cold. (Can be made 3 days ahead. Cover and chill.) Line platter with lettuce. Arrange terrine atop. Sprinkle with pepper and parsley. Garnish with bay leaves. Spoon confit around sides. Serve with bread. Heat oil in heavy large skillet over medium-high heat. Add onions and sauté until crisp-tender, about 8 minutes. Add all remaining ingredients and stir until reduced to thick glaze, about 4 minutes. Season with salt and pepper. (Can be prepared 2 days ahead. Cover and chill.) Serve warm or at room temperature.',\n",
              " 'Potato and Fennel Soup Hodge  : In a large heavy saucepan cook diced fennel and onion in butter over moderate heat, stirring, until softened, about 10 minutes. Peel and cube potatoes. Add potatoes and broth to fennel mixture and simmer, covered, until potatoes are very tender, about 20 minutes. In a blender or food processor purée mixture in batches until smooth and return to saucepan. Stir in milk and salt and pepper to taste and simmer soup, stirring occasionally, 10 minutes, or until heated through. Garnish soup with reserved fennel leaves.']"
            ]
          },
          "metadata": {},
          "execution_count": 19
        }
      ]
    },
    {
      "cell_type": "markdown",
      "source": [
        "- 텍스트를 토큰화\n",
        "  - 단어나 문자로 나누는 작업\n",
        "- 단어 토큰\n",
        "  - 모든 텍스트를 소문자로 변환\n",
        "  - 어휘사전(vocabulary)이 매우 클 수도 있음\n",
        "  - 어간(stem) : 현재 과거, 진행\n",
        "  - 마침표와 쉼표를 제거\n",
        "  - 훈련어휘에 없는 단어는 예측 불가\n",
        "- 문자 토큰\n",
        "  - 시퀀스를 생성해서 훈련 어휘에 없는 새로운 단어를 생성가능\n",
        "  - 어휘사전이 매우 작아진다 그래서 마지막 출력층에 학습할 가중치가 적기때문에 훈련속도에 유리"
      ],
      "metadata": {
        "id": "6LalcTvVqiv6"
      }
    },
    {
      "cell_type": "code",
      "source": [
        "# 텍스트 전처리\n",
        "import string\n",
        "import re\n",
        "def pad_punctuation(s):\n",
        "  s = re.sub(f\"([{string.punctuation}])\", r' \\1', s)\n",
        "  s = re.sub(' +',' ',s)\n",
        "  return s\n",
        "pad_punctuation(\"!!!abc#$\")"
      ],
      "metadata": {
        "colab": {
          "base_uri": "https://localhost:8080/",
          "height": 35
        },
        "id": "SjCQ_senqSKf",
        "outputId": "73e16ba7-7bfd-4f83-ab62-97adf315a360"
      },
      "execution_count": 24,
      "outputs": [
        {
          "output_type": "execute_result",
          "data": {
            "text/plain": [
              "' ! ! !abc # $'"
            ],
            "application/vnd.google.colaboratory.intrinsic+json": {
              "type": "string"
            }
          },
          "metadata": {},
          "execution_count": 24
        }
      ]
    },
    {
      "cell_type": "code",
      "source": [
        "import string\n",
        "string.punctuation"
      ],
      "metadata": {
        "colab": {
          "base_uri": "https://localhost:8080/",
          "height": 35
        },
        "id": "9jpIPh0csBUI",
        "outputId": "7fc92ce4-2eaf-419f-ef7c-f167140e6d59"
      },
      "execution_count": 21,
      "outputs": [
        {
          "output_type": "execute_result",
          "data": {
            "text/plain": [
              "'!\"#$%&\\'()*+,-./:;<=>?@[\\\\]^_`{|}~'"
            ],
            "application/vnd.google.colaboratory.intrinsic+json": {
              "type": "string"
            }
          },
          "metadata": {},
          "execution_count": 21
        }
      ]
    },
    {
      "cell_type": "code",
      "source": [
        "text_data = [pad_punctuation(x) for x in filtered_data]\n",
        "text_data[:5]"
      ],
      "metadata": {
        "id": "WWeRAC3qsCKv"
      },
      "execution_count": null,
      "outputs": []
    },
    {
      "cell_type": "code",
      "source": [
        "# 텐서플로의 데이터셋으로 변환\n",
        "import tensorflow as  tf"
      ],
      "metadata": {
        "id": "ukStAyg4s4cX"
      },
      "execution_count": 26,
      "outputs": []
    },
    {
      "cell_type": "code",
      "source": [
        "text_ds = tf.data.Dataset.from_tensor_slices(text_data).batch(32).shuffle(1000)"
      ],
      "metadata": {
        "id": "qYszswe0tL6v"
      },
      "execution_count": 28,
      "outputs": []
    },
    {
      "cell_type": "code",
      "source": [
        "import tensorflow.keras.layers as layers"
      ],
      "metadata": {
        "id": "Z-2LHrd8tf-_"
      },
      "execution_count": 29,
      "outputs": []
    },
    {
      "cell_type": "code",
      "source": [
        "vectorize_layer =  layers.TextVectorization(\n",
        "    standardize= 'lower',  # 소문자로 변경\n",
        "    max_tokens = 10000, # 자주 등장하는 1000개의 단어에 정수를 부여\n",
        "    output_mode = 'int',\n",
        "    output_sequence_length = 200+1  # 시퀀스의 길이가 201개의 토큰으로 자르거나 패팅\n",
        ")"
      ],
      "metadata": {
        "id": "zLt_z-NittWO"
      },
      "execution_count": 30,
      "outputs": []
    },
    {
      "cell_type": "code",
      "source": [],
      "metadata": {
        "id": "Ws2R6IpiuPy3"
      },
      "execution_count": null,
      "outputs": []
    }
  ]
}