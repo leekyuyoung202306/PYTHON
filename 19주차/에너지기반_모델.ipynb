{
  "nbformat": 4,
  "nbformat_minor": 0,
  "metadata": {
    "colab": {
      "provenance": []
    },
    "kernelspec": {
      "name": "python3",
      "display_name": "Python 3"
    },
    "language_info": {
      "name": "python"
    }
  },
  "cells": [
    {
      "cell_type": "markdown",
      "source": [
        "EBM(Energy Based Model)"
      ],
      "metadata": {
        "id": "Nky9jOCWeNOC"
      }
    },
    {
      "cell_type": "code",
      "source": [
        "# 볼츠만분포 를 사용해서 실제 데이터의 생성분포를 모델링\n",
        "# E(x) 샘플 x의 에너지 함수(점수)\n",
        "# 훈련을 통해 가능성이 높은 샘플에는 낮은 점수를 출력 p(x)는 1에 가까워진다\n",
        "# 낮은  셈플에는 높은점수를 출력 p(x)는 0에 가까워진다"
      ],
      "metadata": {
        "id": "AblVfgZPeSXE"
      },
      "execution_count": 1,
      "outputs": []
    },
    {
      "cell_type": "markdown",
      "source": [
        "![image.png](data:image/png;base64,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)"
      ],
      "metadata": {
        "id": "GXEjgdhUeqb1"
      }
    },
    {
      "cell_type": "code",
      "source": [
        "# 문제점을 개선 : 2019년도 논문 Implicit Generatioin and Modeling with Energy-Based Models 아이디어를 채용"
      ],
      "metadata": {
        "id": "udNrXVkBepxr"
      },
      "execution_count": 2,
      "outputs": []
    },
    {
      "cell_type": "code",
      "source": [
        "# 데이터 셋  MNIST 데이터셋\n",
        "from tensorflow.keras import datasets\n",
        "(x_train,y_train), (x_test,y_test) = datasets.mnist.load_data()\n"
      ],
      "metadata": {
        "id": "dAE3q9h3fhc3"
      },
      "execution_count": 10,
      "outputs": []
    },
    {
      "cell_type": "code",
      "source": [
        "x_train.shape"
      ],
      "metadata": {
        "colab": {
          "base_uri": "https://localhost:8080/"
        },
        "id": "c_0MBhDMf-yy",
        "outputId": "f31bd989-0e58-49a7-ad63-5f09db5ef067"
      },
      "execution_count": 11,
      "outputs": [
        {
          "output_type": "execute_result",
          "data": {
            "text/plain": [
              "(60000, 28, 28)"
            ]
          },
          "metadata": {},
          "execution_count": 11
        }
      ]
    },
    {
      "cell_type": "code",
      "source": [
        "# 효율적이 학습을 위해서 픽셀값을 [-1,1] 조정하고 32X32픽셀로 패딩 추가\n",
        "# 데이터 정규화 : 보통 이미지데이터는 0~1사이의 값으로 표현, -1 ~ 1로 조정을 하면 중앙 0 주변에 데이터가 분포해서\n",
        "# 신경망이 더 빠르게 학습하고 안정적으로...\n",
        "# 32 32 패딩추가 : 원래는 28 28 -> 32 32 입력크기를 조정(패딩을 추가) --> 모델이 미묘한 특징을 감지하는데 도움"
      ],
      "metadata": {
        "id": "WpAHnb-LgCMK"
      },
      "execution_count": 12,
      "outputs": []
    },
    {
      "cell_type": "code",
      "source": [
        "# 전처리\n",
        "import numpy as np\n",
        "def preprocess(imgs):\n",
        "  imgs = (imgs.astype('float32') - 127.5) / 127.5\n",
        "  imgs = np.pad(imgs, ( (0,0), (2,2),(2,2)), constant_values = -1.0)\n",
        "  imgs = np.expand_dims(imgs,-1)\n",
        "  return imgs\n",
        "\n",
        "x_train = preprocess(x_train)\n",
        "x_test = preprocess(x_test)\n",
        "x_train.shape"
      ],
      "metadata": {
        "colab": {
          "base_uri": "https://localhost:8080/"
        },
        "id": "MrUwy9Deg--O",
        "outputId": "126665e5-357f-4772-eb23-3faaf2d8aaa1"
      },
      "execution_count": 13,
      "outputs": [
        {
          "output_type": "execute_result",
          "data": {
            "text/plain": [
              "(60000, 32, 32, 1)"
            ]
          },
          "metadata": {},
          "execution_count": 13
        }
      ]
    },
    {
      "cell_type": "code",
      "source": [
        "import tensorflow as tf\n",
        "x_train = tf.data.Dataset.from_tensor_slices(x_train).batch(128)\n",
        "x_test = tf.data.Dataset.from_tensor_slices(x_test).batch(128)"
      ],
      "metadata": {
        "id": "LttCgg-eh5Cb"
      },
      "execution_count": 14,
      "outputs": []
    },
    {
      "cell_type": "code",
      "source": [
        "next(iter(x_train)).shape, next(iter(x_test)).shape"
      ],
      "metadata": {
        "colab": {
          "base_uri": "https://localhost:8080/"
        },
        "id": "ePEuVjQyiXcz",
        "outputId": "dfd74bb3-d8f5-4962-cc62-07ef59ae8023"
      },
      "execution_count": 18,
      "outputs": [
        {
          "output_type": "execute_result",
          "data": {
            "text/plain": [
              "(TensorShape([128, 32, 32, 1]), TensorShape([128, 32, 32, 1]))"
            ]
          },
          "metadata": {},
          "execution_count": 18
        }
      ]
    },
    {
      "cell_type": "code",
      "source": [
        "# 에너지함수 : 파라미터가 쎄타이고 입력이미지 x를 하나의 스칼라값으로 변환하는 신경망\n",
        "# 이걸 위해서 활성화함수로 swixh(스위시)사용"
      ],
      "metadata": {
        "id": "pUOxNb6rilzp"
      },
      "execution_count": null,
      "outputs": []
    },
    {
      "cell_type": "markdown",
      "source": [
        "![image.png](data:image/png;base64,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)"
      ],
      "metadata": {
        "id": "iPwmFdBqi_AT"
      }
    },
    {
      "cell_type": "code",
      "source": [
        "# 스위시 함수는 Relu대안 2017년도 구글에서 소개"
      ],
      "metadata": {
        "id": "dM67wcy9jDY5"
      },
      "execution_count": null,
      "outputs": []
    },
    {
      "cell_type": "markdown",
      "source": [
        "![image.png](data:image/png;base64,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)"
      ],
      "metadata": {
        "id": "PZvUyrGOjcvL"
      }
    },
    {
      "cell_type": "code",
      "source": [
        "from tensorflow.keras import(\n",
        "    layers,models,optimizers,activations,metrics,callbacks\n",
        ")"
      ],
      "metadata": {
        "id": "TLKWmcQBje77"
      },
      "execution_count": 19,
      "outputs": []
    },
    {
      "cell_type": "code",
      "source": [
        "ebm_input = layers.Input(shape=(32,32,1))\n",
        "x = layers.Conv2D(16,kernel_size = 5,strides=2,padding='same',activation = activations.swish)(ebm_input)\n",
        "x = layers.Conv2D(32,kernel_size = 3,strides=2,padding='same',activation = activations.swish)(x)\n",
        "x = layers.Conv2D(64,kernel_size = 3,strides=2,padding='same',activation = activations.swish)(x)\n",
        "x = layers.Conv2D(64,kernel_size = 3,strides=2,padding='same',activation = activations.swish)(x)\n",
        "x = layers.Flatten()(x)\n",
        "x = layers.Dense(64,activation =activations.swish)(x)\n",
        "ebm_output = layers.Dense(1)(x)\n",
        "model = models.Model(ebm_input,ebm_output)\n",
        "model.summary()"
      ],
      "metadata": {
        "colab": {
          "base_uri": "https://localhost:8080/"
        },
        "id": "RyxHPPOGj4hh",
        "outputId": "56030b4a-55d6-4c42-c0d8-dd289a5f4693"
      },
      "execution_count": 21,
      "outputs": [
        {
          "output_type": "stream",
          "name": "stdout",
          "text": [
            "Model: \"model_1\"\n",
            "_________________________________________________________________\n",
            " Layer (type)                Output Shape              Param #   \n",
            "=================================================================\n",
            " input_2 (InputLayer)        [(None, 32, 32, 1)]       0         \n",
            "                                                                 \n",
            " conv2d_4 (Conv2D)           (None, 16, 16, 16)        416       \n",
            "                                                                 \n",
            " conv2d_5 (Conv2D)           (None, 8, 8, 32)          4640      \n",
            "                                                                 \n",
            " conv2d_6 (Conv2D)           (None, 4, 4, 64)          18496     \n",
            "                                                                 \n",
            " conv2d_7 (Conv2D)           (None, 2, 2, 64)          36928     \n",
            "                                                                 \n",
            " flatten_1 (Flatten)         (None, 256)               0         \n",
            "                                                                 \n",
            " dense_2 (Dense)             (None, 64)                16448     \n",
            "                                                                 \n",
            " dense_3 (Dense)             (None, 1)                 65        \n",
            "                                                                 \n",
            "=================================================================\n",
            "Total params: 76993 (300.75 KB)\n",
            "Trainable params: 76993 (300.75 KB)\n",
            "Non-trainable params: 0 (0.00 Byte)\n",
            "_________________________________________________________________\n"
          ]
        }
      ]
    },
    {
      "cell_type": "code",
      "source": [
        "# 에너지 함수 : 입력에 대해서 하나의 점수만 출력, 에너지 점수가 낮은 새로운 샘플을 생성?\n",
        "# 에너지 함수 기울기를 계산--> Langevin dynamics  랑주뱅 다이나믹기법을 이용해서 그레이디언트 계산\n",
        "# 경사하강법과 차이가 있다\n",
        "# 신경망의 가중치를 고정한상태에서 입력대비 출력에 대한 기울기(미분)를 계산 -> 음의방향으로 조금씩 업데이트"
      ],
      "metadata": {
        "id": "x6Nz3EUhk_UO"
      },
      "execution_count": null,
      "outputs": []
    },
    {
      "cell_type": "markdown",
      "source": [
        "![image.png](data:image/png;base64,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)"
      ],
      "metadata": {
        "id": "-enKYRRVmONU"
      }
    },
    {
      "cell_type": "code",
      "source": [
        "# Langevin dynamics를 사용해서 셈플을 생성하는 함수 - 무작위 노이즈와 그레이디언트를 활용"
      ],
      "metadata": {
        "id": "oIyzpd9mmQHl"
      },
      "execution_count": null,
      "outputs": []
    }
  ]
}