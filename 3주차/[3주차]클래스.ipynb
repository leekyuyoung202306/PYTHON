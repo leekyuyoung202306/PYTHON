{
  "nbformat": 4,
  "nbformat_minor": 0,
  "metadata": {
    "colab": {
      "provenance": []
    },
    "kernelspec": {
      "name": "python3",
      "display_name": "Python 3"
    },
    "language_info": {
      "name": "python"
    }
  },
  "cells": [
    {
      "cell_type": "markdown",
      "source": [
        "클래스 : naming rule  첫글자는 대문자\n",
        "  - 맴버\n",
        "    - 속성(변수)\n",
        "    - 메소드(함수)"
      ],
      "metadata": {
        "id": "1L-5CJcYp_W4"
      }
    },
    {
      "cell_type": "code",
      "execution_count": 1,
      "metadata": {
        "id": "JE46Z3N_p2fY"
      },
      "outputs": [],
      "source": [
        "class Abc:\n",
        "  abc = 100"
      ]
    },
    {
      "cell_type": "code",
      "source": [
        "a = Abc()\n",
        "a.abc = 100"
      ],
      "metadata": {
        "id": "bGfUVwg5r2Up"
      },
      "execution_count": 3,
      "outputs": []
    },
    {
      "cell_type": "code",
      "source": [
        "print(a.abc)"
      ],
      "metadata": {
        "colab": {
          "base_uri": "https://localhost:8080/"
        },
        "id": "ZiI_hBX6r-y6",
        "outputId": "5cf83408-6214-4438-974c-f0bb2800228a"
      },
      "execution_count": 4,
      "outputs": [
        {
          "output_type": "stream",
          "name": "stdout",
          "text": [
            "100\n"
          ]
        }
      ]
    },
    {
      "cell_type": "code",
      "source": [
        "b = Abc()\n",
        "b.abc = 200"
      ],
      "metadata": {
        "id": "HbeZGJeyr_1H"
      },
      "execution_count": 5,
      "outputs": []
    },
    {
      "cell_type": "code",
      "source": [
        "# 4칙연산을 가능하게 하는 함수\n",
        "number1, number2 = 20, 10"
      ],
      "metadata": {
        "id": "ByUOF-IAsHD3"
      },
      "execution_count": 6,
      "outputs": []
    },
    {
      "cell_type": "code",
      "source": [
        "def add(x,y):\n",
        "  return x + y\n",
        "def minus(x,y):\n",
        "  return x - y\n",
        "def multi(x,y):\n",
        "  return x * y\n",
        "def divid(x,y):\n",
        "  return x / y"
      ],
      "metadata": {
        "id": "mCjOPFZeslMo"
      },
      "execution_count": 7,
      "outputs": []
    },
    {
      "cell_type": "code",
      "source": [
        "def calc(func, x, y):\n",
        "  return func(x,y)"
      ],
      "metadata": {
        "id": "ligLCTjftm0Q"
      },
      "execution_count": 8,
      "outputs": []
    },
    {
      "cell_type": "code",
      "source": [
        "calc(lambda x,y: x * y, 10,20)"
      ],
      "metadata": {
        "colab": {
          "base_uri": "https://localhost:8080/"
        },
        "id": "ebfyUSKQtwte",
        "outputId": "fa142b8c-b3a4-4c22-a62b-79dbccd56d90"
      },
      "execution_count": 12,
      "outputs": [
        {
          "output_type": "execute_result",
          "data": {
            "text/plain": [
              "200"
            ]
          },
          "metadata": {},
          "execution_count": 12
        }
      ]
    },
    {
      "cell_type": "code",
      "source": [
        "class Calc:\n",
        "  def __init__(self):\n",
        "    self.result = 0\n",
        "  def add(self,x,y):\n",
        "    self.result =  x + y\n",
        "  def minus(self,x,y):\n",
        "   self.result =  x - y\n",
        "  def multi(self,x,y):\n",
        "   self.result =  x * y\n",
        "  def divid(self,x,y):\n",
        "   self.result =  x / y"
      ],
      "metadata": {
        "id": "kzT23D-jt0oP"
      },
      "execution_count": 43,
      "outputs": []
    },
    {
      "cell_type": "code",
      "source": [
        "c1 = Calc()\n",
        "c2 = Calc()\n",
        "c3 = Calc()\n",
        "c4 = Calc()\n"
      ],
      "metadata": {
        "id": "HZp_csGtuHUf"
      },
      "execution_count": 46,
      "outputs": []
    },
    {
      "cell_type": "code",
      "source": [
        "c1.result =10\n",
        "c2.result = c1.result\n",
        "c1 == c2"
      ],
      "metadata": {
        "colab": {
          "base_uri": "https://localhost:8080/"
        },
        "id": "257qoeeZuvpA",
        "outputId": "d4673f8e-b035-4ae5-a44f-dc2e537651ef"
      },
      "execution_count": 49,
      "outputs": [
        {
          "output_type": "execute_result",
          "data": {
            "text/plain": [
              "False"
            ]
          },
          "metadata": {},
          "execution_count": 49
        }
      ]
    },
    {
      "cell_type": "markdown",
      "source": [
        "클래스\n",
        "  - 변수와 함수(메소드)를 하나의 로직으로 묶는작업\n",
        "  - 클래스의 변수는 객체\n",
        "  - 객체명 = 클래스이름()  c = Calc()\n",
        "  - 클래스의 객체는 서로 독립적이다\n",
        "  - 클래스의 모든 요소는 self를 포함하고있고 self로 움직인다.\n",
        "  - 클래스의 메소드의 파라메터는 반드시 가장먼저 self가 와야되고\n",
        "  - 이는 클래스를 구성하는 역활 실제 사용할때는 전달되지 않는다\n",
        "  - def add(self, x,y) --> 사용할때는 x, y만 사용\n",
        "  - 클래스의 내장변수는 __init__(self) 함수안에서 self.변수 = 값"
      ],
      "metadata": {
        "id": "_zpPbcgqxd3v"
      }
    },
    {
      "cell_type": "code",
      "source": [
        "class Calc:\n",
        "  # 생성자  Constructor\n",
        "  def __init__(self,result, sum):  # 아주 특수한 상황에서 자동으로 호출되는 메소드\n",
        "    print('init---')\n",
        "    self.result = result\n",
        "    self.sum = sum\n",
        "  def add(self,x,y):\n",
        "    print('add-----')\n",
        "    self.result = x+y"
      ],
      "metadata": {
        "id": "9MC9my84wrD2"
      },
      "execution_count": 79,
      "outputs": []
    },
    {
      "cell_type": "code",
      "source": [
        "a = Calc(10,10)\n",
        "print(a.result, a.sum)"
      ],
      "metadata": {
        "colab": {
          "base_uri": "https://localhost:8080/"
        },
        "id": "KjX38nO-ykKW",
        "outputId": "fbf0c6d0-735a-4e33-e3a3-2ca645e725ce"
      },
      "execution_count": 81,
      "outputs": [
        {
          "output_type": "stream",
          "name": "stdout",
          "text": [
            "init---\n",
            "10 10\n"
          ]
        }
      ]
    },
    {
      "cell_type": "code",
      "source": [
        "class Calc:\n",
        "  def __init__(self,x=0,y=0) -> None:\n",
        "    self.x = x\n",
        "    self.y = y\n",
        "  def add(self):\n",
        "    return self.x + self.y"
      ],
      "metadata": {
        "id": "ex1qgDxjzeom"
      },
      "execution_count": 85,
      "outputs": []
    },
    {
      "cell_type": "code",
      "source": [
        "a = Calc(10,20)\n",
        "a.add()"
      ],
      "metadata": {
        "colab": {
          "base_uri": "https://localhost:8080/"
        },
        "id": "5TRJtWdH6MQz",
        "outputId": "93831c88-5cbf-4821-90d3-cffdbf323c56"
      },
      "execution_count": 88,
      "outputs": [
        {
          "output_type": "execute_result",
          "data": {
            "text/plain": [
              "30"
            ]
          },
          "metadata": {},
          "execution_count": 88
        }
      ]
    },
    {
      "cell_type": "code",
      "source": [
        "a = Calc()\n",
        "a.add()"
      ],
      "metadata": {
        "colab": {
          "base_uri": "https://localhost:8080/"
        },
        "id": "65G8uhUL6QLb",
        "outputId": "c97915c6-3431-4015-f12d-f5b6b34b84bf"
      },
      "execution_count": 90,
      "outputs": [
        {
          "output_type": "execute_result",
          "data": {
            "text/plain": [
              "0"
            ]
          },
          "metadata": {},
          "execution_count": 90
        }
      ]
    },
    {
      "cell_type": "markdown",
      "source": [
        "![image.png](data:image/png;base64,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)"
      ],
      "metadata": {
        "id": "ddVFmfTs60Wx"
      }
    },
    {
      "cell_type": "code",
      "source": [
        "Calc.add(a)  # 거의 사용 안함  - method - static하게 생성되면 클래스명.메소드"
      ],
      "metadata": {
        "colab": {
          "base_uri": "https://localhost:8080/"
        },
        "id": "on28555A6bd0",
        "outputId": "0716f966-b6a7-4aac-d361-c2dc9f33e634"
      },
      "execution_count": 91,
      "outputs": [
        {
          "output_type": "execute_result",
          "data": {
            "text/plain": [
              "0"
            ]
          },
          "metadata": {},
          "execution_count": 91
        }
      ]
    },
    {
      "cell_type": "code",
      "source": [
        "# 사각형 클래스 Rectangle\n",
        "# 속성 : 가로(width) 세로(height)\n",
        "# 메소드 이름: area  넓이\n",
        "#     기능 : 가로 * 세로\n",
        "# 메소드 이름: permiter  둘레\n",
        "#     기능 : 2 x (가로 + 세로)"
      ],
      "metadata": {
        "id": "3RxYMGH47a17"
      },
      "execution_count": 93,
      "outputs": []
    },
    {
      "cell_type": "code",
      "source": [
        "class Rectangle:\n",
        "  def __init__(self,width,height):\n",
        "    self.width = width\n",
        "    self.height = height\n",
        "  def area(self):\n",
        "    return self.width * self.height\n",
        "  def permiter(self):\n",
        "    return 2*(self.width + self.height)"
      ],
      "metadata": {
        "id": "8lXqkKVr8WAl"
      },
      "execution_count": 94,
      "outputs": []
    },
    {
      "cell_type": "code",
      "source": [
        "r = Rectangle(10,5)\n",
        "r.area(), r.permiter()"
      ],
      "metadata": {
        "colab": {
          "base_uri": "https://localhost:8080/"
        },
        "id": "izZCk0VE9rtL",
        "outputId": "06d07f17-1faf-47ac-cd9f-ba3b6cfd2570"
      },
      "execution_count": 96,
      "outputs": [
        {
          "output_type": "execute_result",
          "data": {
            "text/plain": [
              "(50, 30)"
            ]
          },
          "metadata": {},
          "execution_count": 96
        }
      ]
    },
    {
      "cell_type": "code",
      "source": [
        "# 원  Circle\n",
        "# 반지름 radius\n",
        "# area  3.14*radius**2\n",
        "# circumference  2**3.14*radius"
      ],
      "metadata": {
        "id": "8Uiq9S7a93Er"
      },
      "execution_count": 97,
      "outputs": []
    },
    {
      "cell_type": "code",
      "source": [
        "class Circle:\n",
        "  def __init__(self,radius):\n",
        "    self.radius = radius\n",
        "  def area(self):\n",
        "    return 3.14*self.radius**2\n",
        "  def circumference(self):\n",
        "    return 2*3.14*self.radius"
      ],
      "metadata": {
        "id": "HhEirHkS-PRy"
      },
      "execution_count": 98,
      "outputs": []
    },
    {
      "cell_type": "code",
      "source": [
        "c = Circle(12.3)\n",
        "c.area(),   c.circumference()"
      ],
      "metadata": {
        "colab": {
          "base_uri": "https://localhost:8080/"
        },
        "id": "iNNBaUom_c66",
        "outputId": "5ae201bf-7271-459e-ef3b-974a392d0bde"
      },
      "execution_count": 99,
      "outputs": [
        {
          "output_type": "execute_result",
          "data": {
            "text/plain": [
              "(475.0506000000001, 77.24400000000001)"
            ]
          },
          "metadata": {},
          "execution_count": 99
        }
      ]
    },
    {
      "cell_type": "code",
      "source": [
        "# 학생 : Student\n",
        "# 이름 name, 나이 age ,학년 grade\n",
        "# display_info  : 이름:000, 나이:00, 학년:0"
      ],
      "metadata": {
        "id": "QvQarFOR_juq"
      },
      "execution_count": 100,
      "outputs": []
    },
    {
      "cell_type": "code",
      "source": [
        "class Student:\n",
        "  def __init__(self,name,age,grade):\n",
        "    self.name = name\n",
        "    self.age = age\n",
        "    self.grade = grade\n",
        "  def disdplay_info(self):\n",
        "    print(f\"이름:{self.name}, 나이:{self.age}, 학년:{self.grade}\")"
      ],
      "metadata": {
        "id": "cHAT-TCl_4DJ"
      },
      "execution_count": 101,
      "outputs": []
    },
    {
      "cell_type": "code",
      "source": [
        "s = Student(\"홍길동\",25,4)\n",
        "s.disdplay_info()"
      ],
      "metadata": {
        "colab": {
          "base_uri": "https://localhost:8080/"
        },
        "id": "tINHk-LbA45h",
        "outputId": "02a6c117-4d0d-4baa-e61f-d1d818f8a018"
      },
      "execution_count": 102,
      "outputs": [
        {
          "output_type": "stream",
          "name": "stdout",
          "text": [
            "이름:홍길동, 나이:25, 학년:4\n"
          ]
        }
      ]
    },
    {
      "cell_type": "code",
      "source": [
        "# 자동차 Car\n",
        "# brand, model, color\n",
        "# start : \"engine started\"\n",
        "# stop : \"engine stopped\"\n",
        "# display_info : 속성값들을 출력"
      ],
      "metadata": {
        "id": "nHLg0YQhA__i"
      },
      "execution_count": 103,
      "outputs": []
    },
    {
      "cell_type": "code",
      "source": [
        "class Car:\n",
        "  def __init__(self,brand,model,color):\n",
        "    self.brand = brand\n",
        "    self.model =model\n",
        "    self.color=color\n",
        "  def start(self):\n",
        "    print(\"engine started\")\n",
        "  def stop(self):\n",
        "    print(\"engine stoped\")\n",
        "  def display_info(self):\n",
        "    print(f\"브랜드:{self.brand}, 모델:{self.model}, 색상:{self.color}\")"
      ],
      "metadata": {
        "id": "mwQJZlWWBYyU"
      },
      "execution_count": 104,
      "outputs": []
    },
    {
      "cell_type": "code",
      "source": [
        "c = Car('현대','소나타','검정')\n",
        "c.display_info()"
      ],
      "metadata": {
        "colab": {
          "base_uri": "https://localhost:8080/"
        },
        "id": "_5c8PYEeCksJ",
        "outputId": "208da161-50ac-449d-dff5-1142403f55ad"
      },
      "execution_count": 105,
      "outputs": [
        {
          "output_type": "stream",
          "name": "stdout",
          "text": [
            "브랜드:현대, 모델:소나타, 색상:검정\n"
          ]
        }
      ]
    },
    {
      "cell_type": "code",
      "source": [
        "# 책 클래스  Book\n",
        "# title, author, publication_year\n",
        "# display_info\n",
        "class Book:\n",
        "  def __init__(self,title,author,publication_year):\n",
        "    self.title = title\n",
        "    self.author = author\n",
        "    self.publication_year = publication_year\n",
        "  def __str__(self):\n",
        "    return f'제목:{self.title}, 저자:{self.author}, 출판년도:{self.publication_year}'"
      ],
      "metadata": {
        "id": "JWjCVikXCpnx"
      },
      "execution_count": 112,
      "outputs": []
    },
    {
      "cell_type": "code",
      "source": [
        "b = Book('파이썬','홍길동',2023)"
      ],
      "metadata": {
        "colab": {
          "base_uri": "https://localhost:8080/"
        },
        "id": "x5eiP3IwIM95",
        "outputId": "033aea30-d114-4db2-b9a8-725dbbbcf178"
      },
      "execution_count": 115,
      "outputs": [
        {
          "output_type": "stream",
          "name": "stdout",
          "text": [
            "제목:파이썬, 저자:홍길동, 출판년도:2023\n"
          ]
        }
      ]
    },
    {
      "cell_type": "code",
      "source": [
        "# 은행계좌  BankAccount\n",
        "# account_number, balance(잔액)\n",
        "# deposit : 입금\n",
        "# withdraw : 인출 : 잔액이 부족하면 '잔액이 부족합니다.' 출력\n",
        "class BankAccount:\n",
        "  def __init__(self,account_number,balance=0):\n",
        "    self.account_number = account_number\n",
        "    self.balance = balance\n",
        "  def deposit(self,amount):\n",
        "    self.balance += amount\n",
        "  def widthraw(self,amount):\n",
        "    if self.balance >= amount:\n",
        "      self.balance -= amount\n",
        "    else:\n",
        "      print(\"잔액이 부족합니다.\")"
      ],
      "metadata": {
        "id": "EqatggZZFzdy"
      },
      "execution_count": 118,
      "outputs": []
    },
    {
      "cell_type": "code",
      "source": [
        "b = BankAccount(\"1011-1200\",10)\n",
        "b.deposit(100)\n",
        "b.deposit(100)\n",
        "b.widthraw(50)"
      ],
      "metadata": {
        "id": "GI8p3_kYJjdr"
      },
      "execution_count": 120,
      "outputs": []
    },
    {
      "cell_type": "code",
      "source": [
        "# 직원 Employee\n",
        "# 이름 사원번호 부서\n",
        "# 객체를 프린트하면(__str__) 이름 사원번호 부서를 출력하도록"
      ],
      "metadata": {
        "id": "fUjB5f8fKqg5"
      },
      "execution_count": 121,
      "outputs": []
    },
    {
      "cell_type": "code",
      "source": [
        "class Employee:\n",
        "  def __init__(self,name,id,department):\n",
        "    self.name = name\n",
        "    self.id = id\n",
        "    self.department = department\n",
        "  def __str__(self):\n",
        "    return f\"이름:{self.name}, 사원번호:{self.id}, 부서:{self.department}\""
      ],
      "metadata": {
        "id": "5hBsohIaK_4H"
      },
      "execution_count": 122,
      "outputs": []
    },
    {
      "cell_type": "code",
      "source": [
        "e = Employee(\"홍길동\",'001','총무부')\n",
        "print(e)"
      ],
      "metadata": {
        "colab": {
          "base_uri": "https://localhost:8080/"
        },
        "id": "UlW6ZRMvL63o",
        "outputId": "64683e70-6ea1-4e9f-f002-2c351a6db9b7"
      },
      "execution_count": 123,
      "outputs": [
        {
          "output_type": "stream",
          "name": "stdout",
          "text": [
            "이름:홍길동, 사원번호:001, 부서:총무부\n"
          ]
        }
      ]
    },
    {
      "cell_type": "code",
      "source": [
        "# 상품클래스 : Product\n",
        "# 상품명,가격,카테고리\n",
        "\n",
        "# 상품관리 클래스  ProductMng\n",
        "# 상품을 관리하는 리스트 : Product의 객체들이 들어감\n",
        "# 최고가 상품을 리턴하는 메소드"
      ],
      "metadata": {
        "id": "gdKQIi2VMBLf"
      },
      "execution_count": 124,
      "outputs": []
    },
    {
      "cell_type": "code",
      "source": [
        "# category -> 사용자가 변수를 만드는데.. 데이터의 범위를 제한둘수 있음\n",
        "class Product:\n",
        "  def __init__(self,name,price,category):\n",
        "    self.name = name\n",
        "    self.price = price\n",
        "    self.category = category\n",
        "\n",
        "class ProductMng:\n",
        "  def __init__(self,*product_args):\n",
        "    self.procut_list = []\n",
        "    for procut in product_args:\n",
        "      self.procut_list.append(procut)\n",
        "  def findMaxPriceItem(self):\n",
        "    pass"
      ],
      "metadata": {
        "id": "8SECLOFEMzo5"
      },
      "execution_count": null,
      "outputs": []
    }
  ]
}