{
  "nbformat": 4,
  "nbformat_minor": 0,
  "metadata": {
    "colab": {
      "provenance": []
    },
    "kernelspec": {
      "name": "python3",
      "display_name": "Python 3"
    },
    "language_info": {
      "name": "python"
    }
  },
  "cells": [
    {
      "cell_type": "code",
      "execution_count": 3,
      "metadata": {
        "colab": {
          "base_uri": "https://localhost:8080/"
        },
        "id": "cfsfLXVkkGcH",
        "outputId": "6ad321e9-9887-4c1b-c5eb-54a98af831f0"
      },
      "outputs": [
        {
          "output_type": "execute_result",
          "data": {
            "text/plain": [
              "[{'name': 'hong', 'age': 20},\n",
              " {'name': 'hong', 'age': 20},\n",
              " {'name': 'hong', 'age': 20}]"
            ]
          },
          "metadata": {},
          "execution_count": 3
        }
      ],
      "source": [
        "students_list = [\n",
        "    {'name':\"hong\", 'age':20},\n",
        "    {'name':\"hong\", 'age':20},\n",
        "    {'name':\"hong\", 'age':20},\n",
        "]\n",
        "students_list"
      ]
    },
    {
      "cell_type": "code",
      "source": [
        "student = {\n",
        "    \"name\":\"hong\", \"age\":20, 'name':'lee'\n",
        "}"
      ],
      "metadata": {
        "id": "Al-oyFrEkwYb"
      },
      "execution_count": 8,
      "outputs": []
    },
    {
      "cell_type": "code",
      "source": [
        "student"
      ],
      "metadata": {
        "colab": {
          "base_uri": "https://localhost:8080/"
        },
        "id": "z3dIXIynlUwI",
        "outputId": "6e701eda-fb82-41c1-8a89-15a84a8fc331"
      },
      "execution_count": 9,
      "outputs": [
        {
          "output_type": "execute_result",
          "data": {
            "text/plain": [
              "{'name': 'lee', 'age': 20}"
            ]
          },
          "metadata": {},
          "execution_count": 9
        }
      ]
    },
    {
      "cell_type": "markdown",
      "source": [
        "Set"
      ],
      "metadata": {
        "id": "z083VtjXqEGZ"
      }
    },
    {
      "cell_type": "code",
      "source": [
        "set_data = {1,2,3,4}\n",
        "set_data"
      ],
      "metadata": {
        "colab": {
          "base_uri": "https://localhost:8080/"
        },
        "id": "fpkgj0-dp4y9",
        "outputId": "2eb26c04-aed6-4549-df8e-eaa182a3351d"
      },
      "execution_count": 10,
      "outputs": [
        {
          "output_type": "execute_result",
          "data": {
            "text/plain": [
              "{1, 2, 3, 4}"
            ]
          },
          "metadata": {},
          "execution_count": 10
        }
      ]
    },
    {
      "cell_type": "code",
      "source": [
        "set_data.add(10)"
      ],
      "metadata": {
        "id": "p7UISC32qkWN"
      },
      "execution_count": 11,
      "outputs": []
    },
    {
      "cell_type": "code",
      "source": [
        "set_data.pop()"
      ],
      "metadata": {
        "colab": {
          "base_uri": "https://localhost:8080/"
        },
        "id": "kPPu081zqp2s",
        "outputId": "86e88b86-32c7-42ec-ca02-8eab35982d7a"
      },
      "execution_count": 14,
      "outputs": [
        {
          "output_type": "execute_result",
          "data": {
            "text/plain": [
              "1"
            ]
          },
          "metadata": {},
          "execution_count": 14
        }
      ]
    },
    {
      "cell_type": "code",
      "source": [
        "t_1 = (10,20)"
      ],
      "metadata": {
        "id": "X8p1wTCmqrbs"
      },
      "execution_count": 16,
      "outputs": []
    },
    {
      "cell_type": "code",
      "source": [
        "students_list = [\n",
        "    {'name':\"hong\", 'age':20},\n",
        "    {'name':\"lee\", 'age':22},\n",
        "    {'name':\"park\", 'age':30},\n",
        "]\n",
        "# 특정 이름이 있는지 검색  lee를 찾아서 있으면 true 없으면 false 출력\n",
        "def findName(name):\n",
        "  for data in students_list:\n",
        "    if name == data['name']:\n",
        "      return 'true'\n",
        "  return 'false'\n",
        "\n",
        "findName(\"lee2\")\n"
      ],
      "metadata": {
        "colab": {
          "base_uri": "https://localhost:8080/",
          "height": 35
        },
        "id": "qfMfs3W5q1qr",
        "outputId": "38b3b6f0-8301-4755-f30e-b2ee25594ef7"
      },
      "execution_count": 31,
      "outputs": [
        {
          "output_type": "execute_result",
          "data": {
            "text/plain": [
              "'false'"
            ],
            "application/vnd.google.colaboratory.intrinsic+json": {
              "type": "string"
            }
          },
          "metadata": {},
          "execution_count": 31
        }
      ]
    },
    {
      "cell_type": "code",
      "source": [
        "students_list = [\n",
        "    {'name':\"hong\", 'age':20},\n",
        "    {'name':\"lee\", 'age':22},\n",
        "    {'name':\"park\", 'age':30},\n",
        "]"
      ],
      "metadata": {
        "id": "tqtOWDIjte5z"
      },
      "execution_count": 35,
      "outputs": []
    },
    {
      "cell_type": "code",
      "source": [
        "def findName(searchName):\n",
        "  return sum([1 if data['name'] == searchName else 0 for data in students_list]) > 0"
      ],
      "metadata": {
        "id": "uLdhzHGXxExr"
      },
      "execution_count": 40,
      "outputs": []
    },
    {
      "cell_type": "code",
      "source": [],
      "metadata": {
        "id": "Q_Rs9BUsxJ_a"
      },
      "execution_count": null,
      "outputs": []
    }
  ]
}