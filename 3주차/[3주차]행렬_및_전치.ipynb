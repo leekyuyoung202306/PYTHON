{
  "nbformat": 4,
  "nbformat_minor": 0,
  "metadata": {
    "colab": {
      "provenance": []
    },
    "kernelspec": {
      "name": "python3",
      "display_name": "Python 3"
    },
    "language_info": {
      "name": "python"
    }
  },
  "cells": [
    {
      "cell_type": "code",
      "execution_count": null,
      "metadata": {
        "id": "lgLzRCfTg-6k"
      },
      "outputs": [],
      "source": [
        "# 임의의 2 x 2 행렬\n",
        "# [\n",
        "#     [x,x],\n",
        "#     [x,x]\n",
        "# ]"
      ]
    },
    {
      "cell_type": "markdown",
      "source": [
        "m, n 을 가지고 m x n\n",
        "\n",
        "행렬을 만들어 주는 함수\n",
        "\n",
        "내용은 랜덤하게 채운다"
      ],
      "metadata": {
        "id": "y99Y6WZshRhv"
      }
    },
    {
      "cell_type": "code",
      "source": [
        "import random\n",
        "random.randint(0,10)"
      ],
      "metadata": {
        "colab": {
          "base_uri": "https://localhost:8080/"
        },
        "id": "ZjRHbqUghZE9",
        "outputId": "076e5798-b9a3-4cf4-ecf6-1d2b8525702c"
      },
      "execution_count": 5,
      "outputs": [
        {
          "output_type": "execute_result",
          "data": {
            "text/plain": [
              "2"
            ]
          },
          "metadata": {},
          "execution_count": 5
        }
      ]
    },
    {
      "cell_type": "code",
      "source": [
        "m,n = 2,2\n",
        "matrix1 = [\n",
        "    [0,0], # 1\n",
        "    [0,0]  # 2\n",
        "]"
      ],
      "metadata": {
        "id": "jqj3y3ujh49e"
      },
      "execution_count": 6,
      "outputs": []
    },
    {
      "cell_type": "code",
      "source": [
        "sub1 = []\n",
        "sub1.append(random.randint(0,10))\n",
        "sub1.append(random.randint(0,10))\n",
        "\n",
        "sub2 = []\n",
        "sub2.append(random.randint(0,10))\n",
        "sub2.append(random.randint(0,10))\n",
        "\n",
        "print(sub1,sub2)\n",
        "matrix1 = []\n",
        "matrix1.append(sub1)\n",
        "matrix1.append(sub2)\n",
        "\n",
        "print(matrix1)"
      ],
      "metadata": {
        "colab": {
          "base_uri": "https://localhost:8080/"
        },
        "id": "BDZtlfS1iYqN",
        "outputId": "dd10e3c2-521d-4f50-84b8-287e557033f5"
      },
      "execution_count": 9,
      "outputs": [
        {
          "output_type": "stream",
          "name": "stdout",
          "text": [
            "[2, 10] [8, 3]\n",
            "[[2, 10], [8, 3]]\n"
          ]
        }
      ]
    },
    {
      "cell_type": "code",
      "source": [
        "m,n = map(int, input(\"m n 입력\").split())\n",
        "\n",
        "def makeMatrix(m,n):\n",
        "  matrix1 = []\n",
        "  for _ in range(m):\n",
        "    sub1 = []\n",
        "    for _ in range(n):\n",
        "      sub1.append(0)\n",
        "    matrix1.append(sub1)\n",
        "  return matrix1\n",
        "\n",
        "matrix1 = makeMatrix(m,n)\n",
        "matrix1"
      ],
      "metadata": {
        "colab": {
          "base_uri": "https://localhost:8080/"
        },
        "id": "GvR4XlHDilbl",
        "outputId": "bd7a0a73-1a57-4e36-a9d9-b71849f83555"
      },
      "execution_count": 23,
      "outputs": [
        {
          "name": "stdout",
          "output_type": "stream",
          "text": [
            "m n 입력2 5\n"
          ]
        },
        {
          "output_type": "execute_result",
          "data": {
            "text/plain": [
              "[[0, 0, 0, 0, 0], [0, 0, 0, 0, 0]]"
            ]
          },
          "metadata": {},
          "execution_count": 23
        }
      ]
    },
    {
      "cell_type": "markdown",
      "source": [
        "전치 행렬\n",
        "\n",
        "![image.png](data:image/png;base64,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)"
      ],
      "metadata": {
        "id": "KieVovN-mLbv"
      }
    },
    {
      "cell_type": "code",
      "source": [
        "# 1. 매트릭스의 m n을 구한다.(m은 row의 개수 n의 col의 개수)\n",
        "def transposedMatrix(matrix):\n",
        "  m = len(matrix)\n",
        "  n = len(matrix[0])\n",
        "  transposed_matrix = makeMatrix(n,m)\n",
        "  for i in range(m):\n",
        "    for j in range(n):\n",
        "      transposed_matrix[j][i] =  matrix[i][j]\n",
        "  return transposed_matrix"
      ],
      "metadata": {
        "id": "na9baL_Ajlsd"
      },
      "execution_count": 27,
      "outputs": []
    },
    {
      "cell_type": "code",
      "source": [
        "temp = [[1,2]]\n",
        "transposedMatrix(temp)"
      ],
      "metadata": {
        "colab": {
          "base_uri": "https://localhost:8080/"
        },
        "id": "UzOskIWon4z7",
        "outputId": "d0078887-66e9-4d55-917b-d750e4899e27"
      },
      "execution_count": 28,
      "outputs": [
        {
          "output_type": "execute_result",
          "data": {
            "text/plain": [
              "[[1], [2]]"
            ]
          },
          "metadata": {},
          "execution_count": 28
        }
      ]
    },
    {
      "cell_type": "code",
      "source": [
        "temp = [[1,2],[3,4]]\n",
        "transposedMatrix(temp)"
      ],
      "metadata": {
        "colab": {
          "base_uri": "https://localhost:8080/"
        },
        "id": "y_vYruvOp308",
        "outputId": "b492c739-f843-44d2-b2e9-1379c48c9d0a"
      },
      "execution_count": 29,
      "outputs": [
        {
          "output_type": "execute_result",
          "data": {
            "text/plain": [
              "[[1, 3], [2, 4]]"
            ]
          },
          "metadata": {},
          "execution_count": 29
        }
      ]
    },
    {
      "cell_type": "code",
      "source": [
        "temp = [[1,2],[3,4],[5,6]]\n",
        "transposedMatrix(temp)"
      ],
      "metadata": {
        "colab": {
          "base_uri": "https://localhost:8080/"
        },
        "id": "qKJ2n-txp7er",
        "outputId": "2d3f2afc-ccbe-4bce-e6ff-8b416b3911d6"
      },
      "execution_count": 30,
      "outputs": [
        {
          "output_type": "execute_result",
          "data": {
            "text/plain": [
              "[[1, 3, 5], [2, 4, 6]]"
            ]
          },
          "metadata": {},
          "execution_count": 30
        }
      ]
    },
    {
      "cell_type": "markdown",
      "source": [],
      "metadata": {
        "id": "MFu09qUMqMUs"
      }
    },
    {
      "cell_type": "code",
      "source": [],
      "metadata": {
        "id": "mCSUGWn8qFi7"
      },
      "execution_count": null,
      "outputs": []
    }
  ]
}