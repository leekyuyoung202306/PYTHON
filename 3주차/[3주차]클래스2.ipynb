{
  "nbformat": 4,
  "nbformat_minor": 0,
  "metadata": {
    "colab": {
      "provenance": []
    },
    "kernelspec": {
      "name": "python3",
      "display_name": "Python 3"
    },
    "language_info": {
      "name": "python"
    }
  },
  "cells": [
    {
      "cell_type": "markdown",
      "source": [
        "클래스\n",
        "  - 변수와 함수를 하나로 묶음"
      ],
      "metadata": {
        "id": "_3lN1zRg0Jad"
      }
    },
    {
      "cell_type": "code",
      "execution_count": 4,
      "metadata": {
        "id": "XJYjwx-rxzDo"
      },
      "outputs": [],
      "source": [
        "class DumyClass:\n",
        "  def __init__(self):\n",
        "    print(\"call constructor\")\n",
        "    self.a = 0\n",
        "  def temp(sefl):\n",
        "    print(\"temp\")"
      ]
    },
    {
      "cell_type": "code",
      "source": [
        "# 생성자\n",
        "# 객체가 생성될때 자동으로 호출된다.\n",
        "# 클래스명()\n",
        "# __init__(self)"
      ],
      "metadata": {
        "id": "Rm9pMdDb1Z6U"
      },
      "execution_count": 5,
      "outputs": []
    },
    {
      "cell_type": "code",
      "source": [
        "dc = DumyClass()"
      ],
      "metadata": {
        "colab": {
          "base_uri": "https://localhost:8080/"
        },
        "id": "9j-mAWvP1KJ7",
        "outputId": "4c013866-2ad8-4ad0-f564-19b9d0f7aea3"
      },
      "execution_count": 6,
      "outputs": [
        {
          "output_type": "stream",
          "name": "stdout",
          "text": [
            "call constructor\n"
          ]
        }
      ]
    },
    {
      "cell_type": "code",
      "source": [
        "# Event, Callback\n",
        "# Event가 발생하면 등록된 callback 함수가 실행"
      ],
      "metadata": {
        "id": "rRzoVfaE117E"
      },
      "execution_count": 7,
      "outputs": []
    },
    {
      "cell_type": "code",
      "source": [
        "class DumyClass:\n",
        "  def __init__(self,x,y):\n",
        "    print(\"call constructor\")\n",
        "    self.x = x\n",
        "    self.y = y\n",
        "  def temp(sefl):\n",
        "    print(\"temp\")"
      ],
      "metadata": {
        "id": "Zm9OvpXh2pXk"
      },
      "execution_count": 8,
      "outputs": []
    },
    {
      "cell_type": "code",
      "source": [
        "dc = DumyClass(10,20)"
      ],
      "metadata": {
        "colab": {
          "base_uri": "https://localhost:8080/"
        },
        "id": "KhJkZNQL3CET",
        "outputId": "4df0b089-4594-4c83-cf3a-5472ecf6ba8f"
      },
      "execution_count": 9,
      "outputs": [
        {
          "output_type": "stream",
          "name": "stdout",
          "text": [
            "call constructor\n"
          ]
        }
      ]
    },
    {
      "cell_type": "code",
      "source": [
        "from enum import Enum\n",
        "class Color(Enum):  # 상속\n",
        "  RED=1\n",
        "  GREEN=2\n",
        "  BLUE =3\n",
        "\n",
        "local_color = Color.GREEN\n",
        "if local_color == Color.GREEN:\n",
        "  print(\"녹색\")\n",
        "else:\n",
        "  print(\"녹색이 아니다\")"
      ],
      "metadata": {
        "colab": {
          "base_uri": "https://localhost:8080/"
        },
        "id": "rYDGPlo33Etk",
        "outputId": "e4073c5b-de4b-4eb7-a6dd-17f7fbd8bf7e"
      },
      "execution_count": 12,
      "outputs": [
        {
          "output_type": "stream",
          "name": "stdout",
          "text": [
            "녹색\n"
          ]
        }
      ]
    },
    {
      "cell_type": "code",
      "source": [
        "class Category(Enum):\n",
        "  NEW_ARRIVAL={'color':1}\n",
        "  TOP=2\n",
        "  OUTER=3\n",
        "  PANTS=4\n",
        "  SHOES=5\n",
        "  BAG=6"
      ],
      "metadata": {
        "id": "UHLJgN3o4GLv"
      },
      "execution_count": 18,
      "outputs": []
    },
    {
      "cell_type": "code",
      "source": [
        "print(Category.NEW_ARRIVAL.name)\n",
        "print(Category.NEW_ARRIVAL.value)\n",
        "print(Category.NEW_ARRIVAL.value['color'] )"
      ],
      "metadata": {
        "colab": {
          "base_uri": "https://localhost:8080/"
        },
        "id": "vSX1P21S45A8",
        "outputId": "9655f05b-ca91-42b1-ac67-d0fe01e5167e"
      },
      "execution_count": 27,
      "outputs": [
        {
          "output_type": "stream",
          "name": "stdout",
          "text": [
            "NEW_ARRIVAL\n",
            "{'color': 1}\n",
            "1\n"
          ]
        }
      ]
    },
    {
      "cell_type": "code",
      "source": [
        "class Category(Enum):\n",
        "  NEW_ARRIVAL=1\n",
        "  TOP=2\n",
        "  OUTER=3\n",
        "  PANTS=4\n",
        "  SHOES=5\n",
        "  BAG=6"
      ],
      "metadata": {
        "id": "2vjoqKip47V8"
      },
      "execution_count": 28,
      "outputs": []
    },
    {
      "cell_type": "code",
      "source": [
        "class Product:\n",
        "  def __init__(self,name,price,category):\n",
        "    self.name = name\n",
        "    self.price = price\n",
        "    self.category = category\n",
        "class ProductMng:\n",
        "  def __init__(self,*products):  # packing\n",
        "    self.products = products\n",
        "  def findProduct(self, price):\n",
        "    for product in self.products:\n",
        "      if price == product.price:\n",
        "        return product\n",
        ""
      ],
      "metadata": {
        "id": "UtJSDlQ66IUP"
      },
      "execution_count": 33,
      "outputs": []
    },
    {
      "cell_type": "code",
      "source": [
        "p1 = Product(\"가방\",1000,Category.BAG)\n",
        "p2 = Product(\"티셔츠\",2000,Category.TOP)\n",
        "p3 = Product(\"등산복\",1000,Category.OUTER)\n",
        "\n",
        "# pm = ProductMng(p1,p2,p3)  # 일반적인 호출\n",
        "\n",
        "# unpacking\n",
        "params = [p1,p2,p3]\n",
        "pm = ProductMng(*params)"
      ],
      "metadata": {
        "id": "dCDdMYBY6r99"
      },
      "execution_count": 36,
      "outputs": []
    },
    {
      "cell_type": "code",
      "source": [
        "def test(a=0,b=0,c=0):\n",
        "  print(f\"a:{a}, b:{b}, c:{c}\")"
      ],
      "metadata": {
        "id": "A4WKWJKq8rpc"
      },
      "execution_count": 37,
      "outputs": []
    },
    {
      "cell_type": "code",
      "source": [
        "param = [10,20,30]\n",
        "test(*param)"
      ],
      "metadata": {
        "colab": {
          "base_uri": "https://localhost:8080/"
        },
        "id": "GbWcsoFk8rvE",
        "outputId": "730b6c5a-49f8-4e03-978d-75ef7ac20196"
      },
      "execution_count": 38,
      "outputs": [
        {
          "output_type": "stream",
          "name": "stdout",
          "text": [
            "a:10, b:20, c:30\n"
          ]
        }
      ]
    },
    {
      "cell_type": "code",
      "source": [
        "param = {'c':10,'a':20,'b':30}\n",
        "test(**param)"
      ],
      "metadata": {
        "colab": {
          "base_uri": "https://localhost:8080/"
        },
        "id": "9nKoG_Ak8r1j",
        "outputId": "5e8ba6ab-4fce-499e-c340-840a738a7132"
      },
      "execution_count": 43,
      "outputs": [
        {
          "output_type": "stream",
          "name": "stdout",
          "text": [
            "a:20, b:30, c:10\n"
          ]
        }
      ]
    },
    {
      "cell_type": "markdown",
      "source": [
        "--------------------------------------------"
      ],
      "metadata": {
        "id": "FEgoQONeBbAc"
      }
    },
    {
      "cell_type": "code",
      "source": [
        "class Category(Enum):\n",
        "  NEW_ARRIVAL=1\n",
        "  TOP=2\n",
        "  OUTER=3\n",
        "  PANTS=4\n",
        "  SHOES=5\n",
        "  BAG=6\n",
        "\n",
        "class Product:\n",
        "  def __init__(self,name,price,category):\n",
        "    self.name = name\n",
        "    self.price = price\n",
        "    self.category = category\n",
        "class ProductMng:\n",
        "  def __init__(self,*products):  # packing\n",
        "    self.products = products\n",
        "  def findProduct(self, price):\n",
        "    for product in self.products:\n",
        "      if price == product.price:\n",
        "        return product"
      ],
      "metadata": {
        "id": "0S7Ft7rv9pdM"
      },
      "execution_count": 45,
      "outputs": []
    },
    {
      "cell_type": "code",
      "source": [
        "# 상품 추가\n",
        "products = [\n",
        "    Product('티셔츠',1000,Category.TOP),Product('바지',2000,Category.PANTS),\n",
        "    Product('등산복',3000,Category.OUTER),Product('신발',1500,Category.SHOES),\n",
        "]\n",
        "mng = ProductMng(*products)\n",
        "mng.findProduct(3000).category"
      ],
      "metadata": {
        "colab": {
          "base_uri": "https://localhost:8080/"
        },
        "id": "FVdAQ6Lr9tIE",
        "outputId": "9498fec4-69ec-4f58-ce9e-a2a8e9017144"
      },
      "execution_count": 50,
      "outputs": [
        {
          "output_type": "execute_result",
          "data": {
            "text/plain": [
              "<Category.OUTER: 3>"
            ]
          },
          "metadata": {},
          "execution_count": 50
        }
      ]
    },
    {
      "cell_type": "markdown",
      "source": [
        "가격에 대한 검색 조건을 추가"
      ],
      "metadata": {
        "id": "zhOPeuhEDJlb"
      }
    },
    {
      "cell_type": "code",
      "source": [
        "class ProductMng:\n",
        "  def __init__(self,*products):  # packing\n",
        "    self.products = products\n",
        "  def findProduct(self,test):\n",
        "    result = []\n",
        "    for product in self.products:\n",
        "      if(test(product)):\n",
        "        result.append(product)\n",
        "    return result\n"
      ],
      "metadata": {
        "id": "hi9X-X2i9tPK"
      },
      "execution_count": 54,
      "outputs": []
    },
    {
      "cell_type": "code",
      "source": [
        "products = [\n",
        "    Product('티셔츠',1000,Category.TOP),Product('바지',2000,Category.PANTS),\n",
        "    Product('등산복',3000,Category.OUTER),Product('신발',1500,Category.SHOES),\n",
        "]\n",
        "mng = ProductMng(*products)\n",
        "mng.findProduct(lambda x : (x.category == Category.TOP) or (x.category==Category.PANTS))"
      ],
      "metadata": {
        "colab": {
          "base_uri": "https://localhost:8080/"
        },
        "id": "h71Rt_gI9tVl",
        "outputId": "38db092d-44b4-4688-dad3-b45c4bf0a544"
      },
      "execution_count": 59,
      "outputs": [
        {
          "output_type": "execute_result",
          "data": {
            "text/plain": [
              "[<__main__.Product at 0x7f590ffd32e0>, <__main__.Product at 0x7f590ffd0d90>]"
            ]
          },
          "metadata": {},
          "execution_count": 59
        }
      ]
    },
    {
      "cell_type": "markdown",
      "source": [
        "클래스\n",
        "  - 생성자\n",
        "  - _ _ _str_ _ _\n",
        "  - 변수, 메소드\n",
        "\n",
        "객체생성하고 사용해 보기"
      ],
      "metadata": {
        "id": "zC0sD5JYGmge"
      }
    },
    {
      "cell_type": "code",
      "source": [
        "# 장바구니 클래스\n",
        "# ShoppingCart\n",
        "# 상품추가\n",
        "# 상품제거\n",
        "# 계산기능(장바구니에 담긴 물품의 총 금액)"
      ],
      "metadata": {
        "id": "nrope3S-68S7"
      },
      "execution_count": 61,
      "outputs": []
    },
    {
      "cell_type": "code",
      "source": [
        "class ShoppingCard:\n",
        "  def __init__(self):\n",
        "    self.product_list = []\n",
        "  def add_product(self,product):\n",
        "    self.product_list.append(product)\n",
        "  def remove_product(self,product):\n",
        "    if product in self.product_list:\n",
        "      self.product_list.remove(product)\n",
        "  def total_price(self):\n",
        "    return sum([ product.price for product in self.product_list])"
      ],
      "metadata": {
        "id": "zSsCA0bTHGSo"
      },
      "execution_count": 64,
      "outputs": []
    },
    {
      "cell_type": "code",
      "source": [
        "cart = ShoppingCard()\n",
        "cart.add_product(Product(\"바지\",1000,Category.PANTS))\n",
        "cart.total_price()"
      ],
      "metadata": {
        "colab": {
          "base_uri": "https://localhost:8080/"
        },
        "id": "yglGzJfwKDRI",
        "outputId": "d361ef8c-12ff-4e80-9efe-7f8f35c88d02"
      },
      "execution_count": 65,
      "outputs": [
        {
          "output_type": "execute_result",
          "data": {
            "text/plain": [
              "1000"
            ]
          },
          "metadata": {},
          "execution_count": 65
        }
      ]
    },
    {
      "cell_type": "code",
      "source": [
        "def display_menu(mng):\n",
        "  print('상품명\\t\\t가격\\t\\t카테고리')\n",
        "  print('----------------------------------------------')\n",
        "  for m in mng.products:\n",
        "    print(f'{m.name}\\t\\t{m.price}\\t\\t{m.category.name}')"
      ],
      "metadata": {
        "id": "-eNOgtoLKagf"
      },
      "execution_count": 83,
      "outputs": []
    },
    {
      "cell_type": "code",
      "source": [
        "display_menu(mng)"
      ],
      "metadata": {
        "colab": {
          "base_uri": "https://localhost:8080/"
        },
        "id": "lF8QE1tXMGq_",
        "outputId": "709375ca-e1cd-4807-932c-877e081688ef"
      },
      "execution_count": 84,
      "outputs": [
        {
          "output_type": "stream",
          "name": "stdout",
          "text": [
            "상품명\t\t가격\t\t카테고리\n",
            "----------------------------------------------\n",
            "티셔츠\t\t1000\t\tTOP\n",
            "바지\t\t2000\t\tPANTS\n",
            "등산복\t\t3000\t\tOUTER\n",
            "신발\t\t1500\t\tSHOES\n"
          ]
        }
      ]
    },
    {
      "cell_type": "code",
      "source": [],
      "metadata": {
        "id": "PbyFpKsHMH7f"
      },
      "execution_count": null,
      "outputs": []
    }
  ]
}