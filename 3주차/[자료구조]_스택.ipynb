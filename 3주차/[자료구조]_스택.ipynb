{
  "nbformat": 4,
  "nbformat_minor": 0,
  "metadata": {
    "colab": {
      "provenance": []
    },
    "kernelspec": {
      "name": "python3",
      "display_name": "Python 3"
    },
    "language_info": {
      "name": "python"
    }
  },
  "cells": [
    {
      "cell_type": "markdown",
      "source": [
        "리스트를 이용해서 stack 자료구조를 구현시 필요한 메소드\n",
        "- push() : 스택에 데이터를 넎는 메소드\n",
        "- pop() : 맨위에서 데이터를\n",
        "- top() : 맨위에 잇는 데이터를 알려준다\n",
        "- isEmpty() :\n",
        "- popAll() : clean"
      ],
      "metadata": {
        "id": "5x9jfu0BOMG2"
      }
    },
    {
      "cell_type": "code",
      "execution_count": 1,
      "metadata": {
        "id": "19b7mxAcLJ8z"
      },
      "outputs": [],
      "source": [
        "def push(stack, x):\n",
        "  stack.append(x)"
      ]
    },
    {
      "cell_type": "code",
      "source": [
        "def pop(stack):\n",
        "  return stack.pop()"
      ],
      "metadata": {
        "id": "qFBHl2G1Pfd0"
      },
      "execution_count": 4,
      "outputs": []
    },
    {
      "cell_type": "code",
      "source": [
        "def isEmpty(stack):\n",
        "  return len(stack) == 0"
      ],
      "metadata": {
        "id": "4XF1TEl0P3Qk"
      },
      "execution_count": 17,
      "outputs": []
    },
    {
      "cell_type": "code",
      "source": [
        "def top(stack):\n",
        "  if not isEmpty(stack):\n",
        "    return stack[-1]\n",
        "  return None"
      ],
      "metadata": {
        "id": "Sy4UD05MPhE0"
      },
      "execution_count": 19,
      "outputs": []
    },
    {
      "cell_type": "code",
      "source": [
        "def popAll(stack):\n",
        "  stack.clear()"
      ],
      "metadata": {
        "id": "tmP7DsF1P6Nk"
      },
      "execution_count": 20,
      "outputs": []
    },
    {
      "cell_type": "code",
      "source": [
        "stack = [1,10]\n",
        "top(stack)"
      ],
      "metadata": {
        "colab": {
          "base_uri": "https://localhost:8080/"
        },
        "id": "a0Jkxco3Qs6r",
        "outputId": "7725c767-96eb-4735-a6c2-48f6338f51bd"
      },
      "execution_count": 23,
      "outputs": [
        {
          "output_type": "execute_result",
          "data": {
            "text/plain": [
              "10"
            ]
          },
          "metadata": {},
          "execution_count": 23
        }
      ]
    },
    {
      "cell_type": "code",
      "source": [
        "push(stack,100)"
      ],
      "metadata": {
        "id": "Qw9uOuheRBTT"
      },
      "execution_count": 24,
      "outputs": []
    },
    {
      "cell_type": "code",
      "source": [
        "push(stack,200)"
      ],
      "metadata": {
        "id": "KuKM241_RpeN"
      },
      "execution_count": 26,
      "outputs": []
    },
    {
      "cell_type": "code",
      "source": [
        "stack"
      ],
      "metadata": {
        "colab": {
          "base_uri": "https://localhost:8080/"
        },
        "id": "vcFQPYqMRqnU",
        "outputId": "affd8f32-7043-42ab-a7ac-274f174d997a"
      },
      "execution_count": 29,
      "outputs": [
        {
          "output_type": "execute_result",
          "data": {
            "text/plain": [
              "[1, 10, 100]"
            ]
          },
          "metadata": {},
          "execution_count": 29
        }
      ]
    },
    {
      "cell_type": "code",
      "source": [
        "pop(stack)"
      ],
      "metadata": {
        "colab": {
          "base_uri": "https://localhost:8080/"
        },
        "id": "9BA8M9d6RvWT",
        "outputId": "687fc69c-09c3-4b69-8cb2-84a35f0c1ea4"
      },
      "execution_count": 28,
      "outputs": [
        {
          "output_type": "execute_result",
          "data": {
            "text/plain": [
              "200"
            ]
          },
          "metadata": {},
          "execution_count": 28
        }
      ]
    },
    {
      "cell_type": "code",
      "source": [
        "#데이터 뒤집기\n",
        "# inputData = Test Seq 12345\n",
        "# outputData = 54321 qeS tseT"
      ],
      "metadata": {
        "id": "4J2vWmq5Rziy"
      },
      "execution_count": 30,
      "outputs": []
    },
    {
      "cell_type": "code",
      "source": [
        "# 스텍을 이용해서... push, pop(), top(),\n",
        "def reverse(stack):\n",
        "  out = \"\"\n",
        "  for _ in range(len(stack)):\n",
        "    out += pop(stack)\n",
        "  return out"
      ],
      "metadata": {
        "id": "cVR2qttGSZT6"
      },
      "execution_count": 39,
      "outputs": []
    },
    {
      "cell_type": "code",
      "source": [
        "stack = \"Test Seq 12345\"\n",
        "reverse(list(stack))"
      ],
      "metadata": {
        "colab": {
          "base_uri": "https://localhost:8080/",
          "height": 35
        },
        "id": "0Kk-LTC-SeJ5",
        "outputId": "1811c57f-3efc-42c3-ed08-b00d5e7d2529"
      },
      "execution_count": 44,
      "outputs": [
        {
          "output_type": "execute_result",
          "data": {
            "text/plain": [
              "'54321 qeS tseT'"
            ],
            "application/vnd.google.colaboratory.intrinsic+json": {
              "type": "string"
            }
          },
          "metadata": {},
          "execution_count": 44
        }
      ]
    },
    {
      "cell_type": "code",
      "source": [
        "def A():\n",
        "  stack[100]\n",
        "def B():\n",
        "  print(\"B Functino\")\n",
        "  A()\n",
        "def C():\n",
        "  print(\"C function\")\n",
        "  B()"
      ],
      "metadata": {
        "id": "FZ9bEapcTiwb"
      },
      "execution_count": 47,
      "outputs": []
    },
    {
      "cell_type": "markdown",
      "source": [
        "문자열중에서 괄호가 올바르게 닫혀있는지 검사"
      ],
      "metadata": {
        "id": "GoHfF2mTWB3u"
      }
    },
    {
      "cell_type": "code",
      "source": [
        "stack = []\n",
        "open_brackets = ['(', '{', '[', '<']\n",
        "close_brackets =[')', '}', ']', '>']"
      ],
      "metadata": {
        "id": "qN0M16qAU2TS"
      },
      "execution_count": 53,
      "outputs": []
    },
    {
      "cell_type": "code",
      "source": [
        "test = \"hello pythone)\"\n",
        "def check_brackets(data):\n",
        "  stack = []\n",
        "  for char in data:\n",
        "    if char in open_brackets:\n",
        "      stack.append(char)\n",
        "    elif char in close_brackets:\n",
        "      if not stack:\n",
        "        return False\n",
        "      top = stack.pop()\n",
        "      if open_brackets.index(top) != close_brackets.index(char):\n",
        "        return False\n",
        "  return isEmpty(stack)\n",
        "\n",
        "check_brackets(test)"
      ],
      "metadata": {
        "colab": {
          "base_uri": "https://localhost:8080/"
        },
        "id": "SkAI_QedVTHq",
        "outputId": "3dddd289-d6a5-491a-ebd5-1d43157313ad"
      },
      "execution_count": 70,
      "outputs": [
        {
          "output_type": "execute_result",
          "data": {
            "text/plain": [
              "False"
            ]
          },
          "metadata": {},
          "execution_count": 70
        }
      ]
    },
    {
      "cell_type": "markdown",
      "source": [
        "Queue : 큐  FiFO( First Input First Output)"
      ],
      "metadata": {
        "id": "l65JE9ugcLHb"
      }
    },
    {
      "cell_type": "markdown",
      "source": [
        "큐 : 리스트를 이용해서 구현\n",
        "  - enqueue() :  맨뒤에 원소를  삽입\n",
        "  - dequeue() : 맨앞의 원소를 알려주고 삭제\n",
        "  - front() : 맨 앞에 있는 원소를 알려줌\n",
        "  - isEmpty():\n",
        "  - dequeueAll(): clear..."
      ],
      "metadata": {
        "id": "wJteU0fNcXN5"
      }
    },
    {
      "cell_type": "code",
      "source": [
        "queue = []\n",
        "def isEmpty(queue):\n",
        "  return len(queue) == 0\n",
        "\n",
        "def enqueue(queue,x):\n",
        "  queue.append(x)\n",
        "\n",
        "def dequeue(queue):\n",
        "  if not isEmpty(queue):\n",
        "    return queue.pop(0)\n",
        "  return None\n",
        "\n",
        "def front(queue):\n",
        "  if not isEmpty(queue):\n",
        "    return queue[0]\n",
        "  return None\n",
        "\n",
        "def dequeueAll(queue):\n",
        "    queue.clear()"
      ],
      "metadata": {
        "id": "WLIWC-XsXu5S"
      },
      "execution_count": 88,
      "outputs": []
    },
    {
      "cell_type": "markdown",
      "source": [
        "온라인 상점.....\n",
        "  1. 주문 받는 부분\n",
        "  2. 주문 처리 하는 부분"
      ],
      "metadata": {
        "id": "eXFKfM4Qf50S"
      }
    },
    {
      "cell_type": "code",
      "source": [
        "queue = []  # 주문목록"
      ],
      "metadata": {
        "id": "qzZOVkRUjIfq"
      },
      "execution_count": null,
      "outputs": []
    },
    {
      "cell_type": "code",
      "source": [
        "# 주문처리 : FIFO 방식으로 순차적으로 데이터를 처리한다.\n",
        "# 주문목록이 비어있을때까지 꺼낸다. - while\n",
        "while not isEmpty(queue):\n",
        "  data =  dequeue(queue)\n",
        "  print(data)"
      ],
      "metadata": {
        "id": "rKeQF8rsdqJJ"
      },
      "execution_count": 89,
      "outputs": []
    },
    {
      "cell_type": "code",
      "source": [
        "# 주문이 5건 들어왔음\n",
        "for i in range(5):\n",
        "  enqueue(queue,10+i)\n"
      ],
      "metadata": {
        "id": "o6hg7uRWiCgo"
      },
      "execution_count": 84,
      "outputs": []
    },
    {
      "cell_type": "code",
      "source": [
        "queue"
      ],
      "metadata": {
        "colab": {
          "base_uri": "https://localhost:8080/"
        },
        "id": "DcMQJQWajCcq",
        "outputId": "9dfa0b7a-1b3b-4cdb-a121-6508f642634a"
      },
      "execution_count": 86,
      "outputs": [
        {
          "output_type": "execute_result",
          "data": {
            "text/plain": [
              "[10, 11, 12, 13, 14]"
            ]
          },
          "metadata": {},
          "execution_count": 86
        }
      ]
    },
    {
      "cell_type": "code",
      "source": [],
      "metadata": {
        "id": "n-npc8x4jDmn"
      },
      "execution_count": null,
      "outputs": []
    }
  ]
}