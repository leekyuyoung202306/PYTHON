{
  "nbformat": 4,
  "nbformat_minor": 0,
  "metadata": {
    "colab": {
      "provenance": []
    },
    "kernelspec": {
      "name": "python3",
      "display_name": "Python 3"
    },
    "language_info": {
      "name": "python"
    }
  },
  "cells": [
    {
      "cell_type": "markdown",
      "source": [
        "lambda 매개변수 : 로직"
      ],
      "metadata": {
        "id": "9OyBpoPZXrF8"
      }
    },
    {
      "cell_type": "markdown",
      "source": [
        "숫자의 제곱을 계산하는 람다 함수"
      ],
      "metadata": {
        "id": "huK2UNU4Xdxn"
      }
    },
    {
      "cell_type": "code",
      "source": [
        "func = lambda x : x**2"
      ],
      "metadata": {
        "id": "BPIjHKIXXfpx"
      },
      "execution_count": null,
      "outputs": []
    },
    {
      "cell_type": "markdown",
      "source": [
        "두 숫자를 더하는 람다 함수:"
      ],
      "metadata": {
        "id": "_ZBD3HQbXf6L"
      }
    },
    {
      "cell_type": "code",
      "source": [
        "func = lambda x,y : x + y"
      ],
      "metadata": {
        "id": "joM5LahBXhKs"
      },
      "execution_count": null,
      "outputs": []
    },
    {
      "cell_type": "markdown",
      "source": [
        "주어진 문자열의 길이를 반환하는 람다 함수:"
      ],
      "metadata": {
        "id": "ZbaxHoi1XnDZ"
      }
    },
    {
      "cell_type": "code",
      "source": [
        "func = lambda x : len(x)"
      ],
      "metadata": {
        "id": "ealAg9z0XimC"
      },
      "execution_count": null,
      "outputs": []
    },
    {
      "cell_type": "markdown",
      "source": [
        "문자열을 역순으로 변환하는 람다 함수:"
      ],
      "metadata": {
        "id": "fkrqTcyjXkIZ"
      }
    },
    {
      "cell_type": "code",
      "source": [
        "func = lambda x : x[::-1]"
      ],
      "metadata": {
        "id": "1yO1AHJ6Xkfo"
      },
      "execution_count": null,
      "outputs": []
    },
    {
      "cell_type": "markdown",
      "source": [
        "두 숫자 중에서 큰 값을 반환하는 람다 함수:"
      ],
      "metadata": {
        "id": "qXxi9237YfNh"
      }
    },
    {
      "cell_type": "code",
      "source": [
        "func =  lambda x,y : x if x > y else y"
      ],
      "metadata": {
        "id": "vmPlDpU_YfqZ"
      },
      "execution_count": null,
      "outputs": []
    },
    {
      "cell_type": "markdown",
      "source": [
        "주어진 숫자가 짝수인지 확인하는 람다 함수:"
      ],
      "metadata": {
        "id": "ZyGEV5WBYie6"
      }
    },
    {
      "cell_type": "code",
      "source": [
        "func = lambda x : x%2 == 0"
      ],
      "metadata": {
        "id": "18itxSXRYgQW"
      },
      "execution_count": null,
      "outputs": []
    },
    {
      "cell_type": "markdown",
      "source": [
        "주어진 숫자가 소수인지 확인하는 람다 함수:"
      ],
      "metadata": {
        "id": "gYeOaXg-YjPE"
      }
    },
    {
      "cell_type": "code",
      "source": [
        "func = lambda x :  all([True if x % i else False for i in range(2,x)])"
      ],
      "metadata": {
        "colab": {
          "base_uri": "https://localhost:8080/"
        },
        "id": "pretKURCYrmA",
        "outputId": "cf3a0dbf-b03e-439e-9996-9eb7ff15c763"
      },
      "execution_count": 15,
      "outputs": [
        {
          "output_type": "execute_result",
          "data": {
            "text/plain": [
              "True"
            ]
          },
          "metadata": {},
          "execution_count": 15
        }
      ]
    },
    {
      "cell_type": "markdown",
      "source": [
        "문자열을 모두 대문자로 변환하는 람다 함수:"
      ],
      "metadata": {
        "id": "vb53jzONYsXK"
      }
    },
    {
      "cell_type": "code",
      "source": [
        "func = lambda x : x.upper()"
      ],
      "metadata": {
        "id": "aG7PQcP1YthZ"
      },
      "execution_count": null,
      "outputs": []
    },
    {
      "cell_type": "markdown",
      "source": [
        "주어진 리스트에서 홀수만 필터링하는 람다 함수:"
      ],
      "metadata": {
        "id": "1NLqK-bhbcYi"
      }
    },
    {
      "cell_type": "code",
      "source": [
        "numbers = list(range(1,11))\n",
        "func = list(filter( lambda x : x % 2 !=0, numbers))"
      ],
      "metadata": {
        "id": "tn5WJphzbevw"
      },
      "execution_count": null,
      "outputs": []
    },
    {
      "cell_type": "markdown",
      "source": [
        "주어진 리스트의 모든 요소를 제곱하는 람다 함수:"
      ],
      "metadata": {
        "id": "Xqi7BZKpbfIy"
      }
    },
    {
      "cell_type": "code",
      "source": [
        "numbers = list(range(1,11))\n",
        "func = list(map( lambda x: x**2,numbers))"
      ],
      "metadata": {
        "id": "Og0R5PBHbgZ3"
      },
      "execution_count": null,
      "outputs": []
    },
    {
      "cell_type": "markdown",
      "source": [
        "주어진 문자열에서 모음(a, e, i, o, u)의 개수를 세는 람다 함수:"
      ],
      "metadata": {
        "id": "m7bajbb0bhpL"
      }
    },
    {
      "cell_type": "code",
      "source": [
        "moeum = 'a,e,i,o,u'\n",
        "strdata = \"a b c d e f g h i j k l m n\"\n",
        "\n",
        "count = 0\n",
        "for ch in strdata:\n",
        "  if ch in moeum:\n",
        "    count +=1\n",
        "\n",
        "count\n",
        "# func = lambda x :  sum([1 for ch in x if ch in moeum])"
      ],
      "metadata": {
        "colab": {
          "base_uri": "https://localhost:8080/"
        },
        "id": "ZYK0lLPnbnDY",
        "outputId": "23368e66-d9bc-4c08-a4b2-bf790aa5d15c"
      },
      "execution_count": 29,
      "outputs": [
        {
          "output_type": "execute_result",
          "data": {
            "text/plain": [
              "3"
            ]
          },
          "metadata": {},
          "execution_count": 29
        }
      ]
    },
    {
      "cell_type": "markdown",
      "source": [
        "주어진 숫자 리스트의 평균을 계산하는 람다 함수:"
      ],
      "metadata": {
        "id": "eUXX7BmvbnfL"
      }
    },
    {
      "cell_type": "code",
      "source": [
        "numbers = list(range(1,11))\n",
        "func  = lambda x : sum(x) / len(x)"
      ],
      "metadata": {
        "id": "pp5F842Hbo_f"
      },
      "execution_count": 22,
      "outputs": []
    },
    {
      "cell_type": "markdown",
      "source": [
        "주어진 문자열 리스트에서 길이가 5 이상인 문자열만 필터링하는 람다 함수"
      ],
      "metadata": {
        "id": "AsXIH2U3bqPJ"
      }
    },
    {
      "cell_type": "code",
      "source": [
        "strdata = ['abc','aaaa','adsfasdfasd','adfe']\n",
        "func = list(filter(lambda x : len(x) > 5, strdata))"
      ],
      "metadata": {
        "id": "gF_sg3Pzbrq3"
      },
      "execution_count": 23,
      "outputs": []
    },
    {
      "cell_type": "markdown",
      "source": [
        "주어진 숫자 리스트의 합을 계산하는 예제:"
      ],
      "metadata": {
        "id": "qMbSiAc-f67m"
      }
    },
    {
      "cell_type": "code",
      "source": [
        "from functools import reduce\n",
        "numbers = list(range(1,11))\n",
        "func = reduce(lambda x,y : x+y, numbers)"
      ],
      "metadata": {
        "colab": {
          "base_uri": "https://localhost:8080/"
        },
        "id": "fdK2v_rOfxGQ",
        "outputId": "72ff0e35-3e22-478a-bc05-dcee5cabd427"
      },
      "execution_count": 26,
      "outputs": [
        {
          "output_type": "execute_result",
          "data": {
            "text/plain": [
              "55"
            ]
          },
          "metadata": {},
          "execution_count": 26
        }
      ]
    },
    {
      "cell_type": "markdown",
      "source": [
        "주어진 숫자 리스트의 최댓값을 찾는 예제"
      ],
      "metadata": {
        "id": "HaoViO57g3gu"
      }
    },
    {
      "cell_type": "code",
      "source": [
        "import random\n",
        "numbers = [random.randint(1,100) for i in range(10)]\n",
        "print(reduce(lambda x,y : x if x > y else y, numbers))\n",
        "print(numbers)"
      ],
      "metadata": {
        "colab": {
          "base_uri": "https://localhost:8080/"
        },
        "id": "Ax8qeZWsgYDO",
        "outputId": "f84af0c8-31e1-43f1-81a0-beb01a69065e"
      },
      "execution_count": 32,
      "outputs": [
        {
          "output_type": "stream",
          "name": "stdout",
          "text": [
            "91\n",
            "[80, 7, 76, 36, 91, 11, 89, 84, 61, 83]\n"
          ]
        }
      ]
    },
    {
      "cell_type": "code",
      "source": [
        "words = ['abc','ccc','ddd','fff']\n",
        "\"\".join(words)"
      ],
      "metadata": {
        "colab": {
          "base_uri": "https://localhost:8080/",
          "height": 35
        },
        "id": "SoguITDIkh0t",
        "outputId": "88f420fe-80c3-45f7-a0ea-6cdc1423820f"
      },
      "execution_count": 33,
      "outputs": [
        {
          "output_type": "execute_result",
          "data": {
            "text/plain": [
              "'abccccdddfff'"
            ],
            "application/vnd.google.colaboratory.intrinsic+json": {
              "type": "string"
            }
          },
          "metadata": {},
          "execution_count": 33
        }
      ]
    },
    {
      "cell_type": "code",
      "source": [
        "reduce(lambda x,y : x+y, words)"
      ],
      "metadata": {
        "colab": {
          "base_uri": "https://localhost:8080/",
          "height": 35
        },
        "id": "wvBzYv9slOJt",
        "outputId": "102ce0f4-f021-45d7-ced7-5946fa40c0d8"
      },
      "execution_count": 34,
      "outputs": [
        {
          "output_type": "execute_result",
          "data": {
            "text/plain": [
              "'abccccdddfff'"
            ],
            "application/vnd.google.colaboratory.intrinsic+json": {
              "type": "string"
            }
          },
          "metadata": {},
          "execution_count": 34
        }
      ]
    },
    {
      "cell_type": "code",
      "source": [
        "import random\n",
        "numbers = [random.randint(1,100) for i in range(10)]\n",
        "numbers"
      ],
      "metadata": {
        "colab": {
          "base_uri": "https://localhost:8080/"
        },
        "id": "zKecn9nylV49",
        "outputId": "790efe9c-51d2-47f2-828d-a39b9e24f681"
      },
      "execution_count": 35,
      "outputs": [
        {
          "output_type": "execute_result",
          "data": {
            "text/plain": [
              "[51, 69, 57, 44, 40, 89, 85, 11, 30, 78]"
            ]
          },
          "metadata": {},
          "execution_count": 35
        }
      ]
    },
    {
      "cell_type": "code",
      "source": [
        "# 두개의 변수를 서로 교환\n",
        "x = 10\n",
        "y = 20\n",
        "x,y = y,x"
      ],
      "metadata": {
        "id": "rZ26RiwKlj_M"
      },
      "execution_count": 38,
      "outputs": []
    },
    {
      "cell_type": "code",
      "source": [],
      "metadata": {
        "id": "KBMjZt1iltpV"
      },
      "execution_count": null,
      "outputs": []
    }
  ]
}