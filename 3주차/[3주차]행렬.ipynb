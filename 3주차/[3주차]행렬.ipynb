{
  "nbformat": 4,
  "nbformat_minor": 0,
  "metadata": {
    "colab": {
      "provenance": []
    },
    "kernelspec": {
      "name": "python3",
      "display_name": "Python 3"
    },
    "language_info": {
      "name": "python"
    }
  },
  "cells": [
    {
      "cell_type": "markdown",
      "source": [
        "행렬\n",
        "  - 2차원 리스트로 구현\n",
        "  - matrix\n",
        "  - 차후에는 numpy가 행렬을 완벽하게 구현\n",
        "  - 수학에서 행렬 연산 지원하지 않는다.\n",
        "    - 지원 : numpy"
      ],
      "metadata": {
        "id": "aeoH2sJYnVmg"
      }
    },
    {
      "cell_type": "code",
      "execution_count": 2,
      "metadata": {
        "id": "1EjgdrvKnRw4"
      },
      "outputs": [],
      "source": [
        "# 3 x 3 행렬\n",
        "matrix = [\n",
        "    [1,2,3],\n",
        "    [4,5,6],\n",
        "    [7,8,9]\n",
        "]\n",
        "vector = [1,2,3]"
      ]
    },
    {
      "cell_type": "code",
      "source": [
        "print(vector[0])\n",
        "print(matrix[0][0])\n",
        "print(matrix[1][1])"
      ],
      "metadata": {
        "colab": {
          "base_uri": "https://localhost:8080/"
        },
        "id": "txoXudq4nWFP",
        "outputId": "40fd8531-60f3-49ce-f30e-c1d89942381e"
      },
      "execution_count": 5,
      "outputs": [
        {
          "output_type": "stream",
          "name": "stdout",
          "text": [
            "1\n",
            "1\n",
            "5\n"
          ]
        }
      ]
    },
    {
      "cell_type": "code",
      "source": [
        "# 1차원 리스트에서 모든 요소를 순환하는 순환문?\n",
        "for i in vector:\n",
        "  pass"
      ],
      "metadata": {
        "id": "DFK_qBXaof-1"
      },
      "execution_count": 6,
      "outputs": []
    },
    {
      "cell_type": "code",
      "source": [
        "# matric 모든 요소를 순환하는 순환문?\n",
        "for i in matrix:\n",
        "  for k in i:\n",
        "    print( k )"
      ],
      "metadata": {
        "id": "orF81RZTo-xt"
      },
      "execution_count": null,
      "outputs": []
    },
    {
      "cell_type": "code",
      "source": [
        "# matric 모든 요소를 순환하는 순환문 index 이용?\n",
        "# matrix[?][?]\n",
        "for row in range(len(matrix)):\n",
        "  for col in range(len(matrix[row])):\n",
        "    matrix[row][col]\n"
      ],
      "metadata": {
        "id": "1tty1QZnpXp0"
      },
      "execution_count": 9,
      "outputs": []
    },
    {
      "cell_type": "code",
      "source": [
        "def displayMatrix(matrix):\n",
        "  for row in matrix:\n",
        "    print(row)"
      ],
      "metadata": {
        "id": "AZ058frJq_pM"
      },
      "execution_count": 12,
      "outputs": []
    },
    {
      "cell_type": "code",
      "source": [
        "matrix = [\n",
        "    [1,2,3],\n",
        "    [4,5,6],\n",
        "    [7,8,9]\n",
        "]\n",
        "# 1. 가로들의 합을 리스트로\n",
        "[sum(row) for row in matrix]\n",
        "# 2. 세로들의 합을 리스트로\n",
        "# [0][0] + [1][0] + [2][0],\n",
        "# [0][1] + [1][1] + [2][1],\n",
        "# [0][2] + [1][2] + [2][2]\n",
        "\n",
        "sum([ matrix[i][0] for i in range(3)])\n",
        "sum([ matrix[i][1] for i in range(3)])\n",
        "sum([ matrix[i][2] for i in range(3)])\n",
        "\n",
        "[    sum([ matrix[i][z] for i in range(3)])         for z in range(3)]\n",
        "\n",
        "\n",
        "# 3.\n",
        "# [1,  2,  3,   6]\n",
        "# [4,  5,  6,  15]\n",
        "# [7,  8,  9,  24]\n",
        "# [12, 15, 18, 45]\n",
        "\n",
        "# 출력 : displayMatrix\n"
      ],
      "metadata": {
        "colab": {
          "base_uri": "https://localhost:8080/"
        },
        "id": "wa1jp_xTprVM",
        "outputId": "8e931134-7208-478c-d70f-9225ecc77d7b"
      },
      "execution_count": 18,
      "outputs": [
        {
          "output_type": "execute_result",
          "data": {
            "text/plain": [
              "[12, 15, 18]"
            ]
          },
          "metadata": {},
          "execution_count": 18
        }
      ]
    },
    {
      "cell_type": "code",
      "source": [],
      "metadata": {
        "id": "psLnBhYPq8Nr"
      },
      "execution_count": null,
      "outputs": []
    }
  ]
}