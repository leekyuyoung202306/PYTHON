{
  "nbformat": 4,
  "nbformat_minor": 0,
  "metadata": {
    "colab": {
      "provenance": []
    },
    "kernelspec": {
      "name": "python3",
      "display_name": "Python 3"
    },
    "language_info": {
      "name": "python"
    },
    "widgets": {
      "application/vnd.jupyter.widget-state+json": {
        "2c25742ce5ee4d35b57746fc394b0d65": {
          "model_module": "@jupyter-widgets/controls",
          "model_name": "HBoxModel",
          "model_module_version": "1.5.0",
          "state": {
            "_dom_classes": [],
            "_model_module": "@jupyter-widgets/controls",
            "_model_module_version": "1.5.0",
            "_model_name": "HBoxModel",
            "_view_count": null,
            "_view_module": "@jupyter-widgets/controls",
            "_view_module_version": "1.5.0",
            "_view_name": "HBoxView",
            "box_style": "",
            "children": [
              "IPY_MODEL_455b2bad8b8542cf9c906a985cb30165",
              "IPY_MODEL_a78b9cb54464477d8c550d42c8dd1973",
              "IPY_MODEL_dc7f280552d145ae8833f07f72049e0a"
            ],
            "layout": "IPY_MODEL_52af5794b20340d1a58a05c5297e0707"
          }
        },
        "455b2bad8b8542cf9c906a985cb30165": {
          "model_module": "@jupyter-widgets/controls",
          "model_name": "HTMLModel",
          "model_module_version": "1.5.0",
          "state": {
            "_dom_classes": [],
            "_model_module": "@jupyter-widgets/controls",
            "_model_module_version": "1.5.0",
            "_model_name": "HTMLModel",
            "_view_count": null,
            "_view_module": "@jupyter-widgets/controls",
            "_view_module_version": "1.5.0",
            "_view_name": "HTMLView",
            "description": "",
            "description_tooltip": null,
            "layout": "IPY_MODEL_bf5602463d3c4822ac3615f0d8aba7e4",
            "placeholder": "​",
            "style": "IPY_MODEL_91648ef7a1574a95961ef7cc80b94617",
            "value": "model.safetensors:  61%"
          }
        },
        "a78b9cb54464477d8c550d42c8dd1973": {
          "model_module": "@jupyter-widgets/controls",
          "model_name": "FloatProgressModel",
          "model_module_version": "1.5.0",
          "state": {
            "_dom_classes": [],
            "_model_module": "@jupyter-widgets/controls",
            "_model_module_version": "1.5.0",
            "_model_name": "FloatProgressModel",
            "_view_count": null,
            "_view_module": "@jupyter-widgets/controls",
            "_view_module_version": "1.5.0",
            "_view_name": "ProgressView",
            "bar_style": "",
            "description": "",
            "description_tooltip": null,
            "layout": "IPY_MODEL_889aaa7636ee439b90047440b514b7b5",
            "max": 1115567652,
            "min": 0,
            "orientation": "horizontal",
            "style": "IPY_MODEL_9bfbdd2a71b2428d9f7c6ed60f6bfbc8",
            "value": 681574400
          }
        },
        "dc7f280552d145ae8833f07f72049e0a": {
          "model_module": "@jupyter-widgets/controls",
          "model_name": "HTMLModel",
          "model_module_version": "1.5.0",
          "state": {
            "_dom_classes": [],
            "_model_module": "@jupyter-widgets/controls",
            "_model_module_version": "1.5.0",
            "_model_name": "HTMLModel",
            "_view_count": null,
            "_view_module": "@jupyter-widgets/controls",
            "_view_module_version": "1.5.0",
            "_view_name": "HTMLView",
            "description": "",
            "description_tooltip": null,
            "layout": "IPY_MODEL_40253f522d8545418d0e9ccdfeb8542e",
            "placeholder": "​",
            "style": "IPY_MODEL_5118930049a44e70beafb940e44d4b71",
            "value": " 682M/1.12G [00:10&lt;00:08, 52.7MB/s]"
          }
        },
        "52af5794b20340d1a58a05c5297e0707": {
          "model_module": "@jupyter-widgets/base",
          "model_name": "LayoutModel",
          "model_module_version": "1.2.0",
          "state": {
            "_model_module": "@jupyter-widgets/base",
            "_model_module_version": "1.2.0",
            "_model_name": "LayoutModel",
            "_view_count": null,
            "_view_module": "@jupyter-widgets/base",
            "_view_module_version": "1.2.0",
            "_view_name": "LayoutView",
            "align_content": null,
            "align_items": null,
            "align_self": null,
            "border": null,
            "bottom": null,
            "display": null,
            "flex": null,
            "flex_flow": null,
            "grid_area": null,
            "grid_auto_columns": null,
            "grid_auto_flow": null,
            "grid_auto_rows": null,
            "grid_column": null,
            "grid_gap": null,
            "grid_row": null,
            "grid_template_areas": null,
            "grid_template_columns": null,
            "grid_template_rows": null,
            "height": null,
            "justify_content": null,
            "justify_items": null,
            "left": null,
            "margin": null,
            "max_height": null,
            "max_width": null,
            "min_height": null,
            "min_width": null,
            "object_fit": null,
            "object_position": null,
            "order": null,
            "overflow": null,
            "overflow_x": null,
            "overflow_y": null,
            "padding": null,
            "right": null,
            "top": null,
            "visibility": null,
            "width": null
          }
        },
        "bf5602463d3c4822ac3615f0d8aba7e4": {
          "model_module": "@jupyter-widgets/base",
          "model_name": "LayoutModel",
          "model_module_version": "1.2.0",
          "state": {
            "_model_module": "@jupyter-widgets/base",
            "_model_module_version": "1.2.0",
            "_model_name": "LayoutModel",
            "_view_count": null,
            "_view_module": "@jupyter-widgets/base",
            "_view_module_version": "1.2.0",
            "_view_name": "LayoutView",
            "align_content": null,
            "align_items": null,
            "align_self": null,
            "border": null,
            "bottom": null,
            "display": null,
            "flex": null,
            "flex_flow": null,
            "grid_area": null,
            "grid_auto_columns": null,
            "grid_auto_flow": null,
            "grid_auto_rows": null,
            "grid_column": null,
            "grid_gap": null,
            "grid_row": null,
            "grid_template_areas": null,
            "grid_template_columns": null,
            "grid_template_rows": null,
            "height": null,
            "justify_content": null,
            "justify_items": null,
            "left": null,
            "margin": null,
            "max_height": null,
            "max_width": null,
            "min_height": null,
            "min_width": null,
            "object_fit": null,
            "object_position": null,
            "order": null,
            "overflow": null,
            "overflow_x": null,
            "overflow_y": null,
            "padding": null,
            "right": null,
            "top": null,
            "visibility": null,
            "width": null
          }
        },
        "91648ef7a1574a95961ef7cc80b94617": {
          "model_module": "@jupyter-widgets/controls",
          "model_name": "DescriptionStyleModel",
          "model_module_version": "1.5.0",
          "state": {
            "_model_module": "@jupyter-widgets/controls",
            "_model_module_version": "1.5.0",
            "_model_name": "DescriptionStyleModel",
            "_view_count": null,
            "_view_module": "@jupyter-widgets/base",
            "_view_module_version": "1.2.0",
            "_view_name": "StyleView",
            "description_width": ""
          }
        },
        "889aaa7636ee439b90047440b514b7b5": {
          "model_module": "@jupyter-widgets/base",
          "model_name": "LayoutModel",
          "model_module_version": "1.2.0",
          "state": {
            "_model_module": "@jupyter-widgets/base",
            "_model_module_version": "1.2.0",
            "_model_name": "LayoutModel",
            "_view_count": null,
            "_view_module": "@jupyter-widgets/base",
            "_view_module_version": "1.2.0",
            "_view_name": "LayoutView",
            "align_content": null,
            "align_items": null,
            "align_self": null,
            "border": null,
            "bottom": null,
            "display": null,
            "flex": null,
            "flex_flow": null,
            "grid_area": null,
            "grid_auto_columns": null,
            "grid_auto_flow": null,
            "grid_auto_rows": null,
            "grid_column": null,
            "grid_gap": null,
            "grid_row": null,
            "grid_template_areas": null,
            "grid_template_columns": null,
            "grid_template_rows": null,
            "height": null,
            "justify_content": null,
            "justify_items": null,
            "left": null,
            "margin": null,
            "max_height": null,
            "max_width": null,
            "min_height": null,
            "min_width": null,
            "object_fit": null,
            "object_position": null,
            "order": null,
            "overflow": null,
            "overflow_x": null,
            "overflow_y": null,
            "padding": null,
            "right": null,
            "top": null,
            "visibility": null,
            "width": null
          }
        },
        "9bfbdd2a71b2428d9f7c6ed60f6bfbc8": {
          "model_module": "@jupyter-widgets/controls",
          "model_name": "ProgressStyleModel",
          "model_module_version": "1.5.0",
          "state": {
            "_model_module": "@jupyter-widgets/controls",
            "_model_module_version": "1.5.0",
            "_model_name": "ProgressStyleModel",
            "_view_count": null,
            "_view_module": "@jupyter-widgets/base",
            "_view_module_version": "1.2.0",
            "_view_name": "StyleView",
            "bar_color": null,
            "description_width": ""
          }
        },
        "40253f522d8545418d0e9ccdfeb8542e": {
          "model_module": "@jupyter-widgets/base",
          "model_name": "LayoutModel",
          "model_module_version": "1.2.0",
          "state": {
            "_model_module": "@jupyter-widgets/base",
            "_model_module_version": "1.2.0",
            "_model_name": "LayoutModel",
            "_view_count": null,
            "_view_module": "@jupyter-widgets/base",
            "_view_module_version": "1.2.0",
            "_view_name": "LayoutView",
            "align_content": null,
            "align_items": null,
            "align_self": null,
            "border": null,
            "bottom": null,
            "display": null,
            "flex": null,
            "flex_flow": null,
            "grid_area": null,
            "grid_auto_columns": null,
            "grid_auto_flow": null,
            "grid_auto_rows": null,
            "grid_column": null,
            "grid_gap": null,
            "grid_row": null,
            "grid_template_areas": null,
            "grid_template_columns": null,
            "grid_template_rows": null,
            "height": null,
            "justify_content": null,
            "justify_items": null,
            "left": null,
            "margin": null,
            "max_height": null,
            "max_width": null,
            "min_height": null,
            "min_width": null,
            "object_fit": null,
            "object_position": null,
            "order": null,
            "overflow": null,
            "overflow_x": null,
            "overflow_y": null,
            "padding": null,
            "right": null,
            "top": null,
            "visibility": null,
            "width": null
          }
        },
        "5118930049a44e70beafb940e44d4b71": {
          "model_module": "@jupyter-widgets/controls",
          "model_name": "DescriptionStyleModel",
          "model_module_version": "1.5.0",
          "state": {
            "_model_module": "@jupyter-widgets/controls",
            "_model_module_version": "1.5.0",
            "_model_name": "DescriptionStyleModel",
            "_view_count": null,
            "_view_module": "@jupyter-widgets/base",
            "_view_module_version": "1.2.0",
            "_view_name": "StyleView",
            "description_width": ""
          }
        }
      }
    }
  },
  "cells": [
    {
      "cell_type": "markdown",
      "source": [
        "XLM-RoBERTa 모델을 개체명 인식(NER)을 수행하도록 미세 튜닝하는 방법"
      ],
      "metadata": {
        "id": "n3_wbgRdqUaE"
      }
    },
    {
      "cell_type": "markdown",
      "source": [
        "참고하는 데이터 포멧 : https://en.wikipedia.org/wiki/Inside%E2%80%93outside%E2%80%93beginning_(tagging)"
      ],
      "metadata": {
        "id": "Lk9jgcejqxoA"
      }
    },
    {
      "cell_type": "code",
      "source": [
        "!pip install datasets"
      ],
      "metadata": {
        "colab": {
          "base_uri": "https://localhost:8080/"
        },
        "id": "lotlitUsrveT",
        "outputId": "a0c75e90-6c0b-4ad2-ae17-6249835aa173"
      },
      "execution_count": 34,
      "outputs": [
        {
          "output_type": "stream",
          "name": "stdout",
          "text": [
            "Requirement already satisfied: datasets in /usr/local/lib/python3.10/dist-packages (2.14.6)\n",
            "Requirement already satisfied: numpy>=1.17 in /usr/local/lib/python3.10/dist-packages (from datasets) (1.23.5)\n",
            "Requirement already satisfied: pyarrow>=8.0.0 in /usr/local/lib/python3.10/dist-packages (from datasets) (9.0.0)\n",
            "Requirement already satisfied: dill<0.3.8,>=0.3.0 in /usr/local/lib/python3.10/dist-packages (from datasets) (0.3.7)\n",
            "Requirement already satisfied: pandas in /usr/local/lib/python3.10/dist-packages (from datasets) (1.5.3)\n",
            "Requirement already satisfied: requests>=2.19.0 in /usr/local/lib/python3.10/dist-packages (from datasets) (2.31.0)\n",
            "Requirement already satisfied: tqdm>=4.62.1 in /usr/local/lib/python3.10/dist-packages (from datasets) (4.66.1)\n",
            "Requirement already satisfied: xxhash in /usr/local/lib/python3.10/dist-packages (from datasets) (3.4.1)\n",
            "Requirement already satisfied: multiprocess in /usr/local/lib/python3.10/dist-packages (from datasets) (0.70.15)\n",
            "Requirement already satisfied: fsspec[http]<=2023.10.0,>=2023.1.0 in /usr/local/lib/python3.10/dist-packages (from datasets) (2023.6.0)\n",
            "Requirement already satisfied: aiohttp in /usr/local/lib/python3.10/dist-packages (from datasets) (3.8.6)\n",
            "Requirement already satisfied: huggingface-hub<1.0.0,>=0.14.0 in /usr/local/lib/python3.10/dist-packages (from datasets) (0.17.3)\n",
            "Requirement already satisfied: packaging in /usr/local/lib/python3.10/dist-packages (from datasets) (23.2)\n",
            "Requirement already satisfied: pyyaml>=5.1 in /usr/local/lib/python3.10/dist-packages (from datasets) (6.0.1)\n",
            "Requirement already satisfied: attrs>=17.3.0 in /usr/local/lib/python3.10/dist-packages (from aiohttp->datasets) (23.1.0)\n",
            "Requirement already satisfied: charset-normalizer<4.0,>=2.0 in /usr/local/lib/python3.10/dist-packages (from aiohttp->datasets) (3.3.1)\n",
            "Requirement already satisfied: multidict<7.0,>=4.5 in /usr/local/lib/python3.10/dist-packages (from aiohttp->datasets) (6.0.4)\n",
            "Requirement already satisfied: async-timeout<5.0,>=4.0.0a3 in /usr/local/lib/python3.10/dist-packages (from aiohttp->datasets) (4.0.3)\n",
            "Requirement already satisfied: yarl<2.0,>=1.0 in /usr/local/lib/python3.10/dist-packages (from aiohttp->datasets) (1.9.2)\n",
            "Requirement already satisfied: frozenlist>=1.1.1 in /usr/local/lib/python3.10/dist-packages (from aiohttp->datasets) (1.4.0)\n",
            "Requirement already satisfied: aiosignal>=1.1.2 in /usr/local/lib/python3.10/dist-packages (from aiohttp->datasets) (1.3.1)\n",
            "Requirement already satisfied: filelock in /usr/local/lib/python3.10/dist-packages (from huggingface-hub<1.0.0,>=0.14.0->datasets) (3.12.4)\n",
            "Requirement already satisfied: typing-extensions>=3.7.4.3 in /usr/local/lib/python3.10/dist-packages (from huggingface-hub<1.0.0,>=0.14.0->datasets) (4.5.0)\n",
            "Requirement already satisfied: idna<4,>=2.5 in /usr/local/lib/python3.10/dist-packages (from requests>=2.19.0->datasets) (3.4)\n",
            "Requirement already satisfied: urllib3<3,>=1.21.1 in /usr/local/lib/python3.10/dist-packages (from requests>=2.19.0->datasets) (2.0.7)\n",
            "Requirement already satisfied: certifi>=2017.4.17 in /usr/local/lib/python3.10/dist-packages (from requests>=2.19.0->datasets) (2023.7.22)\n",
            "Requirement already satisfied: python-dateutil>=2.8.1 in /usr/local/lib/python3.10/dist-packages (from pandas->datasets) (2.8.2)\n",
            "Requirement already satisfied: pytz>=2020.1 in /usr/local/lib/python3.10/dist-packages (from pandas->datasets) (2023.3.post1)\n",
            "Requirement already satisfied: six>=1.5 in /usr/local/lib/python3.10/dist-packages (from python-dateutil>=2.8.1->pandas->datasets) (1.16.0)\n"
          ]
        }
      ]
    },
    {
      "cell_type": "code",
      "source": [
        "from datasets import get_dataset_config_names\n",
        "xtreme_subsets = get_dataset_config_names('xtreme')\n",
        "len(xtreme_subsets)  # 서브셋 개수"
      ],
      "metadata": {
        "colab": {
          "base_uri": "https://localhost:8080/"
        },
        "id": "-uTqb0m7r9xA",
        "outputId": "c18b5dc0-bb2d-4423-a83c-fb06edb51c48"
      },
      "execution_count": 35,
      "outputs": [
        {
          "output_type": "execute_result",
          "data": {
            "text/plain": [
              "183"
            ]
          },
          "metadata": {},
          "execution_count": 35
        }
      ]
    },
    {
      "cell_type": "code",
      "source": [
        " # Plagiarism Detection Across Languages  :  PAN-X  다양한 언어로 작성된 텍스트에서 표절 감지를 수행하기 위한 데이터\n",
        " panx_subsets =  [s for s in xtreme_subsets if s.startswith('PAN')]\n",
        " panx_subsets[:5]"
      ],
      "metadata": {
        "colab": {
          "base_uri": "https://localhost:8080/"
        },
        "id": "jF3UoMPNsOw_",
        "outputId": "6ce3cfc0-483c-4576-9875-b2dfd1698d43"
      },
      "execution_count": 36,
      "outputs": [
        {
          "output_type": "execute_result",
          "data": {
            "text/plain": [
              "['PAN-X.af', 'PAN-X.ar', 'PAN-X.bg', 'PAN-X.bn', 'PAN-X.de']"
            ]
          },
          "metadata": {},
          "execution_count": 36
        }
      ]
    },
    {
      "cell_type": "code",
      "source": [
        "# 독일어 에 해당하는 코드를 전달\n",
        "from datasets import load_dataset\n",
        "load_dataset('xtreme', name = 'PAN-X.de')"
      ],
      "metadata": {
        "colab": {
          "base_uri": "https://localhost:8080/"
        },
        "id": "6G6XmprHsSI9",
        "outputId": "962af2d3-1b3c-4d00-80fa-7adbc766accd"
      },
      "execution_count": 37,
      "outputs": [
        {
          "output_type": "execute_result",
          "data": {
            "text/plain": [
              "DatasetDict({\n",
              "    train: Dataset({\n",
              "        features: ['tokens', 'ner_tags', 'langs'],\n",
              "        num_rows: 20000\n",
              "    })\n",
              "    validation: Dataset({\n",
              "        features: ['tokens', 'ner_tags', 'langs'],\n",
              "        num_rows: 10000\n",
              "    })\n",
              "    test: Dataset({\n",
              "        features: ['tokens', 'ner_tags', 'langs'],\n",
              "        num_rows: 10000\n",
              "    })\n",
              "})"
            ]
          },
          "metadata": {},
          "execution_count": 37
        }
      ]
    },
    {
      "cell_type": "code",
      "source": [
        "# 스위스 말뭉치 = 스위스에서 사용되는 언어비율로 PAN-X 에서 독일어, 프랑스어 이탈리아어 영어 말뭉치를  샘플링\n",
        "# 데이터가 불균형하게 만들어진다\n",
        "# 각 언어를 추적하는  defaultdict 객체를 만든다 , 언어코드를 키로하고  DatasetDict 타입의 PAN-X말뭉치를 값으로 저장\n",
        "from collections import defaultdict\n",
        "from datasets import DatasetDict\n",
        "langs = ['de','fr','it','en']\n",
        "fracs = [0.629,0.228,0.084,0.059]"
      ],
      "metadata": {
        "id": "UKS0L7Sutgn4"
      },
      "execution_count": 38,
      "outputs": []
    },
    {
      "cell_type": "code",
      "source": [
        "# 키가 없는경우 DatasetDict 를 반환\n",
        "panx_ch = defaultdict(DatasetDict)\n",
        "for lang,frac in zip(langs,fracs):\n",
        "  # 다국어 말뭉치를 로드한다\n",
        "  ds = load_dataset('xtreme', name=f\"PAN-X.{lang}\")\n",
        "  # 각 분할을 언어 비율에 따라 다운셈플링하고 섞음\n",
        "  for split in ds:\n",
        "    panx_ch[lang][split] = (\n",
        "        ds[split].shuffle(seed=0).select(range(int(frac*ds[split].num_rows)))\n",
        "    )"
      ],
      "metadata": {
        "id": "hEt2md62urT1"
      },
      "execution_count": 39,
      "outputs": []
    },
    {
      "cell_type": "code",
      "source": [
        "# 데이터 확인\n",
        "import pandas as pd\n",
        "pd.DataFrame({lang: [ panx_ch[lang]['train'].num_rows] for lang in langs },index = [\"Number of training examples\"] )"
      ],
      "metadata": {
        "colab": {
          "base_uri": "https://localhost:8080/",
          "height": 80
        },
        "id": "r_iwSXCtvMGH",
        "outputId": "87cd74b2-c560-49a3-c084-fac5f04a9233"
      },
      "execution_count": 40,
      "outputs": [
        {
          "output_type": "execute_result",
          "data": {
            "text/plain": [
              "                                de    fr    it    en\n",
              "Number of training examples  12580  4560  1680  1180"
            ],
            "text/html": [
              "\n",
              "  <div id=\"df-7891fd61-9f9f-4384-9648-f90f7504b9a9\" class=\"colab-df-container\">\n",
              "    <div>\n",
              "<style scoped>\n",
              "    .dataframe tbody tr th:only-of-type {\n",
              "        vertical-align: middle;\n",
              "    }\n",
              "\n",
              "    .dataframe tbody tr th {\n",
              "        vertical-align: top;\n",
              "    }\n",
              "\n",
              "    .dataframe thead th {\n",
              "        text-align: right;\n",
              "    }\n",
              "</style>\n",
              "<table border=\"1\" class=\"dataframe\">\n",
              "  <thead>\n",
              "    <tr style=\"text-align: right;\">\n",
              "      <th></th>\n",
              "      <th>de</th>\n",
              "      <th>fr</th>\n",
              "      <th>it</th>\n",
              "      <th>en</th>\n",
              "    </tr>\n",
              "  </thead>\n",
              "  <tbody>\n",
              "    <tr>\n",
              "      <th>Number of training examples</th>\n",
              "      <td>12580</td>\n",
              "      <td>4560</td>\n",
              "      <td>1680</td>\n",
              "      <td>1180</td>\n",
              "    </tr>\n",
              "  </tbody>\n",
              "</table>\n",
              "</div>\n",
              "    <div class=\"colab-df-buttons\">\n",
              "\n",
              "  <div class=\"colab-df-container\">\n",
              "    <button class=\"colab-df-convert\" onclick=\"convertToInteractive('df-7891fd61-9f9f-4384-9648-f90f7504b9a9')\"\n",
              "            title=\"Convert this dataframe to an interactive table.\"\n",
              "            style=\"display:none;\">\n",
              "\n",
              "  <svg xmlns=\"http://www.w3.org/2000/svg\" height=\"24px\" viewBox=\"0 -960 960 960\">\n",
              "    <path d=\"M120-120v-720h720v720H120Zm60-500h600v-160H180v160Zm220 220h160v-160H400v160Zm0 220h160v-160H400v160ZM180-400h160v-160H180v160Zm440 0h160v-160H620v160ZM180-180h160v-160H180v160Zm440 0h160v-160H620v160Z\"/>\n",
              "  </svg>\n",
              "    </button>\n",
              "\n",
              "  <style>\n",
              "    .colab-df-container {\n",
              "      display:flex;\n",
              "      gap: 12px;\n",
              "    }\n",
              "\n",
              "    .colab-df-convert {\n",
              "      background-color: #E8F0FE;\n",
              "      border: none;\n",
              "      border-radius: 50%;\n",
              "      cursor: pointer;\n",
              "      display: none;\n",
              "      fill: #1967D2;\n",
              "      height: 32px;\n",
              "      padding: 0 0 0 0;\n",
              "      width: 32px;\n",
              "    }\n",
              "\n",
              "    .colab-df-convert:hover {\n",
              "      background-color: #E2EBFA;\n",
              "      box-shadow: 0px 1px 2px rgba(60, 64, 67, 0.3), 0px 1px 3px 1px rgba(60, 64, 67, 0.15);\n",
              "      fill: #174EA6;\n",
              "    }\n",
              "\n",
              "    .colab-df-buttons div {\n",
              "      margin-bottom: 4px;\n",
              "    }\n",
              "\n",
              "    [theme=dark] .colab-df-convert {\n",
              "      background-color: #3B4455;\n",
              "      fill: #D2E3FC;\n",
              "    }\n",
              "\n",
              "    [theme=dark] .colab-df-convert:hover {\n",
              "      background-color: #434B5C;\n",
              "      box-shadow: 0px 1px 3px 1px rgba(0, 0, 0, 0.15);\n",
              "      filter: drop-shadow(0px 1px 2px rgba(0, 0, 0, 0.3));\n",
              "      fill: #FFFFFF;\n",
              "    }\n",
              "  </style>\n",
              "\n",
              "    <script>\n",
              "      const buttonEl =\n",
              "        document.querySelector('#df-7891fd61-9f9f-4384-9648-f90f7504b9a9 button.colab-df-convert');\n",
              "      buttonEl.style.display =\n",
              "        google.colab.kernel.accessAllowed ? 'block' : 'none';\n",
              "\n",
              "      async function convertToInteractive(key) {\n",
              "        const element = document.querySelector('#df-7891fd61-9f9f-4384-9648-f90f7504b9a9');\n",
              "        const dataTable =\n",
              "          await google.colab.kernel.invokeFunction('convertToInteractive',\n",
              "                                                    [key], {});\n",
              "        if (!dataTable) return;\n",
              "\n",
              "        const docLinkHtml = 'Like what you see? Visit the ' +\n",
              "          '<a target=\"_blank\" href=https://colab.research.google.com/notebooks/data_table.ipynb>data table notebook</a>'\n",
              "          + ' to learn more about interactive tables.';\n",
              "        element.innerHTML = '';\n",
              "        dataTable['output_type'] = 'display_data';\n",
              "        await google.colab.output.renderOutput(dataTable, element);\n",
              "        const docLink = document.createElement('div');\n",
              "        docLink.innerHTML = docLinkHtml;\n",
              "        element.appendChild(docLink);\n",
              "      }\n",
              "    </script>\n",
              "  </div>\n",
              "\n",
              "    </div>\n",
              "  </div>\n"
            ]
          },
          "metadata": {},
          "execution_count": 40
        }
      ]
    },
    {
      "cell_type": "code",
      "source": [
        "# 편향된 데이터를 가지고 제로샷 교차 언어 전이를 프랑스어, 이탈리아어, 영어에 수행\n",
        "# 독일어 말뭉치 셈플을 확인\n",
        "element =  panx_ch['de']['train'][0]\n",
        "for key,value in element.items():\n",
        "  print(f\"{key} : {value}\")"
      ],
      "metadata": {
        "colab": {
          "base_uri": "https://localhost:8080/"
        },
        "id": "FCnWgp4LwiUW",
        "outputId": "05ce5a7e-9bdb-4395-ff0b-74526d5a1007"
      },
      "execution_count": 41,
      "outputs": [
        {
          "output_type": "stream",
          "name": "stdout",
          "text": [
            "tokens : ['2.000', 'Einwohnern', 'an', 'der', 'Danziger', 'Bucht', 'in', 'der', 'polnischen', 'Woiwodschaft', 'Pommern', '.']\n",
            "ner_tags : [0, 0, 0, 0, 5, 6, 0, 0, 5, 5, 6, 0]\n",
            "langs : ['de', 'de', 'de', 'de', 'de', 'de', 'de', 'de', 'de', 'de', 'de', 'de']\n"
          ]
        }
      ]
    },
    {
      "cell_type": "code",
      "source": [
        "for key, value in panx_ch['de']['train'].features.items():\n",
        "  print(f\"{key}:{value}\")"
      ],
      "metadata": {
        "colab": {
          "base_uri": "https://localhost:8080/"
        },
        "id": "fPNBwt1gxEy3",
        "outputId": "96e9a47c-73d6-4b78-bf98-dd5581814603"
      },
      "execution_count": 42,
      "outputs": [
        {
          "output_type": "stream",
          "name": "stdout",
          "text": [
            "tokens:Sequence(feature=Value(dtype='string', id=None), length=-1, id=None)\n",
            "ner_tags:Sequence(feature=ClassLabel(names=['O', 'B-PER', 'I-PER', 'B-ORG', 'I-ORG', 'B-LOC', 'I-LOC'], id=None), length=-1, id=None)\n",
            "langs:Sequence(feature=Value(dtype='string', id=None), length=-1, id=None)\n"
          ]
        }
      ]
    },
    {
      "cell_type": "code",
      "source": [
        "tags = panx_ch['de']['train'].features['ner_tags'].feature\n",
        "tags"
      ],
      "metadata": {
        "colab": {
          "base_uri": "https://localhost:8080/"
        },
        "id": "jhH7aQfXxkHK",
        "outputId": "ed8b1d7b-b9c2-4347-a9f5-d2907b5cbc4f"
      },
      "execution_count": 43,
      "outputs": [
        {
          "output_type": "execute_result",
          "data": {
            "text/plain": [
              "ClassLabel(names=['O', 'B-PER', 'I-PER', 'B-ORG', 'I-ORG', 'B-LOC', 'I-LOC'], id=None)"
            ]
          },
          "metadata": {},
          "execution_count": 43
        }
      ]
    },
    {
      "cell_type": "code",
      "source": [
        "def create_tag_names(batch):\n",
        "  return{'ner_tags_str' : [ tags.int2str(idx) for idx in batch['ner_tags']] }\n",
        "\n",
        "panx_de = panx_ch['de'].map(create_tag_names)\n",
        "panx_de"
      ],
      "metadata": {
        "colab": {
          "base_uri": "https://localhost:8080/"
        },
        "id": "byko7E5Qxx_A",
        "outputId": "3bb9df0a-bb51-402e-cd11-e9dcddcb50c9"
      },
      "execution_count": 44,
      "outputs": [
        {
          "output_type": "execute_result",
          "data": {
            "text/plain": [
              "DatasetDict({\n",
              "    train: Dataset({\n",
              "        features: ['tokens', 'ner_tags', 'langs', 'ner_tags_str'],\n",
              "        num_rows: 12580\n",
              "    })\n",
              "    validation: Dataset({\n",
              "        features: ['tokens', 'ner_tags', 'langs', 'ner_tags_str'],\n",
              "        num_rows: 6290\n",
              "    })\n",
              "    test: Dataset({\n",
              "        features: ['tokens', 'ner_tags', 'langs', 'ner_tags_str'],\n",
              "        num_rows: 6290\n",
              "    })\n",
              "})"
            ]
          },
          "metadata": {},
          "execution_count": 44
        }
      ]
    },
    {
      "cell_type": "code",
      "source": [
        "de_example =  panx_de['train'][0]\n",
        "pd.DataFrame([de_example['tokens'], de_example['ner_tags_str']],['Tokens','Tags'] )"
      ],
      "metadata": {
        "colab": {
          "base_uri": "https://localhost:8080/",
          "height": 112
        },
        "id": "mffnZTHSyVO1",
        "outputId": "d8ac5a44-d43b-40cc-d853-919590a5bc69"
      },
      "execution_count": 45,
      "outputs": [
        {
          "output_type": "execute_result",
          "data": {
            "text/plain": [
              "           0           1   2    3         4      5   6    7           8   \\\n",
              "Tokens  2.000  Einwohnern  an  der  Danziger  Bucht  in  der  polnischen   \n",
              "Tags        O           O   O    O     B-LOC  I-LOC   O    O       B-LOC   \n",
              "\n",
              "                  9        10 11  \n",
              "Tokens  Woiwodschaft  Pommern  .  \n",
              "Tags           B-LOC    I-LOC  O  "
            ],
            "text/html": [
              "\n",
              "  <div id=\"df-0405d454-179a-4e5b-ab02-68c205a750fb\" class=\"colab-df-container\">\n",
              "    <div>\n",
              "<style scoped>\n",
              "    .dataframe tbody tr th:only-of-type {\n",
              "        vertical-align: middle;\n",
              "    }\n",
              "\n",
              "    .dataframe tbody tr th {\n",
              "        vertical-align: top;\n",
              "    }\n",
              "\n",
              "    .dataframe thead th {\n",
              "        text-align: right;\n",
              "    }\n",
              "</style>\n",
              "<table border=\"1\" class=\"dataframe\">\n",
              "  <thead>\n",
              "    <tr style=\"text-align: right;\">\n",
              "      <th></th>\n",
              "      <th>0</th>\n",
              "      <th>1</th>\n",
              "      <th>2</th>\n",
              "      <th>3</th>\n",
              "      <th>4</th>\n",
              "      <th>5</th>\n",
              "      <th>6</th>\n",
              "      <th>7</th>\n",
              "      <th>8</th>\n",
              "      <th>9</th>\n",
              "      <th>10</th>\n",
              "      <th>11</th>\n",
              "    </tr>\n",
              "  </thead>\n",
              "  <tbody>\n",
              "    <tr>\n",
              "      <th>Tokens</th>\n",
              "      <td>2.000</td>\n",
              "      <td>Einwohnern</td>\n",
              "      <td>an</td>\n",
              "      <td>der</td>\n",
              "      <td>Danziger</td>\n",
              "      <td>Bucht</td>\n",
              "      <td>in</td>\n",
              "      <td>der</td>\n",
              "      <td>polnischen</td>\n",
              "      <td>Woiwodschaft</td>\n",
              "      <td>Pommern</td>\n",
              "      <td>.</td>\n",
              "    </tr>\n",
              "    <tr>\n",
              "      <th>Tags</th>\n",
              "      <td>O</td>\n",
              "      <td>O</td>\n",
              "      <td>O</td>\n",
              "      <td>O</td>\n",
              "      <td>B-LOC</td>\n",
              "      <td>I-LOC</td>\n",
              "      <td>O</td>\n",
              "      <td>O</td>\n",
              "      <td>B-LOC</td>\n",
              "      <td>B-LOC</td>\n",
              "      <td>I-LOC</td>\n",
              "      <td>O</td>\n",
              "    </tr>\n",
              "  </tbody>\n",
              "</table>\n",
              "</div>\n",
              "    <div class=\"colab-df-buttons\">\n",
              "\n",
              "  <div class=\"colab-df-container\">\n",
              "    <button class=\"colab-df-convert\" onclick=\"convertToInteractive('df-0405d454-179a-4e5b-ab02-68c205a750fb')\"\n",
              "            title=\"Convert this dataframe to an interactive table.\"\n",
              "            style=\"display:none;\">\n",
              "\n",
              "  <svg xmlns=\"http://www.w3.org/2000/svg\" height=\"24px\" viewBox=\"0 -960 960 960\">\n",
              "    <path d=\"M120-120v-720h720v720H120Zm60-500h600v-160H180v160Zm220 220h160v-160H400v160Zm0 220h160v-160H400v160ZM180-400h160v-160H180v160Zm440 0h160v-160H620v160ZM180-180h160v-160H180v160Zm440 0h160v-160H620v160Z\"/>\n",
              "  </svg>\n",
              "    </button>\n",
              "\n",
              "  <style>\n",
              "    .colab-df-container {\n",
              "      display:flex;\n",
              "      gap: 12px;\n",
              "    }\n",
              "\n",
              "    .colab-df-convert {\n",
              "      background-color: #E8F0FE;\n",
              "      border: none;\n",
              "      border-radius: 50%;\n",
              "      cursor: pointer;\n",
              "      display: none;\n",
              "      fill: #1967D2;\n",
              "      height: 32px;\n",
              "      padding: 0 0 0 0;\n",
              "      width: 32px;\n",
              "    }\n",
              "\n",
              "    .colab-df-convert:hover {\n",
              "      background-color: #E2EBFA;\n",
              "      box-shadow: 0px 1px 2px rgba(60, 64, 67, 0.3), 0px 1px 3px 1px rgba(60, 64, 67, 0.15);\n",
              "      fill: #174EA6;\n",
              "    }\n",
              "\n",
              "    .colab-df-buttons div {\n",
              "      margin-bottom: 4px;\n",
              "    }\n",
              "\n",
              "    [theme=dark] .colab-df-convert {\n",
              "      background-color: #3B4455;\n",
              "      fill: #D2E3FC;\n",
              "    }\n",
              "\n",
              "    [theme=dark] .colab-df-convert:hover {\n",
              "      background-color: #434B5C;\n",
              "      box-shadow: 0px 1px 3px 1px rgba(0, 0, 0, 0.15);\n",
              "      filter: drop-shadow(0px 1px 2px rgba(0, 0, 0, 0.3));\n",
              "      fill: #FFFFFF;\n",
              "    }\n",
              "  </style>\n",
              "\n",
              "    <script>\n",
              "      const buttonEl =\n",
              "        document.querySelector('#df-0405d454-179a-4e5b-ab02-68c205a750fb button.colab-df-convert');\n",
              "      buttonEl.style.display =\n",
              "        google.colab.kernel.accessAllowed ? 'block' : 'none';\n",
              "\n",
              "      async function convertToInteractive(key) {\n",
              "        const element = document.querySelector('#df-0405d454-179a-4e5b-ab02-68c205a750fb');\n",
              "        const dataTable =\n",
              "          await google.colab.kernel.invokeFunction('convertToInteractive',\n",
              "                                                    [key], {});\n",
              "        if (!dataTable) return;\n",
              "\n",
              "        const docLinkHtml = 'Like what you see? Visit the ' +\n",
              "          '<a target=\"_blank\" href=https://colab.research.google.com/notebooks/data_table.ipynb>data table notebook</a>'\n",
              "          + ' to learn more about interactive tables.';\n",
              "        element.innerHTML = '';\n",
              "        dataTable['output_type'] = 'display_data';\n",
              "        await google.colab.output.renderOutput(dataTable, element);\n",
              "        const docLink = document.createElement('div');\n",
              "        docLink.innerHTML = docLinkHtml;\n",
              "        element.appendChild(docLink);\n",
              "      }\n",
              "    </script>\n",
              "  </div>\n",
              "\n",
              "\n",
              "<div id=\"df-87ead574-c659-4e90-939c-6ee9b0a793f0\">\n",
              "  <button class=\"colab-df-quickchart\" onclick=\"quickchart('df-87ead574-c659-4e90-939c-6ee9b0a793f0')\"\n",
              "            title=\"Suggest charts.\"\n",
              "            style=\"display:none;\">\n",
              "\n",
              "<svg xmlns=\"http://www.w3.org/2000/svg\" height=\"24px\"viewBox=\"0 0 24 24\"\n",
              "     width=\"24px\">\n",
              "    <g>\n",
              "        <path d=\"M19 3H5c-1.1 0-2 .9-2 2v14c0 1.1.9 2 2 2h14c1.1 0 2-.9 2-2V5c0-1.1-.9-2-2-2zM9 17H7v-7h2v7zm4 0h-2V7h2v10zm4 0h-2v-4h2v4z\"/>\n",
              "    </g>\n",
              "</svg>\n",
              "  </button>\n",
              "\n",
              "<style>\n",
              "  .colab-df-quickchart {\n",
              "      --bg-color: #E8F0FE;\n",
              "      --fill-color: #1967D2;\n",
              "      --hover-bg-color: #E2EBFA;\n",
              "      --hover-fill-color: #174EA6;\n",
              "      --disabled-fill-color: #AAA;\n",
              "      --disabled-bg-color: #DDD;\n",
              "  }\n",
              "\n",
              "  [theme=dark] .colab-df-quickchart {\n",
              "      --bg-color: #3B4455;\n",
              "      --fill-color: #D2E3FC;\n",
              "      --hover-bg-color: #434B5C;\n",
              "      --hover-fill-color: #FFFFFF;\n",
              "      --disabled-bg-color: #3B4455;\n",
              "      --disabled-fill-color: #666;\n",
              "  }\n",
              "\n",
              "  .colab-df-quickchart {\n",
              "    background-color: var(--bg-color);\n",
              "    border: none;\n",
              "    border-radius: 50%;\n",
              "    cursor: pointer;\n",
              "    display: none;\n",
              "    fill: var(--fill-color);\n",
              "    height: 32px;\n",
              "    padding: 0;\n",
              "    width: 32px;\n",
              "  }\n",
              "\n",
              "  .colab-df-quickchart:hover {\n",
              "    background-color: var(--hover-bg-color);\n",
              "    box-shadow: 0 1px 2px rgba(60, 64, 67, 0.3), 0 1px 3px 1px rgba(60, 64, 67, 0.15);\n",
              "    fill: var(--button-hover-fill-color);\n",
              "  }\n",
              "\n",
              "  .colab-df-quickchart-complete:disabled,\n",
              "  .colab-df-quickchart-complete:disabled:hover {\n",
              "    background-color: var(--disabled-bg-color);\n",
              "    fill: var(--disabled-fill-color);\n",
              "    box-shadow: none;\n",
              "  }\n",
              "\n",
              "  .colab-df-spinner {\n",
              "    border: 2px solid var(--fill-color);\n",
              "    border-color: transparent;\n",
              "    border-bottom-color: var(--fill-color);\n",
              "    animation:\n",
              "      spin 1s steps(1) infinite;\n",
              "  }\n",
              "\n",
              "  @keyframes spin {\n",
              "    0% {\n",
              "      border-color: transparent;\n",
              "      border-bottom-color: var(--fill-color);\n",
              "      border-left-color: var(--fill-color);\n",
              "    }\n",
              "    20% {\n",
              "      border-color: transparent;\n",
              "      border-left-color: var(--fill-color);\n",
              "      border-top-color: var(--fill-color);\n",
              "    }\n",
              "    30% {\n",
              "      border-color: transparent;\n",
              "      border-left-color: var(--fill-color);\n",
              "      border-top-color: var(--fill-color);\n",
              "      border-right-color: var(--fill-color);\n",
              "    }\n",
              "    40% {\n",
              "      border-color: transparent;\n",
              "      border-right-color: var(--fill-color);\n",
              "      border-top-color: var(--fill-color);\n",
              "    }\n",
              "    60% {\n",
              "      border-color: transparent;\n",
              "      border-right-color: var(--fill-color);\n",
              "    }\n",
              "    80% {\n",
              "      border-color: transparent;\n",
              "      border-right-color: var(--fill-color);\n",
              "      border-bottom-color: var(--fill-color);\n",
              "    }\n",
              "    90% {\n",
              "      border-color: transparent;\n",
              "      border-bottom-color: var(--fill-color);\n",
              "    }\n",
              "  }\n",
              "</style>\n",
              "\n",
              "  <script>\n",
              "    async function quickchart(key) {\n",
              "      const quickchartButtonEl =\n",
              "        document.querySelector('#' + key + ' button');\n",
              "      quickchartButtonEl.disabled = true;  // To prevent multiple clicks.\n",
              "      quickchartButtonEl.classList.add('colab-df-spinner');\n",
              "      try {\n",
              "        const charts = await google.colab.kernel.invokeFunction(\n",
              "            'suggestCharts', [key], {});\n",
              "      } catch (error) {\n",
              "        console.error('Error during call to suggestCharts:', error);\n",
              "      }\n",
              "      quickchartButtonEl.classList.remove('colab-df-spinner');\n",
              "      quickchartButtonEl.classList.add('colab-df-quickchart-complete');\n",
              "    }\n",
              "    (() => {\n",
              "      let quickchartButtonEl =\n",
              "        document.querySelector('#df-87ead574-c659-4e90-939c-6ee9b0a793f0 button');\n",
              "      quickchartButtonEl.style.display =\n",
              "        google.colab.kernel.accessAllowed ? 'block' : 'none';\n",
              "    })();\n",
              "  </script>\n",
              "</div>\n",
              "    </div>\n",
              "  </div>\n"
            ]
          },
          "metadata": {},
          "execution_count": 45
        }
      ]
    },
    {
      "cell_type": "code",
      "source": [
        "# 개체명 빈도 계산\n",
        "from collections import Counter\n",
        "split2freqs = defaultdict(Counter)\n",
        "for split,dataset in panx_de.items():\n",
        "  for row in dataset['ner_tags_str']:\n",
        "    for tag in row:\n",
        "      if tag.startswith('B'):\n",
        "        tag_type = tag.split('-')[1]\n",
        "        split2freqs[split][tag_type] += 1\n",
        "pd.DataFrame.from_dict(split2freqs, orient='index')"
      ],
      "metadata": {
        "colab": {
          "base_uri": "https://localhost:8080/",
          "height": 143
        },
        "id": "WbOPKxmEywPW",
        "outputId": "ba7e7633-e3f2-4d79-bdef-f194b48d505a"
      },
      "execution_count": 46,
      "outputs": [
        {
          "output_type": "execute_result",
          "data": {
            "text/plain": [
              "             LOC   ORG   PER\n",
              "train       6186  5366  5810\n",
              "validation  3172  2683  2893\n",
              "test        3180  2573  3071"
            ],
            "text/html": [
              "\n",
              "  <div id=\"df-93c5f160-f6cd-4bb6-816e-82f62ac51361\" class=\"colab-df-container\">\n",
              "    <div>\n",
              "<style scoped>\n",
              "    .dataframe tbody tr th:only-of-type {\n",
              "        vertical-align: middle;\n",
              "    }\n",
              "\n",
              "    .dataframe tbody tr th {\n",
              "        vertical-align: top;\n",
              "    }\n",
              "\n",
              "    .dataframe thead th {\n",
              "        text-align: right;\n",
              "    }\n",
              "</style>\n",
              "<table border=\"1\" class=\"dataframe\">\n",
              "  <thead>\n",
              "    <tr style=\"text-align: right;\">\n",
              "      <th></th>\n",
              "      <th>LOC</th>\n",
              "      <th>ORG</th>\n",
              "      <th>PER</th>\n",
              "    </tr>\n",
              "  </thead>\n",
              "  <tbody>\n",
              "    <tr>\n",
              "      <th>train</th>\n",
              "      <td>6186</td>\n",
              "      <td>5366</td>\n",
              "      <td>5810</td>\n",
              "    </tr>\n",
              "    <tr>\n",
              "      <th>validation</th>\n",
              "      <td>3172</td>\n",
              "      <td>2683</td>\n",
              "      <td>2893</td>\n",
              "    </tr>\n",
              "    <tr>\n",
              "      <th>test</th>\n",
              "      <td>3180</td>\n",
              "      <td>2573</td>\n",
              "      <td>3071</td>\n",
              "    </tr>\n",
              "  </tbody>\n",
              "</table>\n",
              "</div>\n",
              "    <div class=\"colab-df-buttons\">\n",
              "\n",
              "  <div class=\"colab-df-container\">\n",
              "    <button class=\"colab-df-convert\" onclick=\"convertToInteractive('df-93c5f160-f6cd-4bb6-816e-82f62ac51361')\"\n",
              "            title=\"Convert this dataframe to an interactive table.\"\n",
              "            style=\"display:none;\">\n",
              "\n",
              "  <svg xmlns=\"http://www.w3.org/2000/svg\" height=\"24px\" viewBox=\"0 -960 960 960\">\n",
              "    <path d=\"M120-120v-720h720v720H120Zm60-500h600v-160H180v160Zm220 220h160v-160H400v160Zm0 220h160v-160H400v160ZM180-400h160v-160H180v160Zm440 0h160v-160H620v160ZM180-180h160v-160H180v160Zm440 0h160v-160H620v160Z\"/>\n",
              "  </svg>\n",
              "    </button>\n",
              "\n",
              "  <style>\n",
              "    .colab-df-container {\n",
              "      display:flex;\n",
              "      gap: 12px;\n",
              "    }\n",
              "\n",
              "    .colab-df-convert {\n",
              "      background-color: #E8F0FE;\n",
              "      border: none;\n",
              "      border-radius: 50%;\n",
              "      cursor: pointer;\n",
              "      display: none;\n",
              "      fill: #1967D2;\n",
              "      height: 32px;\n",
              "      padding: 0 0 0 0;\n",
              "      width: 32px;\n",
              "    }\n",
              "\n",
              "    .colab-df-convert:hover {\n",
              "      background-color: #E2EBFA;\n",
              "      box-shadow: 0px 1px 2px rgba(60, 64, 67, 0.3), 0px 1px 3px 1px rgba(60, 64, 67, 0.15);\n",
              "      fill: #174EA6;\n",
              "    }\n",
              "\n",
              "    .colab-df-buttons div {\n",
              "      margin-bottom: 4px;\n",
              "    }\n",
              "\n",
              "    [theme=dark] .colab-df-convert {\n",
              "      background-color: #3B4455;\n",
              "      fill: #D2E3FC;\n",
              "    }\n",
              "\n",
              "    [theme=dark] .colab-df-convert:hover {\n",
              "      background-color: #434B5C;\n",
              "      box-shadow: 0px 1px 3px 1px rgba(0, 0, 0, 0.15);\n",
              "      filter: drop-shadow(0px 1px 2px rgba(0, 0, 0, 0.3));\n",
              "      fill: #FFFFFF;\n",
              "    }\n",
              "  </style>\n",
              "\n",
              "    <script>\n",
              "      const buttonEl =\n",
              "        document.querySelector('#df-93c5f160-f6cd-4bb6-816e-82f62ac51361 button.colab-df-convert');\n",
              "      buttonEl.style.display =\n",
              "        google.colab.kernel.accessAllowed ? 'block' : 'none';\n",
              "\n",
              "      async function convertToInteractive(key) {\n",
              "        const element = document.querySelector('#df-93c5f160-f6cd-4bb6-816e-82f62ac51361');\n",
              "        const dataTable =\n",
              "          await google.colab.kernel.invokeFunction('convertToInteractive',\n",
              "                                                    [key], {});\n",
              "        if (!dataTable) return;\n",
              "\n",
              "        const docLinkHtml = 'Like what you see? Visit the ' +\n",
              "          '<a target=\"_blank\" href=https://colab.research.google.com/notebooks/data_table.ipynb>data table notebook</a>'\n",
              "          + ' to learn more about interactive tables.';\n",
              "        element.innerHTML = '';\n",
              "        dataTable['output_type'] = 'display_data';\n",
              "        await google.colab.output.renderOutput(dataTable, element);\n",
              "        const docLink = document.createElement('div');\n",
              "        docLink.innerHTML = docLinkHtml;\n",
              "        element.appendChild(docLink);\n",
              "      }\n",
              "    </script>\n",
              "  </div>\n",
              "\n",
              "\n",
              "<div id=\"df-aaef4f18-79bb-4664-963a-a151d261f114\">\n",
              "  <button class=\"colab-df-quickchart\" onclick=\"quickchart('df-aaef4f18-79bb-4664-963a-a151d261f114')\"\n",
              "            title=\"Suggest charts.\"\n",
              "            style=\"display:none;\">\n",
              "\n",
              "<svg xmlns=\"http://www.w3.org/2000/svg\" height=\"24px\"viewBox=\"0 0 24 24\"\n",
              "     width=\"24px\">\n",
              "    <g>\n",
              "        <path d=\"M19 3H5c-1.1 0-2 .9-2 2v14c0 1.1.9 2 2 2h14c1.1 0 2-.9 2-2V5c0-1.1-.9-2-2-2zM9 17H7v-7h2v7zm4 0h-2V7h2v10zm4 0h-2v-4h2v4z\"/>\n",
              "    </g>\n",
              "</svg>\n",
              "  </button>\n",
              "\n",
              "<style>\n",
              "  .colab-df-quickchart {\n",
              "      --bg-color: #E8F0FE;\n",
              "      --fill-color: #1967D2;\n",
              "      --hover-bg-color: #E2EBFA;\n",
              "      --hover-fill-color: #174EA6;\n",
              "      --disabled-fill-color: #AAA;\n",
              "      --disabled-bg-color: #DDD;\n",
              "  }\n",
              "\n",
              "  [theme=dark] .colab-df-quickchart {\n",
              "      --bg-color: #3B4455;\n",
              "      --fill-color: #D2E3FC;\n",
              "      --hover-bg-color: #434B5C;\n",
              "      --hover-fill-color: #FFFFFF;\n",
              "      --disabled-bg-color: #3B4455;\n",
              "      --disabled-fill-color: #666;\n",
              "  }\n",
              "\n",
              "  .colab-df-quickchart {\n",
              "    background-color: var(--bg-color);\n",
              "    border: none;\n",
              "    border-radius: 50%;\n",
              "    cursor: pointer;\n",
              "    display: none;\n",
              "    fill: var(--fill-color);\n",
              "    height: 32px;\n",
              "    padding: 0;\n",
              "    width: 32px;\n",
              "  }\n",
              "\n",
              "  .colab-df-quickchart:hover {\n",
              "    background-color: var(--hover-bg-color);\n",
              "    box-shadow: 0 1px 2px rgba(60, 64, 67, 0.3), 0 1px 3px 1px rgba(60, 64, 67, 0.15);\n",
              "    fill: var(--button-hover-fill-color);\n",
              "  }\n",
              "\n",
              "  .colab-df-quickchart-complete:disabled,\n",
              "  .colab-df-quickchart-complete:disabled:hover {\n",
              "    background-color: var(--disabled-bg-color);\n",
              "    fill: var(--disabled-fill-color);\n",
              "    box-shadow: none;\n",
              "  }\n",
              "\n",
              "  .colab-df-spinner {\n",
              "    border: 2px solid var(--fill-color);\n",
              "    border-color: transparent;\n",
              "    border-bottom-color: var(--fill-color);\n",
              "    animation:\n",
              "      spin 1s steps(1) infinite;\n",
              "  }\n",
              "\n",
              "  @keyframes spin {\n",
              "    0% {\n",
              "      border-color: transparent;\n",
              "      border-bottom-color: var(--fill-color);\n",
              "      border-left-color: var(--fill-color);\n",
              "    }\n",
              "    20% {\n",
              "      border-color: transparent;\n",
              "      border-left-color: var(--fill-color);\n",
              "      border-top-color: var(--fill-color);\n",
              "    }\n",
              "    30% {\n",
              "      border-color: transparent;\n",
              "      border-left-color: var(--fill-color);\n",
              "      border-top-color: var(--fill-color);\n",
              "      border-right-color: var(--fill-color);\n",
              "    }\n",
              "    40% {\n",
              "      border-color: transparent;\n",
              "      border-right-color: var(--fill-color);\n",
              "      border-top-color: var(--fill-color);\n",
              "    }\n",
              "    60% {\n",
              "      border-color: transparent;\n",
              "      border-right-color: var(--fill-color);\n",
              "    }\n",
              "    80% {\n",
              "      border-color: transparent;\n",
              "      border-right-color: var(--fill-color);\n",
              "      border-bottom-color: var(--fill-color);\n",
              "    }\n",
              "    90% {\n",
              "      border-color: transparent;\n",
              "      border-bottom-color: var(--fill-color);\n",
              "    }\n",
              "  }\n",
              "</style>\n",
              "\n",
              "  <script>\n",
              "    async function quickchart(key) {\n",
              "      const quickchartButtonEl =\n",
              "        document.querySelector('#' + key + ' button');\n",
              "      quickchartButtonEl.disabled = true;  // To prevent multiple clicks.\n",
              "      quickchartButtonEl.classList.add('colab-df-spinner');\n",
              "      try {\n",
              "        const charts = await google.colab.kernel.invokeFunction(\n",
              "            'suggestCharts', [key], {});\n",
              "      } catch (error) {\n",
              "        console.error('Error during call to suggestCharts:', error);\n",
              "      }\n",
              "      quickchartButtonEl.classList.remove('colab-df-spinner');\n",
              "      quickchartButtonEl.classList.add('colab-df-quickchart-complete');\n",
              "    }\n",
              "    (() => {\n",
              "      let quickchartButtonEl =\n",
              "        document.querySelector('#df-aaef4f18-79bb-4664-963a-a151d261f114 button');\n",
              "      quickchartButtonEl.style.display =\n",
              "        google.colab.kernel.accessAllowed ? 'block' : 'none';\n",
              "    })();\n",
              "  </script>\n",
              "</div>\n",
              "    </div>\n",
              "  </div>\n"
            ]
          },
          "metadata": {},
          "execution_count": 46
        }
      ]
    },
    {
      "cell_type": "code",
      "source": [
        "# 다중 언어 트랜스포머"
      ],
      "metadata": {
        "id": "529ZzEVc2zcn"
      },
      "execution_count": 47,
      "outputs": []
    },
    {
      "cell_type": "code",
      "source": [
        "# XLM-R 토큰화"
      ],
      "metadata": {
        "id": "e5moEfcU3KMV"
      },
      "execution_count": 48,
      "outputs": []
    },
    {
      "cell_type": "code",
      "source": [
        "!pip install transformers"
      ],
      "metadata": {
        "colab": {
          "base_uri": "https://localhost:8080/"
        },
        "id": "5mVGZnOy35gx",
        "outputId": "ec46cc03-620b-4464-a7cd-8e2dc7876efe"
      },
      "execution_count": 49,
      "outputs": [
        {
          "output_type": "stream",
          "name": "stdout",
          "text": [
            "Requirement already satisfied: transformers in /usr/local/lib/python3.10/dist-packages (4.35.0)\n",
            "Requirement already satisfied: filelock in /usr/local/lib/python3.10/dist-packages (from transformers) (3.12.4)\n",
            "Requirement already satisfied: huggingface-hub<1.0,>=0.16.4 in /usr/local/lib/python3.10/dist-packages (from transformers) (0.17.3)\n",
            "Requirement already satisfied: numpy>=1.17 in /usr/local/lib/python3.10/dist-packages (from transformers) (1.23.5)\n",
            "Requirement already satisfied: packaging>=20.0 in /usr/local/lib/python3.10/dist-packages (from transformers) (23.2)\n",
            "Requirement already satisfied: pyyaml>=5.1 in /usr/local/lib/python3.10/dist-packages (from transformers) (6.0.1)\n",
            "Requirement already satisfied: regex!=2019.12.17 in /usr/local/lib/python3.10/dist-packages (from transformers) (2023.6.3)\n",
            "Requirement already satisfied: requests in /usr/local/lib/python3.10/dist-packages (from transformers) (2.31.0)\n",
            "Requirement already satisfied: tokenizers<0.15,>=0.14 in /usr/local/lib/python3.10/dist-packages (from transformers) (0.14.1)\n",
            "Requirement already satisfied: safetensors>=0.3.1 in /usr/local/lib/python3.10/dist-packages (from transformers) (0.4.0)\n",
            "Requirement already satisfied: tqdm>=4.27 in /usr/local/lib/python3.10/dist-packages (from transformers) (4.66.1)\n",
            "Requirement already satisfied: fsspec in /usr/local/lib/python3.10/dist-packages (from huggingface-hub<1.0,>=0.16.4->transformers) (2023.6.0)\n",
            "Requirement already satisfied: typing-extensions>=3.7.4.3 in /usr/local/lib/python3.10/dist-packages (from huggingface-hub<1.0,>=0.16.4->transformers) (4.5.0)\n",
            "Requirement already satisfied: charset-normalizer<4,>=2 in /usr/local/lib/python3.10/dist-packages (from requests->transformers) (3.3.1)\n",
            "Requirement already satisfied: idna<4,>=2.5 in /usr/local/lib/python3.10/dist-packages (from requests->transformers) (3.4)\n",
            "Requirement already satisfied: urllib3<3,>=1.21.1 in /usr/local/lib/python3.10/dist-packages (from requests->transformers) (2.0.7)\n",
            "Requirement already satisfied: certifi>=2017.4.17 in /usr/local/lib/python3.10/dist-packages (from requests->transformers) (2023.7.22)\n"
          ]
        }
      ]
    },
    {
      "cell_type": "code",
      "source": [
        "from transformers import AutoTokenizer\n",
        "bert_model_name = 'bert-base-cased'\n",
        "xlmr_model_name = 'xlm-roberta-base'\n",
        "bert_tokenizer = AutoTokenizer.from_pretrained(bert_model_name)\n",
        "xlmr_tokenizer = AutoTokenizer.from_pretrained(xlmr_model_name)"
      ],
      "metadata": {
        "id": "mYBKEX7j3u2m"
      },
      "execution_count": null,
      "outputs": []
    },
    {
      "cell_type": "code",
      "source": [
        "# 각 모델이 사용하는 특수 토큰을 확인\n",
        "text = 'Jack Sparrow loves New York'\n",
        "bert_tokens = bert_tokenizer(text).tokens()\n",
        "xlmr_tokens = xlmr_tokenizer(text).tokens()"
      ],
      "metadata": {
        "id": "Xh6zTmRF33kK"
      },
      "execution_count": 53,
      "outputs": []
    },
    {
      "cell_type": "code",
      "source": [
        "bert_tokens,xlmr_tokens"
      ],
      "metadata": {
        "colab": {
          "base_uri": "https://localhost:8080/"
        },
        "id": "JqxVAJjM5GvX",
        "outputId": "db321697-4990-4a76-a1c3-7fe6a88a6dd5"
      },
      "execution_count": 54,
      "outputs": [
        {
          "output_type": "execute_result",
          "data": {
            "text/plain": [
              "(['[CLS]', 'Jack', 'Spa', '##rrow', 'loves', 'New', 'York', '[SEP]'],\n",
              " ['<s>', '▁Jack', '▁Spar', 'row', '▁love', 's', '▁New', '▁York', '</s>'])"
            ]
          },
          "metadata": {},
          "execution_count": 54
        }
      ]
    },
    {
      "cell_type": "markdown",
      "source": [
        "토큰화 파이프라인\n",
        "\n",
        "![image.png](data:image/png;base64,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)"
      ],
      "metadata": {
        "id": "HjBIcnx55YFI"
      }
    },
    {
      "cell_type": "code",
      "source": [
        "#  정규화\n",
        "# 공백과 엑센트가 붙은 문자를 제거\n",
        "# 유니코드 정규화   https://unicode.org/reports/tr15/  소문자로 변경\n",
        "# 사전 토큰화 : 텍스트를 더 작은 객체로 분할\n",
        "#   - 텍스트를 단어로 분할하고 최종 토큰은 이 단어의 일부가 된다 , 많은 언어 공백과 구두점을 기준으로 단어로 분할\n",
        "# 사후처리 : 마지막 단계 , 처음과 끝에 특수문자를 추가할때"
      ],
      "metadata": {
        "id": "JRIHGXYJ5d95"
      },
      "execution_count": 55,
      "outputs": []
    },
    {
      "cell_type": "markdown",
      "source": [
        "NER을 종종 토큰 분류 작업으로 생각 - 시퀀스 분류를 위해 인코더 기반 트랜스포머를 미세 튜닝\n",
        "\n",
        "![image.png](data:image/png;base64,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)"
      ],
      "metadata": {
        "id": "zB7QS3KK57rf"
      }
    },
    {
      "cell_type": "code",
      "source": [
        "# 개체명 인식을 위해서 인코더 기반 트래스포머를 미세 튜닝"
      ],
      "metadata": {
        "id": "UdAOEZ297IOT"
      },
      "execution_count": 56,
      "outputs": []
    },
    {
      "cell_type": "markdown",
      "source": [
        "![image.png](data:image/png;base64,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)"
      ],
      "metadata": {
        "id": "AFqm_U307Xui"
      }
    },
    {
      "cell_type": "code",
      "source": [
        "# XLM-R 클래스"
      ],
      "metadata": {
        "id": "pZ2RCpMV7baE"
      },
      "execution_count": 57,
      "outputs": []
    },
    {
      "cell_type": "code",
      "source": [
        "import torch.nn as nn\n",
        "from transformers import XLMRobertaConfig  # XLM-RoBERTa 모델의 설정을 정의하는 클래스\n",
        "from transformers.modeling_outputs import TokenClassifierOutput # 토큰의 분류 작업을 위한 출력을 정의하는 클래스\n",
        "from transformers.models.roberta.modeling_roberta import RobertaModel, RobertaPreTrainedModel\n",
        "# RobertaPreTrainedModel  Hugging Face Transformers 의 라이브러리의 사전 훈련모델을 상속하는 클래스 -> 사용자 정의 지정 모델구축에 유용"
      ],
      "metadata": {
        "id": "xSuACzL071TJ"
      },
      "execution_count": 59,
      "outputs": []
    },
    {
      "cell_type": "code",
      "source": [
        "class XLMRobertaForTokenClassification(RobertaPreTrainedModel):\n",
        "  config_class = XLMRobertaConfig\n",
        "  def __init__(self, config):\n",
        "    super(XLMRobertaForTokenClassification,self).__init__(config)\n",
        "    self.num_labels = config.num_labels\n",
        "    # 모델 바디를 로드\n",
        "    self.roberta = RobertaModel(config,add_pooling_layer=False)\n",
        "    # 토큰 분류 헤드를 준비\n",
        "    self.dropout = nn.Dropout(config.hidden_dropout_prob)\n",
        "    self.classifier = nn.Linear(config.hidden_size, config.num_labels)\n",
        "    # 가중치를 로드하고 초기화\n",
        "    self.init_weights()\n",
        "  def forward(self,input_ids = None, attention_mask=None, token_type_ids=None, labels=None, **kwargs):\n",
        "    # 모델 바디를 사용해 인코더 표현을 구함\n",
        "    outputs = self.roberta(input_ids, attention_mask=attention_mask, token_type_ids = token_type_ids, **kwargs)\n",
        "    # 인코더 표현을 헤드에 통과시킴\n",
        "    sequence_output = self.dropout(outputs[0])\n",
        "    logits = self.classifier(sequence_output)\n",
        "    # 손실을 계산\n",
        "    loss = None\n",
        "    if labels is not None:\n",
        "      loss_fct = nn.CrossEntropyLoss()\n",
        "      loss = loss_fct(logits.view(-1,self.num_labels), labels.view(-1))\n",
        "    # 모델 출력 객체를 반환\n",
        "    return TokenClassifierOutput(loss=loss,logits=logits,hidden_states=outputs.hidden_states,attentions=outputs.attentions)"
      ],
      "metadata": {
        "id": "GI0ZqSLC80XO"
      },
      "execution_count": 60,
      "outputs": []
    },
    {
      "cell_type": "code",
      "source": [
        "# 사용자 정의 모델 로드\n",
        "index2tag = {idx:tag for idx,tag in enumerate(tags.names)}\n",
        "tag2index = {tag:idx for idx,tag in enumerate(tags.names)}"
      ],
      "metadata": {
        "id": "H7TU3iUl_iBJ"
      },
      "execution_count": 61,
      "outputs": []
    },
    {
      "cell_type": "code",
      "source": [
        "from transformers import AutoConfig\n",
        "xlmr_config = AutoConfig.from_pretrained(xlmr_model_name,num_labels = tags.num_classes,id2label=index2tag, label2id=tag2index)"
      ],
      "metadata": {
        "id": "F3ymg65EAOsh"
      },
      "execution_count": 62,
      "outputs": []
    },
    {
      "cell_type": "code",
      "source": [
        "from torch.cuda import is_available\n",
        "import torch\n",
        "device = torch.device(\"cuda\" if torch.cuda.is_available() else 'cpu')\n",
        "xlmr_model = XLMRobertaForTokenClassification.from_pretrained(xlmr_model_name,config=xlmr_config).to(device)"
      ],
      "metadata": {
        "colab": {
          "base_uri": "https://localhost:8080/",
          "height": 49,
          "referenced_widgets": [
            "2c25742ce5ee4d35b57746fc394b0d65",
            "455b2bad8b8542cf9c906a985cb30165",
            "a78b9cb54464477d8c550d42c8dd1973",
            "dc7f280552d145ae8833f07f72049e0a",
            "52af5794b20340d1a58a05c5297e0707",
            "bf5602463d3c4822ac3615f0d8aba7e4",
            "91648ef7a1574a95961ef7cc80b94617",
            "889aaa7636ee439b90047440b514b7b5",
            "9bfbdd2a71b2428d9f7c6ed60f6bfbc8",
            "40253f522d8545418d0e9ccdfeb8542e",
            "5118930049a44e70beafb940e44d4b71"
          ]
        },
        "id": "Ema7a7baAupC",
        "outputId": "05e70568-45c0-4c43-d6eb-7bb7acad0b47"
      },
      "execution_count": null,
      "outputs": [
        {
          "output_type": "display_data",
          "data": {
            "text/plain": [
              "model.safetensors:   0%|          | 0.00/1.12G [00:00<?, ?B/s]"
            ],
            "application/vnd.jupyter.widget-view+json": {
              "version_major": 2,
              "version_minor": 0,
              "model_id": "2c25742ce5ee4d35b57746fc394b0d65"
            }
          },
          "metadata": {}
        }
      ]
    },
    {
      "cell_type": "code",
      "source": [],
      "metadata": {
        "id": "bV_YmV5fBRWw"
      },
      "execution_count": null,
      "outputs": []
    }
  ]
}