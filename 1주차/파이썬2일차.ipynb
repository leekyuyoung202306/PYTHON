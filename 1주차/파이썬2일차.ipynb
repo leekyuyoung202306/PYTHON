{
  "nbformat": 4,
  "nbformat_minor": 0,
  "metadata": {
    "colab": {
      "provenance": []
    },
    "kernelspec": {
      "name": "python3",
      "display_name": "Python 3"
    },
    "language_info": {
      "name": "python"
    }
  },
  "cells": [
    {
      "cell_type": "code",
      "execution_count": null,
      "metadata": {
        "id": "AVoLnb15QrLs"
      },
      "outputs": [],
      "source": []
    },
    {
      "cell_type": "markdown",
      "source": [
        "리스트\n",
        "  - 연속된 자료의 집합\n",
        "  - 콤마를 기준으로 원하는 데이터를 넣어준다.\n",
        "  - [10, 20.5, '홍길동']"
      ],
      "metadata": {
        "id": "wE2ECAs2Q1tW"
      }
    },
    {
      "cell_type": "code",
      "source": [
        "a = 10\n",
        "b = 20.5\n",
        "c = '홍길동'\n",
        "temp = [10, 20.5 ,'홍길동' ]"
      ],
      "metadata": {
        "id": "N_Sw1V2xRDHd"
      },
      "execution_count": 2,
      "outputs": []
    },
    {
      "cell_type": "code",
      "source": [
        "scores = [10,20,30,40]\n",
        "subject = ['국','영','수','과']"
      ],
      "metadata": {
        "id": "VaRfeh6eRcoQ"
      },
      "execution_count": 3,
      "outputs": []
    },
    {
      "cell_type": "markdown",
      "source": [
        "리스트의 길이\n",
        "  - len(리스트)"
      ],
      "metadata": {
        "id": "XPErvoyiTCQc"
      }
    },
    {
      "cell_type": "code",
      "source": [
        "scores[len(scores)-1 ]"
      ],
      "metadata": {
        "colab": {
          "base_uri": "https://localhost:8080/"
        },
        "id": "BMI8dsL7Rva2",
        "outputId": "b9bc611b-6bd2-4d28-e248-1d453010e94e"
      },
      "execution_count": 21,
      "outputs": [
        {
          "output_type": "execute_result",
          "data": {
            "text/plain": [
              "40"
            ]
          },
          "metadata": {},
          "execution_count": 21
        }
      ]
    },
    {
      "cell_type": "markdown",
      "source": [
        "슬라이싱\n",
        "  - [start : end] : 인덱스가 start 부터 시작해서 end-1까지의 데이터를 추출한다"
      ],
      "metadata": {
        "id": "gD52PggOTVWd"
      }
    },
    {
      "cell_type": "code",
      "source": [
        "scores[0:2]"
      ],
      "metadata": {
        "colab": {
          "base_uri": "https://localhost:8080/"
        },
        "id": "gKWWx-wFSJrF",
        "outputId": "cdc59bcb-8538-4b52-beb8-7c0425eeb449"
      },
      "execution_count": 23,
      "outputs": [
        {
          "output_type": "execute_result",
          "data": {
            "text/plain": [
              "[10, 100]"
            ]
          },
          "metadata": {},
          "execution_count": 23
        }
      ]
    },
    {
      "cell_type": "code",
      "source": [
        "scores[:2]"
      ],
      "metadata": {
        "colab": {
          "base_uri": "https://localhost:8080/"
        },
        "id": "FfWbS7GTTup-",
        "outputId": "9710032a-c797-485d-9c67-6bfa9fbdd9c8"
      },
      "execution_count": 24,
      "outputs": [
        {
          "output_type": "execute_result",
          "data": {
            "text/plain": [
              "[10, 100]"
            ]
          },
          "metadata": {},
          "execution_count": 24
        }
      ]
    },
    {
      "cell_type": "code",
      "source": [
        "scores[1:]"
      ],
      "metadata": {
        "colab": {
          "base_uri": "https://localhost:8080/"
        },
        "id": "0Fc7B2jyT0iU",
        "outputId": "f8dacec6-ce62-4e84-ddf2-abf962d38afa"
      },
      "execution_count": 27,
      "outputs": [
        {
          "output_type": "execute_result",
          "data": {
            "text/plain": [
              "[100, 30, 40]"
            ]
          },
          "metadata": {},
          "execution_count": 27
        }
      ]
    },
    {
      "cell_type": "code",
      "source": [
        "scores[ : ]"
      ],
      "metadata": {
        "colab": {
          "base_uri": "https://localhost:8080/"
        },
        "id": "vAFvX8_5T2tl",
        "outputId": "58691e2c-e02c-47ef-ad65-29d38f747cc8"
      },
      "execution_count": 28,
      "outputs": [
        {
          "output_type": "execute_result",
          "data": {
            "text/plain": [
              "[10, 100, 30, 40]"
            ]
          },
          "metadata": {},
          "execution_count": 28
        }
      ]
    },
    {
      "cell_type": "code",
      "source": [
        "scores2 = scores"
      ],
      "metadata": {
        "id": "10Yvv0KLUGmU"
      },
      "execution_count": 29,
      "outputs": []
    },
    {
      "cell_type": "code",
      "source": [
        "scores2[0] = 90\n",
        "scores2"
      ],
      "metadata": {
        "colab": {
          "base_uri": "https://localhost:8080/"
        },
        "id": "M-EciFrJULn0",
        "outputId": "d5b9a421-3794-4e8c-9e03-3b3ceaf91f25"
      },
      "execution_count": 31,
      "outputs": [
        {
          "output_type": "execute_result",
          "data": {
            "text/plain": [
              "[90, 100, 30, 40]"
            ]
          },
          "metadata": {},
          "execution_count": 31
        }
      ]
    },
    {
      "cell_type": "code",
      "source": [
        "scores"
      ],
      "metadata": {
        "colab": {
          "base_uri": "https://localhost:8080/"
        },
        "id": "Av5oyeWjUOLc",
        "outputId": "9dac05f6-a187-4fe5-cc75-9dc3c02812f9"
      },
      "execution_count": 32,
      "outputs": [
        {
          "output_type": "execute_result",
          "data": {
            "text/plain": [
              "[90, 100, 30, 40]"
            ]
          },
          "metadata": {},
          "execution_count": 32
        }
      ]
    },
    {
      "cell_type": "code",
      "source": [
        "a = 10\n",
        "b = a"
      ],
      "metadata": {
        "id": "oe3z-VprUT72"
      },
      "execution_count": 33,
      "outputs": []
    },
    {
      "cell_type": "code",
      "source": [
        "a = 100"
      ],
      "metadata": {
        "id": "YwR-zkBJUiF0"
      },
      "execution_count": 36,
      "outputs": []
    },
    {
      "cell_type": "code",
      "source": [
        "a"
      ],
      "metadata": {
        "colab": {
          "base_uri": "https://localhost:8080/"
        },
        "id": "fT6RBHXkUijj",
        "outputId": "3acbdc52-b2c9-4707-eb3e-7f709156da9f"
      },
      "execution_count": 38,
      "outputs": [
        {
          "output_type": "execute_result",
          "data": {
            "text/plain": [
              "100"
            ]
          },
          "metadata": {},
          "execution_count": 38
        }
      ]
    },
    {
      "cell_type": "markdown",
      "source": [
        "- 얕은복사\n",
        "  - 값은 같으나 주소가 동일해서 한쪽이 변경되면 같이 변경\n",
        "  - 리스트변수 = 리스트변수\n",
        "- 깊은복사\n",
        "  - 값도 같은데. 주소도 달라서 서로 독립적\n",
        "  - 리스트변수 = 리스트변수[ : ]"
      ],
      "metadata": {
        "id": "xEdmmypGWP33"
      }
    },
    {
      "cell_type": "code",
      "source": [
        "scores2 =  scores[ : ]"
      ],
      "metadata": {
        "id": "mO9Dzq9fUlds"
      },
      "execution_count": 39,
      "outputs": []
    },
    {
      "cell_type": "code",
      "source": [
        "scores2, scores"
      ],
      "metadata": {
        "colab": {
          "base_uri": "https://localhost:8080/"
        },
        "id": "6RRWy_rIVypF",
        "outputId": "dc166248-261b-4fc8-859c-755ee58a1208"
      },
      "execution_count": 40,
      "outputs": [
        {
          "output_type": "execute_result",
          "data": {
            "text/plain": [
              "([90, 100, 30, 40], [90, 100, 30, 40])"
            ]
          },
          "metadata": {},
          "execution_count": 40
        }
      ]
    },
    {
      "cell_type": "code",
      "source": [
        "scores2[0] = 111"
      ],
      "metadata": {
        "id": "jf6hNZN9V0m8"
      },
      "execution_count": 41,
      "outputs": []
    },
    {
      "cell_type": "code",
      "source": [
        "scores2, scores"
      ],
      "metadata": {
        "colab": {
          "base_uri": "https://localhost:8080/"
        },
        "id": "4e9GzAaQV5z1",
        "outputId": "24a59188-e4a9-4e47-f804-39afd845a67f"
      },
      "execution_count": 42,
      "outputs": [
        {
          "output_type": "execute_result",
          "data": {
            "text/plain": [
              "([111, 100, 30, 40], [90, 100, 30, 40])"
            ]
          },
          "metadata": {},
          "execution_count": 42
        }
      ]
    },
    {
      "cell_type": "code",
      "source": [
        "exp = [1,2,3,4,5,6,7,8,9,10]"
      ],
      "metadata": {
        "id": "YcjgRjqmV7J0"
      },
      "execution_count": 47,
      "outputs": []
    },
    {
      "cell_type": "code",
      "source": [
        "exp[ : 7]"
      ],
      "metadata": {
        "colab": {
          "base_uri": "https://localhost:8080/"
        },
        "id": "aBHG7jnWW3G7",
        "outputId": "d5c04caf-8f40-41e2-c93e-dec295529f49"
      },
      "execution_count": 48,
      "outputs": [
        {
          "output_type": "execute_result",
          "data": {
            "text/plain": [
              "[1, 2, 3, 4, 5, 6, 7]"
            ]
          },
          "metadata": {},
          "execution_count": 48
        }
      ]
    },
    {
      "cell_type": "code",
      "source": [
        "exp[ :-3 ]"
      ],
      "metadata": {
        "colab": {
          "base_uri": "https://localhost:8080/"
        },
        "id": "x-7M4ht_XEPs",
        "outputId": "37fd4dac-734f-44cc-a857-93278038cad8"
      },
      "execution_count": 50,
      "outputs": [
        {
          "output_type": "execute_result",
          "data": {
            "text/plain": [
              "[1, 2, 3, 4, 5, 6, 7]"
            ]
          },
          "metadata": {},
          "execution_count": 50
        }
      ]
    },
    {
      "cell_type": "code",
      "source": [
        "# train : 8개\n",
        "# test : 2개"
      ],
      "metadata": {
        "id": "1UPjLbHaXLuc"
      },
      "execution_count": 51,
      "outputs": []
    },
    {
      "cell_type": "code",
      "source": [
        "train = exp[ : 8]\n",
        "test = exp[8 : ]"
      ],
      "metadata": {
        "id": "0N7H5IW5Xhhe"
      },
      "execution_count": 53,
      "outputs": []
    },
    {
      "cell_type": "code",
      "source": [
        "train, test"
      ],
      "metadata": {
        "colab": {
          "base_uri": "https://localhost:8080/"
        },
        "id": "A5G_qABjX8as",
        "outputId": "f614aeab-46d1-469a-867d-c32a64f18084"
      },
      "execution_count": 55,
      "outputs": [
        {
          "output_type": "execute_result",
          "data": {
            "text/plain": [
              "([1, 2, 3, 4, 5, 6, 7, 8], [9, 10])"
            ]
          },
          "metadata": {},
          "execution_count": 55
        }
      ]
    },
    {
      "cell_type": "code",
      "source": [
        "exp = exp + exp"
      ],
      "metadata": {
        "id": "eLAjLTaPYMkL"
      },
      "execution_count": 58,
      "outputs": []
    },
    {
      "cell_type": "code",
      "source": [
        "exp"
      ],
      "metadata": {
        "colab": {
          "base_uri": "https://localhost:8080/"
        },
        "id": "ssgPhfjLYSI7",
        "outputId": "2a143e7b-c25e-47f8-8aa1-268a6094d400"
      },
      "execution_count": 59,
      "outputs": [
        {
          "output_type": "execute_result",
          "data": {
            "text/plain": [
              "[1, 2, 3, 4, 5, 6, 7, 8, 9, 10, 1, 2, 3, 4, 5, 6, 7, 8, 9, 10]"
            ]
          },
          "metadata": {},
          "execution_count": 59
        }
      ]
    },
    {
      "cell_type": "code",
      "source": [
        "exp = exp * 3"
      ],
      "metadata": {
        "id": "3WvG0JxwYgOD"
      },
      "execution_count": 60,
      "outputs": []
    },
    {
      "cell_type": "code",
      "source": [
        "split_num =  int(len(exp)*0.8)\n",
        "split_num"
      ],
      "metadata": {
        "colab": {
          "base_uri": "https://localhost:8080/"
        },
        "id": "qk2sGmdhYmKy",
        "outputId": "cabba6f8-1fac-4886-bbbb-bf16e23be3f7"
      },
      "execution_count": 65,
      "outputs": [
        {
          "output_type": "execute_result",
          "data": {
            "text/plain": [
              "48"
            ]
          },
          "metadata": {},
          "execution_count": 65
        }
      ]
    },
    {
      "cell_type": "code",
      "source": [
        "train = exp[ : split_num]\n",
        "test = exp[split_num : ]"
      ],
      "metadata": {
        "id": "WqHptjMqYnB7"
      },
      "execution_count": 66,
      "outputs": []
    },
    {
      "cell_type": "code",
      "source": [
        "len(train) , len(test) , len(exp)"
      ],
      "metadata": {
        "colab": {
          "base_uri": "https://localhost:8080/"
        },
        "id": "oqL7WUn0ZTuz",
        "outputId": "6e1e98ba-27cb-4ec3-b7bb-1376a765a20e"
      },
      "execution_count": 67,
      "outputs": [
        {
          "output_type": "execute_result",
          "data": {
            "text/plain": [
              "(48, 12, 60)"
            ]
          },
          "metadata": {},
          "execution_count": 67
        }
      ]
    },
    {
      "cell_type": "markdown",
      "source": [
        "삭제\n",
        "  - del : 명령어  리스트[인덱스]\n",
        "  - remove : 리스트 자체 명령어  리스트.remove(값)\n",
        "  - pop : 리스트 자체 명령어  리스트.pop()  마지막값을 삭제하고 그 값을 반환한다"
      ],
      "metadata": {
        "id": "nnwK9UeVZlv3"
      }
    },
    {
      "cell_type": "code",
      "source": [
        "exp = [1,2,3,2,4,5]\n",
        "del exp[0]\n",
        "exp"
      ],
      "metadata": {
        "colab": {
          "base_uri": "https://localhost:8080/"
        },
        "id": "3kTN-7EMZcK0",
        "outputId": "2db5bd6e-2ebf-41e3-8969-f59663973a86"
      },
      "execution_count": 84,
      "outputs": [
        {
          "output_type": "execute_result",
          "data": {
            "text/plain": [
              "[2, 3, 2, 4, 5]"
            ]
          },
          "metadata": {},
          "execution_count": 84
        }
      ]
    },
    {
      "cell_type": "code",
      "source": [
        "exp.remove(2)\n",
        "exp"
      ],
      "metadata": {
        "colab": {
          "base_uri": "https://localhost:8080/"
        },
        "id": "dRaQ2OKfaKl7",
        "outputId": "110edfba-66de-4d39-89be-5262f50757e1"
      },
      "execution_count": 85,
      "outputs": [
        {
          "output_type": "execute_result",
          "data": {
            "text/plain": [
              "[3, 2, 4, 5]"
            ]
          },
          "metadata": {},
          "execution_count": 85
        }
      ]
    },
    {
      "cell_type": "code",
      "source": [
        "a = exp.pop()\n",
        "a, exp"
      ],
      "metadata": {
        "colab": {
          "base_uri": "https://localhost:8080/"
        },
        "id": "mxs78plVaLbt",
        "outputId": "1fdc95ab-d865-41d9-b61b-277f051b0c6e"
      },
      "execution_count": 86,
      "outputs": [
        {
          "output_type": "execute_result",
          "data": {
            "text/plain": [
              "(5, [3, 2, 4])"
            ]
          },
          "metadata": {},
          "execution_count": 86
        }
      ]
    },
    {
      "cell_type": "markdown",
      "source": [
        "- 함수\n",
        "  - 변수명()\n",
        "- 변수\n",
        "  - 변수명\n",
        "- 리스트\n",
        "  - 변수명[인덱스]"
      ],
      "metadata": {
        "id": "LVXQ7GY3d6Ec"
      }
    },
    {
      "cell_type": "code",
      "source": [
        "def myFuntion(x):\n",
        "  print(f'{x}님 반갑습니다.')"
      ],
      "metadata": {
        "id": "J1uJYK0fazcK"
      },
      "execution_count": 87,
      "outputs": []
    },
    {
      "cell_type": "code",
      "source": [
        "myFuntion('홍길동')"
      ],
      "metadata": {
        "colab": {
          "base_uri": "https://localhost:8080/"
        },
        "id": "mwqGG6jOeiBJ",
        "outputId": "f1d29682-0b92-4f62-f321-33cec9c783e3"
      },
      "execution_count": 88,
      "outputs": [
        {
          "output_type": "stream",
          "name": "stdout",
          "text": [
            "홍길동님 반갑습니다.\n"
          ]
        }
      ]
    },
    {
      "cell_type": "code",
      "source": [
        "myFuntion = 100"
      ],
      "metadata": {
        "id": "mI8XABaDel66"
      },
      "execution_count": 92,
      "outputs": []
    },
    {
      "cell_type": "markdown",
      "source": [
        "리스트에 데이터 추가하기"
      ],
      "metadata": {
        "id": "4zA8MZJnfWqT"
      }
    },
    {
      "cell_type": "code",
      "source": [
        "exp = [1,2,3,4,5]\n",
        "exp.append(100)\n",
        "exp"
      ],
      "metadata": {
        "colab": {
          "base_uri": "https://localhost:8080/"
        },
        "id": "IFffutNUeq9i",
        "outputId": "c2b8a6a4-cfdf-4625-9c69-ae6457517c85"
      },
      "execution_count": 93,
      "outputs": [
        {
          "output_type": "execute_result",
          "data": {
            "text/plain": [
              "[1, 2, 3, 4, 5, 100]"
            ]
          },
          "metadata": {},
          "execution_count": 93
        }
      ]
    },
    {
      "cell_type": "code",
      "source": [
        "exp.insert(0,100)\n",
        "exp"
      ],
      "metadata": {
        "colab": {
          "base_uri": "https://localhost:8080/"
        },
        "id": "lTAsSmGpffW5",
        "outputId": "30d81f75-c113-4b4a-f73b-4c974da82958"
      },
      "execution_count": 94,
      "outputs": [
        {
          "output_type": "execute_result",
          "data": {
            "text/plain": [
              "[100, 1, 2, 3, 4, 5, 100]"
            ]
          },
          "metadata": {},
          "execution_count": 94
        }
      ]
    },
    {
      "cell_type": "code",
      "source": [
        "exp.count(100)"
      ],
      "metadata": {
        "colab": {
          "base_uri": "https://localhost:8080/"
        },
        "id": "Bz-6Qjj2ftCJ",
        "outputId": "421013ee-ff7a-4945-cd2e-ae19cc9d8537"
      },
      "execution_count": 95,
      "outputs": [
        {
          "output_type": "execute_result",
          "data": {
            "text/plain": [
              "2"
            ]
          },
          "metadata": {},
          "execution_count": 95
        }
      ]
    },
    {
      "cell_type": "code",
      "source": [
        "exp1 = [1,2,3]\n",
        "exp2 = [10,20,30]\n",
        "# exp1.extend(exp2)\n",
        "exp1 = exp1 + exp2"
      ],
      "metadata": {
        "id": "wOy4gPKbf06J"
      },
      "execution_count": 98,
      "outputs": []
    },
    {
      "cell_type": "code",
      "source": [
        "exp1"
      ],
      "metadata": {
        "colab": {
          "base_uri": "https://localhost:8080/"
        },
        "id": "QjQ5O6LKgBQI",
        "outputId": "79e21504-a413-4ec8-c6f5-b89df755e434"
      },
      "execution_count": 99,
      "outputs": [
        {
          "output_type": "execute_result",
          "data": {
            "text/plain": [
              "[1, 2, 3, 10, 20, 30]"
            ]
          },
          "metadata": {},
          "execution_count": 99
        }
      ]
    },
    {
      "cell_type": "code",
      "source": [
        "exp = [10,50,100,2,5]\n",
        "exp"
      ],
      "metadata": {
        "colab": {
          "base_uri": "https://localhost:8080/"
        },
        "id": "g_eNNlMogG5x",
        "outputId": "efde75bf-d68b-4d47-ae57-b83481e410f0"
      },
      "execution_count": 100,
      "outputs": [
        {
          "output_type": "execute_result",
          "data": {
            "text/plain": [
              "[10, 50, 100, 2, 5]"
            ]
          },
          "metadata": {},
          "execution_count": 100
        }
      ]
    },
    {
      "cell_type": "code",
      "source": [
        "exp.sort(reverse=True)"
      ],
      "metadata": {
        "id": "8ZPT6S6Ugd3S"
      },
      "execution_count": 103,
      "outputs": []
    },
    {
      "cell_type": "code",
      "source": [
        "exp[:2]"
      ],
      "metadata": {
        "colab": {
          "base_uri": "https://localhost:8080/"
        },
        "id": "4ytYC-6Dgh7J",
        "outputId": "60d856c4-becb-4917-e549-1e7637ec2edb"
      },
      "execution_count": 105,
      "outputs": [
        {
          "output_type": "execute_result",
          "data": {
            "text/plain": [
              "[100, 50]"
            ]
          },
          "metadata": {},
          "execution_count": 105
        }
      ]
    },
    {
      "cell_type": "code",
      "source": [
        "exp = [1,2,3,4,5,6,7,8,9,10]\n",
        "exp"
      ],
      "metadata": {
        "colab": {
          "base_uri": "https://localhost:8080/"
        },
        "id": "hIftWaB8glDJ",
        "outputId": "d41f6a52-4bfd-44b4-bab0-2334f563c9fc"
      },
      "execution_count": 106,
      "outputs": [
        {
          "output_type": "execute_result",
          "data": {
            "text/plain": [
              "[1, 2, 3, 4, 5, 6, 7, 8, 9, 10]"
            ]
          },
          "metadata": {},
          "execution_count": 106
        }
      ]
    },
    {
      "cell_type": "code",
      "source": [
        "exp[ 0 : 5 : 1]"
      ],
      "metadata": {
        "colab": {
          "base_uri": "https://localhost:8080/"
        },
        "id": "sI4AxVK-hwgg",
        "outputId": "0b3ff1d7-4bf9-4900-ec1c-16899c821704"
      },
      "execution_count": 110,
      "outputs": [
        {
          "output_type": "execute_result",
          "data": {
            "text/plain": [
              "[1, 2, 3, 4, 5]"
            ]
          },
          "metadata": {},
          "execution_count": 110
        }
      ]
    },
    {
      "cell_type": "code",
      "source": [
        "exp[ 0 : 5 : 2]"
      ],
      "metadata": {
        "colab": {
          "base_uri": "https://localhost:8080/"
        },
        "id": "tiACAsXPh5YU",
        "outputId": "60937420-7419-417a-f920-672adf288734"
      },
      "execution_count": 111,
      "outputs": [
        {
          "output_type": "execute_result",
          "data": {
            "text/plain": [
              "[1, 3, 5]"
            ]
          },
          "metadata": {},
          "execution_count": 111
        }
      ]
    },
    {
      "cell_type": "code",
      "source": [
        "exp[  :  : -1]"
      ],
      "metadata": {
        "colab": {
          "base_uri": "https://localhost:8080/"
        },
        "id": "Wz5HB_AXiK9o",
        "outputId": "c9f1c60a-335e-4df9-ef2c-9fd0d308da55"
      },
      "execution_count": 113,
      "outputs": [
        {
          "output_type": "execute_result",
          "data": {
            "text/plain": [
              "[10, 9, 8, 7, 6, 5, 4, 3, 2, 1]"
            ]
          },
          "metadata": {},
          "execution_count": 113
        }
      ]
    },
    {
      "cell_type": "code",
      "source": [
        "exp"
      ],
      "metadata": {
        "colab": {
          "base_uri": "https://localhost:8080/"
        },
        "id": "5IrgKdZfjHpm",
        "outputId": "ec87ac8f-504c-4691-d47f-18541bb78813"
      },
      "execution_count": 115,
      "outputs": [
        {
          "output_type": "execute_result",
          "data": {
            "text/plain": [
              "[1, 2, 3, 4, 5, 6, 7, 8, 9, 10]"
            ]
          },
          "metadata": {},
          "execution_count": 115
        }
      ]
    },
    {
      "cell_type": "code",
      "source": [
        "exp[ 5 : 0 : -1]"
      ],
      "metadata": {
        "colab": {
          "base_uri": "https://localhost:8080/"
        },
        "id": "CkWvWYSYiM3Q",
        "outputId": "38d2941d-c6b2-4dec-82aa-5b18029ebf70"
      },
      "execution_count": 117,
      "outputs": [
        {
          "output_type": "execute_result",
          "data": {
            "text/plain": [
              "[6, 5, 4, 3, 2]"
            ]
          },
          "metadata": {},
          "execution_count": 117
        }
      ]
    },
    {
      "cell_type": "markdown",
      "source": [
        "많이 사용하는 리스트 관련 명령어\n",
        "  - 슬라이싱\n",
        "    - [ : number] , [number : ]\n",
        "    - 데이터 추가  append(number)\n",
        "    - [ : ]  복사(깊은복사)\n",
        "    - [::-1] : 정렬기능중에 내림차순을 제공안하는 경우"
      ],
      "metadata": {
        "id": "WNMoJwbRjbUi"
      }
    },
    {
      "cell_type": "code",
      "source": [
        "song = \"동해물과 백두산이 마르고 닳도록\"\n",
        "song"
      ],
      "metadata": {
        "colab": {
          "base_uri": "https://localhost:8080/",
          "height": 35
        },
        "id": "SAK7kkzDi4oI",
        "outputId": "1d754493-664f-4da5-b9ed-2253fbde9bbd"
      },
      "execution_count": 118,
      "outputs": [
        {
          "output_type": "execute_result",
          "data": {
            "text/plain": [
              "'동해물과 백두산이 마르고 닳도록'"
            ],
            "application/vnd.google.colaboratory.intrinsic+json": {
              "type": "string"
            }
          },
          "metadata": {},
          "execution_count": 118
        }
      ]
    },
    {
      "cell_type": "code",
      "source": [
        "song[0]"
      ],
      "metadata": {
        "colab": {
          "base_uri": "https://localhost:8080/",
          "height": 35
        },
        "id": "Q6ybDX-fkVP0",
        "outputId": "da41f683-bc4c-4f61-f4ad-9107977c49ba"
      },
      "execution_count": 119,
      "outputs": [
        {
          "output_type": "execute_result",
          "data": {
            "text/plain": [
              "'동'"
            ],
            "application/vnd.google.colaboratory.intrinsic+json": {
              "type": "string"
            }
          },
          "metadata": {},
          "execution_count": 119
        }
      ]
    },
    {
      "cell_type": "code",
      "source": [
        "today = \"2023-06-20\""
      ],
      "metadata": {
        "id": "biInzYCskZOg"
      },
      "execution_count": 120,
      "outputs": []
    },
    {
      "cell_type": "code",
      "source": [
        "year = today[ : 4]\n",
        "month = today[ 5 : 7 ]\n",
        "day = today[ -2 : ]"
      ],
      "metadata": {
        "id": "1Wpr6x0tkmxI"
      },
      "execution_count": 124,
      "outputs": []
    },
    {
      "cell_type": "code",
      "source": [
        "year,month,day"
      ],
      "metadata": {
        "colab": {
          "base_uri": "https://localhost:8080/"
        },
        "id": "3KTw2vZTkwQA",
        "outputId": "cb2fa7ea-d7ba-4aa0-c6bb-852f4330ffd4"
      },
      "execution_count": 123,
      "outputs": [
        {
          "output_type": "execute_result",
          "data": {
            "text/plain": [
              "('2023', '06', '20')"
            ]
          },
          "metadata": {},
          "execution_count": 123
        }
      ]
    },
    {
      "cell_type": "code",
      "source": [
        "today.split(\"-\")"
      ],
      "metadata": {
        "colab": {
          "base_uri": "https://localhost:8080/"
        },
        "id": "cOZ-wIxXlaj4",
        "outputId": "7f11ba09-99ed-48a7-dd4c-48f5419a5199"
      },
      "execution_count": 125,
      "outputs": [
        {
          "output_type": "execute_result",
          "data": {
            "text/plain": [
              "['2023', '06', '20']"
            ]
          },
          "metadata": {},
          "execution_count": 125
        }
      ]
    },
    {
      "cell_type": "code",
      "source": [],
      "metadata": {
        "id": "-RkzOk7DmiCk"
      },
      "execution_count": null,
      "outputs": []
    },
    {
      "cell_type": "code",
      "source": [
        "# 1부터 10까지의 리스트를 만들고\n",
        "exp = list(range(1,11))\n",
        "print(exp)\n",
        "# 짝수만 출력\n",
        "print(exp[1::2])\n",
        "temp = exp[1::2]\n",
        "print(temp[::-1])\n",
        "# print(exp[1::2][::-1])\n",
        "# 역순으로 출력\n",
        "print(exp[-1::-2])\n",
        "\n",
        "# 홀수만 출력\n",
        "print(exp[::2])"
      ],
      "metadata": {
        "colab": {
          "base_uri": "https://localhost:8080/"
        },
        "id": "r0A29-Xeltuv",
        "outputId": "7a227b3b-c4d2-4de9-ed6c-663c52b46853"
      },
      "execution_count": 145,
      "outputs": [
        {
          "output_type": "stream",
          "name": "stdout",
          "text": [
            "[1, 2, 3, 4, 5, 6, 7, 8, 9, 10]\n",
            "[2, 4, 6, 8, 10]\n",
            "[10, 8, 6, 4, 2]\n",
            "[10, 8, 6, 4, 2]\n",
            "[1, 3, 5, 7, 9]\n"
          ]
        }
      ]
    },
    {
      "cell_type": "code",
      "source": [
        "# 오름차순 정렬\n",
        "exp.sort()\n",
        "print(exp)\n",
        "# 내림차순 정렬\n",
        "exp.sort(reverse=True)\n",
        "print(exp)"
      ],
      "metadata": {
        "colab": {
          "base_uri": "https://localhost:8080/"
        },
        "id": "4pYybvUSl_Nc",
        "outputId": "4e8ccfa2-445a-4d2e-d4b0-7a2264f05aec"
      },
      "execution_count": 147,
      "outputs": [
        {
          "output_type": "stream",
          "name": "stdout",
          "text": [
            "[1, 2, 3, 4, 5, 6, 7, 8, 9, 10]\n",
            "[10, 9, 8, 7, 6, 5, 4, 3, 2, 1]\n"
          ]
        }
      ]
    },
    {
      "cell_type": "markdown",
      "source": [
        "튜플 Tuple\n",
        "  - (1,2,3,4,5)\n",
        "  - 리스트와 유사\n",
        "  - 값을 변경할 수 없음"
      ],
      "metadata": {
        "id": "ngVlW4rXon3B"
      }
    },
    {
      "cell_type": "code",
      "source": [
        "tu1 = (1,2,3,4)\n",
        "tu1"
      ],
      "metadata": {
        "colab": {
          "base_uri": "https://localhost:8080/"
        },
        "id": "IjYe3eqam30P",
        "outputId": "25b473c5-11e8-4db6-8bd7-3decc084ef0e"
      },
      "execution_count": 148,
      "outputs": [
        {
          "output_type": "execute_result",
          "data": {
            "text/plain": [
              "(1, 2, 3, 4)"
            ]
          },
          "metadata": {},
          "execution_count": 148
        }
      ]
    },
    {
      "cell_type": "code",
      "source": [
        "# 변경 불가능\n",
        "# tu1[0] = 100"
      ],
      "metadata": {
        "id": "gAAP-8o1ri_Q"
      },
      "execution_count": 151,
      "outputs": []
    },
    {
      "cell_type": "code",
      "source": [
        "tu1[:2]"
      ],
      "metadata": {
        "colab": {
          "base_uri": "https://localhost:8080/"
        },
        "id": "5v1dozy6rlId",
        "outputId": "e957d403-cc8b-46d7-cd8b-157565bf35d5"
      },
      "execution_count": 153,
      "outputs": [
        {
          "output_type": "execute_result",
          "data": {
            "text/plain": [
              "(1, 2)"
            ]
          },
          "metadata": {},
          "execution_count": 153
        }
      ]
    },
    {
      "cell_type": "code",
      "source": [
        "tu1 + tu1"
      ],
      "metadata": {
        "colab": {
          "base_uri": "https://localhost:8080/"
        },
        "id": "1cyXQqwSr9Je",
        "outputId": "11ebe1e4-0a1f-4223-995f-8a5abbc316b8"
      },
      "execution_count": 154,
      "outputs": [
        {
          "output_type": "execute_result",
          "data": {
            "text/plain": [
              "(1, 2, 3, 4, 1, 2, 3, 4)"
            ]
          },
          "metadata": {},
          "execution_count": 154
        }
      ]
    },
    {
      "cell_type": "code",
      "source": [
        "tu1*2"
      ],
      "metadata": {
        "colab": {
          "base_uri": "https://localhost:8080/"
        },
        "id": "NNVKRBpwsW02",
        "outputId": "c2724c1c-bde3-4b1a-a2af-2b005f9e5be8"
      },
      "execution_count": 155,
      "outputs": [
        {
          "output_type": "execute_result",
          "data": {
            "text/plain": [
              "(1, 2, 3, 4, 1, 2, 3, 4)"
            ]
          },
          "metadata": {},
          "execution_count": 155
        }
      ]
    },
    {
      "cell_type": "code",
      "source": [
        "len(tu1)"
      ],
      "metadata": {
        "colab": {
          "base_uri": "https://localhost:8080/"
        },
        "id": "qpAX-hlAsewe",
        "outputId": "c06ad8ed-08cb-4152-a140-a7dd449295d4"
      },
      "execution_count": 156,
      "outputs": [
        {
          "output_type": "execute_result",
          "data": {
            "text/plain": [
              "4"
            ]
          },
          "metadata": {},
          "execution_count": 156
        }
      ]
    },
    {
      "cell_type": "markdown",
      "source": [
        "튜플과 리스트를 섞어서 사용하기"
      ],
      "metadata": {
        "id": "yvXc-Ywdsk4S"
      }
    },
    {
      "cell_type": "code",
      "source": [
        "tu1 = (1, 2, 20.5, '홍길동')"
      ],
      "metadata": {
        "id": "ohs1H-Nbshl-"
      },
      "execution_count": 157,
      "outputs": []
    },
    {
      "cell_type": "code",
      "source": [
        "tu1 = ( (1,2), 10, 20 , [1,2,3,4,5]   )"
      ],
      "metadata": {
        "id": "PUb5ZhN8sr4_"
      },
      "execution_count": 158,
      "outputs": []
    },
    {
      "cell_type": "code",
      "source": [
        "lst1 = [ (1,2), 10, 20 , [1,2,3,4,5]   ]"
      ],
      "metadata": {
        "id": "bRjxMZAps5tt"
      },
      "execution_count": 159,
      "outputs": []
    },
    {
      "cell_type": "code",
      "source": [
        "list2dim = [ [1,2],[3,4],[5,6],[7,8] ]\n",
        "list2dim"
      ],
      "metadata": {
        "colab": {
          "base_uri": "https://localhost:8080/"
        },
        "id": "vlpn8WOutKp3",
        "outputId": "159feac0-d299-4e12-8632-d8b8ec41d8ff"
      },
      "execution_count": 164,
      "outputs": [
        {
          "output_type": "execute_result",
          "data": {
            "text/plain": [
              "[[1, 2], [3, 4], [5, 6], [7, 8]]"
            ]
          },
          "metadata": {},
          "execution_count": 164
        }
      ]
    },
    {
      "cell_type": "code",
      "source": [
        "len(list2dim)"
      ],
      "metadata": {
        "colab": {
          "base_uri": "https://localhost:8080/"
        },
        "id": "SDIY9h_NtcGG",
        "outputId": "0c36f349-735e-4cbb-e4b7-7b4f99ecd95c"
      },
      "execution_count": 165,
      "outputs": [
        {
          "output_type": "execute_result",
          "data": {
            "text/plain": [
              "4"
            ]
          },
          "metadata": {},
          "execution_count": 165
        }
      ]
    },
    {
      "cell_type": "code",
      "source": [
        "list2dim[0]"
      ],
      "metadata": {
        "id": "k1-M9YTut4hI"
      },
      "execution_count": null,
      "outputs": []
    },
    {
      "cell_type": "code",
      "source": [
        "list3dim = [   [ [1,2],[3,4],[5,6],[7,8] ],[ [1,2],[3,4],[5,6],[7,8] ]             ]\n",
        "list3dim[0]"
      ],
      "metadata": {
        "colab": {
          "base_uri": "https://localhost:8080/"
        },
        "id": "Bqgn_8fsuTkg",
        "outputId": "a9f2b0ed-0887-44b7-9384-b9cc27b419a0"
      },
      "execution_count": 166,
      "outputs": [
        {
          "output_type": "execute_result",
          "data": {
            "text/plain": [
              "[[1, 2], [3, 4], [5, 6], [7, 8]]"
            ]
          },
          "metadata": {},
          "execution_count": 166
        }
      ]
    },
    {
      "cell_type": "code",
      "source": [
        "list2dim"
      ],
      "metadata": {
        "colab": {
          "base_uri": "https://localhost:8080/"
        },
        "id": "GNH807zCurCt",
        "outputId": "5cc82a4f-03ae-4035-e37e-cdad8bfa310b"
      },
      "execution_count": 167,
      "outputs": [
        {
          "output_type": "execute_result",
          "data": {
            "text/plain": [
              "[[1, 2], [3, 4], [5, 6], [7, 8]]"
            ]
          },
          "metadata": {},
          "execution_count": 167
        }
      ]
    },
    {
      "cell_type": "code",
      "source": [
        "list2dim[0] + list2dim[1] + list2dim[2] + list2dim[3]"
      ],
      "metadata": {
        "colab": {
          "base_uri": "https://localhost:8080/"
        },
        "id": "E02-OjA9us0F",
        "outputId": "40ec6a6c-1893-4d54-a3dc-19ae92bf4bb3"
      },
      "execution_count": 172,
      "outputs": [
        {
          "output_type": "execute_result",
          "data": {
            "text/plain": [
              "[1, 2, 3, 4, 5, 6, 7, 8]"
            ]
          },
          "metadata": {},
          "execution_count": 172
        }
      ]
    },
    {
      "cell_type": "code",
      "source": [
        "temp = list(range(1,11))\n",
        "temp"
      ],
      "metadata": {
        "colab": {
          "base_uri": "https://localhost:8080/"
        },
        "id": "CW_fPHsLuy8d",
        "outputId": "b00ffe49-064d-46a9-977a-52f8b0fed44f"
      },
      "execution_count": 174,
      "outputs": [
        {
          "output_type": "execute_result",
          "data": {
            "text/plain": [
              "[1, 2, 3, 4, 5, 6, 7, 8, 9, 10]"
            ]
          },
          "metadata": {},
          "execution_count": 174
        }
      ]
    },
    {
      "cell_type": "code",
      "source": [
        "new_temp = [   temp[ :5 ]  , temp[ 5 : ]     ]\n",
        "new_temp"
      ],
      "metadata": {
        "colab": {
          "base_uri": "https://localhost:8080/"
        },
        "id": "17eZqEJ5vq7j",
        "outputId": "fc1d2890-66b6-42d3-b810-f07b91b7bc1b"
      },
      "execution_count": 176,
      "outputs": [
        {
          "output_type": "execute_result",
          "data": {
            "text/plain": [
              "[[1, 2, 3, 4, 5], [6, 7, 8, 9, 10]]"
            ]
          },
          "metadata": {},
          "execution_count": 176
        }
      ]
    },
    {
      "cell_type": "code",
      "source": [
        "new_temp = [[1, 2, 3, 4, 5], [6, 7, 8, 9, 10] ]"
      ],
      "metadata": {
        "id": "KWM3ljj4vYkO"
      },
      "execution_count": null,
      "outputs": []
    },
    {
      "cell_type": "code",
      "source": [
        "new_temp[0][0],new_temp[1][0],new_temp[0][:3], new_temp[1][3:]"
      ],
      "metadata": {
        "colab": {
          "base_uri": "https://localhost:8080/"
        },
        "id": "_J9PamxOwZQY",
        "outputId": "1a0291b8-7038-4f06-809e-6b8754ed14ba"
      },
      "execution_count": 177,
      "outputs": [
        {
          "output_type": "execute_result",
          "data": {
            "text/plain": [
              "(1, 6, [1, 2, 3], [9, 10])"
            ]
          },
          "metadata": {},
          "execution_count": 177
        }
      ]
    },
    {
      "cell_type": "code",
      "source": [
        "# 3 by 3\n",
        "temp = list(range(1,10))\n",
        "temp = [temp[:3]  , temp[3:-3]  ,temp[-3 : ]  ]\n",
        "temp[0][0],temp[1][1],temp[2][2]"
      ],
      "metadata": {
        "colab": {
          "base_uri": "https://localhost:8080/"
        },
        "id": "nO04PqbVwrRl",
        "outputId": "8a12ca7d-682d-423a-bbb2-b8b864d4d8e4"
      },
      "execution_count": 182,
      "outputs": [
        {
          "output_type": "execute_result",
          "data": {
            "text/plain": [
              "[[1, 2, 3], [4, 5, 6], [7, 8, 9]]"
            ]
          },
          "metadata": {},
          "execution_count": 182
        }
      ]
    },
    {
      "cell_type": "code",
      "source": [
        "list( (1,2,3) )"
      ],
      "metadata": {
        "colab": {
          "base_uri": "https://localhost:8080/"
        },
        "id": "SFq2Cd_Xw2n8",
        "outputId": "ce82c2d8-ae1a-434a-8ad1-9edfac8dff3b"
      },
      "execution_count": 181,
      "outputs": [
        {
          "output_type": "execute_result",
          "data": {
            "text/plain": [
              "[1, 2, 3]"
            ]
          },
          "metadata": {},
          "execution_count": 181
        }
      ]
    },
    {
      "cell_type": "markdown",
      "source": [
        "- 리스트\n",
        "  - [ ], list()\n",
        "- 튜플\n",
        "  - ( ), tuple()\n",
        "- 딕션너리(Dictionary)\n",
        "  - key : value\n",
        "  - key는 unique하다..(민증)\n",
        "  - 만드는 방법 : {}  , dict()\n"
      ],
      "metadata": {
        "id": "AsEggFjqyIjY"
      }
    },
    {
      "cell_type": "code",
      "source": [
        "# 학사관리 프로그램\n",
        "# 학생당 과목은 국영수를 수강\n",
        "# 3명의 학생의 이름과 과목을 관리해 보자"
      ],
      "metadata": {
        "id": "B907PEX1w_z9"
      },
      "execution_count": 184,
      "outputs": []
    },
    {
      "cell_type": "code",
      "source": [
        "student_names = ['A','B','C']\n",
        "student_socres = [ [80,80,80],[85,85,85],[90,90,90]  ]"
      ],
      "metadata": {
        "id": "i4ObGd6TzfV7"
      },
      "execution_count": 185,
      "outputs": []
    },
    {
      "cell_type": "code",
      "source": [
        "dic1 = {\n",
        "        'A':{'KOR':80,'ENG':80,'MATH':80},\n",
        "        'B':[85,85,85]  ,\n",
        "        'C' : [90,90,90]\n",
        "      }"
      ],
      "metadata": {
        "id": "mWoT1rXaz_qz"
      },
      "execution_count": 186,
      "outputs": []
    },
    {
      "cell_type": "code",
      "source": [
        "print(dic1.keys())\n",
        "print(dic1.values())"
      ],
      "metadata": {
        "colab": {
          "base_uri": "https://localhost:8080/"
        },
        "id": "zhQyWSaA05tU",
        "outputId": "79847812-c02a-4b8c-eaf4-76612af59388"
      },
      "execution_count": 191,
      "outputs": [
        {
          "output_type": "stream",
          "name": "stdout",
          "text": [
            "dict_keys(['A', 'B', 'C'])\n",
            "dict_values([[80, 80, 80], [85, 85, 85], [90, 90, 90]])\n"
          ]
        }
      ]
    },
    {
      "cell_type": "code",
      "source": [
        "dic1['A']"
      ],
      "metadata": {
        "colab": {
          "base_uri": "https://localhost:8080/"
        },
        "id": "AylyIzuV0_18",
        "outputId": "fea7e86a-0a7a-4a60-a4e9-05e43e03eecc"
      },
      "execution_count": 194,
      "outputs": [
        {
          "output_type": "execute_result",
          "data": {
            "text/plain": [
              "[80, 80, 80]"
            ]
          },
          "metadata": {},
          "execution_count": 194
        }
      ]
    },
    {
      "cell_type": "code",
      "source": [],
      "metadata": {
        "id": "g9eGsdGi1PpT"
      },
      "execution_count": null,
      "outputs": []
    }
  ]
}