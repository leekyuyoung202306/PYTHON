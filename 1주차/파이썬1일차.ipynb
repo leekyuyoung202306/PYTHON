{
  "nbformat": 4,
  "nbformat_minor": 0,
  "metadata": {
    "colab": {
      "provenance": []
    },
    "kernelspec": {
      "name": "python3",
      "display_name": "Python 3"
    },
    "language_info": {
      "name": "python"
    }
  },
  "cells": [
    {
      "cell_type": "markdown",
      "source": [
        "파이썬 변수\n",
        "  - 정수형\n",
        "  - 문자열\n",
        "  - 실수\n",
        "  - 불리언"
      ],
      "metadata": {
        "id": "3ARGeH8zWvfU"
      }
    },
    {
      "cell_type": "markdown",
      "source": [
        "정수형"
      ],
      "metadata": {
        "id": "ssOgWudxW6Wa"
      }
    },
    {
      "cell_type": "code",
      "source": [
        "# 숫자 변수\n",
        "number = 10\n",
        "print(number)"
      ],
      "metadata": {
        "id": "OPUN2SzQVZiD",
        "colab": {
          "base_uri": "https://localhost:8080/"
        },
        "outputId": "b3e48af3-f71e-40d3-e4e0-a92524fd4bf8"
      },
      "execution_count": null,
      "outputs": [
        {
          "output_type": "stream",
          "name": "stdout",
          "text": [
            "10\n"
          ]
        }
      ]
    },
    {
      "cell_type": "code",
      "source": [
        "# 년 월 일을 각각 변수 넣고 출력\n",
        "year = 2023\n",
        "month = 6\n",
        "day = 19"
      ],
      "metadata": {
        "id": "7FS_GSGFXCS0"
      },
      "execution_count": null,
      "outputs": []
    },
    {
      "cell_type": "code",
      "source": [
        "print(year,month,day)"
      ],
      "metadata": {
        "colab": {
          "base_uri": "https://localhost:8080/"
        },
        "id": "mB3U5fgnXXaq",
        "outputId": "21367925-28af-4c1d-e622-dc4858e80f61"
      },
      "execution_count": null,
      "outputs": [
        {
          "output_type": "stream",
          "name": "stdout",
          "text": [
            "2023 6 19\n"
          ]
        }
      ]
    },
    {
      "cell_type": "markdown",
      "source": [
        "실수형"
      ],
      "metadata": {
        "id": "wWZbTVvdX497"
      }
    },
    {
      "cell_type": "code",
      "source": [
        "pi = 3.14"
      ],
      "metadata": {
        "id": "FuTiGrTsXz7K"
      },
      "execution_count": null,
      "outputs": []
    },
    {
      "cell_type": "code",
      "source": [
        "print(pi)"
      ],
      "metadata": {
        "colab": {
          "base_uri": "https://localhost:8080/"
        },
        "id": "jYfD1BZyX_YS",
        "outputId": "1df6c0df-cd67-47b4-ea4b-591c79c3c405"
      },
      "execution_count": null,
      "outputs": [
        {
          "output_type": "stream",
          "name": "stdout",
          "text": [
            "3.14\n"
          ]
        }
      ]
    },
    {
      "cell_type": "markdown",
      "source": [
        "사칙연산 : 이항연산\n",
        "  - +\n",
        "  - -\n",
        "  - *\n",
        "  - /"
      ],
      "metadata": {
        "id": "tuODfksdYJyr"
      }
    },
    {
      "cell_type": "code",
      "source": [
        "num1 = 5\n",
        "num2 = 2"
      ],
      "metadata": {
        "id": "s7fGsk4ZYAEK"
      },
      "execution_count": null,
      "outputs": []
    },
    {
      "cell_type": "code",
      "source": [
        "num1 = 5; num2 = 2"
      ],
      "metadata": {
        "id": "0CFjQVvZYdXi"
      },
      "execution_count": null,
      "outputs": []
    },
    {
      "cell_type": "code",
      "source": [
        "num1, num2 = 5, 2"
      ],
      "metadata": {
        "id": "MUXxZI9ZYlKJ"
      },
      "execution_count": null,
      "outputs": []
    },
    {
      "cell_type": "code",
      "source": [
        "sum( [1,20,22,15,14,1,4,5,1,4,1] )"
      ],
      "metadata": {
        "colab": {
          "base_uri": "https://localhost:8080/"
        },
        "id": "nPcoFI-NYoAR",
        "outputId": "1f23b43a-9dbf-4219-8a16-39fde3817714"
      },
      "execution_count": null,
      "outputs": [
        {
          "output_type": "execute_result",
          "data": {
            "text/plain": [
              "88"
            ]
          },
          "metadata": {},
          "execution_count": 1
        }
      ]
    },
    {
      "cell_type": "code",
      "source": [
        "hap = num1 + num2\n",
        "print(hap)"
      ],
      "metadata": {
        "colab": {
          "base_uri": "https://localhost:8080/"
        },
        "id": "e2HghJYMZE-R",
        "outputId": "adb352d1-5ac7-4123-a4d5-cf61a95aa0df"
      },
      "execution_count": null,
      "outputs": [
        {
          "output_type": "stream",
          "name": "stdout",
          "text": [
            "7\n"
          ]
        }
      ]
    },
    {
      "cell_type": "code",
      "source": [
        "print(num1 - num2)"
      ],
      "metadata": {
        "colab": {
          "base_uri": "https://localhost:8080/"
        },
        "id": "y6CphFJxZrFa",
        "outputId": "d1f62565-d20e-437e-bc28-1c501ee2e67e"
      },
      "execution_count": null,
      "outputs": [
        {
          "output_type": "stream",
          "name": "stdout",
          "text": [
            "3\n"
          ]
        }
      ]
    },
    {
      "cell_type": "code",
      "source": [
        "print(num1 * num2)"
      ],
      "metadata": {
        "colab": {
          "base_uri": "https://localhost:8080/"
        },
        "id": "AJPL0Bu2bmXy",
        "outputId": "7e46b920-81e2-412f-cff3-e95e691d3cfd"
      },
      "execution_count": null,
      "outputs": [
        {
          "output_type": "stream",
          "name": "stdout",
          "text": [
            "10\n"
          ]
        }
      ]
    },
    {
      "cell_type": "code",
      "source": [
        "print(num1 / num2)"
      ],
      "metadata": {
        "colab": {
          "base_uri": "https://localhost:8080/"
        },
        "id": "o7p__02Vbplp",
        "outputId": "7b8b064e-e47b-4bde-e5c5-f4663bb9c5e8"
      },
      "execution_count": null,
      "outputs": [
        {
          "output_type": "stream",
          "name": "stdout",
          "text": [
            "2.5\n"
          ]
        }
      ]
    },
    {
      "cell_type": "code",
      "source": [
        "num2**3"
      ],
      "metadata": {
        "colab": {
          "base_uri": "https://localhost:8080/"
        },
        "id": "tzt7Uijkbzdc",
        "outputId": "9cdf6e23-b109-43a2-8b9d-a1881177af34"
      },
      "execution_count": null,
      "outputs": [
        {
          "output_type": "execute_result",
          "data": {
            "text/plain": [
              "8"
            ]
          },
          "metadata": {},
          "execution_count": 10
        }
      ]
    },
    {
      "cell_type": "code",
      "source": [
        "# num1 과 num2를 나누기하면 몫과 나머지를 각각 구해봅시다\n",
        "print(num1 // num2)"
      ],
      "metadata": {
        "colab": {
          "base_uri": "https://localhost:8080/"
        },
        "id": "0jLYPzfvb1fZ",
        "outputId": "3b6d1039-e08e-4eed-aa19-6e09d54994b5"
      },
      "execution_count": null,
      "outputs": [
        {
          "output_type": "stream",
          "name": "stdout",
          "text": [
            "2\n"
          ]
        }
      ]
    },
    {
      "cell_type": "code",
      "source": [
        "num1 / num2 - num1//num2"
      ],
      "metadata": {
        "colab": {
          "base_uri": "https://localhost:8080/"
        },
        "id": "j2m89OrdcbBg",
        "outputId": "6b3b4839-fe05-432d-9d2b-31e39e8d6164"
      },
      "execution_count": null,
      "outputs": [
        {
          "output_type": "execute_result",
          "data": {
            "text/plain": [
              "0.5"
            ]
          },
          "metadata": {},
          "execution_count": 12
        }
      ]
    },
    {
      "cell_type": "code",
      "source": [
        "# 나머지 연산자\n",
        "print(num1 % num2)"
      ],
      "metadata": {
        "colab": {
          "base_uri": "https://localhost:8080/"
        },
        "id": "SAvEWaqJcrD5",
        "outputId": "196d3d33-c390-44db-fa04-8e9803604049"
      },
      "execution_count": null,
      "outputs": [
        {
          "output_type": "stream",
          "name": "stdout",
          "text": [
            "1\n"
          ]
        }
      ]
    },
    {
      "cell_type": "code",
      "source": [
        "# 잔돈거슬러 주기\n",
        "product_price = 7500\n",
        "pay_money = 10000\n",
        "# 몫과 나머지 연산자(//  %) 이용해서\n",
        "# 점원이 잔돈을 줄때\n",
        "# 1000 : ?\n",
        "# 500 : ?\n",
        "# 100 : ?\n",
        "# 50 : ?\n",
        "# 10 : ?"
      ],
      "metadata": {
        "id": "36CiumBNcxmZ"
      },
      "execution_count": null,
      "outputs": []
    },
    {
      "cell_type": "markdown",
      "source": [
        "문자열\n",
        "  - 문자들의 집합\n",
        "  - 문자 : character의 약자인 char\n",
        "  - 문자열 : String"
      ],
      "metadata": {
        "id": "g7D2XvtJdmUZ"
      }
    },
    {
      "cell_type": "code",
      "source": [
        "\"안녕하세요 'python' \""
      ],
      "metadata": {
        "colab": {
          "base_uri": "https://localhost:8080/",
          "height": 35
        },
        "id": "VYhCiwr-dZgR",
        "outputId": "232ba2cd-b92f-416c-899a-3a7ac22f151c"
      },
      "execution_count": null,
      "outputs": [
        {
          "output_type": "execute_result",
          "data": {
            "text/plain": [
              "\"안녕하세요 'python' \""
            ],
            "application/vnd.google.colaboratory.intrinsic+json": {
              "type": "string"
            }
          },
          "metadata": {},
          "execution_count": 16
        }
      ]
    },
    {
      "cell_type": "code",
      "source": [
        "'안녕하세요 \"python\" '"
      ],
      "metadata": {
        "colab": {
          "base_uri": "https://localhost:8080/",
          "height": 35
        },
        "id": "MH-hsXudd_s5",
        "outputId": "f4ad530b-b3d3-41d1-9281-454551667e28"
      },
      "execution_count": null,
      "outputs": [
        {
          "output_type": "execute_result",
          "data": {
            "text/plain": [
              "'안녕하세요 \"python\" '"
            ],
            "application/vnd.google.colaboratory.intrinsic+json": {
              "type": "string"
            }
          },
          "metadata": {},
          "execution_count": 17
        }
      ]
    },
    {
      "cell_type": "markdown",
      "source": [
        "사용자로부터 입력을 받기"
      ],
      "metadata": {
        "id": "zsxreNjceimz"
      }
    },
    {
      "cell_type": "code",
      "source": [
        "age = input(\"나이를 입력하세요\")"
      ],
      "metadata": {
        "colab": {
          "base_uri": "https://localhost:8080/"
        },
        "id": "nL6DcfW7eX9o",
        "outputId": "e357c9be-53c3-4e87-c635-a3f49d63cba0"
      },
      "execution_count": null,
      "outputs": [
        {
          "name": "stdout",
          "output_type": "stream",
          "text": [
            "나이를 입력하세요25\n"
          ]
        }
      ]
    },
    {
      "cell_type": "code",
      "source": [
        "age"
      ],
      "metadata": {
        "colab": {
          "base_uri": "https://localhost:8080/",
          "height": 35
        },
        "id": "W45wqhZuepKf",
        "outputId": "e6580bd8-ab65-4ba3-cd00-4774d0e625b3"
      },
      "execution_count": null,
      "outputs": [
        {
          "output_type": "execute_result",
          "data": {
            "text/plain": [
              "'25'"
            ],
            "application/vnd.google.colaboratory.intrinsic+json": {
              "type": "string"
            }
          },
          "metadata": {},
          "execution_count": 21
        }
      ]
    },
    {
      "cell_type": "code",
      "source": [
        "\"a\"+\"b\""
      ],
      "metadata": {
        "colab": {
          "base_uri": "https://localhost:8080/",
          "height": 35
        },
        "id": "ixBdXtm0ergQ",
        "outputId": "e9cc1c20-db34-410a-b1e2-d2f6c8b7dd36"
      },
      "execution_count": null,
      "outputs": [
        {
          "output_type": "execute_result",
          "data": {
            "text/plain": [
              "'ab'"
            ],
            "application/vnd.google.colaboratory.intrinsic+json": {
              "type": "string"
            }
          },
          "metadata": {},
          "execution_count": 22
        }
      ]
    },
    {
      "cell_type": "code",
      "source": [
        "\"a\"*2"
      ],
      "metadata": {
        "colab": {
          "base_uri": "https://localhost:8080/",
          "height": 35
        },
        "id": "FSTTNdzZfLDQ",
        "outputId": "42d5e8bf-3476-4dd6-9db6-56eb844a6579"
      },
      "execution_count": null,
      "outputs": [
        {
          "output_type": "execute_result",
          "data": {
            "text/plain": [
              "'aa'"
            ],
            "application/vnd.google.colaboratory.intrinsic+json": {
              "type": "string"
            }
          },
          "metadata": {},
          "execution_count": 23
        }
      ]
    },
    {
      "cell_type": "code",
      "source": [
        "\"abc\"*2"
      ],
      "metadata": {
        "colab": {
          "base_uri": "https://localhost:8080/",
          "height": 35
        },
        "id": "KiZJYxQEfOyv",
        "outputId": "42e934a2-9df7-424e-95e8-fa1577301f1d"
      },
      "execution_count": null,
      "outputs": [
        {
          "output_type": "execute_result",
          "data": {
            "text/plain": [
              "'abcabc'"
            ],
            "application/vnd.google.colaboratory.intrinsic+json": {
              "type": "string"
            }
          },
          "metadata": {},
          "execution_count": 24
        }
      ]
    },
    {
      "cell_type": "code",
      "source": [
        "age = input(\"숫자를 입력하세요 : \")\n",
        "age = int(age)\n",
        "age"
      ],
      "metadata": {
        "id": "wteu-hDdfYNI"
      },
      "execution_count": null,
      "outputs": []
    },
    {
      "cell_type": "markdown",
      "source": [
        "두개의 숫자를 입력받아서 사칙연산을 각각 해봅시다"
      ],
      "metadata": {
        "id": "ggtCPouQj_Bo"
      }
    },
    {
      "cell_type": "code",
      "source": [
        "number1 = int(input(\"첫번째 숫자를 입력하세요 : \"))\n",
        "number2 = int(input(\"첫번째 숫자를 입력하세요 : \"))"
      ],
      "metadata": {
        "id": "tVh-rF6VfiFQ",
        "colab": {
          "base_uri": "https://localhost:8080/"
        },
        "outputId": "82f8b803-4681-4840-9b7f-d91388f879d8"
      },
      "execution_count": 32,
      "outputs": [
        {
          "name": "stdout",
          "output_type": "stream",
          "text": [
            "첫번째 숫자를 입력하세요 : 5\n",
            "첫번째 숫자를 입력하세요 : 2\n"
          ]
        }
      ]
    },
    {
      "cell_type": "code",
      "source": [
        "print( number1 + number2 ) # +\n",
        "print( number1 - number2 ) # -\n",
        "print( number1 * number2) # *\n",
        "print( number1 / number2) # /\n",
        "print( number1 // number2) # //\n",
        "print( number1 % number2) # %"
      ],
      "metadata": {
        "id": "dhZsXsAjluuY"
      },
      "execution_count": null,
      "outputs": []
    },
    {
      "cell_type": "markdown",
      "source": [
        "불린형\n",
        "  - true / false"
      ],
      "metadata": {
        "id": "Y2OXYVmRn5pG"
      }
    },
    {
      "cell_type": "code",
      "source": [
        "isSuccess = True"
      ],
      "metadata": {
        "id": "3Cf4sgUFl9X6"
      },
      "execution_count": 35,
      "outputs": []
    },
    {
      "cell_type": "code",
      "source": [
        "isSuccess = False"
      ],
      "metadata": {
        "id": "rnvQzRHXoDTO"
      },
      "execution_count": 37,
      "outputs": []
    },
    {
      "cell_type": "markdown",
      "source": [
        "코딩팁 - ctrl+spacebar\n",
        "  - 코딩을 할때는 가급적 자동완성기능을 이용해서\n",
        "  - 오타의 실수를 피한다.\n",
        "  - 다 외울수 없으므로 적극 활용한다"
      ],
      "metadata": {
        "id": "mNPs4MUjoJFW"
      }
    },
    {
      "cell_type": "markdown",
      "source": [
        "naming\n",
        "  - 변수는 여러단어가 결합된 형태일때는 _ 붙인다.\n",
        "  - 소문자\n",
        "  - 숫자 및 특수기호로 시작할수 없다(단 _ 예외)"
      ],
      "metadata": {
        "id": "xRKWkqWko1pL"
      }
    },
    {
      "cell_type": "code",
      "source": [
        "# display_number\n",
        "# displayNumber\n",
        "_number = 10\n",
        "number = 20"
      ],
      "metadata": {
        "id": "AZbWHhbmoEdG"
      },
      "execution_count": 44,
      "outputs": []
    },
    {
      "cell_type": "markdown",
      "source": [
        "변수\n",
        "  - 저장공간 이름을 갖는다\n",
        "  - age = 10   오른쪽은 값이오고 왼쪽은 저장할 대상\n",
        "    - 왼쪽은 상수와 수식이 아닌 저장대상이 되는 이름\n",
        "    - 오른쪽은 값,수식,변수,함수\n",
        "    - 왼쪽 = 오른쪽 할때 = : 대입연산자\n",
        "    - 변수이름은 최대한 의미를 전달할 수 있도록 명명\n",
        "      - 정 사용할 이름이 마땅치 않으면 한글표현식 영어 가능\n",
        "      - _를 제외한 특수기호나 숫자로 시작 할 수 없다\n",
        "연산자\n",
        "  - 사칙연산자\n",
        "  - // 몫\n",
        "  - % 나머지\n",
        "  - ** 지수승\n",
        "  - 문자열 + 문자열 : 두개의 문자열을 합친 새로운 문자열\n",
        "  - 문자열*숫자 : 문자열을 숫자만큼 반복"
      ],
      "metadata": {
        "id": "wkoBiNsLqO0_"
      }
    },
    {
      "cell_type": "code",
      "source": [],
      "metadata": {
        "id": "sDkOvItSpOtG"
      },
      "execution_count": null,
      "outputs": []
    }
  ]
}