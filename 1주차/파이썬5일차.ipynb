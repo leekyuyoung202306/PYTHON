{
  "nbformat": 4,
  "nbformat_minor": 0,
  "metadata": {
    "colab": {
      "provenance": []
    },
    "kernelspec": {
      "name": "python3",
      "display_name": "Python 3"
    },
    "language_info": {
      "name": "python"
    }
  },
  "cells": [
    {
      "cell_type": "markdown",
      "source": [
        "  - 변수\n",
        "    - 정수, 실수, 문자열, 불린\n",
        "  - 자료구조\n",
        "    - 리스트 [], 튜플 (), 딕셔너리 {key:value}, 집합 set\n",
        "  - 조건문\n",
        "    - if,  if ~ else   if ~ elif ~ elif ~ else\n",
        "  - 순환문\n",
        "    - while : 특정 조건을 만족할때까지\n",
        "    - for : 집합단위의 데이터를 순환\n"
      ],
      "metadata": {
        "id": "6ZoMFGLktF0_"
      }
    },
    {
      "cell_type": "markdown",
      "source": [
        "백문이 불여 일타\n",
        "\n",
        "일만시간의 법칙"
      ],
      "metadata": {
        "id": "atkNpoMTt5qu"
      }
    },
    {
      "cell_type": "code",
      "execution_count": 2,
      "metadata": {
        "id": "t0TGs1mDYIfb"
      },
      "outputs": [],
      "source": [
        "number = 10"
      ]
    },
    {
      "cell_type": "code",
      "source": [
        "print(number)"
      ],
      "metadata": {
        "colab": {
          "base_uri": "https://localhost:8080/"
        },
        "id": "bnQd1sCFvJT1",
        "outputId": "688d0deb-447c-404f-c8be-73f3062f3317"
      },
      "execution_count": 3,
      "outputs": [
        {
          "output_type": "stream",
          "name": "stdout",
          "text": [
            "10\n"
          ]
        }
      ]
    },
    {
      "cell_type": "code",
      "source": [
        "type(number)"
      ],
      "metadata": {
        "colab": {
          "base_uri": "https://localhost:8080/"
        },
        "id": "QarZBQYWvWFk",
        "outputId": "df3fad55-be0c-45d6-eefd-66a2fac0efd0"
      },
      "execution_count": 4,
      "outputs": [
        {
          "output_type": "execute_result",
          "data": {
            "text/plain": [
              "int"
            ]
          },
          "metadata": {},
          "execution_count": 4
        }
      ]
    },
    {
      "cell_type": "code",
      "source": [
        "number = 3.14\n",
        "type(number)"
      ],
      "metadata": {
        "colab": {
          "base_uri": "https://localhost:8080/"
        },
        "id": "DwcIsXYGva8c",
        "outputId": "3b44f5be-7304-4cdf-e202-70574ed215c9"
      },
      "execution_count": 5,
      "outputs": [
        {
          "output_type": "execute_result",
          "data": {
            "text/plain": [
              "float"
            ]
          },
          "metadata": {},
          "execution_count": 5
        }
      ]
    },
    {
      "cell_type": "code",
      "source": [
        "number=\"hello\"\n",
        "type(number)"
      ],
      "metadata": {
        "colab": {
          "base_uri": "https://localhost:8080/"
        },
        "id": "oqiPb34Vvfts",
        "outputId": "05f1d635-bf1c-47cb-e5e4-4d79f6cdaa99"
      },
      "execution_count": 6,
      "outputs": [
        {
          "output_type": "execute_result",
          "data": {
            "text/plain": [
              "str"
            ]
          },
          "metadata": {},
          "execution_count": 6
        }
      ]
    },
    {
      "cell_type": "code",
      "source": [
        "number=False\n",
        "type(number)"
      ],
      "metadata": {
        "colab": {
          "base_uri": "https://localhost:8080/"
        },
        "id": "Tvl6T2DtvkxM",
        "outputId": "bc49ad9b-97fc-4ba2-9065-fcc94c88b146"
      },
      "execution_count": 7,
      "outputs": [
        {
          "output_type": "execute_result",
          "data": {
            "text/plain": [
              "bool"
            ]
          },
          "metadata": {},
          "execution_count": 7
        }
      ]
    },
    {
      "cell_type": "code",
      "source": [
        "number = [1,2]\n",
        "type(number)"
      ],
      "metadata": {
        "colab": {
          "base_uri": "https://localhost:8080/"
        },
        "id": "D40t2NUXvqBM",
        "outputId": "9051a7ad-e645-4e1d-932a-6776a48b8bfd"
      },
      "execution_count": 8,
      "outputs": [
        {
          "output_type": "execute_result",
          "data": {
            "text/plain": [
              "list"
            ]
          },
          "metadata": {},
          "execution_count": 8
        }
      ]
    },
    {
      "cell_type": "code",
      "source": [
        "number = (1,2)\n",
        "type(number)"
      ],
      "metadata": {
        "colab": {
          "base_uri": "https://localhost:8080/"
        },
        "id": "qgeTbnLTvu2N",
        "outputId": "2a401aa5-4f9a-4ab6-a0c9-5ef2724e8d9e"
      },
      "execution_count": 9,
      "outputs": [
        {
          "output_type": "execute_result",
          "data": {
            "text/plain": [
              "tuple"
            ]
          },
          "metadata": {},
          "execution_count": 9
        }
      ]
    },
    {
      "cell_type": "code",
      "source": [
        "number = {'a':0}\n",
        "type(number)"
      ],
      "metadata": {
        "colab": {
          "base_uri": "https://localhost:8080/"
        },
        "id": "I3vqzz3WvyV8",
        "outputId": "ba33717d-5c76-4690-c3b0-e26cb862c393"
      },
      "execution_count": 10,
      "outputs": [
        {
          "output_type": "execute_result",
          "data": {
            "text/plain": [
              "dict"
            ]
          },
          "metadata": {},
          "execution_count": 10
        }
      ]
    },
    {
      "cell_type": "code",
      "source": [
        "number = {1,2,3}\n",
        "type(number)"
      ],
      "metadata": {
        "colab": {
          "base_uri": "https://localhost:8080/"
        },
        "id": "3N5y4nC5v2hu",
        "outputId": "902ca973-77c4-4a81-de3e-4914e38b0b19"
      },
      "execution_count": 11,
      "outputs": [
        {
          "output_type": "execute_result",
          "data": {
            "text/plain": [
              "set"
            ]
          },
          "metadata": {},
          "execution_count": 11
        }
      ]
    },
    {
      "cell_type": "markdown",
      "source": [
        "타입변경\n",
        "  - 변경할타입(데이터)"
      ],
      "metadata": {
        "id": "SgE42yVfv9k2"
      }
    },
    {
      "cell_type": "code",
      "source": [
        "int('12') + 10"
      ],
      "metadata": {
        "colab": {
          "base_uri": "https://localhost:8080/"
        },
        "id": "5RfJl7r5v63k",
        "outputId": "47044296-89d8-4f83-9ea3-b3e5cd76ee73"
      },
      "execution_count": 13,
      "outputs": [
        {
          "output_type": "execute_result",
          "data": {
            "text/plain": [
              "22"
            ]
          },
          "metadata": {},
          "execution_count": 13
        }
      ]
    },
    {
      "cell_type": "markdown",
      "source": [
        "포멧을 지원하는 print"
      ],
      "metadata": {
        "id": "1Cpw-KjzwhhO"
      }
    },
    {
      "cell_type": "code",
      "source": [
        "data = 100\n",
        "print(f' data = {data}  ')"
      ],
      "metadata": {
        "colab": {
          "base_uri": "https://localhost:8080/"
        },
        "id": "EtwK795GwRO8",
        "outputId": "91b1c859-1dd9-403d-8e42-1d61bdb23030"
      },
      "execution_count": 14,
      "outputs": [
        {
          "output_type": "stream",
          "name": "stdout",
          "text": [
            " data = 100  \n"
          ]
        }
      ]
    },
    {
      "cell_type": "markdown",
      "source": [
        "슬라이스"
      ],
      "metadata": {
        "id": "_3Jf4kJ_wzQV"
      }
    },
    {
      "cell_type": "code",
      "source": [
        "list(range(20))"
      ],
      "metadata": {
        "colab": {
          "base_uri": "https://localhost:8080/"
        },
        "id": "FqmFGFN6wtrM",
        "outputId": "ee78bdd9-d8e3-4b07-db87-3185b14c8f10"
      },
      "execution_count": 16,
      "outputs": [
        {
          "output_type": "execute_result",
          "data": {
            "text/plain": [
              "[0, 1, 2, 3, 4, 5, 6, 7, 8, 9, 10, 11, 12, 13, 14, 15, 16, 17, 18, 19]"
            ]
          },
          "metadata": {},
          "execution_count": 16
        }
      ]
    },
    {
      "cell_type": "code",
      "source": [
        "temp = list(range(20))"
      ],
      "metadata": {
        "id": "HeUPlMStw8Lj"
      },
      "execution_count": 17,
      "outputs": []
    },
    {
      "cell_type": "code",
      "source": [
        "temp[:7]"
      ],
      "metadata": {
        "colab": {
          "base_uri": "https://localhost:8080/"
        },
        "id": "xNspCke_xEOT",
        "outputId": "e98f92e0-b956-4da5-e93c-d4cbd95b17fd"
      },
      "execution_count": 18,
      "outputs": [
        {
          "output_type": "execute_result",
          "data": {
            "text/plain": [
              "[0, 1, 2, 3, 4, 5, 6]"
            ]
          },
          "metadata": {},
          "execution_count": 18
        }
      ]
    },
    {
      "cell_type": "code",
      "source": [
        "temp[7:]"
      ],
      "metadata": {
        "colab": {
          "base_uri": "https://localhost:8080/"
        },
        "id": "U8raCsT1xSxs",
        "outputId": "ede11f9c-fe33-44a7-d5d8-81ef182e9ecf"
      },
      "execution_count": 20,
      "outputs": [
        {
          "output_type": "execute_result",
          "data": {
            "text/plain": [
              "[7, 8, 9, 10, 11, 12, 13, 14, 15, 16, 17, 18, 19]"
            ]
          },
          "metadata": {},
          "execution_count": 20
        }
      ]
    },
    {
      "cell_type": "markdown",
      "source": [
        "리스트 슬라이싱을이용하면 리스트를 8:2 이런 형태로\n",
        "분할\n",
        "  - 추가 : append 리스트변수 함수\n",
        "  - 정렬 : sort 리스트변수 함수"
      ],
      "metadata": {
        "id": "WmpHJhZixyiE"
      }
    },
    {
      "cell_type": "code",
      "source": [
        "# 기존 temp 값에 -1 -2 -3 을 입력\n",
        "temp.append(-1)\n",
        "temp.append(-2)\n",
        "temp.append(-3)\n",
        "print(temp)"
      ],
      "metadata": {
        "colab": {
          "base_uri": "https://localhost:8080/"
        },
        "id": "GpUoIQ_LxqLr",
        "outputId": "431cf681-1f35-405f-9016-feae89d72148"
      },
      "execution_count": 22,
      "outputs": [
        {
          "output_type": "stream",
          "name": "stdout",
          "text": [
            "[0, 1, 2, 3, 4, 5, 6, 7, 8, 9, 10, 11, 12, 13, 14, 15, 16, 17, 18, 19, -1, -2, -3, -1, -2, -3]\n"
          ]
        }
      ]
    },
    {
      "cell_type": "markdown",
      "source": [
        "파이썬에서 정렬은 오름차순이 기본"
      ],
      "metadata": {
        "id": "hI0RQtivy9PO"
      }
    },
    {
      "cell_type": "code",
      "source": [
        "temp.sort()"
      ],
      "metadata": {
        "id": "L738gFwCywWr"
      },
      "execution_count": 23,
      "outputs": []
    },
    {
      "cell_type": "code",
      "source": [
        "print(temp)"
      ],
      "metadata": {
        "colab": {
          "base_uri": "https://localhost:8080/"
        },
        "id": "s-lS2Ld7zNza",
        "outputId": "c85f231b-1cb9-432b-b01d-7fa493325ab1"
      },
      "execution_count": 24,
      "outputs": [
        {
          "output_type": "stream",
          "name": "stdout",
          "text": [
            "[-3, -3, -2, -2, -1, -1, 0, 1, 2, 3, 4, 5, 6, 7, 8, 9, 10, 11, 12, 13, 14, 15, 16, 17, 18, 19]\n"
          ]
        }
      ]
    },
    {
      "cell_type": "markdown",
      "source": [
        "내림차순으로 정렬"
      ],
      "metadata": {
        "id": "GL8HVhUqzS6v"
      }
    },
    {
      "cell_type": "code",
      "source": [
        "temp.sort(reverse=True)\n",
        "print(temp)"
      ],
      "metadata": {
        "colab": {
          "base_uri": "https://localhost:8080/"
        },
        "id": "V8KIDz7qzOvC",
        "outputId": "c286c7cf-d0ee-4efe-8b7d-28fda938d08a"
      },
      "execution_count": 25,
      "outputs": [
        {
          "output_type": "stream",
          "name": "stdout",
          "text": [
            "[19, 18, 17, 16, 15, 14, 13, 12, 11, 10, 9, 8, 7, 6, 5, 4, 3, 2, 1, 0, -1, -1, -2, -2, -3, -3]\n"
          ]
        }
      ]
    },
    {
      "cell_type": "markdown",
      "source": [
        "to10, top5 적용"
      ],
      "metadata": {
        "id": "BeKGizoCzhpd"
      }
    },
    {
      "cell_type": "code",
      "source": [
        "temp[:10]"
      ],
      "metadata": {
        "colab": {
          "base_uri": "https://localhost:8080/"
        },
        "id": "AoAQ3mk3zcut",
        "outputId": "45f22a0b-295f-4ea0-ef6c-58381a73d508"
      },
      "execution_count": 26,
      "outputs": [
        {
          "output_type": "execute_result",
          "data": {
            "text/plain": [
              "[19, 18, 17, 16, 15, 14, 13, 12, 11, 10]"
            ]
          },
          "metadata": {},
          "execution_count": 26
        }
      ]
    },
    {
      "cell_type": "code",
      "source": [
        "tuple_temp = tuple(temp)\n",
        "print(tuple_temp)"
      ],
      "metadata": {
        "colab": {
          "base_uri": "https://localhost:8080/"
        },
        "id": "gjwsu9y2zzBT",
        "outputId": "fd74bd3a-afed-4001-d0ab-3de8d5296b78"
      },
      "execution_count": 28,
      "outputs": [
        {
          "output_type": "stream",
          "name": "stdout",
          "text": [
            "(19, 18, 17, 16, 15, 14, 13, 12, 11, 10, 9, 8, 7, 6, 5, 4, 3, 2, 1, 0, -1, -1, -2, -2, -3, -3)\n"
          ]
        }
      ]
    },
    {
      "cell_type": "code",
      "source": [
        "temp = {}\n",
        "temp = {'a' : 0, 'b' : 1}"
      ],
      "metadata": {
        "id": "6vLFTDun0ABL"
      },
      "execution_count": 31,
      "outputs": []
    },
    {
      "cell_type": "code",
      "source": [
        "temp['a']"
      ],
      "metadata": {
        "colab": {
          "base_uri": "https://localhost:8080/"
        },
        "id": "59wCTASK0VPS",
        "outputId": "b328c02d-e5b2-48d0-d841-2acd3ce83a7c"
      },
      "execution_count": 32,
      "outputs": [
        {
          "output_type": "execute_result",
          "data": {
            "text/plain": [
              "0"
            ]
          },
          "metadata": {},
          "execution_count": 32
        }
      ]
    },
    {
      "cell_type": "code",
      "source": [
        "temp['c'] = 1"
      ],
      "metadata": {
        "id": "RNYuEJm80X0L"
      },
      "execution_count": 34,
      "outputs": []
    },
    {
      "cell_type": "code",
      "source": [
        "print(temp)"
      ],
      "metadata": {
        "colab": {
          "base_uri": "https://localhost:8080/"
        },
        "id": "-XBmIYBF0pmL",
        "outputId": "889a6de3-e2c3-4489-bc4b-a42bc4dc41f4"
      },
      "execution_count": 35,
      "outputs": [
        {
          "output_type": "stream",
          "name": "stdout",
          "text": [
            "{'a': 0, 'b': 1, 'c': 1}\n"
          ]
        }
      ]
    },
    {
      "cell_type": "code",
      "source": [
        "list(temp.keys())"
      ],
      "metadata": {
        "colab": {
          "base_uri": "https://localhost:8080/"
        },
        "id": "sv7eMrzp0xPc",
        "outputId": "c31bfad7-6202-4797-8d28-e967501bd5cd"
      },
      "execution_count": 44,
      "outputs": [
        {
          "output_type": "execute_result",
          "data": {
            "text/plain": [
              "['a', 'b', 'c']"
            ]
          },
          "metadata": {},
          "execution_count": 44
        }
      ]
    },
    {
      "cell_type": "code",
      "source": [
        "temp.values()"
      ],
      "metadata": {
        "colab": {
          "base_uri": "https://localhost:8080/"
        },
        "id": "tzw8mzly1DD6",
        "outputId": "5ea05ca6-c5a7-4c81-ff02-6f46cfd80f97"
      },
      "execution_count": 37,
      "outputs": [
        {
          "output_type": "execute_result",
          "data": {
            "text/plain": [
              "dict_values([0, 1, 1])"
            ]
          },
          "metadata": {},
          "execution_count": 37
        }
      ]
    },
    {
      "cell_type": "code",
      "source": [
        "tuple(temp.items())[0][0]"
      ],
      "metadata": {
        "colab": {
          "base_uri": "https://localhost:8080/",
          "height": 35
        },
        "id": "LliPeU9W1Fea",
        "outputId": "7b54c971-572c-49db-a217-a4e61632245a"
      },
      "execution_count": 49,
      "outputs": [
        {
          "output_type": "execute_result",
          "data": {
            "text/plain": [
              "'a'"
            ],
            "application/vnd.google.colaboratory.intrinsic+json": {
              "type": "string"
            }
          },
          "metadata": {},
          "execution_count": 49
        }
      ]
    },
    {
      "cell_type": "markdown",
      "source": [
        "집합 set() - 중복을 허용하지 않는다(제거한다), 입력순서를 보장하지 않는다\n",
        "  - 교집합 &\n",
        "  - 합집합 |\n",
        "  - 차집합 -"
      ],
      "metadata": {
        "id": "gIxwnO2G1oBO"
      }
    },
    {
      "cell_type": "code",
      "source": [
        "set1 = set([1,3,5,7,9])\n",
        "set2 = set([1,2,3,4,5,6,7,8,9,10])\n",
        "print(set1)\n",
        "print(set2)"
      ],
      "metadata": {
        "colab": {
          "base_uri": "https://localhost:8080/"
        },
        "id": "h31J32xx1H8K",
        "outputId": "1c324c6f-9d87-49e7-a370-7e615a9aa753"
      },
      "execution_count": 52,
      "outputs": [
        {
          "output_type": "stream",
          "name": "stdout",
          "text": [
            "{1, 3, 5, 7, 9}\n",
            "{1, 2, 3, 4, 5, 6, 7, 8, 9, 10}\n"
          ]
        }
      ]
    },
    {
      "cell_type": "code",
      "source": [
        "set2 - set1"
      ],
      "metadata": {
        "colab": {
          "base_uri": "https://localhost:8080/"
        },
        "id": "xofEFeRa2NDq",
        "outputId": "53f1ce0e-ee7c-4463-bda2-8ac1e4087b6b"
      },
      "execution_count": 54,
      "outputs": [
        {
          "output_type": "execute_result",
          "data": {
            "text/plain": [
              "{2, 4, 6, 8, 10}"
            ]
          },
          "metadata": {},
          "execution_count": 54
        }
      ]
    },
    {
      "cell_type": "code",
      "source": [
        "set1 & set2"
      ],
      "metadata": {
        "colab": {
          "base_uri": "https://localhost:8080/"
        },
        "id": "tFpsHBJ62d2K",
        "outputId": "b4652fda-4529-4599-a951-a0daab2fc05a"
      },
      "execution_count": 55,
      "outputs": [
        {
          "output_type": "execute_result",
          "data": {
            "text/plain": [
              "{1, 3, 5, 7, 9}"
            ]
          },
          "metadata": {},
          "execution_count": 55
        }
      ]
    },
    {
      "cell_type": "code",
      "source": [
        "set1 | set2"
      ],
      "metadata": {
        "colab": {
          "base_uri": "https://localhost:8080/"
        },
        "id": "JbHS1dbn2qZa",
        "outputId": "3a55ab80-32e6-4cf4-8560-93a4d6954d3d"
      },
      "execution_count": 56,
      "outputs": [
        {
          "output_type": "execute_result",
          "data": {
            "text/plain": [
              "{1, 2, 3, 4, 5, 6, 7, 8, 9, 10}"
            ]
          },
          "metadata": {},
          "execution_count": 56
        }
      ]
    },
    {
      "cell_type": "markdown",
      "source": [
        "조건문\n",
        "  - if\n",
        "  - else\n",
        "  - elif"
      ],
      "metadata": {
        "id": "ch99d1rS29Nr"
      }
    },
    {
      "cell_type": "code",
      "source": [
        "# 학점 계산기.. 사용자로부터 학점을 입력받아서 구간에 해당하는 등급을 출력\n",
        "# 90이상이면 A ..."
      ],
      "metadata": {
        "id": "hDVrAvEZ2sXT"
      },
      "execution_count": 57,
      "outputs": []
    },
    {
      "cell_type": "code",
      "source": [
        "score = int(input(\"점수를 입력하세요 :\"))\n",
        "hackjum = 'A'\n",
        "if score >=90:\n",
        "  hackjum = 'A'\n",
        "elif score >=80:\n",
        "  hackjum = 'B'\n",
        "elif score >=70:\n",
        "  hackjum = 'C'\n",
        "elif score >=60:\n",
        "  hackjum = 'D'\n",
        "else:\n",
        "  hackjum = 'F'\n",
        "print(f'학점은 {hackjum} 입니다.')"
      ],
      "metadata": {
        "colab": {
          "base_uri": "https://localhost:8080/"
        },
        "id": "FKENUp2t3uNy",
        "outputId": "72e99d53-7251-44e0-d806-80d2653882fe"
      },
      "execution_count": 61,
      "outputs": [
        {
          "output_type": "stream",
          "name": "stdout",
          "text": [
            "점수를 입력하세요 :66\n",
            "학점은 D 입니다.\n"
          ]
        }
      ]
    },
    {
      "cell_type": "markdown",
      "source": [
        "조건문\n",
        "  - 여러개의 조건을 결합해서 최종적으로 true/false\n",
        "  - 논리 곱 / 논리 합\n",
        "  - &(앤퍼센트) / |(파이프)\n",
        "  - and / or"
      ],
      "metadata": {
        "id": "Rl__Qr487x-z"
      }
    },
    {
      "cell_type": "code",
      "source": [
        "# ~ 이고 ~ 이다\n",
        "print(True & True )\n",
        "print(False & True )\n",
        "print(True & False )\n",
        "print(False & False )"
      ],
      "metadata": {
        "colab": {
          "base_uri": "https://localhost:8080/"
        },
        "id": "q-e6X6ll7xLC",
        "outputId": "ad2aa9ec-e5ad-4f70-d1aa-366bf2a8d0dd"
      },
      "execution_count": 70,
      "outputs": [
        {
          "output_type": "stream",
          "name": "stdout",
          "text": [
            "True\n",
            "False\n",
            "False\n",
            "False\n"
          ]
        }
      ]
    },
    {
      "cell_type": "code",
      "source": [
        "# ~이거나.. ~ 또는\n",
        "print(True | True )\n",
        "print(False | True )\n",
        "print(True | False )\n",
        "print(False | False )"
      ],
      "metadata": {
        "colab": {
          "base_uri": "https://localhost:8080/"
        },
        "id": "o99kPk1K7jdT",
        "outputId": "bb7b9aaa-fa80-4ca6-d52e-b4ca136ea0da"
      },
      "execution_count": 71,
      "outputs": [
        {
          "output_type": "stream",
          "name": "stdout",
          "text": [
            "True\n",
            "True\n",
            "True\n",
            "False\n"
          ]
        }
      ]
    },
    {
      "cell_type": "code",
      "source": [
        "year = int(input('년도를 입력하세요 : '))\n",
        "if (year % 4 == 0) & ( (year % 100 !=0) | (year % 400 == 0) )  :\n",
        "  print('윤년 입니다.')\n",
        "else:\n",
        "  print('평년 입니다.')"
      ],
      "metadata": {
        "colab": {
          "base_uri": "https://localhost:8080/"
        },
        "id": "Q2SUyWt19Bip",
        "outputId": "aefddad9-9b60-4d31-8f2b-ff57241503f6"
      },
      "execution_count": 91,
      "outputs": [
        {
          "output_type": "stream",
          "name": "stdout",
          "text": [
            "년도를 입력하세요 : 1988\n",
            "윤년 입니다.\n"
          ]
        }
      ]
    },
    {
      "cell_type": "code",
      "source": [
        "# 100으로 나누어 떨어지되 400으로 나누어 떨어지지 않는 해는 평년으로 한다.\n",
        "not((year % 100 ==0) & (year % 400 != 0))\n",
        "(year % 100 !=0) | (year % 400 == 0)"
      ],
      "metadata": {
        "colab": {
          "base_uri": "https://localhost:8080/"
        },
        "id": "_m_wza5-_HrY",
        "outputId": "938f86dd-8ed3-4c98-decf-e576b1fdca5a"
      },
      "execution_count": 92,
      "outputs": [
        {
          "output_type": "execute_result",
          "data": {
            "text/plain": [
              "True"
            ]
          },
          "metadata": {},
          "execution_count": 92
        }
      ]
    },
    {
      "cell_type": "markdown",
      "source": [
        "![image.png](data:image/png;base64,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)"
      ],
      "metadata": {
        "id": "cyDO1ZaEDJe4"
      }
    },
    {
      "cell_type": "code",
      "source": [
        "# bmi 계산기 ver 1.0\n",
        "height = int(input('키를 입력하세요(cm) : '))\n",
        "weight = int(input('몸무게를 입력하세요(kg) : '))\n",
        "bmi = weight / ((height / 100)**2)\n",
        "if bmi >= 25:\n",
        "  print('비만')\n",
        "elif bmi >= 23:\n",
        "  print('과체중')\n",
        "elif bmi >= 18.5:\n",
        "  print('정상')\n",
        "else:\n",
        "  print('저체중')"
      ],
      "metadata": {
        "colab": {
          "base_uri": "https://localhost:8080/"
        },
        "id": "R16roEXeAcZn",
        "outputId": "78052cdc-d1cc-40f9-c2b3-5eb7c80fee10"
      },
      "execution_count": 95,
      "outputs": [
        {
          "output_type": "stream",
          "name": "stdout",
          "text": [
            "키를 입력하세요(cm) : 180\n",
            "몸무게를 입력하세요(kg) : 60\n",
            "정상\n"
          ]
        }
      ]
    },
    {
      "cell_type": "code",
      "source": [
        "# bmi 계산기 ver 2.0\n",
        "height = int(input('키를 입력하세요(cm) : '))\n",
        "# 정상 bmi의 몸무게는 00 ~ 00 사이를 유지하세요\n",
        "# 18.5 = weight / ((height / 100)**2)\n",
        "# 23= weight / ((height / 100)**2)\n",
        "print( f'{((height/100)**2)*18.5} 와 {((height/100)**2)*23} 사이의 몸무게를 유지하시면 정상 지수입니다.')"
      ],
      "metadata": {
        "colab": {
          "base_uri": "https://localhost:8080/"
        },
        "id": "73p9JeCUFAgN",
        "outputId": "99666e3d-62e4-4680-b198-aac0e4c5fed5"
      },
      "execution_count": 97,
      "outputs": [
        {
          "output_type": "stream",
          "name": "stdout",
          "text": [
            "키를 입력하세요(cm) : 170\n",
            "53.464999999999996 와 66.47 사이의 몸무게를 유지하시면 정상 지수입니다.\n"
          ]
        }
      ]
    },
    {
      "cell_type": "code",
      "source": [
        "# 소수점 2 자리에서 반올림\n",
        "temp = 12.2567\n",
        "round(temp,2)\n",
        "print(f'{temp:.2f}')"
      ],
      "metadata": {
        "colab": {
          "base_uri": "https://localhost:8080/"
        },
        "id": "xTW77nryFurB",
        "outputId": "c8858935-4fa4-4a9f-c8e6-e3fc61353aa3"
      },
      "execution_count": 111,
      "outputs": [
        {
          "output_type": "execute_result",
          "data": {
            "text/plain": [
              "12.26"
            ]
          },
          "metadata": {},
          "execution_count": 111
        }
      ]
    },
    {
      "cell_type": "code",
      "source": [
        "# 소수점 2 자라에서 올림\n",
        "temp = 12.2567\n",
        "temp = int(temp*100) + 1\n",
        "# temp = temp / 100\n",
        "temp /= 100\n",
        "temp"
      ],
      "metadata": {
        "colab": {
          "base_uri": "https://localhost:8080/"
        },
        "id": "T6vmtBNEMlCM",
        "outputId": "babe0e65-ef51-40d6-f0bd-5a3f6c50732a"
      },
      "execution_count": 117,
      "outputs": [
        {
          "output_type": "execute_result",
          "data": {
            "text/plain": [
              "12.26"
            ]
          },
          "metadata": {},
          "execution_count": 117
        }
      ]
    },
    {
      "cell_type": "code",
      "source": [
        "# 소수점 2 자라에서 내림\n",
        "temp = 12.2567\n",
        "temp = int(temp*100)\n",
        "# temp = temp / 100\n",
        "temp /= 100\n",
        "temp"
      ],
      "metadata": {
        "colab": {
          "base_uri": "https://localhost:8080/"
        },
        "id": "d7Mqn8LFMzVb",
        "outputId": "c1a5ffd2-d270-4093-f4a7-412e402b64ad"
      },
      "execution_count": 118,
      "outputs": [
        {
          "output_type": "execute_result",
          "data": {
            "text/plain": [
              "12.25"
            ]
          },
          "metadata": {},
          "execution_count": 118
        }
      ]
    },
    {
      "cell_type": "code",
      "source": [
        "# 영희는 자판기 사업을 하고 있음\n",
        "# 500 : x 10\n",
        "# 100 : x 10\n",
        "# 커피가격은 300\n",
        "# 투입금액은 300,500,1000\n",
        "# 준비된 잔돈은 500 x 10, 100 x 10\n",
        "# number = int(input('자판기에 돈을 넣어주세요(1,2,3) 중에 하나 선택'))\n",
        "# 자판기는 잔돈이 떨어질때 까지 판매\n",
        "\n",
        "# 자판기 판매를 위한 변수 초기화\n",
        "# 컵이떨어지면 판매종료\n",
        "# 잔돈이 없으면 해당 100, 500 잔돈이 없다고 출력\n",
        "jandone_500 = 10\n",
        "jandone_100 = 10\n",
        "money_1000 = 0\n",
        "cup = 50\n",
        "while True:\n",
        "  number = int(input('자판기에 돈을 넣어주세요(1 : 300,2: 500,3:1000)\\n 중에 하나 선택'))\n",
        "  if number == 1:  # 300\n",
        "    jandone_100 += 3\n",
        "  elif number == 2: # 500\n",
        "    jandone_500 += 1\n",
        "    jandone_100 -= 2\n",
        "  elif number == 3: # 1000\n",
        "    money_1000 += 1\n",
        "    jandone_500 -= 1\n",
        "    jandone_100 -=2\n",
        "  if cup == 0:\n",
        "    print(\"판매종료\")\n",
        "    break\n",
        "  cup -= 1"
      ],
      "metadata": {
        "id": "GmOf325HN15b"
      },
      "execution_count": null,
      "outputs": []
    },
    {
      "cell_type": "code",
      "source": [
        "#"
      ],
      "metadata": {
        "id": "0JpKM0hfNOZ0"
      },
      "execution_count": null,
      "outputs": []
    }
  ]
}