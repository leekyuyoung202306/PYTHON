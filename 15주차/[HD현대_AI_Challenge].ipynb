{
  "nbformat": 4,
  "nbformat_minor": 0,
  "metadata": {
    "colab": {
      "provenance": []
    },
    "kernelspec": {
      "name": "python3",
      "display_name": "Python 3"
    },
    "language_info": {
      "name": "python"
    }
  },
  "cells": [
    {
      "cell_type": "code",
      "execution_count": 1,
      "metadata": {
        "colab": {
          "base_uri": "https://localhost:8080/"
        },
        "id": "Sm0qLtKVYAiz",
        "outputId": "d0baf5ff-9952-48f8-ee2f-c788f3b2c534"
      },
      "outputs": [
        {
          "output_type": "stream",
          "name": "stdout",
          "text": [
            "Archive:  /content/drive/MyDrive/HD현대 AI Challenge/HD현대AI챌린지.zip\n",
            "  inflating: sample_submission.csv   \n",
            "  inflating: test.csv                \n",
            "  inflating: train.csv               \n"
          ]
        }
      ],
      "source": [
        "!unzip '/content/drive/MyDrive/HD현대 AI Challenge/HD현대AI챌린지.zip'"
      ]
    },
    {
      "cell_type": "code",
      "source": [
        "import matplotlib.pyplot as plt\n",
        "import pandas as pd\n",
        "import numpy as np\n",
        "import lightgbm as lgb\n",
        "import bisect\n",
        "from tqdm import tqdm\n",
        "from sklearn.metrics import mean_absolute_error\n",
        "from sklearn.preprocessing import LabelEncoder\n",
        "from sklearn.model_selection import KFold\n",
        "\n",
        "train = pd.read_csv('train.csv').drop(columns=['SAMPLE_ID'])\n",
        "test = pd.read_csv('test.csv').drop(columns=['SAMPLE_ID'])\n",
        "\n",
        "# datetime 컬럼 처리\n",
        "train['ATA'] = pd.to_datetime(train['ATA'])\n",
        "test['ATA'] = pd.to_datetime(test['ATA'])\n",
        "\n",
        "# datetime을 여러 파생 변수로 변환\n",
        "for df in [train, test]:\n",
        "    df['year'] = df['ATA'].dt.year\n",
        "    df['month'] = df['ATA'].dt.month\n",
        "    df['day'] = df['ATA'].dt.day\n",
        "    df['hour'] = df['ATA'].dt.hour\n",
        "    df['minute'] = df['ATA'].dt.minute\n",
        "    df['weekday'] = df['ATA'].dt.weekday\n",
        "\n",
        "# datetime 컬럼 제거\n",
        "train.drop(columns='ATA', inplace=True)\n",
        "test.drop(columns='ATA', inplace=True)\n",
        "\n",
        "# Categorical 컬럼 인코딩\n",
        "categorical_features = ['ARI_CO', 'ARI_PO', 'SHIP_TYPE_CATEGORY', 'ID', 'SHIPMANAGER', 'FLAG']\n",
        "encoders = {}\n",
        "\n",
        "for feature in tqdm(categorical_features, desc=\"Encoding features\"):\n",
        "    le = LabelEncoder()\n",
        "    train[feature] = le.fit_transform(train[feature].astype(str))\n",
        "    le_classes_set = set(le.classes_)\n",
        "    test[feature] = test[feature].map(lambda s: '-1' if s not in le_classes_set else s)\n",
        "    le_classes = le.classes_.tolist()\n",
        "    bisect.insort_left(le_classes, '-1')\n",
        "    le.classes_ = np.array(le_classes)\n",
        "    test[feature] = le.transform(test[feature].astype(str))\n",
        "    encoders[feature] = le\n",
        "\n",
        "# 결측치 처리\n",
        "train.fillna(train.mean(), inplace=True)\n",
        "test.fillna(train.mean(), inplace=True)"
      ],
      "metadata": {
        "colab": {
          "base_uri": "https://localhost:8080/"
        },
        "id": "HXiEKs4WYqPq",
        "outputId": "8948f031-3ebb-4193-d95d-0ce5200939e4"
      },
      "execution_count": 4,
      "outputs": [
        {
          "output_type": "stream",
          "name": "stderr",
          "text": [
            "Encoding features: 100%|██████████| 6/6 [00:01<00:00,  3.02it/s]\n"
          ]
        }
      ]
    },
    {
      "cell_type": "code",
      "source": [
        "# 학습용 데이터 정답 분리\n",
        "X = train.drop('CI_HOUR', axis=1)\n",
        "y = train['CI_HOUR']"
      ],
      "metadata": {
        "id": "NpCFH_xdZUv3"
      },
      "execution_count": 8,
      "outputs": []
    },
    {
      "cell_type": "code",
      "source": [
        "from sklearn.model_selection import train_test_split"
      ],
      "metadata": {
        "id": "PyWR_9p2aN9Y"
      },
      "execution_count": 9,
      "outputs": []
    },
    {
      "cell_type": "code",
      "source": [
        "x_train,x_test,y_train,y_test = train_test_split(X,y,test_size=0.2,random_state=42)"
      ],
      "metadata": {
        "id": "e2cefDGqakrv"
      },
      "execution_count": 10,
      "outputs": []
    },
    {
      "cell_type": "code",
      "source": [
        "# dataset\n",
        "# loader\n",
        "# for each 학습\n",
        "# 평가"
      ],
      "metadata": {
        "id": "D7uGF-f1arwy"
      },
      "execution_count": 12,
      "outputs": []
    },
    {
      "cell_type": "code",
      "source": [
        "import torch\n",
        "import torch.nn as nn\n",
        "import torch.optim as optim\n",
        "from torch.utils.data import Dataset,dataloader"
      ],
      "metadata": {
        "id": "cWkbdb82bGGa"
      },
      "execution_count": 14,
      "outputs": []
    },
    {
      "cell_type": "code",
      "source": [
        "# 토치텐서로 변환\n",
        "x_train = torch.tensor(x_train.values,dtype=torch.float32)\n",
        "y_train = torch.tensor(y_train.values,dtype=torch.float32)\n",
        "x_test = torch.tensor(x_test.values,dtype=torch.float32)\n",
        "y_test = torch.tensor(y_test.values,dtype=torch.float32)"
      ],
      "metadata": {
        "id": "TZi8cPH5bjXp"
      },
      "execution_count": 15,
      "outputs": []
    },
    {
      "cell_type": "code",
      "source": [
        "# 다층 퍼셉트론\n",
        "class MLP(nn.Module):\n",
        "  def __init__(self):\n",
        "    super(MLP,self).__init__()\n",
        "    self.fc1 = nn.Linear(in_features=len(X.columns), out_features=64)\n",
        "    self.fc2 = nn.Linear(in_features=64, out_features=32)\n",
        "    self.fc3 = nn.Linear(in_features=32, out_features=1)\n",
        "    self.relu = nn.ReLU()\n",
        "  def forward(self,x):\n",
        "    x = self.relu(self.fc1(x))\n",
        "    x = self.relu(self.fc2(x))\n",
        "    x = self.fc3(x)\n",
        "    return x\n",
        "model = MLP()"
      ],
      "metadata": {
        "id": "YhjIKuIob1MH"
      },
      "execution_count": 17,
      "outputs": []
    },
    {
      "cell_type": "code",
      "source": [
        "y_train.reshape(-1,1)\n"
      ],
      "metadata": {
        "id": "DIoXB6eZffjU"
      },
      "execution_count": null,
      "outputs": []
    },
    {
      "cell_type": "code",
      "source": [
        "train_dataset = torch.utils.data.TensorDataset(x_train,y_train.reshape(-1,1))\n",
        "train_loader = torch.utils.data.DataLoader(train_dataset,batch_size=64, shuffle=True)\n",
        "\n",
        "opt = optim.Adam(model.parameters(), lr = 1e-3)\n",
        "\n",
        "device = 'cuda' if torch.cuda.is_available() else 'cpu'\n",
        "\n",
        "model.to(device)\n",
        "for epoch in range(10):\n",
        "  iter = tqdm(train_loader)\n",
        "  for data, label in iter:\n",
        "    opt.zero_grad()\n",
        "    pred = model(data.to(device))\n",
        "    loss = nn.MSELoss()(pred,label.to(device))\n",
        "    loss.backward()\n",
        "    opt.step()\n",
        "    iter.set_description(f\"epoch{epoch} loss:{loss.item()}\")\n",
        "torch.save(model.state_dict(), 'MLP.pth')"
      ],
      "metadata": {
        "colab": {
          "base_uri": "https://localhost:8080/"
        },
        "id": "5537NRtzcrjv",
        "outputId": "116d3854-806c-4df1-932e-a5d84cec2708"
      },
      "execution_count": null,
      "outputs": [
        {
          "output_type": "stream",
          "name": "stderr",
          "text": [
            "epoch0 loss:5299.3203125: 100%|██████████| 4593/4593 [00:28<00:00, 161.29it/s]\n",
            "epoch1 loss:21702.97265625: 100%|██████████| 4593/4593 [00:27<00:00, 166.11it/s]\n",
            "epoch2 loss:65135.13671875:   5%|▍         | 215/4593 [00:01<00:24, 181.62it/s]"
          ]
        }
      ]
    },
    {
      "cell_type": "code",
      "source": [],
      "metadata": {
        "id": "aeEGKssPfoOx"
      },
      "execution_count": null,
      "outputs": []
    }
  ]
}