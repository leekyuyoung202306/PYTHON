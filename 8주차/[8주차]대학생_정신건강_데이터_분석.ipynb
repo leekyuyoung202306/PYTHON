{
  "nbformat": 4,
  "nbformat_minor": 0,
  "metadata": {
    "colab": {
      "provenance": []
    },
    "kernelspec": {
      "name": "python3",
      "display_name": "Python 3"
    },
    "language_info": {
      "name": "python"
    }
  },
  "cells": [
    {
      "cell_type": "code",
      "execution_count": null,
      "metadata": {
        "id": "q-oCbEAOaBb-"
      },
      "outputs": [],
      "source": []
    },
    {
      "cell_type": "markdown",
      "source": [
        "캐글에서 제공되는 Student mental health analysis 데이터셋\n",
        "  - 정신건강에 영향을 주는 요인은 무엇인가?\n",
        "  - 데이터를 탐색\n",
        "    - 속성탐색\n",
        "    - 결측치 처리\n",
        "    - 이상치 처리\n",
        "  - 데이터 시각화\n",
        "    - 속성간의 관계\n",
        "    - 속성값의 분포\n",
        "  - 중요 속성 추출\n",
        "    - 원핫인코딩\n",
        "    - 중요속성 추출"
      ],
      "metadata": {
        "id": "vag4_-6JaTWd"
      }
    },
    {
      "cell_type": "code",
      "source": [
        "!unzip '/content/student_health.zip'"
      ],
      "metadata": {
        "colab": {
          "base_uri": "https://localhost:8080/"
        },
        "id": "Hcs66OmlaY4l",
        "outputId": "f83cf2e6-d6f7-4382-b64c-f51a33f8d34a"
      },
      "execution_count": 1,
      "outputs": [
        {
          "output_type": "stream",
          "name": "stdout",
          "text": [
            "Archive:  /content/student_health.zip\n",
            "  inflating: Student Mental health.csv  \n"
          ]
        }
      ]
    },
    {
      "cell_type": "code",
      "source": [
        "import pandas as pd\n",
        "df = pd.read_csv('/content/Student Mental health.csv')\n",
        "df.head()"
      ],
      "metadata": {
        "colab": {
          "base_uri": "https://localhost:8080/",
          "height": 389
        },
        "id": "Vz8aYXP9bx9V",
        "outputId": "ebe5d33b-9c1a-4e8b-8aa6-ba6bf4cde37c"
      },
      "execution_count": 41,
      "outputs": [
        {
          "output_type": "execute_result",
          "data": {
            "text/plain": [
              "        Timestamp Choose your gender   Age What is your course?  \\\n",
              "0  8/7/2020 12:02             Female  18.0          Engineering   \n",
              "1  8/7/2020 12:04               Male  21.0    Islamic education   \n",
              "2  8/7/2020 12:05               Male  19.0                  BIT   \n",
              "3  8/7/2020 12:06             Female  22.0                 Laws   \n",
              "4  8/7/2020 12:13               Male  23.0         Mathemathics   \n",
              "\n",
              "  Your current year of Study What is your CGPA? Marital status  \\\n",
              "0                     year 1        3.00 - 3.49             No   \n",
              "1                     year 2        3.00 - 3.49             No   \n",
              "2                     Year 1        3.00 - 3.49             No   \n",
              "3                     year 3        3.00 - 3.49            Yes   \n",
              "4                     year 4        3.00 - 3.49             No   \n",
              "\n",
              "  Do you have Depression? Do you have Anxiety? Do you have Panic attack?  \\\n",
              "0                     Yes                   No                       Yes   \n",
              "1                      No                  Yes                        No   \n",
              "2                     Yes                  Yes                       Yes   \n",
              "3                     Yes                   No                        No   \n",
              "4                      No                   No                        No   \n",
              "\n",
              "  Did you seek any specialist for a treatment?  \n",
              "0                                           No  \n",
              "1                                           No  \n",
              "2                                           No  \n",
              "3                                           No  \n",
              "4                                           No  "
            ],
            "text/html": [
              "\n",
              "\n",
              "  <div id=\"df-6f95e5f9-f8be-47b5-9aa0-af4a58b92130\">\n",
              "    <div class=\"colab-df-container\">\n",
              "      <div>\n",
              "<style scoped>\n",
              "    .dataframe tbody tr th:only-of-type {\n",
              "        vertical-align: middle;\n",
              "    }\n",
              "\n",
              "    .dataframe tbody tr th {\n",
              "        vertical-align: top;\n",
              "    }\n",
              "\n",
              "    .dataframe thead th {\n",
              "        text-align: right;\n",
              "    }\n",
              "</style>\n",
              "<table border=\"1\" class=\"dataframe\">\n",
              "  <thead>\n",
              "    <tr style=\"text-align: right;\">\n",
              "      <th></th>\n",
              "      <th>Timestamp</th>\n",
              "      <th>Choose your gender</th>\n",
              "      <th>Age</th>\n",
              "      <th>What is your course?</th>\n",
              "      <th>Your current year of Study</th>\n",
              "      <th>What is your CGPA?</th>\n",
              "      <th>Marital status</th>\n",
              "      <th>Do you have Depression?</th>\n",
              "      <th>Do you have Anxiety?</th>\n",
              "      <th>Do you have Panic attack?</th>\n",
              "      <th>Did you seek any specialist for a treatment?</th>\n",
              "    </tr>\n",
              "  </thead>\n",
              "  <tbody>\n",
              "    <tr>\n",
              "      <th>0</th>\n",
              "      <td>8/7/2020 12:02</td>\n",
              "      <td>Female</td>\n",
              "      <td>18.0</td>\n",
              "      <td>Engineering</td>\n",
              "      <td>year 1</td>\n",
              "      <td>3.00 - 3.49</td>\n",
              "      <td>No</td>\n",
              "      <td>Yes</td>\n",
              "      <td>No</td>\n",
              "      <td>Yes</td>\n",
              "      <td>No</td>\n",
              "    </tr>\n",
              "    <tr>\n",
              "      <th>1</th>\n",
              "      <td>8/7/2020 12:04</td>\n",
              "      <td>Male</td>\n",
              "      <td>21.0</td>\n",
              "      <td>Islamic education</td>\n",
              "      <td>year 2</td>\n",
              "      <td>3.00 - 3.49</td>\n",
              "      <td>No</td>\n",
              "      <td>No</td>\n",
              "      <td>Yes</td>\n",
              "      <td>No</td>\n",
              "      <td>No</td>\n",
              "    </tr>\n",
              "    <tr>\n",
              "      <th>2</th>\n",
              "      <td>8/7/2020 12:05</td>\n",
              "      <td>Male</td>\n",
              "      <td>19.0</td>\n",
              "      <td>BIT</td>\n",
              "      <td>Year 1</td>\n",
              "      <td>3.00 - 3.49</td>\n",
              "      <td>No</td>\n",
              "      <td>Yes</td>\n",
              "      <td>Yes</td>\n",
              "      <td>Yes</td>\n",
              "      <td>No</td>\n",
              "    </tr>\n",
              "    <tr>\n",
              "      <th>3</th>\n",
              "      <td>8/7/2020 12:06</td>\n",
              "      <td>Female</td>\n",
              "      <td>22.0</td>\n",
              "      <td>Laws</td>\n",
              "      <td>year 3</td>\n",
              "      <td>3.00 - 3.49</td>\n",
              "      <td>Yes</td>\n",
              "      <td>Yes</td>\n",
              "      <td>No</td>\n",
              "      <td>No</td>\n",
              "      <td>No</td>\n",
              "    </tr>\n",
              "    <tr>\n",
              "      <th>4</th>\n",
              "      <td>8/7/2020 12:13</td>\n",
              "      <td>Male</td>\n",
              "      <td>23.0</td>\n",
              "      <td>Mathemathics</td>\n",
              "      <td>year 4</td>\n",
              "      <td>3.00 - 3.49</td>\n",
              "      <td>No</td>\n",
              "      <td>No</td>\n",
              "      <td>No</td>\n",
              "      <td>No</td>\n",
              "      <td>No</td>\n",
              "    </tr>\n",
              "  </tbody>\n",
              "</table>\n",
              "</div>\n",
              "      <button class=\"colab-df-convert\" onclick=\"convertToInteractive('df-6f95e5f9-f8be-47b5-9aa0-af4a58b92130')\"\n",
              "              title=\"Convert this dataframe to an interactive table.\"\n",
              "              style=\"display:none;\">\n",
              "\n",
              "  <svg xmlns=\"http://www.w3.org/2000/svg\" height=\"24px\"viewBox=\"0 0 24 24\"\n",
              "       width=\"24px\">\n",
              "    <path d=\"M0 0h24v24H0V0z\" fill=\"none\"/>\n",
              "    <path d=\"M18.56 5.44l.94 2.06.94-2.06 2.06-.94-2.06-.94-.94-2.06-.94 2.06-2.06.94zm-11 1L8.5 8.5l.94-2.06 2.06-.94-2.06-.94L8.5 2.5l-.94 2.06-2.06.94zm10 10l.94 2.06.94-2.06 2.06-.94-2.06-.94-.94-2.06-.94 2.06-2.06.94z\"/><path d=\"M17.41 7.96l-1.37-1.37c-.4-.4-.92-.59-1.43-.59-.52 0-1.04.2-1.43.59L10.3 9.45l-7.72 7.72c-.78.78-.78 2.05 0 2.83L4 21.41c.39.39.9.59 1.41.59.51 0 1.02-.2 1.41-.59l7.78-7.78 2.81-2.81c.8-.78.8-2.07 0-2.86zM5.41 20L4 18.59l7.72-7.72 1.47 1.35L5.41 20z\"/>\n",
              "  </svg>\n",
              "      </button>\n",
              "\n",
              "\n",
              "\n",
              "    <div id=\"df-b13b6f5e-c47d-4339-a543-a9a41495ba56\">\n",
              "      <button class=\"colab-df-quickchart\" onclick=\"quickchart('df-b13b6f5e-c47d-4339-a543-a9a41495ba56')\"\n",
              "              title=\"Suggest charts.\"\n",
              "              style=\"display:none;\">\n",
              "\n",
              "<svg xmlns=\"http://www.w3.org/2000/svg\" height=\"24px\"viewBox=\"0 0 24 24\"\n",
              "     width=\"24px\">\n",
              "    <g>\n",
              "        <path d=\"M19 3H5c-1.1 0-2 .9-2 2v14c0 1.1.9 2 2 2h14c1.1 0 2-.9 2-2V5c0-1.1-.9-2-2-2zM9 17H7v-7h2v7zm4 0h-2V7h2v10zm4 0h-2v-4h2v4z\"/>\n",
              "    </g>\n",
              "</svg>\n",
              "      </button>\n",
              "    </div>\n",
              "\n",
              "<style>\n",
              "  .colab-df-quickchart {\n",
              "    background-color: #E8F0FE;\n",
              "    border: none;\n",
              "    border-radius: 50%;\n",
              "    cursor: pointer;\n",
              "    display: none;\n",
              "    fill: #1967D2;\n",
              "    height: 32px;\n",
              "    padding: 0 0 0 0;\n",
              "    width: 32px;\n",
              "  }\n",
              "\n",
              "  .colab-df-quickchart:hover {\n",
              "    background-color: #E2EBFA;\n",
              "    box-shadow: 0px 1px 2px rgba(60, 64, 67, 0.3), 0px 1px 3px 1px rgba(60, 64, 67, 0.15);\n",
              "    fill: #174EA6;\n",
              "  }\n",
              "\n",
              "  [theme=dark] .colab-df-quickchart {\n",
              "    background-color: #3B4455;\n",
              "    fill: #D2E3FC;\n",
              "  }\n",
              "\n",
              "  [theme=dark] .colab-df-quickchart:hover {\n",
              "    background-color: #434B5C;\n",
              "    box-shadow: 0px 1px 3px 1px rgba(0, 0, 0, 0.15);\n",
              "    filter: drop-shadow(0px 1px 2px rgba(0, 0, 0, 0.3));\n",
              "    fill: #FFFFFF;\n",
              "  }\n",
              "</style>\n",
              "\n",
              "    <script>\n",
              "      async function quickchart(key) {\n",
              "        const containerElement = document.querySelector('#' + key);\n",
              "        const charts = await google.colab.kernel.invokeFunction(\n",
              "            'suggestCharts', [key], {});\n",
              "      }\n",
              "    </script>\n",
              "\n",
              "      <script>\n",
              "\n",
              "function displayQuickchartButton(domScope) {\n",
              "  let quickchartButtonEl =\n",
              "    domScope.querySelector('#df-b13b6f5e-c47d-4339-a543-a9a41495ba56 button.colab-df-quickchart');\n",
              "  quickchartButtonEl.style.display =\n",
              "    google.colab.kernel.accessAllowed ? 'block' : 'none';\n",
              "}\n",
              "\n",
              "        displayQuickchartButton(document);\n",
              "      </script>\n",
              "      <style>\n",
              "    .colab-df-container {\n",
              "      display:flex;\n",
              "      flex-wrap:wrap;\n",
              "      gap: 12px;\n",
              "    }\n",
              "\n",
              "    .colab-df-convert {\n",
              "      background-color: #E8F0FE;\n",
              "      border: none;\n",
              "      border-radius: 50%;\n",
              "      cursor: pointer;\n",
              "      display: none;\n",
              "      fill: #1967D2;\n",
              "      height: 32px;\n",
              "      padding: 0 0 0 0;\n",
              "      width: 32px;\n",
              "    }\n",
              "\n",
              "    .colab-df-convert:hover {\n",
              "      background-color: #E2EBFA;\n",
              "      box-shadow: 0px 1px 2px rgba(60, 64, 67, 0.3), 0px 1px 3px 1px rgba(60, 64, 67, 0.15);\n",
              "      fill: #174EA6;\n",
              "    }\n",
              "\n",
              "    [theme=dark] .colab-df-convert {\n",
              "      background-color: #3B4455;\n",
              "      fill: #D2E3FC;\n",
              "    }\n",
              "\n",
              "    [theme=dark] .colab-df-convert:hover {\n",
              "      background-color: #434B5C;\n",
              "      box-shadow: 0px 1px 3px 1px rgba(0, 0, 0, 0.15);\n",
              "      filter: drop-shadow(0px 1px 2px rgba(0, 0, 0, 0.3));\n",
              "      fill: #FFFFFF;\n",
              "    }\n",
              "  </style>\n",
              "\n",
              "      <script>\n",
              "        const buttonEl =\n",
              "          document.querySelector('#df-6f95e5f9-f8be-47b5-9aa0-af4a58b92130 button.colab-df-convert');\n",
              "        buttonEl.style.display =\n",
              "          google.colab.kernel.accessAllowed ? 'block' : 'none';\n",
              "\n",
              "        async function convertToInteractive(key) {\n",
              "          const element = document.querySelector('#df-6f95e5f9-f8be-47b5-9aa0-af4a58b92130');\n",
              "          const dataTable =\n",
              "            await google.colab.kernel.invokeFunction('convertToInteractive',\n",
              "                                                     [key], {});\n",
              "          if (!dataTable) return;\n",
              "\n",
              "          const docLinkHtml = 'Like what you see? Visit the ' +\n",
              "            '<a target=\"_blank\" href=https://colab.research.google.com/notebooks/data_table.ipynb>data table notebook</a>'\n",
              "            + ' to learn more about interactive tables.';\n",
              "          element.innerHTML = '';\n",
              "          dataTable['output_type'] = 'display_data';\n",
              "          await google.colab.output.renderOutput(dataTable, element);\n",
              "          const docLink = document.createElement('div');\n",
              "          docLink.innerHTML = docLinkHtml;\n",
              "          element.appendChild(docLink);\n",
              "        }\n",
              "      </script>\n",
              "    </div>\n",
              "  </div>\n"
            ]
          },
          "metadata": {},
          "execution_count": 41
        }
      ]
    },
    {
      "cell_type": "code",
      "source": [
        "df.info()\n",
        "# 결측치 여부\n",
        "# 데이터 타입(범부형,수치형)\n",
        "# 숫자인데.. object로 되어 있으면.. 뭔가 문자가 포함"
      ],
      "metadata": {
        "colab": {
          "base_uri": "https://localhost:8080/"
        },
        "id": "OdF6t31ZcItb",
        "outputId": "f4a3f2d6-c3c3-47bf-8061-126d90281464"
      },
      "execution_count": 42,
      "outputs": [
        {
          "output_type": "stream",
          "name": "stdout",
          "text": [
            "<class 'pandas.core.frame.DataFrame'>\n",
            "RangeIndex: 101 entries, 0 to 100\n",
            "Data columns (total 11 columns):\n",
            " #   Column                                        Non-Null Count  Dtype  \n",
            "---  ------                                        --------------  -----  \n",
            " 0   Timestamp                                     101 non-null    object \n",
            " 1   Choose your gender                            101 non-null    object \n",
            " 2   Age                                           100 non-null    float64\n",
            " 3   What is your course?                          101 non-null    object \n",
            " 4   Your current year of Study                    101 non-null    object \n",
            " 5   What is your CGPA?                            101 non-null    object \n",
            " 6   Marital status                                101 non-null    object \n",
            " 7   Do you have Depression?                       101 non-null    object \n",
            " 8   Do you have Anxiety?                          101 non-null    object \n",
            " 9   Do you have Panic attack?                     101 non-null    object \n",
            " 10  Did you seek any specialist for a treatment?  101 non-null    object \n",
            "dtypes: float64(1), object(10)\n",
            "memory usage: 8.8+ KB\n"
          ]
        }
      ]
    },
    {
      "cell_type": "markdown",
      "source": [
        "데이터 전처리"
      ],
      "metadata": {
        "id": "hy1-Lz_IcrCa"
      }
    },
    {
      "cell_type": "code",
      "source": [
        "df.columns = ['date','gender','age','course','year','CGPA','Marital_status','Depression','Anxiety','Panic','treatment']"
      ],
      "metadata": {
        "id": "peOI3lXXcqpN"
      },
      "execution_count": 43,
      "outputs": []
    },
    {
      "cell_type": "code",
      "source": [
        "df.year.unique()"
      ],
      "metadata": {
        "colab": {
          "base_uri": "https://localhost:8080/"
        },
        "id": "tNxX1_71dO60",
        "outputId": "36611564-345e-47c1-ce9d-57684a409b42"
      },
      "execution_count": 44,
      "outputs": [
        {
          "output_type": "execute_result",
          "data": {
            "text/plain": [
              "array(['year 1', 'year 2', 'Year 1', 'year 3', 'year 4', 'Year 2',\n",
              "       'Year 3'], dtype=object)"
            ]
          },
          "metadata": {},
          "execution_count": 44
        }
      ]
    },
    {
      "cell_type": "code",
      "source": [
        "mask = {\n",
        "  'year 1':1,\n",
        "  'year 2':2,\n",
        "  'Year 1':1,\n",
        "  'year 3':3,\n",
        "  'year 4':4,\n",
        "  'Year 2':2,\n",
        "  'Year 3':3\n",
        "}\n",
        "df['year'] = df.year.map(mask)"
      ],
      "metadata": {
        "id": "ltkdU1FIdZ1x"
      },
      "execution_count": 45,
      "outputs": []
    },
    {
      "cell_type": "code",
      "source": [
        "df.describe(include='all')"
      ],
      "metadata": {
        "colab": {
          "base_uri": "https://localhost:8080/",
          "height": 394
        },
        "id": "Nb71Q5Iqd_yJ",
        "outputId": "8c9a0e3a-0425-471e-8758-aa994efc8b94"
      },
      "execution_count": 46,
      "outputs": [
        {
          "output_type": "execute_result",
          "data": {
            "text/plain": [
              "                  date  gender        age course        year         CGPA  \\\n",
              "count              101     101  100.00000    101  101.000000          101   \n",
              "unique              92       2        NaN     49         NaN            6   \n",
              "top     8/7/2020 12:39  Female        NaN    BCS         NaN  3.50 - 4.00   \n",
              "freq                 3      75        NaN     18         NaN           47   \n",
              "mean               NaN     NaN   20.53000    NaN    1.970297          NaN   \n",
              "std                NaN     NaN    2.49628    NaN    0.994540          NaN   \n",
              "min                NaN     NaN   18.00000    NaN    1.000000          NaN   \n",
              "25%                NaN     NaN   18.00000    NaN    1.000000          NaN   \n",
              "50%                NaN     NaN   19.00000    NaN    2.000000          NaN   \n",
              "75%                NaN     NaN   23.00000    NaN    3.000000          NaN   \n",
              "max                NaN     NaN   24.00000    NaN    4.000000          NaN   \n",
              "\n",
              "       Marital_status Depression Anxiety Panic treatment  \n",
              "count             101        101     101   101       101  \n",
              "unique              2          2       2     2         2  \n",
              "top                No         No      No    No        No  \n",
              "freq               85         66      67    68        95  \n",
              "mean              NaN        NaN     NaN   NaN       NaN  \n",
              "std               NaN        NaN     NaN   NaN       NaN  \n",
              "min               NaN        NaN     NaN   NaN       NaN  \n",
              "25%               NaN        NaN     NaN   NaN       NaN  \n",
              "50%               NaN        NaN     NaN   NaN       NaN  \n",
              "75%               NaN        NaN     NaN   NaN       NaN  \n",
              "max               NaN        NaN     NaN   NaN       NaN  "
            ],
            "text/html": [
              "\n",
              "\n",
              "  <div id=\"df-9bf7f820-0b20-4fc4-914f-6f2f8749454b\">\n",
              "    <div class=\"colab-df-container\">\n",
              "      <div>\n",
              "<style scoped>\n",
              "    .dataframe tbody tr th:only-of-type {\n",
              "        vertical-align: middle;\n",
              "    }\n",
              "\n",
              "    .dataframe tbody tr th {\n",
              "        vertical-align: top;\n",
              "    }\n",
              "\n",
              "    .dataframe thead th {\n",
              "        text-align: right;\n",
              "    }\n",
              "</style>\n",
              "<table border=\"1\" class=\"dataframe\">\n",
              "  <thead>\n",
              "    <tr style=\"text-align: right;\">\n",
              "      <th></th>\n",
              "      <th>date</th>\n",
              "      <th>gender</th>\n",
              "      <th>age</th>\n",
              "      <th>course</th>\n",
              "      <th>year</th>\n",
              "      <th>CGPA</th>\n",
              "      <th>Marital_status</th>\n",
              "      <th>Depression</th>\n",
              "      <th>Anxiety</th>\n",
              "      <th>Panic</th>\n",
              "      <th>treatment</th>\n",
              "    </tr>\n",
              "  </thead>\n",
              "  <tbody>\n",
              "    <tr>\n",
              "      <th>count</th>\n",
              "      <td>101</td>\n",
              "      <td>101</td>\n",
              "      <td>100.00000</td>\n",
              "      <td>101</td>\n",
              "      <td>101.000000</td>\n",
              "      <td>101</td>\n",
              "      <td>101</td>\n",
              "      <td>101</td>\n",
              "      <td>101</td>\n",
              "      <td>101</td>\n",
              "      <td>101</td>\n",
              "    </tr>\n",
              "    <tr>\n",
              "      <th>unique</th>\n",
              "      <td>92</td>\n",
              "      <td>2</td>\n",
              "      <td>NaN</td>\n",
              "      <td>49</td>\n",
              "      <td>NaN</td>\n",
              "      <td>6</td>\n",
              "      <td>2</td>\n",
              "      <td>2</td>\n",
              "      <td>2</td>\n",
              "      <td>2</td>\n",
              "      <td>2</td>\n",
              "    </tr>\n",
              "    <tr>\n",
              "      <th>top</th>\n",
              "      <td>8/7/2020 12:39</td>\n",
              "      <td>Female</td>\n",
              "      <td>NaN</td>\n",
              "      <td>BCS</td>\n",
              "      <td>NaN</td>\n",
              "      <td>3.50 - 4.00</td>\n",
              "      <td>No</td>\n",
              "      <td>No</td>\n",
              "      <td>No</td>\n",
              "      <td>No</td>\n",
              "      <td>No</td>\n",
              "    </tr>\n",
              "    <tr>\n",
              "      <th>freq</th>\n",
              "      <td>3</td>\n",
              "      <td>75</td>\n",
              "      <td>NaN</td>\n",
              "      <td>18</td>\n",
              "      <td>NaN</td>\n",
              "      <td>47</td>\n",
              "      <td>85</td>\n",
              "      <td>66</td>\n",
              "      <td>67</td>\n",
              "      <td>68</td>\n",
              "      <td>95</td>\n",
              "    </tr>\n",
              "    <tr>\n",
              "      <th>mean</th>\n",
              "      <td>NaN</td>\n",
              "      <td>NaN</td>\n",
              "      <td>20.53000</td>\n",
              "      <td>NaN</td>\n",
              "      <td>1.970297</td>\n",
              "      <td>NaN</td>\n",
              "      <td>NaN</td>\n",
              "      <td>NaN</td>\n",
              "      <td>NaN</td>\n",
              "      <td>NaN</td>\n",
              "      <td>NaN</td>\n",
              "    </tr>\n",
              "    <tr>\n",
              "      <th>std</th>\n",
              "      <td>NaN</td>\n",
              "      <td>NaN</td>\n",
              "      <td>2.49628</td>\n",
              "      <td>NaN</td>\n",
              "      <td>0.994540</td>\n",
              "      <td>NaN</td>\n",
              "      <td>NaN</td>\n",
              "      <td>NaN</td>\n",
              "      <td>NaN</td>\n",
              "      <td>NaN</td>\n",
              "      <td>NaN</td>\n",
              "    </tr>\n",
              "    <tr>\n",
              "      <th>min</th>\n",
              "      <td>NaN</td>\n",
              "      <td>NaN</td>\n",
              "      <td>18.00000</td>\n",
              "      <td>NaN</td>\n",
              "      <td>1.000000</td>\n",
              "      <td>NaN</td>\n",
              "      <td>NaN</td>\n",
              "      <td>NaN</td>\n",
              "      <td>NaN</td>\n",
              "      <td>NaN</td>\n",
              "      <td>NaN</td>\n",
              "    </tr>\n",
              "    <tr>\n",
              "      <th>25%</th>\n",
              "      <td>NaN</td>\n",
              "      <td>NaN</td>\n",
              "      <td>18.00000</td>\n",
              "      <td>NaN</td>\n",
              "      <td>1.000000</td>\n",
              "      <td>NaN</td>\n",
              "      <td>NaN</td>\n",
              "      <td>NaN</td>\n",
              "      <td>NaN</td>\n",
              "      <td>NaN</td>\n",
              "      <td>NaN</td>\n",
              "    </tr>\n",
              "    <tr>\n",
              "      <th>50%</th>\n",
              "      <td>NaN</td>\n",
              "      <td>NaN</td>\n",
              "      <td>19.00000</td>\n",
              "      <td>NaN</td>\n",
              "      <td>2.000000</td>\n",
              "      <td>NaN</td>\n",
              "      <td>NaN</td>\n",
              "      <td>NaN</td>\n",
              "      <td>NaN</td>\n",
              "      <td>NaN</td>\n",
              "      <td>NaN</td>\n",
              "    </tr>\n",
              "    <tr>\n",
              "      <th>75%</th>\n",
              "      <td>NaN</td>\n",
              "      <td>NaN</td>\n",
              "      <td>23.00000</td>\n",
              "      <td>NaN</td>\n",
              "      <td>3.000000</td>\n",
              "      <td>NaN</td>\n",
              "      <td>NaN</td>\n",
              "      <td>NaN</td>\n",
              "      <td>NaN</td>\n",
              "      <td>NaN</td>\n",
              "      <td>NaN</td>\n",
              "    </tr>\n",
              "    <tr>\n",
              "      <th>max</th>\n",
              "      <td>NaN</td>\n",
              "      <td>NaN</td>\n",
              "      <td>24.00000</td>\n",
              "      <td>NaN</td>\n",
              "      <td>4.000000</td>\n",
              "      <td>NaN</td>\n",
              "      <td>NaN</td>\n",
              "      <td>NaN</td>\n",
              "      <td>NaN</td>\n",
              "      <td>NaN</td>\n",
              "      <td>NaN</td>\n",
              "    </tr>\n",
              "  </tbody>\n",
              "</table>\n",
              "</div>\n",
              "      <button class=\"colab-df-convert\" onclick=\"convertToInteractive('df-9bf7f820-0b20-4fc4-914f-6f2f8749454b')\"\n",
              "              title=\"Convert this dataframe to an interactive table.\"\n",
              "              style=\"display:none;\">\n",
              "\n",
              "  <svg xmlns=\"http://www.w3.org/2000/svg\" height=\"24px\"viewBox=\"0 0 24 24\"\n",
              "       width=\"24px\">\n",
              "    <path d=\"M0 0h24v24H0V0z\" fill=\"none\"/>\n",
              "    <path d=\"M18.56 5.44l.94 2.06.94-2.06 2.06-.94-2.06-.94-.94-2.06-.94 2.06-2.06.94zm-11 1L8.5 8.5l.94-2.06 2.06-.94-2.06-.94L8.5 2.5l-.94 2.06-2.06.94zm10 10l.94 2.06.94-2.06 2.06-.94-2.06-.94-.94-2.06-.94 2.06-2.06.94z\"/><path d=\"M17.41 7.96l-1.37-1.37c-.4-.4-.92-.59-1.43-.59-.52 0-1.04.2-1.43.59L10.3 9.45l-7.72 7.72c-.78.78-.78 2.05 0 2.83L4 21.41c.39.39.9.59 1.41.59.51 0 1.02-.2 1.41-.59l7.78-7.78 2.81-2.81c.8-.78.8-2.07 0-2.86zM5.41 20L4 18.59l7.72-7.72 1.47 1.35L5.41 20z\"/>\n",
              "  </svg>\n",
              "      </button>\n",
              "\n",
              "\n",
              "\n",
              "    <div id=\"df-e3d89536-5c40-439f-b76a-d8dcc5f30619\">\n",
              "      <button class=\"colab-df-quickchart\" onclick=\"quickchart('df-e3d89536-5c40-439f-b76a-d8dcc5f30619')\"\n",
              "              title=\"Suggest charts.\"\n",
              "              style=\"display:none;\">\n",
              "\n",
              "<svg xmlns=\"http://www.w3.org/2000/svg\" height=\"24px\"viewBox=\"0 0 24 24\"\n",
              "     width=\"24px\">\n",
              "    <g>\n",
              "        <path d=\"M19 3H5c-1.1 0-2 .9-2 2v14c0 1.1.9 2 2 2h14c1.1 0 2-.9 2-2V5c0-1.1-.9-2-2-2zM9 17H7v-7h2v7zm4 0h-2V7h2v10zm4 0h-2v-4h2v4z\"/>\n",
              "    </g>\n",
              "</svg>\n",
              "      </button>\n",
              "    </div>\n",
              "\n",
              "<style>\n",
              "  .colab-df-quickchart {\n",
              "    background-color: #E8F0FE;\n",
              "    border: none;\n",
              "    border-radius: 50%;\n",
              "    cursor: pointer;\n",
              "    display: none;\n",
              "    fill: #1967D2;\n",
              "    height: 32px;\n",
              "    padding: 0 0 0 0;\n",
              "    width: 32px;\n",
              "  }\n",
              "\n",
              "  .colab-df-quickchart:hover {\n",
              "    background-color: #E2EBFA;\n",
              "    box-shadow: 0px 1px 2px rgba(60, 64, 67, 0.3), 0px 1px 3px 1px rgba(60, 64, 67, 0.15);\n",
              "    fill: #174EA6;\n",
              "  }\n",
              "\n",
              "  [theme=dark] .colab-df-quickchart {\n",
              "    background-color: #3B4455;\n",
              "    fill: #D2E3FC;\n",
              "  }\n",
              "\n",
              "  [theme=dark] .colab-df-quickchart:hover {\n",
              "    background-color: #434B5C;\n",
              "    box-shadow: 0px 1px 3px 1px rgba(0, 0, 0, 0.15);\n",
              "    filter: drop-shadow(0px 1px 2px rgba(0, 0, 0, 0.3));\n",
              "    fill: #FFFFFF;\n",
              "  }\n",
              "</style>\n",
              "\n",
              "    <script>\n",
              "      async function quickchart(key) {\n",
              "        const containerElement = document.querySelector('#' + key);\n",
              "        const charts = await google.colab.kernel.invokeFunction(\n",
              "            'suggestCharts', [key], {});\n",
              "      }\n",
              "    </script>\n",
              "\n",
              "      <script>\n",
              "\n",
              "function displayQuickchartButton(domScope) {\n",
              "  let quickchartButtonEl =\n",
              "    domScope.querySelector('#df-e3d89536-5c40-439f-b76a-d8dcc5f30619 button.colab-df-quickchart');\n",
              "  quickchartButtonEl.style.display =\n",
              "    google.colab.kernel.accessAllowed ? 'block' : 'none';\n",
              "}\n",
              "\n",
              "        displayQuickchartButton(document);\n",
              "      </script>\n",
              "      <style>\n",
              "    .colab-df-container {\n",
              "      display:flex;\n",
              "      flex-wrap:wrap;\n",
              "      gap: 12px;\n",
              "    }\n",
              "\n",
              "    .colab-df-convert {\n",
              "      background-color: #E8F0FE;\n",
              "      border: none;\n",
              "      border-radius: 50%;\n",
              "      cursor: pointer;\n",
              "      display: none;\n",
              "      fill: #1967D2;\n",
              "      height: 32px;\n",
              "      padding: 0 0 0 0;\n",
              "      width: 32px;\n",
              "    }\n",
              "\n",
              "    .colab-df-convert:hover {\n",
              "      background-color: #E2EBFA;\n",
              "      box-shadow: 0px 1px 2px rgba(60, 64, 67, 0.3), 0px 1px 3px 1px rgba(60, 64, 67, 0.15);\n",
              "      fill: #174EA6;\n",
              "    }\n",
              "\n",
              "    [theme=dark] .colab-df-convert {\n",
              "      background-color: #3B4455;\n",
              "      fill: #D2E3FC;\n",
              "    }\n",
              "\n",
              "    [theme=dark] .colab-df-convert:hover {\n",
              "      background-color: #434B5C;\n",
              "      box-shadow: 0px 1px 3px 1px rgba(0, 0, 0, 0.15);\n",
              "      filter: drop-shadow(0px 1px 2px rgba(0, 0, 0, 0.3));\n",
              "      fill: #FFFFFF;\n",
              "    }\n",
              "  </style>\n",
              "\n",
              "      <script>\n",
              "        const buttonEl =\n",
              "          document.querySelector('#df-9bf7f820-0b20-4fc4-914f-6f2f8749454b button.colab-df-convert');\n",
              "        buttonEl.style.display =\n",
              "          google.colab.kernel.accessAllowed ? 'block' : 'none';\n",
              "\n",
              "        async function convertToInteractive(key) {\n",
              "          const element = document.querySelector('#df-9bf7f820-0b20-4fc4-914f-6f2f8749454b');\n",
              "          const dataTable =\n",
              "            await google.colab.kernel.invokeFunction('convertToInteractive',\n",
              "                                                     [key], {});\n",
              "          if (!dataTable) return;\n",
              "\n",
              "          const docLinkHtml = 'Like what you see? Visit the ' +\n",
              "            '<a target=\"_blank\" href=https://colab.research.google.com/notebooks/data_table.ipynb>data table notebook</a>'\n",
              "            + ' to learn more about interactive tables.';\n",
              "          element.innerHTML = '';\n",
              "          dataTable['output_type'] = 'display_data';\n",
              "          await google.colab.output.renderOutput(dataTable, element);\n",
              "          const docLink = document.createElement('div');\n",
              "          docLink.innerHTML = docLinkHtml;\n",
              "          element.appendChild(docLink);\n",
              "        }\n",
              "      </script>\n",
              "    </div>\n",
              "  </div>\n"
            ]
          },
          "metadata": {},
          "execution_count": 46
        }
      ]
    },
    {
      "cell_type": "code",
      "source": [
        "df['CGPA'] = df['CGPA'].str.strip()"
      ],
      "metadata": {
        "id": "O_aiZnQ0D5nj"
      },
      "execution_count": 47,
      "outputs": []
    },
    {
      "cell_type": "code",
      "source": [
        "data = df['course'].unique()\n",
        "data"
      ],
      "metadata": {
        "colab": {
          "base_uri": "https://localhost:8080/"
        },
        "id": "1-7IZnaiEpm3",
        "outputId": "0e8258f2-8abd-4c4d-b001-7d78df40cd94"
      },
      "execution_count": 48,
      "outputs": [
        {
          "output_type": "execute_result",
          "data": {
            "text/plain": [
              "array(['Engineering', 'Islamic education', 'BIT', 'Laws', 'Mathemathics',\n",
              "       'Pendidikan islam', 'BCS', 'Human Resources', 'Irkhs',\n",
              "       'Psychology', 'KENMS', 'Accounting ', 'ENM', 'Marine science',\n",
              "       'KOE', 'Banking Studies', 'Business Administration', 'Law',\n",
              "       'KIRKHS', 'Usuluddin ', 'TAASL', 'Engine', 'ALA',\n",
              "       'Biomedical science', 'koe', 'Kirkhs', 'BENL', 'Benl', 'IT', 'CTS',\n",
              "       'engin', 'Econs', 'MHSC', 'Malcom', 'Kop', 'Human Sciences ',\n",
              "       'Biotechnology', 'Communication ', 'Diploma Nursing',\n",
              "       'Pendidikan Islam ', 'Radiography', 'psychology', 'Fiqh fatwa ',\n",
              "       'DIPLOMA TESL', 'Koe', 'Fiqh', 'Islamic Education', 'Nursing ',\n",
              "       'Pendidikan Islam'], dtype=object)"
            ]
          },
          "metadata": {},
          "execution_count": 48
        }
      ]
    },
    {
      "cell_type": "markdown",
      "source": [
        "같은의미의 문자열\n",
        "  - 유사도 측정\n",
        "  - 클러스터링 알고리즘(K-Means)"
      ],
      "metadata": {
        "id": "IH5UsN-bGKYW"
      }
    },
    {
      "cell_type": "code",
      "source": [
        "from sklearn.feature_extraction.text import TfidfVectorizer\n",
        "from sklearn.cluster import KMeans\n",
        "import numpy as np"
      ],
      "metadata": {
        "id": "MRu8fr0OFQ5P"
      },
      "execution_count": 49,
      "outputs": []
    },
    {
      "cell_type": "code",
      "source": [
        "data = df['course'].unique()\n",
        "\n",
        "# TF-IDF 백터화\n",
        "vectorizer =  TfidfVectorizer()\n",
        "X = vectorizer.fit_transform(data)\n",
        "kmeans = KMeans()\n",
        "kmeans.fit(X)\n",
        "# 클러스터링 결과 출력\n",
        "for i in range(len(np.unique(kmeans.labels_))):\n",
        "  cluster_indices = np.where(kmeans.labels_ == i)[0]\n",
        "  cluster_strings = [data[idx] for idx in cluster_indices]\n",
        "  print(f\"cluster {i+1} : {cluster_strings}\")"
      ],
      "metadata": {
        "colab": {
          "base_uri": "https://localhost:8080/"
        },
        "id": "MhVGxfa_JnV7",
        "outputId": "7c6fa3d5-989e-45c5-891c-57d23b648814"
      },
      "execution_count": 62,
      "outputs": [
        {
          "output_type": "stream",
          "name": "stdout",
          "text": [
            "cluster 1 : ['Islamic Education']\n",
            "cluster 2 : ['Engineering', 'BIT', 'Law', 'Mathemathics', 'Pendidikan Islam', 'BCS', 'Irkhs', 'Psychology', 'KENMS', 'Accounting ', 'ENM', 'KOE', 'Banking Studies', 'KIRKHS', 'Usuluddin ', 'Engine', 'ALA', 'BENL', 'IT', 'CTS', 'engin', 'Econs', 'MHSC', 'Malcom', 'Kop', 'Biotechnology', 'Communication ', 'Fiqh', 'Nursing ']\n",
            "cluster 3 : ['Radiography']\n",
            "cluster 4 : ['Business Administration']\n",
            "cluster 5 : ['TAASL']\n",
            "cluster 6 : ['Marine science', 'Biomedical science']\n",
            "cluster 7 : ['Diploma Nursing', 'DIPLOMA TESL']\n",
            "cluster 8 : ['Human Resources', 'Human Sciences ']\n"
          ]
        },
        {
          "output_type": "stream",
          "name": "stderr",
          "text": [
            "/usr/local/lib/python3.10/dist-packages/sklearn/cluster/_kmeans.py:870: FutureWarning: The default value of `n_init` will change from 10 to 'auto' in 1.4. Set the value of `n_init` explicitly to suppress the warning\n",
            "  warnings.warn(\n"
          ]
        }
      ]
    },
    {
      "cell_type": "code",
      "source": [
        "mask = {\n",
        "    'Fiqh fatwa ':'Fiqh',\n",
        "    'Benl':'BENL',\n",
        "    'Kirkhs':'KIRKHS',\n",
        "    'psychology':'Psychology',\n",
        "    'Pendidikan islam':'Pendidikan Islam',\n",
        "    'Pendidikan Islam ':'Pendidikan Islam',\n",
        "    'koe':'KOE',\n",
        "    'Koe':'KOE',\n",
        "    'Islamic education':'Islamic Education',\n",
        "    'Laws':'Law',\n",
        "}\n",
        "df['course'] = df['course'].replace(mask)"
      ],
      "metadata": {
        "id": "GC5w2QpjJqtU"
      },
      "execution_count": 51,
      "outputs": []
    },
    {
      "cell_type": "code",
      "source": [
        "# mask = {\n",
        "#     'Islamic education':'Islamic Education',\n",
        "# }\n",
        "# df['course'] = df['course'].replace(mask)"
      ],
      "metadata": {
        "id": "GV6R4SUBL4ES"
      },
      "execution_count": 53,
      "outputs": []
    },
    {
      "cell_type": "code",
      "source": [
        "# mask = {\n",
        "#     'Laws':'Law',\n",
        "# }\n",
        "# df['course'] = df['course'].replace(mask)"
      ],
      "metadata": {
        "id": "sgOj8dqUMwcK"
      },
      "execution_count": 60,
      "outputs": []
    },
    {
      "cell_type": "code",
      "source": [
        "df['course'].unique()"
      ],
      "metadata": {
        "colab": {
          "base_uri": "https://localhost:8080/"
        },
        "id": "cPd8_nleMOol",
        "outputId": "df98e44b-23c9-44bc-f3a5-0875df2ed916"
      },
      "execution_count": 61,
      "outputs": [
        {
          "output_type": "execute_result",
          "data": {
            "text/plain": [
              "array(['Engineering', 'Islamic Education', 'BIT', 'Law', 'Mathemathics',\n",
              "       'Pendidikan Islam', 'BCS', 'Human Resources', 'Irkhs',\n",
              "       'Psychology', 'KENMS', 'Accounting ', 'ENM', 'Marine science',\n",
              "       'KOE', 'Banking Studies', 'Business Administration', 'KIRKHS',\n",
              "       'Usuluddin ', 'TAASL', 'Engine', 'ALA', 'Biomedical science',\n",
              "       'BENL', 'IT', 'CTS', 'engin', 'Econs', 'MHSC', 'Malcom', 'Kop',\n",
              "       'Human Sciences ', 'Biotechnology', 'Communication ',\n",
              "       'Diploma Nursing', 'Radiography', 'Fiqh', 'DIPLOMA TESL',\n",
              "       'Nursing '], dtype=object)"
            ]
          },
          "metadata": {},
          "execution_count": 61
        }
      ]
    },
    {
      "cell_type": "code",
      "source": [
        "import seaborn as sns\n",
        "import matplotlib.pyplot as plt\n",
        "sns.pairplot(df)\n",
        "plt.show()"
      ],
      "metadata": {
        "colab": {
          "base_uri": "https://localhost:8080/",
          "height": 513
        },
        "id": "lqxTuyexM9GK",
        "outputId": "2258a281-0c2d-49b0-b4c5-14309d6b3458"
      },
      "execution_count": 66,
      "outputs": [
        {
          "output_type": "display_data",
          "data": {
            "text/plain": [
              "<Figure size 500x500 with 6 Axes>"
            ],
            "image/png": "[encoded data removed]"
          },
          "metadata": {}
        }
      ]
    },
    {
      "cell_type": "markdown",
      "source": [],
      "metadata": {
        "id": "qV66R6z8ODpL"
      }
    },
    {
      "cell_type": "code",
      "source": [],
      "metadata": {
        "id": "PVZb7gGmN3HK"
      },
      "execution_count": null,
      "outputs": []
    }
  ]
}