{
  "nbformat": 4,
  "nbformat_minor": 0,
  "metadata": {
    "colab": {
      "provenance": []
    },
    "kernelspec": {
      "name": "python3",
      "display_name": "Python 3"
    },
    "language_info": {
      "name": "python"
    }
  },
  "cells": [
    {
      "cell_type": "code",
      "execution_count": null,
      "metadata": {
        "id": "c8K71ZPJnZ7_"
      },
      "outputs": [],
      "source": []
    },
    {
      "cell_type": "markdown",
      "source": [
        "함수 : 리턴"
      ],
      "metadata": {
        "id": "la5cfVwendhC"
      }
    },
    {
      "cell_type": "code",
      "source": [
        "def myFunction():\n",
        "  return 100"
      ],
      "metadata": {
        "id": "tZAnwnY6ngE7"
      },
      "execution_count": null,
      "outputs": []
    },
    {
      "cell_type": "code",
      "source": [
        "result = myFunction()\n",
        "result"
      ],
      "metadata": {
        "colab": {
          "base_uri": "https://localhost:8080/"
        },
        "id": "iOP0VASBnjYR",
        "outputId": "ce1b34ce-ec48-4fa7-8cf8-92f868ad08e5"
      },
      "execution_count": null,
      "outputs": [
        {
          "output_type": "execute_result",
          "data": {
            "text/plain": [
              "100"
            ]
          },
          "metadata": {},
          "execution_count": 3
        }
      ]
    },
    {
      "cell_type": "code",
      "source": [
        "result = myFunction"
      ],
      "metadata": {
        "id": "2ufnugGqnrNx"
      },
      "execution_count": null,
      "outputs": []
    },
    {
      "cell_type": "code",
      "source": [
        "result()"
      ],
      "metadata": {
        "colab": {
          "base_uri": "https://localhost:8080/"
        },
        "id": "cTXZuSi4n2Ng",
        "outputId": "4b504fc3-6417-4456-d8ce-da5deaa0012c"
      },
      "execution_count": null,
      "outputs": [
        {
          "output_type": "execute_result",
          "data": {
            "text/plain": [
              "100"
            ]
          },
          "metadata": {},
          "execution_count": 5
        }
      ]
    },
    {
      "cell_type": "markdown",
      "source": [
        "재귀함수 Recursive Function"
      ],
      "metadata": {
        "id": "CxJaMRgDoMJg"
      }
    },
    {
      "cell_type": "code",
      "source": [
        "def myFunction(count):\n",
        "  print(f\"call myFunction : {count}\")\n",
        "  if count == 5:\n",
        "    return\n",
        "  myFunction(count+1)\n",
        "  print(f\"back myFunction : {count}\")"
      ],
      "metadata": {
        "id": "qZ5FNcqNoD_Q"
      },
      "execution_count": null,
      "outputs": []
    },
    {
      "cell_type": "code",
      "source": [
        "myFunction(0)"
      ],
      "metadata": {
        "colab": {
          "base_uri": "https://localhost:8080/"
        },
        "id": "f4YoofzkoXpZ",
        "outputId": "b98e6a6e-d2d5-451b-958f-bd7fe1bde556"
      },
      "execution_count": null,
      "outputs": [
        {
          "output_type": "stream",
          "name": "stdout",
          "text": [
            "call myFunction : 0\n",
            "call myFunction : 1\n",
            "call myFunction : 2\n",
            "call myFunction : 3\n",
            "call myFunction : 4\n",
            "call myFunction : 5\n",
            "back myFunction : 4\n",
            "back myFunction : 3\n",
            "back myFunction : 2\n",
            "back myFunction : 1\n",
            "back myFunction : 0\n"
          ]
        }
      ]
    },
    {
      "cell_type": "code",
      "source": [
        "# factorial\n",
        "# !5  5x4x3x2x1\n",
        "# 1x2x3x4x5\n",
        "result = 1\n",
        "for i in range(1,6):\n",
        "  result *=i"
      ],
      "metadata": {
        "id": "ztw6dqkXq7bZ"
      },
      "execution_count": null,
      "outputs": []
    },
    {
      "cell_type": "code",
      "source": [
        "# 5 x 4 x 3 x 2 x 1\n",
        "def factorial(n):\n",
        "  if n == 1:\n",
        "    return 1\n",
        "  return n * factorial(n-1)"
      ],
      "metadata": {
        "id": "UCP9SReFobyo"
      },
      "execution_count": null,
      "outputs": []
    },
    {
      "cell_type": "code",
      "source": [
        "factorial(5)"
      ],
      "metadata": {
        "colab": {
          "base_uri": "https://localhost:8080/"
        },
        "id": "9HEuaKcYrRTI",
        "outputId": "702fcee4-1255-4723-8c46-547b07a4762a"
      },
      "execution_count": null,
      "outputs": [
        {
          "output_type": "execute_result",
          "data": {
            "text/plain": [
              "120"
            ]
          },
          "metadata": {},
          "execution_count": 19
        }
      ]
    },
    {
      "cell_type": "code",
      "source": [
        "import os\n",
        "def getFiles(dirpath):\n",
        "  return os.listdir(dirpath)"
      ],
      "metadata": {
        "id": "SiEneI37sKc-"
      },
      "execution_count": null,
      "outputs": []
    },
    {
      "cell_type": "code",
      "source": [
        "os.path.isdir('sample_data')  # true\n",
        "os.path.isdir('sample_data/README.md') # false"
      ],
      "metadata": {
        "colab": {
          "base_uri": "https://localhost:8080/"
        },
        "id": "G5xKZA-2txw2",
        "outputId": "f24c26bd-f864-4b52-9ee2-ffecc0f0a3b1"
      },
      "execution_count": null,
      "outputs": [
        {
          "output_type": "execute_result",
          "data": {
            "text/plain": [
              "False"
            ]
          },
          "metadata": {},
          "execution_count": 29
        }
      ]
    },
    {
      "cell_type": "code",
      "source": [
        "dirpath='sample_data'\n",
        "result = []\n",
        "for file in os.listdir(dirpath):\n",
        "  if os.path.isdir(dirpath+'/'+file):\n",
        "    print(dirpath+'/'+file)\n",
        "  else:\n",
        "    result.append(file)"
      ],
      "metadata": {
        "colab": {
          "base_uri": "https://localhost:8080/"
        },
        "id": "C19XZQfRu8uh",
        "outputId": "c4d621a5-7222-48d0-a385-8afc81428e8b"
      },
      "execution_count": null,
      "outputs": [
        {
          "output_type": "stream",
          "name": "stdout",
          "text": [
            "sample_data/.ipynb_checkpoints\n",
            "sample_data/subfolder2\n",
            "sample_data/subfolder1\n"
          ]
        }
      ]
    },
    {
      "cell_type": "code",
      "source": [
        "import os\n",
        "def getFiles(dirpath):\n",
        "  result = []\n",
        "  for file in os.listdir(dirpath):\n",
        "    if os.path.isdir(dirpath+'/'+file):\n",
        "      result.extend(getFiles(dirpath+'/'+file))\n",
        "    else:\n",
        "      result.append(file)\n",
        "  return result"
      ],
      "metadata": {
        "id": "ajQmcIgev-he"
      },
      "execution_count": null,
      "outputs": []
    },
    {
      "cell_type": "code",
      "source": [
        "getFiles('sample_data')"
      ],
      "metadata": {
        "colab": {
          "base_uri": "https://localhost:8080/"
        },
        "id": "w6ERWURCxVXN",
        "outputId": "8306d277-7c20-4c2b-998c-00cc322172bd"
      },
      "execution_count": null,
      "outputs": [
        {
          "output_type": "execute_result",
          "data": {
            "text/plain": [
              "['README.md',\n",
              " 'anscombe.json',\n",
              " 'untitled',\n",
              " 'bbb.txt',\n",
              " 'ccc.txt',\n",
              " 'aaa.txt',\n",
              " 'mnist_train_small.csv',\n",
              " 'mnist_test.csv',\n",
              " 'california_housing_train.csv',\n",
              " 'california_housing_test.csv']"
            ]
          },
          "metadata": {},
          "execution_count": 56
        }
      ]
    },
    {
      "cell_type": "markdown",
      "source": [
        "map function\n",
        "  - map(함수, 데이터의 집합)"
      ],
      "metadata": {
        "id": "ps7-8UyX1ggX"
      }
    },
    {
      "cell_type": "code",
      "source": [
        "temp = ['1','2','3','4','5']\n",
        "# for i in range(5):\n",
        "#   temp[i] = int(temp[i])"
      ],
      "metadata": {
        "id": "cBLKtB_P05Xc"
      },
      "execution_count": null,
      "outputs": []
    },
    {
      "cell_type": "code",
      "source": [
        "temp = list(map(int, temp))"
      ],
      "metadata": {
        "id": "G9OoekqU12Ss"
      },
      "execution_count": null,
      "outputs": []
    },
    {
      "cell_type": "code",
      "source": [
        "def add100(x):\n",
        "  return x+100"
      ],
      "metadata": {
        "id": "BCyykYJA25Wc"
      },
      "execution_count": null,
      "outputs": []
    },
    {
      "cell_type": "code",
      "source": [
        "list(map(add100, temp))"
      ],
      "metadata": {
        "colab": {
          "base_uri": "https://localhost:8080/"
        },
        "id": "f9fE3APs3B5s",
        "outputId": "81c57994-d92b-4d30-d80a-cb006d504133"
      },
      "execution_count": null,
      "outputs": [
        {
          "output_type": "execute_result",
          "data": {
            "text/plain": [
              "[101, 102, 103, 104, 105]"
            ]
          },
          "metadata": {},
          "execution_count": 73
        }
      ]
    },
    {
      "cell_type": "code",
      "source": [
        "temp"
      ],
      "metadata": {
        "colab": {
          "base_uri": "https://localhost:8080/"
        },
        "id": "WWjc_1LI3JAj",
        "outputId": "d2464b66-ee14-4360-f8ef-c4ef9da3cf3d"
      },
      "execution_count": null,
      "outputs": [
        {
          "output_type": "execute_result",
          "data": {
            "text/plain": [
              "[1, 2, 3, 4, 5]"
            ]
          },
          "metadata": {},
          "execution_count": 74
        }
      ]
    },
    {
      "cell_type": "code",
      "source": [
        "def func(x):\n",
        "  return x**2"
      ],
      "metadata": {
        "id": "GN3tASu13cjU"
      },
      "execution_count": null,
      "outputs": []
    },
    {
      "cell_type": "code",
      "source": [
        "map(func, temp)"
      ],
      "metadata": {
        "colab": {
          "base_uri": "https://localhost:8080/"
        },
        "id": "gwi7bPmq4Tyi",
        "outputId": "08559a78-cc15-4f21-f914-3295aa89ef54"
      },
      "execution_count": null,
      "outputs": [
        {
          "output_type": "execute_result",
          "data": {
            "text/plain": [
              "<map at 0x7fb52bda0760>"
            ]
          },
          "metadata": {},
          "execution_count": 80
        }
      ]
    },
    {
      "cell_type": "code",
      "source": [
        "for i in map(func, temp):\n",
        "  print(i)\n"
      ],
      "metadata": {
        "colab": {
          "base_uri": "https://localhost:8080/"
        },
        "id": "Dr6MydHB3_Oj",
        "outputId": "835a29ad-7cfb-4b7f-8f7f-27ed14f2d63e"
      },
      "execution_count": null,
      "outputs": [
        {
          "output_type": "stream",
          "name": "stdout",
          "text": [
            "1\n",
            "4\n",
            "9\n",
            "16\n",
            "25\n"
          ]
        }
      ]
    },
    {
      "cell_type": "code",
      "source": [
        "for i in range(5):\n",
        "  print(i)"
      ],
      "metadata": {
        "colab": {
          "base_uri": "https://localhost:8080/"
        },
        "id": "DY5t6vK44EBr",
        "outputId": "9760495f-6eb5-4b88-cae2-86d28d2a2820"
      },
      "execution_count": null,
      "outputs": [
        {
          "output_type": "stream",
          "name": "stdout",
          "text": [
            "0\n",
            "1\n",
            "2\n",
            "3\n",
            "4\n"
          ]
        }
      ]
    },
    {
      "cell_type": "markdown",
      "source": [
        "filter function\n",
        "  - 원하는 조건이 True로 만들어주는 함수를 사용\n",
        "  - filter(함수, 리스트)"
      ],
      "metadata": {
        "id": "Q7keXSfL40j_"
      }
    },
    {
      "cell_type": "code",
      "source": [
        "temp = list(range(1,11))\n",
        "temp"
      ],
      "metadata": {
        "colab": {
          "base_uri": "https://localhost:8080/"
        },
        "id": "qYq23Dry4dI-",
        "outputId": "d3864c25-93d5-4722-9a41-65cb619e8f64"
      },
      "execution_count": null,
      "outputs": [
        {
          "output_type": "execute_result",
          "data": {
            "text/plain": [
              "[1, 2, 3, 4, 5, 6, 7, 8, 9, 10]"
            ]
          },
          "metadata": {},
          "execution_count": 85
        }
      ]
    },
    {
      "cell_type": "code",
      "source": [
        "def is_even(x):\n",
        "  return x % 2 == 0"
      ],
      "metadata": {
        "id": "axbUbdIa4_dz"
      },
      "execution_count": null,
      "outputs": []
    },
    {
      "cell_type": "code",
      "source": [
        "list(filter(is_even, temp))\n"
      ],
      "metadata": {
        "colab": {
          "base_uri": "https://localhost:8080/"
        },
        "id": "_3nafytQ5miD",
        "outputId": "cfd2162d-e501-48a3-996e-36ac078bd025"
      },
      "execution_count": null,
      "outputs": [
        {
          "output_type": "execute_result",
          "data": {
            "text/plain": [
              "[2, 4, 6, 8, 10]"
            ]
          },
          "metadata": {},
          "execution_count": 96
        }
      ]
    },
    {
      "cell_type": "code",
      "source": [
        "temp = list(range(1,6))\n",
        "temp"
      ],
      "metadata": {
        "colab": {
          "base_uri": "https://localhost:8080/"
        },
        "id": "bo8yoMx45rg6",
        "outputId": "07b51bcf-e840-49c2-9901-73e9c54d1687"
      },
      "execution_count": null,
      "outputs": [
        {
          "output_type": "execute_result",
          "data": {
            "text/plain": [
              "[1, 2, 3, 4, 5]"
            ]
          },
          "metadata": {},
          "execution_count": 98
        }
      ]
    },
    {
      "cell_type": "code",
      "source": [
        "def add(x,y):\n",
        "  return x + y"
      ],
      "metadata": {
        "id": "Ri6x0EKw6h47"
      },
      "execution_count": null,
      "outputs": []
    },
    {
      "cell_type": "code",
      "source": [
        "from functools import reduce\n",
        "reduce(add,temp)"
      ],
      "metadata": {
        "colab": {
          "base_uri": "https://localhost:8080/"
        },
        "id": "xueaNtus62Hj",
        "outputId": "24309931-f9f8-4083-e718-678365b0b7cc"
      },
      "execution_count": null,
      "outputs": [
        {
          "output_type": "execute_result",
          "data": {
            "text/plain": [
              "15"
            ]
          },
          "metadata": {},
          "execution_count": 104
        }
      ]
    },
    {
      "cell_type": "code",
      "source": [
        "temp = [ [1,2,3],[10,20,30],[1,3,5]   ]\n",
        "# [ 1,2,3,10,20,30,1,3,5   ]\n",
        "reduce(add,temp)"
      ],
      "metadata": {
        "colab": {
          "base_uri": "https://localhost:8080/"
        },
        "id": "LHw8kJVM7TIy",
        "outputId": "03631f75-1a9b-45b0-c007-4ac1cadecd85"
      },
      "execution_count": null,
      "outputs": [
        {
          "output_type": "execute_result",
          "data": {
            "text/plain": [
              "[1, 2, 3, 10, 20, 30, 1, 3, 5]"
            ]
          },
          "metadata": {},
          "execution_count": 105
        }
      ]
    },
    {
      "cell_type": "markdown",
      "source": [
        "zip 함수\n",
        "  - 리스트를 병합 : list merge"
      ],
      "metadata": {
        "id": "LzMHCFTI8sCW"
      }
    },
    {
      "cell_type": "code",
      "source": [
        "[ ('john',10 ), ('jane', 15), ('tom',20)  ]"
      ],
      "metadata": {
        "colab": {
          "base_uri": "https://localhost:8080/"
        },
        "id": "pvcvfCo68Miy",
        "outputId": "b3a2f19c-d79a-41a1-e696-deacf4a468e0"
      },
      "execution_count": null,
      "outputs": [
        {
          "output_type": "execute_result",
          "data": {
            "text/plain": [
              "[('john', 10), ('jane', 15), ('tom', 20)]"
            ]
          },
          "metadata": {},
          "execution_count": 106
        }
      ]
    },
    {
      "cell_type": "code",
      "source": [
        "names = ['john','jane','tom']\n",
        "ages = [10,15,20]\n",
        "addr = ['서울시','경기도','부산']\n",
        "list(zip(names,ages,addr))"
      ],
      "metadata": {
        "colab": {
          "base_uri": "https://localhost:8080/"
        },
        "id": "W84SswcP9AsK",
        "outputId": "67718aaf-682e-45e1-c9a2-68713b252338"
      },
      "execution_count": null,
      "outputs": [
        {
          "output_type": "execute_result",
          "data": {
            "text/plain": [
              "[('john', 10, '서울시'), ('jane', 15, '경기도'), ('tom', 20, '부산')]"
            ]
          },
          "metadata": {},
          "execution_count": 110
        }
      ]
    },
    {
      "cell_type": "markdown",
      "source": [
        "ANY\n",
        "\n",
        "ALL"
      ],
      "metadata": {
        "id": "Iw047lWW-a8m"
      }
    },
    {
      "cell_type": "code",
      "source": [
        "temp = [True,False,True,True]\n",
        "temp"
      ],
      "metadata": {
        "colab": {
          "base_uri": "https://localhost:8080/"
        },
        "id": "xohFIMU2-aWi",
        "outputId": "7c003f63-2e71-4537-b8ca-f30b4f1bc023"
      },
      "execution_count": null,
      "outputs": [
        {
          "output_type": "execute_result",
          "data": {
            "text/plain": [
              "[True, False, True, True]"
            ]
          },
          "metadata": {},
          "execution_count": 112
        }
      ]
    },
    {
      "cell_type": "code",
      "source": [
        "any(temp), all(temp)"
      ],
      "metadata": {
        "colab": {
          "base_uri": "https://localhost:8080/"
        },
        "id": "pRaxHSup9I0q",
        "outputId": "d2b37cbb-56f4-40b7-ae32-761ec4e7ae53"
      },
      "execution_count": null,
      "outputs": [
        {
          "output_type": "execute_result",
          "data": {
            "text/plain": [
              "(True, False)"
            ]
          },
          "metadata": {},
          "execution_count": 113
        }
      ]
    },
    {
      "cell_type": "markdown",
      "source": [
        "- git 주소의 소스를 자신의 google dirve에 저장해서\n",
        "- google drive로 가서 해당 notebook을 더블클릭하면\n",
        "- notebook 파일이 열러서 바로 실습가능"
      ],
      "metadata": {
        "id": "hjQQ2QFtDoDa"
      }
    },
    {
      "cell_type": "code",
      "source": [
        "import subprocess\n",
        "url1 = 'https://github.com/leekyuyoung202306/PYTHON.git'\n",
        "target = '/content/drive/MyDrive/source'\n",
        "subprocess.run( ['git','clone',url1,target])"
      ],
      "metadata": {
        "colab": {
          "base_uri": "https://localhost:8080/"
        },
        "id": "XLMBmMMI_R7K",
        "outputId": "71d35409-ea80-47ac-d6b2-7012a4f60a04"
      },
      "execution_count": 118,
      "outputs": [
        {
          "output_type": "execute_result",
          "data": {
            "text/plain": [
              "CompletedProcess(args=['git', 'clone', 'https://github.com/leekyuyoung202306/PYTHON.git', '/content/drive/MyDrive/abc'], returncode=0)"
            ]
          },
          "metadata": {},
          "execution_count": 118
        }
      ]
    },
    {
      "cell_type": "code",
      "source": [
        "numbers = [2,4,6,8,10,1]\n",
        "\n",
        "# [True,True,True,True,True,False]\n",
        "all(numbers)"
      ],
      "metadata": {
        "id": "oxa4MX-dBh0G"
      },
      "execution_count": null,
      "outputs": []
    },
    {
      "cell_type": "markdown",
      "source": [
        "list comprehension"
      ],
      "metadata": {
        "id": "dvvEFcIZEgZb"
      }
    },
    {
      "cell_type": "code",
      "source": [
        "temp = []\n",
        "for i in numbers:\n",
        "  if i % 2 == 0:\n",
        "    temp.append(True)\n",
        "  else:\n",
        "    temp.append(False)"
      ],
      "metadata": {
        "id": "h9MEZRqTEjdY"
      },
      "execution_count": 119,
      "outputs": []
    },
    {
      "cell_type": "code",
      "source": [
        "[ i % 2 == 0 for i in numbers ]"
      ],
      "metadata": {
        "colab": {
          "base_uri": "https://localhost:8080/"
        },
        "id": "KMy4dxJgE2HR",
        "outputId": "60ddc04a-0f2f-47e3-c0d4-dd925fe8fbc1"
      },
      "execution_count": 123,
      "outputs": [
        {
          "output_type": "execute_result",
          "data": {
            "text/plain": [
              "[True, True, True, True, True, False]"
            ]
          },
          "metadata": {},
          "execution_count": 123
        }
      ]
    },
    {
      "cell_type": "code",
      "source": [
        "# 리스트 컴프리핸선을 이용해서 정수로 변경  한줄코딩\n",
        "# map사용 말고\n",
        "numbers = ['2','4','6','8','10','1']\n",
        "temp = [ int(i) for i in numbers ]\n",
        "temp"
      ],
      "metadata": {
        "colab": {
          "base_uri": "https://localhost:8080/"
        },
        "id": "mVRmLX_aE5DP",
        "outputId": "f3f288d2-e15a-469c-a619-ae9661a5073f"
      },
      "execution_count": 126,
      "outputs": [
        {
          "output_type": "execute_result",
          "data": {
            "text/plain": [
              "[2, 4, 6, 8, 10, 1]"
            ]
          },
          "metadata": {},
          "execution_count": 126
        }
      ]
    },
    {
      "cell_type": "code",
      "source": [
        "all( [i % 2 == 0 for i in temp ])\n",
        "all( i % 2 == 0 for i in temp )"
      ],
      "metadata": {
        "colab": {
          "base_uri": "https://localhost:8080/"
        },
        "id": "EFNhizonF2-I",
        "outputId": "e20a3107-71e4-4dbe-a294-0a23b9fa5aa2"
      },
      "execution_count": 132,
      "outputs": [
        {
          "output_type": "execute_result",
          "data": {
            "text/plain": [
              "False"
            ]
          },
          "metadata": {},
          "execution_count": 132
        }
      ]
    },
    {
      "cell_type": "code",
      "source": [
        "# temp집합중에 값이 5보다 큰 값만 추출해서 리스트를 만든다\n",
        "[i for i in temp if i > 5]"
      ],
      "metadata": {
        "colab": {
          "base_uri": "https://localhost:8080/"
        },
        "id": "mS-2Xm4TGMu3",
        "outputId": "532068f9-cacd-4d4b-9628-b896388153df"
      },
      "execution_count": 134,
      "outputs": [
        {
          "output_type": "execute_result",
          "data": {
            "text/plain": [
              "[6, 8, 10]"
            ]
          },
          "metadata": {},
          "execution_count": 134
        }
      ]
    },
    {
      "cell_type": "code",
      "source": [
        "# temp 집합중에서 짝수면 한글로 짝수 홀수면 한글로 홀수라고 리트를 만든다\n",
        "[ '짝수' if i%2==0 else '홀수' for i in temp ]"
      ],
      "metadata": {
        "colab": {
          "base_uri": "https://localhost:8080/"
        },
        "id": "Kzl7u0ejG3zn",
        "outputId": "10565a79-1c30-4230-f514-62179f974156"
      },
      "execution_count": 135,
      "outputs": [
        {
          "output_type": "execute_result",
          "data": {
            "text/plain": [
              "['짝수', '짝수', '짝수', '짝수', '짝수', '홀수']"
            ]
          },
          "metadata": {},
          "execution_count": 135
        }
      ]
    },
    {
      "cell_type": "code",
      "source": [
        "from glob import glob"
      ],
      "metadata": {
        "id": "YQpIpC_iHi8Z"
      },
      "execution_count": 136,
      "outputs": []
    },
    {
      "cell_type": "code",
      "source": [
        "glob('/content/sample_data/*.csv')"
      ],
      "metadata": {
        "colab": {
          "base_uri": "https://localhost:8080/"
        },
        "id": "4ThqBh6lIB3f",
        "outputId": "0c6d30ea-322d-450d-8d2f-a85e23996f1d"
      },
      "execution_count": 139,
      "outputs": [
        {
          "output_type": "execute_result",
          "data": {
            "text/plain": [
              "['/content/sample_data/mnist_train_small.csv',\n",
              " '/content/sample_data/mnist_test.csv',\n",
              " '/content/sample_data/california_housing_train.csv',\n",
              " '/content/sample_data/california_housing_test.csv']"
            ]
          },
          "metadata": {},
          "execution_count": 139
        }
      ]
    },
    {
      "cell_type": "code",
      "source": [
        "'/content/sample_data/mnist_train_small.csv'.split('/')"
      ],
      "metadata": {
        "colab": {
          "base_uri": "https://localhost:8080/"
        },
        "id": "vdP89D7DISNo",
        "outputId": "c20b17ec-b9a4-42d7-9a62-360cac1f2b68"
      },
      "execution_count": 140,
      "outputs": [
        {
          "output_type": "execute_result",
          "data": {
            "text/plain": [
              "['', 'content', 'sample_data', 'mnist_train_small.csv']"
            ]
          },
          "metadata": {},
          "execution_count": 140
        }
      ]
    },
    {
      "cell_type": "code",
      "source": [
        "'/content/sample_data/mnist_train_small.csv'.split('/')[-1]"
      ],
      "metadata": {
        "colab": {
          "base_uri": "https://localhost:8080/",
          "height": 35
        },
        "id": "Zir2JRWtIere",
        "outputId": "68c8ea0f-97ea-464e-b198-e57362ff71bf"
      },
      "execution_count": 141,
      "outputs": [
        {
          "output_type": "execute_result",
          "data": {
            "text/plain": [
              "'mnist_train_small.csv'"
            ],
            "application/vnd.google.colaboratory.intrinsic+json": {
              "type": "string"
            }
          },
          "metadata": {},
          "execution_count": 141
        }
      ]
    },
    {
      "cell_type": "code",
      "source": [
        "[i.split('/')[-1] for i in glob('/content/sample_data/*.*') ]"
      ],
      "metadata": {
        "colab": {
          "base_uri": "https://localhost:8080/"
        },
        "id": "XbXkuGF5Il6n",
        "outputId": "dbf3f9bf-2aef-45be-bece-e3efcdf6f0d9"
      },
      "execution_count": 144,
      "outputs": [
        {
          "output_type": "execute_result",
          "data": {
            "text/plain": [
              "['README.md',\n",
              " 'anscombe.json',\n",
              " 'mnist_train_small.csv',\n",
              " 'mnist_test.csv',\n",
              " 'california_housing_train.csv',\n",
              " 'california_housing_test.csv']"
            ]
          },
          "metadata": {},
          "execution_count": 144
        }
      ]
    },
    {
      "cell_type": "code",
      "source": [
        "import os\n",
        "os.listdir('/content/sample_data')"
      ],
      "metadata": {
        "colab": {
          "base_uri": "https://localhost:8080/"
        },
        "id": "dZocsTSHIzVf",
        "outputId": "3fceed80-9953-4559-f9a2-481903022d7f"
      },
      "execution_count": 143,
      "outputs": [
        {
          "output_type": "execute_result",
          "data": {
            "text/plain": [
              "['README.md',\n",
              " 'anscombe.json',\n",
              " '.ipynb_checkpoints',\n",
              " 'untitled',\n",
              " 'subfolder2',\n",
              " 'subfolder1',\n",
              " 'mnist_train_small.csv',\n",
              " 'mnist_test.csv',\n",
              " 'california_housing_train.csv',\n",
              " 'california_housing_test.csv']"
            ]
          },
          "metadata": {},
          "execution_count": 143
        }
      ]
    },
    {
      "cell_type": "markdown",
      "source": [
        "dictionary 를 정렬"
      ],
      "metadata": {
        "id": "SLrk45-KJWAg"
      }
    },
    {
      "cell_type": "code",
      "source": [
        "names = ['c','b','a','e','d']\n",
        "scores = [90,80,70,95,88]"
      ],
      "metadata": {
        "id": "Zz3cEUTYI9wv"
      },
      "execution_count": 147,
      "outputs": []
    },
    {
      "cell_type": "code",
      "source": [
        "temp = dict(zip(names,scores))\n",
        "temp"
      ],
      "metadata": {
        "colab": {
          "base_uri": "https://localhost:8080/"
        },
        "id": "x-EuIl37JwdH",
        "outputId": "80652495-39bb-4bc3-e504-a8931fd6560f"
      },
      "execution_count": 151,
      "outputs": [
        {
          "output_type": "execute_result",
          "data": {
            "text/plain": [
              "{'c': 90, 'b': 80, 'a': 70, 'e': 95, 'd': 88}"
            ]
          },
          "metadata": {},
          "execution_count": 151
        }
      ]
    },
    {
      "cell_type": "code",
      "source": [
        "temp.get('c')"
      ],
      "metadata": {
        "colab": {
          "base_uri": "https://localhost:8080/"
        },
        "id": "vI9RqxlhKGmG",
        "outputId": "e14d5e44-012e-4995-ee2d-cc11b31c38dd"
      },
      "execution_count": 155,
      "outputs": [
        {
          "output_type": "execute_result",
          "data": {
            "text/plain": [
              "90"
            ]
          },
          "metadata": {},
          "execution_count": 155
        }
      ]
    },
    {
      "cell_type": "code",
      "source": [
        "def sort_func(item):\n",
        "  return item[1]\n",
        "sorted(temp.items(), key=sort_func,reverse=True)"
      ],
      "metadata": {
        "colab": {
          "base_uri": "https://localhost:8080/"
        },
        "id": "g56sr3XTKUKW",
        "outputId": "9559face-958e-45bb-9846-683f48ae712f"
      },
      "execution_count": 160,
      "outputs": [
        {
          "output_type": "execute_result",
          "data": {
            "text/plain": [
              "[('e', 95), ('c', 90), ('d', 88), ('b', 80), ('a', 70)]"
            ]
          },
          "metadata": {},
          "execution_count": 160
        }
      ]
    },
    {
      "cell_type": "code",
      "source": [
        "def sort_func(item):\n",
        "  return item[0]\n",
        "sorted(temp.items(), key=sort_func,reverse=True)"
      ],
      "metadata": {
        "colab": {
          "base_uri": "https://localhost:8080/"
        },
        "id": "nmqQPSRrKymO",
        "outputId": "27b51ce7-c0ff-4cc4-b84d-f8a513ca6804"
      },
      "execution_count": 162,
      "outputs": [
        {
          "output_type": "execute_result",
          "data": {
            "text/plain": [
              "[('e', 95), ('d', 88), ('c', 90), ('b', 80), ('a', 70)]"
            ]
          },
          "metadata": {},
          "execution_count": 162
        }
      ]
    },
    {
      "cell_type": "code",
      "source": [],
      "metadata": {
        "id": "N9JR2YuTLloe"
      },
      "execution_count": null,
      "outputs": []
    }
  ]
}