{
  "nbformat": 4,
  "nbformat_minor": 0,
  "metadata": {
    "colab": {
      "provenance": []
    },
    "kernelspec": {
      "name": "python3",
      "display_name": "Python 3"
    },
    "language_info": {
      "name": "python"
    }
  },
  "cells": [
    {
      "cell_type": "code",
      "source": [
        "# dictionary에서\n",
        "# 키를 조회해서 없으면 새로만들고\n",
        "# 있으면 값을 하나 증가시킨다"
      ],
      "metadata": {
        "id": "cjZPLV29fA1M"
      },
      "execution_count": 12,
      "outputs": []
    },
    {
      "cell_type": "code",
      "source": [
        "# 초기화\n",
        "dic_1 = {}"
      ],
      "metadata": {
        "id": "au2osQKIfHBs"
      },
      "execution_count": 42,
      "outputs": []
    },
    {
      "cell_type": "code",
      "source": [
        "# dictionary 자료형에 키가 없으면 최초 만들고 그이후 해당 키가 들어오면 하나 증가시킨다\n",
        "def makeDic( dic_1, key ):\n",
        "  if key not in dic_1:\n",
        "    dic_1[key] = 1\n",
        "  else:\n",
        "    dic_1[key] += 1"
      ],
      "metadata": {
        "id": "lKx6jDVjfNZC"
      },
      "execution_count": 43,
      "outputs": []
    },
    {
      "cell_type": "code",
      "source": [
        "makeDic(dic_1,\"홍길동\")\n",
        "makeDic(dic_1,\"홍길동\")\n",
        "makeDic(dic_1,\"이순신\")\n",
        "makeDic(dic_1,\"강감찬\")"
      ],
      "metadata": {
        "id": "IQVXsrT7fbPx"
      },
      "execution_count": 44,
      "outputs": []
    },
    {
      "cell_type": "code",
      "source": [
        "dic_1"
      ],
      "metadata": {
        "colab": {
          "base_uri": "https://localhost:8080/"
        },
        "id": "-Dy-TDz1f5AJ",
        "outputId": "5b6f76d0-ddee-47f5-ee75-215149c8d4a9"
      },
      "execution_count": 45,
      "outputs": [
        {
          "output_type": "execute_result",
          "data": {
            "text/plain": [
              "{'홍길동': 2, '이순신': 1, '강감찬': 1}"
            ]
          },
          "metadata": {},
          "execution_count": 45
        }
      ]
    },
    {
      "cell_type": "code",
      "source": [
        "# 유권자가 후보한테 투표를 한다.\n",
        "# 김, 이, 박, 최, 홍\n",
        "candidate = ['김', '이', '박', '최', '홍']\n",
        "vote = {}"
      ],
      "metadata": {
        "id": "8Ij15yR0h9GR"
      },
      "execution_count": 55,
      "outputs": []
    },
    {
      "cell_type": "code",
      "source": [
        "from random import randint\n",
        "for i in range(100):\n",
        "  key = candidate[ randint(0,4) ]\n",
        "  makeDic(vote,key)"
      ],
      "metadata": {
        "id": "uNhIsMGSilmx"
      },
      "execution_count": 56,
      "outputs": []
    },
    {
      "cell_type": "code",
      "source": [
        "vote"
      ],
      "metadata": {
        "colab": {
          "base_uri": "https://localhost:8080/"
        },
        "id": "bORbPxxBj0iZ",
        "outputId": "82bc58d1-9811-401a-90d5-2a31b6762a40"
      },
      "execution_count": 57,
      "outputs": [
        {
          "output_type": "execute_result",
          "data": {
            "text/plain": [
              "{'이': 20, '박': 22, '최': 18, '홍': 23, '김': 17}"
            ]
          },
          "metadata": {},
          "execution_count": 57
        }
      ]
    },
    {
      "cell_type": "code",
      "source": [
        "# 리스트에서 홀수만 반환하는 함수\n",
        "def get_odd_numbers(numbers):\n",
        "    odd_numbers = []\n",
        "    for num in numbers:\n",
        "        if num % 2 != 0:\n",
        "            odd_numbers.append(num)\n",
        "    return odd_numbers"
      ],
      "metadata": {
        "id": "l4ce_fZQlHK4"
      },
      "execution_count": 59,
      "outputs": []
    },
    {
      "cell_type": "code",
      "source": [
        "temp = [1,4,1,5,74,1,5,4,1,5,4]\n",
        "result = get_odd_numbers(temp)\n",
        "result"
      ],
      "metadata": {
        "colab": {
          "base_uri": "https://localhost:8080/"
        },
        "id": "1La17npilXsg",
        "outputId": "40c12f00-b107-4972-ba0c-11932bc634bb"
      },
      "execution_count": 60,
      "outputs": [
        {
          "output_type": "execute_result",
          "data": {
            "text/plain": [
              "[1, 1, 5, 1, 5, 1, 5]"
            ]
          },
          "metadata": {},
          "execution_count": 60
        }
      ]
    },
    {
      "cell_type": "code",
      "source": [
        "# 집합의 합을 구하는 함수\n",
        "def calculate_tuple_sum(numbers):\n",
        "    total = 0\n",
        "    for num in numbers:\n",
        "        total += num\n",
        "    return total"
      ],
      "metadata": {
        "id": "Hs8PXTzsmZa4"
      },
      "execution_count": 62,
      "outputs": []
    },
    {
      "cell_type": "code",
      "source": [
        "result = calculate_tuple_sum( [1,2,3,4,5,6]  )\n",
        "result"
      ],
      "metadata": {
        "colab": {
          "base_uri": "https://localhost:8080/"
        },
        "id": "JUSYPNcnmdzX",
        "outputId": "f71d033c-b665-4878-aaaf-d6c0a55bc621"
      },
      "execution_count": 63,
      "outputs": [
        {
          "output_type": "execute_result",
          "data": {
            "text/plain": [
              "21"
            ]
          },
          "metadata": {},
          "execution_count": 63
        }
      ]
    },
    {
      "cell_type": "code",
      "source": [
        "# 집합의 합을 구하는 함수\n",
        "def calculate_tuple_sum(*numbers):\n",
        "    total = 0\n",
        "    for num in numbers:\n",
        "        total += num\n",
        "    return total"
      ],
      "metadata": {
        "id": "VMblEtLgnJuf"
      },
      "execution_count": 64,
      "outputs": []
    },
    {
      "cell_type": "code",
      "source": [
        "temp = [1,2,3,4,5,6]\n",
        "result = calculate_tuple_sum( *temp )\n",
        "# result = calculate_tuple_sum( 1,2,3,4,5,6 )\n",
        "result"
      ],
      "metadata": {
        "colab": {
          "base_uri": "https://localhost:8080/"
        },
        "id": "HOVCf_bOnQon",
        "outputId": "97696885-cec0-46db-c821-2c2ba53cc609"
      },
      "execution_count": 68,
      "outputs": [
        {
          "output_type": "execute_result",
          "data": {
            "text/plain": [
              "21"
            ]
          },
          "metadata": {},
          "execution_count": 68
        }
      ]
    },
    {
      "cell_type": "code",
      "source": [
        "# 딕션너리에서 값에 대항하는 key값을 찾아서 리스트로 만들어서 반환 하는 함수\n",
        "def get_keys_by_value(dictionary, value):\n",
        "    keys = []\n",
        "    for key, val in dictionary.items():\n",
        "        if val == value:\n",
        "            keys.append(key)\n",
        "    return keys"
      ],
      "metadata": {
        "id": "rtRoZBqSnSoH"
      },
      "execution_count": 71,
      "outputs": []
    },
    {
      "cell_type": "code",
      "source": [
        "dic_1 = {'a':1,'b':2,'c':2}\n",
        "result =  get_keys_by_value(dic_1, 2)\n",
        "result\n"
      ],
      "metadata": {
        "colab": {
          "base_uri": "https://localhost:8080/"
        },
        "id": "k8_p_9Hfqos_",
        "outputId": "3dcffacc-6183-4150-f7a7-309fe2358010"
      },
      "execution_count": 72,
      "outputs": [
        {
          "output_type": "execute_result",
          "data": {
            "text/plain": [
              "['b', 'c']"
            ]
          },
          "metadata": {},
          "execution_count": 72
        }
      ]
    },
    {
      "cell_type": "code",
      "source": [
        "def get_grade(score):\n",
        "    if score >= 90:\n",
        "        return \"A\"\n",
        "    elif score >= 80:\n",
        "        return \"B\"\n",
        "    elif score >= 70:\n",
        "        return \"C\"\n",
        "    elif score >= 60:\n",
        "        return \"D\"\n",
        "    else:\n",
        "        return \"F\""
      ],
      "metadata": {
        "id": "s2KiWTeTqz8-"
      },
      "execution_count": 73,
      "outputs": []
    },
    {
      "cell_type": "code",
      "source": [
        "def get_grade(score):\n",
        "    if score // 10 in [9,10]:\n",
        "        return \"A\"\n",
        "    elif score // 10 == 8:\n",
        "        return \"B\"\n",
        "    elif score // 10 == 7:\n",
        "        return \"C\"\n",
        "    elif score // 10 == 6:\n",
        "        return \"D\"\n",
        "    else:\n",
        "        return \"F\""
      ],
      "metadata": {
        "id": "CXue7xNRreD5"
      },
      "execution_count": 76,
      "outputs": []
    },
    {
      "cell_type": "code",
      "source": [
        "# 주어진 리스트에서 첫번째 짜리가 월을 나타내는데..\n",
        "# 각 데이터에서 월만 추출해서 리스트로 만들어 주세요\n",
        "# mmdd\n",
        "mmdd = [628,1225,1126,115]\n",
        "result = []\n",
        "for i in mmdd:\n",
        "  result.append(i // 100)\n",
        "\n",
        "result"
      ],
      "metadata": {
        "colab": {
          "base_uri": "https://localhost:8080/"
        },
        "id": "xB9-rhEUrySe",
        "outputId": "9004965f-4e2d-4305-8322-5e9d740fe0a6"
      },
      "execution_count": 82,
      "outputs": [
        {
          "output_type": "execute_result",
          "data": {
            "text/plain": [
              "[6, 12, 11, 1]"
            ]
          },
          "metadata": {},
          "execution_count": 82
        }
      ]
    },
    {
      "cell_type": "code",
      "source": [
        "mmdd = ['628','1225','1126','115']\n",
        "result = []\n",
        "for i in mmdd:\n",
        "  result.append(i[:-2])\n",
        "\n",
        "result"
      ],
      "metadata": {
        "colab": {
          "base_uri": "https://localhost:8080/"
        },
        "id": "4hyPwsibseUe",
        "outputId": "f99d0d5f-8a62-4885-81de-68019a95fcd0"
      },
      "execution_count": 83,
      "outputs": [
        {
          "output_type": "execute_result",
          "data": {
            "text/plain": [
              "['6', '12', '11', '1']"
            ]
          },
          "metadata": {},
          "execution_count": 83
        }
      ]
    },
    {
      "cell_type": "code",
      "source": [
        "def find_max_value(numbers):\n",
        "    # max_value = float('-inf')\n",
        "    max_value = numbers[0]\n",
        "    for num in numbers:\n",
        "        if num > max_value:\n",
        "            max_value = num\n",
        "    return max_value"
      ],
      "metadata": {
        "id": "wPdWX1JYvFMG"
      },
      "execution_count": 86,
      "outputs": []
    },
    {
      "cell_type": "code",
      "source": [
        "temp = [10,1,4,7,8,4,2,4,7]\n",
        "result = find_max_value(temp)\n",
        "result"
      ],
      "metadata": {
        "colab": {
          "base_uri": "https://localhost:8080/"
        },
        "id": "oWhbb4FZvNm9",
        "outputId": "e16849b1-d48b-46d7-ab35-8f0f441f3b2c"
      },
      "execution_count": 87,
      "outputs": [
        {
          "output_type": "execute_result",
          "data": {
            "text/plain": [
              "10"
            ]
          },
          "metadata": {},
          "execution_count": 87
        }
      ]
    },
    {
      "cell_type": "code",
      "source": [
        "def calculate_tuple_average(numbers):\n",
        "    total = 0\n",
        "    count = 0\n",
        "    for num in numbers:\n",
        "        total += num\n",
        "        count += 1\n",
        "    return total / count"
      ],
      "metadata": {
        "id": "FU1UtnWPvZem"
      },
      "execution_count": 88,
      "outputs": []
    },
    {
      "cell_type": "code",
      "source": [
        "def get_key_with_min_value(dictionary):\n",
        "    min_value = float('inf')\n",
        "    min_key = None\n",
        "    for key, value in dictionary.items():\n",
        "        if value < min_value:\n",
        "            min_value = value\n",
        "            min_key = key\n",
        "    return min_key"
      ],
      "metadata": {
        "id": "u6bTuKbQwnjt"
      },
      "execution_count": 94,
      "outputs": []
    },
    {
      "cell_type": "code",
      "source": [
        "dic_1 = { 'a':2, 'b':1, 'c':3, 'd':1  }\n",
        "result = get_key_with_min_value(dic_1)\n",
        "result"
      ],
      "metadata": {
        "colab": {
          "base_uri": "https://localhost:8080/",
          "height": 35
        },
        "id": "KqqEL79_xQ_9",
        "outputId": "1bae0c3d-017e-4cdd-8336-dd624210a5a1"
      },
      "execution_count": 95,
      "outputs": [
        {
          "output_type": "execute_result",
          "data": {
            "text/plain": [
              "'b'"
            ],
            "application/vnd.google.colaboratory.intrinsic+json": {
              "type": "string"
            }
          },
          "metadata": {},
          "execution_count": 95
        }
      ]
    },
    {
      "cell_type": "code",
      "source": [
        "def separate_even_odd(numbers):\n",
        "    even_numbers = []\n",
        "    odd_numbers = []\n",
        "    for num in numbers:\n",
        "        if num % 2 == 0:\n",
        "            even_numbers.append(num)\n",
        "        else:\n",
        "            odd_numbers.append(num)\n",
        "    return even_numbers, odd_numbers"
      ],
      "metadata": {
        "id": "CHAYo97Byfn8"
      },
      "execution_count": 96,
      "outputs": []
    },
    {
      "cell_type": "code",
      "source": [
        "a,b = separate_even_odd([1,4,1,5,54,1,5,4,1,4,5,41])\n",
        "a,b"
      ],
      "metadata": {
        "colab": {
          "base_uri": "https://localhost:8080/"
        },
        "id": "vFasev_Gy-Nl",
        "outputId": "85319983-a638-4fe8-c359-615e42aa9e94"
      },
      "execution_count": 97,
      "outputs": [
        {
          "output_type": "execute_result",
          "data": {
            "text/plain": [
              "([4, 54, 4, 4], [1, 1, 5, 1, 5, 1, 5, 41])"
            ]
          },
          "metadata": {},
          "execution_count": 97
        }
      ]
    },
    {
      "cell_type": "code",
      "source": [
        "temp = [1,4,1,5,54,1,5,4,1,4,5,41]\n",
        "temp = list(set(temp))\n",
        "temp"
      ],
      "metadata": {
        "colab": {
          "base_uri": "https://localhost:8080/"
        },
        "id": "1YidOEXW0IjT",
        "outputId": "2ed0ce1a-a387-4099-82e6-4720694221f4"
      },
      "execution_count": 98,
      "outputs": [
        {
          "output_type": "execute_result",
          "data": {
            "text/plain": [
              "[1, 4, 5, 41, 54]"
            ]
          },
          "metadata": {},
          "execution_count": 98
        }
      ]
    },
    {
      "cell_type": "code",
      "source": [
        "# set과 동일한 기능을 하는 함수를 구현\n",
        "def remove_duplicates(numbers):\n",
        "    unique_numbers = []\n",
        "    for num in numbers:\n",
        "        if num not in unique_numbers:\n",
        "            unique_numbers.append(num)\n",
        "    return unique_numbers"
      ],
      "metadata": {
        "id": "VS9KwaNS0ULc"
      },
      "execution_count": 100,
      "outputs": []
    },
    {
      "cell_type": "code",
      "source": [
        "temp = [1,4,1,5,54,1,5,4,1,4,5,41]\n",
        "result = remove_duplicates(temp)\n",
        "result"
      ],
      "metadata": {
        "colab": {
          "base_uri": "https://localhost:8080/"
        },
        "id": "6IutezJZ4dXL",
        "outputId": "499c04e8-fe69-4eca-9a60-f2290d6971b3"
      },
      "execution_count": 101,
      "outputs": [
        {
          "output_type": "execute_result",
          "data": {
            "text/plain": [
              "[1, 4, 5, 54, 41]"
            ]
          },
          "metadata": {},
          "execution_count": 101
        }
      ]
    },
    {
      "cell_type": "code",
      "source": [
        "# 리스트나 튜플중에 최대와 최소값을 리턴하는 함수\n",
        "def find_min_max(lists):\n",
        "  if len(lists) == 0:\n",
        "    return None,None\n",
        "  min_value = float('inf')\n",
        "  max_value = float('-inf')\n",
        "  for num in lists:\n",
        "    if num < min_value:\n",
        "      min_value = num\n",
        "    if num > max_value:\n",
        "      max_value = num\n",
        "  return min_value, max_value"
      ],
      "metadata": {
        "id": "EQo1scg95U8h"
      },
      "execution_count": 119,
      "outputs": []
    },
    {
      "cell_type": "code",
      "source": [
        "a,b = find_min_max([10,20,50,40])"
      ],
      "metadata": {
        "id": "cpcZAHY17J6r"
      },
      "execution_count": 120,
      "outputs": []
    },
    {
      "cell_type": "code",
      "source": [
        "def get_items_by_value(dictionary, value):\n",
        "    items = []\n",
        "    for key, val in dictionary.items():\n",
        "        if val == value:\n",
        "            items.append((key, val))\n",
        "    return items\n"
      ],
      "metadata": {
        "id": "83L5v-9W7YJ0"
      },
      "execution_count": 121,
      "outputs": []
    },
    {
      "cell_type": "code",
      "source": [
        "# Factorial...\n",
        "# !5   5*4*3*2*1\n",
        "def calculate_factorial(n):\n",
        "    factorial = 1\n",
        "    for i in range(1, n+1):\n",
        "        factorial *= i\n",
        "    return factorial"
      ],
      "metadata": {
        "id": "gE13J5pJ7usp"
      },
      "execution_count": 122,
      "outputs": []
    },
    {
      "cell_type": "code",
      "source": [
        "# 리스트를 전달받아서\n",
        "# 짝수 홀수의 개수를 dictionary 형태로 반환\n",
        "def separate_even_odd(numbers):\n",
        "    result = {'even': 0, 'odd': 0}\n",
        "    for num in numbers:\n",
        "        if num % 2 == 0:\n",
        "            result['even'] += 1\n",
        "        else:\n",
        "            result['odd'] += 1\n",
        "    return result"
      ],
      "metadata": {
        "id": "bLpwnUkM9zvJ"
      },
      "execution_count": 135,
      "outputs": []
    },
    {
      "cell_type": "code",
      "source": [
        "result = separate_even_odd([1,4,1,4,1,4,8,4,8,5,7,4,4,651])\n",
        "result"
      ],
      "metadata": {
        "colab": {
          "base_uri": "https://localhost:8080/"
        },
        "id": "GfXkErpA-lsZ",
        "outputId": "bdfa9ea0-4d4e-4ea6-8314-b9ac14409afa"
      },
      "execution_count": 137,
      "outputs": [
        {
          "output_type": "execute_result",
          "data": {
            "text/plain": [
              "{'even': 8, 'odd': 6}"
            ]
          },
          "metadata": {},
          "execution_count": 137
        }
      ]
    },
    {
      "cell_type": "code",
      "source": [
        "temp_list=['a','b','c','d']\n",
        "result = ''\n",
        "for name in temp_list:\n",
        "  result += name\n",
        "result"
      ],
      "metadata": {
        "colab": {
          "base_uri": "https://localhost:8080/",
          "height": 35
        },
        "id": "QzTysQoS_gdz",
        "outputId": "2336ecdd-14df-477b-cc7b-62085ab0635e"
      },
      "execution_count": 140,
      "outputs": [
        {
          "output_type": "execute_result",
          "data": {
            "text/plain": [
              "'abcd'"
            ],
            "application/vnd.google.colaboratory.intrinsic+json": {
              "type": "string"
            }
          },
          "metadata": {},
          "execution_count": 140
        }
      ]
    },
    {
      "cell_type": "code",
      "source": [
        "''.join(temp_list)"
      ],
      "metadata": {
        "colab": {
          "base_uri": "https://localhost:8080/",
          "height": 35
        },
        "id": "ESqhBQF__utT",
        "outputId": "4b70b52a-9b7a-47d2-c2ad-d4e43179b72c"
      },
      "execution_count": 145,
      "outputs": [
        {
          "output_type": "execute_result",
          "data": {
            "text/plain": [
              "'abcd'"
            ],
            "application/vnd.google.colaboratory.intrinsic+json": {
              "type": "string"
            }
          },
          "metadata": {},
          "execution_count": 145
        }
      ]
    },
    {
      "cell_type": "code",
      "source": [
        "# 최빈값.. 가장 빈도수가 많은 값....\n",
        "# 데이터의 집합(리스트)에서 가장 많이 출몰한 값\n",
        "temp_list = [11,1,1,1,1,1,2,3,5]"
      ],
      "metadata": {
        "id": "kj40wIOIAwhY"
      },
      "execution_count": null,
      "outputs": []
    }
  ]
}