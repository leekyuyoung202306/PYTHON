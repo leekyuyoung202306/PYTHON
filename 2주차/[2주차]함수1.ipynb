{
  "nbformat": 4,
  "nbformat_minor": 0,
  "metadata": {
    "colab": {
      "provenance": []
    },
    "kernelspec": {
      "name": "python3",
      "display_name": "Python 3"
    },
    "language_info": {
      "name": "python"
    }
  },
  "cells": [
    {
      "cell_type": "markdown",
      "source": [
        "함수 : function  y = f(x)\n",
        "  - 미리 정의한 비지니스 로직\n",
        "  - 호출당하는 로직\n",
        "  - 매개변수(agrument) : 함수를 설계할때 받겠다고 선언한 변수\n",
        "  - 파라메터(parameter) : 함수를 호출할때 넘겨주는 변수\n"
      ],
      "metadata": {
        "id": "zH17SMdFKR2S"
      }
    },
    {
      "cell_type": "code",
      "execution_count": 10,
      "metadata": {
        "id": "KIshwBufIy8v"
      },
      "outputs": [],
      "source": [
        "def add(x1, x2):\n",
        "  return x1 + x2"
      ]
    },
    {
      "cell_type": "code",
      "source": [
        "# 함수는 이름으로 호출한다.이때 필요하면 설계한 대로 값을 전달한다\n",
        "result = add(10,20)"
      ],
      "metadata": {
        "id": "Xq90ShkPMftb"
      },
      "execution_count": 11,
      "outputs": []
    },
    {
      "cell_type": "code",
      "source": [
        "print(result)"
      ],
      "metadata": {
        "colab": {
          "base_uri": "https://localhost:8080/"
        },
        "id": "DmywrqQDMiQ-",
        "outputId": "bc095b78-0c15-44e9-c594-63eeeb722a92"
      },
      "execution_count": 12,
      "outputs": [
        {
          "output_type": "stream",
          "name": "stdout",
          "text": [
            "30\n"
          ]
        }
      ]
    },
    {
      "cell_type": "code",
      "source": [
        "# 함수에서 생성한 변수는 함수가 실행을 종료하면 같이 없어진다.\n",
        "# 아래 함수에서 생성한 변수는 x1,x2,add_result\n",
        "def add(x1, x2):\n",
        "  add_result = x1 + x2\n",
        "  return add_result"
      ],
      "metadata": {
        "id": "mmR-4tnpNZZe"
      },
      "execution_count": 16,
      "outputs": []
    },
    {
      "cell_type": "code",
      "source": [
        "add(10,20)"
      ],
      "metadata": {
        "colab": {
          "base_uri": "https://localhost:8080/"
        },
        "id": "SCd3sjFlN1K-",
        "outputId": "111f36e1-10f4-4148-cb70-3c6f500b18a2"
      },
      "execution_count": 17,
      "outputs": [
        {
          "output_type": "execute_result",
          "data": {
            "text/plain": [
              "30"
            ]
          },
          "metadata": {},
          "execution_count": 17
        }
      ]
    },
    {
      "cell_type": "code",
      "source": [
        "add_result"
      ],
      "metadata": {
        "colab": {
          "base_uri": "https://localhost:8080/",
          "height": 174
        },
        "id": "axxp8qc8N3D9",
        "outputId": "dc8aecec-4912-4747-a94a-af6fc1eea875"
      },
      "execution_count": 18,
      "outputs": [
        {
          "output_type": "error",
          "ename": "NameError",
          "evalue": "ignored",
          "traceback": [
            "\u001b[0;31m---------------------------------------------------------------------------\u001b[0m",
            "\u001b[0;31mNameError\u001b[0m                                 Traceback (most recent call last)",
            "\u001b[0;32m<ipython-input-18-6dff93f651c7>\u001b[0m in \u001b[0;36m<cell line: 1>\u001b[0;34m()\u001b[0m\n\u001b[0;32m----> 1\u001b[0;31m \u001b[0madd_result\u001b[0m\u001b[0;34m\u001b[0m\u001b[0;34m\u001b[0m\u001b[0m\n\u001b[0m",
            "\u001b[0;31mNameError\u001b[0m: name 'add_result' is not defined"
          ]
        }
      ]
    },
    {
      "cell_type": "markdown",
      "source": [
        "입력값이 없고 출력은 있음"
      ],
      "metadata": {
        "id": "ryX-MOzoOgS7"
      }
    },
    {
      "cell_type": "code",
      "source": [
        "def getMenu():\n",
        "  return \"1. show and display\\n2. save the item\""
      ],
      "metadata": {
        "id": "3K1duFueN4Jt"
      },
      "execution_count": 22,
      "outputs": []
    },
    {
      "cell_type": "code",
      "source": [
        "print(getMenu())"
      ],
      "metadata": {
        "colab": {
          "base_uri": "https://localhost:8080/"
        },
        "id": "lhEY4UbyO4Rg",
        "outputId": "1e6d44d2-ea70-4455-fe55-b42a4e9a47b3"
      },
      "execution_count": 23,
      "outputs": [
        {
          "output_type": "stream",
          "name": "stdout",
          "text": [
            "1. show and display\n",
            "2. save the item\n"
          ]
        }
      ]
    },
    {
      "cell_type": "markdown",
      "source": [
        "입력값은 있는데 출력이 없는경우"
      ],
      "metadata": {
        "id": "LcDxTlJRPJ76"
      }
    },
    {
      "cell_type": "code",
      "source": [
        "def display_selected_menu(select_num):\n",
        "  if select_num == 1:\n",
        "    print(\"1번 메뉴를 선택했습니다\")\n",
        "  elif select_num == 2:\n",
        "    print(\"2번 메뉴를 선택했습니다\")\n",
        "  else:\n",
        "    print(\"잘못선택했습니다.(1,2, 둘중에 하나를 선택하세요)\")\n",
        "\n"
      ],
      "metadata": {
        "id": "zrJwvE9kPI33"
      },
      "execution_count": 24,
      "outputs": []
    },
    {
      "cell_type": "code",
      "source": [
        "display_selected_menu(1)"
      ],
      "metadata": {
        "colab": {
          "base_uri": "https://localhost:8080/"
        },
        "id": "1cexX7LQO6Kl",
        "outputId": "08ab47f1-c7f3-4c3b-b9b1-d34ed3d8564a"
      },
      "execution_count": 25,
      "outputs": [
        {
          "output_type": "stream",
          "name": "stdout",
          "text": [
            "1번 메뉴를 선택했습니다\n"
          ]
        }
      ]
    },
    {
      "cell_type": "markdown",
      "source": [
        "함수를 만드는 이유\n",
        "  - 코드의 재 사용\n",
        "  - 가독성 있는 프로그래밍을 위해서 사용\n",
        "    - 코드를 쉽게, 그리고 쉬우니깐.. 간단하니깐.. 실수가 적어진다. --> 버그생산을 최소화 한다.\n"
      ],
      "metadata": {
        "id": "5QzSrA-TQEvA"
      }
    },
    {
      "cell_type": "markdown",
      "source": [
        "입력과 출력이 없는경우"
      ],
      "metadata": {
        "id": "SLrgu90FRgMR"
      }
    },
    {
      "cell_type": "code",
      "source": [
        "def display_menu():\n",
        "  print(\"menu.......\")\n",
        "\n",
        "display_menu()"
      ],
      "metadata": {
        "colab": {
          "base_uri": "https://localhost:8080/"
        },
        "id": "Wymr-XKqRjiN",
        "outputId": "90e7cc14-754e-4c8f-9470-a98aa2b39e2f"
      },
      "execution_count": 26,
      "outputs": [
        {
          "output_type": "stream",
          "name": "stdout",
          "text": [
            "menu.......\n"
          ]
        }
      ]
    },
    {
      "cell_type": "markdown",
      "source": [
        "입력과 출력이 모두 있는경우"
      ],
      "metadata": {
        "id": "omK3q2OCRhw_"
      }
    },
    {
      "cell_type": "code",
      "source": [
        "def getarea_rectangle(width, height):\n",
        "  return width *  height\n",
        "\n",
        "print(getarea_rectangle(10,5) )"
      ],
      "metadata": {
        "colab": {
          "base_uri": "https://localhost:8080/"
        },
        "id": "8JwB6__hPw4t",
        "outputId": "551a91bf-7e4f-4062-8769-a6ebd27bd0cb"
      },
      "execution_count": 27,
      "outputs": [
        {
          "output_type": "stream",
          "name": "stdout",
          "text": [
            "50\n"
          ]
        }
      ]
    },
    {
      "cell_type": "code",
      "source": [
        "# 함수의 4가지 타입을 만들어 보고 사용하기\n",
        "# 1. 입력과 출력이 없음\n",
        "# 2. 입력만 있음\n",
        "# 3. 출력만 있음\n",
        "# 4. 입출력 모두 있음"
      ],
      "metadata": {
        "id": "72JnZh8SSBgV"
      },
      "execution_count": 28,
      "outputs": []
    },
    {
      "cell_type": "code",
      "source": [
        "def add(*args):\n",
        "  result = 0\n",
        "  for i in args:\n",
        "    result +=  i\n",
        "  return result"
      ],
      "metadata": {
        "id": "CUnYNA4kSbyW"
      },
      "execution_count": 35,
      "outputs": []
    },
    {
      "cell_type": "code",
      "source": [
        "add(1,2,3,4,5)"
      ],
      "metadata": {
        "colab": {
          "base_uri": "https://localhost:8080/"
        },
        "id": "wZ88FK2aTomk",
        "outputId": "b6a4d695-951d-4b0b-e694-197912f99c05"
      },
      "execution_count": 37,
      "outputs": [
        {
          "output_type": "execute_result",
          "data": {
            "text/plain": [
              "15"
            ]
          },
          "metadata": {},
          "execution_count": 37
        }
      ]
    },
    {
      "cell_type": "markdown",
      "source": [
        "for 순환문 복습\n",
        "  - 집합을 이루는 데이터셋을 자동으로 순환하면서 값을 추출\n",
        "  - for 변수 in 집합:"
      ],
      "metadata": {
        "id": "K1dLy1i4XA4I"
      }
    },
    {
      "cell_type": "code",
      "source": [
        "list1 = [1,2,3]\n",
        "result = 0\n",
        "for data in list1:\n",
        "  print(f\"data:{data}, result:{result}, result += data:{result + data}\")\n",
        "  result += data\n",
        "print(result)"
      ],
      "metadata": {
        "colab": {
          "base_uri": "https://localhost:8080/"
        },
        "id": "1U9hdy6BUed_",
        "outputId": "2a3a9f9a-4af2-478f-e922-c1a4e8f42488"
      },
      "execution_count": 42,
      "outputs": [
        {
          "output_type": "stream",
          "name": "stdout",
          "text": [
            "data:1, result:0, result += data:1\n",
            "data:2, result:1, result += data:3\n",
            "data:3, result:3, result += data:6\n",
            "6\n"
          ]
        }
      ]
    },
    {
      "cell_type": "code",
      "source": [
        "def add(*args):\n",
        "  result = 0\n",
        "  for data in args:\n",
        "    print(f\"data:{data}, result:{result}, result += data:{result + data}\")\n",
        "    result += data\n",
        "  return result"
      ],
      "metadata": {
        "id": "TXLsAjzKUlhN"
      },
      "execution_count": 47,
      "outputs": []
    },
    {
      "cell_type": "code",
      "source": [
        "a = 10\n",
        "print(a)\n",
        "b = a + 20\n",
        "result = add(1,2,3,4,5)\n",
        "c = 100\n",
        "d = c + 200\n",
        "\n",
        "result_2 = add(10,20,30,40)\n",
        "abc = result_2**2\n"
      ],
      "metadata": {
        "colab": {
          "base_uri": "https://localhost:8080/"
        },
        "id": "Z-0eBzHXZj1T",
        "outputId": "f9b134ac-db5a-4844-f964-6f36bc4abed7"
      },
      "execution_count": 49,
      "outputs": [
        {
          "output_type": "stream",
          "name": "stdout",
          "text": [
            "data:1, result:0, result += data:1\n",
            "data:2, result:1, result += data:3\n",
            "data:3, result:3, result += data:6\n",
            "data:4, result:6, result += data:10\n",
            "data:5, result:10, result += data:15\n"
          ]
        }
      ]
    },
    {
      "cell_type": "markdown",
      "source": [
        "----------------------------------------------------------------"
      ],
      "metadata": {
        "id": "DwX7h49JbV3O"
      }
    },
    {
      "cell_type": "markdown",
      "source": [
        "가변 매개변수  (*변수명)\n",
        "  - 함수안에서 리스트로 처리된다.\n",
        "함수에서 가변매개변수와 일반변수가 섞여서  사용가능?\n",
        "  - 가능\n",
        "  - 순서가 중요하다  "
      ],
      "metadata": {
        "id": "zjDxWW87bkUc"
      }
    },
    {
      "cell_type": "code",
      "source": [
        "def add2(x, y, *args):\n",
        "  print(f\"args:{args}\")\n",
        "  print(f\"x:{x}\")\n",
        "  print(f\"y:{y}\")"
      ],
      "metadata": {
        "id": "0TzSMwFnZllT"
      },
      "execution_count": 66,
      "outputs": []
    },
    {
      "cell_type": "code",
      "source": [
        "add2(1,2)"
      ],
      "metadata": {
        "colab": {
          "base_uri": "https://localhost:8080/"
        },
        "id": "ibfBSWpBZ1RT",
        "outputId": "cdfa5d60-88b9-41af-e45e-1dbfcc0fb634"
      },
      "execution_count": 70,
      "outputs": [
        {
          "output_type": "stream",
          "name": "stdout",
          "text": [
            "args:()\n",
            "x:1\n",
            "y:2\n"
          ]
        }
      ]
    },
    {
      "cell_type": "markdown",
      "source": [
        "함수... 어디까지 써 봤니?"
      ],
      "metadata": {
        "id": "Y0VgWKoydiz0"
      }
    },
    {
      "cell_type": "code",
      "source": [
        "def add(x1, x2):\n",
        "  return x1 + x2\n",
        "\n",
        "def minus(x1, x2):\n",
        "  return x1 - x2\n",
        "\n",
        "def divide(x1, x2):\n",
        "  return x1 / x2\n",
        "\n",
        "def multi(x1, x2):\n",
        "  return x1 * x2\n"
      ],
      "metadata": {
        "id": "pDmBD1k0cURC"
      },
      "execution_count": 79,
      "outputs": []
    },
    {
      "cell_type": "code",
      "source": [
        "def calculator(op, x1, x2):\n",
        "  return op(x1, x2)"
      ],
      "metadata": {
        "id": "6jXfrGbmeJBC"
      },
      "execution_count": 73,
      "outputs": []
    },
    {
      "cell_type": "code",
      "source": [
        "calculator(lambda x,y : x%y , 10 , 20 )"
      ],
      "metadata": {
        "colab": {
          "base_uri": "https://localhost:8080/"
        },
        "id": "9mXW13dDefrx",
        "outputId": "ebb4574c-22b7-4033-c6ed-a6b9173785dc"
      },
      "execution_count": 81,
      "outputs": [
        {
          "output_type": "execute_result",
          "data": {
            "text/plain": [
              "10"
            ]
          },
          "metadata": {},
          "execution_count": 81
        }
      ]
    },
    {
      "cell_type": "code",
      "source": [
        "abc = lambda x,y : x%y"
      ],
      "metadata": {
        "id": "4k-nhuCSeyfS"
      },
      "execution_count": 82,
      "outputs": []
    },
    {
      "cell_type": "code",
      "source": [
        "abc(10,20)"
      ],
      "metadata": {
        "colab": {
          "base_uri": "https://localhost:8080/"
        },
        "id": "jHmFMUwcgVqC",
        "outputId": "b0986eca-fb7b-4eb0-c807-82ee1cdfe0d0"
      },
      "execution_count": 83,
      "outputs": [
        {
          "output_type": "execute_result",
          "data": {
            "text/plain": [
              "10"
            ]
          },
          "metadata": {},
          "execution_count": 83
        }
      ]
    },
    {
      "cell_type": "markdown",
      "source": [
        "디폴트 매개변수"
      ],
      "metadata": {
        "id": "FGwCORsHhPM9"
      }
    },
    {
      "cell_type": "code",
      "source": [
        "def add(x1, x2=5):\n",
        "  return x1 + x2"
      ],
      "metadata": {
        "id": "CCWE9E4PgXCx"
      },
      "execution_count": 86,
      "outputs": []
    },
    {
      "cell_type": "code",
      "source": [
        "add(100,1)"
      ],
      "metadata": {
        "colab": {
          "base_uri": "https://localhost:8080/"
        },
        "id": "PwgySjxAhUqo",
        "outputId": "f3324c6a-0f2d-4756-a7d5-b79e490dabd2"
      },
      "execution_count": 87,
      "outputs": [
        {
          "output_type": "execute_result",
          "data": {
            "text/plain": [
              "101"
            ]
          },
          "metadata": {},
          "execution_count": 87
        }
      ]
    },
    {
      "cell_type": "code",
      "source": [
        "add(100)"
      ],
      "metadata": {
        "colab": {
          "base_uri": "https://localhost:8080/"
        },
        "id": "si-PA2amhlAY",
        "outputId": "58df8d85-af08-4af0-ab55-92251676c359"
      },
      "execution_count": 88,
      "outputs": [
        {
          "output_type": "execute_result",
          "data": {
            "text/plain": [
              "105"
            ]
          },
          "metadata": {},
          "execution_count": 88
        }
      ]
    },
    {
      "cell_type": "code",
      "source": [
        "\"abc\".upper()"
      ],
      "metadata": {
        "colab": {
          "base_uri": "https://localhost:8080/",
          "height": 35
        },
        "id": "A2QoT5vYhwlh",
        "outputId": "665030aa-2ac4-4ab7-b78a-c5237eaa739f"
      },
      "execution_count": 89,
      "outputs": [
        {
          "output_type": "execute_result",
          "data": {
            "text/plain": [
              "'ABC'"
            ],
            "application/vnd.google.colaboratory.intrinsic+json": {
              "type": "string"
            }
          },
          "metadata": {},
          "execution_count": 89
        }
      ]
    },
    {
      "cell_type": "code",
      "source": [
        "\"ABC\".lower()"
      ],
      "metadata": {
        "colab": {
          "base_uri": "https://localhost:8080/",
          "height": 35
        },
        "id": "UpvjQjJhiNWw",
        "outputId": "e7ff3158-4797-4bd8-b7a8-b1ea14243716"
      },
      "execution_count": 90,
      "outputs": [
        {
          "output_type": "execute_result",
          "data": {
            "text/plain": [
              "'abc'"
            ],
            "application/vnd.google.colaboratory.intrinsic+json": {
              "type": "string"
            }
          },
          "metadata": {},
          "execution_count": 90
        }
      ]
    },
    {
      "cell_type": "code",
      "source": [
        "def string_uppder_lower(str, option=False):\n",
        "  if option:\n",
        "    return str.upper()\n",
        "  else:\n",
        "    return str.lower()"
      ],
      "metadata": {
        "id": "prZi1_QciPq4"
      },
      "execution_count": 92,
      "outputs": []
    },
    {
      "cell_type": "code",
      "source": [
        "string_uppder_lower('ABDEdafdadASBDFeadsfa')"
      ],
      "metadata": {
        "colab": {
          "base_uri": "https://localhost:8080/",
          "height": 35
        },
        "id": "yOemg6pEiiXA",
        "outputId": "8d8a789d-54e4-40b5-9adf-204d34889108"
      },
      "execution_count": 93,
      "outputs": [
        {
          "output_type": "execute_result",
          "data": {
            "text/plain": [
              "'abdedafdadasbdfeadsfa'"
            ],
            "application/vnd.google.colaboratory.intrinsic+json": {
              "type": "string"
            }
          },
          "metadata": {},
          "execution_count": 93
        }
      ]
    },
    {
      "cell_type": "code",
      "source": [
        "string_uppder_lower('ABDEdafdadASBDFeadsfa',True)"
      ],
      "metadata": {
        "colab": {
          "base_uri": "https://localhost:8080/",
          "height": 35
        },
        "id": "U_WM8SsGinoQ",
        "outputId": "20c51219-42b4-4b06-971c-e2ee5341ff8f"
      },
      "execution_count": 94,
      "outputs": [
        {
          "output_type": "execute_result",
          "data": {
            "text/plain": [
              "'ABDEDAFDADASBDFEADSFA'"
            ],
            "application/vnd.google.colaboratory.intrinsic+json": {
              "type": "string"
            }
          },
          "metadata": {},
          "execution_count": 94
        }
      ]
    },
    {
      "cell_type": "code",
      "source": [
        "def add(x2=5 , x1=10):\n",
        "  return x1 + x2"
      ],
      "metadata": {
        "id": "CO1B1lV9iqNQ"
      },
      "execution_count": 98,
      "outputs": []
    },
    {
      "cell_type": "code",
      "source": [
        "add(100)"
      ],
      "metadata": {
        "colab": {
          "base_uri": "https://localhost:8080/"
        },
        "id": "qMeyFBZqlkar",
        "outputId": "ebd57001-2d5a-40d5-ce1b-f72bc138351c"
      },
      "execution_count": 99,
      "outputs": [
        {
          "output_type": "execute_result",
          "data": {
            "text/plain": [
              "110"
            ]
          },
          "metadata": {},
          "execution_count": 99
        }
      ]
    },
    {
      "cell_type": "markdown",
      "source": [
        "디폴트 매개변수는 항상 뒤에서부터 채운다"
      ],
      "metadata": {
        "id": "J6YJSOHAmIUZ"
      }
    },
    {
      "cell_type": "code",
      "source": [
        "def add(x1,x2=2,x3=5,x4=5):\n",
        "  return x1+x2+x3+x4"
      ],
      "metadata": {
        "id": "627LKGNml1AX"
      },
      "execution_count": 100,
      "outputs": []
    },
    {
      "cell_type": "markdown",
      "source": [
        "키워드 매개변수"
      ],
      "metadata": {
        "id": "hxq-zuBNmeAb"
      }
    },
    {
      "cell_type": "code",
      "source": [
        "def add(x1,x2):\n",
        "  print(f\"x1 : {x1}\")\n",
        "  print(f\"x2 : {x2}\")"
      ],
      "metadata": {
        "id": "x2BX_xR0mXsO"
      },
      "execution_count": 101,
      "outputs": []
    },
    {
      "cell_type": "code",
      "source": [
        "add(x2=10,x1=20)"
      ],
      "metadata": {
        "colab": {
          "base_uri": "https://localhost:8080/"
        },
        "id": "q9aBknfwm3RQ",
        "outputId": "fca16fad-f3b0-4cde-f556-5ee5173c4d54"
      },
      "execution_count": 103,
      "outputs": [
        {
          "output_type": "stream",
          "name": "stdout",
          "text": [
            "x1 : 20\n",
            "x2 : 10\n"
          ]
        }
      ]
    },
    {
      "cell_type": "markdown",
      "source": [
        "가변 키워드 매개변수"
      ],
      "metadata": {
        "id": "VOLrgmkbnk0S"
      }
    },
    {
      "cell_type": "code",
      "source": [
        "def abc(**kargs):\n",
        "  print(kargs)"
      ],
      "metadata": {
        "id": "hvSGiaW3m4XX"
      },
      "execution_count": 106,
      "outputs": []
    },
    {
      "cell_type": "code",
      "source": [
        "abc(a=1,b=2)"
      ],
      "metadata": {
        "colab": {
          "base_uri": "https://localhost:8080/"
        },
        "id": "E8APAA3Cn0lW",
        "outputId": "fba4e1f7-a9c6-4316-f6d5-f4318815e94a"
      },
      "execution_count": 109,
      "outputs": [
        {
          "output_type": "stream",
          "name": "stdout",
          "text": [
            "{'a': 1, 'b': 2}\n"
          ]
        }
      ]
    },
    {
      "cell_type": "code",
      "source": [
        "def process_info(**kargs):\n",
        "  for key,value in kargs.items():\n",
        "    print(f\"key:{key}, value:{value}\")"
      ],
      "metadata": {
        "id": "PGRevInYn2Pv"
      },
      "execution_count": 110,
      "outputs": []
    },
    {
      "cell_type": "code",
      "source": [
        "process_info(name=\"홍길동\",age=\"25\",address=\"서울시\")"
      ],
      "metadata": {
        "colab": {
          "base_uri": "https://localhost:8080/"
        },
        "id": "AzR7_np6ofYm",
        "outputId": "b86ac0fb-6c61-4083-c648-d779e577263b"
      },
      "execution_count": 111,
      "outputs": [
        {
          "output_type": "stream",
          "name": "stdout",
          "text": [
            "key:name, value:홍길동\n",
            "key:age, value:25\n",
            "key:address, value:서울시\n"
          ]
        }
      ]
    },
    {
      "cell_type": "markdown",
      "source": [
        "함수의 리턴 값은 한개일까?\n",
        "  - 여러개의 값을 리턴하려면\n",
        "    - 함수의 실행 결과 그 결과한개 이상 받으려면"
      ],
      "metadata": {
        "id": "FSBH90tfqMgX"
      }
    },
    {
      "cell_type": "code",
      "source": [
        "# 리스트를 리턴하는 함수\n",
        "# 주어진 데이터들에서 짝수만 골라서 리턴\n",
        "def get_ood(*args):\n",
        "  result = []\n",
        "  for data in args:\n",
        "    if data % 2 == 0:\n",
        "      result.append(data)\n",
        "  return result"
      ],
      "metadata": {
        "id": "AZYrX4l_p55W"
      },
      "execution_count": 122,
      "outputs": []
    },
    {
      "cell_type": "code",
      "source": [
        "get_ood(1,2,3,4,10,20,1,52,214,10,20)"
      ],
      "metadata": {
        "colab": {
          "base_uri": "https://localhost:8080/"
        },
        "id": "7Cp6NR0lrHd-",
        "outputId": "091e7f71-95e8-4a50-d3e5-c792fb78d748"
      },
      "execution_count": 123,
      "outputs": [
        {
          "output_type": "execute_result",
          "data": {
            "text/plain": [
              "[2, 4, 10, 20, 52, 214, 10, 20]"
            ]
          },
          "metadata": {},
          "execution_count": 123
        }
      ]
    },
    {
      "cell_type": "code",
      "source": [
        "# 함수에 데이터들을 전달하면 그중에서 최대값과 최소값을 출력한다.\n",
        "def get_min_max(*args):\n",
        "  return max(args), min(args)"
      ],
      "metadata": {
        "id": "Hqii26-brMgm"
      },
      "execution_count": 124,
      "outputs": []
    },
    {
      "cell_type": "code",
      "source": [
        "max_val, min_val =  get_min_max(2,5,4,1,5,1,2,1,45,100)\n",
        "max_val, min_val"
      ],
      "metadata": {
        "colab": {
          "base_uri": "https://localhost:8080/"
        },
        "id": "hHlqLZfIriVe",
        "outputId": "e1832389-75df-42aa-c937-22c62f9c5fa8"
      },
      "execution_count": 128,
      "outputs": [
        {
          "output_type": "execute_result",
          "data": {
            "text/plain": [
              "(100, 1)"
            ]
          },
          "metadata": {},
          "execution_count": 128
        }
      ]
    },
    {
      "cell_type": "markdown",
      "source": [
        "함수에 전달하는 값은... 원본이 넘어가는게 아니라 함수가 전달한 값을 자체 생성한 변수로 받아온다."
      ],
      "metadata": {
        "id": "4t0tAs0Lr7Bi"
      }
    },
    {
      "cell_type": "code",
      "source": [
        "def temp(abc):\n",
        "  abc = 10000"
      ],
      "metadata": {
        "id": "IHbzJKc9rmbN"
      },
      "execution_count": 129,
      "outputs": []
    },
    {
      "cell_type": "code",
      "source": [
        "abc = 50\n",
        "temp(abc)\n",
        "print(abc)"
      ],
      "metadata": {
        "colab": {
          "base_uri": "https://localhost:8080/"
        },
        "id": "NjIRAXO2ruE-",
        "outputId": "cbf3faaa-9032-4bd4-e239-7f3fd26bc029"
      },
      "execution_count": 130,
      "outputs": [
        {
          "output_type": "stream",
          "name": "stdout",
          "text": [
            "50\n"
          ]
        }
      ]
    },
    {
      "cell_type": "code",
      "source": [
        "list1 = [1,2,3,4,5]\n",
        "list2 = list1"
      ],
      "metadata": {
        "id": "Ylva02ZisYtm"
      },
      "execution_count": 131,
      "outputs": []
    },
    {
      "cell_type": "code",
      "source": [
        "list1"
      ],
      "metadata": {
        "colab": {
          "base_uri": "https://localhost:8080/"
        },
        "id": "prLabVJ1tPuN",
        "outputId": "49480f1b-b81a-4fa2-be0e-79677f041d62"
      },
      "execution_count": 132,
      "outputs": [
        {
          "output_type": "execute_result",
          "data": {
            "text/plain": [
              "[1, 2, 3, 4, 5]"
            ]
          },
          "metadata": {},
          "execution_count": 132
        }
      ]
    },
    {
      "cell_type": "code",
      "source": [
        "list2"
      ],
      "metadata": {
        "colab": {
          "base_uri": "https://localhost:8080/"
        },
        "id": "c6khykMvtQZl",
        "outputId": "8a2584a9-d391-43b1-b1e4-37301c01c846"
      },
      "execution_count": 133,
      "outputs": [
        {
          "output_type": "execute_result",
          "data": {
            "text/plain": [
              "[1, 2, 3, 4, 5]"
            ]
          },
          "metadata": {},
          "execution_count": 133
        }
      ]
    },
    {
      "cell_type": "code",
      "source": [
        "list2[0] = 100\n",
        "list2"
      ],
      "metadata": {
        "colab": {
          "base_uri": "https://localhost:8080/"
        },
        "id": "nq2kGesitRNm",
        "outputId": "7eda28ca-a1e1-473e-f02f-788520d74e0d"
      },
      "execution_count": 135,
      "outputs": [
        {
          "output_type": "execute_result",
          "data": {
            "text/plain": [
              "[100, 2, 3, 4, 5]"
            ]
          },
          "metadata": {},
          "execution_count": 135
        }
      ]
    },
    {
      "cell_type": "code",
      "source": [
        "list1"
      ],
      "metadata": {
        "colab": {
          "base_uri": "https://localhost:8080/"
        },
        "id": "ELakFEhCtSwl",
        "outputId": "d1204872-0ab6-4a0b-ca09-372f5e7a03b4"
      },
      "execution_count": 136,
      "outputs": [
        {
          "output_type": "execute_result",
          "data": {
            "text/plain": [
              "[100, 2, 3, 4, 5]"
            ]
          },
          "metadata": {},
          "execution_count": 136
        }
      ]
    },
    {
      "cell_type": "markdown",
      "source": [
        " - 값에 의한 호출 : call by value\n",
        " - 주소에 의한 호출 : call by reference"
      ],
      "metadata": {
        "id": "sUYmoLotuHbE"
      }
    },
    {
      "cell_type": "code",
      "source": [
        "def makeDict(dic_value):\n",
        "  if \"홍길동\" not in dic_value:\n",
        "    dic_value['홍길동'] = 1"
      ],
      "metadata": {
        "id": "9f1zGzm9vJqW"
      },
      "execution_count": 148,
      "outputs": []
    },
    {
      "cell_type": "code",
      "source": [
        "dict1 = {'이순신':100}\n",
        "dict1"
      ],
      "metadata": {
        "colab": {
          "base_uri": "https://localhost:8080/"
        },
        "id": "6DDPtIR2tXxg",
        "outputId": "58bc9ff2-2111-4eb7-e051-606764f4450f"
      },
      "execution_count": 149,
      "outputs": [
        {
          "output_type": "execute_result",
          "data": {
            "text/plain": [
              "{'이순신': 100}"
            ]
          },
          "metadata": {},
          "execution_count": 149
        }
      ]
    },
    {
      "cell_type": "code",
      "source": [
        "makeDict(dict1)"
      ],
      "metadata": {
        "id": "0Hwq2xF9vGh1"
      },
      "execution_count": 150,
      "outputs": []
    },
    {
      "cell_type": "code",
      "source": [
        "dict1"
      ],
      "metadata": {
        "colab": {
          "base_uri": "https://localhost:8080/"
        },
        "id": "qBIQQDEivHYw",
        "outputId": "e20ba421-3c14-4b99-91fd-65fb3320a0cf"
      },
      "execution_count": 151,
      "outputs": [
        {
          "output_type": "execute_result",
          "data": {
            "text/plain": [
              "{'이순신': 100, '홍길동': 1}"
            ]
          },
          "metadata": {},
          "execution_count": 151
        }
      ]
    },
    {
      "cell_type": "code",
      "source": [],
      "metadata": {
        "id": "usEdsXV8vdl4"
      },
      "execution_count": null,
      "outputs": []
    }
  ]
}