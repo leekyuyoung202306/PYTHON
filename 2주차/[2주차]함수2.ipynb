{
  "nbformat": 4,
  "nbformat_minor": 0,
  "metadata": {
    "colab": {
      "provenance": []
    },
    "kernelspec": {
      "name": "python3",
      "display_name": "Python 3"
    },
    "language_info": {
      "name": "python"
    }
  },
  "cells": [
    {
      "cell_type": "code",
      "execution_count": 7,
      "metadata": {
        "id": "vqcs0V_1TOjF"
      },
      "outputs": [],
      "source": [
        "def my_function(*args):\n",
        "  for i in args:\n",
        "    print(i*2)"
      ]
    },
    {
      "cell_type": "code",
      "source": [
        "my_function(1,2,3,4,5)"
      ],
      "metadata": {
        "colab": {
          "base_uri": "https://localhost:8080/"
        },
        "id": "p6-RE95VUDe2",
        "outputId": "e49c52d3-cdee-4d4c-cc0c-28c49824985a"
      },
      "execution_count": 8,
      "outputs": [
        {
          "output_type": "stream",
          "name": "stdout",
          "text": [
            "2\n",
            "4\n",
            "6\n",
            "8\n",
            "10\n"
          ]
        }
      ]
    },
    {
      "cell_type": "code",
      "source": [
        "my_lists = [1,2,3,4,5]\n",
        "my_function(my_lists)"
      ],
      "metadata": {
        "colab": {
          "base_uri": "https://localhost:8080/"
        },
        "id": "45QyhGawUJXz",
        "outputId": "326fd1e8-ecf8-44d3-940b-d5408f9b01e6"
      },
      "execution_count": 9,
      "outputs": [
        {
          "output_type": "stream",
          "name": "stdout",
          "text": [
            "[1, 2, 3, 4, 5, 1, 2, 3, 4, 5]\n"
          ]
        }
      ]
    },
    {
      "cell_type": "markdown",
      "source": [
        "un-packing 언팩킹"
      ],
      "metadata": {
        "id": "unid4wyGUpj9"
      }
    },
    {
      "cell_type": "code",
      "source": [
        "my_lists = (1,2,3,4,5)\n",
        "my_function(*my_lists)"
      ],
      "metadata": {
        "colab": {
          "base_uri": "https://localhost:8080/"
        },
        "id": "J4NMWa_qUSVb",
        "outputId": "c66d22c7-7be4-4d7d-a1a6-e8e0ed0a1caa"
      },
      "execution_count": 13,
      "outputs": [
        {
          "output_type": "stream",
          "name": "stdout",
          "text": [
            "2\n",
            "4\n",
            "6\n",
            "8\n",
            "10\n"
          ]
        }
      ]
    },
    {
      "cell_type": "markdown",
      "source": [
        "화면에  \"어서오세요 반갑습니다.\" 라는 문장을 출력하는함수"
      ],
      "metadata": {
        "id": "NUJUgX2pVHFE"
      }
    },
    {
      "cell_type": "code",
      "source": [
        "def say_hello():\n",
        "  print('어서오세요 반갑습니다.')\n",
        "say_hello()"
      ],
      "metadata": {
        "colab": {
          "base_uri": "https://localhost:8080/"
        },
        "id": "VTbdWbHiUwaM",
        "outputId": "7469ccc5-8b8a-49de-b462-af265dc0e3c9"
      },
      "execution_count": 14,
      "outputs": [
        {
          "output_type": "stream",
          "name": "stdout",
          "text": [
            "어서오세요 반갑습니다.\n"
          ]
        }
      ]
    },
    {
      "cell_type": "markdown",
      "source": [
        "위에서 만든함수를 리턴값이 있는 형태로 변경"
      ],
      "metadata": {
        "id": "GcJqOCMqVgti"
      }
    },
    {
      "cell_type": "code",
      "source": [
        "def say_hello():\n",
        "  return \"어서오세요 반갑습니다.\"\n",
        "\n",
        "print(say_hello())"
      ],
      "metadata": {
        "colab": {
          "base_uri": "https://localhost:8080/"
        },
        "id": "6V7OiBQ4Vesq",
        "outputId": "55aaf160-5df8-4697-c2f9-2e77f21f9c39"
      },
      "execution_count": 16,
      "outputs": [
        {
          "output_type": "stream",
          "name": "stdout",
          "text": [
            "어서오세요 반갑습니다.\n"
          ]
        }
      ]
    },
    {
      "cell_type": "markdown",
      "source": [
        "어서오세요 000님 반갑습니다."
      ],
      "metadata": {
        "id": "MT2nuG8HWDSN"
      }
    },
    {
      "cell_type": "code",
      "source": [
        "# say_hello('홍길동')\n",
        "# --> 어서오세요 '홍길동'님 반갑습니다.\n",
        "def say_hello(name):\n",
        "  print(f\"어서오세요 '{name}'님 반갑습니다.\")\n",
        "\n",
        "say_hello(\"홍길동\")"
      ],
      "metadata": {
        "colab": {
          "base_uri": "https://localhost:8080/"
        },
        "id": "khwhMzrGWAVk",
        "outputId": "0d9e9ad7-6d57-40aa-8853-95b269fb2fe5"
      },
      "execution_count": 19,
      "outputs": [
        {
          "output_type": "stream",
          "name": "stdout",
          "text": [
            "어서오세요 '홍길동'님 반갑습니다.\n"
          ]
        }
      ]
    },
    {
      "cell_type": "markdown",
      "source": [
        "가변매개변수 & 키워드 가변 매개변수"
      ],
      "metadata": {
        "id": "6ad3mGR1XeAO"
      }
    },
    {
      "cell_type": "code",
      "source": [
        "def my_function(*args):\n",
        "  print(args)\n",
        "def my_function2(**kargs):\n",
        "  print(kargs)"
      ],
      "metadata": {
        "id": "K4uikTuKXLX1"
      },
      "execution_count": 24,
      "outputs": []
    },
    {
      "cell_type": "code",
      "source": [
        "my_function(1,2,3)\n",
        "my_function2(a=1,b=2,c=3)"
      ],
      "metadata": {
        "colab": {
          "base_uri": "https://localhost:8080/"
        },
        "id": "MjniN4uBXnoS",
        "outputId": "a357f281-33c8-43da-9c80-9b32a7a3fa2b"
      },
      "execution_count": 25,
      "outputs": [
        {
          "output_type": "stream",
          "name": "stdout",
          "text": [
            "(1, 2, 3)\n",
            "{'a': 1, 'b': 2, 'c': 3}\n"
          ]
        }
      ]
    },
    {
      "cell_type": "code",
      "source": [
        "def my_function3(a,b,c,**kargs):\n",
        "  print(a,b,c)\n",
        "  print(kargs)"
      ],
      "metadata": {
        "id": "MFpSbvJIXpRT"
      },
      "execution_count": 26,
      "outputs": []
    },
    {
      "cell_type": "code",
      "source": [
        "my_function3(a=1,b=2,c=3,d=4)"
      ],
      "metadata": {
        "colab": {
          "base_uri": "https://localhost:8080/"
        },
        "id": "ljQCySadYXVa",
        "outputId": "3c0a617b-d304-4646-b63c-61e7ef5d3bce"
      },
      "execution_count": 30,
      "outputs": [
        {
          "output_type": "stream",
          "name": "stdout",
          "text": [
            "1 2 3\n",
            "{'d': 4}\n"
          ]
        }
      ]
    },
    {
      "cell_type": "code",
      "source": [
        "dic_test = {'a':1,'b':2,'c':3}\n",
        "my_function3(**dic_test)"
      ],
      "metadata": {
        "colab": {
          "base_uri": "https://localhost:8080/"
        },
        "id": "s_heQUk0Yd_E",
        "outputId": "afc0b551-606f-4c23-ed62-4f8f8ea32bc6"
      },
      "execution_count": 35,
      "outputs": [
        {
          "output_type": "stream",
          "name": "stdout",
          "text": [
            "1 2 3\n",
            "{}\n"
          ]
        }
      ]
    },
    {
      "cell_type": "markdown",
      "source": [
        "함수의 parameter를 전달할때는 값을 직접 지정할수도 있지만\n",
        "\n",
        "un-packing을 이용하면  간단해짐"
      ],
      "metadata": {
        "id": "aTgb3iX3ZRmX"
      }
    },
    {
      "cell_type": "code",
      "source": [
        "def test1(*args):\n",
        "  for i in args:\n",
        "    print(i)"
      ],
      "metadata": {
        "id": "Jj8F7T9-Y4bT"
      },
      "execution_count": 36,
      "outputs": []
    },
    {
      "cell_type": "code",
      "source": [
        "# test1(1,2,3)\n",
        "params = [1,2,3]\n",
        "test1(*params)"
      ],
      "metadata": {
        "colab": {
          "base_uri": "https://localhost:8080/"
        },
        "id": "52DTQa2-ZuC6",
        "outputId": "8a33bc95-e5e8-49ec-a72d-09c7b8cb9c4c"
      },
      "execution_count": 37,
      "outputs": [
        {
          "output_type": "stream",
          "name": "stdout",
          "text": [
            "1\n",
            "2\n",
            "3\n"
          ]
        }
      ]
    },
    {
      "cell_type": "code",
      "source": [
        "def test2(name,age,height,weight):\n",
        "  print(name,age,height,weight)"
      ],
      "metadata": {
        "id": "09-U9VuHZ1dK"
      },
      "execution_count": 38,
      "outputs": []
    },
    {
      "cell_type": "code",
      "source": [
        "test2(\"김\",10,150,40)"
      ],
      "metadata": {
        "colab": {
          "base_uri": "https://localhost:8080/"
        },
        "id": "ozvGHnihaHnC",
        "outputId": "3f680d12-b37e-4e0f-a881-a8e45c22a3dc"
      },
      "execution_count": 39,
      "outputs": [
        {
          "output_type": "stream",
          "name": "stdout",
          "text": [
            "김 10 150 40\n"
          ]
        }
      ]
    },
    {
      "cell_type": "code",
      "source": [
        "params = {\n",
        "    'name':'홍',\n",
        "    'age':[10,2,50,10],\n",
        "    'height':10,\n",
        "    'weight':10\n",
        "}\n",
        "test2(**params)"
      ],
      "metadata": {
        "colab": {
          "base_uri": "https://localhost:8080/"
        },
        "id": "my2qQqmeaMpq",
        "outputId": "8b7222be-5b87-4301-d85d-60e806d0d6e2"
      },
      "execution_count": 41,
      "outputs": [
        {
          "output_type": "stream",
          "name": "stdout",
          "text": [
            "홍 [10, 2, 50, 10] 10 10\n"
          ]
        }
      ]
    },
    {
      "cell_type": "code",
      "source": [
        "# 두개의 숫자를 더하는 함수\n",
        "# 주어진 문자열을 반복하는 함수  repeat('대한민국',10)  -> 대한민국대한민국..\n",
        "def repeat(strdata,time):\n",
        "  return strdata*time\n",
        "# 리스트를 전달 받아서 최대값을 반환하는 함수\n",
        "def getFindMax(list_data):\n",
        "  return max(list_data)\n",
        "# 문자열 또는 리스트형태의 데이터를 받아서 역순으로 반환하는 함수\n",
        "def reverse_lists(list_data):\n",
        "  return list_data[::-1]\n",
        "# 리스트를 정렬하는데 옵션에 따라서 asc(오름차순) / desc(내림차순)\n",
        "def sort_lists(lists, desc=False):\n",
        "  lists.sort(reverse=desc)"
      ],
      "metadata": {
        "id": "CIE-cS4MaaDy"
      },
      "execution_count": 46,
      "outputs": []
    },
    {
      "cell_type": "code",
      "source": [
        "temp_lists = [1,5,2,4,8,7]\n",
        "sort_lists(temp_lists,True)\n",
        "temp_lists"
      ],
      "metadata": {
        "colab": {
          "base_uri": "https://localhost:8080/"
        },
        "id": "hz8C7km3bvyK",
        "outputId": "13d2e6ee-553a-4e49-eeb5-fd738c23a9ce"
      },
      "execution_count": 65,
      "outputs": [
        {
          "output_type": "execute_result",
          "data": {
            "text/plain": [
              "[8, 7, 5, 4, 2, 1]"
            ]
          },
          "metadata": {},
          "execution_count": 65
        }
      ]
    },
    {
      "cell_type": "code",
      "source": [
        "def abc(a, isSuccess=True):\n",
        "  if isSuccess:\n",
        "    print('abc')\n",
        "  else:\n",
        "    print('aaaaaa')"
      ],
      "metadata": {
        "id": "MurS1WJdd70y"
      },
      "execution_count": 60,
      "outputs": []
    },
    {
      "cell_type": "markdown",
      "source": [
        "----------------------------------------------------------"
      ],
      "metadata": {
        "id": "JkQYegEthcRs"
      }
    },
    {
      "cell_type": "code",
      "source": [
        "# 짝수 또는 홀수를 판단하는 함수\n",
        "def is_even(number):\n",
        "  if number % 2 ==0:\n",
        "    return True\n",
        "  else:\n",
        "    return False"
      ],
      "metadata": {
        "id": "JMDSKPuvevFS"
      },
      "execution_count": 68,
      "outputs": []
    },
    {
      "cell_type": "code",
      "source": [
        "number = int(input(\"자연수를 입력하세요\"))\n",
        "if is_even(number):\n",
        "  print(\"짝수 입니다.\")\n",
        "else:\n",
        "  print(\"홀수 입니다.\")"
      ],
      "metadata": {
        "colab": {
          "base_uri": "https://localhost:8080/"
        },
        "id": "uic9b3Lkh-d4",
        "outputId": "dc11d680-5662-432a-98c4-215f8fad5237"
      },
      "execution_count": 71,
      "outputs": [
        {
          "output_type": "stream",
          "name": "stdout",
          "text": [
            "자연수를 입력하세요125147845465\n",
            "홀수 입니다.\n"
          ]
        }
      ]
    },
    {
      "cell_type": "code",
      "source": [
        "# 어떤 자연숭의 배수면 true / false를 리턴하는 함수\n",
        "def is_divided(number, divided_num ):\n",
        "  if number % divided_num ==0:\n",
        "    return True\n",
        "  else:\n",
        "    return False"
      ],
      "metadata": {
        "id": "Ayt4HEMJisIv"
      },
      "execution_count": 74,
      "outputs": []
    },
    {
      "cell_type": "code",
      "source": [
        "number = int(input(\"자연수를 입력하세요 \"))\n",
        "divided_num = int(input(\"배수를 입력하세요 \"))\n",
        "if is_divided(number,divided_num):\n",
        "  print(f\"{divided_num}의 배수 입니다.\")\n",
        "else:\n",
        "  print(f\"{divided_num}의 배수가 아닙니다.\")"
      ],
      "metadata": {
        "colab": {
          "base_uri": "https://localhost:8080/"
        },
        "id": "Z8FGDF5rktcH",
        "outputId": "e277cadd-8b8f-4141-9e2e-ccbc6020ef66"
      },
      "execution_count": 76,
      "outputs": [
        {
          "output_type": "stream",
          "name": "stdout",
          "text": [
            "자연수를 입력하세요 1485247\n",
            "배수를 입력하세요 7\n",
            "7의 배수가 아닙니다.\n"
          ]
        }
      ]
    },
    {
      "cell_type": "code",
      "source": [
        "# 모음  aeiou\n",
        "# 영문이 주어지면 해당 문자열에서 모음의 개수를 출력\n",
        "strdata = \"abcediekdisjfieksl\"\n",
        "count = 0\n",
        "for ch in strdata:\n",
        "  if ch in \"aeiou\":\n",
        "    count += 1\n",
        "\n",
        "print(f'모음의 개수는 총 {count}개 입니다.')"
      ],
      "metadata": {
        "colab": {
          "base_uri": "https://localhost:8080/"
        },
        "id": "2lqg9WnWmDEx",
        "outputId": "9f919a9a-0d96-48db-c13c-90d15575d05d"
      },
      "execution_count": 81,
      "outputs": [
        {
          "output_type": "stream",
          "name": "stdout",
          "text": [
            "모음의 개수는 총 7개 입니다.\n"
          ]
        }
      ]
    },
    {
      "cell_type": "code",
      "source": [
        "def count_mouem(strdata):\n",
        "  # strdata = \"abcediekdisjfieksl\"\n",
        "  count = 0\n",
        "  for ch in strdata:\n",
        "    if ch in \"aeiouAEIOU\":\n",
        "      count += 1\n",
        "  return count\n",
        "  # print(f'모음의 개수는 총 {count}개 입니다.')\n",
        "\n",
        "count = count_mouem(\"abcediekdisjfieksl\")\n",
        "print(f'모음의 개수는 총 {count}개 입니다.')\n"
      ],
      "metadata": {
        "colab": {
          "base_uri": "https://localhost:8080/"
        },
        "id": "5uUOwRiMmuf2",
        "outputId": "9118bd73-b3ac-41b6-8485-5c8b48ecc544"
      },
      "execution_count": 82,
      "outputs": [
        {
          "output_type": "stream",
          "name": "stdout",
          "text": [
            "모음의 개수는 총 7개 입니다.\n"
          ]
        }
      ]
    },
    {
      "cell_type": "code",
      "source": [
        "from random import randint\n",
        "# 리스트에서 중복을 제거하는 함수\n",
        "randint(0,15)\n",
        "# 랜덤한 값으로 채워진 리스트(요소는 10개)"
      ],
      "metadata": {
        "colab": {
          "base_uri": "https://localhost:8080/"
        },
        "id": "9eo56SnVrlTX",
        "outputId": "322cef78-b38a-4f59-f195-0fcff1e83655"
      },
      "execution_count": 88,
      "outputs": [
        {
          "output_type": "execute_result",
          "data": {
            "text/plain": [
              "9"
            ]
          },
          "metadata": {},
          "execution_count": 88
        }
      ]
    },
    {
      "cell_type": "code",
      "source": [
        "# enter_dic : dictionary\n",
        "def f(age,enter_dic):\n",
        "  if age >=20:\n",
        "    enter_price = 10000\n",
        "    if 'adult' not in enter_dic:\n",
        "      enter_dic['adult'] = 1\n",
        "    else:\n",
        "      enter_dic['adult'] += 1\n",
        "  elif age>=14:\n",
        "    enter_price = 4000\n",
        "    if 'teanager' not in enter_dic:\n",
        "      enter_dic['teanager'] = 1\n",
        "    else:\n",
        "      enter_dic['teanager'] += 1\n",
        "  elif age >= 8:\n",
        "    enter_price = 500\n",
        "    if 'child' not in enter_dic:\n",
        "      enter_dic['child'] = 1\n",
        "    else:\n",
        "      enter_dic['child'] += 1\n",
        "  else: # 유아\n",
        "    enter_price = 0\n",
        "    if 'baby' not in enter_dic:\n",
        "      enter_dic['baby'] = 1\n",
        "    else:\n",
        "      enter_dic['baby'] += 1\n",
        "  return enter_price"
      ],
      "metadata": {
        "id": "rqFbKpM7zi6_"
      },
      "execution_count": 103,
      "outputs": []
    },
    {
      "cell_type": "code",
      "source": [
        "enter_dic={}\n",
        "enter_price = 0\n",
        "# enter_price += f(10,enter_dic)\n",
        "# enter_price += f(20,enter_dic)\n",
        "enter_price += f(30,enter_dic)\n",
        "# enter_price += f(15,enter_dic)\n",
        "# enter_price += f(5,enter_dic)\n",
        "enter_dic, enter_price"
      ],
      "metadata": {
        "colab": {
          "base_uri": "https://localhost:8080/"
        },
        "id": "jBwkVGRk2Zk9",
        "outputId": "2899c620-8710-4674-93b6-2d8f08591a78"
      },
      "execution_count": 108,
      "outputs": [
        {
          "output_type": "execute_result",
          "data": {
            "text/plain": [
              "({'adult': 1}, 10000)"
            ]
          },
          "metadata": {},
          "execution_count": 108
        }
      ]
    },
    {
      "cell_type": "code",
      "source": [
        "total_count,enter_price,enter_dic = 0, 0, {}\n",
        "for i in range(3):\n",
        "  age =  int(input(\"나이를 입력하세요 :\"))\n",
        "  enter_price += f(age,enter_dic)\n",
        "\n",
        "total_count =  sum(enter_dic.values())\n",
        "print(f\"금일 총 입장객은 {total_count}, 금액 : {enter_price}\")\n",
        "for key,value in enter_dic.items():\n",
        "  print(f\"{key} : {value}\")"
      ],
      "metadata": {
        "colab": {
          "base_uri": "https://localhost:8080/"
        },
        "id": "0xMphuo4sLr8",
        "outputId": "30ab803a-6ae0-480d-86d4-7f4db40f3765"
      },
      "execution_count": 117,
      "outputs": [
        {
          "output_type": "stream",
          "name": "stdout",
          "text": [
            "나이를 입력하세요 :5\n",
            "나이를 입력하세요 :2\n",
            "나이를 입력하세요 :1\n",
            "금일 총 입장객은 3, 금액 : 0\n",
            "{'baby': 3}\n",
            "baby : 3\n"
          ]
        }
      ]
    },
    {
      "cell_type": "code",
      "source": [],
      "metadata": {
        "id": "Z878MXtyyvbF"
      },
      "execution_count": null,
      "outputs": []
    }
  ]
}