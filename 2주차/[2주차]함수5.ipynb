{
  "nbformat": 4,
  "nbformat_minor": 0,
  "metadata": {
    "colab": {
      "provenance": []
    },
    "kernelspec": {
      "name": "python3",
      "display_name": "Python 3"
    },
    "language_info": {
      "name": "python"
    }
  },
  "cells": [
    {
      "cell_type": "markdown",
      "source": [
        "람다함수\n",
        "  - 이름없이 사용하는 함수로\n",
        "  - 다른 함수에 파라메터로 전달될때 사용\n",
        "  - map,filter,sorted\n",
        "  - lambda 파라메터 : 로직\n",
        "  - 한줄 코딩"
      ],
      "metadata": {
        "id": "kXs4sAuFv3-O"
      }
    },
    {
      "cell_type": "code",
      "source": [
        "def add(x, y):\n",
        "  return x + y"
      ],
      "metadata": {
        "id": "DXB5qk7mv8U9"
      },
      "execution_count": 1,
      "outputs": []
    },
    {
      "cell_type": "code",
      "source": [
        "add(10,20)"
      ],
      "metadata": {
        "colab": {
          "base_uri": "https://localhost:8080/"
        },
        "id": "n208ybZpwnjm",
        "outputId": "8ffb5ef8-5cc0-4c07-c2c8-8f8cfd273605"
      },
      "execution_count": 2,
      "outputs": [
        {
          "output_type": "execute_result",
          "data": {
            "text/plain": [
              "30"
            ]
          },
          "metadata": {},
          "execution_count": 2
        }
      ]
    },
    {
      "cell_type": "code",
      "source": [
        "add2 = lambda x,y : x + y"
      ],
      "metadata": {
        "id": "KoI0bPN0wpDU"
      },
      "execution_count": 4,
      "outputs": []
    },
    {
      "cell_type": "code",
      "source": [
        "add2(10,20)"
      ],
      "metadata": {
        "colab": {
          "base_uri": "https://localhost:8080/"
        },
        "id": "IAWYgUzPwvmc",
        "outputId": "1f1f684e-0a1f-4056-be98-ab5ab3801c74"
      },
      "execution_count": 5,
      "outputs": [
        {
          "output_type": "execute_result",
          "data": {
            "text/plain": [
              "30"
            ]
          },
          "metadata": {},
          "execution_count": 5
        }
      ]
    },
    {
      "cell_type": "code",
      "source": [
        "square = lambda x : x**2\n",
        "square(5)"
      ],
      "metadata": {
        "colab": {
          "base_uri": "https://localhost:8080/"
        },
        "id": "IFsspXBkwzas",
        "outputId": "9dae1b46-45b8-4417-ddee-1e19f4a924b3"
      },
      "execution_count": 6,
      "outputs": [
        {
          "output_type": "execute_result",
          "data": {
            "text/plain": [
              "25"
            ]
          },
          "metadata": {},
          "execution_count": 6
        }
      ]
    },
    {
      "cell_type": "code",
      "source": [
        "# 문자열의 길이를 반환하는 람다함수\n",
        "length = lambda x : len(x)\n",
        "length(\"hello world\")"
      ],
      "metadata": {
        "colab": {
          "base_uri": "https://localhost:8080/"
        },
        "id": "h73yYnlixJkk",
        "outputId": "c8cad3ef-a867-41d6-87ea-57861f0f3d5b"
      },
      "execution_count": 7,
      "outputs": [
        {
          "output_type": "execute_result",
          "data": {
            "text/plain": [
              "11"
            ]
          },
          "metadata": {},
          "execution_count": 7
        }
      ]
    },
    {
      "cell_type": "code",
      "source": [
        "# 문자열을 모두 대문자로 반환하는 람다\n",
        "uppercase = lambda x : x.upper()\n",
        "uppercase(\"abc\")"
      ],
      "metadata": {
        "colab": {
          "base_uri": "https://localhost:8080/",
          "height": 35
        },
        "id": "wdjiOM75xnHk",
        "outputId": "81b6103a-d06c-4fa4-983f-1e6b881fc38f"
      },
      "execution_count": 8,
      "outputs": [
        {
          "output_type": "execute_result",
          "data": {
            "text/plain": [
              "'ABC'"
            ],
            "application/vnd.google.colaboratory.intrinsic+json": {
              "type": "string"
            }
          },
          "metadata": {},
          "execution_count": 8
        }
      ]
    },
    {
      "cell_type": "code",
      "source": [
        "# 홀수인지 확인하는 람다\n",
        "is_odd = lambda x : x % 2 != 0\n",
        "is_odd(11)"
      ],
      "metadata": {
        "colab": {
          "base_uri": "https://localhost:8080/"
        },
        "id": "rjc9uOkiyNJ7",
        "outputId": "aa51667c-828c-452c-f655-6d030c664d3d"
      },
      "execution_count": 10,
      "outputs": [
        {
          "output_type": "execute_result",
          "data": {
            "text/plain": [
              "True"
            ]
          },
          "metadata": {},
          "execution_count": 10
        }
      ]
    },
    {
      "cell_type": "code",
      "source": [
        "# 리스트에서 짝수만 필터링을 람다를 이용해서\n",
        "numbers = list(range(1,11))\n",
        "list(filter( lambda x : x%2==0 , numbers))"
      ],
      "metadata": {
        "colab": {
          "base_uri": "https://localhost:8080/"
        },
        "id": "f8MLX0SOyg9d",
        "outputId": "9a127492-2990-4bd0-ed22-2b7cafa70611"
      },
      "execution_count": 12,
      "outputs": [
        {
          "output_type": "execute_result",
          "data": {
            "text/plain": [
              "[2, 4, 6, 8, 10]"
            ]
          },
          "metadata": {},
          "execution_count": 12
        }
      ]
    },
    {
      "cell_type": "code",
      "source": [
        "list(map(lambda x: x+100, numbers))"
      ],
      "metadata": {
        "colab": {
          "base_uri": "https://localhost:8080/"
        },
        "id": "aJbRmruPyrv0",
        "outputId": "91f2585b-82b3-41f0-c32c-53f00fc3e95c"
      },
      "execution_count": 14,
      "outputs": [
        {
          "output_type": "execute_result",
          "data": {
            "text/plain": [
              "[101, 102, 103, 104, 105, 106, 107, 108, 109, 110]"
            ]
          },
          "metadata": {},
          "execution_count": 14
        }
      ]
    },
    {
      "cell_type": "code",
      "source": [
        "# 주어진 리스트에서 각각의 값에 100을 더한후 짝수만 추려내자.\n",
        "numbers = list(range(1,11))\n",
        "list(filter(lambda x: x%2 ==0,  map(lambda x: x+100, numbers)))"
      ],
      "metadata": {
        "colab": {
          "base_uri": "https://localhost:8080/"
        },
        "id": "8YGpCquGz44M",
        "outputId": "ae8ddf99-9f38-4c25-b8de-fcf3859f8f9c"
      },
      "execution_count": 16,
      "outputs": [
        {
          "output_type": "execute_result",
          "data": {
            "text/plain": [
              "[102, 104, 106, 108, 110]"
            ]
          },
          "metadata": {},
          "execution_count": 16
        }
      ]
    },
    {
      "cell_type": "code",
      "source": [
        "# 리스트에서 각 요소에 2를 곱해서 리스트로 출력하기\n",
        "numbers = list(range(1,11))\n",
        "list(map(lambda x : x*2, numbers))"
      ],
      "metadata": {
        "colab": {
          "base_uri": "https://localhost:8080/"
        },
        "id": "bYChgL6l0g1u",
        "outputId": "949178ce-009a-4ef9-b8b0-9b1fadf46606"
      },
      "execution_count": 18,
      "outputs": [
        {
          "output_type": "execute_result",
          "data": {
            "text/plain": [
              "[2, 4, 6, 8, 10, 12, 14, 16, 18, 20]"
            ]
          },
          "metadata": {},
          "execution_count": 18
        }
      ]
    },
    {
      "cell_type": "code",
      "source": [
        "# 두 값중에 가장 큰 값을 반환하는 람다 함수\n",
        "max_value = lambda x, y : x if x > y else y\n",
        "max_value(10,20)"
      ],
      "metadata": {
        "colab": {
          "base_uri": "https://localhost:8080/"
        },
        "id": "XFvSVyw51fDy",
        "outputId": "38dcb0b8-c96e-4f66-e42d-09b643b2d915"
      },
      "execution_count": 19,
      "outputs": [
        {
          "output_type": "execute_result",
          "data": {
            "text/plain": [
              "20"
            ]
          },
          "metadata": {},
          "execution_count": 19
        }
      ]
    },
    {
      "cell_type": "code",
      "source": [
        "names = ['e','b','c','d','a']\n",
        "age = [50,20,30,40,10]\n",
        "dic1 = dict(zip(names,age))\n",
        "print(dic1)\n",
        "print(dic1.items())"
      ],
      "metadata": {
        "colab": {
          "base_uri": "https://localhost:8080/"
        },
        "id": "gh5yY3s02K2t",
        "outputId": "abeb2fc3-2a0b-4c3e-bfbe-2497d2d62bcb"
      },
      "execution_count": 23,
      "outputs": [
        {
          "output_type": "stream",
          "name": "stdout",
          "text": [
            "{'e': 50, 'b': 20, 'c': 30, 'd': 40, 'a': 10}\n",
            "dict_items([('e', 50), ('b', 20), ('c', 30), ('d', 40), ('a', 10)])\n"
          ]
        }
      ]
    },
    {
      "cell_type": "code",
      "source": [
        "# value를 기준으로 기본인 오름차순으로 정렬\n",
        "def asc(x):\n",
        "  return x[0]\n",
        "sorted(dic1.items(), key=asc)"
      ],
      "metadata": {
        "colab": {
          "base_uri": "https://localhost:8080/"
        },
        "id": "zkgELVF62ZTK",
        "outputId": "ebb4d6da-5ea4-43c3-d2a1-39e29bd70fd2"
      },
      "execution_count": 25,
      "outputs": [
        {
          "output_type": "execute_result",
          "data": {
            "text/plain": [
              "[('a', 10), ('b', 20), ('c', 30), ('d', 40), ('e', 50)]"
            ]
          },
          "metadata": {},
          "execution_count": 25
        }
      ]
    },
    {
      "cell_type": "code",
      "source": [
        "sorted(dic1.items(), key= lambda x : x[0] ,reverse=True)"
      ],
      "metadata": {
        "colab": {
          "base_uri": "https://localhost:8080/"
        },
        "id": "kttt3qG_21EL",
        "outputId": "6eddc216-a45f-4fa1-a503-97992b0629e5"
      },
      "execution_count": 29,
      "outputs": [
        {
          "output_type": "execute_result",
          "data": {
            "text/plain": [
              "[('e', 50), ('d', 40), ('c', 30), ('b', 20), ('a', 10)]"
            ]
          },
          "metadata": {},
          "execution_count": 29
        }
      ]
    },
    {
      "cell_type": "code",
      "source": [
        "# 리스트안에 딕셔너리가 요소로 있으면\n",
        "students = [\n",
        "    {'name':'leeky','score':95},\n",
        "    {'name':'Alice','score':100},\n",
        "    {'name':'Bob','score':99},\n",
        "    {'name':'Charlie','score':80}\n",
        "]\n",
        "students"
      ],
      "metadata": {
        "colab": {
          "base_uri": "https://localhost:8080/"
        },
        "id": "STqEgTK-3fYL",
        "outputId": "f331747a-8eaa-445b-92ab-8d24fe277b46"
      },
      "execution_count": 32,
      "outputs": [
        {
          "output_type": "execute_result",
          "data": {
            "text/plain": [
              "[{'name': 'leeky', 'score': 95},\n",
              " {'name': 'Alice', 'score': 100},\n",
              " {'name': 'Bob', 'score': 99},\n",
              " {'name': 'Charlie', 'score': 80}]"
            ]
          },
          "metadata": {},
          "execution_count": 32
        }
      ]
    },
    {
      "cell_type": "code",
      "source": [
        "sorted(students, key=lambda x: x['score'])"
      ],
      "metadata": {
        "colab": {
          "base_uri": "https://localhost:8080/"
        },
        "id": "C-zYAT7R4Ldb",
        "outputId": "0b05c3fd-b07f-464d-8085-a239b6d43a9d"
      },
      "execution_count": 34,
      "outputs": [
        {
          "output_type": "execute_result",
          "data": {
            "text/plain": [
              "[{'name': 'Charlie', 'score': 80},\n",
              " {'name': 'leeky', 'score': 95},\n",
              " {'name': 'Bob', 'score': 99},\n",
              " {'name': 'Alice', 'score': 100}]"
            ]
          },
          "metadata": {},
          "execution_count": 34
        }
      ]
    },
    {
      "cell_type": "code",
      "source": [
        "students.sort(key=lambda x: x['name'])"
      ],
      "metadata": {
        "id": "i1QWw59D44Fq"
      },
      "execution_count": 37,
      "outputs": []
    },
    {
      "cell_type": "code",
      "source": [
        "students"
      ],
      "metadata": {
        "colab": {
          "base_uri": "https://localhost:8080/"
        },
        "id": "5PyrtFpa5iDB",
        "outputId": "ee4a8496-7b92-479f-cbd4-9734f4ac861b"
      },
      "execution_count": 38,
      "outputs": [
        {
          "output_type": "execute_result",
          "data": {
            "text/plain": [
              "[{'name': 'Alice', 'score': 100},\n",
              " {'name': 'Bob', 'score': 99},\n",
              " {'name': 'Charlie', 'score': 80},\n",
              " {'name': 'leeky', 'score': 95}]"
            ]
          },
          "metadata": {},
          "execution_count": 38
        }
      ]
    },
    {
      "cell_type": "code",
      "source": [
        "# 모든 문자열의 첫 글자는 대문자로 변경한다. --> 람다 함수\n",
        "name = 'alex'\n",
        "# Alex\n",
        "name[0].upper() + name[1:]"
      ],
      "metadata": {
        "colab": {
          "base_uri": "https://localhost:8080/",
          "height": 35
        },
        "id": "feau3mlV5kLi",
        "outputId": "9c50e9f7-0632-4800-972c-10e0fa32f130"
      },
      "execution_count": 6,
      "outputs": [
        {
          "output_type": "execute_result",
          "data": {
            "text/plain": [
              "'Alex'"
            ],
            "application/vnd.google.colaboratory.intrinsic+json": {
              "type": "string"
            }
          },
          "metadata": {},
          "execution_count": 6
        }
      ]
    },
    {
      "cell_type": "code",
      "source": [
        "capitalize_first_letter = lambda x : x[0].upper()+x[1:]\n",
        "capitalize_first_letter(\"adsfeafdsafads\")"
      ],
      "metadata": {
        "colab": {
          "base_uri": "https://localhost:8080/",
          "height": 35
        },
        "id": "_ga6UFno6G_7",
        "outputId": "0a536d79-b8ed-43f4-b7f9-4860036018bb"
      },
      "execution_count": 7,
      "outputs": [
        {
          "output_type": "execute_result",
          "data": {
            "text/plain": [
              "'Adsfeafdsafads'"
            ],
            "application/vnd.google.colaboratory.intrinsic+json": {
              "type": "string"
            }
          },
          "metadata": {},
          "execution_count": 7
        }
      ]
    },
    {
      "cell_type": "markdown",
      "source": [
        "간단한 고객 관리 프로그램\n",
        "  - 고객 정보 추가\n",
        "  - 고객 정보 검색\n",
        "  - 메뉴 출력"
      ],
      "metadata": {
        "id": "azNiUrrx9xyL"
      }
    },
    {
      "cell_type": "code",
      "source": [
        "# 필요한 기술요소(기능)\n",
        "# 사용자 입력\n",
        "customer_list = []"
      ],
      "metadata": {
        "id": "sq5eJhlb6WwS"
      },
      "execution_count": 10,
      "outputs": []
    },
    {
      "cell_type": "code",
      "source": [
        "def print_menu():\n",
        "  print(\"\\n================ 고객 관리 프로그램 =================\")\n",
        "  print(\"1. 고객 정보 추가\")\n",
        "  print(\"2. 고객 정보 검색\")\n",
        "  print(\"3. 종료\")"
      ],
      "metadata": {
        "id": "0L3wTU_p-6ca"
      },
      "execution_count": 31,
      "outputs": []
    },
    {
      "cell_type": "code",
      "source": [
        "def add_customer():\n",
        "  name = input('이름 : ')\n",
        "  phone = input('전화번호 : ')\n",
        "  email = input('이메일 : ')\n",
        "  customer = {\n",
        "      '이름' : name,\n",
        "      '전화번호' : phone,\n",
        "      '이메일' : email\n",
        "  }\n",
        "  customer_list.append(customer)\n",
        "  print(\"고객정보 생성 완료!\")"
      ],
      "metadata": {
        "id": "d5xcY0l--6k4"
      },
      "execution_count": 38,
      "outputs": []
    },
    {
      "cell_type": "code",
      "source": [
        "def search_customer():\n",
        "  find = []\n",
        "  name = input('고객 이름 입력 : ')\n",
        "  for cust in customer_list:\n",
        "    if cust['이름'] == name:\n",
        "      find.append(cust)\n",
        "  if find:\n",
        "    for cust in find:\n",
        "      print(f'이름 : {cust[\"이름\"]}')\n",
        "      print(f'전화번호 : {cust[\"전화번호\"]}')\n",
        "      print(f'이메일 : {cust[\"이메일\"]}')\n",
        "  else:\n",
        "    print(\"고객 정보를 찾을수 없습니다.\")"
      ],
      "metadata": {
        "id": "ktwL-z4S_JFx"
      },
      "execution_count": 39,
      "outputs": []
    },
    {
      "cell_type": "code",
      "source": [
        "def main():\n",
        "  while True:\n",
        "    print_menu()\n",
        "    choice = input(\"메뉴를 선택해 주세요(1,2,3) : \")\n",
        "    if choice == '1':\n",
        "      add_customer()\n",
        "    elif choice == '2':\n",
        "      search_customer()\n",
        "    elif choice == '3':\n",
        "      print(\"프로그램을 종료합니다.\")\n",
        "      break\n",
        "    else:\n",
        "      print('잘못된 입력입니다. 1,2,3 중에 하나를 선택하세요')"
      ],
      "metadata": {
        "id": "pl8EsF5N-UWb"
      },
      "execution_count": 40,
      "outputs": []
    },
    {
      "cell_type": "code",
      "source": [
        "# 프로그램 실행\n",
        "main()"
      ],
      "metadata": {
        "id": "NZaB99pi-WGS"
      },
      "execution_count": null,
      "outputs": []
    },
    {
      "cell_type": "code",
      "source": [
        "# 구구단 출력을 함수로 표현\n",
        "def dan(x_dan):\n",
        "  for i in range(1,10):\n",
        "    print(f'{x_dan} x {i} = {x_dan*i}')"
      ],
      "metadata": {
        "id": "7GEjbMvXD6l3"
      },
      "execution_count": 50,
      "outputs": []
    },
    {
      "cell_type": "code",
      "source": [
        "# 방금만든 함수를 고치지말고 이용해서 전체 구구단 출력\n",
        "# 단 2단과 3단 이렇게 단과 단사이는 한줄 띄고\n",
        "for i in range(2,10):\n",
        "  dan(i)\n",
        "  print()"
      ],
      "metadata": {
        "id": "YswFxtQnF-uH"
      },
      "execution_count": null,
      "outputs": []
    },
    {
      "cell_type": "code",
      "source": [
        "# 변수, 데이터를 저장하기 위한 방법, 조건문, 순환문 ,함수"
      ],
      "metadata": {
        "id": "jR8ti8jbMjV1"
      },
      "execution_count": 53,
      "outputs": []
    },
    {
      "cell_type": "code",
      "source": [
        "# 함수에 사용되는  파라메터 종류\n",
        "# 기본 파라메터  def func(a, b)\n",
        "# 디폴트 파라메터  def func(a,b=0,c=0)\n",
        "#  - 주의사항 뒤에서부터 기록한다.\n",
        "\n",
        "# 가변 파라메터 def func(*args) : args 함수내부에서 리스트로 취급한다\n",
        "\n",
        "# 키워드 파라메터  def func(a,b=0,c=0)  func(1,c=10)\n",
        "\n",
        "def getEvenData(listdata,sort=False,reverse=False):\n",
        "  listdata = list(filter(lambda x: x%2==0, listdata))\n",
        "  if sort:\n",
        "    listdata.sort(reverse = reverse)\n",
        "  return listdata\n",
        "\n",
        "temp = [10,9,8,1,2,3]\n",
        "getEvenData(listdata = temp, reverse=True,sort=True)\n",
        "\n",
        "# 가변 키워드 파라메터  def func(**kargs)  : dictionary로 취급\n",
        "\n",
        "def dynamic_keyword(**kargs):  #packing\n",
        "  for key,value in kargs.items():\n",
        "    print(f'{key}, {value}')\n",
        "\n",
        "dynamic_keyword(listdata = temp, reverse=True,sort=True)"
      ],
      "metadata": {
        "colab": {
          "base_uri": "https://localhost:8080/"
        },
        "id": "ESnvK3mJOVa-",
        "outputId": "fd451cc4-3682-4c9d-fc59-d49fdacf039c"
      },
      "execution_count": 58,
      "outputs": [
        {
          "output_type": "stream",
          "name": "stdout",
          "text": [
            "listdata, [10, 9, 8, 1, 2, 3]\n",
            "reverse, True\n",
            "sort, True\n"
          ]
        }
      ]
    },
    {
      "cell_type": "code",
      "source": [
        "def func_unpack(a,b,c):\n",
        "  print(a,b,c)\n",
        "\n",
        "def func_pack(*args):\n",
        "  for i in args:\n",
        "    print(i)"
      ],
      "metadata": {
        "id": "oFzxwdP9RMEu"
      },
      "execution_count": 62,
      "outputs": []
    },
    {
      "cell_type": "code",
      "source": [
        "func_unpack( *[10 , 100 , 1000] )"
      ],
      "metadata": {
        "colab": {
          "base_uri": "https://localhost:8080/"
        },
        "id": "8NU_TXrhTMXb",
        "outputId": "8de4e57e-bd97-4c11-98a7-1c492ec11226"
      },
      "execution_count": 64,
      "outputs": [
        {
          "output_type": "stream",
          "name": "stdout",
          "text": [
            "10 100 1000\n"
          ]
        }
      ]
    },
    {
      "cell_type": "code",
      "source": [
        "func_unpack( **{'b':10,'a':1000,'c':100 }  )"
      ],
      "metadata": {
        "colab": {
          "base_uri": "https://localhost:8080/"
        },
        "id": "8PmeC3p0URON",
        "outputId": "06e979b4-4b00-4f28-e819-fc835b4519b6"
      },
      "execution_count": 69,
      "outputs": [
        {
          "output_type": "stream",
          "name": "stdout",
          "text": [
            "1000 10 100\n"
          ]
        }
      ]
    },
    {
      "cell_type": "code",
      "source": [
        "func_pack(1,2,3,4,5,6)"
      ],
      "metadata": {
        "colab": {
          "base_uri": "https://localhost:8080/"
        },
        "id": "Lu3SPo1yT0Cr",
        "outputId": "25df7b3e-e71b-49aa-9bc5-14b623fa6b0a"
      },
      "execution_count": 67,
      "outputs": [
        {
          "output_type": "stream",
          "name": "stdout",
          "text": [
            "1\n",
            "2\n",
            "3\n",
            "4\n",
            "5\n",
            "6\n"
          ]
        }
      ]
    },
    {
      "cell_type": "code",
      "source": [
        "from sklearn.linear_model import LogisticRegression"
      ],
      "metadata": {
        "id": "UDVhfK3lUF3z"
      },
      "execution_count": 70,
      "outputs": []
    },
    {
      "cell_type": "code",
      "source": [
        "params = {\n",
        "    'dual':  False, 'tol': 0.0001, 'C':  1, 'fit_intercept': True, 'intercept_scaling': 1\n",
        "}\n",
        "\n",
        "LogisticRegression(**params)"
      ],
      "metadata": {
        "colab": {
          "base_uri": "https://localhost:8080/",
          "height": 74
        },
        "id": "JS35ZO4qVIBb",
        "outputId": "236a4e7d-d0e9-43a5-b9f9-d1e250ef3ad6"
      },
      "execution_count": 72,
      "outputs": [
        {
          "output_type": "execute_result",
          "data": {
            "text/plain": [
              "LogisticRegression(C=1)"
            ],
            "text/html": [
              "<style>#sk-container-id-2 {color: black;background-color: white;}#sk-container-id-2 pre{padding: 0;}#sk-container-id-2 div.sk-toggleable {background-color: white;}#sk-container-id-2 label.sk-toggleable__label {cursor: pointer;display: block;width: 100%;margin-bottom: 0;padding: 0.3em;box-sizing: border-box;text-align: center;}#sk-container-id-2 label.sk-toggleable__label-arrow:before {content: \"▸\";float: left;margin-right: 0.25em;color: #696969;}#sk-container-id-2 label.sk-toggleable__label-arrow:hover:before {color: black;}#sk-container-id-2 div.sk-estimator:hover label.sk-toggleable__label-arrow:before {color: black;}#sk-container-id-2 div.sk-toggleable__content {max-height: 0;max-width: 0;overflow: hidden;text-align: left;background-color: #f0f8ff;}#sk-container-id-2 div.sk-toggleable__content pre {margin: 0.2em;color: black;border-radius: 0.25em;background-color: #f0f8ff;}#sk-container-id-2 input.sk-toggleable__control:checked~div.sk-toggleable__content {max-height: 200px;max-width: 100%;overflow: auto;}#sk-container-id-2 input.sk-toggleable__control:checked~label.sk-toggleable__label-arrow:before {content: \"▾\";}#sk-container-id-2 div.sk-estimator input.sk-toggleable__control:checked~label.sk-toggleable__label {background-color: #d4ebff;}#sk-container-id-2 div.sk-label input.sk-toggleable__control:checked~label.sk-toggleable__label {background-color: #d4ebff;}#sk-container-id-2 input.sk-hidden--visually {border: 0;clip: rect(1px 1px 1px 1px);clip: rect(1px, 1px, 1px, 1px);height: 1px;margin: -1px;overflow: hidden;padding: 0;position: absolute;width: 1px;}#sk-container-id-2 div.sk-estimator {font-family: monospace;background-color: #f0f8ff;border: 1px dotted black;border-radius: 0.25em;box-sizing: border-box;margin-bottom: 0.5em;}#sk-container-id-2 div.sk-estimator:hover {background-color: #d4ebff;}#sk-container-id-2 div.sk-parallel-item::after {content: \"\";width: 100%;border-bottom: 1px solid gray;flex-grow: 1;}#sk-container-id-2 div.sk-label:hover label.sk-toggleable__label {background-color: #d4ebff;}#sk-container-id-2 div.sk-serial::before {content: \"\";position: absolute;border-left: 1px solid gray;box-sizing: border-box;top: 0;bottom: 0;left: 50%;z-index: 0;}#sk-container-id-2 div.sk-serial {display: flex;flex-direction: column;align-items: center;background-color: white;padding-right: 0.2em;padding-left: 0.2em;position: relative;}#sk-container-id-2 div.sk-item {position: relative;z-index: 1;}#sk-container-id-2 div.sk-parallel {display: flex;align-items: stretch;justify-content: center;background-color: white;position: relative;}#sk-container-id-2 div.sk-item::before, #sk-container-id-2 div.sk-parallel-item::before {content: \"\";position: absolute;border-left: 1px solid gray;box-sizing: border-box;top: 0;bottom: 0;left: 50%;z-index: -1;}#sk-container-id-2 div.sk-parallel-item {display: flex;flex-direction: column;z-index: 1;position: relative;background-color: white;}#sk-container-id-2 div.sk-parallel-item:first-child::after {align-self: flex-end;width: 50%;}#sk-container-id-2 div.sk-parallel-item:last-child::after {align-self: flex-start;width: 50%;}#sk-container-id-2 div.sk-parallel-item:only-child::after {width: 0;}#sk-container-id-2 div.sk-dashed-wrapped {border: 1px dashed gray;margin: 0 0.4em 0.5em 0.4em;box-sizing: border-box;padding-bottom: 0.4em;background-color: white;}#sk-container-id-2 div.sk-label label {font-family: monospace;font-weight: bold;display: inline-block;line-height: 1.2em;}#sk-container-id-2 div.sk-label-container {text-align: center;}#sk-container-id-2 div.sk-container {/* jupyter's `normalize.less` sets `[hidden] { display: none; }` but bootstrap.min.css set `[hidden] { display: none !important; }` so we also need the `!important` here to be able to override the default hidden behavior on the sphinx rendered scikit-learn.org. See: https://github.com/scikit-learn/scikit-learn/issues/21755 */display: inline-block !important;position: relative;}#sk-container-id-2 div.sk-text-repr-fallback {display: none;}</style><div id=\"sk-container-id-2\" class=\"sk-top-container\"><div class=\"sk-text-repr-fallback\"><pre>LogisticRegression(C=1)</pre><b>In a Jupyter environment, please rerun this cell to show the HTML representation or trust the notebook. <br />On GitHub, the HTML representation is unable to render, please try loading this page with nbviewer.org.</b></div><div class=\"sk-container\" hidden><div class=\"sk-item\"><div class=\"sk-estimator sk-toggleable\"><input class=\"sk-toggleable__control sk-hidden--visually\" id=\"sk-estimator-id-2\" type=\"checkbox\" checked><label for=\"sk-estimator-id-2\" class=\"sk-toggleable__label sk-toggleable__label-arrow\">LogisticRegression</label><div class=\"sk-toggleable__content\"><pre>LogisticRegression(C=1)</pre></div></div></div></div></div>"
            ]
          },
          "metadata": {},
          "execution_count": 72
        }
      ]
    },
    {
      "cell_type": "code",
      "source": [],
      "metadata": {
        "id": "hiLwOB_gVoxL"
      },
      "execution_count": null,
      "outputs": []
    }
  ]
}