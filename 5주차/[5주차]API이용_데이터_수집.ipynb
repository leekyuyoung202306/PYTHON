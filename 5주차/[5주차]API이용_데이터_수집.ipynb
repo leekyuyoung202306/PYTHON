{
  "nbformat": 4,
  "nbformat_minor": 0,
  "metadata": {
    "colab": {
      "provenance": []
    },
    "kernelspec": {
      "name": "python3",
      "display_name": "Python 3"
    },
    "language_info": {
      "name": "python"
    }
  },
  "cells": [
    {
      "cell_type": "markdown",
      "source": [
        "  - 네이버 개발자 api 신청\n",
        "  - https://developers.naver.com/products/service-api/search/search.md\n",
        "  - 예제 : https://developers.naver.com/docs/serviceapi/search/blog/blog.md#python"
      ],
      "metadata": {
        "id": "VoJCOPXa11_0"
      }
    },
    {
      "cell_type": "code",
      "source": [
        "# 네이버 검색 API 예제 - 블로그 검색\n",
        "import os\n",
        "import sys\n",
        "import urllib.request\n",
        "import json\n",
        "import html\n",
        "import pandas as pd"
      ],
      "metadata": {
        "id": "TbbTXMcU120C"
      },
      "execution_count": 64,
      "outputs": []
    },
    {
      "cell_type": "code",
      "source": [
        "def getNaverSearch(srcText='뉴스',display=10,start=1):\n",
        "  client_id = \"UZngLtPI8EwAfuzTadat\"\n",
        "  client_secret = \"aNw38dR4UQ\"\n",
        "  encText = urllib.parse.quote(srcText)\n",
        "  url = f\"https://openapi.naver.com/v1/search/news?query={encText}&display={display}&start={start}\" # JSON 결과\n",
        "  # url = \"https://openapi.naver.com/v1/search/blog.xml?query=\" + encText # XML 결과\n",
        "  request = urllib.request.Request(url)\n",
        "  request.add_header(\"X-Naver-Client-Id\",client_id)\n",
        "  request.add_header(\"X-Naver-Client-Secret\",client_secret)\n",
        "  response = urllib.request.urlopen(request)\n",
        "  rescode = response.getcode()\n",
        "  if(rescode==200):\n",
        "      response_body = response.read()\n",
        "      return json.loads(response_body.decode('utf-8'))\n",
        "  else:\n",
        "      print(\"Error Code:\" + rescode)\n",
        "      return None"
      ],
      "metadata": {
        "id": "uwQaersh4Ujr"
      },
      "execution_count": 57,
      "outputs": []
    },
    {
      "cell_type": "code",
      "source": [
        "result = getNaverSearch('홍수')"
      ],
      "metadata": {
        "id": "p3DOn_WM6V_c"
      },
      "execution_count": 58,
      "outputs": []
    },
    {
      "cell_type": "code",
      "source": [
        "def makeCSV(result):\n",
        "  title_list,originallink_list,link_lilst,description_list = [],[],[],[]\n",
        "  for data in result['items']:\n",
        "    title_list.append(html.unescape( data['title']))\n",
        "    originallink_list.append(html.unescape(data['originallink']))\n",
        "    link_lilst.append(html.unescape(data['link']))\n",
        "    description_list.append(html.unescape(data['description']))\n",
        "  return pd.DataFrame({'title':title_list,'description':description_list,'originallink':originallink_list,'link':link_lilst,})"
      ],
      "metadata": {
        "id": "_M_lfBfO_jpR"
      },
      "execution_count": 68,
      "outputs": []
    },
    {
      "cell_type": "code",
      "source": [
        "df_lists = []\n",
        "for i in range(1,11):\n",
        "  df_lists.append(makeCSV(getNaverSearch('홍수',start=1)))"
      ],
      "metadata": {
        "id": "oYsYOJx0HHw-"
      },
      "execution_count": 81,
      "outputs": []
    },
    {
      "cell_type": "code",
      "source": [
        "df_lists[0]"
      ],
      "metadata": {
        "id": "iI-d9FQ4H40v"
      },
      "execution_count": null,
      "outputs": []
    },
    {
      "cell_type": "code",
      "source": [],
      "metadata": {
        "id": "gdKx-h0zIp-n"
      },
      "execution_count": null,
      "outputs": []
    }
  ]
}