{
  "nbformat": 4,
  "nbformat_minor": 0,
  "metadata": {
    "colab": {
      "provenance": []
    },
    "kernelspec": {
      "name": "python3",
      "display_name": "Python 3"
    },
    "language_info": {
      "name": "python"
    }
  },
  "cells": [
    {
      "cell_type": "markdown",
      "source": [
        "  - 네이버 개발자 api 신청\n",
        "  - https://developers.naver.com/products/service-api/search/search.md\n",
        "  - 예제 : https://developers.naver.com/docs/serviceapi/search/blog/blog.md#python"
      ],
      "metadata": {
        "id": "VoJCOPXa11_0"
      }
    },
    {
      "cell_type": "code",
      "source": [
        "# 네이버 검색 API 예제 - 블로그 검색\n",
        "import os\n",
        "import sys\n",
        "import urllib.request\n",
        "import json\n",
        "import html\n",
        "import pandas as pd"
      ],
      "metadata": {
        "id": "TbbTXMcU120C"
      },
      "execution_count": 1,
      "outputs": []
    },
    {
      "cell_type": "code",
      "source": [
        "def getNaverSearch(srcText='뉴스',type=\"news\",display=10,start=1):\n",
        "  client_id = \"UZngLtPI8EwAfuzTadat\"\n",
        "  client_secret = \"aNw38dR4UQ\"\n",
        "  encText = urllib.parse.quote(srcText)\n",
        "  url = f\"https://openapi.naver.com/v1/search/{type}?query={encText}&display={display}&start={start}\" # JSON 결과\n",
        "  # url = \"https://openapi.naver.com/v1/search/blog.xml?query=\" + encText # XML 결과\n",
        "  request = urllib.request.Request(url)\n",
        "  request.add_header(\"X-Naver-Client-Id\",client_id)\n",
        "  request.add_header(\"X-Naver-Client-Secret\",client_secret)\n",
        "  response = urllib.request.urlopen(request)\n",
        "  rescode = response.getcode()\n",
        "  if(rescode==200):\n",
        "      response_body = response.read()\n",
        "      return json.loads(response_body.decode('utf-8'))\n",
        "  else:\n",
        "      print(\"Error Code:\" + rescode)\n",
        "      return None"
      ],
      "metadata": {
        "id": "uwQaersh4Ujr"
      },
      "execution_count": 2,
      "outputs": []
    },
    {
      "cell_type": "code",
      "source": [
        "def makeCSV(result,*args):\n",
        "  title_list,originallink_list,link_lilst,description_list = [],[],[],[]\n",
        "  keys_ = {}\n",
        "  for data in result['items']:\n",
        "    for keyname in args:\n",
        "      if keyname not in keys_:\n",
        "        keys_[keyname] = []\n",
        "      keys_[keyname].append(html.unescape( data[keyname]))\n",
        "\n",
        "  return pd.DataFrame(keys_)"
      ],
      "metadata": {
        "id": "_M_lfBfO_jpR"
      },
      "execution_count": 14,
      "outputs": []
    },
    {
      "cell_type": "code",
      "source": [
        "makeCSV(getNaverSearch('홍수'), 'title','description')"
      ],
      "metadata": {
        "colab": {
          "base_uri": "https://localhost:8080/",
          "height": 580
        },
        "id": "jwjxIszfWFfG",
        "outputId": "2d2e7e3b-6a8d-4a34-c537-a4675932408b"
      },
      "execution_count": 16,
      "outputs": [
        {
          "output_type": "execute_result",
          "data": {
            "text/plain": [
              "                                               title  \\\n",
              "0                              홍준표 대구시장, 호우 대비 현장 점검   \n",
              "1                              주말 호우 대비 주요 댐 안전대책 점검   \n",
              "2  수자원공사, 기후위기 시대 대비 위한 혁신기구 ‘K-water Inno-WAVE 추...   \n",
              "3                 5년 전 ‘수해백서’ 내놓고도 ‘사후약방문’ 실행 안 한 청주   \n",
              "4        \"4대강 보 해체, '反4대강단체'에 휘둘렸다\"…환경부 \"16개보 모두 존치\"   \n",
              "5              대구시 동구청, 천연기념물 도동 측백나무 숲 보존과 활용 토의 진행   \n",
              "6            [연합시론] '금강·영산강 보 해체' 감사 결과, 물관리 재검토 불가피   \n",
              "7       수자원공사 낙동강유역본부, 환경단체 낙동강 보 안전성 우려에 '안전 문제없...   \n",
              "8                       감사원 “전 정부 환경장관, 4대강위 불공정 구성”   \n",
              "9                  감사원 \"文정부 금강·영산강 보 해체, 환경부 위법 있었다\"   \n",
              "\n",
              "                                         description  \n",
              "0  홍 시장은 시와 K-water 직원들을 격려하고, 태풍이나 집중 호우로 <b>홍수<...  \n",
              "1  홍 시장은 댐 관리자들과 현장 회의를 통해 <b>홍수</b> 조절과 물 공급에 관한...  \n",
              "2  공사는 ‘K-water Inno-WAVE 추진단` 운영을 통해, 기후위기 심화 및 ...  \n",
              "3  그런데 미호강은 국가 하천이라 금강유역환경청의 하천기본계획에 따라 설계<b>홍수</...  \n",
              "4  <b>홍수</b>가 잦아지면서 이명박 정부에서 추진된 4대강 사업을 재평가해야 한다...  \n",
              "5  동구청에 따르면 \"토의는 기후변화로 인한 가뭄·<b>홍수</b>와 같은 재난 상황에...  \n",
              "6  4대강 사업은 이명박 정부 당시 <b>홍수</b> 피해를 예방하고 수자원을 확보하며...  \n",
              "7  수자원공사는 <b>홍수</b>기가 끝나는 대로 재발을 막기 위한 항구적인 복구 작업...  \n",
              "8  사의재는 “윤석열 정부가 감사원의 맹탕 발표와 <b>홍수</b> 사태를 계기로 국가...  \n",
              "9  ◇ 이번이 5번째 감사…\"정치 감사 해당 안 돼\" 4대강 사업은 이명박 정부 당시 ...  "
            ],
            "text/html": [
              "\n",
              "\n",
              "  <div id=\"df-9a10f1c5-7514-4ae6-bda8-60d2adb82c54\">\n",
              "    <div class=\"colab-df-container\">\n",
              "      <div>\n",
              "<style scoped>\n",
              "    .dataframe tbody tr th:only-of-type {\n",
              "        vertical-align: middle;\n",
              "    }\n",
              "\n",
              "    .dataframe tbody tr th {\n",
              "        vertical-align: top;\n",
              "    }\n",
              "\n",
              "    .dataframe thead th {\n",
              "        text-align: right;\n",
              "    }\n",
              "</style>\n",
              "<table border=\"1\" class=\"dataframe\">\n",
              "  <thead>\n",
              "    <tr style=\"text-align: right;\">\n",
              "      <th></th>\n",
              "      <th>title</th>\n",
              "      <th>description</th>\n",
              "    </tr>\n",
              "  </thead>\n",
              "  <tbody>\n",
              "    <tr>\n",
              "      <th>0</th>\n",
              "      <td>홍준표 대구시장, 호우 대비 현장 점검</td>\n",
              "      <td>홍 시장은 시와 K-water 직원들을 격려하고, 태풍이나 집중 호우로 &lt;b&gt;홍수&lt;...</td>\n",
              "    </tr>\n",
              "    <tr>\n",
              "      <th>1</th>\n",
              "      <td>주말 호우 대비 주요 댐 안전대책 점검</td>\n",
              "      <td>홍 시장은 댐 관리자들과 현장 회의를 통해 &lt;b&gt;홍수&lt;/b&gt; 조절과 물 공급에 관한...</td>\n",
              "    </tr>\n",
              "    <tr>\n",
              "      <th>2</th>\n",
              "      <td>수자원공사, 기후위기 시대 대비 위한 혁신기구 ‘K-water Inno-WAVE 추...</td>\n",
              "      <td>공사는 ‘K-water Inno-WAVE 추진단` 운영을 통해, 기후위기 심화 및 ...</td>\n",
              "    </tr>\n",
              "    <tr>\n",
              "      <th>3</th>\n",
              "      <td>5년 전 ‘수해백서’ 내놓고도 ‘사후약방문’ 실행 안 한 청주</td>\n",
              "      <td>그런데 미호강은 국가 하천이라 금강유역환경청의 하천기본계획에 따라 설계&lt;b&gt;홍수&lt;/...</td>\n",
              "    </tr>\n",
              "    <tr>\n",
              "      <th>4</th>\n",
              "      <td>\"4대강 보 해체, '反4대강단체'에 휘둘렸다\"…환경부 \"16개보 모두 존치\"</td>\n",
              "      <td>&lt;b&gt;홍수&lt;/b&gt;가 잦아지면서 이명박 정부에서 추진된 4대강 사업을 재평가해야 한다...</td>\n",
              "    </tr>\n",
              "    <tr>\n",
              "      <th>5</th>\n",
              "      <td>대구시 동구청, 천연기념물 도동 측백나무 숲 보존과 활용 토의 진행</td>\n",
              "      <td>동구청에 따르면 \"토의는 기후변화로 인한 가뭄·&lt;b&gt;홍수&lt;/b&gt;와 같은 재난 상황에...</td>\n",
              "    </tr>\n",
              "    <tr>\n",
              "      <th>6</th>\n",
              "      <td>[연합시론] '금강·영산강 보 해체' 감사 결과, 물관리 재검토 불가피</td>\n",
              "      <td>4대강 사업은 이명박 정부 당시 &lt;b&gt;홍수&lt;/b&gt; 피해를 예방하고 수자원을 확보하며...</td>\n",
              "    </tr>\n",
              "    <tr>\n",
              "      <th>7</th>\n",
              "      <td>수자원공사 낙동강유역본부, 환경단체 낙동강 보 안전성 우려에 '안전 문제없...</td>\n",
              "      <td>수자원공사는 &lt;b&gt;홍수&lt;/b&gt;기가 끝나는 대로 재발을 막기 위한 항구적인 복구 작업...</td>\n",
              "    </tr>\n",
              "    <tr>\n",
              "      <th>8</th>\n",
              "      <td>감사원 “전 정부 환경장관, 4대강위 불공정 구성”</td>\n",
              "      <td>사의재는 “윤석열 정부가 감사원의 맹탕 발표와 &lt;b&gt;홍수&lt;/b&gt; 사태를 계기로 국가...</td>\n",
              "    </tr>\n",
              "    <tr>\n",
              "      <th>9</th>\n",
              "      <td>감사원 \"文정부 금강·영산강 보 해체, 환경부 위법 있었다\"</td>\n",
              "      <td>◇ 이번이 5번째 감사…\"정치 감사 해당 안 돼\" 4대강 사업은 이명박 정부 당시 ...</td>\n",
              "    </tr>\n",
              "  </tbody>\n",
              "</table>\n",
              "</div>\n",
              "      <button class=\"colab-df-convert\" onclick=\"convertToInteractive('df-9a10f1c5-7514-4ae6-bda8-60d2adb82c54')\"\n",
              "              title=\"Convert this dataframe to an interactive table.\"\n",
              "              style=\"display:none;\">\n",
              "\n",
              "  <svg xmlns=\"http://www.w3.org/2000/svg\" height=\"24px\"viewBox=\"0 0 24 24\"\n",
              "       width=\"24px\">\n",
              "    <path d=\"M0 0h24v24H0V0z\" fill=\"none\"/>\n",
              "    <path d=\"M18.56 5.44l.94 2.06.94-2.06 2.06-.94-2.06-.94-.94-2.06-.94 2.06-2.06.94zm-11 1L8.5 8.5l.94-2.06 2.06-.94-2.06-.94L8.5 2.5l-.94 2.06-2.06.94zm10 10l.94 2.06.94-2.06 2.06-.94-2.06-.94-.94-2.06-.94 2.06-2.06.94z\"/><path d=\"M17.41 7.96l-1.37-1.37c-.4-.4-.92-.59-1.43-.59-.52 0-1.04.2-1.43.59L10.3 9.45l-7.72 7.72c-.78.78-.78 2.05 0 2.83L4 21.41c.39.39.9.59 1.41.59.51 0 1.02-.2 1.41-.59l7.78-7.78 2.81-2.81c.8-.78.8-2.07 0-2.86zM5.41 20L4 18.59l7.72-7.72 1.47 1.35L5.41 20z\"/>\n",
              "  </svg>\n",
              "      </button>\n",
              "\n",
              "\n",
              "\n",
              "    <div id=\"df-a68aaf65-df0b-4c2e-b24e-32f1799c4d2c\">\n",
              "      <button class=\"colab-df-quickchart\" onclick=\"quickchart('df-a68aaf65-df0b-4c2e-b24e-32f1799c4d2c')\"\n",
              "              title=\"Suggest charts.\"\n",
              "              style=\"display:none;\">\n",
              "\n",
              "<svg xmlns=\"http://www.w3.org/2000/svg\" height=\"24px\"viewBox=\"0 0 24 24\"\n",
              "     width=\"24px\">\n",
              "    <g>\n",
              "        <path d=\"M19 3H5c-1.1 0-2 .9-2 2v14c0 1.1.9 2 2 2h14c1.1 0 2-.9 2-2V5c0-1.1-.9-2-2-2zM9 17H7v-7h2v7zm4 0h-2V7h2v10zm4 0h-2v-4h2v4z\"/>\n",
              "    </g>\n",
              "</svg>\n",
              "      </button>\n",
              "    </div>\n",
              "\n",
              "<style>\n",
              "  .colab-df-quickchart {\n",
              "    background-color: #E8F0FE;\n",
              "    border: none;\n",
              "    border-radius: 50%;\n",
              "    cursor: pointer;\n",
              "    display: none;\n",
              "    fill: #1967D2;\n",
              "    height: 32px;\n",
              "    padding: 0 0 0 0;\n",
              "    width: 32px;\n",
              "  }\n",
              "\n",
              "  .colab-df-quickchart:hover {\n",
              "    background-color: #E2EBFA;\n",
              "    box-shadow: 0px 1px 2px rgba(60, 64, 67, 0.3), 0px 1px 3px 1px rgba(60, 64, 67, 0.15);\n",
              "    fill: #174EA6;\n",
              "  }\n",
              "\n",
              "  [theme=dark] .colab-df-quickchart {\n",
              "    background-color: #3B4455;\n",
              "    fill: #D2E3FC;\n",
              "  }\n",
              "\n",
              "  [theme=dark] .colab-df-quickchart:hover {\n",
              "    background-color: #434B5C;\n",
              "    box-shadow: 0px 1px 3px 1px rgba(0, 0, 0, 0.15);\n",
              "    filter: drop-shadow(0px 1px 2px rgba(0, 0, 0, 0.3));\n",
              "    fill: #FFFFFF;\n",
              "  }\n",
              "</style>\n",
              "\n",
              "    <script>\n",
              "      async function quickchart(key) {\n",
              "        const containerElement = document.querySelector('#' + key);\n",
              "        const charts = await google.colab.kernel.invokeFunction(\n",
              "            'suggestCharts', [key], {});\n",
              "      }\n",
              "    </script>\n",
              "\n",
              "      <script>\n",
              "\n",
              "function displayQuickchartButton(domScope) {\n",
              "  let quickchartButtonEl =\n",
              "    domScope.querySelector('#df-a68aaf65-df0b-4c2e-b24e-32f1799c4d2c button.colab-df-quickchart');\n",
              "  quickchartButtonEl.style.display =\n",
              "    google.colab.kernel.accessAllowed ? 'block' : 'none';\n",
              "}\n",
              "\n",
              "        displayQuickchartButton(document);\n",
              "      </script>\n",
              "      <style>\n",
              "    .colab-df-container {\n",
              "      display:flex;\n",
              "      flex-wrap:wrap;\n",
              "      gap: 12px;\n",
              "    }\n",
              "\n",
              "    .colab-df-convert {\n",
              "      background-color: #E8F0FE;\n",
              "      border: none;\n",
              "      border-radius: 50%;\n",
              "      cursor: pointer;\n",
              "      display: none;\n",
              "      fill: #1967D2;\n",
              "      height: 32px;\n",
              "      padding: 0 0 0 0;\n",
              "      width: 32px;\n",
              "    }\n",
              "\n",
              "    .colab-df-convert:hover {\n",
              "      background-color: #E2EBFA;\n",
              "      box-shadow: 0px 1px 2px rgba(60, 64, 67, 0.3), 0px 1px 3px 1px rgba(60, 64, 67, 0.15);\n",
              "      fill: #174EA6;\n",
              "    }\n",
              "\n",
              "    [theme=dark] .colab-df-convert {\n",
              "      background-color: #3B4455;\n",
              "      fill: #D2E3FC;\n",
              "    }\n",
              "\n",
              "    [theme=dark] .colab-df-convert:hover {\n",
              "      background-color: #434B5C;\n",
              "      box-shadow: 0px 1px 3px 1px rgba(0, 0, 0, 0.15);\n",
              "      filter: drop-shadow(0px 1px 2px rgba(0, 0, 0, 0.3));\n",
              "      fill: #FFFFFF;\n",
              "    }\n",
              "  </style>\n",
              "\n",
              "      <script>\n",
              "        const buttonEl =\n",
              "          document.querySelector('#df-9a10f1c5-7514-4ae6-bda8-60d2adb82c54 button.colab-df-convert');\n",
              "        buttonEl.style.display =\n",
              "          google.colab.kernel.accessAllowed ? 'block' : 'none';\n",
              "\n",
              "        async function convertToInteractive(key) {\n",
              "          const element = document.querySelector('#df-9a10f1c5-7514-4ae6-bda8-60d2adb82c54');\n",
              "          const dataTable =\n",
              "            await google.colab.kernel.invokeFunction('convertToInteractive',\n",
              "                                                     [key], {});\n",
              "          if (!dataTable) return;\n",
              "\n",
              "          const docLinkHtml = 'Like what you see? Visit the ' +\n",
              "            '<a target=\"_blank\" href=https://colab.research.google.com/notebooks/data_table.ipynb>data table notebook</a>'\n",
              "            + ' to learn more about interactive tables.';\n",
              "          element.innerHTML = '';\n",
              "          dataTable['output_type'] = 'display_data';\n",
              "          await google.colab.output.renderOutput(dataTable, element);\n",
              "          const docLink = document.createElement('div');\n",
              "          docLink.innerHTML = docLinkHtml;\n",
              "          element.appendChild(docLink);\n",
              "        }\n",
              "      </script>\n",
              "    </div>\n",
              "  </div>\n"
            ]
          },
          "metadata": {},
          "execution_count": 16
        }
      ]
    },
    {
      "cell_type": "code",
      "source": [
        "df_lists = []\n",
        "display = 100\n",
        "for i in range(10):\n",
        "  start = i*display+1\n",
        "  df_lists.append(makeCSV(getNaverSearch('홍수',start=start,display=display)))"
      ],
      "metadata": {
        "id": "oYsYOJx0HHw-"
      },
      "execution_count": null,
      "outputs": []
    },
    {
      "cell_type": "markdown",
      "source": [
        "리스트에 담긴 dataFrame 병합하기(세로로)"
      ],
      "metadata": {
        "id": "tEkcxPt9Lmgv"
      }
    },
    {
      "cell_type": "code",
      "source": [
        "merge_df = pd.concat(df_lists)\n",
        "merge_df_du = merge_df.drop_duplicates(subset='title')"
      ],
      "metadata": {
        "id": "iI-d9FQ4H40v"
      },
      "execution_count": null,
      "outputs": []
    },
    {
      "cell_type": "code",
      "source": [
        "merge_df_du"
      ],
      "metadata": {
        "id": "CbHcqFk7Nlr8"
      },
      "execution_count": null,
      "outputs": []
    },
    {
      "cell_type": "markdown",
      "source": [
        "### 네이버 뉴스검색 말고 응용해서 다른 카테고리의 해당하는 검색 만들기"
      ],
      "metadata": {
        "id": "xQMba1NMPtAp"
      }
    },
    {
      "cell_type": "code",
      "source": [],
      "metadata": {
        "id": "PjU8D6k8PlLc"
      },
      "execution_count": null,
      "outputs": []
    }
  ]
}